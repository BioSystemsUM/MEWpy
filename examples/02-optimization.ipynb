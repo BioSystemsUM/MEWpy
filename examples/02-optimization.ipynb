{
 "cells": [
  {
   "cell_type": "markdown",
   "metadata": {},
   "source": [
    "# Strain Optimization in MEWpy\n",
    "\n",
    "This notebook exemplifies how MEWpy may be used in strain optimization tasks.\n",
    "We will consider the as goal to increase the production of succinate in E. coli in anaerobic conditions."
   ]
  },
  {
   "cell_type": "code",
   "execution_count": 1,
   "metadata": {},
   "outputs": [],
   "source": [
    "%matplotlib inline\n",
    "from cobra.io.sbml import read_sbml_model\n",
    "model = read_sbml_model(\"models/ec/e_coli_core.xml.gz\")"
   ]
  },
  {
   "cell_type": "markdown",
   "metadata": {},
   "source": [
    "Analyse the model's default medium"
   ]
  },
  {
   "cell_type": "code",
   "execution_count": 2,
   "metadata": {},
   "outputs": [
    {
     "data": {
      "text/html": [
       "<div>\n",
       "<style scoped>\n",
       "    .dataframe tbody tr th:only-of-type {\n",
       "        vertical-align: middle;\n",
       "    }\n",
       "\n",
       "    .dataframe tbody tr th {\n",
       "        vertical-align: top;\n",
       "    }\n",
       "\n",
       "    .dataframe thead th {\n",
       "        text-align: right;\n",
       "    }\n",
       "</style>\n",
       "<table border=\"1\" class=\"dataframe\">\n",
       "  <thead>\n",
       "    <tr style=\"text-align: right;\">\n",
       "      <th></th>\n",
       "      <th>lb</th>\n",
       "      <th>ub</th>\n",
       "    </tr>\n",
       "  </thead>\n",
       "  <tbody>\n",
       "    <tr>\n",
       "      <th>EX_co2_e</th>\n",
       "      <td>-10.0</td>\n",
       "      <td>inf</td>\n",
       "    </tr>\n",
       "    <tr>\n",
       "      <th>EX_glc__D_e</th>\n",
       "      <td>-10.0</td>\n",
       "      <td>inf</td>\n",
       "    </tr>\n",
       "    <tr>\n",
       "      <th>EX_h_e</th>\n",
       "      <td>-10.0</td>\n",
       "      <td>inf</td>\n",
       "    </tr>\n",
       "    <tr>\n",
       "      <th>EX_h2o_e</th>\n",
       "      <td>-10.0</td>\n",
       "      <td>inf</td>\n",
       "    </tr>\n",
       "    <tr>\n",
       "      <th>EX_nh4_e</th>\n",
       "      <td>-10.0</td>\n",
       "      <td>inf</td>\n",
       "    </tr>\n",
       "    <tr>\n",
       "      <th>EX_o2_e</th>\n",
       "      <td>-10.0</td>\n",
       "      <td>inf</td>\n",
       "    </tr>\n",
       "    <tr>\n",
       "      <th>EX_pi_e</th>\n",
       "      <td>-10.0</td>\n",
       "      <td>inf</td>\n",
       "    </tr>\n",
       "  </tbody>\n",
       "</table>\n",
       "</div>"
      ],
      "text/plain": [
       "               lb   ub\n",
       "EX_co2_e    -10.0  inf\n",
       "EX_glc__D_e -10.0  inf\n",
       "EX_h_e      -10.0  inf\n",
       "EX_h2o_e    -10.0  inf\n",
       "EX_nh4_e    -10.0  inf\n",
       "EX_o2_e     -10.0  inf\n",
       "EX_pi_e     -10.0  inf"
      ]
     },
     "execution_count": 2,
     "metadata": {},
     "output_type": "execute_result"
    }
   ],
   "source": [
    "from mewpy.simulation.environment import Environment\n",
    "import pandas as pd\n",
    "\n",
    "medium = Environment.from_model(model).get_compounds()\n",
    "env = Environment.from_compounds(medium)\n",
    "pd.DataFrame(env,index=['lb','ub']).T\n"
   ]
  },
  {
   "cell_type": "markdown",
   "metadata": {},
   "source": [
    "Commercial solvers are better suited to address optimization tasks, such, as stain designs. As such, you might want to check the linear programming solvers available on your system:"
   ]
  },
  {
   "cell_type": "markdown",
   "metadata": {},
   "source": [
    "## Optimization problem\n",
    "\n",
    "Before running any optimization let us verify the production rate as well as the theoretic maximum rate of succinate in anaerobic conditions.\n",
    "To ease the script reutilization we will define some reaction identifiers as constants:"
   ]
  },
  {
   "cell_type": "code",
   "execution_count": 3,
   "metadata": {},
   "outputs": [],
   "source": [
    "BIOMASS = 'BIOMASS_Ecoli_core_w_GAM'\n",
    "PRODUCT = 'EX_succ_e'\n",
    "O2 = 'EX_o2_e'\n",
    "GLC = 'EX_glc__D_e'"
   ]
  },
  {
   "cell_type": "code",
   "execution_count": 4,
   "metadata": {},
   "outputs": [],
   "source": [
    "anaerobic = {O2: (0, 0)}"
   ]
  },
  {
   "cell_type": "code",
   "execution_count": 5,
   "metadata": {},
   "outputs": [
    {
     "data": {
      "text/html": [
       "<div>\n",
       "<style scoped>\n",
       "    .dataframe tbody tr th:only-of-type {\n",
       "        vertical-align: middle;\n",
       "    }\n",
       "\n",
       "    .dataframe tbody tr th {\n",
       "        vertical-align: top;\n",
       "    }\n",
       "\n",
       "    .dataframe thead th {\n",
       "        text-align: right;\n",
       "    }\n",
       "</style>\n",
       "<table border=\"1\" class=\"dataframe\">\n",
       "  <thead>\n",
       "    <tr style=\"text-align: right;\">\n",
       "      <th></th>\n",
       "      <th>Minimum</th>\n",
       "      <th>Maximum</th>\n",
       "    </tr>\n",
       "    <tr>\n",
       "      <th>Reaction ID</th>\n",
       "      <th></th>\n",
       "      <th></th>\n",
       "    </tr>\n",
       "  </thead>\n",
       "  <tbody>\n",
       "    <tr>\n",
       "      <th>EX_succ_e</th>\n",
       "      <td>0.0</td>\n",
       "      <td>1.911</td>\n",
       "    </tr>\n",
       "  </tbody>\n",
       "</table>\n",
       "</div>"
      ],
      "text/plain": [
       "             Minimum  Maximum\n",
       "Reaction ID                  \n",
       "EX_succ_e        0.0    1.911"
      ]
     },
     "execution_count": 5,
     "metadata": {},
     "output_type": "execute_result"
    }
   ],
   "source": [
    "from mewpy.simulation import get_simulator\n",
    "sim = get_simulator(model,envcond=anaerobic)\n",
    "sim.FVA(reactions=[PRODUCT],format='df')"
   ]
  },
  {
   "cell_type": "code",
   "execution_count": 6,
   "metadata": {},
   "outputs": [
    {
     "data": {
      "text/html": [
       "<div>\n",
       "<style scoped>\n",
       "    .dataframe tbody tr th:only-of-type {\n",
       "        vertical-align: middle;\n",
       "    }\n",
       "\n",
       "    .dataframe tbody tr th {\n",
       "        vertical-align: top;\n",
       "    }\n",
       "\n",
       "    .dataframe thead th {\n",
       "        text-align: right;\n",
       "    }\n",
       "</style>\n",
       "<table border=\"1\" class=\"dataframe\">\n",
       "  <thead>\n",
       "    <tr style=\"text-align: right;\">\n",
       "      <th></th>\n",
       "      <th>Flux rate</th>\n",
       "    </tr>\n",
       "    <tr>\n",
       "      <th>Reaction ID</th>\n",
       "      <th></th>\n",
       "    </tr>\n",
       "  </thead>\n",
       "  <tbody>\n",
       "    <tr>\n",
       "      <th>BIOMASS_Ecoli_core_w_GAM</th>\n",
       "      <td>0.211663</td>\n",
       "    </tr>\n",
       "    <tr>\n",
       "      <th>EX_succ_e</th>\n",
       "      <td>-0.000000</td>\n",
       "    </tr>\n",
       "  </tbody>\n",
       "</table>\n",
       "</div>"
      ],
      "text/plain": [
       "                          Flux rate\n",
       "Reaction ID                        \n",
       "BIOMASS_Ecoli_core_w_GAM   0.211663\n",
       "EX_succ_e                 -0.000000"
      ]
     },
     "execution_count": 6,
     "metadata": {},
     "output_type": "execute_result"
    }
   ],
   "source": [
    "sim.simulate(method='pFBA').find([BIOMASS,PRODUCT])"
   ]
  },
  {
   "cell_type": "markdown",
   "metadata": {},
   "source": [
    "The optimization problem requires the definition of one or more objective functions.\n",
    "In the next example, we define as objective the maximization of the Biomass-Product coupled yield and the maximization of the targeted product. MEWpy makes available other optimization objectives, please refer to the documentation."
   ]
  },
  {
   "cell_type": "code",
   "execution_count": 7,
   "metadata": {},
   "outputs": [],
   "source": [
    "from mewpy.optimization.evaluation import BPCY, TargetFlux\n",
    "\n",
    "objs = [ \n",
    "    BPCY(BIOMASS, PRODUCT),\n",
    "    TargetFlux(PRODUCT)\n",
    "]"
   ]
  },
  {
   "cell_type": "markdown",
   "metadata": {},
   "source": [
    "We can now define the growth medium and select the type of modification.\n",
    "We will begin by performing gene deletion (GKO) by selecting the appropriate problem instance, GKOProblem. "
   ]
  },
  {
   "cell_type": "code",
   "execution_count": 8,
   "metadata": {},
   "outputs": [],
   "source": [
    "from mewpy.problems import GKOProblem, GOUProblem\n",
    "\n",
    "problem = GOUProblem(model, objs, envcond=anaerobic, candidate_max_size=6)"
   ]
  },
  {
   "cell_type": "markdown",
   "metadata": {},
   "source": [
    "Other optimization methods/strategies may be used:\n",
    "* Reaction deletion: *RKOProblem*\n",
    "* Reaction under or over expression: *ROUProblem*\n",
    "* Gene under or over expression: *GOUProblem*\n",
    "\n",
    "A problem may include other parameters, such as the maximum number of genetic modification, a list of specitic targets, or non-targets (reactions/genes not to be modified). "
   ]
  },
  {
   "cell_type": "markdown",
   "metadata": {},
   "source": [
    "## Optimization algorithm\n",
    "\n",
    "An optimization engine to solve the problem need to be instanciated. MEWpy uses Evolutionary Algorithms (EA) for this task.\n",
    "\n",
    "EAs are algorithms that mimic the Darwinian evolutionary process, where a population of solutions evolves generation after generation. In the example we define a maximum of 50 generations.  "
   ]
  },
  {
   "cell_type": "code",
   "execution_count": 9,
   "metadata": {},
   "outputs": [],
   "source": [
    "from mewpy.optimization import EA\n",
    "ea = EA(problem, max_generations=50)"
   ]
  },
  {
   "cell_type": "markdown",
   "metadata": {},
   "source": [
    "For informations on additional options you may use the `help` command"
   ]
  },
  {
   "cell_type": "code",
   "execution_count": 10,
   "metadata": {},
   "outputs": [
    {
     "name": "stdout",
     "output_type": "stream",
     "text": [
      "Help on function EA in module mewpy.optimization:\n",
      "\n",
      "EA(problem, initial_population=[], max_generations=100, mp=True, visualizer=False, algorithm=None, **kwargs)\n",
      "    EA running helper. Returns an instance of the EA that reflects the global user configuration settings\n",
      "    such as preferred engine and algorithm.\n",
      "    \n",
      "    :param problem: The optimization problem.\n",
      "    :param list initial_population: The EA initial population. Default [].\n",
      "    :param int max_generations: The number of iterations of the EA (stopping criteria). Default globally defined.\n",
      "    :param bool mp: If multiprocessing should be used. Default True.\n",
      "    :param bool visualizer: If the pareto font should be displayed. Requires a graphic environment. Default False.\n",
      "    \n",
      "    Additional optional arguments:\n",
      "    \n",
      "    :param int population_size: EA population size.\n",
      "    \n",
      "    :returns: An instance of an EA optimizer.\n",
      "\n"
     ]
    }
   ],
   "source": [
    "help(EA)"
   ]
  },
  {
   "cell_type": "markdown",
   "metadata": {},
   "source": [
    "The EA may contemplate aditional parameters such as the identification of a specific algorithm (e.g. SPEA2, NSGAII, NSGAIII, GDE3, etc.), multiprocessing options, initial seeding, etc.\n",
    "\n",
    "To start the optimization process invoke the run method (Optionaly you may define if the final solutions are to be simplified or not):"
   ]
  },
  {
   "cell_type": "code",
   "execution_count": 11,
   "metadata": {},
   "outputs": [
    {
     "name": "stdout",
     "output_type": "stream",
     "text": [
      "Running NSGAII\n",
      "Eval(s)|     Worst      Best    Median   Average   Std Dev|     Worst      Best    Median   Average   Std Dev|\n",
      "    100|  -0.000000  0.266637  0.000000  0.006158  0.033969|  -0.000000  1.688172  0.000000  0.042855  0.244044|\n",
      "    200|  -0.000000  0.266637  0.000000  0.010654  0.044653|  -0.000000  1.688172  0.000000  0.068829  0.299252|\n",
      "    300|  -0.000000  0.266637  0.000000  0.024513  0.063245|  -0.000000  1.688172  0.000000  0.158682  0.419538|\n",
      "    400|  -0.000000  0.767297  0.001487  0.072776  0.110659|  -0.000000  8.463113  0.118061  0.571190  1.178402|\n",
      "    500|  0.002974  0.841615  0.134651  0.169714  0.134501|  0.236123  8.463113  0.708368  1.332257  1.546143|\n",
      "    600|  0.005995  0.841615  0.266637  0.291164  0.211285|  0.708368  8.463113  1.670515  2.622942  2.159009|\n",
      "    700|  0.055979  0.841615  0.266637  0.423851  0.281819|  1.652859  8.463113  1.652859  3.951755  2.754033|\n",
      "    800|  0.045781  0.841615  0.841615  0.677449  0.283058|  1.652859  8.463113  7.055392  6.904555  1.179080|\n",
      "    900|  0.055979  0.841615  0.841615  0.692345  0.308206|  7.055392  8.463113  7.055392  7.322859  0.552250|\n",
      "   1000|  0.055979  0.841615  0.841615  0.558786  0.377106|  7.055392  8.463113  7.055392  7.562172  0.675706|\n",
      "   1100|  0.055979  0.841615  0.055979  0.315732  0.369103|  7.055392  8.463113  8.463113  7.993540  0.660288|\n",
      "   1200|  0.055979  0.841615  0.055979  0.150749  0.255167|  7.055392  8.463113  8.463113  8.289162  0.458331|\n",
      "   1300|  0.055979  0.841615  0.055979  0.151242  0.255031|  7.055392  8.463113  8.463113  8.284137  0.459150|\n",
      "   1400|  0.055979  0.841615  0.055979  0.151735  0.254894|  7.055392  8.463113  8.463113  8.279112  0.459913|\n",
      "   1500|  0.055979  0.841615  0.055979  0.160085  0.263626|  7.055392  8.463113  8.463113  8.260010  0.475885|\n",
      "   1600|  0.055979  0.841615  0.055979  0.168435  0.271821|  7.055392  8.463113  8.463113  8.240908  0.490596|\n",
      "   1700|  0.055979  0.841615  0.055979  0.183532  0.284523|  7.055392  8.463113  8.463113  8.213240  0.505753|\n",
      "   1800|  0.055979  0.841615  0.055979  0.191882  0.291462|  7.055392  8.463113  8.463113  8.194138  0.517896|\n",
      "   1900|  0.055979  0.841615  0.055979  0.214836  0.308296|  7.055392  8.463113  8.463113  8.152394  0.540367|\n",
      "   2000|  0.055979  0.841615  0.055979  0.237789  0.322628|  7.055392  8.463113  8.463113  8.110649  0.558830|\n",
      "   2100|  0.055979  0.841615  0.055979  0.268600  0.339074|  7.055392  8.463113  8.463113  8.054827  0.581052|\n",
      "   2200|  0.055979  0.841615  0.055979  0.291553  0.348634|  7.055392  8.463113  8.463113  8.013083  0.591414|\n",
      "   2300|  0.055979  0.841615  0.055979  0.330003  0.361693|  7.055392  8.463113  8.463113  7.944448  0.606216|\n",
      "   2400|  0.055979  0.841615  0.105311  0.376092  0.371679|  7.055392  8.463113  7.960626  7.863000  0.614008|\n",
      "   2500|  0.055979  0.841615  0.105311  0.422181  0.375793|  7.055392  8.463113  7.960626  7.781553  0.610940|\n",
      "   2600|  0.055979  0.841615  0.441278  0.444918  0.374936|  7.055392  8.463113  7.652401  7.741072  0.600840|\n",
      "   2700|  0.055979  0.841615  0.777245  0.483150  0.371361|  7.055392  8.463113  7.344176  7.673702  0.583092|\n",
      "   2800|  0.055979  0.841615  0.105311  0.442432  0.376155|  7.055392  8.463113  7.960626  7.722686  0.595674|\n",
      "   2900|  0.000000  0.841615  0.795126  0.479164  0.374615|  7.055392  8.965600  7.317806  7.670823  0.593864|\n",
      "   3000|  0.000000  0.841615  0.795126  0.516220  0.366587|  7.055392  8.965600  7.317806  7.610495  0.563660|\n",
      "   3100|  0.000000  0.841615  0.795126  0.536234  0.361002|  7.055392  8.965600  7.317806  7.592131  0.558188|\n",
      "   3200|  0.000000  0.841615  0.795126  0.564170  0.351547|  7.055392  8.965600  7.317806  7.559690  0.542486|\n",
      "   3300|  0.000000  0.841615  0.795126  0.576764  0.347286|  7.055392  8.965600  7.317806  7.555180  0.550175|\n",
      "   3400|  0.000000  0.841615  0.795126  0.589851  0.341776|  7.055392  8.965600  7.317806  7.545645  0.551710|\n",
      "   3500|  0.000000  0.841615  0.795126  0.595859  0.338375|  7.055392  8.965600  7.317806  7.543898  0.548935|\n",
      "   3600|  0.000000  0.841615  0.819916  0.509225  0.375544|  7.055392  8.965600  7.181809  7.637603  0.631987|\n",
      "   3700|  0.000000  0.841615  0.819916  0.501737  0.377045|  7.055392  8.965600  7.181809  7.654908  0.634739|\n",
      "   3800|  0.000000  0.841615  0.819916  0.523543  0.374503|  7.055392  8.965600  7.181809  7.634771  0.637688|\n",
      "   3900|  0.000000  0.841615  0.819916  0.546120  0.369255|  7.055392  8.965600  7.181809  7.605849  0.629486|\n",
      "   4000|  0.000000  0.841615  0.819916  0.545218  0.370774|  7.055392  8.965600  7.181809  7.620391  0.642343|\n",
      "   4100|  0.000000  0.841615  0.819916  0.559477  0.367513|  7.055392  8.965600  7.181809  7.620321  0.645371|\n",
      "   4200|  0.000000  0.841615  0.819916  0.565688  0.366129|  7.055392  8.965600  7.181809  7.630080  0.651726|\n",
      "   4300|  0.000000  0.841615  0.819916  0.571347  0.364265|  7.055392  8.965600  7.181809  7.653381  0.653961|\n",
      "   4400|  0.000000  0.841615  0.819916  0.593839  0.354573|  7.055392  8.965600  7.181809  7.638478  0.634455|\n",
      "   4500|  0.000000  0.841615  0.818675  0.600570  0.351602|  7.055392  8.965600  7.457416  7.648731  0.630821|\n",
      "   4600|  0.000000  0.841615  0.819916  0.657627  0.323329|  7.055392  8.965600  7.181809  7.614675  0.632187|\n",
      "   4700|  0.000000  0.841615  0.819916  0.672410  0.310768|  7.055392  8.965600  7.181809  7.610686  0.608639|\n",
      "   4800|  0.000000  0.841615  0.817435  0.687410  0.297047|  7.055392  8.965600  7.733022  7.605433  0.585169|\n",
      "   4900|  0.000000  0.841615  0.817435  0.702583  0.281921|  7.055392  8.965600  7.733022  7.599428  0.560361|\n",
      "   5000|  0.000000  0.841615  0.817435  0.702297  0.281802|  7.055392  8.965600  7.733022  7.600848  0.560058|\n"
     ]
    }
   ],
   "source": [
    "solutions = ea.run(simplify=False)"
   ]
  },
  {
   "cell_type": "markdown",
   "metadata": {},
   "source": [
    "We can now list the set of solutions:"
   ]
  },
  {
   "cell_type": "code",
   "execution_count": 12,
   "metadata": {},
   "outputs": [
    {
     "data": {
      "text/html": [
       "<div>\n",
       "<style scoped>\n",
       "    .dataframe tbody tr th:only-of-type {\n",
       "        vertical-align: middle;\n",
       "    }\n",
       "\n",
       "    .dataframe tbody tr th {\n",
       "        vertical-align: top;\n",
       "    }\n",
       "\n",
       "    .dataframe thead th {\n",
       "        text-align: right;\n",
       "    }\n",
       "</style>\n",
       "<table border=\"1\" class=\"dataframe\">\n",
       "  <thead>\n",
       "    <tr style=\"text-align: right;\">\n",
       "      <th></th>\n",
       "      <th>Modification</th>\n",
       "      <th>Size</th>\n",
       "      <th>BPCY</th>\n",
       "      <th>TargetFlux</th>\n",
       "    </tr>\n",
       "  </thead>\n",
       "  <tbody>\n",
       "    <tr>\n",
       "      <th>0</th>\n",
       "      <td>{'b1136': 0, 'b0720': 16}</td>\n",
       "      <td>2</td>\n",
       "      <td>0.000000</td>\n",
       "      <td>8.965600</td>\n",
       "    </tr>\n",
       "    <tr>\n",
       "      <th>1</th>\n",
       "      <td>{'b3956': 16}</td>\n",
       "      <td>1</td>\n",
       "      <td>0.841615</td>\n",
       "      <td>7.055392</td>\n",
       "    </tr>\n",
       "    <tr>\n",
       "      <th>2</th>\n",
       "      <td>{'b1276': 2, 'b3956': 16, 'b1136': 0.0625, 'b0...</td>\n",
       "      <td>5</td>\n",
       "      <td>0.106922</td>\n",
       "      <td>8.082415</td>\n",
       "    </tr>\n",
       "    <tr>\n",
       "      <th>3</th>\n",
       "      <td>{'b1276': 2, 'b3956': 16, 'b1136': 0.5, 'b2279...</td>\n",
       "      <td>6</td>\n",
       "      <td>0.788951</td>\n",
       "      <td>7.858399</td>\n",
       "    </tr>\n",
       "    <tr>\n",
       "      <th>4</th>\n",
       "      <td>{'b0720': 16, 'b1524': 8, 'b2976': 4, 'b1621':...</td>\n",
       "      <td>5</td>\n",
       "      <td>0.055979</td>\n",
       "      <td>8.463113</td>\n",
       "    </tr>\n",
       "    <tr>\n",
       "      <th>...</th>\n",
       "      <td>...</td>\n",
       "      <td>...</td>\n",
       "      <td>...</td>\n",
       "      <td>...</td>\n",
       "    </tr>\n",
       "    <tr>\n",
       "      <th>57</th>\n",
       "      <td>{'b2286': 4, 'b1276': 2, 'b3956': 16, 'b1136':...</td>\n",
       "      <td>4</td>\n",
       "      <td>0.817435</td>\n",
       "      <td>7.733022</td>\n",
       "    </tr>\n",
       "    <tr>\n",
       "      <th>58</th>\n",
       "      <td>{'b2976': 16, 'b2279': 0.03125, 'b3956': 16, '...</td>\n",
       "      <td>4</td>\n",
       "      <td>0.841615</td>\n",
       "      <td>7.055392</td>\n",
       "    </tr>\n",
       "    <tr>\n",
       "      <th>59</th>\n",
       "      <td>{'b2286': 4, 'b3956': 16, 'b3870': 8}</td>\n",
       "      <td>3</td>\n",
       "      <td>0.819916</td>\n",
       "      <td>7.181809</td>\n",
       "    </tr>\n",
       "    <tr>\n",
       "      <th>60</th>\n",
       "      <td>{'b3870': 2, 'b2279': 0.03125, 'b3956': 16, 'b...</td>\n",
       "      <td>4</td>\n",
       "      <td>0.837525</td>\n",
       "      <td>7.079811</td>\n",
       "    </tr>\n",
       "    <tr>\n",
       "      <th>61</th>\n",
       "      <td>{'b1276': 2, 'b1621': 0.25, 'b3956': 16, 'b113...</td>\n",
       "      <td>5</td>\n",
       "      <td>0.788951</td>\n",
       "      <td>7.858399</td>\n",
       "    </tr>\n",
       "  </tbody>\n",
       "</table>\n",
       "<p>62 rows × 4 columns</p>\n",
       "</div>"
      ],
      "text/plain": [
       "                                         Modification  Size      BPCY  \\\n",
       "0                           {'b1136': 0, 'b0720': 16}     2  0.000000   \n",
       "1                                       {'b3956': 16}     1  0.841615   \n",
       "2   {'b1276': 2, 'b3956': 16, 'b1136': 0.0625, 'b0...     5  0.106922   \n",
       "3   {'b1276': 2, 'b3956': 16, 'b1136': 0.5, 'b2279...     6  0.788951   \n",
       "4   {'b0720': 16, 'b1524': 8, 'b2976': 4, 'b1621':...     5  0.055979   \n",
       "..                                                ...   ...       ...   \n",
       "57  {'b2286': 4, 'b1276': 2, 'b3956': 16, 'b1136':...     4  0.817435   \n",
       "58  {'b2976': 16, 'b2279': 0.03125, 'b3956': 16, '...     4  0.841615   \n",
       "59              {'b2286': 4, 'b3956': 16, 'b3870': 8}     3  0.819916   \n",
       "60  {'b3870': 2, 'b2279': 0.03125, 'b3956': 16, 'b...     4  0.837525   \n",
       "61  {'b1276': 2, 'b1621': 0.25, 'b3956': 16, 'b113...     5  0.788951   \n",
       "\n",
       "    TargetFlux  \n",
       "0     8.965600  \n",
       "1     7.055392  \n",
       "2     8.082415  \n",
       "3     7.858399  \n",
       "4     8.463113  \n",
       "..         ...  \n",
       "57    7.733022  \n",
       "58    7.055392  \n",
       "59    7.181809  \n",
       "60    7.079811  \n",
       "61    7.858399  \n",
       "\n",
       "[62 rows x 4 columns]"
      ]
     },
     "execution_count": 12,
     "metadata": {},
     "output_type": "execute_result"
    }
   ],
   "source": [
    "df=ea.dataframe()\n",
    "df"
   ]
  },
  {
   "cell_type": "markdown",
   "metadata": {},
   "source": [
    "Or view the best solutions on the objective space, the so called Pareto front:"
   ]
  },
  {
   "cell_type": "code",
   "execution_count": 13,
   "metadata": {},
   "outputs": [
    {
     "data": {
      "image/png": "[encoded data removed]",
      "text/plain": [
       "<Figure size 432x288 with 1 Axes>"
      ]
     },
     "metadata": {
      "needs_background": "light"
     },
     "output_type": "display_data"
    }
   ],
   "source": [
    "ea.plot()"
   ]
  },
  {
   "cell_type": "markdown",
   "metadata": {},
   "source": [
    "We can save the solutions to file:"
   ]
  },
  {
   "cell_type": "code",
   "execution_count": 14,
   "metadata": {},
   "outputs": [],
   "source": [
    "df.to_csv('solutions.csv')"
   ]
  },
  {
   "cell_type": "markdown",
   "metadata": {},
   "source": [
    "or performe additional analysis on the solutions by retreiving the simulator used during the optimization.\n",
    " "
   ]
  },
  {
   "cell_type": "markdown",
   "metadata": {},
   "source": [
    "## Working with solutions\n",
    "\n",
    "Let us select the first solution:"
   ]
  },
  {
   "cell_type": "code",
   "execution_count": 29,
   "metadata": {},
   "outputs": [
    {
     "data": {
      "text/plain": [
       "[0.8416154944771648, 7.055392263603662];{'b3956': 16}"
      ]
     },
     "execution_count": 29,
     "metadata": {},
     "output_type": "execute_result"
    }
   ],
   "source": [
    "solution = solutions[1]\n",
    "solution"
   ]
  },
  {
   "cell_type": "markdown",
   "metadata": {},
   "source": [
    "The solution is converted to metabolict constraints to be applied to the model. We can access these constrains using *solution.constraints*"
   ]
  },
  {
   "cell_type": "code",
   "execution_count": 30,
   "metadata": {},
   "outputs": [
    {
     "data": {
      "text/plain": [
       "{'PPC': (9.704661580184096, 10000)}"
      ]
     },
     "execution_count": 30,
     "metadata": {},
     "output_type": "execute_result"
    }
   ],
   "source": [
    "solution.constraints"
   ]
  },
  {
   "cell_type": "markdown",
   "metadata": {},
   "source": [
    "We may run phenotypic simulations with the solution using those constraints. Note that there is no need to redefine the medium as they are persistent in the simulator instance."
   ]
  },
  {
   "cell_type": "code",
   "execution_count": 31,
   "metadata": {},
   "outputs": [
    {
     "data": {
      "text/plain": [
       "objective: 0.0\n",
       "Status: OPTIMAL\n",
       "Constraints: OrderedDict([('EX_o2_e', (0, 0)), ('PPC', (9.704661580184096, 10000))])\n",
       "Method:ROOM"
      ]
     },
     "execution_count": 31,
     "metadata": {},
     "output_type": "execute_result"
    }
   ],
   "source": [
    "sim = problem.simulator\n",
    "res=sim.simulate(constraints=solution.constraints,method='ROOM')\n",
    "res"
   ]
  },
  {
   "cell_type": "code",
   "execution_count": 32,
   "metadata": {},
   "outputs": [
    {
     "data": {
      "text/html": [
       "<div>\n",
       "<style scoped>\n",
       "    .dataframe tbody tr th:only-of-type {\n",
       "        vertical-align: middle;\n",
       "    }\n",
       "\n",
       "    .dataframe tbody tr th {\n",
       "        vertical-align: top;\n",
       "    }\n",
       "\n",
       "    .dataframe thead th {\n",
       "        text-align: right;\n",
       "    }\n",
       "</style>\n",
       "<table border=\"1\" class=\"dataframe\">\n",
       "  <thead>\n",
       "    <tr style=\"text-align: right;\">\n",
       "      <th></th>\n",
       "      <th>Flux rate</th>\n",
       "    </tr>\n",
       "    <tr>\n",
       "      <th>Reaction ID</th>\n",
       "      <th></th>\n",
       "    </tr>\n",
       "  </thead>\n",
       "  <tbody>\n",
       "    <tr>\n",
       "      <th>ACALD</th>\n",
       "      <td>-1.976120</td>\n",
       "    </tr>\n",
       "    <tr>\n",
       "      <th>ACALDt</th>\n",
       "      <td>-0.001000</td>\n",
       "    </tr>\n",
       "    <tr>\n",
       "      <th>ACKr</th>\n",
       "      <td>-9.156312</td>\n",
       "    </tr>\n",
       "    <tr>\n",
       "      <th>ACONTa</th>\n",
       "      <td>0.128676</td>\n",
       "    </tr>\n",
       "    <tr>\n",
       "      <th>ACONTb</th>\n",
       "      <td>0.128676</td>\n",
       "    </tr>\n",
       "    <tr>\n",
       "      <th>...</th>\n",
       "      <td>...</td>\n",
       "    </tr>\n",
       "    <tr>\n",
       "      <th>TALA</th>\n",
       "      <td>-0.021337</td>\n",
       "    </tr>\n",
       "    <tr>\n",
       "      <th>THD2</th>\n",
       "      <td>0.000000</td>\n",
       "    </tr>\n",
       "    <tr>\n",
       "      <th>TKT1</th>\n",
       "      <td>-0.021337</td>\n",
       "    </tr>\n",
       "    <tr>\n",
       "      <th>TKT2</th>\n",
       "      <td>-0.064392</td>\n",
       "    </tr>\n",
       "    <tr>\n",
       "      <th>TPI</th>\n",
       "      <td>9.881366</td>\n",
       "    </tr>\n",
       "  </tbody>\n",
       "</table>\n",
       "<p>95 rows × 1 columns</p>\n",
       "</div>"
      ],
      "text/plain": [
       "             Flux rate\n",
       "Reaction ID           \n",
       "ACALD        -1.976120\n",
       "ACALDt       -0.001000\n",
       "ACKr         -9.156312\n",
       "ACONTa        0.128676\n",
       "ACONTb        0.128676\n",
       "...                ...\n",
       "TALA         -0.021337\n",
       "THD2          0.000000\n",
       "TKT1         -0.021337\n",
       "TKT2         -0.064392\n",
       "TPI           9.881366\n",
       "\n",
       "[95 rows x 1 columns]"
      ]
     },
     "execution_count": 32,
     "metadata": {},
     "output_type": "execute_result"
    }
   ],
   "source": [
    "res.dataframe"
   ]
  },
  {
   "cell_type": "code",
   "execution_count": 33,
   "metadata": {},
   "outputs": [
    {
     "data": {
      "text/html": [
       "<div>\n",
       "<style scoped>\n",
       "    .dataframe tbody tr th:only-of-type {\n",
       "        vertical-align: middle;\n",
       "    }\n",
       "\n",
       "    .dataframe tbody tr th {\n",
       "        vertical-align: top;\n",
       "    }\n",
       "\n",
       "    .dataframe thead th {\n",
       "        text-align: right;\n",
       "    }\n",
       "</style>\n",
       "<table border=\"1\" class=\"dataframe\">\n",
       "  <thead>\n",
       "    <tr style=\"text-align: right;\">\n",
       "      <th></th>\n",
       "      <th>Flux rate</th>\n",
       "    </tr>\n",
       "    <tr>\n",
       "      <th>Reaction ID</th>\n",
       "      <th></th>\n",
       "    </tr>\n",
       "  </thead>\n",
       "  <tbody>\n",
       "    <tr>\n",
       "      <th>BIOMASS_Ecoli_core_w_GAM</th>\n",
       "      <td>0.119266</td>\n",
       "    </tr>\n",
       "    <tr>\n",
       "      <th>EX_succ_e</th>\n",
       "      <td>7.054901</td>\n",
       "    </tr>\n",
       "  </tbody>\n",
       "</table>\n",
       "</div>"
      ],
      "text/plain": [
       "                          Flux rate\n",
       "Reaction ID                        \n",
       "BIOMASS_Ecoli_core_w_GAM   0.119266\n",
       "EX_succ_e                  7.054901"
      ]
     },
     "execution_count": 33,
     "metadata": {},
     "output_type": "execute_result"
    }
   ],
   "source": [
    "res.find([PRODUCT,BIOMASS])"
   ]
  },
  {
   "cell_type": "code",
   "execution_count": 34,
   "metadata": {},
   "outputs": [
    {
     "data": {
      "text/plain": [
       "<AxesSubplot:xlabel='BIOMASS_Ecoli_core_w_GAM', ylabel='EX_succ_e'>"
      ]
     },
     "execution_count": 34,
     "metadata": {},
     "output_type": "execute_result"
    },
    {
     "data": {
      "image/png": "[encoded data removed]",
      "text/plain": [
       "<Figure size 432x288 with 1 Axes>"
      ]
     },
     "metadata": {
      "needs_background": "light"
     },
     "output_type": "display_data"
    }
   ],
   "source": [
    "from mewpy.visualization.envelope import plot_flux_envelope\n",
    "\n",
    "plot_flux_envelope(sim,BIOMASS,PRODUCT,constraints = solution.constraints)"
   ]
  },
  {
   "cell_type": "markdown",
   "metadata": {},
   "source": [
    "## Exercice 1\n",
    "\n",
    "Alter the notebook to run a gene over/under-expression (GOUProblem) optimization task. You may also try other optimization objectives (replacing or adding new objectives) such as `CandidateSize`, `ModificationType` or `BPCY_FVA`."
   ]
  },
  {
   "cell_type": "markdown",
   "metadata": {},
   "source": [
    "## Exercice 2\n",
    "\n",
    "Alter the notebook to find possible genetic modifications for the increased production of ethanol (EX_etoh_e)"
   ]
  },
  {
   "cell_type": "markdown",
   "metadata": {},
   "source": [
    "# Simulating user defined modifications\n",
    "\n",
    "Genetic modifications at the gene, enzyme, transcription or regulatory levels need to be translated to the (pseudo) reaction level. This task is problem dependent and consequently requires the instantiation of a problem. If we do not intend run any optimization task, there is no need to define optimization objectives."
   ]
  },
  {
   "cell_type": "code",
   "execution_count": 21,
   "metadata": {},
   "outputs": [],
   "source": [
    "problem = GOUProblem(model,[], envcond=anaerobic)\n",
    "sim = problem.simulator"
   ]
  },
  {
   "cell_type": "markdown",
   "metadata": {},
   "source": [
    "A solution for a GOUProblem is a dictionary of genes' expression folds, e.g.:"
   ]
  },
  {
   "cell_type": "code",
   "execution_count": 22,
   "metadata": {},
   "outputs": [],
   "source": [
    "solution = {'b3956': 8, 'b2914': 4}"
   ]
  },
  {
   "cell_type": "markdown",
   "metadata": {},
   "source": [
    "You may get information on the genes"
   ]
  },
  {
   "cell_type": "code",
   "execution_count": 23,
   "metadata": {},
   "outputs": [
    {
     "data": {
      "text/html": [
       "<div>\n",
       "<style scoped>\n",
       "    .dataframe tbody tr th:only-of-type {\n",
       "        vertical-align: middle;\n",
       "    }\n",
       "\n",
       "    .dataframe tbody tr th {\n",
       "        vertical-align: top;\n",
       "    }\n",
       "\n",
       "    .dataframe thead th {\n",
       "        text-align: right;\n",
       "    }\n",
       "</style>\n",
       "<table border=\"1\" class=\"dataframe\">\n",
       "  <thead>\n",
       "    <tr style=\"text-align: right;\">\n",
       "      <th></th>\n",
       "      <th>name</th>\n",
       "      <th>reactions</th>\n",
       "    </tr>\n",
       "    <tr>\n",
       "      <th>id</th>\n",
       "      <th></th>\n",
       "      <th></th>\n",
       "    </tr>\n",
       "  </thead>\n",
       "  <tbody>\n",
       "    <tr>\n",
       "      <th>b3956</th>\n",
       "      <td></td>\n",
       "      <td>[PPC]</td>\n",
       "    </tr>\n",
       "    <tr>\n",
       "      <th>b2914</th>\n",
       "      <td></td>\n",
       "      <td>[RPI]</td>\n",
       "    </tr>\n",
       "  </tbody>\n",
       "</table>\n",
       "</div>"
      ],
      "text/plain": [
       "      name reactions\n",
       "id                  \n",
       "b3956          [PPC]\n",
       "b2914          [RPI]"
      ]
     },
     "execution_count": 23,
     "metadata": {},
     "output_type": "execute_result"
    }
   ],
   "source": [
    "sim.find_genes('b3956|b2914')"
   ]
  },
  {
   "cell_type": "markdown",
   "metadata": {},
   "source": [
    "The gene expressions are converted by the problem into reaction constraints:"
   ]
  },
  {
   "cell_type": "code",
   "execution_count": 24,
   "metadata": {},
   "outputs": [
    {
     "data": {
      "text/plain": [
       "{'PPC': (4.852330790092048, 10000), 'RPI': (-10000, -0.608573313078965)}"
      ]
     },
     "execution_count": 24,
     "metadata": {},
     "output_type": "execute_result"
    }
   ],
   "source": [
    "constraints = problem.solution_to_constraints(solution)\n",
    "constraints"
   ]
  },
  {
   "cell_type": "markdown",
   "metadata": {},
   "source": [
    "that are used to run phenotypic simulations:"
   ]
  },
  {
   "cell_type": "code",
   "execution_count": 25,
   "metadata": {},
   "outputs": [
    {
     "data": {
      "text/html": [
       "<div>\n",
       "<style scoped>\n",
       "    .dataframe tbody tr th:only-of-type {\n",
       "        vertical-align: middle;\n",
       "    }\n",
       "\n",
       "    .dataframe tbody tr th {\n",
       "        vertical-align: top;\n",
       "    }\n",
       "\n",
       "    .dataframe thead th {\n",
       "        text-align: right;\n",
       "    }\n",
       "</style>\n",
       "<table border=\"1\" class=\"dataframe\">\n",
       "  <thead>\n",
       "    <tr style=\"text-align: right;\">\n",
       "      <th></th>\n",
       "      <th>Flux rate</th>\n",
       "    </tr>\n",
       "    <tr>\n",
       "      <th>Reaction ID</th>\n",
       "      <th></th>\n",
       "    </tr>\n",
       "  </thead>\n",
       "  <tbody>\n",
       "    <tr>\n",
       "      <th>ACALD</th>\n",
       "      <td>-8.750027</td>\n",
       "    </tr>\n",
       "    <tr>\n",
       "      <th>ACALDt</th>\n",
       "      <td>0.000000</td>\n",
       "    </tr>\n",
       "    <tr>\n",
       "      <th>ACKr</th>\n",
       "      <td>-7.150130</td>\n",
       "    </tr>\n",
       "    <tr>\n",
       "      <th>ACONTa</th>\n",
       "      <td>0.170545</td>\n",
       "    </tr>\n",
       "    <tr>\n",
       "      <th>ACONTb</th>\n",
       "      <td>0.170545</td>\n",
       "    </tr>\n",
       "    <tr>\n",
       "      <th>...</th>\n",
       "      <td>...</td>\n",
       "    </tr>\n",
       "    <tr>\n",
       "      <th>TALA</th>\n",
       "      <td>0.466671</td>\n",
       "    </tr>\n",
       "    <tr>\n",
       "      <th>THD2</th>\n",
       "      <td>0.000000</td>\n",
       "    </tr>\n",
       "    <tr>\n",
       "      <th>TKT1</th>\n",
       "      <td>0.466671</td>\n",
       "    </tr>\n",
       "    <tr>\n",
       "      <th>TKT2</th>\n",
       "      <td>0.409607</td>\n",
       "    </tr>\n",
       "    <tr>\n",
       "      <th>TPI</th>\n",
       "      <td>9.347814</td>\n",
       "    </tr>\n",
       "  </tbody>\n",
       "</table>\n",
       "<p>95 rows × 1 columns</p>\n",
       "</div>"
      ],
      "text/plain": [
       "             Flux rate\n",
       "Reaction ID           \n",
       "ACALD        -8.750027\n",
       "ACALDt        0.000000\n",
       "ACKr         -7.150130\n",
       "ACONTa        0.170545\n",
       "ACONTb        0.170545\n",
       "...                ...\n",
       "TALA          0.466671\n",
       "THD2          0.000000\n",
       "TKT1          0.466671\n",
       "TKT2          0.409607\n",
       "TPI           9.347814\n",
       "\n",
       "[95 rows x 1 columns]"
      ]
     },
     "execution_count": 25,
     "metadata": {},
     "output_type": "execute_result"
    }
   ],
   "source": [
    "sim.simulate(constraints=constraints).find()"
   ]
  },
  {
   "cell_type": "markdown",
   "metadata": {},
   "source": [
    "This functionality allows, for example, to simulate a same genetic modification on different methods or using other GEMs.\n",
    "You may also use directly the problem instance to simulate the modifications:"
   ]
  },
  {
   "cell_type": "code",
   "execution_count": 26,
   "metadata": {},
   "outputs": [
    {
     "data": {
      "text/html": [
       "<div>\n",
       "<style scoped>\n",
       "    .dataframe tbody tr th:only-of-type {\n",
       "        vertical-align: middle;\n",
       "    }\n",
       "\n",
       "    .dataframe tbody tr th {\n",
       "        vertical-align: top;\n",
       "    }\n",
       "\n",
       "    .dataframe thead th {\n",
       "        text-align: right;\n",
       "    }\n",
       "</style>\n",
       "<table border=\"1\" class=\"dataframe\">\n",
       "  <thead>\n",
       "    <tr style=\"text-align: right;\">\n",
       "      <th></th>\n",
       "      <th>Flux rate</th>\n",
       "    </tr>\n",
       "    <tr>\n",
       "      <th>Reaction ID</th>\n",
       "      <th></th>\n",
       "    </tr>\n",
       "  </thead>\n",
       "  <tbody>\n",
       "    <tr>\n",
       "      <th>BIOMASS_Ecoli_core_w_GAM</th>\n",
       "      <td>0.158073</td>\n",
       "    </tr>\n",
       "    <tr>\n",
       "      <th>EX_succ_e</th>\n",
       "      <td>4.399357</td>\n",
       "    </tr>\n",
       "  </tbody>\n",
       "</table>\n",
       "</div>"
      ],
      "text/plain": [
       "                          Flux rate\n",
       "Reaction ID                        \n",
       "BIOMASS_Ecoli_core_w_GAM   0.158073\n",
       "EX_succ_e                  4.399357"
      ]
     },
     "execution_count": 26,
     "metadata": {},
     "output_type": "execute_result"
    }
   ],
   "source": [
    "problem.simulate(solution=solution,method='pFBA').find(['succ','BIOMASS'])"
   ]
  },
  {
   "cell_type": "code",
   "execution_count": 28,
   "metadata": {},
   "outputs": [
    {
     "data": {
      "text/html": [
       "<div>\n",
       "<style scoped>\n",
       "    .dataframe tbody tr th:only-of-type {\n",
       "        vertical-align: middle;\n",
       "    }\n",
       "\n",
       "    .dataframe tbody tr th {\n",
       "        vertical-align: top;\n",
       "    }\n",
       "\n",
       "    .dataframe thead th {\n",
       "        text-align: right;\n",
       "    }\n",
       "</style>\n",
       "<table border=\"1\" class=\"dataframe\">\n",
       "  <thead>\n",
       "    <tr style=\"text-align: right;\">\n",
       "      <th></th>\n",
       "      <th>Minimum</th>\n",
       "      <th>Maximum</th>\n",
       "    </tr>\n",
       "    <tr>\n",
       "      <th>Reaction ID</th>\n",
       "      <th></th>\n",
       "      <th></th>\n",
       "    </tr>\n",
       "  </thead>\n",
       "  <tbody>\n",
       "    <tr>\n",
       "      <th>EX_succ_e</th>\n",
       "      <td>0.0</td>\n",
       "      <td>5.649814</td>\n",
       "    </tr>\n",
       "  </tbody>\n",
       "</table>\n",
       "</div>"
      ],
      "text/plain": [
       "             Minimum   Maximum\n",
       "Reaction ID                   \n",
       "EX_succ_e        0.0  5.649814"
      ]
     },
     "execution_count": 28,
     "metadata": {},
     "output_type": "execute_result"
    }
   ],
   "source": [
    "problem.FVA('EX_succ_e', solution=solution, format='df')"
   ]
  },
  {
   "cell_type": "code",
   "execution_count": null,
   "metadata": {},
   "outputs": [],
   "source": []
  }
 ],
 "metadata": {
  "kernelspec": {
   "display_name": "Python 3 (ipykernel)",
   "language": "python",
   "name": "python3"
  },
  "language_info": {
   "codemirror_mode": {
    "name": "ipython",
    "version": 3
   },
   "file_extension": ".py",
   "mimetype": "text/x-python",
   "name": "python",
   "nbconvert_exporter": "python",
   "pygments_lexer": "ipython3",
   "version": "3.7.13"
  },
  "vscode": {
   "interpreter": {
    "hash": "4d63cecbd4ee7a4964b1e14fac35e632f419fb342d4e4353e8cedd6749d678e0"
   }
  }
 },
 "nbformat": 4,
 "nbformat_minor": 4
}
