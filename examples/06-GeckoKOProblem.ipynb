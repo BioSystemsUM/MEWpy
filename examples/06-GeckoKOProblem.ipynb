{
 "cells": [
  {
   "cell_type": "markdown",
   "metadata": {},
   "source": [
    "## MEWpy GECKO Example"
   ]
  },
  {
   "cell_type": "markdown",
   "metadata": {},
   "source": [
    "A GECKO model simulation and optimization example.\n",
    "\n",
    "We start by loading the GECKO model for yeast.\n",
    "The model may be loaded using the original implementation over COBRApy. "
   ]
  },
  {
   "cell_type": "code",
   "execution_count": 1,
   "metadata": {},
   "outputs": [],
   "source": [
    "# Using geckopy package.\n",
    "from geckopy.gecko import GeckoModel\n",
    "model = GeckoModel('single-pool')"
   ]
  },
  {
   "cell_type": "markdown",
   "metadata": {},
   "source": [
    "The Simulation class enables to easily perform simulations considering specific environmental conditions as well as other constraint, such protein knockouts or over/under expression. \n",
    " "
   ]
  },
  {
   "cell_type": "code",
   "execution_count": 2,
   "metadata": {},
   "outputs": [],
   "source": [
    "# Define environmental conditions (limit glucose consumption) \n",
    "envcond = {'r_1714_REV':(-10,1000)}\n",
    "\n",
    "from mewpy.simulation import get_simulator\n",
    "simul = get_simulator(model,envcond= envcond)"
   ]
  },
  {
   "cell_type": "markdown",
   "metadata": {},
   "source": [
    "We may list the proteins included in the model:"
   ]
  },
  {
   "cell_type": "code",
   "execution_count": 3,
   "metadata": {},
   "outputs": [],
   "source": [
    "# simul.proteins"
   ]
  },
  {
   "cell_type": "code",
   "execution_count": 4,
   "metadata": {},
   "outputs": [
    {
     "data": {
      "text/html": [
       "<div>\n",
       "<style scoped>\n",
       "    .dataframe tbody tr th:only-of-type {\n",
       "        vertical-align: middle;\n",
       "    }\n",
       "\n",
       "    .dataframe tbody tr th {\n",
       "        vertical-align: top;\n",
       "    }\n",
       "\n",
       "    .dataframe thead th {\n",
       "        text-align: right;\n",
       "    }\n",
       "</style>\n",
       "<table border=\"1\" class=\"dataframe\">\n",
       "  <thead>\n",
       "    <tr style=\"text-align: right;\">\n",
       "      <th></th>\n",
       "      <th>reactions</th>\n",
       "    </tr>\n",
       "    <tr>\n",
       "      <th>Protein</th>\n",
       "      <th></th>\n",
       "    </tr>\n",
       "  </thead>\n",
       "  <tbody>\n",
       "    <tr>\n",
       "      <th>Q06708</th>\n",
       "      <td>[r_3216No1, r_3217No1, r_3218No1, r_3219No1, r...</td>\n",
       "    </tr>\n",
       "    <tr>\n",
       "      <th>P0CX11</th>\n",
       "      <td>[r_0366No1, r_0366_REVNo1]</td>\n",
       "    </tr>\n",
       "    <tr>\n",
       "      <th>P00127</th>\n",
       "      <td>[r_0439No1]</td>\n",
       "    </tr>\n",
       "    <tr>\n",
       "      <th>P18562</th>\n",
       "      <td>[r_1074No1]</td>\n",
       "    </tr>\n",
       "    <tr>\n",
       "      <th>P13259</th>\n",
       "      <td>[r_0274No1]</td>\n",
       "    </tr>\n",
       "    <tr>\n",
       "      <th>...</th>\n",
       "      <td>...</td>\n",
       "    </tr>\n",
       "    <tr>\n",
       "      <th>P40581</th>\n",
       "      <td>[r_0483No5, r_0483_REVNo5]</td>\n",
       "    </tr>\n",
       "    <tr>\n",
       "      <th>Q07729</th>\n",
       "      <td>[r_0526No1]</td>\n",
       "    </tr>\n",
       "    <tr>\n",
       "      <th>P06700</th>\n",
       "      <td>[r_0767No1]</td>\n",
       "    </tr>\n",
       "    <tr>\n",
       "      <th>P42837</th>\n",
       "      <td>[r_3216No1, r_3217No1, r_3218No1, r_3219No1, r...</td>\n",
       "    </tr>\n",
       "    <tr>\n",
       "      <th>Q08959</th>\n",
       "      <td>[r_3098No1, r_3099No1, r_3100No1, r_3101No1, r...</td>\n",
       "    </tr>\n",
       "  </tbody>\n",
       "</table>\n",
       "<p>816 rows × 1 columns</p>\n",
       "</div>"
      ],
      "text/plain": [
       "                                                 reactions\n",
       "Protein                                                   \n",
       "Q06708   [r_3216No1, r_3217No1, r_3218No1, r_3219No1, r...\n",
       "P0CX11                          [r_0366No1, r_0366_REVNo1]\n",
       "P00127                                         [r_0439No1]\n",
       "P18562                                         [r_1074No1]\n",
       "P13259                                         [r_0274No1]\n",
       "...                                                    ...\n",
       "P40581                          [r_0483No5, r_0483_REVNo5]\n",
       "Q07729                                         [r_0526No1]\n",
       "P06700                                         [r_0767No1]\n",
       "P42837   [r_3216No1, r_3217No1, r_3218No1, r_3219No1, r...\n",
       "Q08959   [r_3098No1, r_3099No1, r_3100No1, r_3101No1, r...\n",
       "\n",
       "[816 rows x 1 columns]"
      ]
     },
     "execution_count": 4,
     "metadata": {},
     "output_type": "execute_result"
    }
   ],
   "source": [
    "simul.find_proteins()"
   ]
  },
  {
   "cell_type": "markdown",
   "metadata": {},
   "source": [
    "We start by running a Flux Balance Analysis phenotype prediction."
   ]
  },
  {
   "cell_type": "code",
   "execution_count": 5,
   "metadata": {},
   "outputs": [
    {
     "name": "stdout",
     "output_type": "stream",
     "text": [
      "objective: 0.3254251019507341\n",
      "Status: OPTIMAL\n",
      "Constraints: OrderedDict([('r_1714_REV', (-10, 1000))])\n",
      "Method:SimulationMethod.FBA\n"
     ]
    }
   ],
   "source": [
    "# FBA\n",
    "result =simul.simulate()\n",
    "print(result)"
   ]
  },
  {
   "cell_type": "markdown",
   "metadata": {},
   "source": [
    "We may check for individual protein usage (mmol/gDW):"
   ]
  },
  {
   "cell_type": "code",
   "execution_count": 6,
   "metadata": {},
   "outputs": [
    {
     "data": {
      "text/html": [
       "<div>\n",
       "<style scoped>\n",
       "    .dataframe tbody tr th:only-of-type {\n",
       "        vertical-align: middle;\n",
       "    }\n",
       "\n",
       "    .dataframe tbody tr th {\n",
       "        vertical-align: top;\n",
       "    }\n",
       "\n",
       "    .dataframe thead th {\n",
       "        text-align: right;\n",
       "    }\n",
       "</style>\n",
       "<table border=\"1\" class=\"dataframe\">\n",
       "  <thead>\n",
       "    <tr style=\"text-align: right;\">\n",
       "      <th></th>\n",
       "      <th>Flux rate</th>\n",
       "    </tr>\n",
       "    <tr>\n",
       "      <th>Reaction ID</th>\n",
       "      <th></th>\n",
       "    </tr>\n",
       "  </thead>\n",
       "  <tbody>\n",
       "    <tr>\n",
       "      <th>draw_prot_P52867</th>\n",
       "      <td>6.576609e-07</td>\n",
       "    </tr>\n",
       "  </tbody>\n",
       "</table>\n",
       "</div>"
      ],
      "text/plain": [
       "                     Flux rate\n",
       "Reaction ID                   \n",
       "draw_prot_P52867  6.576609e-07"
      ]
     },
     "execution_count": 6,
     "metadata": {},
     "output_type": "execute_result"
    }
   ],
   "source": [
    "result.find('P52867')"
   ]
  },
  {
   "cell_type": "markdown",
   "metadata": {},
   "source": [
    "or identify the kcat (1/h) of the protein for each associated reaction:"
   ]
  },
  {
   "cell_type": "code",
   "execution_count": 7,
   "metadata": {},
   "outputs": [
    {
     "data": {
      "text/plain": [
       "{'r_0477No1': 127800.4268534257}"
      ]
     },
     "execution_count": 7,
     "metadata": {},
     "output_type": "execute_result"
    }
   ],
   "source": [
    "simul.get_Kcats('A2P2R3')"
   ]
  },
  {
   "cell_type": "markdown",
   "metadata": {},
   "source": [
    "Other phenotype simulation methods can explicitly be defined, such as parsimonious FBA."
   ]
  },
  {
   "cell_type": "code",
   "execution_count": 8,
   "metadata": {},
   "outputs": [
    {
     "name": "stdout",
     "output_type": "stream",
     "text": [
      "objective: 743.6947396259584\n",
      "Status: OPTIMAL\n",
      "Constraints: OrderedDict([('r_1714_REV', (-10, 1000))])\n",
      "Method:pFBA\n"
     ]
    }
   ],
   "source": [
    "result= simul.simulate(method='pFBA')\n",
    "print(result)"
   ]
  },
  {
   "cell_type": "markdown",
   "metadata": {},
   "source": [
    "We aim to later optimize the production of succinate, whose exchange reaction has the 'r_2056' identifier.\n",
    "As such it is important to analyse the flux variability. By default, MEWpy considers a 90% fraction of the objective when running a FVA."
   ]
  },
  {
   "cell_type": "code",
   "execution_count": 9,
   "metadata": {},
   "outputs": [
    {
     "data": {
      "text/plain": [
       "{'r_2056': [0.0, 2.359164479620666]}"
      ]
     },
     "execution_count": 9,
     "metadata": {},
     "output_type": "execute_result"
    }
   ],
   "source": [
    "simul.FVA(reactions=['r_2056'])"
   ]
  },
  {
   "cell_type": "markdown",
   "metadata": {},
   "source": [
    "We might also look at flux's values on the wild type, using the results from the previous pFBA. The biomass reaction has the identifier 'r_2111'."
   ]
  },
  {
   "cell_type": "code",
   "execution_count": 10,
   "metadata": {},
   "outputs": [
    {
     "data": {
      "text/html": [
       "<div>\n",
       "<style scoped>\n",
       "    .dataframe tbody tr th:only-of-type {\n",
       "        vertical-align: middle;\n",
       "    }\n",
       "\n",
       "    .dataframe tbody tr th {\n",
       "        vertical-align: top;\n",
       "    }\n",
       "\n",
       "    .dataframe thead th {\n",
       "        text-align: right;\n",
       "    }\n",
       "</style>\n",
       "<table border=\"1\" class=\"dataframe\">\n",
       "  <thead>\n",
       "    <tr style=\"text-align: right;\">\n",
       "      <th></th>\n",
       "      <th>Flux rate</th>\n",
       "    </tr>\n",
       "    <tr>\n",
       "      <th>Reaction ID</th>\n",
       "      <th></th>\n",
       "    </tr>\n",
       "  </thead>\n",
       "  <tbody>\n",
       "    <tr>\n",
       "      <th>r_2056</th>\n",
       "      <td>0.000000</td>\n",
       "    </tr>\n",
       "    <tr>\n",
       "      <th>r_2111</th>\n",
       "      <td>0.325425</td>\n",
       "    </tr>\n",
       "    <tr>\n",
       "      <th>r_2056_REV</th>\n",
       "      <td>0.000000</td>\n",
       "    </tr>\n",
       "    <tr>\n",
       "      <th>r_2111_REV</th>\n",
       "      <td>0.000000</td>\n",
       "    </tr>\n",
       "  </tbody>\n",
       "</table>\n",
       "</div>"
      ],
      "text/plain": [
       "             Flux rate\n",
       "Reaction ID           \n",
       "r_2056        0.000000\n",
       "r_2111        0.325425\n",
       "r_2056_REV    0.000000\n",
       "r_2111_REV    0.000000"
      ]
     },
     "execution_count": 10,
     "metadata": {},
     "output_type": "execute_result"
    }
   ],
   "source": [
    "result.find(['r_2111','r_2056'])"
   ]
  },
  {
   "cell_type": "markdown",
   "metadata": {},
   "source": [
    "In the wild type, and without adding any condition, the model does not produce L-tyronine.\n",
    "\n",
    "GECKO models integrate proteomics into GSMMs. As such we may be interested on identifying essential proteins."
   ]
  },
  {
   "cell_type": "code",
   "execution_count": 11,
   "metadata": {},
   "outputs": [
    {
     "name": "stderr",
     "output_type": "stream",
     "text": [
      "100%|████████████████████████████████████████████████████████████████████████████████████████████████████████████████████████████████████████████████████████████████████| 816/816 [01:54<00:00,  7.10it/s]\n"
     ]
    },
    {
     "data": {
      "text/plain": [
       "['P38707',\n",
       " 'P06168',\n",
       " 'P38998',\n",
       " 'P06197',\n",
       " 'P26637',\n",
       " 'P08465',\n",
       " 'Q04728',\n",
       " 'Q05506',\n",
       " 'P13188',\n",
       " 'Q12122']"
      ]
     },
     "execution_count": 11,
     "metadata": {},
     "output_type": "execute_result"
    }
   ],
   "source": [
    "essential = simul.essential_proteins()\n",
    "essential[:10]"
   ]
  },
  {
   "cell_type": "markdown",
   "metadata": {},
   "source": [
    "MEWpy allows to easily add contraints on proteins usage.\n",
    "\n",
    "Let us consider a set of enzyme constraints obtained from a MEWpy optimization on the yeast GECKO model targeting the production of the same compound."
   ]
  },
  {
   "cell_type": "code",
   "execution_count": 54,
   "metadata": {},
   "outputs": [],
   "source": [
    "# Adding constraints to phenotype simulations\n",
    "constraints = {'draw_prot_P13188': (0.0, 9.3e-07),\n",
    "               'draw_prot_P39006': 0.0,\n",
    "               'draw_prot_P08067': (0.0, 2.7e-07),\n",
    "               'draw_prot_P38791': (0.0, 10000)}"
   ]
  },
  {
   "cell_type": "markdown",
   "metadata": {},
   "source": [
    "We may now add these new constraints to a pFBA prediction, and analyse the L-tyrosine production and biomass."
   ]
  },
  {
   "cell_type": "code",
   "execution_count": 55,
   "metadata": {},
   "outputs": [
    {
     "data": {
      "text/html": [
       "<div>\n",
       "<style scoped>\n",
       "    .dataframe tbody tr th:only-of-type {\n",
       "        vertical-align: middle;\n",
       "    }\n",
       "\n",
       "    .dataframe tbody tr th {\n",
       "        vertical-align: top;\n",
       "    }\n",
       "\n",
       "    .dataframe thead th {\n",
       "        text-align: right;\n",
       "    }\n",
       "</style>\n",
       "<table border=\"1\" class=\"dataframe\">\n",
       "  <thead>\n",
       "    <tr style=\"text-align: right;\">\n",
       "      <th></th>\n",
       "      <th>Flux rate</th>\n",
       "    </tr>\n",
       "    <tr>\n",
       "      <th>Reaction ID</th>\n",
       "      <th></th>\n",
       "    </tr>\n",
       "  </thead>\n",
       "  <tbody>\n",
       "    <tr>\n",
       "      <th>r_2056</th>\n",
       "      <td>0.026167</td>\n",
       "    </tr>\n",
       "    <tr>\n",
       "      <th>r_2111</th>\n",
       "      <td>0.081432</td>\n",
       "    </tr>\n",
       "    <tr>\n",
       "      <th>r_2056_REV</th>\n",
       "      <td>0.000000</td>\n",
       "    </tr>\n",
       "    <tr>\n",
       "      <th>r_2111_REV</th>\n",
       "      <td>0.000000</td>\n",
       "    </tr>\n",
       "  </tbody>\n",
       "</table>\n",
       "</div>"
      ],
      "text/plain": [
       "             Flux rate\n",
       "Reaction ID           \n",
       "r_2056        0.026167\n",
       "r_2111        0.081432\n",
       "r_2056_REV    0.000000\n",
       "r_2111_REV    0.000000"
      ]
     },
     "execution_count": 55,
     "metadata": {},
     "output_type": "execute_result"
    }
   ],
   "source": [
    "result = simul.simulate(constraints=constraints, method='pFBA')\n",
    "result.find(['r_2111','r_2056'])"
   ]
  },
  {
   "cell_type": "markdown",
   "metadata": {},
   "source": [
    "We can observe that the simulation predicts that the introduce modifications will allow the organism to produce L-tyrosine.\n",
    "Let us now perfom a flux balance analysis accounting with the modifications as well as plot the production envelope."
   ]
  },
  {
   "cell_type": "code",
   "execution_count": 56,
   "metadata": {},
   "outputs": [
    {
     "data": {
      "text/plain": [
       "{'r_2056': [0.0, 13.940164516803268]}"
      ]
     },
     "execution_count": 56,
     "metadata": {},
     "output_type": "execute_result"
    }
   ],
   "source": [
    "simul.FVA('r_2056',constraints=constraints)"
   ]
  },
  {
   "cell_type": "code",
   "execution_count": 57,
   "metadata": {},
   "outputs": [
    {
     "data": {
      "text/plain": [
       "<AxesSubplot:xlabel='r_2111', ylabel='r_2056'>"
      ]
     },
     "execution_count": 57,
     "metadata": {},
     "output_type": "execute_result"
    },
    {
     "data": {
      "image/png": "[encoded data removed]",
      "text/plain": [
       "<Figure size 432x288 with 1 Axes>"
      ]
     },
     "metadata": {
      "needs_background": "light"
     },
     "output_type": "display_data"
    }
   ],
   "source": [
    "from mewpy.visualization.envelope import plot_flux_envelope\n",
    "plot_flux_envelope(simul,'r_2111','r_2056',constraints=constraints)"
   ]
  },
  {
   "cell_type": "markdown",
   "metadata": {},
   "source": [
    "## GECKO model Optimization\n",
    "\n",
    "We will now optimize the production of L-tyrosine by modifying the GECKO model enzymatic contraints, that is, by altering the availability of enzymes.\n",
    "\n",
    "The optimization is performed by defining an Evolutionary Algorithm Optimization Problem.\n",
    "To define a problem we start by identifiying the objective functions: biomass-product coupled yield and weighted yield."
   ]
  },
  {
   "cell_type": "code",
   "execution_count": 16,
   "metadata": {},
   "outputs": [],
   "source": [
    "from mewpy.optimization.evaluation import BPCY, WYIELD\n",
    "\n",
    "evaluator_1 = BPCY(\"r_2111\", \"r_2056\", method='lMOMA') \n",
    "evaluator_2 = WYIELD(\"r_2111\", \"r_2056\")\n"
   ]
  },
  {
   "cell_type": "markdown",
   "metadata": {},
   "source": [
    "We aim to find solutions that only include protein deletions or knock out, as such, we will instatiate a GeckoKOProblem, and consider a maximum of 6 deletions. "
   ]
  },
  {
   "cell_type": "code",
   "execution_count": 17,
   "metadata": {},
   "outputs": [],
   "source": [
    "# creates a new optimization problem\n",
    "from mewpy.problems import GeckoOUProblem\n",
    "\n",
    "problem = GeckoOUProblem(model, \n",
    "                          fevaluation=[evaluator_1,evaluator_2], \n",
    "                          envcond = envcond,\n",
    "                          candidate_max_size = 6)"
   ]
  },
  {
   "cell_type": "markdown",
   "metadata": {},
   "source": [
    "We may now start the optimization process by instantiating an EA for the problem and set the running preferences."
   ]
  },
  {
   "cell_type": "code",
   "execution_count": 18,
   "metadata": {},
   "outputs": [
    {
     "name": "stdout",
     "output_type": "stream",
     "text": [
      "Running NSGAII\n",
      "Eval(s)|     Worst      Best    Median   Average   Std Dev|     Worst      Best    Median   Average   Std Dev|\n",
      "    100|  0.000000  0.010708  0.000000  0.000121  0.001073|  0.000000  4.067287  0.102922  0.253239  0.762105|\n",
      "    200|  -0.000000  0.010708  0.000000  0.000695  0.002545|  0.102922  4.067287  0.102922  0.388153  0.937294|\n",
      "    300|  -0.000000  0.010708  0.000000  0.001740  0.003816|  0.102922  4.067287  0.103603  0.872111  1.434302|\n",
      "    400|  -0.000000  0.010709  0.001366  0.004155  0.004978|  0.107199  4.690901  2.792979  2.013231  1.732872|\n",
      "    500|  0.000000  0.010709  0.010657  0.007674  0.004347|  0.133526  4.690902  0.155872  1.357455  1.814215|\n",
      "    600|  0.000000  0.043608  0.010631  0.008231  0.005477|  0.133526  4.690902  0.166854  1.255238  1.766611|\n",
      "    700|  0.000000  0.043608  0.010618  0.008442  0.006335|  0.133833  4.690902  0.172346  1.458165  1.798126|\n",
      "    800|  0.000000  0.043608  0.010618  0.007737  0.007425|  0.133833  4.690902  2.697318  2.016044  1.873942|\n",
      "    900|  0.000000  0.043608  0.005464  0.007407  0.008274|  0.133833  4.692105  2.793004  2.545926  1.737204|\n",
      "   1000|  0.000000  0.043608  0.002121  0.006448  0.009153|  0.154612  4.692105  4.067286  3.452113  1.039998|\n"
     ]
    }
   ],
   "source": [
    "from mewpy.optimization import EA\n",
    "import warnings\n",
    "warnings.filterwarnings(\"ignore\")\n",
    "\n",
    "ea = EA(problem, max_generations = 10)\n",
    "\n",
    "# runs the optimization\n",
    "final_pop = ea.run(simplify=False)\n"
   ]
  },
  {
   "cell_type": "markdown",
   "metadata": {},
   "source": [
    "The final population contains the best solutions found by the EA. We may choose to save the solutions, or run some analysis as previously seen."
   ]
  },
  {
   "cell_type": "code",
   "execution_count": 19,
   "metadata": {},
   "outputs": [
    {
     "data": {
      "text/html": [
       "<div>\n",
       "<style scoped>\n",
       "    .dataframe tbody tr th:only-of-type {\n",
       "        vertical-align: middle;\n",
       "    }\n",
       "\n",
       "    .dataframe tbody tr th {\n",
       "        vertical-align: top;\n",
       "    }\n",
       "\n",
       "    .dataframe thead th {\n",
       "        text-align: right;\n",
       "    }\n",
       "</style>\n",
       "<table border=\"1\" class=\"dataframe\">\n",
       "  <thead>\n",
       "    <tr style=\"text-align: right;\">\n",
       "      <th></th>\n",
       "      <th>Modification</th>\n",
       "      <th>Size</th>\n",
       "      <th>BPCY</th>\n",
       "      <th>WYIELD</th>\n",
       "    </tr>\n",
       "  </thead>\n",
       "  <tbody>\n",
       "    <tr>\n",
       "      <th>0</th>\n",
       "      <td>{'draw_prot_P53630': 0.125, 'draw_prot_P25578'...</td>\n",
       "      <td>5</td>\n",
       "      <td>0.043608</td>\n",
       "      <td>0.154928</td>\n",
       "    </tr>\n",
       "    <tr>\n",
       "      <th>1</th>\n",
       "      <td>{'draw_prot_P38139': 0.03125, 'draw_prot_P5407...</td>\n",
       "      <td>6</td>\n",
       "      <td>0.005464</td>\n",
       "      <td>2.795347</td>\n",
       "    </tr>\n",
       "    <tr>\n",
       "      <th>2</th>\n",
       "      <td>{'draw_prot_P32377': 0.125, 'draw_prot_P0CX10'...</td>\n",
       "      <td>6</td>\n",
       "      <td>0.000000</td>\n",
       "      <td>4.692105</td>\n",
       "    </tr>\n",
       "    <tr>\n",
       "      <th>3</th>\n",
       "      <td>{'draw_prot_P39006': 0.125, 'draw_prot_P08067'...</td>\n",
       "      <td>5</td>\n",
       "      <td>0.000342</td>\n",
       "      <td>4.690901</td>\n",
       "    </tr>\n",
       "    <tr>\n",
       "      <th>4</th>\n",
       "      <td>{'draw_prot_P39006': 0.125, 'draw_prot_P08067'...</td>\n",
       "      <td>6</td>\n",
       "      <td>0.013899</td>\n",
       "      <td>2.795297</td>\n",
       "    </tr>\n",
       "    <tr>\n",
       "      <th>...</th>\n",
       "      <td>...</td>\n",
       "      <td>...</td>\n",
       "      <td>...</td>\n",
       "      <td>...</td>\n",
       "    </tr>\n",
       "    <tr>\n",
       "      <th>91</th>\n",
       "      <td>{'draw_prot_P38139': 0.03125, 'draw_prot_P3228...</td>\n",
       "      <td>4</td>\n",
       "      <td>0.005464</td>\n",
       "      <td>2.792979</td>\n",
       "    </tr>\n",
       "    <tr>\n",
       "      <th>92</th>\n",
       "      <td>{'draw_prot_P39006': 0.125, 'draw_prot_P38791'...</td>\n",
       "      <td>6</td>\n",
       "      <td>0.002121</td>\n",
       "      <td>4.067287</td>\n",
       "    </tr>\n",
       "    <tr>\n",
       "      <th>93</th>\n",
       "      <td>{'draw_prot_P13188': 0.25, 'draw_prot_P39006':...</td>\n",
       "      <td>4</td>\n",
       "      <td>0.002121</td>\n",
       "      <td>4.067285</td>\n",
       "    </tr>\n",
       "    <tr>\n",
       "      <th>94</th>\n",
       "      <td>{'draw_prot_P13188': 0.25, 'draw_prot_P39006':...</td>\n",
       "      <td>5</td>\n",
       "      <td>0.002121</td>\n",
       "      <td>4.067286</td>\n",
       "    </tr>\n",
       "    <tr>\n",
       "      <th>95</th>\n",
       "      <td>{'draw_prot_P13188': 0.25, 'draw_prot_P39006':...</td>\n",
       "      <td>6</td>\n",
       "      <td>0.002121</td>\n",
       "      <td>4.067287</td>\n",
       "    </tr>\n",
       "  </tbody>\n",
       "</table>\n",
       "<p>96 rows × 4 columns</p>\n",
       "</div>"
      ],
      "text/plain": [
       "                                         Modification  Size      BPCY  \\\n",
       "0   {'draw_prot_P53630': 0.125, 'draw_prot_P25578'...     5  0.043608   \n",
       "1   {'draw_prot_P38139': 0.03125, 'draw_prot_P5407...     6  0.005464   \n",
       "2   {'draw_prot_P32377': 0.125, 'draw_prot_P0CX10'...     6  0.000000   \n",
       "3   {'draw_prot_P39006': 0.125, 'draw_prot_P08067'...     5  0.000342   \n",
       "4   {'draw_prot_P39006': 0.125, 'draw_prot_P08067'...     6  0.013899   \n",
       "..                                                ...   ...       ...   \n",
       "91  {'draw_prot_P38139': 0.03125, 'draw_prot_P3228...     4  0.005464   \n",
       "92  {'draw_prot_P39006': 0.125, 'draw_prot_P38791'...     6  0.002121   \n",
       "93  {'draw_prot_P13188': 0.25, 'draw_prot_P39006':...     4  0.002121   \n",
       "94  {'draw_prot_P13188': 0.25, 'draw_prot_P39006':...     5  0.002121   \n",
       "95  {'draw_prot_P13188': 0.25, 'draw_prot_P39006':...     6  0.002121   \n",
       "\n",
       "      WYIELD  \n",
       "0   0.154928  \n",
       "1   2.795347  \n",
       "2   4.692105  \n",
       "3   4.690901  \n",
       "4   2.795297  \n",
       "..       ...  \n",
       "91  2.792979  \n",
       "92  4.067287  \n",
       "93  4.067285  \n",
       "94  4.067286  \n",
       "95  4.067287  \n",
       "\n",
       "[96 rows x 4 columns]"
      ]
     },
     "execution_count": 19,
     "metadata": {},
     "output_type": "execute_result"
    }
   ],
   "source": [
    "df = ea.dataframe()\n",
    "df"
   ]
  },
  {
   "cell_type": "code",
   "execution_count": 20,
   "metadata": {},
   "outputs": [],
   "source": [
    "solution = df['Modification'][1]"
   ]
  },
  {
   "cell_type": "code",
   "execution_count": 42,
   "metadata": {},
   "outputs": [
    {
     "data": {
      "text/html": [
       "<div>\n",
       "<style scoped>\n",
       "    .dataframe tbody tr th:only-of-type {\n",
       "        vertical-align: middle;\n",
       "    }\n",
       "\n",
       "    .dataframe tbody tr th {\n",
       "        vertical-align: top;\n",
       "    }\n",
       "\n",
       "    .dataframe thead th {\n",
       "        text-align: right;\n",
       "    }\n",
       "</style>\n",
       "<table border=\"1\" class=\"dataframe\">\n",
       "  <thead>\n",
       "    <tr style=\"text-align: right;\">\n",
       "      <th></th>\n",
       "      <th>Flux rate</th>\n",
       "    </tr>\n",
       "    <tr>\n",
       "      <th>Reaction ID</th>\n",
       "      <th></th>\n",
       "    </tr>\n",
       "  </thead>\n",
       "  <tbody>\n",
       "    <tr>\n",
       "      <th>r_2056</th>\n",
       "      <td>0.033581</td>\n",
       "    </tr>\n",
       "    <tr>\n",
       "      <th>r_2111</th>\n",
       "      <td>0.162713</td>\n",
       "    </tr>\n",
       "    <tr>\n",
       "      <th>r_2056_REV</th>\n",
       "      <td>0.000000</td>\n",
       "    </tr>\n",
       "    <tr>\n",
       "      <th>r_2111_REV</th>\n",
       "      <td>0.000000</td>\n",
       "    </tr>\n",
       "  </tbody>\n",
       "</table>\n",
       "</div>"
      ],
      "text/plain": [
       "             Flux rate\n",
       "Reaction ID           \n",
       "r_2056        0.033581\n",
       "r_2111        0.162713\n",
       "r_2056_REV    0.000000\n",
       "r_2111_REV    0.000000"
      ]
     },
     "execution_count": 42,
     "metadata": {},
     "output_type": "execute_result"
    }
   ],
   "source": [
    "problem.simulate(solution=solution,method='pFBA').find([\"r_2111\", \"r_2056\"])"
   ]
  }
 ],
 "metadata": {
  "kernelspec": {
   "display_name": "py37",
   "language": "python",
   "name": "py37"
  },
  "language_info": {
   "codemirror_mode": {
    "name": "ipython",
    "version": 3
   },
   "file_extension": ".py",
   "mimetype": "text/x-python",
   "name": "python",
   "nbconvert_exporter": "python",
   "pygments_lexer": "ipython3",
   "version": "3.7.13"
  }
 },
 "nbformat": 4,
 "nbformat_minor": 2
}
