{
 "cells": [
  {
   "cell_type": "markdown",
   "metadata": {},
   "source": [
    "# Strain Optimization in MEWpy\n",
    "\n",
    "This notebook exemplifies how MEWpy may be used in strain optimization tasks.\n",
    "We will consider the as goal to increase the production of succinate in E. coli in anaerobic conditions."
   ]
  },
  {
   "cell_type": "code",
   "execution_count": 1,
   "metadata": {},
   "outputs": [],
   "source": [
    "%matplotlib inline\n",
    "from cobra.io.sbml import read_sbml_model\n",
    "model = read_sbml_model(\"models/ec/e_coli_core.xml.gz\")"
   ]
  },
  {
   "cell_type": "markdown",
   "metadata": {},
   "source": [
    "Analyse the model's default medium"
   ]
  },
  {
   "cell_type": "code",
   "execution_count": 2,
   "metadata": {},
   "outputs": [
    {
     "data": {
      "text/html": [
       "<div>\n",
       "<style scoped>\n",
       "    .dataframe tbody tr th:only-of-type {\n",
       "        vertical-align: middle;\n",
       "    }\n",
       "\n",
       "    .dataframe tbody tr th {\n",
       "        vertical-align: top;\n",
       "    }\n",
       "\n",
       "    .dataframe thead th {\n",
       "        text-align: right;\n",
       "    }\n",
       "</style>\n",
       "<table border=\"1\" class=\"dataframe\">\n",
       "  <thead>\n",
       "    <tr style=\"text-align: right;\">\n",
       "      <th></th>\n",
       "      <th>lb</th>\n",
       "      <th>ub</th>\n",
       "    </tr>\n",
       "  </thead>\n",
       "  <tbody>\n",
       "    <tr>\n",
       "      <th>EX_co2_e</th>\n",
       "      <td>-10.0</td>\n",
       "      <td>inf</td>\n",
       "    </tr>\n",
       "    <tr>\n",
       "      <th>EX_glc__D_e</th>\n",
       "      <td>-10.0</td>\n",
       "      <td>inf</td>\n",
       "    </tr>\n",
       "    <tr>\n",
       "      <th>EX_h_e</th>\n",
       "      <td>-10.0</td>\n",
       "      <td>inf</td>\n",
       "    </tr>\n",
       "    <tr>\n",
       "      <th>EX_h2o_e</th>\n",
       "      <td>-10.0</td>\n",
       "      <td>inf</td>\n",
       "    </tr>\n",
       "    <tr>\n",
       "      <th>EX_nh4_e</th>\n",
       "      <td>-10.0</td>\n",
       "      <td>inf</td>\n",
       "    </tr>\n",
       "    <tr>\n",
       "      <th>EX_o2_e</th>\n",
       "      <td>-10.0</td>\n",
       "      <td>inf</td>\n",
       "    </tr>\n",
       "    <tr>\n",
       "      <th>EX_pi_e</th>\n",
       "      <td>-10.0</td>\n",
       "      <td>inf</td>\n",
       "    </tr>\n",
       "  </tbody>\n",
       "</table>\n",
       "</div>"
      ],
      "text/plain": [
       "               lb   ub\n",
       "EX_co2_e    -10.0  inf\n",
       "EX_glc__D_e -10.0  inf\n",
       "EX_h_e      -10.0  inf\n",
       "EX_h2o_e    -10.0  inf\n",
       "EX_nh4_e    -10.0  inf\n",
       "EX_o2_e     -10.0  inf\n",
       "EX_pi_e     -10.0  inf"
      ]
     },
     "execution_count": 2,
     "metadata": {},
     "output_type": "execute_result"
    }
   ],
   "source": [
    "from mewpy.simulation.environment import Environment\n",
    "import pandas as pd\n",
    "\n",
    "medium = Environment.from_model(model).get_compounds()\n",
    "env = Environment.from_compounds(medium)\n",
    "pd.DataFrame(env,index=['lb','ub']).T\n"
   ]
  },
  {
   "cell_type": "markdown",
   "metadata": {},
   "source": [
    "Commercial solvers are better suited to address optimization tasks, such, as stain designs. As such, you might want to check the linear programming solvers available on your system:"
   ]
  },
  {
   "cell_type": "code",
   "execution_count": 3,
   "metadata": {},
   "outputs": [
    {
     "name": "stdout",
     "output_type": "stream",
     "text": [
      "MEWpy version: 0.1.23\n",
      "Author: BiSBII CEB University of Minho\n",
      "Contact: vpereira@ceb.uminho.pt \n",
      "\n",
      "Available LP solvers: cplex glpk\n",
      "Default LP solver: cplex \n",
      "\n",
      "Available ODE solvers: scipy odespy\n",
      "Default ODE solver: scipy \n",
      "\n",
      "Optimization Problems: AbstractKOProblem AbstractOUProblem CommunityKOProblem ETFLGKOProblem ETFLGOUProblem GKOProblem GOUProblem GeckoKOProblem GeckoOUProblem KcatOptProblem KineticKOProblem KineticOUProblem MediumProblem OptORFProblem OptRamProblem RKOProblem ROUProblem \n",
      "\n",
      "Available EA engines: inspyred jmetal\n",
      "Default EA engine: jmetal\n",
      "Available EAs: GA NSGAII NSGAIII SA SPEA2 \n",
      "\n"
     ]
    }
   ],
   "source": [
    "import mewpy\n",
    "mewpy.info()"
   ]
  },
  {
   "cell_type": "markdown",
   "metadata": {},
   "source": [
    "## Optimization problem\n",
    "\n",
    "Before running any optimization let us verify the production rate as well as the theoretic maximum rate of succinate in anaerobic conditions.\n",
    "To ease the script reutilization we will define some reaction identifiers as constants:"
   ]
  },
  {
   "cell_type": "code",
   "execution_count": 4,
   "metadata": {},
   "outputs": [],
   "source": [
    "BIOMASS = 'BIOMASS_Ecoli_core_w_GAM'\n",
    "PRODUCT = 'EX_succ_e'\n",
    "O2 = 'EX_o2_e'\n",
    "GLC = 'EX_glc__D_e'"
   ]
  },
  {
   "cell_type": "code",
   "execution_count": 5,
   "metadata": {},
   "outputs": [],
   "source": [
    "anaerobic = {O2: (0, 0)}"
   ]
  },
  {
   "cell_type": "code",
   "execution_count": 6,
   "metadata": {},
   "outputs": [
    {
     "data": {
      "text/html": [
       "<div>\n",
       "<style scoped>\n",
       "    .dataframe tbody tr th:only-of-type {\n",
       "        vertical-align: middle;\n",
       "    }\n",
       "\n",
       "    .dataframe tbody tr th {\n",
       "        vertical-align: top;\n",
       "    }\n",
       "\n",
       "    .dataframe thead th {\n",
       "        text-align: right;\n",
       "    }\n",
       "</style>\n",
       "<table border=\"1\" class=\"dataframe\">\n",
       "  <thead>\n",
       "    <tr style=\"text-align: right;\">\n",
       "      <th></th>\n",
       "      <th>Minimum</th>\n",
       "      <th>Maximum</th>\n",
       "    </tr>\n",
       "    <tr>\n",
       "      <th>Reaction ID</th>\n",
       "      <th></th>\n",
       "      <th></th>\n",
       "    </tr>\n",
       "  </thead>\n",
       "  <tbody>\n",
       "    <tr>\n",
       "      <th>EX_succ_e</th>\n",
       "      <td>0.0</td>\n",
       "      <td>1.911</td>\n",
       "    </tr>\n",
       "  </tbody>\n",
       "</table>\n",
       "</div>"
      ],
      "text/plain": [
       "             Minimum  Maximum\n",
       "Reaction ID                  \n",
       "EX_succ_e        0.0    1.911"
      ]
     },
     "execution_count": 6,
     "metadata": {},
     "output_type": "execute_result"
    }
   ],
   "source": [
    "from mewpy.simulation import get_simulator\n",
    "sim = get_simulator(model,envcond=anaerobic)\n",
    "sim.FVA(reactions=[PRODUCT],format='df')"
   ]
  },
  {
   "cell_type": "code",
   "execution_count": 7,
   "metadata": {},
   "outputs": [
    {
     "data": {
      "text/html": [
       "<div>\n",
       "<style scoped>\n",
       "    .dataframe tbody tr th:only-of-type {\n",
       "        vertical-align: middle;\n",
       "    }\n",
       "\n",
       "    .dataframe tbody tr th {\n",
       "        vertical-align: top;\n",
       "    }\n",
       "\n",
       "    .dataframe thead th {\n",
       "        text-align: right;\n",
       "    }\n",
       "</style>\n",
       "<table border=\"1\" class=\"dataframe\">\n",
       "  <thead>\n",
       "    <tr style=\"text-align: right;\">\n",
       "      <th></th>\n",
       "      <th>Flux rate</th>\n",
       "    </tr>\n",
       "    <tr>\n",
       "      <th>Reaction ID</th>\n",
       "      <th></th>\n",
       "    </tr>\n",
       "  </thead>\n",
       "  <tbody>\n",
       "    <tr>\n",
       "      <th>BIOMASS_Ecoli_core_w_GAM</th>\n",
       "      <td>0.211663</td>\n",
       "    </tr>\n",
       "    <tr>\n",
       "      <th>EX_succ_e</th>\n",
       "      <td>-0.000000</td>\n",
       "    </tr>\n",
       "  </tbody>\n",
       "</table>\n",
       "</div>"
      ],
      "text/plain": [
       "                          Flux rate\n",
       "Reaction ID                        \n",
       "BIOMASS_Ecoli_core_w_GAM   0.211663\n",
       "EX_succ_e                 -0.000000"
      ]
     },
     "execution_count": 7,
     "metadata": {},
     "output_type": "execute_result"
    }
   ],
   "source": [
    "sim.simulate(method='pFBA').find([BIOMASS,PRODUCT])"
   ]
  },
  {
   "cell_type": "markdown",
   "metadata": {},
   "source": [
    "The optimization problem requires the definition of one or more objective functions.\n",
    "In the next example, we define as objective the maximization of the Biomass-Product coupled yield and the maximization of the targeted product. MEWpy makes available other optimization objectives, please refer to the documentation."
   ]
  },
  {
   "cell_type": "code",
   "execution_count": 8,
   "metadata": {},
   "outputs": [],
   "source": [
    "from mewpy.optimization.evaluation import BPCY, TargetFlux\n",
    "\n",
    "objs = [ \n",
    "    BPCY(BIOMASS, PRODUCT),\n",
    "    TargetFlux(PRODUCT)\n",
    "]"
   ]
  },
  {
   "cell_type": "markdown",
   "metadata": {},
   "source": [
    "We can now define the growth medium and select the type of modification.\n",
    "We will begin by performing gene deletion (GKO) by selecting the appropriate problem instance, GKOProblem. "
   ]
  },
  {
   "cell_type": "code",
   "execution_count": 9,
   "metadata": {},
   "outputs": [],
   "source": [
    "from mewpy.problems import GKOProblem, GOUProblem\n",
    "\n",
    "problem = GOUProblem(model, objs, envcond=anaerobic, candidate_max_size=6)"
   ]
  },
  {
   "cell_type": "markdown",
   "metadata": {},
   "source": [
    "Other optimization methods/strategies may be used:\n",
    "* Reaction deletion: *RKOProblem*\n",
    "* Reaction under or over expression: *ROUProblem*\n",
    "* Gene under or over expression: *GOUProblem*\n",
    "\n",
    "A problem may include other parameters, such as the maximum number of genetic modification, a list of specitic targets, or non-targets (reactions/genes not to be modified). "
   ]
  },
  {
   "cell_type": "markdown",
   "metadata": {},
   "source": [
    "## Optimization algorithm\n",
    "\n",
    "An optimization engine to solve the problem need to be instanciated. MEWpy uses Evolutionary Algorithms (EA) for this task.\n",
    "\n",
    "EAs are algorithms that mimic the Darwinian evolutionary process, where a population of solutions evolves generation after generation. In the example we define a maximum of 50 generations.  "
   ]
  },
  {
   "cell_type": "code",
   "execution_count": 10,
   "metadata": {},
   "outputs": [],
   "source": [
    "from mewpy.optimization import EA\n",
    "ea = EA(problem, max_generations=50)"
   ]
  },
  {
   "cell_type": "markdown",
   "metadata": {},
   "source": [
    "For informations on additional options you may use the `help` command"
   ]
  },
  {
   "cell_type": "code",
   "execution_count": 11,
   "metadata": {},
   "outputs": [
    {
     "name": "stdout",
     "output_type": "stream",
     "text": [
      "Help on function EA in module mewpy.optimization:\n",
      "\n",
      "EA(problem, initial_population=[], max_generations=100, mp=True, visualizer=False, algorithm=None, **kwargs)\n",
      "    EA running helper. Returns an instance of the EA that reflects the global user configuration settings\n",
      "    such as preferred engine and algorithm.\n",
      "    \n",
      "    :param problem: The optimization problem.\n",
      "    :param list initial_population: The EA initial population. Default [].\n",
      "    :param int max_generations: The number of iterations of the EA (stopping criteria). Default globally defined.\n",
      "    :param bool mp: If multiprocessing should be used. Default True.\n",
      "    :param bool visualizer: If the pareto font should be displayed. Requires a graphic environment. Default False.\n",
      "    \n",
      "    Additional optional arguments:\n",
      "    \n",
      "    :param int population_size: EA population size.\n",
      "    \n",
      "    :returns: An instance of an EA optimizer.\n",
      "\n"
     ]
    }
   ],
   "source": [
    "help(EA)"
   ]
  },
  {
   "cell_type": "markdown",
   "metadata": {},
   "source": [
    "The EA may contemplate aditional parameters such as the identification of a specific algorithm (e.g. SPEA2, NSGAII, NSGAIII, GDE3, etc.), multiprocessing options, initial seeding, etc.\n",
    "\n",
    "To start the optimization process invoke the run method (Optionaly you may define if the final solutions are to be simplified or not):"
   ]
  },
  {
   "cell_type": "code",
   "execution_count": 12,
   "metadata": {},
   "outputs": [
    {
     "name": "stdout",
     "output_type": "stream",
     "text": [
      "Running NSGAII\n",
      "Eval(s)|     Worst      Best    Median   Average   Std Dev|     Worst      Best    Median   Average   Std Dev|\n",
      "    100|  0.000000  0.263656  0.000000  0.007790  0.037304|  0.000000  1.688172  0.000000  0.059759  0.293929|\n",
      "    200|  0.000000  0.263656  0.000000  0.010427  0.045152|  0.000000  1.688172  0.000000  0.076309  0.333966|\n",
      "    300|  0.000000  0.266637  0.000000  0.028464  0.072452|  0.000000  1.712724  0.000000  0.205176  0.526486|\n",
      "    400|  0.000000  0.266637  0.000000  0.080198  0.103036|  0.000000  1.712724  0.000000  0.610512  0.769336|\n",
      "    500|  0.000000  0.266637  0.166214  0.177535  0.081304|  0.000000  1.712724  1.655030  1.371084  0.531031|\n",
      "    600|  0.181260  0.266637  0.263656  0.254604  0.027111|  1.652859  1.712724  1.655030  1.661345  0.018994|\n",
      "    700|  0.181260  0.266637  0.264909  0.258728  0.022886|  1.652859  1.712724  1.654118  1.658434  0.016041|\n",
      "    800|  0.181260  0.266637  0.264909  0.262185  0.014308|  1.652859  1.712724  1.654118  1.656032  0.010028|\n",
      "    900|  0.181260  0.266637  0.261982  0.260857  0.014088|  1.652859  1.712724  1.656247  1.656998  0.009868|\n",
      "   1000|  0.181260  0.266637  0.261982  0.261295  0.008104|  1.652859  1.712724  1.656247  1.656724  0.005674|\n",
      "   1100|  0.181260  0.266637  0.261982  0.261328  0.008129|  1.652859  1.712724  1.656247  1.656700  0.005692|\n",
      "   1200|  0.181260  0.266637  0.261982  0.261357  0.008160|  1.652859  1.712724  1.656247  1.656678  0.005716|\n",
      "   1300|  0.047581  0.266637  0.261982  0.259250  0.022799|  1.652859  1.798360  1.656247  1.658073  0.015225|\n",
      "   1400|  0.047581  0.266637  0.261982  0.252354  0.043394|  1.652859  1.798360  1.656247  1.662650  0.028882|\n",
      "   1500|  0.047581  0.266637  0.260873  0.248009  0.051335|  1.652859  1.798360  1.657052  1.665555  0.034072|\n",
      "   1600|  0.047581  0.266637  0.260873  0.233113  0.072196|  1.652859  1.798360  1.657052  1.675422  0.047876|\n",
      "   1700|  0.047581  0.266637  0.261784  0.258983  0.022820|  1.652859  1.798360  1.656390  1.658265  0.015244|\n",
      "   1800|  0.047581  0.266637  0.261784  0.258987  0.022824|  1.652859  1.798360  1.656390  1.658263  0.015247|\n",
      "   1900|  0.047581  0.266637  0.261784  0.259041  0.022833|  1.652859  1.798360  1.656390  1.658224  0.015253|\n",
      "   2000|  0.047581  0.266637  0.261784  0.258759  0.022788|  1.652859  1.798360  1.656390  1.658428  0.015220|\n",
      "   2100|  0.012037  0.266637  0.261784  0.256315  0.033501|  1.652859  1.819769  1.656390  1.660023  0.022126|\n",
      "   2200|  0.012037  0.266637  0.261784  0.253776  0.041449|  1.652859  1.819769  1.656390  1.661685  0.027291|\n",
      "   2300|  0.012037  0.266637  0.261784  0.251121  0.047942|  1.652859  1.819769  1.656390  1.663431  0.031519|\n",
      "   2400|  0.012037  0.266637  0.261784  0.248320  0.053484|  1.652859  1.819769  1.656390  1.665283  0.035127|\n",
      "   2500|  0.012037  0.266637  0.261784  0.243237  0.062398|  1.652859  1.819769  1.656390  1.668628  0.040959|\n",
      "   2600|  0.000000  0.266637  0.261883  0.237634  0.070552|  1.652859  1.826905  1.656319  1.672316  0.046247|\n",
      "   2700|  0.000000  0.266637  0.260873  0.231382  0.077245|  1.652859  1.826905  1.657052  1.676473  0.050574|\n",
      "   2800|  0.000000  0.266637  0.259961  0.240227  0.062918|  1.652859  1.826905  1.657713  1.670760  0.041233|\n",
      "   2900|  0.000000  0.266637  0.259961  0.232866  0.073853|  1.652859  1.826905  1.657713  1.675568  0.048341|\n",
      "   3000|  0.000000  0.266637  0.258954  0.224747  0.082139|  1.652859  1.826905  1.658443  1.680934  0.053740|\n",
      "   3100|  0.000000  0.266637  0.258954  0.229217  0.077377|  1.652859  1.826905  1.658443  1.678001  0.050587|\n",
      "   3200|  0.000000  0.266637  0.258756  0.222514  0.083875|  1.652859  1.826905  1.658586  1.682423  0.054868|\n",
      "   3300|  0.000000  0.266637  0.258954  0.220844  0.084761|  1.652859  1.826905  1.658443  1.683549  0.055493|\n",
      "   3400|  0.000000  0.266637  0.258954  0.217160  0.087838|  1.652859  1.826905  1.658443  1.685973  0.057565|\n",
      "   3500|  0.000000  0.266637  0.258954  0.220536  0.083881|  1.652859  1.826905  1.658443  1.683796  0.055048|\n",
      "   3600|  0.000000  0.266637  0.258954  0.222496  0.083563|  1.652859  1.826905  1.658443  1.682449  0.054681|\n",
      "   3700|  0.000000  0.266637  0.258360  0.219644  0.085910|  1.652859  1.826905  1.658873  1.684337  0.056198|\n",
      "   3800|  0.000000  0.266637  0.255510  0.217888  0.086674|  1.652859  1.826905  1.660930  1.685526  0.056738|\n",
      "   3900|  0.000000  0.266637  0.252695  0.215140  0.088844|  1.652859  1.826905  1.662961  1.687340  0.058139|\n",
      "   4000|  0.000000  0.266637  0.252858  0.217682  0.086274|  1.652859  1.826905  1.662844  1.685688  0.056485|\n",
      "   4100|  0.000000  0.266637  0.252858  0.213874  0.089099|  1.652859  1.826905  1.662844  1.688203  0.058381|\n",
      "   4200|  0.000000  0.266637  0.253559  0.213868  0.089096|  1.652859  1.826905  1.662339  1.688207  0.058379|\n",
      "   4300|  0.000000  0.266637  0.254260  0.212030  0.091451|  1.652859  1.826905  1.661834  1.689369  0.059917|\n",
      "   4400|  0.000000  0.266637  0.254260  0.214976  0.089972|  1.652859  1.826905  1.661834  1.687399  0.058866|\n",
      "   4500|  0.000000  0.266637  0.254260  0.214990  0.089935|  1.652859  1.826905  1.661834  1.687392  0.058836|\n",
      "   4600|  0.000000  0.266637  0.253421  0.212947  0.090457|  1.652859  1.826905  1.662439  1.688786  0.059207|\n",
      "   4700|  0.000000  0.266637  0.253421  0.210516  0.092545|  1.652859  1.826905  1.662439  1.690371  0.060564|\n",
      "   4800|  0.000000  0.266637  0.254260  0.217586  0.086232|  1.652859  1.826905  1.661834  1.685758  0.056454|\n",
      "   4900|  0.000000  0.266637  0.253421  0.219693  0.083309|  1.652859  1.826905  1.662439  1.684421  0.054563|\n",
      "   5000|  0.000000  0.266637  0.253421  0.219694  0.083310|  1.652859  1.826905  1.662439  1.684420  0.054564|\n"
     ]
    }
   ],
   "source": [
    "solutions = ea.run(simplify=False)"
   ]
  },
  {
   "cell_type": "markdown",
   "metadata": {},
   "source": [
    "We can now list the set of solutions:"
   ]
  },
  {
   "cell_type": "code",
   "execution_count": 13,
   "metadata": {},
   "outputs": [
    {
     "data": {
      "text/html": [
       "<div>\n",
       "<style scoped>\n",
       "    .dataframe tbody tr th:only-of-type {\n",
       "        vertical-align: middle;\n",
       "    }\n",
       "\n",
       "    .dataframe tbody tr th {\n",
       "        vertical-align: top;\n",
       "    }\n",
       "\n",
       "    .dataframe thead th {\n",
       "        text-align: right;\n",
       "    }\n",
       "</style>\n",
       "<table border=\"1\" class=\"dataframe\">\n",
       "  <thead>\n",
       "    <tr style=\"text-align: right;\">\n",
       "      <th></th>\n",
       "      <th>Modification</th>\n",
       "      <th>Size</th>\n",
       "      <th>BPCY</th>\n",
       "      <th>TargetFlux</th>\n",
       "    </tr>\n",
       "  </thead>\n",
       "  <tbody>\n",
       "    <tr>\n",
       "      <th>0</th>\n",
       "      <td>{'b2285': 4, 'b0118': 8, 'b1611': 2, 'b1817': 2}</td>\n",
       "      <td>4</td>\n",
       "      <td>0.266637</td>\n",
       "      <td>1.652859</td>\n",
       "    </tr>\n",
       "    <tr>\n",
       "      <th>1</th>\n",
       "      <td>{'b0721': 0.25, 'b2417': 0.5, 'b3925': 2, 'b01...</td>\n",
       "      <td>5</td>\n",
       "      <td>0.000000</td>\n",
       "      <td>1.826905</td>\n",
       "    </tr>\n",
       "    <tr>\n",
       "      <th>2</th>\n",
       "      <td>{'b0903': 0.125, 'b2417': 0.5, 'b0767': 0, 'b1...</td>\n",
       "      <td>6</td>\n",
       "      <td>0.000000</td>\n",
       "      <td>1.826905</td>\n",
       "    </tr>\n",
       "    <tr>\n",
       "      <th>3</th>\n",
       "      <td>{'b2285': 8, 'b1611': 2, 'b3956': 0.5, 'b0118'...</td>\n",
       "      <td>5</td>\n",
       "      <td>0.181260</td>\n",
       "      <td>1.712724</td>\n",
       "    </tr>\n",
       "    <tr>\n",
       "      <th>4</th>\n",
       "      <td>{'b1136': 0.125, 'b1602': 0.03125, 'b3114': 0....</td>\n",
       "      <td>6</td>\n",
       "      <td>0.047581</td>\n",
       "      <td>1.798360</td>\n",
       "    </tr>\n",
       "    <tr>\n",
       "      <th>...</th>\n",
       "      <td>...</td>\n",
       "      <td>...</td>\n",
       "      <td>...</td>\n",
       "      <td>...</td>\n",
       "    </tr>\n",
       "    <tr>\n",
       "      <th>69</th>\n",
       "      <td>{'b1602': 0.25, 'b3870': 8, 'b1297': 16, 'b311...</td>\n",
       "      <td>5</td>\n",
       "      <td>0.252473</td>\n",
       "      <td>1.663121</td>\n",
       "    </tr>\n",
       "    <tr>\n",
       "      <th>70</th>\n",
       "      <td>{'b0721': 0.25, 'b2417': 0.5, 'b3114': 0.0625,...</td>\n",
       "      <td>6</td>\n",
       "      <td>0.264713</td>\n",
       "      <td>1.654261</td>\n",
       "    </tr>\n",
       "    <tr>\n",
       "      <th>71</th>\n",
       "      <td>{'b2417': 0.0625, 'b1602': 0, 'b0118': 8, 'b39...</td>\n",
       "      <td>5</td>\n",
       "      <td>0.261784</td>\n",
       "      <td>1.656390</td>\n",
       "    </tr>\n",
       "    <tr>\n",
       "      <th>72</th>\n",
       "      <td>{'b2417': 0.5, 'b3870': 32, 'b0727': 0.5, 'b16...</td>\n",
       "      <td>6</td>\n",
       "      <td>0.236362</td>\n",
       "      <td>1.674626</td>\n",
       "    </tr>\n",
       "    <tr>\n",
       "      <th>73</th>\n",
       "      <td>{'b2285': 4, 'b1602': 0.03125, 'b3114': 0.0625...</td>\n",
       "      <td>5</td>\n",
       "      <td>0.261982</td>\n",
       "      <td>1.656247</td>\n",
       "    </tr>\n",
       "  </tbody>\n",
       "</table>\n",
       "<p>74 rows × 4 columns</p>\n",
       "</div>"
      ],
      "text/plain": [
       "                                         Modification  Size      BPCY  \\\n",
       "0    {'b2285': 4, 'b0118': 8, 'b1611': 2, 'b1817': 2}     4  0.266637   \n",
       "1   {'b0721': 0.25, 'b2417': 0.5, 'b3925': 2, 'b01...     5  0.000000   \n",
       "2   {'b0903': 0.125, 'b2417': 0.5, 'b0767': 0, 'b1...     6  0.000000   \n",
       "3   {'b2285': 8, 'b1611': 2, 'b3956': 0.5, 'b0118'...     5  0.181260   \n",
       "4   {'b1136': 0.125, 'b1602': 0.03125, 'b3114': 0....     6  0.047581   \n",
       "..                                                ...   ...       ...   \n",
       "69  {'b1602': 0.25, 'b3870': 8, 'b1297': 16, 'b311...     5  0.252473   \n",
       "70  {'b0721': 0.25, 'b2417': 0.5, 'b3114': 0.0625,...     6  0.264713   \n",
       "71  {'b2417': 0.0625, 'b1602': 0, 'b0118': 8, 'b39...     5  0.261784   \n",
       "72  {'b2417': 0.5, 'b3870': 32, 'b0727': 0.5, 'b16...     6  0.236362   \n",
       "73  {'b2285': 4, 'b1602': 0.03125, 'b3114': 0.0625...     5  0.261982   \n",
       "\n",
       "    TargetFlux  \n",
       "0     1.652859  \n",
       "1     1.826905  \n",
       "2     1.826905  \n",
       "3     1.712724  \n",
       "4     1.798360  \n",
       "..         ...  \n",
       "69    1.663121  \n",
       "70    1.654261  \n",
       "71    1.656390  \n",
       "72    1.674626  \n",
       "73    1.656247  \n",
       "\n",
       "[74 rows x 4 columns]"
      ]
     },
     "execution_count": 13,
     "metadata": {},
     "output_type": "execute_result"
    }
   ],
   "source": [
    "df=ea.dataframe()\n",
    "df"
   ]
  },
  {
   "cell_type": "markdown",
   "metadata": {},
   "source": [
    "Or view the best solutions on the objective space, the so called Pareto front:"
   ]
  },
  {
   "cell_type": "code",
   "execution_count": 14,
   "metadata": {},
   "outputs": [
    {
     "data": {
      "image/png": "[encoded data removed]",
      "text/plain": [
       "<Figure size 432x288 with 1 Axes>"
      ]
     },
     "metadata": {
      "needs_background": "light"
     },
     "output_type": "display_data"
    }
   ],
   "source": [
    "ea.plot()"
   ]
  },
  {
   "cell_type": "markdown",
   "metadata": {},
   "source": [
    "We can save the solutions to file:"
   ]
  },
  {
   "cell_type": "code",
   "execution_count": null,
   "metadata": {},
   "outputs": [],
   "source": [
    "df.to_csv('solutions.csv')"
   ]
  },
  {
   "cell_type": "markdown",
   "metadata": {},
   "source": [
    "or performe additional analysis on the solutions by retreiving the simulator used during the optimization.\n",
    " "
   ]
  },
  {
   "cell_type": "markdown",
   "metadata": {},
   "source": [
    "## Working with solutions\n",
    "\n",
    "Let us select the first solution:"
   ]
  },
  {
   "cell_type": "code",
   "execution_count": 15,
   "metadata": {},
   "outputs": [
    {
     "data": {
      "text/plain": [
       "[0.2666365149118392, 1.652858849671162];{'b2285': 4, 'b0118': 8, 'b1611': 2, 'b1817': 2}"
      ]
     },
     "execution_count": 15,
     "metadata": {},
     "output_type": "execute_result"
    }
   ],
   "source": [
    "solution = solutions[0]\n",
    "solution"
   ]
  },
  {
   "cell_type": "markdown",
   "metadata": {},
   "source": [
    "The solution is converted to metabolict constraints to be applied to the model. We can access these constrains using *solution.constraints*"
   ]
  },
  {
   "cell_type": "code",
   "execution_count": 16,
   "metadata": {},
   "outputs": [
    {
     "data": {
      "text/plain": [
       "{'ACONTa': (1.826905251755413, 10000), 'ACONTb': (1.826905251755413, 10000)}"
      ]
     },
     "execution_count": 16,
     "metadata": {},
     "output_type": "execute_result"
    }
   ],
   "source": [
    "solution.constraints"
   ]
  },
  {
   "cell_type": "markdown",
   "metadata": {},
   "source": [
    "We may run phenotypic simulations with the solution using those constraints. Note that there is no need to redefine the medium as they are persistent in the simulator instance."
   ]
  },
  {
   "cell_type": "code",
   "execution_count": 17,
   "metadata": {},
   "outputs": [
    {
     "data": {
      "text/plain": [
       "objective: 0.0\n",
       "Status: OPTIMAL\n",
       "Constraints: OrderedDict([('EX_o2_e', (0, 0)), ('ACONTa', (1.826905251755413, 10000)), ('ACONTb', (1.826905251755413, 10000))])\n",
       "Method:ROOM"
      ]
     },
     "execution_count": 17,
     "metadata": {},
     "output_type": "execute_result"
    }
   ],
   "source": [
    "sim = problem.simulator\n",
    "res=sim.simulate(constraints=solution.constraints,method='ROOM')\n",
    "res"
   ]
  },
  {
   "cell_type": "code",
   "execution_count": 18,
   "metadata": {},
   "outputs": [
    {
     "data": {
      "text/html": [
       "<div>\n",
       "<style scoped>\n",
       "    .dataframe tbody tr th:only-of-type {\n",
       "        vertical-align: middle;\n",
       "    }\n",
       "\n",
       "    .dataframe tbody tr th {\n",
       "        vertical-align: top;\n",
       "    }\n",
       "\n",
       "    .dataframe thead th {\n",
       "        text-align: right;\n",
       "    }\n",
       "</style>\n",
       "<table border=\"1\" class=\"dataframe\">\n",
       "  <thead>\n",
       "    <tr style=\"text-align: right;\">\n",
       "      <th></th>\n",
       "      <th>Flux rate</th>\n",
       "    </tr>\n",
       "    <tr>\n",
       "      <th>Reaction ID</th>\n",
       "      <th></th>\n",
       "    </tr>\n",
       "  </thead>\n",
       "  <tbody>\n",
       "    <tr>\n",
       "      <th>ACALD</th>\n",
       "      <td>-10.340840</td>\n",
       "    </tr>\n",
       "    <tr>\n",
       "      <th>ACALDt</th>\n",
       "      <td>-0.001000</td>\n",
       "    </tr>\n",
       "    <tr>\n",
       "      <th>ACKr</th>\n",
       "      <td>-3.902055</td>\n",
       "    </tr>\n",
       "    <tr>\n",
       "      <th>ACONTa</th>\n",
       "      <td>1.826905</td>\n",
       "    </tr>\n",
       "    <tr>\n",
       "      <th>ACONTb</th>\n",
       "      <td>1.826905</td>\n",
       "    </tr>\n",
       "    <tr>\n",
       "      <th>...</th>\n",
       "      <td>...</td>\n",
       "    </tr>\n",
       "    <tr>\n",
       "      <th>TALA</th>\n",
       "      <td>-0.028854</td>\n",
       "    </tr>\n",
       "    <tr>\n",
       "      <th>THD2</th>\n",
       "      <td>1.115548</td>\n",
       "    </tr>\n",
       "    <tr>\n",
       "      <th>TKT1</th>\n",
       "      <td>-0.028854</td>\n",
       "    </tr>\n",
       "    <tr>\n",
       "      <th>TKT2</th>\n",
       "      <td>-0.087079</td>\n",
       "    </tr>\n",
       "    <tr>\n",
       "      <th>TPI</th>\n",
       "      <td>9.839568</td>\n",
       "    </tr>\n",
       "  </tbody>\n",
       "</table>\n",
       "<p>95 rows × 1 columns</p>\n",
       "</div>"
      ],
      "text/plain": [
       "             Flux rate\n",
       "Reaction ID           \n",
       "ACALD       -10.340840\n",
       "ACALDt       -0.001000\n",
       "ACKr         -3.902055\n",
       "ACONTa        1.826905\n",
       "ACONTb        1.826905\n",
       "...                ...\n",
       "TALA         -0.028854\n",
       "THD2          1.115548\n",
       "TKT1         -0.028854\n",
       "TKT2         -0.087079\n",
       "TPI           9.839568\n",
       "\n",
       "[95 rows x 1 columns]"
      ]
     },
     "execution_count": 18,
     "metadata": {},
     "output_type": "execute_result"
    }
   ],
   "source": [
    "res.dataframe"
   ]
  },
  {
   "cell_type": "code",
   "execution_count": 19,
   "metadata": {},
   "outputs": [
    {
     "data": {
      "text/html": [
       "<div>\n",
       "<style scoped>\n",
       "    .dataframe tbody tr th:only-of-type {\n",
       "        vertical-align: middle;\n",
       "    }\n",
       "\n",
       "    .dataframe tbody tr th {\n",
       "        vertical-align: top;\n",
       "    }\n",
       "\n",
       "    .dataframe thead th {\n",
       "        text-align: right;\n",
       "    }\n",
       "</style>\n",
       "<table border=\"1\" class=\"dataframe\">\n",
       "  <thead>\n",
       "    <tr style=\"text-align: right;\">\n",
       "      <th></th>\n",
       "      <th>Flux rate</th>\n",
       "    </tr>\n",
       "    <tr>\n",
       "      <th>Reaction ID</th>\n",
       "      <th></th>\n",
       "    </tr>\n",
       "  </thead>\n",
       "  <tbody>\n",
       "    <tr>\n",
       "      <th>BIOMASS_Ecoli_core_w_GAM</th>\n",
       "      <td>0.161287</td>\n",
       "    </tr>\n",
       "    <tr>\n",
       "      <th>EX_succ_e</th>\n",
       "      <td>1.651893</td>\n",
       "    </tr>\n",
       "  </tbody>\n",
       "</table>\n",
       "</div>"
      ],
      "text/plain": [
       "                          Flux rate\n",
       "Reaction ID                        \n",
       "BIOMASS_Ecoli_core_w_GAM   0.161287\n",
       "EX_succ_e                  1.651893"
      ]
     },
     "execution_count": 19,
     "metadata": {},
     "output_type": "execute_result"
    }
   ],
   "source": [
    "res.find([PRODUCT,BIOMASS])"
   ]
  },
  {
   "cell_type": "code",
   "execution_count": 20,
   "metadata": {},
   "outputs": [
    {
     "data": {
      "text/plain": [
       "<AxesSubplot:xlabel='BIOMASS_Ecoli_core_w_GAM', ylabel='EX_succ_e'>"
      ]
     },
     "execution_count": 20,
     "metadata": {},
     "output_type": "execute_result"
    },
    {
     "data": {
      "image/png": "[encoded data removed]",
      "text/plain": [
       "<Figure size 432x288 with 1 Axes>"
      ]
     },
     "metadata": {
      "needs_background": "light"
     },
     "output_type": "display_data"
    }
   ],
   "source": [
    "from mewpy.visualization.envelope import plot_flux_envelope\n",
    "\n",
    "plot_flux_envelope(sim,BIOMASS,PRODUCT,constraints = solution.constraints)"
   ]
  },
  {
   "cell_type": "markdown",
   "metadata": {},
   "source": [
    "## Exercice 1\n",
    "\n",
    "Alter the notebook to run a gene over/under-expression (GOUProblem) optimization task. You may also try other optimization objectives (replacing or adding new objectives) such as `CandidateSize`, `ModificationType` or `BPCY_FVA`."
   ]
  },
  {
   "cell_type": "markdown",
   "metadata": {},
   "source": [
    "## Exercice 2\n",
    "\n",
    "Alter the notebook to find possible genetic modifications for the increased production of ethanol (EX_etoh_e)"
   ]
  },
  {
   "cell_type": "markdown",
   "metadata": {},
   "source": [
    "# Simulating user defined modifications\n",
    "\n",
    "Genetic modifications at the gene, enzyme, transcription or regulatory levels need to be translated to the (pseudo) reaction level. This task is problem dependent and consequently requires the instantiation of a problem. If we do not intend run any optimization task, there is no need to define optimization objectives."
   ]
  },
  {
   "cell_type": "code",
   "execution_count": 21,
   "metadata": {},
   "outputs": [],
   "source": [
    "problem = GOUProblem(model,[], envcond=anaerobic)\n",
    "sim = problem.simulator"
   ]
  },
  {
   "cell_type": "markdown",
   "metadata": {},
   "source": [
    "A solution for a GOUProblem is a dictionary of genes' expression folds, e.g.:"
   ]
  },
  {
   "cell_type": "code",
   "execution_count": 22,
   "metadata": {},
   "outputs": [],
   "source": [
    "solution = {'b3956': 8, 'b2914': 4}"
   ]
  },
  {
   "cell_type": "markdown",
   "metadata": {},
   "source": [
    "You may get information on the genes"
   ]
  },
  {
   "cell_type": "code",
   "execution_count": 24,
   "metadata": {},
   "outputs": [
    {
     "data": {
      "text/html": [
       "<div>\n",
       "<style scoped>\n",
       "    .dataframe tbody tr th:only-of-type {\n",
       "        vertical-align: middle;\n",
       "    }\n",
       "\n",
       "    .dataframe tbody tr th {\n",
       "        vertical-align: top;\n",
       "    }\n",
       "\n",
       "    .dataframe thead th {\n",
       "        text-align: right;\n",
       "    }\n",
       "</style>\n",
       "<table border=\"1\" class=\"dataframe\">\n",
       "  <thead>\n",
       "    <tr style=\"text-align: right;\">\n",
       "      <th></th>\n",
       "      <th>name</th>\n",
       "      <th>reactions</th>\n",
       "    </tr>\n",
       "    <tr>\n",
       "      <th>id</th>\n",
       "      <th></th>\n",
       "      <th></th>\n",
       "    </tr>\n",
       "  </thead>\n",
       "  <tbody>\n",
       "    <tr>\n",
       "      <th>b3956</th>\n",
       "      <td></td>\n",
       "      <td>[PPC]</td>\n",
       "    </tr>\n",
       "    <tr>\n",
       "      <th>b2914</th>\n",
       "      <td></td>\n",
       "      <td>[RPI]</td>\n",
       "    </tr>\n",
       "  </tbody>\n",
       "</table>\n",
       "</div>"
      ],
      "text/plain": [
       "      name reactions\n",
       "id                  \n",
       "b3956          [PPC]\n",
       "b2914          [RPI]"
      ]
     },
     "execution_count": 24,
     "metadata": {},
     "output_type": "execute_result"
    }
   ],
   "source": [
    "sim.find_genes('b3956|b2914')"
   ]
  },
  {
   "cell_type": "markdown",
   "metadata": {},
   "source": [
    "The gene expressions are converted by the problem into reaction constraints:"
   ]
  },
  {
   "cell_type": "code",
   "execution_count": 25,
   "metadata": {},
   "outputs": [
    {
     "data": {
      "text/plain": [
       "{'PPC': (4.852330790092048, 10000), 'RPI': (-10000, -0.608573313078965)}"
      ]
     },
     "execution_count": 25,
     "metadata": {},
     "output_type": "execute_result"
    }
   ],
   "source": [
    "constraints = problem.solution_to_constraints(solution)\n",
    "constraints"
   ]
  },
  {
   "cell_type": "markdown",
   "metadata": {},
   "source": [
    "that are used to run phenotypic simulations:"
   ]
  },
  {
   "cell_type": "code",
   "execution_count": 26,
   "metadata": {},
   "outputs": [
    {
     "data": {
      "text/html": [
       "<div>\n",
       "<style scoped>\n",
       "    .dataframe tbody tr th:only-of-type {\n",
       "        vertical-align: middle;\n",
       "    }\n",
       "\n",
       "    .dataframe tbody tr th {\n",
       "        vertical-align: top;\n",
       "    }\n",
       "\n",
       "    .dataframe thead th {\n",
       "        text-align: right;\n",
       "    }\n",
       "</style>\n",
       "<table border=\"1\" class=\"dataframe\">\n",
       "  <thead>\n",
       "    <tr style=\"text-align: right;\">\n",
       "      <th></th>\n",
       "      <th>Flux rate</th>\n",
       "    </tr>\n",
       "    <tr>\n",
       "      <th>Reaction ID</th>\n",
       "      <th></th>\n",
       "    </tr>\n",
       "  </thead>\n",
       "  <tbody>\n",
       "    <tr>\n",
       "      <th>ACALD</th>\n",
       "      <td>-9.952450</td>\n",
       "    </tr>\n",
       "    <tr>\n",
       "      <th>ACALDt</th>\n",
       "      <td>0.000000</td>\n",
       "    </tr>\n",
       "    <tr>\n",
       "      <th>ACKr</th>\n",
       "      <td>-7.150130</td>\n",
       "    </tr>\n",
       "    <tr>\n",
       "      <th>ACONTa</th>\n",
       "      <td>0.170545</td>\n",
       "    </tr>\n",
       "    <tr>\n",
       "      <th>ACONTb</th>\n",
       "      <td>0.170545</td>\n",
       "    </tr>\n",
       "    <tr>\n",
       "      <th>...</th>\n",
       "      <td>...</td>\n",
       "    </tr>\n",
       "    <tr>\n",
       "      <th>TALA</th>\n",
       "      <td>0.466671</td>\n",
       "    </tr>\n",
       "    <tr>\n",
       "      <th>THD2</th>\n",
       "      <td>0.000000</td>\n",
       "    </tr>\n",
       "    <tr>\n",
       "      <th>TKT1</th>\n",
       "      <td>0.466671</td>\n",
       "    </tr>\n",
       "    <tr>\n",
       "      <th>TKT2</th>\n",
       "      <td>0.409607</td>\n",
       "    </tr>\n",
       "    <tr>\n",
       "      <th>TPI</th>\n",
       "      <td>9.347814</td>\n",
       "    </tr>\n",
       "  </tbody>\n",
       "</table>\n",
       "<p>95 rows × 1 columns</p>\n",
       "</div>"
      ],
      "text/plain": [
       "             Flux rate\n",
       "Reaction ID           \n",
       "ACALD        -9.952450\n",
       "ACALDt        0.000000\n",
       "ACKr         -7.150130\n",
       "ACONTa        0.170545\n",
       "ACONTb        0.170545\n",
       "...                ...\n",
       "TALA          0.466671\n",
       "THD2          0.000000\n",
       "TKT1          0.466671\n",
       "TKT2          0.409607\n",
       "TPI           9.347814\n",
       "\n",
       "[95 rows x 1 columns]"
      ]
     },
     "execution_count": 26,
     "metadata": {},
     "output_type": "execute_result"
    }
   ],
   "source": [
    "sim.simulate(constraints=constraints).find()"
   ]
  },
  {
   "cell_type": "markdown",
   "metadata": {},
   "source": [
    "This functionality allows, for example, to simulate a same genetic modification on different methods or using other GEMs.\n",
    "You may also use directly the problem instance to simulate the modifications:"
   ]
  },
  {
   "cell_type": "code",
   "execution_count": 31,
   "metadata": {},
   "outputs": [
    {
     "data": {
      "text/html": [
       "<div>\n",
       "<style scoped>\n",
       "    .dataframe tbody tr th:only-of-type {\n",
       "        vertical-align: middle;\n",
       "    }\n",
       "\n",
       "    .dataframe tbody tr th {\n",
       "        vertical-align: top;\n",
       "    }\n",
       "\n",
       "    .dataframe thead th {\n",
       "        text-align: right;\n",
       "    }\n",
       "</style>\n",
       "<table border=\"1\" class=\"dataframe\">\n",
       "  <thead>\n",
       "    <tr style=\"text-align: right;\">\n",
       "      <th></th>\n",
       "      <th>Flux rate</th>\n",
       "    </tr>\n",
       "    <tr>\n",
       "      <th>Reaction ID</th>\n",
       "      <th></th>\n",
       "    </tr>\n",
       "  </thead>\n",
       "  <tbody>\n",
       "    <tr>\n",
       "      <th>BIOMASS_Ecoli_core_w_GAM</th>\n",
       "      <td>0.158073</td>\n",
       "    </tr>\n",
       "    <tr>\n",
       "      <th>EX_succ_e</th>\n",
       "      <td>-0.000000</td>\n",
       "    </tr>\n",
       "  </tbody>\n",
       "</table>\n",
       "</div>"
      ],
      "text/plain": [
       "                          Flux rate\n",
       "Reaction ID                        \n",
       "BIOMASS_Ecoli_core_w_GAM   0.158073\n",
       "EX_succ_e                 -0.000000"
      ]
     },
     "execution_count": 31,
     "metadata": {},
     "output_type": "execute_result"
    }
   ],
   "source": [
    "problem.simulate(solution=solution).find(['succ','BIOMASS'])"
   ]
  },
  {
   "cell_type": "code",
   "execution_count": 33,
   "metadata": {},
   "outputs": [
    {
     "data": {
      "text/html": [
       "<div>\n",
       "<style scoped>\n",
       "    .dataframe tbody tr th:only-of-type {\n",
       "        vertical-align: middle;\n",
       "    }\n",
       "\n",
       "    .dataframe tbody tr th {\n",
       "        vertical-align: top;\n",
       "    }\n",
       "\n",
       "    .dataframe thead th {\n",
       "        text-align: right;\n",
       "    }\n",
       "</style>\n",
       "<table border=\"1\" class=\"dataframe\">\n",
       "  <thead>\n",
       "    <tr style=\"text-align: right;\">\n",
       "      <th></th>\n",
       "      <th>Minimum</th>\n",
       "      <th>Maximum</th>\n",
       "    </tr>\n",
       "    <tr>\n",
       "      <th>Reaction ID</th>\n",
       "      <th></th>\n",
       "      <th></th>\n",
       "    </tr>\n",
       "  </thead>\n",
       "  <tbody>\n",
       "    <tr>\n",
       "      <th>EX_succ_e</th>\n",
       "      <td>0.0</td>\n",
       "      <td>5.649814</td>\n",
       "    </tr>\n",
       "  </tbody>\n",
       "</table>\n",
       "</div>"
      ],
      "text/plain": [
       "             Minimum   Maximum\n",
       "Reaction ID                   \n",
       "EX_succ_e        0.0  5.649814"
      ]
     },
     "execution_count": 33,
     "metadata": {},
     "output_type": "execute_result"
    }
   ],
   "source": [
    "problem.FVA('EX_succ_e', solution=solution, format='df')"
   ]
  },
  {
   "cell_type": "code",
   "execution_count": null,
   "metadata": {},
   "outputs": [],
   "source": []
  }
 ],
 "metadata": {
  "kernelspec": {
   "display_name": "Python 3.7.13 ('py37')",
   "language": "python",
   "name": "python3"
  },
  "language_info": {
   "codemirror_mode": {
    "name": "ipython",
    "version": 3
   },
   "file_extension": ".py",
   "mimetype": "text/x-python",
   "name": "python",
   "nbconvert_exporter": "python",
   "pygments_lexer": "ipython3",
   "version": "3.7.13"
  },
  "vscode": {
   "interpreter": {
    "hash": "4d63cecbd4ee7a4964b1e14fac35e632f419fb342d4e4353e8cedd6749d678e0"
   }
  }
 },
 "nbformat": 4,
 "nbformat_minor": 4
}
