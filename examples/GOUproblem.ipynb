{
 "cells": [
  {
   "cell_type": "markdown",
   "metadata": {},
   "source": [
    "# MEWpy example\n",
    "\n",
    "Increasing the production of succinate in E.coli by modifying genes expression."
   ]
  },
  {
   "cell_type": "markdown",
   "metadata": {},
   "source": [
    "We start by loading the Genome-scale Metabolic Model using REFRAMED or COBRApy."
   ]
  },
  {
   "cell_type": "code",
   "execution_count": 8,
   "metadata": {},
   "outputs": [],
   "source": [
    "from cobra.io.sbml import read_sbml_model\n",
    "\n",
    "model = read_sbml_model('models/ec/iJO1366.xml', flavor='cobra')\n"
   ]
  },
  {
   "cell_type": "markdown",
   "metadata": {},
   "source": [
    "We import the necesseray modules."
   ]
  },
  {
   "cell_type": "code",
   "execution_count": 9,
   "metadata": {},
   "outputs": [],
   "source": [
    "from mewpy.optimization.evaluation import BPCY,WYIELD\n",
    "from mewpy.problems import GOUProblem\n",
    "from mewpy.simulation import get_simulator"
   ]
  },
  {
   "cell_type": "markdown",
   "metadata": {},
   "source": [
    "We may have a quick look into the reactions included in the model"
   ]
  },
  {
   "cell_type": "code",
   "execution_count": 10,
   "metadata": {},
   "outputs": [
    {
     "data": {
      "text/html": [
       "<div>\n",
       "<style scoped>\n",
       "    .dataframe tbody tr th:only-of-type {\n",
       "        vertical-align: middle;\n",
       "    }\n",
       "\n",
       "    .dataframe tbody tr th {\n",
       "        vertical-align: top;\n",
       "    }\n",
       "\n",
       "    .dataframe thead th {\n",
       "        text-align: right;\n",
       "    }\n",
       "</style>\n",
       "<table border=\"1\" class=\"dataframe\">\n",
       "  <thead>\n",
       "    <tr style=\"text-align: right;\">\n",
       "      <th></th>\n",
       "      <th>name</th>\n",
       "      <th>lb</th>\n",
       "      <th>ub</th>\n",
       "      <th>stoichiometry</th>\n",
       "      <th>gpr</th>\n",
       "      <th>annotations</th>\n",
       "    </tr>\n",
       "    <tr>\n",
       "      <th>id</th>\n",
       "      <th></th>\n",
       "      <th></th>\n",
       "      <th></th>\n",
       "      <th></th>\n",
       "      <th></th>\n",
       "      <th></th>\n",
       "    </tr>\n",
       "  </thead>\n",
       "  <tbody>\n",
       "    <tr>\n",
       "      <th>EX_glc__D_e</th>\n",
       "      <td>D-Glucose exchange</td>\n",
       "      <td>-10.0</td>\n",
       "      <td>1000.0</td>\n",
       "      <td>{'glc__D_e': -1.0}</td>\n",
       "      <td></td>\n",
       "      <td>{'sbo': 'SBO:0000627', 'bigg.reaction': 'EX_gl...</td>\n",
       "    </tr>\n",
       "    <tr>\n",
       "      <th>BIOMASS_Ec_iJO1366_WT_53p95M</th>\n",
       "      <td>E. coli biomass objective function (iJO1366) -...</td>\n",
       "      <td>0.0</td>\n",
       "      <td>1000.0</td>\n",
       "      <td>{'10fthf_c': -0.000223, '2dmmql8_c': -0.000223...</td>\n",
       "      <td></td>\n",
       "      <td>{'sbo': 'SBO:0000629', 'bigg.reaction': 'BIOMA...</td>\n",
       "    </tr>\n",
       "    <tr>\n",
       "      <th>BIOMASS_Ec_iJO1366_core_53p95M</th>\n",
       "      <td>E. coli biomass objective function (iJO1366) -...</td>\n",
       "      <td>0.0</td>\n",
       "      <td>1000.0</td>\n",
       "      <td>{'10fthf_c': -0.000223, '2fe2s_c': -2.6e-05, '...</td>\n",
       "      <td></td>\n",
       "      <td>{'sbo': 'SBO:0000629', 'bigg.reaction': 'BIOMA...</td>\n",
       "    </tr>\n",
       "    <tr>\n",
       "      <th>EX_o2_e</th>\n",
       "      <td>O2 exchange</td>\n",
       "      <td>-1000.0</td>\n",
       "      <td>1000.0</td>\n",
       "      <td>{'o2_e': -1.0}</td>\n",
       "      <td></td>\n",
       "      <td>{'sbo': 'SBO:0000627', 'bigg.reaction': 'EX_o2...</td>\n",
       "    </tr>\n",
       "    <tr>\n",
       "      <th>EX_succ_e</th>\n",
       "      <td>Succinate exchange</td>\n",
       "      <td>0.0</td>\n",
       "      <td>1000.0</td>\n",
       "      <td>{'succ_e': -1.0}</td>\n",
       "      <td></td>\n",
       "      <td>{'sbo': 'SBO:0000627', 'bigg.reaction': 'EX_su...</td>\n",
       "    </tr>\n",
       "  </tbody>\n",
       "</table>\n",
       "</div>"
      ],
      "text/plain": [
       "                                                                             name  \\\n",
       "id                                                                                  \n",
       "EX_glc__D_e                                                    D-Glucose exchange   \n",
       "BIOMASS_Ec_iJO1366_WT_53p95M    E. coli biomass objective function (iJO1366) -...   \n",
       "BIOMASS_Ec_iJO1366_core_53p95M  E. coli biomass objective function (iJO1366) -...   \n",
       "EX_o2_e                                                               O2 exchange   \n",
       "EX_succ_e                                                      Succinate exchange   \n",
       "\n",
       "                                    lb      ub  \\\n",
       "id                                               \n",
       "EX_glc__D_e                      -10.0  1000.0   \n",
       "BIOMASS_Ec_iJO1366_WT_53p95M       0.0  1000.0   \n",
       "BIOMASS_Ec_iJO1366_core_53p95M     0.0  1000.0   \n",
       "EX_o2_e                        -1000.0  1000.0   \n",
       "EX_succ_e                          0.0  1000.0   \n",
       "\n",
       "                                                                    stoichiometry  \\\n",
       "id                                                                                  \n",
       "EX_glc__D_e                                                    {'glc__D_e': -1.0}   \n",
       "BIOMASS_Ec_iJO1366_WT_53p95M    {'10fthf_c': -0.000223, '2dmmql8_c': -0.000223...   \n",
       "BIOMASS_Ec_iJO1366_core_53p95M  {'10fthf_c': -0.000223, '2fe2s_c': -2.6e-05, '...   \n",
       "EX_o2_e                                                            {'o2_e': -1.0}   \n",
       "EX_succ_e                                                        {'succ_e': -1.0}   \n",
       "\n",
       "                               gpr  \\\n",
       "id                                   \n",
       "EX_glc__D_e                          \n",
       "BIOMASS_Ec_iJO1366_WT_53p95M         \n",
       "BIOMASS_Ec_iJO1366_core_53p95M       \n",
       "EX_o2_e                              \n",
       "EX_succ_e                            \n",
       "\n",
       "                                                                      annotations  \n",
       "id                                                                                 \n",
       "EX_glc__D_e                     {'sbo': 'SBO:0000627', 'bigg.reaction': 'EX_gl...  \n",
       "BIOMASS_Ec_iJO1366_WT_53p95M    {'sbo': 'SBO:0000629', 'bigg.reaction': 'BIOMA...  \n",
       "BIOMASS_Ec_iJO1366_core_53p95M  {'sbo': 'SBO:0000629', 'bigg.reaction': 'BIOMA...  \n",
       "EX_o2_e                         {'sbo': 'SBO:0000627', 'bigg.reaction': 'EX_o2...  \n",
       "EX_succ_e                       {'sbo': 'SBO:0000627', 'bigg.reaction': 'EX_su...  "
      ]
     },
     "execution_count": 10,
     "metadata": {},
     "output_type": "execute_result"
    }
   ],
   "source": [
    "sim = get_simulator(model)\n",
    "sim.find(['BIOMASS','EX_o2_','EX_glc_','EX_succ_'])"
   ]
  },
  {
   "cell_type": "markdown",
   "metadata": {},
   "source": [
    "We can now define the optimization problem by defining the medium and objective functions, BPCY and WYIELD."
   ]
  },
  {
   "cell_type": "code",
   "execution_count": 11,
   "metadata": {},
   "outputs": [],
   "source": [
    "BIOMASS_ID = 'BIOMASS_Ec_iJO1366_core_53p95M'\n",
    "O2 = 'EX_o2_e'\n",
    "GLC = 'EX_glc__D_e'\n",
    "PRODUCT_ID = 'EX_succ_e'\n",
    "sim.objective = BIOMASS_ID\n",
    "\n",
    "evaluator_1 = BPCY(BIOMASS_ID, PRODUCT_ID, method = 'lMOMA')\n",
    "evaluator_2 = WYIELD(BIOMASS_ID,PRODUCT_ID)\n",
    "\n",
    "medium = {GLC:(-10,1000),O2:(-20,1000)}"
   ]
  },
  {
   "cell_type": "markdown",
   "metadata": {},
   "source": [
    "We instantiate the problem, a gene over/under expression problem."
   ]
  },
  {
   "cell_type": "code",
   "execution_count": 12,
   "metadata": {},
   "outputs": [],
   "source": [
    "problem = GOUProblem(model,\n",
    "                     [evaluator_1,evaluator_2],\n",
    "                     envcond=medium,\n",
    "                     candidate_min_size=2,\n",
    "                     candidate_max_size=6\n",
    "                     )"
   ]
  },
  {
   "cell_type": "markdown",
   "metadata": {},
   "source": [
    "An EA optimizer is instantiated for the defined optimization problem and ran. The `max_generations` value depends on the difficulty and size of the solution space. For illustrative purposes, we only will consider 10 iterations."
   ]
  },
  {
   "cell_type": "code",
   "execution_count": 13,
   "metadata": {},
   "outputs": [
    {
     "name": "stdout",
     "output_type": "stream",
     "text": [
      "Running NSGAII\n",
      "Eval(s)|     Worst      Best    Median   Average   Std Dev|     Worst      Best    Median   Average   Std Dev|\n",
      "    100|  -0.000000  0.000000  0.000000  0.000000  0.000000|  0.000000  4.495700  0.051676  0.448541  1.201753|\n",
      "    200|  -0.000000  0.000000  0.000000  0.000000  0.000000|  0.000000  4.495700  0.051676  1.010836  1.691651|\n",
      "    300|  -0.000000  0.000000  0.000000  -0.000000  0.000000|  0.000000  4.495700  3.862452  2.753325  1.858796|\n"
     ]
    },
    {
     "ename": "SystemExit",
     "evalue": "0",
     "output_type": "error",
     "traceback": [
      "An exception has occurred, use %tb to see the full traceback.\n",
      "\u001b[0;31mSystemExit\u001b[0m\u001b[0;31m:\u001b[0m 0\n"
     ]
    },
    {
     "name": "stderr",
     "output_type": "stream",
     "text": [
      "/home/vmsapereira/anaconda3/envs/py37/lib/python3.7/site-packages/IPython/core/interactiveshell.py:3465: UserWarning: To exit: use 'exit', 'quit', or Ctrl-D.\n",
      "  warn(\"To exit: use 'exit', 'quit', or Ctrl-D.\", stacklevel=1)\n"
     ]
    }
   ],
   "source": [
    "from mewpy.optimization import EA\n",
    "ea = EA(problem, max_generations= 10, mp = True)\n",
    "final_pop = ea.run()"
   ]
  },
  {
   "cell_type": "code",
   "execution_count": null,
   "metadata": {},
   "outputs": [],
   "source": [
    "ea.dataframe()"
   ]
  },
  {
   "cell_type": "code",
   "execution_count": null,
   "metadata": {},
   "outputs": [],
   "source": [
    "final_pop[0].values"
   ]
  },
  {
   "cell_type": "code",
   "execution_count": null,
   "metadata": {},
   "outputs": [],
   "source": [
    "res = problem.simulate(solution=final_pop[0].values,method='pFBA')\n",
    "res.find([PRODUCT_ID,BIOMASS_ID])\n"
   ]
  },
  {
   "cell_type": "code",
   "execution_count": null,
   "metadata": {},
   "outputs": [],
   "source": [
    "problem.FVA(PRODUCT_ID,solution=final_pop[0].values)"
   ]
  }
 ],
 "metadata": {
  "kernelspec": {
   "display_name": "Python 3.7.13 ('py37')",
   "language": "python",
   "name": "python3"
  },
  "language_info": {
   "codemirror_mode": {
    "name": "ipython",
    "version": 3
   },
   "file_extension": ".py",
   "mimetype": "text/x-python",
   "name": "python",
   "nbconvert_exporter": "python",
   "pygments_lexer": "ipython3",
   "version": "3.7.13"
  },
  "vscode": {
   "interpreter": {
    "hash": "4d63cecbd4ee7a4964b1e14fac35e632f419fb342d4e4353e8cedd6749d678e0"
   }
  }
 },
 "nbformat": 4,
 "nbformat_minor": 2
}
