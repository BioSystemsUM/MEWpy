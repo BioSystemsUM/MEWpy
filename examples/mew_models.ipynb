{
 "cells": [
  {
   "cell_type": "markdown",
   "source": [
    "# An integrated model in MEWpy\n",
    "\n",
    "An integrated model in MEWpy is called MEW model. It currently supports the integration of metabolic and regulatory models at the genome-scale.\n",
    "\n",
    "This example uses the integrated E. coli core model published by Orth et al in 2010[1](https://doi.org/10.1128/ecosalplus.10.2.1).\n",
    "This model includes a standard Genome-Scale Metabolic (GEM) model for the central carbon metabolism of E. coli. The GEM model includes several reactions (w/ GPRs), metabolites and genes associated with the central carbon metabolism in E. coli. It also includes exchange reactions defining the environmental conditions of the system.\n",
    "\n",
    "In addition, this example uses a Transcriptional Regulatory Network (TRN) for the central carbon metabolism of E. coli. The TRN includes several interactions (w/ boolean algebra expressions), target genes and regulators associated with the central carbon metabolism and linked to genes in the metabolic model. It also includes external stimuli (effectors) associated with metabolite concentration, reactions' rates or environmental conditions."
   ],
   "metadata": {
    "collapsed": false,
    "pycharm": {
     "name": "#%% md\n"
    }
   }
  },
  {
   "cell_type": "code",
   "execution_count": 1,
   "outputs": [],
   "source": [
    "# imports\n",
    "import os\n",
    "from pathlib import Path\n",
    "\n",
    "from mewpy.io import read_model, Engines, Reader"
   ],
   "metadata": {
    "collapsed": false,
    "pycharm": {
     "name": "#%%\n"
    }
   }
  },
  {
   "cell_type": "code",
   "execution_count": 2,
   "outputs": [],
   "source": [
    "# constants\n",
    "biomass_rxn = 'Biomass_Ecoli_core'\n",
    "glc_ex_rxn = 'EX_glc__D_e'"
   ],
   "metadata": {
    "collapsed": false,
    "pycharm": {
     "name": "#%%\n"
    }
   }
  },
  {
   "cell_type": "markdown",
   "source": [
    "## Reading MEW models\n",
    "\n",
    "E. coli integrated model is available in models/regulation/e_coli_core.xml and models/regulation/e_coli_core_trn.csv.\n",
    "MEWpy can read both separate files and assemble a MEW model."
   ],
   "metadata": {
    "collapsed": false,
    "pycharm": {
     "name": "#%% md\n"
    }
   }
  },
  {
   "cell_type": "code",
   "execution_count": 3,
   "outputs": [
    {
     "data": {
      "text/plain": "Regulatory, Metabolic: e_coli_core_trn"
     },
     "execution_count": 3,
     "metadata": {},
     "output_type": "execute_result"
    }
   ],
   "source": [
    "# current directory\n",
    "path = Path(os.getcwd())\n",
    "reg_path = path.joinpath('models', 'regulation')\n",
    "\n",
    "# a reader for the E. coli core GEM model\n",
    "gem_model = reg_path.joinpath('e_coli_core.xml')\n",
    "gem_reader = Reader(Engines.MetabolicSBML, gem_model)\n",
    "\n",
    "# a reader for the E. coli core TRN model\n",
    "# (it accepts specific parameters for reading the TRN CSV file)\n",
    "trn_model = reg_path.joinpath('e_coli_core_trn.csv')\n",
    "trn_reader = Reader(Engines.RegulatoryCSV,\n",
    "                    trn_model,\n",
    "                    sep=',',\n",
    "                    id_col=1,\n",
    "                    rule_col=2,\n",
    "                    aliases_cols=[0],\n",
    "                    header=0)\n",
    "\n",
    "# reading the integrated metabolic-regulatory model\n",
    "model = read_model(gem_reader, trn_reader)\n",
    "model"
   ],
   "metadata": {
    "collapsed": false,
    "pycharm": {
     "name": "#%%\n"
    }
   }
  },
  {
   "cell_type": "markdown",
   "source": [
    "## Inspecting MEW models\n",
    "\n",
    "A MEW model contains relevant metabolic information:\n",
    "- objective function\n",
    "- reactions\n",
    "- metabolites\n",
    "- genes\n",
    "- GPRs\n",
    "- compartments\n",
    "- exchange, demand and sink reactions\n",
    "- external compartment\n",
    "\n",
    "and regulatory information:\n",
    "- interactions\n",
    "- targets\n",
    "- regulators\n",
    "- environmental stimuli"
   ],
   "metadata": {
    "collapsed": false,
    "pycharm": {
     "name": "#%% md\n"
    }
   }
  },
  {
   "cell_type": "code",
   "execution_count": 4,
   "outputs": [
    {
     "data": {
      "text/plain": "{Reaction, Regulator: Biomass_Ecoli_core: 1.0}"
     },
     "execution_count": 4,
     "metadata": {},
     "output_type": "execute_result"
    }
   ],
   "source": [
    "# the objective function\n",
    "model.objective"
   ],
   "metadata": {
    "collapsed": false,
    "pycharm": {
     "name": "#%%\n"
    }
   }
  },
  {
   "cell_type": "code",
   "execution_count": 5,
   "outputs": [
    {
     "data": {
      "text/plain": "{'ACALD': Reaction: ACALD,\n 'ACALDt': Reaction: ACALDt,\n 'ACKr': Reaction: ACKr,\n 'ACONTa': Reaction: ACONTa,\n 'ACONTb': Reaction: ACONTb,\n 'ACt2r': Reaction: ACt2r,\n 'ADK1': Reaction: ADK1,\n 'AKGDH': Reaction: AKGDH,\n 'AKGt2r': Reaction: AKGt2r,\n 'ALCD2x': Reaction: ALCD2x,\n 'ATPM': Reaction: ATPM,\n 'ATPS4r': Reaction: ATPS4r,\n 'Biomass_Ecoli_core': Reaction, Regulator: Biomass_Ecoli_core,\n 'CO2t': Reaction: CO2t,\n 'CS': Reaction: CS,\n 'CYTBD': Reaction: CYTBD,\n 'D_LACt2': Reaction: D_LACt2,\n 'ENO': Reaction: ENO,\n 'ETOHt2r': Reaction: ETOHt2r,\n 'EX_ac_e': Reaction: EX_ac_e,\n 'EX_acald_e': Reaction: EX_acald_e,\n 'EX_akg_e': Reaction: EX_akg_e,\n 'EX_co2_e': Reaction: EX_co2_e,\n 'EX_etoh_e': Reaction: EX_etoh_e,\n 'EX_for_e': Reaction: EX_for_e,\n 'EX_fru_e': Reaction: EX_fru_e,\n 'EX_fum_e': Reaction: EX_fum_e,\n 'EX_glc__D_e': Reaction: EX_glc__D_e,\n 'EX_gln__L_e': Reaction: EX_gln__L_e,\n 'EX_glu__L_e': Reaction: EX_glu__L_e,\n 'EX_h_e': Reaction: EX_h_e,\n 'EX_h2o_e': Reaction: EX_h2o_e,\n 'EX_lac__D_e': Reaction: EX_lac__D_e,\n 'EX_mal__L_e': Reaction: EX_mal__L_e,\n 'EX_nh4_e': Reaction: EX_nh4_e,\n 'EX_o2_e': Reaction: EX_o2_e,\n 'EX_pi_e': Reaction: EX_pi_e,\n 'EX_pyr_e': Reaction: EX_pyr_e,\n 'EX_succ_e': Reaction: EX_succ_e,\n 'FBA': Reaction: FBA,\n 'FBP': Reaction, Regulator: FBP,\n 'FORt2': Reaction: FORt2,\n 'FORti': Reaction: FORti,\n 'FRD7': Reaction: FRD7,\n 'FRUpts2': Reaction: FRUpts2,\n 'FUM': Reaction: FUM,\n 'FUMt2_2': Reaction: FUMt2_2,\n 'G6PDH2r': Reaction: G6PDH2r,\n 'GAPD': Reaction: GAPD,\n 'GLCpts': Reaction, Regulator: GLCpts,\n 'GLNS': Reaction: GLNS,\n 'GLNabc': Reaction: GLNabc,\n 'GLUDy': Reaction: GLUDy,\n 'GLUN': Reaction: GLUN,\n 'GLUSy': Reaction: GLUSy,\n 'GLUt2r': Reaction: GLUt2r,\n 'GND': Reaction: GND,\n 'H2Ot': Reaction: H2Ot,\n 'ICDHyr': Reaction: ICDHyr,\n 'ICL': Reaction: ICL,\n 'LDH_D': Reaction, Regulator: LDH_D,\n 'MALS': Reaction: MALS,\n 'MALt2_2': Reaction: MALt2_2,\n 'MDH': Reaction: MDH,\n 'ME1': Reaction, Regulator: ME1,\n 'ME2': Reaction, Regulator: ME2,\n 'NADH16': Reaction: NADH16,\n 'NADTRHD': Reaction: NADTRHD,\n 'NH4t': Reaction: NH4t,\n 'O2t': Reaction: O2t,\n 'PDH': Reaction: PDH,\n 'PFK': Reaction, Regulator: PFK,\n 'PFL': Reaction: PFL,\n 'PGI': Reaction, Regulator: PGI,\n 'PGK': Reaction: PGK,\n 'PGL': Reaction: PGL,\n 'PGM': Reaction: PGM,\n 'PIt2r': Reaction: PIt2r,\n 'PPC': Reaction: PPC,\n 'PPCK': Reaction: PPCK,\n 'PPS': Reaction: PPS,\n 'PTAr': Reaction: PTAr,\n 'PYK': Reaction, Regulator: PYK,\n 'PYRt2': Reaction: PYRt2,\n 'RPE': Reaction: RPE,\n 'RPI': Reaction: RPI,\n 'SUCCt2_2': Reaction, Regulator: SUCCt2_2,\n 'SUCCt3': Reaction: SUCCt3,\n 'SUCDi': Reaction: SUCDi,\n 'SUCOAS': Reaction: SUCOAS,\n 'TALA': Reaction, Regulator: TALA,\n 'THD2': Reaction: THD2,\n 'TKT1': Reaction: TKT1,\n 'TKT2': Reaction, Regulator: TKT2,\n 'TPI': Reaction: TPI}"
     },
     "execution_count": 5,
     "metadata": {},
     "output_type": "execute_result"
    }
   ],
   "source": [
    "# reactions\n",
    "model.reactions"
   ],
   "metadata": {
    "collapsed": false,
    "pycharm": {
     "name": "#%%\n"
    }
   }
  },
  {
   "cell_type": "code",
   "execution_count": 6,
   "outputs": [
    {
     "data": {
      "text/plain": "{'acald_c': Metabolite: acald_c,\n 'coa_c': Metabolite: coa_c,\n 'nad_c': Metabolite: nad_c,\n 'accoa_c': Metabolite: accoa_c,\n 'h_c': Metabolite: h_c,\n 'nadh_c': Metabolite: nadh_c,\n 'acald_e': Metabolite: acald_e,\n 'ac_c': Metabolite: ac_c,\n 'atp_c': Metabolite: atp_c,\n 'actp_c': Metabolite: actp_c,\n 'adp_c': Metabolite: adp_c,\n 'cit_c': Metabolite: cit_c,\n 'acon_C_c': Metabolite: acon_C_c,\n 'h2o_c': Metabolite: h2o_c,\n 'icit_c': Metabolite: icit_c,\n 'ac_e': Metabolite, Regulator: ac_e,\n 'h_e': Metabolite: h_e,\n 'amp_c': Metabolite: amp_c,\n 'akg_c': Metabolite: akg_c,\n 'co2_c': Metabolite: co2_c,\n 'succoa_c': Metabolite: succoa_c,\n 'akg_e': Metabolite: akg_e,\n 'etoh_c': Metabolite: etoh_c,\n 'pi_c': Metabolite: pi_c,\n '3pg_c': Metabolite: 3pg_c,\n 'e4p_c': Metabolite: e4p_c,\n 'f6p_c': Metabolite: f6p_c,\n 'g3p_c': Metabolite: g3p_c,\n 'g6p_c': Metabolite: g6p_c,\n 'gln__L_c': Metabolite: gln__L_c,\n 'glu__L_c': Metabolite: glu__L_c,\n 'nadph_c': Metabolite: nadph_c,\n 'oaa_c': Metabolite: oaa_c,\n 'pep_c': Metabolite: pep_c,\n 'pyr_c': Metabolite: pyr_c,\n 'r5p_c': Metabolite: r5p_c,\n 'nadp_c': Metabolite: nadp_c,\n 'co2_e': Metabolite: co2_e,\n 'o2_c': Metabolite: o2_c,\n 'q8h2_c': Metabolite: q8h2_c,\n 'q8_c': Metabolite: q8_c,\n 'lac__D_e': Metabolite, Regulator: lac__D_e,\n 'lac__D_c': Metabolite: lac__D_c,\n '2pg_c': Metabolite: 2pg_c,\n 'etoh_e': Metabolite: etoh_e,\n 'for_e': Metabolite: for_e,\n 'fru_e': Metabolite, Regulator: fru_e,\n 'fum_e': Metabolite, Regulator: fum_e,\n 'glc__D_e': Metabolite, Regulator: glc__D_e,\n 'gln__L_e': Metabolite: gln__L_e,\n 'glu__L_e': Metabolite, Regulator: glu__L_e,\n 'h2o_e': Metabolite: h2o_e,\n 'mal__L_e': Metabolite, Regulator: mal__L_e,\n 'nh4_e': Metabolite, Regulator: nh4_e,\n 'o2_e': Metabolite, Regulator: o2_e,\n 'pi_e': Metabolite, Regulator: pi_e,\n 'pyr_e': Metabolite: pyr_e,\n 'succ_e': Metabolite, Regulator: succ_e,\n 'fdp_c': Metabolite: fdp_c,\n 'dhap_c': Metabolite: dhap_c,\n 'for_c': Metabolite: for_c,\n 'fum_c': Metabolite: fum_c,\n 'succ_c': Metabolite: succ_c,\n 'mal__L_c': Metabolite: mal__L_c,\n '6pgl_c': Metabolite: 6pgl_c,\n '13dpg_c': Metabolite: 13dpg_c,\n 'nh4_c': Metabolite: nh4_c,\n '6pgc_c': Metabolite: 6pgc_c,\n 'ru5p__D_c': Metabolite: ru5p__D_c,\n 'glx_c': Metabolite: glx_c,\n 'xu5p__D_c': Metabolite: xu5p__D_c,\n 's7p_c': Metabolite: s7p_c}"
     },
     "execution_count": 6,
     "metadata": {},
     "output_type": "execute_result"
    }
   ],
   "source": [
    "# metabolites\n",
    "model.metabolites"
   ],
   "metadata": {
    "collapsed": false,
    "pycharm": {
     "name": "#%%\n"
    }
   }
  },
  {
   "cell_type": "code",
   "execution_count": 7,
   "outputs": [
    {
     "data": {
      "text/plain": "{'b0008_interaction': Interaction: b0008_interaction,\n 'FruR_interaction': Interaction: FruR_interaction,\n 'PdhR_interaction': Interaction: PdhR_interaction,\n 'aceE_interaction': Interaction: aceE_interaction,\n 'aceF_interaction': Interaction: aceF_interaction,\n 'b0116_interaction': Interaction: b0116_interaction,\n 'b0118_interaction': Interaction: b0118_interaction,\n 'b0351_interaction': Interaction: b0351_interaction,\n 'b0356_interaction': Interaction: b0356_interaction,\n 'PhoB_interaction': Interaction: PhoB_interaction,\n 'PhoR_interaction': Interaction: PhoR_interaction,\n 'b0451_interaction': Interaction: b0451_interaction,\n 'b0474_interaction': Interaction: b0474_interaction,\n 'b0485_interaction': Interaction: b0485_interaction,\n 'b0720_interaction': Interaction: b0720_interaction,\n 'sdhC_interaction': Interaction: sdhC_interaction,\n 'sdhD_interaction': Interaction: sdhD_interaction,\n 'sdhA_interaction': Interaction: sdhA_interaction,\n 'sdhB_interaction': Interaction: sdhB_interaction,\n 'b0726_interaction': Interaction: b0726_interaction,\n 'b0727_interaction': Interaction: b0727_interaction,\n 'b0728_interaction': Interaction: b0728_interaction,\n 'b0729_interaction': Interaction: b0729_interaction,\n 'cydA_interaction': Interaction: cydA_interaction,\n 'cydB_interaction': Interaction: cydB_interaction,\n 'b0755_interaction': Interaction: b0755_interaction,\n 'b0767_interaction': Interaction: b0767_interaction,\n 'b0809_interaction': Interaction: b0809_interaction,\n 'b0810_interaction': Interaction: b0810_interaction,\n 'b0811_interaction': Interaction: b0811_interaction,\n 'b0875_interaction': Interaction: b0875_interaction,\n 'pflA_interaction': Interaction: pflA_interaction,\n 'pflB_interaction': Interaction: pflB_interaction,\n 'focA_interaction': Interaction: focA_interaction,\n 'b0978_interaction': Interaction: b0978_interaction,\n 'b0979_interaction': Interaction: b0979_interaction,\n 'ptsG_interaction': Interaction: ptsG_interaction,\n 'b1137_interaction': Interaction: b1137_interaction,\n 'FadR_interaction': Interaction: FadR_interaction,\n 'adhE_interaction': Interaction: adhE_interaction,\n 'b1276_interaction': Interaction: b1276_interaction,\n 'b1297_interaction': Interaction: b1297_interaction,\n 'Fnr_interaction': Interaction: Fnr_interaction,\n 'b1380_interaction': Interaction: b1380_interaction,\n 'b1478_interaction': Interaction: b1478_interaction,\n 'b1479_interaction': Interaction: b1479_interaction,\n 'yneH_interaction': Interaction: yneH_interaction,\n 'Mlc_interaction': Interaction: Mlc_interaction,\n 'b1602_interaction': Interaction: b1602_interaction,\n 'b1603_interaction': Interaction: b1603_interaction,\n 'fumC_interaction': Interaction: fumC_interaction,\n 'fumA_interaction': Interaction: fumA_interaction,\n 'b1622_interaction': Interaction: b1622_interaction,\n 'pykF_interaction': Interaction: pykF_interaction,\n 'pps_interaction': Interaction: pps_interaction,\n 'b1724_interaction': Interaction: b1724_interaction,\n 'gdhA_interaction': Interaction: gdhA_interaction,\n 'b1773_interaction': Interaction: b1773_interaction,\n 'b1779_interaction': Interaction: b1779_interaction,\n 'b1812_interaction': Interaction: b1812_interaction,\n 'manX_interaction': Interaction: manX_interaction,\n 'manY_interaction': Interaction: manY_interaction,\n 'manZ_interaction': Interaction: manZ_interaction,\n 'b1849_interaction': Interaction: b1849_interaction,\n 'b1852_interaction': Interaction: b1852_interaction,\n 'b1854_interaction': Interaction: b1854_interaction,\n 'Nac_interaction': Interaction: Nac_interaction,\n 'b2029_interaction': Interaction: b2029_interaction,\n 'b2097_interaction': Interaction: b2097_interaction,\n 'b2133_interaction': Interaction: b2133_interaction,\n 'nuoN_interaction': Interaction: nuoN_interaction,\n 'nuoM_interaction': Interaction: nuoM_interaction,\n 'nuoL_interaction': Interaction: nuoL_interaction,\n 'nuoK_interaction': Interaction: nuoK_interaction,\n 'nuoJ_interaction': Interaction: nuoJ_interaction,\n 'nuoI_interaction': Interaction: nuoI_interaction,\n 'nuoH_interaction': Interaction: nuoH_interaction,\n 'nuoG_interaction': Interaction: nuoG_interaction,\n 'nuoF_interaction': Interaction: nuoF_interaction,\n 'nuoE_interaction': Interaction: nuoE_interaction,\n 'nuoC_interaction': Interaction: nuoC_interaction,\n 'nuoB_interaction': Interaction: nuoB_interaction,\n 'nuoA_interaction': Interaction: nuoA_interaction,\n 'b2296_interaction': Interaction: b2296_interaction,\n 'b2297_interaction': Interaction: b2297_interaction,\n 'b2415_interaction': Interaction: b2415_interaction,\n 'b2416_interaction': Interaction: b2416_interaction,\n 'b2417_interaction': Interaction: b2417_interaction,\n 'b2458_interaction': Interaction: b2458_interaction,\n 'b2463_interaction': Interaction: b2463_interaction,\n 'b2464_interaction': Interaction: b2464_interaction,\n 'b2465_interaction': Interaction: b2465_interaction,\n 'focB_interaction': Interaction: focB_interaction,\n 'b2579_interaction': Interaction: b2579_interaction,\n 'b2587_interaction': Interaction: b2587_interaction,\n 'b2779_interaction': Interaction: b2779_interaction,\n 'b2914_interaction': Interaction: b2914_interaction,\n 'b2925_interaction': Interaction: b2925_interaction,\n 'b2926_interaction': Interaction: b2926_interaction,\n 'b2935_interaction': Interaction: b2935_interaction,\n 'glcA_interaction': Interaction: glcA_interaction,\n 'glcB_interaction': Interaction: glcB_interaction,\n 'GlcC_interaction': Interaction: GlcC_interaction,\n 'pitB_interaction': Interaction: pitB_interaction,\n 'tdcE_interaction': Interaction: tdcE_interaction,\n 'tdcD_interaction': Interaction: tdcD_interaction,\n 'gltB_interaction': Interaction: gltB_interaction,\n 'gltD_interaction': Interaction: gltD_interaction,\n 'mdh_interaction': Interaction: mdh_interaction,\n 'Fis_interaction': Interaction: Fis_interaction,\n 'Crp_interaction': Interaction: Crp_interaction,\n 'b3386_interaction': Interaction: b3386_interaction,\n 'b3403_interaction': Interaction: b3403_interaction,\n 'b3493_interaction': Interaction: b3493_interaction,\n 'dctA_interaction': Interaction: dctA_interaction,\n 'lldP_interaction': Interaction: lldP_interaction,\n 'b3612_interaction': Interaction: b3612_interaction,\n 'b3731_interaction': Interaction: b3731_interaction,\n 'b3732_interaction': Interaction: b3732_interaction,\n 'b3733_interaction': Interaction: b3733_interaction,\n 'b3734_interaction': Interaction: b3734_interaction,\n 'b3735_interaction': Interaction: b3735_interaction,\n 'b3736_interaction': Interaction: b3736_interaction,\n 'b3737_interaction': Interaction: b3737_interaction,\n 'b3738_interaction': Interaction: b3738_interaction,\n 'b3739_interaction': Interaction: b3739_interaction,\n 'GlnG_interaction': Interaction: GlnG_interaction,\n 'glnA_interaction': Interaction: glnA_interaction,\n 'b3916_interaction': Interaction: b3916_interaction,\n 'b3919_interaction': Interaction: b3919_interaction,\n 'b3925_interaction': Interaction: b3925_interaction,\n 'pflD_interaction': Interaction: pflD_interaction,\n 'pflC_interaction': Interaction: pflC_interaction,\n 'b3956_interaction': Interaction: b3956_interaction,\n 'b3962_interaction': Interaction: b3962_interaction,\n 'aceB_interaction': Interaction: aceB_interaction,\n 'aceA_interaction': Interaction: aceA_interaction,\n 'IclR_interaction': Interaction: IclR_interaction,\n 'b4025_interaction': Interaction: b4025_interaction,\n 'b4077_interaction': Interaction: b4077_interaction,\n 'b4090_interaction': Interaction: b4090_interaction,\n 'fumB_interaction': Interaction: fumB_interaction,\n 'DcuR_interaction': Interaction: DcuR_interaction,\n 'DcuS_interaction': Interaction: DcuS_interaction,\n 'frdD_interaction': Interaction: frdD_interaction,\n 'frdC_interaction': Interaction: frdC_interaction,\n 'frdB_interaction': Interaction: frdB_interaction,\n 'frdA_interaction': Interaction: frdA_interaction,\n 'b4232_interaction': Interaction: b4232_interaction,\n 'b4301_interaction': Interaction: b4301_interaction,\n 'b4395_interaction': Interaction: b4395_interaction,\n 'ArcA_interaction': Interaction: ArcA_interaction,\n 's0001_interaction': Interaction: s0001_interaction,\n 'CRPnoGLC_interaction': Interaction: CRPnoGLC_interaction,\n 'CRPnoGLM_interaction': Interaction: CRPnoGLM_interaction,\n 'NRI_hi_interaction': Interaction: NRI_hi_interaction,\n 'NRI_low_interaction': Interaction: NRI_low_interaction,\n 'surplusFDP_interaction': Interaction: surplusFDP_interaction,\n 'surplusPYR_interaction': Interaction: surplusPYR_interaction}"
     },
     "execution_count": 7,
     "metadata": {},
     "output_type": "execute_result"
    }
   ],
   "source": [
    "# interactions\n",
    "model.interactions"
   ],
   "metadata": {
    "collapsed": false,
    "pycharm": {
     "name": "#%%\n"
    }
   }
  },
  {
   "cell_type": "code",
   "execution_count": 8,
   "outputs": [
    {
     "data": {
      "text/plain": "{'surplusFDP': Target, Regulator: surplusFDP,\n 'surplusPYR': Target, Regulator: surplusPYR,\n 'PdhR': Target, Regulator: PdhR,\n 'Fis': Target, Regulator: Fis,\n 'PhoR': Target, Regulator: PhoR,\n 'pi_e': Metabolite, Regulator: pi_e,\n 'ArcA': Target, Regulator: ArcA,\n 'Fnr': Target, Regulator: Fnr,\n 'Crp': Target, Regulator: Crp,\n 'Mlc': Target, Regulator: Mlc,\n 'FruR': Target, Regulator: FruR,\n 'glc__D_e': Metabolite, Regulator: glc__D_e,\n 'ac_e': Metabolite, Regulator: ac_e,\n 'o2_e': Metabolite, Regulator: o2_e,\n 'nh4_e': Metabolite, Regulator: nh4_e,\n 'Nac': Target, Regulator: Nac,\n 'glu__L_e': Metabolite, Regulator: glu__L_e,\n 'CRPnoGLM': Target, Regulator: CRPnoGLM,\n 'NRI_low': Target, Regulator: NRI_low,\n 'GlcC': Target, Regulator: GlcC,\n 'PhoB': Target, Regulator: PhoB,\n 'NRI_hi': Target, Regulator: NRI_hi,\n 'Biomass_Ecoli_core': Reaction, Regulator: Biomass_Ecoli_core,\n 'CRPnoGLC': Target, Regulator: CRPnoGLC,\n 'DcuR': Target, Regulator: DcuR,\n 'IclR': Target, Regulator: IclR,\n 'FadR': Target, Regulator: FadR,\n 'DcuS': Target, Regulator: DcuS,\n 'succ_e': Metabolite, Regulator: succ_e,\n 'fum_e': Metabolite, Regulator: fum_e,\n 'mal__L_e': Metabolite, Regulator: mal__L_e,\n 'lac__D_e': Metabolite, Regulator: lac__D_e,\n 'GlnG': Target, Regulator: GlnG,\n 'FBP': Reaction, Regulator: FBP,\n 'TKT2': Reaction, Regulator: TKT2,\n 'TALA': Reaction, Regulator: TALA,\n 'PGI': Reaction, Regulator: PGI,\n 'fru_e': Metabolite, Regulator: fru_e,\n 'ME2': Reaction, Regulator: ME2,\n 'ME1': Reaction, Regulator: ME1,\n 'GLCpts': Reaction, Regulator: GLCpts,\n 'PYK': Reaction, Regulator: PYK,\n 'PFK': Reaction, Regulator: PFK,\n 'LDH_D': Reaction, Regulator: LDH_D,\n 'SUCCt2_2': Reaction, Regulator: SUCCt2_2}"
     },
     "execution_count": 8,
     "metadata": {},
     "output_type": "execute_result"
    }
   ],
   "source": [
    "# regulators\n",
    "model.regulators"
   ],
   "metadata": {
    "collapsed": false,
    "pycharm": {
     "name": "#%%\n"
    }
   }
  },
  {
   "cell_type": "code",
   "execution_count": 38,
   "outputs": [
    {
     "data": {
      "text/plain": "{'EX_ac_e': Reaction: EX_ac_e,\n 'EX_acald_e': Reaction: EX_acald_e,\n 'EX_akg_e': Reaction: EX_akg_e,\n 'EX_co2_e': Reaction: EX_co2_e,\n 'EX_etoh_e': Reaction: EX_etoh_e,\n 'EX_for_e': Reaction: EX_for_e,\n 'EX_fru_e': Reaction: EX_fru_e,\n 'EX_fum_e': Reaction: EX_fum_e,\n 'EX_glc__D_e': Reaction: EX_glc__D_e,\n 'EX_gln__L_e': Reaction: EX_gln__L_e,\n 'EX_glu__L_e': Reaction: EX_glu__L_e,\n 'EX_h_e': Reaction: EX_h_e,\n 'EX_h2o_e': Reaction: EX_h2o_e,\n 'EX_lac__D_e': Reaction: EX_lac__D_e,\n 'EX_mal__L_e': Reaction: EX_mal__L_e,\n 'EX_nh4_e': Reaction: EX_nh4_e,\n 'EX_o2_e': Reaction: EX_o2_e,\n 'EX_pi_e': Reaction: EX_pi_e,\n 'EX_pyr_e': Reaction: EX_pyr_e,\n 'EX_succ_e': Reaction: EX_succ_e}"
     },
     "execution_count": 38,
     "metadata": {},
     "output_type": "execute_result"
    }
   ],
   "source": [
    "# exchange reactions\n",
    "model.exchanges"
   ],
   "metadata": {
    "collapsed": false,
    "pycharm": {
     "name": "#%%\n"
    }
   }
  },
  {
   "cell_type": "code",
   "execution_count": 39,
   "outputs": [
    {
     "data": {
      "text/plain": "{'pi_e': Metabolite, Regulator: pi_e,\n 'glc__D_e': Metabolite, Regulator: glc__D_e,\n 'ac_e': Metabolite, Regulator: ac_e,\n 'o2_e': Metabolite, Regulator: o2_e,\n 'nh4_e': Metabolite, Regulator: nh4_e,\n 'glu__L_e': Metabolite, Regulator: glu__L_e,\n 'Biomass_Ecoli_core': Reaction, Regulator: Biomass_Ecoli_core,\n 'succ_e': Metabolite, Regulator: succ_e,\n 'fum_e': Metabolite, Regulator: fum_e,\n 'mal__L_e': Metabolite, Regulator: mal__L_e,\n 'lac__D_e': Metabolite, Regulator: lac__D_e,\n 'FBP': Reaction, Regulator: FBP,\n 'TKT2': Reaction, Regulator: TKT2,\n 'TALA': Reaction, Regulator: TALA,\n 'PGI': Reaction, Regulator: PGI,\n 'fru_e': Metabolite, Regulator: fru_e,\n 'ME2': Reaction, Regulator: ME2,\n 'ME1': Reaction, Regulator: ME1,\n 'GLCpts': Reaction, Regulator: GLCpts,\n 'PYK': Reaction, Regulator: PYK,\n 'LDH_D': Reaction, Regulator: LDH_D,\n 'SUCCt2_2': Reaction, Regulator: SUCCt2_2,\n 'PFK': Reaction, Regulator: PFK}"
     },
     "execution_count": 39,
     "metadata": {},
     "output_type": "execute_result"
    }
   ],
   "source": [
    "# environmental stimuli\n",
    "model.environmental_stimuli"
   ],
   "metadata": {
    "collapsed": false,
    "pycharm": {
     "name": "#%%\n"
    }
   }
  },
  {
   "cell_type": "markdown",
   "source": [
    "## Working with MEW models\n",
    "\n",
    "A MEW model includes several containers to store reactions, metabolites, genes, interactions, targets, and regulators.\n",
    "These containers are regular Python dictionaries, thus one can access variables using their identifier or the dictionary interface.\n",
    "One can also yield variables from the model using the model `yield_...` methods"
   ],
   "metadata": {
    "collapsed": false,
    "pycharm": {
     "name": "#%% md\n"
    }
   }
  },
  {
   "cell_type": "code",
   "execution_count": 9,
   "outputs": [
    {
     "data": {
      "text/plain": "Reaction: PDH"
     },
     "execution_count": 9,
     "metadata": {},
     "output_type": "execute_result"
    }
   ],
   "source": [
    "# get PDH reaction from the model\n",
    "pdh = model.reactions['PDH']\n",
    "pdh"
   ],
   "metadata": {
    "collapsed": false,
    "pycharm": {
     "name": "#%%\n"
    }
   }
  },
  {
   "cell_type": "code",
   "execution_count": 10,
   "outputs": [
    {
     "data": {
      "text/plain": "Target, Regulator: PdhR"
     },
     "execution_count": 10,
     "metadata": {},
     "output_type": "execute_result"
    }
   ],
   "source": [
    "# get the PdhR regulator\n",
    "pdh_r = model.regulators.get('PdhR')\n",
    "pdh_r"
   ],
   "metadata": {
    "collapsed": false,
    "pycharm": {
     "name": "#%%\n"
    }
   }
  },
  {
   "cell_type": "code",
   "execution_count": 11,
   "outputs": [
    {
     "name": "stdout",
     "output_type": "stream",
     "text": [
      "b0351\n",
      "b1241\n",
      "s0001\n",
      "b2296\n",
      "b3115\n",
      "b1849\n",
      "b0118\n",
      "b1276\n",
      "b0474\n",
      "b0726\n",
      "b0116\n",
      "b0727\n",
      "b2587\n",
      "b1478\n",
      "b0356\n",
      "b3738\n",
      "b3736\n",
      "b3737\n",
      "b3735\n",
      "b3733\n",
      "b3731\n",
      "b3732\n",
      "b3734\n",
      "b3739\n",
      "b0720\n",
      "b0978\n",
      "b0979\n",
      "b0733\n",
      "b0734\n",
      "b2975\n",
      "b3603\n",
      "b2779\n",
      "b1773\n",
      "b2097\n",
      "b2925\n",
      "b3925\n",
      "b4232\n",
      "b0904\n",
      "b2492\n",
      "b4153\n",
      "b4151\n",
      "b4152\n",
      "b4154\n",
      "b2415\n",
      "b1818\n",
      "b1817\n",
      "b1819\n",
      "b2416\n",
      "b4122\n",
      "b1612\n",
      "b1611\n",
      "b3528\n",
      "b1852\n",
      "b1779\n",
      "b2417\n",
      "b1101\n",
      "b1621\n",
      "b3870\n",
      "b1297\n",
      "b0810\n",
      "b0811\n",
      "b0809\n",
      "b1761\n",
      "b0485\n",
      "b1812\n",
      "b1524\n",
      "b3212\n",
      "b3213\n",
      "b4077\n",
      "b2029\n",
      "b0875\n",
      "b1136\n",
      "b4015\n",
      "b2133\n",
      "b1380\n",
      "b4014\n",
      "b2976\n",
      "b3236\n",
      "b1479\n",
      "b2463\n",
      "b2287\n",
      "b2285\n",
      "b2283\n",
      "b2281\n",
      "b2279\n",
      "b2277\n",
      "b2276\n",
      "b2278\n",
      "b2280\n",
      "b2282\n",
      "b2284\n",
      "b2286\n",
      "b2288\n",
      "b3962\n",
      "b1602\n",
      "b1603\n",
      "b0451\n",
      "b0115\n",
      "b0114\n",
      "b3916\n",
      "b1723\n",
      "b0902\n",
      "b3114\n",
      "b0903\n",
      "b2579\n",
      "b3951\n",
      "b3952\n",
      "b4025\n",
      "b2926\n",
      "b0767\n",
      "b4395\n",
      "b3612\n",
      "b0755\n",
      "b2987\n",
      "b3493\n",
      "b3956\n",
      "b3403\n",
      "b1702\n",
      "b2297\n",
      "b2458\n",
      "b1854\n",
      "b1676\n",
      "b3386\n",
      "b4301\n",
      "b2914\n",
      "b4090\n",
      "b0723\n",
      "b0721\n",
      "b0722\n",
      "b0724\n",
      "b0728\n",
      "b0729\n",
      "b2464\n",
      "b0008\n",
      "b2935\n",
      "b2465\n",
      "b3919\n"
     ]
    }
   ],
   "source": [
    "# iterate over genes\n",
    "for gene in model.yield_genes():\n",
    "    print(gene.id)"
   ],
   "metadata": {
    "collapsed": false,
    "pycharm": {
     "name": "#%%\n"
    }
   }
  },
  {
   "cell_type": "markdown",
   "source": [
    "A MEW model contains a simple interface to work with integrated models.\n",
    "A MEW model supports the following operations:\n",
    "- `get(identifier, default=None)` - It retrieves the variable by its identifier\n",
    "- `add(variables)` - It adds new variables to the model\n",
    "- `remove(variables)` - It removes variables from the model\n",
    "- `update(variables, objective, ...)` - It updates variables, compartments, objective, etc, in the model\n",
    "- `copy()` - It makes a shallow copy of the model\n",
    "- `deepcopy()` - It makes a deep copy of the model"
   ],
   "metadata": {
    "collapsed": false,
    "pycharm": {
     "name": "#%% md\n"
    }
   }
  },
  {
   "cell_type": "code",
   "execution_count": 12,
   "outputs": [
    {
     "data": {
      "text/plain": "Target, Regulator: Crp"
     },
     "execution_count": 12,
     "metadata": {},
     "output_type": "execute_result"
    }
   ],
   "source": [
    "# get the Crp regulator\n",
    "crp = model.get('Crp')\n",
    "crp"
   ],
   "metadata": {
    "collapsed": false,
    "pycharm": {
     "name": "#%%\n"
    }
   }
  },
  {
   "cell_type": "code",
   "execution_count": 19,
   "outputs": [
    {
     "data": {
      "text/plain": "False"
     },
     "execution_count": 19,
     "metadata": {},
     "output_type": "execute_result"
    }
   ],
   "source": [
    "# remove the regulator from the model\n",
    "model.remove(crp)\n",
    "'Crp' in model.regulators"
   ],
   "metadata": {
    "collapsed": false,
    "pycharm": {
     "name": "#%%\n"
    }
   }
  },
  {
   "cell_type": "code",
   "execution_count": 20,
   "outputs": [
    {
     "data": {
      "text/plain": "True"
     },
     "execution_count": 20,
     "metadata": {},
     "output_type": "execute_result"
    }
   ],
   "source": [
    "# add the regulatory back to the model\n",
    "model.add(crp)\n",
    "'Crp' in model.regulators"
   ],
   "metadata": {
    "collapsed": false,
    "pycharm": {
     "name": "#%%\n"
    }
   }
  },
  {
   "cell_type": "code",
   "execution_count": 27,
   "outputs": [
    {
     "name": "stdout",
     "output_type": "stream",
     "text": [
      "Same objects: False\n",
      "Same variables: True\n"
     ]
    }
   ],
   "source": [
    "# shallow copy only performs a copy of the containers not the variables\n",
    "model_copy = model.copy()\n",
    "print('Same objects:', model is model_copy)\n",
    "print('Same variables:', crp is model_copy.regulators['Crp'])"
   ],
   "metadata": {
    "collapsed": false,
    "pycharm": {
     "name": "#%%\n"
    }
   }
  },
  {
   "cell_type": "markdown",
   "source": [
    "MEW models support temporary changes using the `with` context manager. In addition, one can manually `undo()`, `redo()`, `reset()` and `restore()` a MEW model."
   ],
   "metadata": {
    "collapsed": false,
    "pycharm": {
     "name": "#%% md\n"
    }
   }
  },
  {
   "cell_type": "code",
   "execution_count": 35,
   "outputs": [
    {
     "name": "stdout",
     "output_type": "stream",
     "text": [
      "Is PFK in the model? False\n",
      "Out the with manager, Is PFK in the model? True\n"
     ]
    }
   ],
   "source": [
    "pfk = model.get('PFK')\n",
    "\n",
    "with model:\n",
    "    model.remove(pfk)\n",
    "    print('Is PFK in the model?', 'PFK' in model.reactions)\n",
    "\n",
    "print('Out the with manager, Is PFK in the model?', 'PFK' in model.reactions)"
   ],
   "metadata": {
    "collapsed": false,
    "pycharm": {
     "name": "#%%\n"
    }
   }
  },
  {
   "cell_type": "code",
   "execution_count": 37,
   "outputs": [
    {
     "name": "stdout",
     "output_type": "stream",
     "text": [
      "New objective function: {Reaction, Regulator: PFK: 1}\n",
      "Original model: {Reaction, Regulator: Biomass_Ecoli_core: 1.0}\n"
     ]
    }
   ],
   "source": [
    "# let's reset the model to the initial state\n",
    "model.objective = {pfk: 1}\n",
    "print('New objective function:', model.objective)\n",
    "\n",
    "model.reset()\n",
    "print('Original model:', model.objective)"
   ],
   "metadata": {
    "collapsed": false,
    "pycharm": {
     "name": "#%%\n"
    }
   }
  },
  {
   "cell_type": "markdown",
   "source": [
    "## Working with multi-type MEW models\n",
    "\n",
    "\n",
    "MEW model are multi-type models by nature, as they are aimed at supporting integrated models of metabolism and regulation.\n",
    "However, when working with a MEW model, one is manipulating both a metabolic and regulatory model.\n",
    "Thus, one can manipulate a single regulatory or metabolic model.\n",
    "\n",
    "MEWpy allows building single- or multi-type models easily. And, if you are confused about which model you are working with, you can always check the model types."
   ],
   "metadata": {
    "collapsed": false,
    "pycharm": {
     "name": "#%% md\n"
    }
   }
  },
  {
   "cell_type": "code",
   "execution_count": 40,
   "outputs": [
    {
     "data": {
      "text/plain": "{'metabolic', 'regulatory'}"
     },
     "execution_count": 40,
     "metadata": {},
     "output_type": "execute_result"
    }
   ],
   "source": [
    "# the current model types\n",
    "model.types"
   ],
   "metadata": {
    "collapsed": false,
    "pycharm": {
     "name": "#%%\n"
    }
   }
  },
  {
   "cell_type": "code",
   "execution_count": 53,
   "outputs": [
    {
     "data": {
      "text/plain": "{'regulatory'}"
     },
     "execution_count": 53,
     "metadata": {},
     "output_type": "execute_result"
    }
   ],
   "source": [
    "from mewpy.model import RegulatoryModel\n",
    "\n",
    "# creating a new regulatory model\n",
    "reg_model = RegulatoryModel(identifier='my_regulatory_model')\n",
    "reg_model.types"
   ],
   "metadata": {
    "collapsed": false,
    "pycharm": {
     "name": "#%%\n"
    }
   }
  },
  {
   "cell_type": "code",
   "execution_count": 54,
   "outputs": [
    {
     "data": {
      "text/plain": "False"
     },
     "execution_count": 54,
     "metadata": {},
     "output_type": "execute_result"
    }
   ],
   "source": [
    "# a regulatory model does not have reactions, metabolites, etc.\n",
    "hasattr(reg_model, 'reactions')"
   ],
   "metadata": {
    "collapsed": false,
    "pycharm": {
     "name": "#%%\n"
    }
   }
  },
  {
   "cell_type": "code",
   "execution_count": 57,
   "outputs": [
    {
     "data": {
      "text/plain": "False"
     },
     "execution_count": 57,
     "metadata": {},
     "output_type": "execute_result"
    }
   ],
   "source": [
    "# check if the model is metabolic\n",
    "reg_model.is_metabolic()"
   ],
   "metadata": {
    "collapsed": false,
    "pycharm": {
     "name": "#%%\n"
    }
   }
  },
  {
   "cell_type": "code",
   "execution_count": 55,
   "outputs": [
    {
     "name": "stdout",
     "output_type": "stream",
     "text": [
      "Interactions:  159\n",
      "Targets:  159\n",
      "Regulators:  45\n"
     ]
    }
   ],
   "source": [
    "# adding the interactions from E. coli core model to my new model.\n",
    "\n",
    "# deepcopy of E. coli core model to duplicate the variables too.\n",
    "model_deep_copy = model.deepcopy()\n",
    "\n",
    "# the add method accepts a single variable or list of variables.\n",
    "e_coli_interactions = list(model_deep_copy.interactions.values())\n",
    "\n",
    "# If you use the comprehensive option, interaction children will be added to the model too.\n",
    "reg_model.add(e_coli_interactions, comprehensive=True)\n",
    "\n",
    "print('Interactions: ', len(reg_model.interactions))\n",
    "print('Targets: ', len(reg_model.targets))\n",
    "print('Regulators: ', len(reg_model.regulators))"
   ],
   "metadata": {
    "collapsed": false,
    "pycharm": {
     "name": "#%%\n"
    }
   }
  },
  {
   "cell_type": "code",
   "execution_count": 56,
   "outputs": [
    {
     "data": {
      "text/plain": "False"
     },
     "execution_count": 56,
     "metadata": {},
     "output_type": "execute_result"
    }
   ],
   "source": [
    "# my regulatory model has the same regulators as the E. coli core model. Yet, the variables are different objects\n",
    "reg_model.get('Crp') is model.get('Crp')"
   ],
   "metadata": {
    "collapsed": false,
    "pycharm": {
     "name": "#%%\n"
    }
   }
  },
  {
   "cell_type": "code",
   "execution_count": 60,
   "outputs": [
    {
     "data": {
      "text/plain": "{'ACALD': Reaction: ACALD,\n 'ACALDt': Reaction: ACALDt,\n 'ACKr': Reaction: ACKr,\n 'ACONTa': Reaction: ACONTa,\n 'ACONTb': Reaction: ACONTb,\n 'ACt2r': Reaction: ACt2r,\n 'ADK1': Reaction: ADK1,\n 'AKGDH': Reaction: AKGDH,\n 'AKGt2r': Reaction: AKGt2r,\n 'ALCD2x': Reaction: ALCD2x,\n 'ATPM': Reaction: ATPM,\n 'ATPS4r': Reaction: ATPS4r,\n 'Biomass_Ecoli_core': Reaction, Regulator: Biomass_Ecoli_core,\n 'CO2t': Reaction: CO2t,\n 'CS': Reaction: CS,\n 'CYTBD': Reaction: CYTBD,\n 'D_LACt2': Reaction: D_LACt2,\n 'ENO': Reaction: ENO,\n 'ETOHt2r': Reaction: ETOHt2r,\n 'EX_ac_e': Reaction: EX_ac_e,\n 'EX_acald_e': Reaction: EX_acald_e,\n 'EX_akg_e': Reaction: EX_akg_e,\n 'EX_co2_e': Reaction: EX_co2_e,\n 'EX_etoh_e': Reaction: EX_etoh_e,\n 'EX_for_e': Reaction: EX_for_e,\n 'EX_fru_e': Reaction: EX_fru_e,\n 'EX_fum_e': Reaction: EX_fum_e,\n 'EX_glc__D_e': Reaction: EX_glc__D_e,\n 'EX_gln__L_e': Reaction: EX_gln__L_e,\n 'EX_glu__L_e': Reaction: EX_glu__L_e,\n 'EX_h_e': Reaction: EX_h_e,\n 'EX_h2o_e': Reaction: EX_h2o_e,\n 'EX_lac__D_e': Reaction: EX_lac__D_e,\n 'EX_mal__L_e': Reaction: EX_mal__L_e,\n 'EX_nh4_e': Reaction: EX_nh4_e,\n 'EX_o2_e': Reaction: EX_o2_e,\n 'EX_pi_e': Reaction: EX_pi_e,\n 'EX_pyr_e': Reaction: EX_pyr_e,\n 'EX_succ_e': Reaction: EX_succ_e,\n 'FBA': Reaction: FBA,\n 'FBP': Reaction, Regulator: FBP,\n 'FORt2': Reaction: FORt2,\n 'FORti': Reaction: FORti,\n 'FRD7': Reaction: FRD7,\n 'FRUpts2': Reaction: FRUpts2,\n 'FUM': Reaction: FUM,\n 'FUMt2_2': Reaction: FUMt2_2,\n 'G6PDH2r': Reaction: G6PDH2r,\n 'GAPD': Reaction: GAPD,\n 'GLCpts': Reaction, Regulator: GLCpts,\n 'GLNS': Reaction: GLNS,\n 'GLNabc': Reaction: GLNabc,\n 'GLUDy': Reaction: GLUDy,\n 'GLUN': Reaction: GLUN,\n 'GLUSy': Reaction: GLUSy,\n 'GLUt2r': Reaction: GLUt2r,\n 'GND': Reaction: GND,\n 'H2Ot': Reaction: H2Ot,\n 'ICDHyr': Reaction: ICDHyr,\n 'ICL': Reaction: ICL,\n 'LDH_D': Reaction, Regulator: LDH_D,\n 'MALS': Reaction: MALS,\n 'MALt2_2': Reaction: MALt2_2,\n 'MDH': Reaction: MDH,\n 'ME1': Reaction, Regulator: ME1,\n 'ME2': Reaction, Regulator: ME2,\n 'NADH16': Reaction: NADH16,\n 'NADTRHD': Reaction: NADTRHD,\n 'NH4t': Reaction: NH4t,\n 'O2t': Reaction: O2t,\n 'PDH': Reaction: PDH,\n 'PFL': Reaction: PFL,\n 'PGI': Reaction, Regulator: PGI,\n 'PGK': Reaction: PGK,\n 'PGL': Reaction: PGL,\n 'PGM': Reaction: PGM,\n 'PIt2r': Reaction: PIt2r,\n 'PPC': Reaction: PPC,\n 'PPCK': Reaction: PPCK,\n 'PPS': Reaction: PPS,\n 'PTAr': Reaction: PTAr,\n 'PYK': Reaction, Regulator: PYK,\n 'PYRt2': Reaction: PYRt2,\n 'RPE': Reaction: RPE,\n 'RPI': Reaction: RPI,\n 'SUCCt2_2': Reaction, Regulator: SUCCt2_2,\n 'SUCCt3': Reaction: SUCCt3,\n 'SUCDi': Reaction: SUCDi,\n 'SUCOAS': Reaction: SUCOAS,\n 'TALA': Reaction, Regulator: TALA,\n 'THD2': Reaction: THD2,\n 'TKT1': Reaction: TKT1,\n 'TKT2': Reaction, Regulator: TKT2,\n 'TPI': Reaction: TPI,\n 'PFK': Reaction, Regulator: PFK}"
     },
     "execution_count": 60,
     "metadata": {},
     "output_type": "execute_result"
    }
   ],
   "source": [
    "from mewpy.model import Model\n",
    "\n",
    "e_coli_reactions = model_deep_copy.reactions.copy()\n",
    "\n",
    "# one can build MEW models in many ways\n",
    "met_model_1 = Model.from_types(('metabolic', ), identifier='my_metabolic_model', reactions=e_coli_reactions)\n",
    "met_model_1.reactions"
   ],
   "metadata": {
    "collapsed": false,
    "pycharm": {
     "name": "#%%\n"
    }
   }
  },
  {
   "cell_type": "code",
   "execution_count": 62,
   "outputs": [
    {
     "data": {
      "text/plain": "{'ACALD': Reaction: ACALD,\n 'ACALDt': Reaction: ACALDt,\n 'ACKr': Reaction: ACKr,\n 'ACONTa': Reaction: ACONTa,\n 'ACONTb': Reaction: ACONTb,\n 'ACt2r': Reaction: ACt2r,\n 'ADK1': Reaction: ADK1,\n 'AKGDH': Reaction: AKGDH,\n 'AKGt2r': Reaction: AKGt2r,\n 'ALCD2x': Reaction: ALCD2x,\n 'ATPM': Reaction: ATPM,\n 'ATPS4r': Reaction: ATPS4r,\n 'Biomass_Ecoli_core': Reaction, Regulator: Biomass_Ecoli_core,\n 'CO2t': Reaction: CO2t,\n 'CS': Reaction: CS,\n 'CYTBD': Reaction: CYTBD,\n 'D_LACt2': Reaction: D_LACt2,\n 'ENO': Reaction: ENO,\n 'ETOHt2r': Reaction: ETOHt2r,\n 'EX_ac_e': Reaction: EX_ac_e,\n 'EX_acald_e': Reaction: EX_acald_e,\n 'EX_akg_e': Reaction: EX_akg_e,\n 'EX_co2_e': Reaction: EX_co2_e,\n 'EX_etoh_e': Reaction: EX_etoh_e,\n 'EX_for_e': Reaction: EX_for_e,\n 'EX_fru_e': Reaction: EX_fru_e,\n 'EX_fum_e': Reaction: EX_fum_e,\n 'EX_glc__D_e': Reaction: EX_glc__D_e,\n 'EX_gln__L_e': Reaction: EX_gln__L_e,\n 'EX_glu__L_e': Reaction: EX_glu__L_e,\n 'EX_h_e': Reaction: EX_h_e,\n 'EX_h2o_e': Reaction: EX_h2o_e,\n 'EX_lac__D_e': Reaction: EX_lac__D_e,\n 'EX_mal__L_e': Reaction: EX_mal__L_e,\n 'EX_nh4_e': Reaction: EX_nh4_e,\n 'EX_o2_e': Reaction: EX_o2_e,\n 'EX_pi_e': Reaction: EX_pi_e,\n 'EX_pyr_e': Reaction: EX_pyr_e,\n 'EX_succ_e': Reaction: EX_succ_e,\n 'FBA': Reaction: FBA,\n 'FBP': Reaction, Regulator: FBP,\n 'FORt2': Reaction: FORt2,\n 'FORti': Reaction: FORti,\n 'FRD7': Reaction: FRD7,\n 'FRUpts2': Reaction: FRUpts2,\n 'FUM': Reaction: FUM,\n 'FUMt2_2': Reaction: FUMt2_2,\n 'G6PDH2r': Reaction: G6PDH2r,\n 'GAPD': Reaction: GAPD,\n 'GLCpts': Reaction, Regulator: GLCpts,\n 'GLNS': Reaction: GLNS,\n 'GLNabc': Reaction: GLNabc,\n 'GLUDy': Reaction: GLUDy,\n 'GLUN': Reaction: GLUN,\n 'GLUSy': Reaction: GLUSy,\n 'GLUt2r': Reaction: GLUt2r,\n 'GND': Reaction: GND,\n 'H2Ot': Reaction: H2Ot,\n 'ICDHyr': Reaction: ICDHyr,\n 'ICL': Reaction: ICL,\n 'LDH_D': Reaction, Regulator: LDH_D,\n 'MALS': Reaction: MALS,\n 'MALt2_2': Reaction: MALt2_2,\n 'MDH': Reaction: MDH,\n 'ME1': Reaction, Regulator: ME1,\n 'ME2': Reaction, Regulator: ME2,\n 'NADH16': Reaction: NADH16,\n 'NADTRHD': Reaction: NADTRHD,\n 'NH4t': Reaction: NH4t,\n 'O2t': Reaction: O2t,\n 'PDH': Reaction: PDH,\n 'PFL': Reaction: PFL,\n 'PGI': Reaction, Regulator: PGI,\n 'PGK': Reaction: PGK,\n 'PGL': Reaction: PGL,\n 'PGM': Reaction: PGM,\n 'PIt2r': Reaction: PIt2r,\n 'PPC': Reaction: PPC,\n 'PPCK': Reaction: PPCK,\n 'PPS': Reaction: PPS,\n 'PTAr': Reaction: PTAr,\n 'PYK': Reaction, Regulator: PYK,\n 'PYRt2': Reaction: PYRt2,\n 'RPE': Reaction: RPE,\n 'RPI': Reaction: RPI,\n 'SUCCt2_2': Reaction, Regulator: SUCCt2_2,\n 'SUCCt3': Reaction: SUCCt3,\n 'SUCDi': Reaction: SUCDi,\n 'SUCOAS': Reaction: SUCOAS,\n 'TALA': Reaction, Regulator: TALA,\n 'THD2': Reaction: THD2,\n 'TKT1': Reaction: TKT1,\n 'TKT2': Reaction, Regulator: TKT2,\n 'TPI': Reaction: TPI,\n 'PFK': Reaction, Regulator: PFK}"
     },
     "execution_count": 62,
     "metadata": {},
     "output_type": "execute_result"
    }
   ],
   "source": [
    "# NOTE: Although the following operation works without errors, it is not recommended. Variables should only be associated with a single model to avoid silent mistakes. In this case, the e_coli_reactions are already associated with met_model_1, and now they will be associated with met_model_2 too. To avoid tampering with a single reaction but many models, we advise you to make deep copies of variables and add them to the new models.\n",
    "met_model_2 = Model.from_metabolic(identifier='my_metabolic_model', reactions=e_coli_reactions)\n",
    "met_model_2.reactions"
   ],
   "metadata": {
    "collapsed": false,
    "pycharm": {
     "name": "#%%\n"
    }
   }
  },
  {
   "cell_type": "code",
   "execution_count": 66,
   "outputs": [
    {
     "name": "stdout",
     "output_type": "stream",
     "text": [
      "is regulatory? True\n",
      "is metabolic? False\n"
     ]
    }
   ],
   "source": [
    "# One can read a regulatory model only\n",
    "e_coli_trn = read_model(trn_reader)\n",
    "print('is regulatory?', e_coli_trn.is_regulatory())\n",
    "print('is metabolic?', e_coli_trn.is_metabolic())"
   ],
   "metadata": {
    "collapsed": false,
    "pycharm": {
     "name": "#%%\n"
    }
   }
  },
  {
   "cell_type": "markdown",
   "source": [
    "## Inspecting and working with MEW variables\n",
    "\n",
    "MEWpy contains several metabolic and regulatory variables having the following main attributes:\n",
    "- Reaction (identifier, name,  bounds, stoichiometry, gpr, ...)\n",
    "- Metabolite (identifier, name, charge, compartment, formula, reactions, ...)\n",
    "- Gene (identifier, name, coefficient, reactions, ...)\n",
    "- Interaction (identifier, name, target, regulatory_events, regulators, ...)\n",
    "- Target (identifier, name, coefficient, interaction, regulators, ...)\n",
    "- Regulator (identifier, name, coefficient, interactions, targets, ...)\n",
    "\n",
    "Variables have different attributes that can be inspected and changed using several methods. Variables are often connected to other variables and have special attributes, such as boolean expressions, coefficients and dictionaries of metabolites (stoichiometry).\n",
    "\n",
    "Variables also have some interfaces of the MEW models. All MEW variables support:\n",
    "- `copy()` - It makes a shallow copy of the model\n",
    "- `deepcopy()` - It makes a deep copy of the model\n",
    "- **Temporary changes** using `with`, `undo()`, `redo()`, `reset()`, `restore()`,\n",
    "- **yield linked variables**, such as `yield_metabolites()`"
   ],
   "metadata": {
    "collapsed": false,
    "pycharm": {
     "name": "#%% md\n"
    }
   }
  },
  {
   "cell_type": "markdown",
   "source": [
    "### Reactions, Metabolites and Genes\n",
    "\n",
    "**Reactions** have the following properties:\n",
    "- identifier\n",
    "- name\n",
    "- _**bounds**_, lower_bound and upper_bound\n",
    "- _**stoichiometry**_\n",
    "- _**gpr**_, gene_protein_reaction_rule\n",
    "- metabolites, reactants and products\n",
    "- compartments\n",
    "- equation\n",
    "- charge_balance and mass_balance\n",
    "\n",
    "and the following methods:\n",
    "- `ko()` - reaction deletion\n",
    "- `add_metabolites(stoichiometry)` - add metabolites to the reaction\n",
    "- `remove_metabolites(metabolite)` - remove metabolites from the reaction\n",
    "- `add_gpr(gpr)` - add/replacing gpr to the reaction\n",
    "- `remove_gpr()` - remove gpr from the reaction\n",
    "\n",
    "**Metabolites** have the following properties:\n",
    "- identifier\n",
    "- name\n",
    "- _**charge**_\n",
    "- _**compartment**_\n",
    "- _**formula**_\n",
    "- atoms\n",
    "- molecular_weight\n",
    "- exchange_reaction, exchange_reactions\n",
    "- reactions -> link to the reactions associated with this metabolite\n",
    "\n",
    "**Genes** have the following properties:\n",
    "- identifier\n",
    "- name\n",
    "- _**coefficient**_\n",
    "- reactions -> link to the reactions associated with this gene\n",
    "\n",
    "and the following methods:\n",
    "- `ko()` - gene deletion\n",
    "\n",
    "Bold-italicized properties can be set with new values (e.g., `reaction.bounds = (0, 1000)`)."
   ],
   "metadata": {
    "collapsed": false,
    "pycharm": {
     "name": "#%% md\n"
    }
   }
  },
  {
   "cell_type": "code",
   "execution_count": 97,
   "outputs": [
    {
     "data": {
      "text/plain": "Reaction: ACKr"
     },
     "execution_count": 97,
     "metadata": {},
     "output_type": "execute_result"
    }
   ],
   "source": [
    "# inspecting a reaction\n",
    "ack = model.get('ACKr')\n",
    "ack"
   ],
   "metadata": {
    "collapsed": false,
    "pycharm": {
     "name": "#%%\n"
    }
   }
  },
  {
   "cell_type": "code",
   "execution_count": 98,
   "outputs": [
    {
     "data": {
      "text/plain": "'1.0 ac_c + 1.0 atp_c <-> 1.0 actp_c + 1.0 adp_c '"
     },
     "execution_count": 98,
     "metadata": {},
     "output_type": "execute_result"
    }
   ],
   "source": [
    "ack.equation"
   ],
   "metadata": {
    "collapsed": false,
    "pycharm": {
     "name": "#%%\n"
    }
   }
  },
  {
   "cell_type": "code",
   "execution_count": 99,
   "outputs": [
    {
     "data": {
      "text/plain": "{Metabolite: ac_c: -1.0,\n Metabolite: atp_c: -1.0,\n Metabolite: actp_c: 1.0,\n Metabolite: adp_c: 1.0}"
     },
     "execution_count": 99,
     "metadata": {},
     "output_type": "execute_result"
    }
   ],
   "source": [
    "ack.stoichiometry"
   ],
   "metadata": {
    "collapsed": false,
    "pycharm": {
     "name": "#%%\n"
    }
   }
  },
  {
   "cell_type": "code",
   "execution_count": 100,
   "outputs": [
    {
     "data": {
      "text/plain": "(-1000.0, 1000.0)"
     },
     "execution_count": 100,
     "metadata": {},
     "output_type": "execute_result"
    }
   ],
   "source": [
    "ack.bounds"
   ],
   "metadata": {
    "collapsed": false,
    "pycharm": {
     "name": "#%%\n"
    }
   }
  },
  {
   "cell_type": "code",
   "execution_count": 101,
   "outputs": [
    {
     "data": {
      "text/plain": "Or(variables=[Symbol(b2296), Symbol(b3115), Symbol(b1849)])"
     },
     "execution_count": 101,
     "metadata": {},
     "output_type": "execute_result"
    }
   ],
   "source": [
    "ack.gpr"
   ],
   "metadata": {
    "collapsed": false,
    "pycharm": {
     "name": "#%%\n"
    }
   }
  },
  {
   "cell_type": "code",
   "execution_count": 136,
   "outputs": [
    {
     "data": {
      "text/plain": "'(b2296 | b3115 | b1849)'"
     },
     "execution_count": 136,
     "metadata": {},
     "output_type": "execute_result"
    }
   ],
   "source": [
    "ack.gene_protein_reaction_rule"
   ],
   "metadata": {
    "collapsed": false,
    "pycharm": {
     "name": "#%%\n"
    }
   }
  },
  {
   "cell_type": "code",
   "execution_count": 103,
   "outputs": [
    {
     "data": {
      "text/plain": "{'b2296': Target, Gene: b2296,\n 'b3115': Gene: b3115,\n 'b1849': Target, Gene: b1849}"
     },
     "execution_count": 103,
     "metadata": {},
     "output_type": "execute_result"
    }
   ],
   "source": [
    "ack.genes"
   ],
   "metadata": {
    "collapsed": false,
    "pycharm": {
     "name": "#%%\n"
    }
   }
  },
  {
   "cell_type": "code",
   "execution_count": 104,
   "outputs": [
    {
     "data": {
      "text/plain": "{'c'}"
     },
     "execution_count": 104,
     "metadata": {},
     "output_type": "execute_result"
    }
   ],
   "source": [
    "ack.compartments"
   ],
   "metadata": {
    "collapsed": false,
    "pycharm": {
     "name": "#%%\n"
    }
   }
  },
  {
   "cell_type": "code",
   "execution_count": 105,
   "outputs": [
    {
     "data": {
      "text/plain": "{'C': 0.0, 'H': 0.0, 'O': 0.0, 'N': 0.0, 'P': 0.0}"
     },
     "execution_count": 105,
     "metadata": {},
     "output_type": "execute_result"
    }
   ],
   "source": [
    "ack.mass_balance"
   ],
   "metadata": {
    "collapsed": false,
    "pycharm": {
     "name": "#%%\n"
    }
   }
  },
  {
   "cell_type": "code",
   "execution_count": 81,
   "outputs": [
    {
     "data": {
      "text/plain": "Metabolite: ac_c"
     },
     "execution_count": 81,
     "metadata": {},
     "output_type": "execute_result"
    }
   ],
   "source": [
    "# inspecting a metabolite\n",
    "acetate = model.get('ac_c')\n",
    "acetate"
   ],
   "metadata": {
    "collapsed": false,
    "pycharm": {
     "name": "#%%\n"
    }
   }
  },
  {
   "cell_type": "code",
   "execution_count": 82,
   "outputs": [
    {
     "data": {
      "text/plain": "-1"
     },
     "execution_count": 82,
     "metadata": {},
     "output_type": "execute_result"
    }
   ],
   "source": [
    "acetate.charge"
   ],
   "metadata": {
    "collapsed": false,
    "pycharm": {
     "name": "#%%\n"
    }
   }
  },
  {
   "cell_type": "code",
   "execution_count": 83,
   "outputs": [
    {
     "data": {
      "text/plain": "'c'"
     },
     "execution_count": 83,
     "metadata": {},
     "output_type": "execute_result"
    }
   ],
   "source": [
    "acetate.compartment"
   ],
   "metadata": {
    "collapsed": false,
    "pycharm": {
     "name": "#%%\n"
    }
   }
  },
  {
   "cell_type": "code",
   "execution_count": 84,
   "outputs": [
    {
     "data": {
      "text/plain": "'C2H3O2'"
     },
     "execution_count": 84,
     "metadata": {},
     "output_type": "execute_result"
    }
   ],
   "source": [
    "acetate.formula"
   ],
   "metadata": {
    "collapsed": false,
    "pycharm": {
     "name": "#%%\n"
    }
   }
  },
  {
   "cell_type": "code",
   "execution_count": 85,
   "outputs": [
    {
     "data": {
      "text/plain": "{'C': 2, 'H': 3, 'O': 2}"
     },
     "execution_count": 85,
     "metadata": {},
     "output_type": "execute_result"
    }
   ],
   "source": [
    "acetate.atoms"
   ],
   "metadata": {
    "collapsed": false,
    "pycharm": {
     "name": "#%%\n"
    }
   }
  },
  {
   "cell_type": "code",
   "execution_count": 86,
   "outputs": [
    {
     "data": {
      "text/plain": "59.04402"
     },
     "execution_count": 86,
     "metadata": {},
     "output_type": "execute_result"
    }
   ],
   "source": [
    "acetate.molecular_weight"
   ],
   "metadata": {
    "collapsed": false,
    "pycharm": {
     "name": "#%%\n"
    }
   }
  },
  {
   "cell_type": "code",
   "execution_count": 87,
   "outputs": [
    {
     "data": {
      "text/plain": "{'ACKr': Reaction: ACKr, 'ACt2r': Reaction: ACt2r}"
     },
     "execution_count": 87,
     "metadata": {},
     "output_type": "execute_result"
    }
   ],
   "source": [
    "acetate.reactions"
   ],
   "metadata": {
    "collapsed": false,
    "pycharm": {
     "name": "#%%\n"
    }
   }
  },
  {
   "cell_type": "code",
   "execution_count": 90,
   "outputs": [
    {
     "data": {
      "text/plain": "Gene: b3115"
     },
     "execution_count": 90,
     "metadata": {},
     "output_type": "execute_result"
    }
   ],
   "source": [
    "# inspecting a gene\n",
    "b3115 = model.get('b3115')\n",
    "b3115"
   ],
   "metadata": {
    "collapsed": false,
    "pycharm": {
     "name": "#%%\n"
    }
   }
  },
  {
   "cell_type": "code",
   "execution_count": 95,
   "outputs": [
    {
     "data": {
      "text/plain": "[0.0, 1.0]"
     },
     "execution_count": 95,
     "metadata": {},
     "output_type": "execute_result"
    }
   ],
   "source": [
    "# The coefficient object includes all potential coefficients that the gene can take.\n",
    "b3115.coefficient.coefficients"
   ],
   "metadata": {
    "collapsed": false,
    "pycharm": {
     "name": "#%%\n"
    }
   }
  },
  {
   "cell_type": "code",
   "execution_count": 140,
   "outputs": [
    {
     "data": {
      "text/plain": "1.0"
     },
     "execution_count": 140,
     "metadata": {},
     "output_type": "execute_result"
    }
   ],
   "source": [
    "# The default coefficient\n",
    "b3115.coefficient.default_coefficient"
   ],
   "metadata": {
    "collapsed": false,
    "pycharm": {
     "name": "#%%\n"
    }
   }
  },
  {
   "cell_type": "code",
   "execution_count": 96,
   "outputs": [
    {
     "data": {
      "text/plain": "{'ACKr': Reaction: ACKr}"
     },
     "execution_count": 96,
     "metadata": {},
     "output_type": "execute_result"
    }
   ],
   "source": [
    "b3115.reactions"
   ],
   "metadata": {
    "collapsed": false,
    "pycharm": {
     "name": "#%%\n"
    }
   }
  },
  {
   "cell_type": "markdown",
   "source": [
    "One can create reactions using the `Reaction` object.\n",
    "A `Reaction` must be initialized with identifier, bounds, stoichiometry dictionary (metabolite: coefficient), and GPR expression\n",
    "that includes the related genes."
   ],
   "metadata": {
    "collapsed": false,
    "pycharm": {
     "name": "#%% md\n"
    }
   }
  },
  {
   "cell_type": "code",
   "execution_count": 137,
   "outputs": [
    {
     "name": "stdout",
     "output_type": "stream",
     "text": [
      "name: acetate transport\n",
      "equation: 1 ac_c -> 1 ac_e \n",
      "bounds: (0, 1000)\n",
      "stoichiometry: {Metabolite: ac_c: -1, Metabolite: ac_e: 1}\n",
      "gpr: (b0001 & b0002)\n",
      "genes: {'b0001': Gene: b0001, 'b0002': Gene: b0002}\n",
      "products: {'ac_e': Metabolite: ac_e}\n"
     ]
    }
   ],
   "source": [
    "# Creating a reaction with metabolites, gpr and genes\n",
    "from mewpy.mew.algebra import Expression, parse_expression\n",
    "from mewpy.mew.variables import Reaction, Metabolite, Gene\n",
    "\n",
    "# creating the GPR\n",
    "g1 = Gene(identifier='b0001', coefficients=(0, 1))\n",
    "g2 = Gene(identifier='b0002', coefficients=(0, 1))\n",
    "\n",
    "# A GPR is a boolean algebra expression\n",
    "boolean_rule = parse_expression('b0001 and b0002')\n",
    "genes = {'b0001': g1, 'b0002': g2}\n",
    "gpr = Expression(symbolic=boolean_rule, variables=genes)\n",
    "\n",
    "# creating the stoichiometry\n",
    "m1 = Metabolite(identifier='ac_c', name='acetate cytoplasm', compartment='c')\n",
    "m2 = Metabolite(identifier='ac_e', name='acetate extracellular', compartment='e')\n",
    "stoichiometry = {m1: -1, m2: 1}\n",
    "\n",
    "rxn = Reaction(identifier='ac_t', name='acetate transport',\n",
    "               bounds=(0, 1000),\n",
    "               stoichiometry=stoichiometry,\n",
    "               gpr=gpr)\n",
    "\n",
    "print('name:', rxn.name)\n",
    "print('equation:', rxn.equation)\n",
    "print('bounds:', rxn.bounds)\n",
    "print('stoichiometry:', rxn.stoichiometry)\n",
    "print('gpr:', rxn.gene_protein_reaction_rule)\n",
    "print('genes:', rxn.genes)\n",
    "print('products:', rxn.products)"
   ],
   "metadata": {
    "collapsed": false,
    "pycharm": {
     "name": "#%%\n"
    }
   }
  },
  {
   "cell_type": "code",
   "execution_count": 138,
   "outputs": [
    {
     "name": "stdout",
     "output_type": "stream",
     "text": [
      "Is boundary? True\n",
      "equation: 1 ac_e ->\n",
      "gpr: \n"
     ]
    }
   ],
   "source": [
    "# copying the acetate transport and creating the acetate exchange\n",
    "rxn2 = rxn.deepcopy()\n",
    "rxn2.name = 'acetate exchange'\n",
    "rxn2.stoichiometry = {m2: -1}\n",
    "rxn2.remove_gpr()\n",
    "print('Is boundary?', rxn2.boundary)\n",
    "print('equation:', rxn2.equation)\n",
    "print('gpr:', rxn2.gene_protein_reaction_rule)"
   ],
   "metadata": {
    "collapsed": false,
    "pycharm": {
     "name": "#%%\n"
    }
   }
  },
  {
   "cell_type": "markdown",
   "source": [
    "Reactions can be created automatically from GPRs in a string format. This avoids creating GPR expressions manually using the boolean expression parser. Note that Genes are also created automatically using the identifiers in the string"
   ],
   "metadata": {
    "collapsed": false,
    "pycharm": {
     "name": "#%% md\n"
    }
   }
  },
  {
   "cell_type": "code",
   "execution_count": 139,
   "outputs": [
    {
     "data": {
      "text/plain": "{'b0001': Gene: b0001, 'b0002': Gene: b0002}"
     },
     "execution_count": 139,
     "metadata": {},
     "output_type": "execute_result"
    }
   ],
   "source": [
    "# from a GPR string\n",
    "rxn3 = Reaction.from_gpr_string(identifier='ac_t2',\n",
    "                                rule='b0001 and b0002',\n",
    "                                bounds=(0, 1000),\n",
    "                                stoichiometry=stoichiometry)\n",
    "rxn3.genes"
   ],
   "metadata": {
    "collapsed": false,
    "pycharm": {
     "name": "#%%\n"
    }
   }
  },
  {
   "cell_type": "markdown",
   "source": [
    "A Reaction's GPR is a boolean algebra expression that can be evaluated using regular boolean operators or custom operators (useful to evaluate gene expression data)."
   ],
   "metadata": {
    "collapsed": false,
    "pycharm": {
     "name": "#%% md\n"
    }
   }
  },
  {
   "cell_type": "code",
   "execution_count": 132,
   "outputs": [
    {
     "data": {
      "text/plain": "1"
     },
     "execution_count": 132,
     "metadata": {},
     "output_type": "execute_result"
    }
   ],
   "source": [
    "# gpr is a boolean algebra expression that can be evaluated\n",
    "rxn3.gpr.evaluate(values={'b0001': 1, 'b0002': 1})"
   ],
   "metadata": {
    "collapsed": false,
    "pycharm": {
     "name": "#%%\n"
    }
   }
  },
  {
   "cell_type": "code",
   "execution_count": 133,
   "outputs": [
    {
     "data": {
      "text/plain": "0"
     },
     "execution_count": 133,
     "metadata": {},
     "output_type": "execute_result"
    }
   ],
   "source": [
    "rxn3.gpr.evaluate(values={'b0001': 1, 'b0002': 0})"
   ],
   "metadata": {
    "collapsed": false,
    "pycharm": {
     "name": "#%%\n"
    }
   }
  },
  {
   "cell_type": "code",
   "execution_count": 134,
   "outputs": [
    {
     "data": {
      "text/plain": "1"
     },
     "execution_count": 134,
     "metadata": {},
     "output_type": "execute_result"
    }
   ],
   "source": [
    "rxn3.gpr.evaluate(values={'b0001': True, 'b0002': True})"
   ],
   "metadata": {
    "collapsed": false,
    "pycharm": {
     "name": "#%%\n"
    }
   }
  },
  {
   "cell_type": "code",
   "execution_count": 135,
   "outputs": [
    {
     "data": {
      "text/plain": "50"
     },
     "execution_count": 135,
     "metadata": {},
     "output_type": "execute_result"
    }
   ],
   "source": [
    "from mewpy.mew.algebra import And\n",
    "\n",
    "# using a custom operator for AND\n",
    "rxn.gpr.evaluate(values={'b0001': 100, 'b0002': 50}, operators={And: min})"
   ],
   "metadata": {
    "collapsed": false,
    "pycharm": {
     "name": "#%%\n"
    }
   }
  },
  {
   "cell_type": "markdown",
   "source": [
    "## Working with multi-type MEW variables"
   ],
   "metadata": {
    "collapsed": false,
    "pycharm": {
     "name": "#%% md\n"
    }
   }
  }
 ],
 "metadata": {
  "kernelspec": {
   "display_name": "Python 3",
   "language": "python",
   "name": "python3"
  },
  "language_info": {
   "codemirror_mode": {
    "name": "ipython",
    "version": 2
   },
   "file_extension": ".py",
   "mimetype": "text/x-python",
   "name": "python",
   "nbconvert_exporter": "python",
   "pygments_lexer": "ipython2",
   "version": "2.7.6"
  }
 },
 "nbformat": 4,
 "nbformat_minor": 0
}