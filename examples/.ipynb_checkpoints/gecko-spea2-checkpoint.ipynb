{
 "cells": [
  {
   "cell_type": "markdown",
   "metadata": {},
   "source": [
    "## GECKO Optimization example\n",
    "\n"
   ]
  },
  {
   "cell_type": "code",
   "execution_count": 1,
   "metadata": {},
   "outputs": [],
   "source": [
    "from mewpy.model.gecko import GeckoModel\n",
    "from mewpy.optimization.evaluation import BPCY,WYIELD,TargetFlux\n",
    "from mewpy.problems.gecko import GeckoKOProblem\n",
    "from mewpy.optimization import EA\n",
    "from collections import OrderedDict\n",
    "\n",
    "%matplotlib notebook\n",
    "\n",
    "model = GeckoModel('single-pool', biomass_reaction_id='r_2111')\n",
    "\n",
    "# Environmental conditions (optional)\n",
    "envcond = OrderedDict()\n",
    "\n",
    "# The evaluation (objective) functions\n",
    "evaluator_1 = WYIELD(\"r_2111\", \"r_1913\")\n",
    "evaluator_2 = BPCY(\"r_2111\", \"r_1913\", uptake = \"r_1714_REV\", method='lMOMA')\n",
    "\n",
    "# The KO optimization problem\n",
    "problem = GeckoKOProblem(model, \n",
    "                          fevaluation=[evaluator_1,evaluator_2], \n",
    "                          envcond = envcond, \n",
    "                          candidate_max_size = 10)\n",
    "\n",
    "# A new instance of the EA optimizer for the problem\n",
    "\n",
    "# The stopping criteria is set to 10 generations (1000 evaluations)\n",
    "# Usually the stopping criteria should be around 500 generations\n",
    "\n",
    "# The prefered optimization algorithm may me defined in the EA initializer.\n",
    "\n",
    "\n",
    "ea = EA(problem, max_generations = 10, mp = True, algorithm='SPEA2')"
   ]
  },
  {
   "cell_type": "code",
   "execution_count": 2,
   "metadata": {},
   "outputs": [
    {
     "name": "stdout",
     "output_type": "stream",
     "text": [
      "Gen    Eval|     Worst      Best    Median   Average   Std Dev|     Worst      Best    Median   Average   Std Dev|\n",
      "   0    100|  0.000000  0.018014  0.000991  0.001082  0.001720|  -0.000000  0.000215  0.000000  0.000031  0.000059|\n",
      "   1    200|  0.000000  0.019653  0.000991  0.001532  0.003095|  0.000000  0.001487  0.000027  0.000088  0.000211|\n",
      "   2    300|  0.000957  0.019653  0.000991  0.003194  0.005921|  0.000014  0.001487  0.000097  0.000214  0.000376|\n",
      "   3    400|  0.000957  0.034278  0.001061  0.005896  0.008366|  0.000015  0.004438  0.000191  0.000367  0.000598|\n",
      "   4    500|  0.000957  0.034278  0.019381  0.013351  0.008812|  0.000021  0.004438  0.000390  0.000705  0.000688|\n",
      "   5    600|  0.000989  0.034278  0.019652  0.019409  0.003008|  0.000208  0.004438  0.001487  0.001385  0.000412|\n",
      "   6    700|  0.019652  0.034296  0.019652  0.020099  0.002495|  0.000968  0.004438  0.001487  0.001565  0.000509|\n",
      "   7    800|  0.019652  0.034301  0.019652  0.020984  0.004183|  0.001182  0.004438  0.001487  0.001742  0.000850|\n",
      "   8    900|  0.019652  0.034301  0.019653  0.023490  0.006401|  0.001182  0.004438  0.001487  0.002230  0.001310|\n",
      "   9   1000|  0.019652  0.089506  0.034278  0.029836  0.009109|  0.000000  0.004438  0.004438  0.003369  0.001463|\n",
      "  10   1100|  0.000000  0.089526  0.034283  0.035603  0.010076|  0.004407  0.004438  0.004438  0.004436  0.000008|\n"
     ]
    }
   ],
   "source": [
    "# runs the optimization\n",
    "final_pop = ea.run()"
   ]
  },
  {
   "cell_type": "code",
   "execution_count": null,
   "metadata": {},
   "outputs": [],
   "source": []
  }
 ],
 "metadata": {
  "kernelspec": {
   "display_name": "Python 3",
   "language": "python",
   "name": "python3"
  },
  "language_info": {
   "codemirror_mode": {
    "name": "ipython",
    "version": 3
   },
   "file_extension": ".py",
   "mimetype": "text/x-python",
   "name": "python",
   "nbconvert_exporter": "python",
   "pygments_lexer": "ipython3",
   "version": "3.7.6"
  }
 },
 "nbformat": 4,
 "nbformat_minor": 2
}
