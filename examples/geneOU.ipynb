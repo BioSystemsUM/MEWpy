{
 "cells": [
  {
   "cell_type": "markdown",
   "metadata": {},
   "source": [
    "# Up and down regulation of genes expression"
   ]
  },
  {
   "cell_type": "code",
   "execution_count": 1,
   "metadata": {},
   "outputs": [],
   "source": [
    "from reframed.io.sbml import load_cbmodel\n",
    "model = load_cbmodel('models/ec/iJO1366SL.xml', flavor='cobra')\n"
   ]
  },
  {
   "cell_type": "code",
   "execution_count": 2,
   "metadata": {},
   "outputs": [],
   "source": [
    "from mewpy.optimization.evaluation import BPCY,WYIELD\n",
    "from mewpy.problems import GOUProblem\n",
    "from mewpy.simulation import SimulationMethod"
   ]
  },
  {
   "cell_type": "code",
   "execution_count": 3,
   "metadata": {},
   "outputs": [],
   "source": [
    "BIOMASS_ID = 'R_Ec_biomass_iJO1366_core_53p95M'\n",
    "O2 = 'R_EX_o2_LPAREN_e_RPAREN_'\n",
    "GLC = 'R_EX_glc_LPAREN_e_RPAREN_'\n",
    "PRODUCT_ID = 'R_EX_phe_DASH_L_LPAREN_e_RPAREN_'\n",
    "model.set_objective({BIOMASS_ID:1})\n",
    "\n",
    "evaluator_1 = BPCY(BIOMASS_ID, PRODUCT_ID, method = SimulationMethod.lMOMA )\n",
    "evaluator_2 = WYIELD(BIOMASS_ID,PRODUCT_ID)"
   ]
  },
  {
   "cell_type": "code",
   "execution_count": 4,
   "metadata": {},
   "outputs": [],
   "source": [
    "problem = GOUProblem(model,[evaluator_1,evaluator_2])"
   ]
  },
  {
   "cell_type": "code",
   "execution_count": 5,
   "metadata": {},
   "outputs": [
    {
     "data": {
      "image/png": "[encoded data removed]",
      "text/plain": [
       "<Figure size 432x288 with 1 Axes>"
      ]
     },
     "metadata": {
      "needs_background": "light"
     },
     "output_type": "display_data"
    },
    {
     "name": "stdout",
     "output_type": "stream",
     "text": [
      "Gen    Eval|     Worst      Best    Median   Average   Std Dev|     Worst      Best    Median   Average   Std Dev|\n",
      "   0    100|  0.000000  0.096432  0.000000  0.005725  0.015206|  0.000000  1.354517  0.001483  0.051650  0.227373|\n",
      "   1    200|  0.000000  0.116426  0.004193  0.011783  0.020218|  0.000000  1.447548  0.001672  0.115014  0.332870|\n",
      "   2    300|  0.000000  0.251787  0.012390  0.026108  0.037901|  0.000000  1.569902  0.001670  0.230962  0.437568|\n",
      "   3    400|  0.000000  0.256882  0.052852  0.054467  0.049118|  0.000000  1.569902  0.826813  0.570861  0.517276|\n",
      "   4    500|  0.000000  0.370057  0.064403  0.092352  0.078404|  0.000000  1.569902  1.142427  0.850169  0.544001|\n",
      "   5    600|  0.000000  0.495331  0.116426  0.139352  0.094876|  0.013716  1.569902  1.241312  0.930842  0.597448|\n",
      "   6    700|  0.023129  0.495331  0.198245  0.194314  0.112813|  0.013716  1.783290  1.241312  1.039205  0.573568|\n",
      "   7    800|  0.057806  0.495331  0.227338  0.262550  0.118652|  0.013716  1.783290  1.447548  1.088316  0.590710|\n",
      "   8    900|  0.102427  0.495331  0.227338  0.289998  0.137500|  0.636452  1.783290  1.447548  1.289904  0.408339|\n",
      "   9   1000|  0.102427  0.495331  0.370057  0.309963  0.135200|  0.636452  1.783290  1.142427  1.262933  0.426806|\n",
      "  10   1100|  0.102427  0.495331  0.370057  0.331749  0.124697|  0.636452  1.783290  1.142427  1.216522  0.413578|\n"
     ]
    }
   ],
   "source": [
    "%matplotlib inline\n",
    "import warnings\n",
    "warnings.filterwarnings(\"ignore\")\n",
    "\n",
    "from mewpy.optimization import EA\n",
    "ea = EA(problem, max_generations= 10, mp = True, visualizer = True)\n",
    "final_pop = ea.run()"
   ]
  },
  {
   "cell_type": "code",
   "execution_count": null,
   "metadata": {},
   "outputs": [],
   "source": []
  }
 ],
 "metadata": {
  "kernelspec": {
   "display_name": "Python 3",
   "language": "python",
   "name": "python3"
  },
  "language_info": {
   "codemirror_mode": {
    "name": "ipython",
    "version": 3
   },
   "file_extension": ".py",
   "mimetype": "text/x-python",
   "name": "python",
   "nbconvert_exporter": "python",
   "pygments_lexer": "ipython3",
   "version": "3.7.3"
  }
 },
 "nbformat": 4,
 "nbformat_minor": 2
}
