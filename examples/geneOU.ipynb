{
 "cells": [
  {
   "cell_type": "markdown",
   "metadata": {},
   "source": [
    "# Gene OU example"
   ]
  },
  {
   "cell_type": "code",
   "execution_count": 1,
   "metadata": {},
   "outputs": [],
   "source": [
    "from reframed.io.sbml import load_cbmodel\n",
    "model = load_cbmodel('models/ec/iJO1366SL.xml', flavor='cobra')\n"
   ]
  },
  {
   "cell_type": "code",
   "execution_count": 2,
   "metadata": {},
   "outputs": [],
   "source": [
    "from mewpy.optimization.evaluation import BPCY,WYIELD\n",
    "from mewpy.problems import GOUProblem\n",
    "from mewpy.simulation import SimulationMethod"
   ]
  },
  {
   "cell_type": "code",
   "execution_count": 3,
   "metadata": {},
   "outputs": [],
   "source": [
    "BIOMASS_ID = 'R_Ec_biomass_iJO1366_core_53p95M'\n",
    "O2 = 'R_EX_o2_LPAREN_e_RPAREN_'\n",
    "GLC = 'R_EX_glc_LPAREN_e_RPAREN_'\n",
    "PRODUCT_ID = 'R_EX_phe_DASH_L_LPAREN_e_RPAREN_'\n",
    "model.set_objective({BIOMASS_ID:1})\n",
    "\n",
    "evaluator_1 = BPCY(BIOMASS_ID, PRODUCT_ID, method = SimulationMethod.lMOMA )\n",
    "evaluator_2 = WYIELD(BIOMASS_ID,PRODUCT_ID)"
   ]
  },
  {
   "cell_type": "code",
   "execution_count": 4,
   "metadata": {},
   "outputs": [],
   "source": [
    "problem = GOUProblem(model,[evaluator_1,evaluator_2])"
   ]
  },
  {
   "cell_type": "code",
   "execution_count": 5,
   "metadata": {},
   "outputs": [
    {
     "name": "stderr",
     "output_type": "stream",
     "text": [
      "2020-03-05 12:50:29,583\tWARNING services.py:586 -- setpgrp failed, processes may not be cleaned up properly: [Errno 1] Operation not permitted.\n",
      "2020-03-05 12:50:29,584\tINFO resource_spec.py:212 -- Starting Ray with 10.06 GiB memory available for workers and up to 5.03 GiB for objects. You can adjust these settings with ray.init(memory=<bytes>, object_store_memory=<bytes>).\n",
      "2020-03-05 12:50:29,903\tINFO services.py:1078 -- View the Ray dashboard at \u001b[1m\u001b[32mlocalhost:8266\u001b[39m\u001b[22m\n"
     ]
    },
    {
     "name": "stdout",
     "output_type": "stream",
     "text": [
      "Creating 6 workers.\n"
     ]
    },
    {
     "data": {
      "image/png": "[encoded data removed]",
      "text/plain": [
       "<Figure size 432x288 with 1 Axes>"
      ]
     },
     "metadata": {
      "needs_background": "light"
     },
     "output_type": "display_data"
    },
    {
     "name": "stdout",
     "output_type": "stream",
     "text": [
      "Gen    Eval|     Worst      Best    Median   Average   Std Dev|     Worst      Best    Median   Average   Std Dev|\n",
      "   0    100|  0.000000  0.116426  0.000000  0.003810  0.015152|  0.000000  0.059415  0.005570  0.005489  0.005660|\n",
      "   1    200|  0.000000  0.117522  0.000000  0.008818  0.025229|  0.004359  0.059415  0.005570  0.007700  0.010558|\n",
      "   2    300|  0.000000  0.360785  0.000291  0.025107  0.055566|  0.004359  1.382775  0.005571  0.026375  0.137546|\n",
      "   3    400|  0.000000  0.365496  0.025019  0.049472  0.069081|  0.004359  1.382775  0.005751  0.034486  0.137636|\n",
      "   4    500|  0.000000  0.365496  0.116152  0.109014  0.087770|  0.004478  1.382775  0.059415  0.055139  0.135748|\n",
      "   5    600|  0.000000  0.365496  0.142458  0.188589  0.090259|  0.030668  1.382775  0.059415  0.073045  0.131796|\n",
      "   6    700|  0.000000  0.365496  0.244052  0.271593  0.065099|  0.030668  1.382775  0.059503  0.075752  0.131532|\n",
      "   7    800|  0.000000  0.365496  0.360785  0.324952  0.061325|  0.052470  1.382775  0.070872  0.080816  0.130987|\n",
      "   8    900|  0.000000  0.365496  0.360785  0.359439  0.036201|  0.070050  1.382775  0.071666  0.085061  0.130445|\n",
      "   9   1000|  0.000000  0.365496  0.365496  0.358117  0.048707|  0.070050  1.382775  0.071848  0.096513  0.168532|\n",
      "  10   1100|  0.000000  0.365496  0.365496  0.356444  0.051234|  0.070050  1.382775  0.071848  0.098237  0.168465|\n"
     ]
    }
   ],
   "source": [
    "%matplotlib inline\n",
    "import warnings\n",
    "warnings.filterwarnings(\"ignore\")\n",
    "\n",
    "from mewpy.optimization import EA\n",
    "ea = EA(problem, max_generations= 10, mp = True, visualizer = True)\n",
    "final_pop = ea.run()"
   ]
  },
  {
   "cell_type": "code",
   "execution_count": null,
   "metadata": {},
   "outputs": [],
   "source": []
  }
 ],
 "metadata": {
  "kernelspec": {
   "display_name": "Python 3",
   "language": "python",
   "name": "python3"
  },
  "language_info": {
   "codemirror_mode": {
    "name": "ipython",
    "version": 3
   },
   "file_extension": ".py",
   "mimetype": "text/x-python",
   "name": "python",
   "nbconvert_exporter": "python",
   "pygments_lexer": "ipython3",
   "version": "3.7.6"
  }
 },
 "nbformat": 4,
 "nbformat_minor": 2
}