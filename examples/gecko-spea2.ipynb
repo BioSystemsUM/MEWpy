{
 "cells": [
  {
   "cell_type": "markdown",
   "metadata": {},
   "source": [
    "## GECKO Optimization example\n",
    "\n"
   ]
  },
  {
   "cell_type": "code",
   "execution_count": 3,
   "metadata": {},
   "outputs": [],
   "source": [
    "from mewpy.model.gecko import GeckoModel\n",
    "from mewpy.optimization.evaluation import BPCY,WYIELD,TargetFlux\n",
    "from mewpy.problems.gecko import GeckoKOProblem\n",
    "from mewpy.optimization import EA\n",
    "from collections import OrderedDict\n",
    "\n",
    "%matplotlib notebook\n",
    "\n",
    "model = GeckoModel('single-pool', biomass_reaction_id='r_2111')\n",
    "\n",
    "# Environmental conditions (optional)\n",
    "envcond = OrderedDict()\n",
    "\n",
    "# The evaluation (objective) functions\n",
    "evaluator_1 = WYIELD(\"r_2111\", \"r_1913\")\n",
    "evaluator_2 = BPCY(\"r_2111\", \"r_1913\", uptake = \"r_1714_REV\", method=SimulationMethod.lMOMA)\n",
    "\n",
    "# The KO optimization problem\n",
    "problem = GeckoKOProblem(model, \n",
    "                          fevaluation=[evaluator_1,evaluator_2], \n",
    "                          envcond = envcond, \n",
    "                          candidate_max_size = 10)\n",
    "\n",
    "# A new instance of the EA optimizer for the problem\n",
    "# The stopping criteria is set to 10 generations (1000 evaluations)\n",
    "# Usually the stopping criteria should be around 500 generations\n",
    "ea = EA(problem, max_generations = 10, mp = True)"
   ]
  },
  {
   "cell_type": "code",
   "execution_count": 5,
   "metadata": {},
   "outputs": [
    {
     "name": "stdout",
     "output_type": "stream",
     "text": [
      "Eval(s)|     Worst      Best    Median   Average   Std Dev|     Worst      Best    Median   Average   Std Dev|\n",
      "    100|  0.000000  0.034371  0.003299  0.003461  0.003165|  0.000000  0.001486  0.000000  0.000064  0.000199|\n",
      "    200|  0.000000  0.034371  0.003300  0.003512  0.003153|  0.000000  0.001486  0.000068  0.000114  0.000212|\n",
      "    300|  0.003126  0.034373  0.003295  0.005490  0.007849|  0.000011  0.001487  0.000191  0.000230  0.000303|\n",
      "    400|  0.003126  0.034373  0.003532  0.008558  0.011412|  0.000014  0.004773  0.000211  0.000399  0.000634|\n",
      "    500|  0.000000  0.034776  0.003534  0.014566  0.014689|  0.000014  0.004773  0.000510  0.000831  0.000865|\n",
      "    600|  0.000000  0.034948  0.034021  0.027047  0.013009|  0.000208  0.004777  0.001474  0.001578  0.001041|\n",
      "    700|  0.000000  0.034948  0.034372  0.026369  0.013710|  0.001164  0.005238  0.001487  0.002144  0.001125|\n",
      "    800|  0.003402  0.034950  0.034553  0.029681  0.011450|  0.001164  0.005521  0.001735  0.002569  0.001298|\n",
      "    900|  0.034197  0.034950  0.034728  0.034698  0.000227|  0.001231  0.005521  0.002508  0.002584  0.001302|\n",
      "   1000|  0.034197  0.034950  0.034555  0.034642  0.000254|  0.001231  0.005521  0.002990  0.002991  0.001545|\n"
     ]
    }
   ],
   "source": [
    "# runs the optimization\n",
    "final_pop = ea.run()"
   ]
  },
  {
   "cell_type": "code",
   "execution_count": null,
   "metadata": {},
   "outputs": [],
   "source": []
  }
 ],
 "metadata": {
  "kernelspec": {
   "display_name": "Python 3",
   "language": "python",
   "name": "python3"
  },
  "language_info": {
   "codemirror_mode": {
    "name": "ipython",
    "version": 3
   },
   "file_extension": ".py",
   "mimetype": "text/x-python",
   "name": "python",
   "nbconvert_exporter": "python",
   "pygments_lexer": "ipython3",
   "version": "3.7.6"
  }
 },
 "nbformat": 4,
 "nbformat_minor": 2
}