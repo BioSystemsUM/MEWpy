{
 "cells": [
  {
   "cell_type": "markdown",
   "source": [
    "# Analysis of GEnome-scale Regulatory and Metabolic (GERM) models\n",
    "\n",
    "MEWpy supports several methods to perform phenotype simulations using GERM models.\n",
    "The following simulation methods are available in **`mewpy.germ.analysis`**:\n",
    "- **`FBA`** - requires a Metabolic model\n",
    "- **`pFBA`** - requires a Metabolic model\n",
    "- **`RFBA`** - requires a Regulatory-Metabolic model\n",
    "- **`SRFBA`** - requires a Regulatory-Metabolic model\n",
    "- **`PROM`** - requires a Regulatory-Metabolic model\n",
    "- **`CoRegFlux`** - requires a Regulatory-Metabolic model\n",
    "\n",
    "In addition, **`FBA`** and **`pFBA`** simulation methods are available in the MEWpy **`Simulator`** object.\n",
    "\n",
    "This example uses the integrated _E. coli_ core model published by [Orth _et al_, 2010](https://doi.org/10.1128/ecosalplus.10.2.1). More information regarding this model is available in `examples.GERM_Models.ipynb` notebook\n",
    "\n",
    "This example uses the integrated _E. coli_ iMC1010 model published by [Covert _et al_, 2004](https://doi.org/10.1038/nature02456). This model consists of the _E. coli_ iJR904 GEM model published by [Reed _et al_, 2003](https://doi.org/10.1186/gb-2003-4-9-r54) and _E. coli_ iMC1010 TRN published by [Covert _et al_, 2004](https://doi.org/10.1038/nature02456). This model includes 904 metabolic genes, 931 unique biochemical reactions, and a TRN having 1010 regulatory interactions (target-regulators using boolean logic).\n",
    "\n",
    "This example uses the integrated _M. tuberculosis_ iNJ661 model published by [Chandrasekaran _et al_, 2010](https://doi.org/10.1073/pnas.1005139107). This model consists of the _M. tuberculosis_ iNJ661 GEM model published by [Jamshidi _et al_, 2007](https://doi.org/10.1186/1752-0509-1-26), _M. tuberculosis_ TRN published by [Balazsi _et al_, 2008](https://doi.org/10.1038/msb.2008.63), and gene expression dataset published by [Chandrasekaran _et al_, 2010](https://doi.org/10.1073/pnas.1005139107). This model includes 691 metabolic genes, 1028 unique biochemical reactions, and a TRN having 2018 regulatory interactions (target-regulator).\n",
    "\n",
    "This example uses the integrated _S. cerevisae_ iMM904 model published by [Banos _et al_, 2017](https://doi.org/10.1186/s12918-017-0507-0). This model consists of the _S. cerevisae_ iMM904 GEM model published by [Mo _et al_, 2009](https://doi.org/10.1186/1752-0509-3-37), _S. cerevisae_ TRN inferred by CoRegNet published by [Nicolle _et al_, 2015](https://doi.org/10.1093/bioinformatics/btv305), and gene expression datasets published by [Brauer _et al_, 2005](https://doi.org/10.1091/mbc.e04-11-0968) and [DeRisi _et al_, 1997](https://doi.org/10.1126/science.278.5338.680). This model includes 904 metabolic genes, 1557 unique biochemical reactions, and a TRN having 3748 regulatory interactions (target-regulators separated in co-activators and co-repressors)."
   ],
   "metadata": {
    "collapsed": false
   }
  },
  {
   "cell_type": "code",
   "execution_count": 1,
   "outputs": [],
   "source": [
    "# imports\n",
    "import os\n",
    "from pathlib import Path\n",
    "\n",
    "from mewpy.io import Engines, Reader, read_model\n",
    "from mewpy.germ.analysis import *"
   ],
   "metadata": {
    "collapsed": false
   }
  },
  {
   "cell_type": "code",
   "execution_count": 2,
   "outputs": [],
   "source": [
    "# readers\n",
    "path = Path(os.getcwd()).joinpath('models', 'germ')\n",
    "\n",
    "# E. coli core\n",
    "core_gem_reader = Reader(Engines.MetabolicSBML, path.joinpath('e_coli_core.xml'))\n",
    "core_trn_reader = Reader(Engines.BooleanRegulatoryCSV,\n",
    "                         path.joinpath('e_coli_core_trn.csv'),\n",
    "                         sep=',',\n",
    "                         id_col=0,\n",
    "                         rule_col=2,\n",
    "                         aliases_cols=[1],\n",
    "                         header=0)\n",
    "\n",
    "# E. coli iMC1010\n",
    "imc1010_gem_reader = Reader(Engines.MetabolicSBML, path.joinpath('iJR904.xml'))\n",
    "imc1010_trn_reader = Reader(Engines.BooleanRegulatoryCSV,\n",
    "                            path.joinpath('iMC1010.csv'),\n",
    "                            sep=',',\n",
    "                            id_col=0,\n",
    "                            rule_col=4,\n",
    "                            aliases_cols=[1, 2, 3],\n",
    "                            header=0)\n",
    "\n",
    "# M. tuberculosis iNJ661\n",
    "inj661_gem_reader = Reader(Engines.MetabolicSBML, path.joinpath('iNJ661.xml'))\n",
    "inj661_trn_reader = Reader(Engines.TargetRegulatorRegulatoryCSV,\n",
    "                           path.joinpath('iNJ661_trn.csv'),\n",
    "                           sep=';',\n",
    "                           target_col=0,\n",
    "                           regulator_col=1,\n",
    "                           header=None)\n",
    "inj661_gene_expression_path = path.joinpath('iNJ661_gene_expression.csv')\n",
    "\n",
    "# S. cerevisae iMM904\n",
    "imm904_gem_reader = Reader(Engines.MetabolicSBML, path.joinpath('iMM904.xml'))\n",
    "imm904_trn_reader = Reader(Engines.CoExpressionRegulatoryCSV,\n",
    "                           path.joinpath('iMM904_trn.csv'),\n",
    "                           sep=',',\n",
    "                           target_col=2,\n",
    "                           co_activating_col=3,\n",
    "                           co_repressing_col=4,\n",
    "                           header=0)"
   ],
   "metadata": {
    "collapsed": false
   }
  },
  {
   "cell_type": "markdown",
   "source": [
    "## Working with GERM model analysis\n",
    "In the `mewpy.germ.analysis` package, simulation methods are derived from a **`LinearProblem`** object having the following attributes and methods:\n",
    "- `method` - the name of the simulation method\n",
    "- `model` - the model used to build the linear problem\n",
    "- `solver` - a MEWpy solver instance having the linear programming implementation of variables and constraints in the selected solver. The following solvers are available: _CPLEX_; _GUROBI_; _OPTLANG_\n",
    "- `constraints` - The representation of ODE to be implemented in the solver instance using linear programming\n",
    "- `variables` - The representation of the system variables to be implemented in the solver instance using linear programming\n",
    "- `objective` - A linear representation of the objective function associated with the linear problem\n",
    "\n",
    "A simulation method includes two important methods:\n",
    "- **`build`** - the build method is responsible for retrieving variables and constraints from a GERM model according to the mathematical formulation of each simulation method\n",
    "- **`optimize`** - the optimize method is responsible for solving the linear problem using linear programming or mixed-integer linear programming. This method accepts method-specific arguments (initial state, dynamic, etc) and solver-specific arguments (linear, minimize, constraints, get_values, etc). These arguments can override temporarily some constraints or variables during the optimization."
   ],
   "metadata": {
    "collapsed": false
   }
  },
  {
   "cell_type": "code",
   "execution_count": 3,
   "outputs": [
    {
     "data": {
      "text/plain": "SRFBA for e_coli_core",
      "text/html": "\n        <table>\n            <tr>\n                <td>Method</td>\n                <td>SRFBA</td>\n            </tr>\n            <tr>\n                <td>Model</td>\n                <td>Model e_coli_core - E. coli core model - Orth et al 2010</td>\n            </tr>\n            <tr>\n                <th>Variables</th>\n                <td>486</td>\n            </tr>\n            <tr>\n                <th>Constraints</th>\n                <td>326</td>\n            </tr>\n            <tr>\n                <th>Objective</th>\n                <td>{'Biomass_Ecoli_core': 1.0}</td>\n            </tr>\n            <tr>\n                <th>Solver</th>\n                <td>CplexSolver</td>\n            </tr>\n            <tr>\n                <th>Synchronized</th>\n                <td>True</td>\n            </tr>\n        </table>\n        "
     },
     "execution_count": 3,
     "metadata": {},
     "output_type": "execute_result"
    }
   ],
   "source": [
    "# showcase of a simulation method\n",
    "\n",
    "# reading the E. coli core model\n",
    "model = read_model(core_gem_reader, core_trn_reader)\n",
    "\n",
    "# initialization does not build the model automatically\n",
    "srfba = SRFBA(model).build()\n",
    "srfba"
   ],
   "metadata": {
    "collapsed": false
   }
  },
  {
   "cell_type": "markdown",
   "source": [
    "The `optimize` interface creates a `ModelSolution` output by default containing the objective value, value of each variable in the solution, among others. Alternatively, `optimize` can create a simple solver `Solution` object."
   ],
   "metadata": {
    "collapsed": false
   }
  },
  {
   "cell_type": "code",
   "execution_count": 4,
   "outputs": [
    {
     "data": {
      "text/plain": "SRFBA Solution\n Objective value: 0.8739215069684829\n Status: optimal",
      "text/html": "\n        <table>\n            <tr>\n                <td>Method</td>\n                <td>SRFBA</td>\n            </tr>\n            <tr>\n                <td>Model</td>\n                <td>Model e_coli_core - E. coli core model - Orth et al 2010</td>\n            </tr>\n            <tr>\n                <th>Objective</th>\n                <td>Biomass_Ecoli_core</td>\n            </tr>\n            <tr>\n                <th>Objective value</th>\n                <td>0.8739215069684829</td>\n            </tr>\n            <tr>\n                <th>Status</th>\n                <td>optimal</td>\n            </tr>\n        </table>\n        "
     },
     "execution_count": 4,
     "metadata": {},
     "output_type": "execute_result"
    }
   ],
   "source": [
    "# optimization creates a ModelSolution object by default\n",
    "solution = srfba.optimize()\n",
    "solution"
   ],
   "metadata": {
    "collapsed": false
   }
  },
  {
   "cell_type": "markdown",
   "source": [
    "One can generate a pandas `DataFrame` using the **`to_frame()`** method of the **`ModelSolution`** object.\n",
    "This data frame contains the obtained expression coefficients for the regulatory environmental stimuli linked to the metabolic model and exchange fluxes."
   ],
   "metadata": {
    "collapsed": false
   }
  },
  {
   "cell_type": "code",
   "execution_count": 5,
   "outputs": [
    {
     "data": {
      "text/plain": "                     regulatory                                    \\\n            regulatory variable variable type minimum coefficient   \nEX_ac_e                     NaN           NaN                 NaN   \nEX_acald_e                  NaN           NaN                 NaN   \nEX_akg_e                    NaN           NaN                 NaN   \nEX_co2_e                    NaN           NaN                 NaN   \nEX_etoh_e                   NaN           NaN                 NaN   \nEX_for_e                    NaN           NaN                 NaN   \nEX_fru_e                    NaN           NaN                 NaN   \nEX_fum_e                    NaN           NaN                 NaN   \nEX_glc__D_e                 NaN           NaN                 NaN   \nEX_gln__L_e                 NaN           NaN                 NaN   \nEX_glu__L_e                 NaN           NaN                 NaN   \nEX_h_e                      NaN           NaN                 NaN   \nEX_h2o_e                    NaN           NaN                 NaN   \nEX_lac__D_e                 NaN           NaN                 NaN   \nEX_mal__L_e                 NaN           NaN                 NaN   \nEX_nh4_e                    NaN           NaN                 NaN   \nEX_o2_e                     NaN           NaN                 NaN   \nEX_pi_e                     NaN           NaN                 NaN   \nEX_pyr_e                    NaN           NaN                 NaN   \nEX_succ_e                   NaN           NaN                 NaN   \n\n                                                          metabolic  \\\n            maximum coefficient expression coefficient     exchange   \nEX_ac_e                     NaN                    NaN      EX_ac_e   \nEX_acald_e                  NaN                    NaN   EX_acald_e   \nEX_akg_e                    NaN                    NaN     EX_akg_e   \nEX_co2_e                    NaN                    NaN     EX_co2_e   \nEX_etoh_e                   NaN                    NaN    EX_etoh_e   \nEX_for_e                    NaN                    NaN     EX_for_e   \nEX_fru_e                    NaN                    NaN     EX_fru_e   \nEX_fum_e                    NaN                    NaN     EX_fum_e   \nEX_glc__D_e                 NaN                    NaN  EX_glc__D_e   \nEX_gln__L_e                 NaN                    NaN  EX_gln__L_e   \nEX_glu__L_e                 NaN                    NaN  EX_glu__L_e   \nEX_h_e                      NaN                    NaN       EX_h_e   \nEX_h2o_e                    NaN                    NaN     EX_h2o_e   \nEX_lac__D_e                 NaN                    NaN  EX_lac__D_e   \nEX_mal__L_e                 NaN                    NaN  EX_mal__L_e   \nEX_nh4_e                    NaN                    NaN     EX_nh4_e   \nEX_o2_e                     NaN                    NaN      EX_o2_e   \nEX_pi_e                     NaN                    NaN      EX_pi_e   \nEX_pyr_e                    NaN                    NaN     EX_pyr_e   \nEX_succ_e                   NaN                    NaN    EX_succ_e   \n\n                                                                            \n            variable type metabolite lower bound upper bound          flux  \nEX_ac_e          reaction       ac_e         0.0      1000.0 -2.273737e-13  \nEX_acald_e       reaction    acald_e         0.0      1000.0 -2.273737e-13  \nEX_akg_e         reaction      akg_e         0.0      1000.0 -2.273737e-13  \nEX_co2_e         reaction      co2_e     -1000.0      1000.0  2.280983e+01  \nEX_etoh_e        reaction     etoh_e         0.0      1000.0 -2.273737e-13  \nEX_for_e         reaction      for_e         0.0      1000.0  0.000000e+00  \nEX_fru_e         reaction      fru_e         0.0      1000.0  0.000000e+00  \nEX_fum_e         reaction      fum_e         0.0      1000.0  0.000000e+00  \nEX_glc__D_e      reaction   glc__D_e       -10.0      1000.0 -1.000000e+01  \nEX_gln__L_e      reaction   gln__L_e         0.0      1000.0  0.000000e+00  \nEX_glu__L_e      reaction   glu__L_e         0.0      1000.0 -2.273737e-13  \nEX_h_e           reaction        h_e     -1000.0      1000.0  1.753087e+01  \nEX_h2o_e         reaction      h2o_e     -1000.0      1000.0  2.917583e+01  \nEX_lac__D_e      reaction   lac__D_e         0.0      1000.0 -2.273737e-13  \nEX_mal__L_e      reaction   mal__L_e         0.0      1000.0  0.000000e+00  \nEX_nh4_e         reaction      nh4_e     -1000.0      1000.0 -4.765319e+00  \nEX_o2_e          reaction       o2_e     -1000.0      1000.0 -2.179949e+01  \nEX_pi_e          reaction       pi_e     -1000.0      1000.0 -3.214895e+00  \nEX_pyr_e         reaction      pyr_e         0.0      1000.0 -2.273737e-13  \nEX_succ_e        reaction     succ_e         0.0      1000.0  0.000000e+00  ",
      "text/html": "<div>\n<style scoped>\n    .dataframe tbody tr th:only-of-type {\n        vertical-align: middle;\n    }\n\n    .dataframe tbody tr th {\n        vertical-align: top;\n    }\n\n    .dataframe thead tr th {\n        text-align: left;\n    }\n</style>\n<table border=\"1\" class=\"dataframe\">\n  <thead>\n    <tr>\n      <th></th>\n      <th colspan=\"5\" halign=\"left\">regulatory</th>\n      <th colspan=\"6\" halign=\"left\">metabolic</th>\n    </tr>\n    <tr>\n      <th></th>\n      <th>regulatory variable</th>\n      <th>variable type</th>\n      <th>minimum coefficient</th>\n      <th>maximum coefficient</th>\n      <th>expression coefficient</th>\n      <th>exchange</th>\n      <th>variable type</th>\n      <th>metabolite</th>\n      <th>lower bound</th>\n      <th>upper bound</th>\n      <th>flux</th>\n    </tr>\n  </thead>\n  <tbody>\n    <tr>\n      <th>EX_ac_e</th>\n      <td>NaN</td>\n      <td>NaN</td>\n      <td>NaN</td>\n      <td>NaN</td>\n      <td>NaN</td>\n      <td>EX_ac_e</td>\n      <td>reaction</td>\n      <td>ac_e</td>\n      <td>0.0</td>\n      <td>1000.0</td>\n      <td>-2.273737e-13</td>\n    </tr>\n    <tr>\n      <th>EX_acald_e</th>\n      <td>NaN</td>\n      <td>NaN</td>\n      <td>NaN</td>\n      <td>NaN</td>\n      <td>NaN</td>\n      <td>EX_acald_e</td>\n      <td>reaction</td>\n      <td>acald_e</td>\n      <td>0.0</td>\n      <td>1000.0</td>\n      <td>-2.273737e-13</td>\n    </tr>\n    <tr>\n      <th>EX_akg_e</th>\n      <td>NaN</td>\n      <td>NaN</td>\n      <td>NaN</td>\n      <td>NaN</td>\n      <td>NaN</td>\n      <td>EX_akg_e</td>\n      <td>reaction</td>\n      <td>akg_e</td>\n      <td>0.0</td>\n      <td>1000.0</td>\n      <td>-2.273737e-13</td>\n    </tr>\n    <tr>\n      <th>EX_co2_e</th>\n      <td>NaN</td>\n      <td>NaN</td>\n      <td>NaN</td>\n      <td>NaN</td>\n      <td>NaN</td>\n      <td>EX_co2_e</td>\n      <td>reaction</td>\n      <td>co2_e</td>\n      <td>-1000.0</td>\n      <td>1000.0</td>\n      <td>2.280983e+01</td>\n    </tr>\n    <tr>\n      <th>EX_etoh_e</th>\n      <td>NaN</td>\n      <td>NaN</td>\n      <td>NaN</td>\n      <td>NaN</td>\n      <td>NaN</td>\n      <td>EX_etoh_e</td>\n      <td>reaction</td>\n      <td>etoh_e</td>\n      <td>0.0</td>\n      <td>1000.0</td>\n      <td>-2.273737e-13</td>\n    </tr>\n    <tr>\n      <th>EX_for_e</th>\n      <td>NaN</td>\n      <td>NaN</td>\n      <td>NaN</td>\n      <td>NaN</td>\n      <td>NaN</td>\n      <td>EX_for_e</td>\n      <td>reaction</td>\n      <td>for_e</td>\n      <td>0.0</td>\n      <td>1000.0</td>\n      <td>0.000000e+00</td>\n    </tr>\n    <tr>\n      <th>EX_fru_e</th>\n      <td>NaN</td>\n      <td>NaN</td>\n      <td>NaN</td>\n      <td>NaN</td>\n      <td>NaN</td>\n      <td>EX_fru_e</td>\n      <td>reaction</td>\n      <td>fru_e</td>\n      <td>0.0</td>\n      <td>1000.0</td>\n      <td>0.000000e+00</td>\n    </tr>\n    <tr>\n      <th>EX_fum_e</th>\n      <td>NaN</td>\n      <td>NaN</td>\n      <td>NaN</td>\n      <td>NaN</td>\n      <td>NaN</td>\n      <td>EX_fum_e</td>\n      <td>reaction</td>\n      <td>fum_e</td>\n      <td>0.0</td>\n      <td>1000.0</td>\n      <td>0.000000e+00</td>\n    </tr>\n    <tr>\n      <th>EX_glc__D_e</th>\n      <td>NaN</td>\n      <td>NaN</td>\n      <td>NaN</td>\n      <td>NaN</td>\n      <td>NaN</td>\n      <td>EX_glc__D_e</td>\n      <td>reaction</td>\n      <td>glc__D_e</td>\n      <td>-10.0</td>\n      <td>1000.0</td>\n      <td>-1.000000e+01</td>\n    </tr>\n    <tr>\n      <th>EX_gln__L_e</th>\n      <td>NaN</td>\n      <td>NaN</td>\n      <td>NaN</td>\n      <td>NaN</td>\n      <td>NaN</td>\n      <td>EX_gln__L_e</td>\n      <td>reaction</td>\n      <td>gln__L_e</td>\n      <td>0.0</td>\n      <td>1000.0</td>\n      <td>0.000000e+00</td>\n    </tr>\n    <tr>\n      <th>EX_glu__L_e</th>\n      <td>NaN</td>\n      <td>NaN</td>\n      <td>NaN</td>\n      <td>NaN</td>\n      <td>NaN</td>\n      <td>EX_glu__L_e</td>\n      <td>reaction</td>\n      <td>glu__L_e</td>\n      <td>0.0</td>\n      <td>1000.0</td>\n      <td>-2.273737e-13</td>\n    </tr>\n    <tr>\n      <th>EX_h_e</th>\n      <td>NaN</td>\n      <td>NaN</td>\n      <td>NaN</td>\n      <td>NaN</td>\n      <td>NaN</td>\n      <td>EX_h_e</td>\n      <td>reaction</td>\n      <td>h_e</td>\n      <td>-1000.0</td>\n      <td>1000.0</td>\n      <td>1.753087e+01</td>\n    </tr>\n    <tr>\n      <th>EX_h2o_e</th>\n      <td>NaN</td>\n      <td>NaN</td>\n      <td>NaN</td>\n      <td>NaN</td>\n      <td>NaN</td>\n      <td>EX_h2o_e</td>\n      <td>reaction</td>\n      <td>h2o_e</td>\n      <td>-1000.0</td>\n      <td>1000.0</td>\n      <td>2.917583e+01</td>\n    </tr>\n    <tr>\n      <th>EX_lac__D_e</th>\n      <td>NaN</td>\n      <td>NaN</td>\n      <td>NaN</td>\n      <td>NaN</td>\n      <td>NaN</td>\n      <td>EX_lac__D_e</td>\n      <td>reaction</td>\n      <td>lac__D_e</td>\n      <td>0.0</td>\n      <td>1000.0</td>\n      <td>-2.273737e-13</td>\n    </tr>\n    <tr>\n      <th>EX_mal__L_e</th>\n      <td>NaN</td>\n      <td>NaN</td>\n      <td>NaN</td>\n      <td>NaN</td>\n      <td>NaN</td>\n      <td>EX_mal__L_e</td>\n      <td>reaction</td>\n      <td>mal__L_e</td>\n      <td>0.0</td>\n      <td>1000.0</td>\n      <td>0.000000e+00</td>\n    </tr>\n    <tr>\n      <th>EX_nh4_e</th>\n      <td>NaN</td>\n      <td>NaN</td>\n      <td>NaN</td>\n      <td>NaN</td>\n      <td>NaN</td>\n      <td>EX_nh4_e</td>\n      <td>reaction</td>\n      <td>nh4_e</td>\n      <td>-1000.0</td>\n      <td>1000.0</td>\n      <td>-4.765319e+00</td>\n    </tr>\n    <tr>\n      <th>EX_o2_e</th>\n      <td>NaN</td>\n      <td>NaN</td>\n      <td>NaN</td>\n      <td>NaN</td>\n      <td>NaN</td>\n      <td>EX_o2_e</td>\n      <td>reaction</td>\n      <td>o2_e</td>\n      <td>-1000.0</td>\n      <td>1000.0</td>\n      <td>-2.179949e+01</td>\n    </tr>\n    <tr>\n      <th>EX_pi_e</th>\n      <td>NaN</td>\n      <td>NaN</td>\n      <td>NaN</td>\n      <td>NaN</td>\n      <td>NaN</td>\n      <td>EX_pi_e</td>\n      <td>reaction</td>\n      <td>pi_e</td>\n      <td>-1000.0</td>\n      <td>1000.0</td>\n      <td>-3.214895e+00</td>\n    </tr>\n    <tr>\n      <th>EX_pyr_e</th>\n      <td>NaN</td>\n      <td>NaN</td>\n      <td>NaN</td>\n      <td>NaN</td>\n      <td>NaN</td>\n      <td>EX_pyr_e</td>\n      <td>reaction</td>\n      <td>pyr_e</td>\n      <td>0.0</td>\n      <td>1000.0</td>\n      <td>-2.273737e-13</td>\n    </tr>\n    <tr>\n      <th>EX_succ_e</th>\n      <td>NaN</td>\n      <td>NaN</td>\n      <td>NaN</td>\n      <td>NaN</td>\n      <td>NaN</td>\n      <td>EX_succ_e</td>\n      <td>reaction</td>\n      <td>succ_e</td>\n      <td>0.0</td>\n      <td>1000.0</td>\n      <td>0.000000e+00</td>\n    </tr>\n  </tbody>\n</table>\n</div>"
     },
     "execution_count": 5,
     "metadata": {},
     "output_type": "execute_result"
    }
   ],
   "source": [
    "# a solution can be converted into a df\n",
    "solution.to_frame()"
   ],
   "metadata": {
    "collapsed": false
   }
  },
  {
   "cell_type": "markdown",
   "source": [
    "One can generate a **`Summary`** object using the **`to_summary()`** method of the **`ModelSolution`** object.\n",
    "This summary contains the following data:\n",
    "- `inputs` - regulatory and metabolic inputs for the simulation method\n",
    "- `outputs` - regulatory and metabolic inputs for the simulation method\n",
    "- `metabolic` - values of the metabolic variables\n",
    "- `regulatory` - values of the regulatory variables\n",
    "- `objective` - the objective value\n",
    "- `df` - the summary of inputs and outputs in the regulatory and metabolic layers"
   ],
   "metadata": {
    "collapsed": false
   }
  },
  {
   "cell_type": "code",
   "execution_count": 6,
   "outputs": [
    {
     "data": {
      "text/plain": "<mewpy.germ.solution.summary.Summary at 0x25a45b06c08>",
      "text/html": "<table border=\"1\" class=\"dataframe\">\n  <thead>\n    <tr>\n      <th></th>\n      <th colspan=\"4\" halign=\"left\">regulatory</th>\n      <th colspan=\"5\" halign=\"left\">metabolic</th>\n    </tr>\n    <tr>\n      <th></th>\n      <th>regulatory variable</th>\n      <th>variable type</th>\n      <th>role</th>\n      <th>expression coefficient</th>\n      <th>reaction</th>\n      <th>variable type</th>\n      <th>metabolite</th>\n      <th>role</th>\n      <th>flux</th>\n    </tr>\n  </thead>\n  <tbody>\n    <tr>\n      <th>b0008</th>\n      <td>b0008</td>\n      <td>target, gene</td>\n      <td>output</td>\n      <td>1.0</td>\n      <td>NaN</td>\n      <td>NaN</td>\n      <td>NaN</td>\n      <td>NaN</td>\n      <td>NaN</td>\n    </tr>\n    <tr>\n      <th>b0080</th>\n      <td>b0080</td>\n      <td>regulator, target</td>\n      <td>output</td>\n      <td>1.0</td>\n      <td>NaN</td>\n      <td>NaN</td>\n      <td>NaN</td>\n      <td>NaN</td>\n      <td>NaN</td>\n    </tr>\n    <tr>\n      <th>b0113</th>\n      <td>b0113</td>\n      <td>regulator, target</td>\n      <td>output</td>\n      <td>1.0</td>\n      <td>NaN</td>\n      <td>NaN</td>\n      <td>NaN</td>\n      <td>NaN</td>\n      <td>NaN</td>\n    </tr>\n    <tr>\n      <th>b0114</th>\n      <td>b0114</td>\n      <td>target, gene</td>\n      <td>output</td>\n      <td>1.0</td>\n      <td>NaN</td>\n      <td>NaN</td>\n      <td>NaN</td>\n      <td>NaN</td>\n      <td>NaN</td>\n    </tr>\n    <tr>\n      <th>b0115</th>\n      <td>b0115</td>\n      <td>target, gene</td>\n      <td>output</td>\n      <td>1.0</td>\n      <td>NaN</td>\n      <td>NaN</td>\n      <td>NaN</td>\n      <td>NaN</td>\n      <td>NaN</td>\n    </tr>\n    <tr>\n      <th>b0116</th>\n      <td>b0116</td>\n      <td>target, gene</td>\n      <td>output</td>\n      <td>1.0</td>\n      <td>NaN</td>\n      <td>NaN</td>\n      <td>NaN</td>\n      <td>NaN</td>\n      <td>NaN</td>\n    </tr>\n    <tr>\n      <th>b0118</th>\n      <td>b0118</td>\n      <td>target, gene</td>\n      <td>output</td>\n      <td>1.0</td>\n      <td>NaN</td>\n      <td>NaN</td>\n      <td>NaN</td>\n      <td>NaN</td>\n      <td>NaN</td>\n    </tr>\n    <tr>\n      <th>b0351</th>\n      <td>b0351</td>\n      <td>target, gene</td>\n      <td>output</td>\n      <td>1.0</td>\n      <td>NaN</td>\n      <td>NaN</td>\n      <td>NaN</td>\n      <td>NaN</td>\n      <td>NaN</td>\n    </tr>\n    <tr>\n      <th>b0356</th>\n      <td>b0356</td>\n      <td>target, gene</td>\n      <td>output</td>\n      <td>1.0</td>\n      <td>NaN</td>\n      <td>NaN</td>\n      <td>NaN</td>\n      <td>NaN</td>\n      <td>NaN</td>\n    </tr>\n    <tr>\n      <th>b0399</th>\n      <td>b0399</td>\n      <td>regulator, target</td>\n      <td>output</td>\n      <td>1.0</td>\n      <td>NaN</td>\n      <td>NaN</td>\n      <td>NaN</td>\n      <td>NaN</td>\n      <td>NaN</td>\n    </tr>\n    <tr>\n      <th>b0400</th>\n      <td>b0400</td>\n      <td>regulator, target</td>\n      <td>output</td>\n      <td>1.0</td>\n      <td>NaN</td>\n      <td>NaN</td>\n      <td>NaN</td>\n      <td>NaN</td>\n      <td>NaN</td>\n    </tr>\n    <tr>\n      <th>b0451</th>\n      <td>b0451</td>\n      <td>target, gene</td>\n      <td>output</td>\n      <td>1.0</td>\n      <td>NaN</td>\n      <td>NaN</td>\n      <td>NaN</td>\n      <td>NaN</td>\n      <td>NaN</td>\n    </tr>\n    <tr>\n      <th>b0474</th>\n      <td>b0474</td>\n      <td>target, gene</td>\n      <td>output</td>\n      <td>1.0</td>\n      <td>NaN</td>\n      <td>NaN</td>\n      <td>NaN</td>\n      <td>NaN</td>\n      <td>NaN</td>\n    </tr>\n    <tr>\n      <th>b0485</th>\n      <td>b0485</td>\n      <td>target, gene</td>\n      <td>output</td>\n      <td>1.0</td>\n      <td>NaN</td>\n      <td>NaN</td>\n      <td>NaN</td>\n      <td>NaN</td>\n      <td>NaN</td>\n    </tr>\n    <tr>\n      <th>b0720</th>\n      <td>b0720</td>\n      <td>target, gene</td>\n      <td>output</td>\n      <td>1.0</td>\n      <td>NaN</td>\n      <td>NaN</td>\n      <td>NaN</td>\n      <td>NaN</td>\n      <td>NaN</td>\n    </tr>\n    <tr>\n      <th>b0721</th>\n      <td>b0721</td>\n      <td>target, gene</td>\n      <td>output</td>\n      <td>1.0</td>\n      <td>NaN</td>\n      <td>NaN</td>\n      <td>NaN</td>\n      <td>NaN</td>\n      <td>NaN</td>\n    </tr>\n    <tr>\n      <th>b0722</th>\n      <td>b0722</td>\n      <td>target, gene</td>\n      <td>output</td>\n      <td>1.0</td>\n      <td>NaN</td>\n      <td>NaN</td>\n      <td>NaN</td>\n      <td>NaN</td>\n      <td>NaN</td>\n    </tr>\n    <tr>\n      <th>b0723</th>\n      <td>b0723</td>\n      <td>target, gene</td>\n      <td>output</td>\n      <td>1.0</td>\n      <td>NaN</td>\n      <td>NaN</td>\n      <td>NaN</td>\n      <td>NaN</td>\n      <td>NaN</td>\n    </tr>\n    <tr>\n      <th>b0724</th>\n      <td>b0724</td>\n      <td>target, gene</td>\n      <td>output</td>\n      <td>1.0</td>\n      <td>NaN</td>\n      <td>NaN</td>\n      <td>NaN</td>\n      <td>NaN</td>\n      <td>NaN</td>\n    </tr>\n    <tr>\n      <th>b0726</th>\n      <td>b0726</td>\n      <td>target, gene</td>\n      <td>output</td>\n      <td>1.0</td>\n      <td>NaN</td>\n      <td>NaN</td>\n      <td>NaN</td>\n      <td>NaN</td>\n      <td>NaN</td>\n    </tr>\n    <tr>\n      <th>b0727</th>\n      <td>b0727</td>\n      <td>target, gene</td>\n      <td>output</td>\n      <td>1.0</td>\n      <td>NaN</td>\n      <td>NaN</td>\n      <td>NaN</td>\n      <td>NaN</td>\n      <td>NaN</td>\n    </tr>\n    <tr>\n      <th>b0728</th>\n      <td>b0728</td>\n      <td>target, gene</td>\n      <td>output</td>\n      <td>1.0</td>\n      <td>NaN</td>\n      <td>NaN</td>\n      <td>NaN</td>\n      <td>NaN</td>\n      <td>NaN</td>\n    </tr>\n    <tr>\n      <th>b0729</th>\n      <td>b0729</td>\n      <td>target, gene</td>\n      <td>output</td>\n      <td>1.0</td>\n      <td>NaN</td>\n      <td>NaN</td>\n      <td>NaN</td>\n      <td>NaN</td>\n      <td>NaN</td>\n    </tr>\n    <tr>\n      <th>b0733</th>\n      <td>b0733</td>\n      <td>target, gene</td>\n      <td>output</td>\n      <td>1.0</td>\n      <td>NaN</td>\n      <td>NaN</td>\n      <td>NaN</td>\n      <td>NaN</td>\n      <td>NaN</td>\n    </tr>\n    <tr>\n      <th>b0734</th>\n      <td>b0734</td>\n      <td>target, gene</td>\n      <td>output</td>\n      <td>1.0</td>\n      <td>NaN</td>\n      <td>NaN</td>\n      <td>NaN</td>\n      <td>NaN</td>\n      <td>NaN</td>\n    </tr>\n    <tr>\n      <th>b0755</th>\n      <td>b0755</td>\n      <td>target, gene</td>\n      <td>output</td>\n      <td>1.0</td>\n      <td>NaN</td>\n      <td>NaN</td>\n      <td>NaN</td>\n      <td>NaN</td>\n      <td>NaN</td>\n    </tr>\n    <tr>\n      <th>b0767</th>\n      <td>b0767</td>\n      <td>target, gene</td>\n      <td>output</td>\n      <td>1.0</td>\n      <td>NaN</td>\n      <td>NaN</td>\n      <td>NaN</td>\n      <td>NaN</td>\n      <td>NaN</td>\n    </tr>\n    <tr>\n      <th>b0809</th>\n      <td>b0809</td>\n      <td>target, gene</td>\n      <td>output</td>\n      <td>1.0</td>\n      <td>NaN</td>\n      <td>NaN</td>\n      <td>NaN</td>\n      <td>NaN</td>\n      <td>NaN</td>\n    </tr>\n    <tr>\n      <th>b0810</th>\n      <td>b0810</td>\n      <td>target, gene</td>\n      <td>output</td>\n      <td>1.0</td>\n      <td>NaN</td>\n      <td>NaN</td>\n      <td>NaN</td>\n      <td>NaN</td>\n      <td>NaN</td>\n    </tr>\n    <tr>\n      <th>b0811</th>\n      <td>b0811</td>\n      <td>target, gene</td>\n      <td>output</td>\n      <td>1.0</td>\n      <td>NaN</td>\n      <td>NaN</td>\n      <td>NaN</td>\n      <td>NaN</td>\n      <td>NaN</td>\n    </tr>\n    <tr>\n      <th>b0875</th>\n      <td>b0875</td>\n      <td>target, gene</td>\n      <td>output</td>\n      <td>1.0</td>\n      <td>NaN</td>\n      <td>NaN</td>\n      <td>NaN</td>\n      <td>NaN</td>\n      <td>NaN</td>\n    </tr>\n    <tr>\n      <th>b0902</th>\n      <td>b0902</td>\n      <td>target, gene</td>\n      <td>output</td>\n      <td>0.0</td>\n      <td>NaN</td>\n      <td>NaN</td>\n      <td>NaN</td>\n      <td>NaN</td>\n      <td>NaN</td>\n    </tr>\n    <tr>\n      <th>b0903</th>\n      <td>b0903</td>\n      <td>target, gene</td>\n      <td>output</td>\n      <td>0.0</td>\n      <td>NaN</td>\n      <td>NaN</td>\n      <td>NaN</td>\n      <td>NaN</td>\n      <td>NaN</td>\n    </tr>\n    <tr>\n      <th>b0904</th>\n      <td>b0904</td>\n      <td>target, gene</td>\n      <td>output</td>\n      <td>0.0</td>\n      <td>NaN</td>\n      <td>NaN</td>\n      <td>NaN</td>\n      <td>NaN</td>\n      <td>NaN</td>\n    </tr>\n    <tr>\n      <th>b0978</th>\n      <td>b0978</td>\n      <td>target, gene</td>\n      <td>output</td>\n      <td>1.0</td>\n      <td>NaN</td>\n      <td>NaN</td>\n      <td>NaN</td>\n      <td>NaN</td>\n      <td>NaN</td>\n    </tr>\n    <tr>\n      <th>b0979</th>\n      <td>b0979</td>\n      <td>target, gene</td>\n      <td>output</td>\n      <td>1.0</td>\n      <td>NaN</td>\n      <td>NaN</td>\n      <td>NaN</td>\n      <td>NaN</td>\n      <td>NaN</td>\n    </tr>\n    <tr>\n      <th>b1101</th>\n      <td>b1101</td>\n      <td>target, gene</td>\n      <td>output</td>\n      <td>0.0</td>\n      <td>NaN</td>\n      <td>NaN</td>\n      <td>NaN</td>\n      <td>NaN</td>\n      <td>NaN</td>\n    </tr>\n    <tr>\n      <th>b1136</th>\n      <td>b1136</td>\n      <td>target, gene</td>\n      <td>output</td>\n      <td>1.0</td>\n      <td>NaN</td>\n      <td>NaN</td>\n      <td>NaN</td>\n      <td>NaN</td>\n      <td>NaN</td>\n    </tr>\n    <tr>\n      <th>b1187</th>\n      <td>b1187</td>\n      <td>regulator, target</td>\n      <td>output</td>\n      <td>1.0</td>\n      <td>NaN</td>\n      <td>NaN</td>\n      <td>NaN</td>\n      <td>NaN</td>\n      <td>NaN</td>\n    </tr>\n    <tr>\n      <th>b1241</th>\n      <td>b1241</td>\n      <td>target, gene</td>\n      <td>output</td>\n      <td>1.0</td>\n      <td>NaN</td>\n      <td>NaN</td>\n      <td>NaN</td>\n      <td>NaN</td>\n      <td>NaN</td>\n    </tr>\n    <tr>\n      <th>b1276</th>\n      <td>b1276</td>\n      <td>target, gene</td>\n      <td>output</td>\n      <td>1.0</td>\n      <td>NaN</td>\n      <td>NaN</td>\n      <td>NaN</td>\n      <td>NaN</td>\n      <td>NaN</td>\n    </tr>\n    <tr>\n      <th>b1297</th>\n      <td>b1297</td>\n      <td>target, gene</td>\n      <td>output</td>\n      <td>1.0</td>\n      <td>NaN</td>\n      <td>NaN</td>\n      <td>NaN</td>\n      <td>NaN</td>\n      <td>NaN</td>\n    </tr>\n    <tr>\n      <th>b1334</th>\n      <td>b1334</td>\n      <td>regulator, target</td>\n      <td>output</td>\n      <td>0.0</td>\n      <td>NaN</td>\n      <td>NaN</td>\n      <td>NaN</td>\n      <td>NaN</td>\n      <td>NaN</td>\n    </tr>\n    <tr>\n      <th>b1380</th>\n      <td>b1380</td>\n      <td>target, gene</td>\n      <td>output</td>\n      <td>1.0</td>\n      <td>NaN</td>\n      <td>NaN</td>\n      <td>NaN</td>\n      <td>NaN</td>\n      <td>NaN</td>\n    </tr>\n    <tr>\n      <th>b1478</th>\n      <td>b1478</td>\n      <td>target, gene</td>\n      <td>output</td>\n      <td>1.0</td>\n      <td>NaN</td>\n      <td>NaN</td>\n      <td>NaN</td>\n      <td>NaN</td>\n      <td>NaN</td>\n    </tr>\n    <tr>\n      <th>b1479</th>\n      <td>b1479</td>\n      <td>target, gene</td>\n      <td>output</td>\n      <td>1.0</td>\n      <td>NaN</td>\n      <td>NaN</td>\n      <td>NaN</td>\n      <td>NaN</td>\n      <td>NaN</td>\n    </tr>\n    <tr>\n      <th>b1524</th>\n      <td>b1524</td>\n      <td>target, gene</td>\n      <td>output</td>\n      <td>1.0</td>\n      <td>NaN</td>\n      <td>NaN</td>\n      <td>NaN</td>\n      <td>NaN</td>\n      <td>NaN</td>\n    </tr>\n    <tr>\n      <th>b1594</th>\n      <td>b1594</td>\n      <td>regulator, target</td>\n      <td>output</td>\n      <td>1.0</td>\n      <td>NaN</td>\n      <td>NaN</td>\n      <td>NaN</td>\n      <td>NaN</td>\n      <td>NaN</td>\n    </tr>\n    <tr>\n      <th>b1602</th>\n      <td>b1602</td>\n      <td>target, gene</td>\n      <td>output</td>\n      <td>1.0</td>\n      <td>NaN</td>\n      <td>NaN</td>\n      <td>NaN</td>\n      <td>NaN</td>\n      <td>NaN</td>\n    </tr>\n    <tr>\n      <th>b1603</th>\n      <td>b1603</td>\n      <td>target, gene</td>\n      <td>output</td>\n      <td>1.0</td>\n      <td>NaN</td>\n      <td>NaN</td>\n      <td>NaN</td>\n      <td>NaN</td>\n      <td>NaN</td>\n    </tr>\n    <tr>\n      <th>b1611</th>\n      <td>b1611</td>\n      <td>target, gene</td>\n      <td>output</td>\n      <td>1.0</td>\n      <td>NaN</td>\n      <td>NaN</td>\n      <td>NaN</td>\n      <td>NaN</td>\n      <td>NaN</td>\n    </tr>\n    <tr>\n      <th>b1612</th>\n      <td>b1612</td>\n      <td>target, gene</td>\n      <td>output</td>\n      <td>1.0</td>\n      <td>NaN</td>\n      <td>NaN</td>\n      <td>NaN</td>\n      <td>NaN</td>\n      <td>NaN</td>\n    </tr>\n    <tr>\n      <th>b1621</th>\n      <td>b1621</td>\n      <td>target, gene</td>\n      <td>output</td>\n      <td>1.0</td>\n      <td>NaN</td>\n      <td>NaN</td>\n      <td>NaN</td>\n      <td>NaN</td>\n      <td>NaN</td>\n    </tr>\n    <tr>\n      <th>b1676</th>\n      <td>b1676</td>\n      <td>target, gene</td>\n      <td>output</td>\n      <td>0.0</td>\n      <td>NaN</td>\n      <td>NaN</td>\n      <td>NaN</td>\n      <td>NaN</td>\n      <td>NaN</td>\n    </tr>\n    <tr>\n      <th>b1702</th>\n      <td>b1702</td>\n      <td>target, gene</td>\n      <td>output</td>\n      <td>1.0</td>\n      <td>NaN</td>\n      <td>NaN</td>\n      <td>NaN</td>\n      <td>NaN</td>\n      <td>NaN</td>\n    </tr>\n    <tr>\n      <th>b1723</th>\n      <td>b1723</td>\n      <td>target, gene</td>\n      <td>output</td>\n      <td>1.0</td>\n      <td>NaN</td>\n      <td>NaN</td>\n      <td>NaN</td>\n      <td>NaN</td>\n      <td>NaN</td>\n    </tr>\n    <tr>\n      <th>b1761</th>\n      <td>b1761</td>\n      <td>target, gene</td>\n      <td>output</td>\n      <td>1.0</td>\n      <td>NaN</td>\n      <td>NaN</td>\n      <td>NaN</td>\n      <td>NaN</td>\n      <td>NaN</td>\n    </tr>\n    <tr>\n      <th>b1773</th>\n      <td>b1773</td>\n      <td>target, gene</td>\n      <td>output</td>\n      <td>1.0</td>\n      <td>NaN</td>\n      <td>NaN</td>\n      <td>NaN</td>\n      <td>NaN</td>\n      <td>NaN</td>\n    </tr>\n    <tr>\n      <th>b1779</th>\n      <td>b1779</td>\n      <td>target, gene</td>\n      <td>output</td>\n      <td>1.0</td>\n      <td>NaN</td>\n      <td>NaN</td>\n      <td>NaN</td>\n      <td>NaN</td>\n      <td>NaN</td>\n    </tr>\n    <tr>\n      <th>b1812</th>\n      <td>b1812</td>\n      <td>target, gene</td>\n      <td>output</td>\n      <td>1.0</td>\n      <td>NaN</td>\n      <td>NaN</td>\n      <td>NaN</td>\n      <td>NaN</td>\n      <td>NaN</td>\n    </tr>\n    <tr>\n      <th>b1817</th>\n      <td>b1817</td>\n      <td>target, gene</td>\n      <td>output</td>\n      <td>1.0</td>\n      <td>NaN</td>\n      <td>NaN</td>\n      <td>NaN</td>\n      <td>NaN</td>\n      <td>NaN</td>\n    </tr>\n    <tr>\n      <th>b1818</th>\n      <td>b1818</td>\n      <td>target, gene</td>\n      <td>output</td>\n      <td>1.0</td>\n      <td>NaN</td>\n      <td>NaN</td>\n      <td>NaN</td>\n      <td>NaN</td>\n      <td>NaN</td>\n    </tr>\n    <tr>\n      <th>b1819</th>\n      <td>b1819</td>\n      <td>target, gene</td>\n      <td>output</td>\n      <td>1.0</td>\n      <td>NaN</td>\n      <td>NaN</td>\n      <td>NaN</td>\n      <td>NaN</td>\n      <td>NaN</td>\n    </tr>\n    <tr>\n      <th>b1849</th>\n      <td>b1849</td>\n      <td>target, gene</td>\n      <td>output</td>\n      <td>1.0</td>\n      <td>NaN</td>\n      <td>NaN</td>\n      <td>NaN</td>\n      <td>NaN</td>\n      <td>NaN</td>\n    </tr>\n    <tr>\n      <th>b1852</th>\n      <td>b1852</td>\n      <td>target, gene</td>\n      <td>output</td>\n      <td>1.0</td>\n      <td>NaN</td>\n      <td>NaN</td>\n      <td>NaN</td>\n      <td>NaN</td>\n      <td>NaN</td>\n    </tr>\n    <tr>\n      <th>b1854</th>\n      <td>b1854</td>\n      <td>target, gene</td>\n      <td>output</td>\n      <td>1.0</td>\n      <td>NaN</td>\n      <td>NaN</td>\n      <td>NaN</td>\n      <td>NaN</td>\n      <td>NaN</td>\n    </tr>\n    <tr>\n      <th>b1988</th>\n      <td>b1988</td>\n      <td>regulator, target</td>\n      <td>output</td>\n      <td>0.0</td>\n      <td>NaN</td>\n      <td>NaN</td>\n      <td>NaN</td>\n      <td>NaN</td>\n      <td>NaN</td>\n    </tr>\n    <tr>\n      <th>b2029</th>\n      <td>b2029</td>\n      <td>target, gene</td>\n      <td>output</td>\n      <td>1.0</td>\n      <td>NaN</td>\n      <td>NaN</td>\n      <td>NaN</td>\n      <td>NaN</td>\n      <td>NaN</td>\n    </tr>\n    <tr>\n      <th>b2097</th>\n      <td>b2097</td>\n      <td>target, gene</td>\n      <td>output</td>\n      <td>1.0</td>\n      <td>NaN</td>\n      <td>NaN</td>\n      <td>NaN</td>\n      <td>NaN</td>\n      <td>NaN</td>\n    </tr>\n    <tr>\n      <th>b2133</th>\n      <td>b2133</td>\n      <td>target, gene</td>\n      <td>output</td>\n      <td>1.0</td>\n      <td>NaN</td>\n      <td>NaN</td>\n      <td>NaN</td>\n      <td>NaN</td>\n      <td>NaN</td>\n    </tr>\n    <tr>\n      <th>b2276</th>\n      <td>b2276</td>\n      <td>target, gene</td>\n      <td>output</td>\n      <td>1.0</td>\n      <td>NaN</td>\n      <td>NaN</td>\n      <td>NaN</td>\n      <td>NaN</td>\n      <td>NaN</td>\n    </tr>\n    <tr>\n      <th>b2277</th>\n      <td>b2277</td>\n      <td>target, gene</td>\n      <td>output</td>\n      <td>1.0</td>\n      <td>NaN</td>\n      <td>NaN</td>\n      <td>NaN</td>\n      <td>NaN</td>\n      <td>NaN</td>\n    </tr>\n    <tr>\n      <th>b2278</th>\n      <td>b2278</td>\n      <td>target, gene</td>\n      <td>output</td>\n      <td>1.0</td>\n      <td>NaN</td>\n      <td>NaN</td>\n      <td>NaN</td>\n      <td>NaN</td>\n      <td>NaN</td>\n    </tr>\n    <tr>\n      <th>b2279</th>\n      <td>b2279</td>\n      <td>target, gene</td>\n      <td>output</td>\n      <td>1.0</td>\n      <td>NaN</td>\n      <td>NaN</td>\n      <td>NaN</td>\n      <td>NaN</td>\n      <td>NaN</td>\n    </tr>\n    <tr>\n      <th>b2280</th>\n      <td>b2280</td>\n      <td>target, gene</td>\n      <td>output</td>\n      <td>1.0</td>\n      <td>NaN</td>\n      <td>NaN</td>\n      <td>NaN</td>\n      <td>NaN</td>\n      <td>NaN</td>\n    </tr>\n    <tr>\n      <th>b2281</th>\n      <td>b2281</td>\n      <td>target, gene</td>\n      <td>output</td>\n      <td>1.0</td>\n      <td>NaN</td>\n      <td>NaN</td>\n      <td>NaN</td>\n      <td>NaN</td>\n      <td>NaN</td>\n    </tr>\n    <tr>\n      <th>b2282</th>\n      <td>b2282</td>\n      <td>target, gene</td>\n      <td>output</td>\n      <td>1.0</td>\n      <td>NaN</td>\n      <td>NaN</td>\n      <td>NaN</td>\n      <td>NaN</td>\n      <td>NaN</td>\n    </tr>\n    <tr>\n      <th>b2283</th>\n      <td>b2283</td>\n      <td>target, gene</td>\n      <td>output</td>\n      <td>1.0</td>\n      <td>NaN</td>\n      <td>NaN</td>\n      <td>NaN</td>\n      <td>NaN</td>\n      <td>NaN</td>\n    </tr>\n    <tr>\n      <th>b2284</th>\n      <td>b2284</td>\n      <td>target, gene</td>\n      <td>output</td>\n      <td>1.0</td>\n      <td>NaN</td>\n      <td>NaN</td>\n      <td>NaN</td>\n      <td>NaN</td>\n      <td>NaN</td>\n    </tr>\n    <tr>\n      <th>b2285</th>\n      <td>b2285</td>\n      <td>target, gene</td>\n      <td>output</td>\n      <td>1.0</td>\n      <td>NaN</td>\n      <td>NaN</td>\n      <td>NaN</td>\n      <td>NaN</td>\n      <td>NaN</td>\n    </tr>\n    <tr>\n      <th>b2286</th>\n      <td>b2286</td>\n      <td>target, gene</td>\n      <td>output</td>\n      <td>1.0</td>\n      <td>NaN</td>\n      <td>NaN</td>\n      <td>NaN</td>\n      <td>NaN</td>\n      <td>NaN</td>\n    </tr>\n    <tr>\n      <th>b2287</th>\n      <td>b2287</td>\n      <td>target, gene</td>\n      <td>output</td>\n      <td>1.0</td>\n      <td>NaN</td>\n      <td>NaN</td>\n      <td>NaN</td>\n      <td>NaN</td>\n      <td>NaN</td>\n    </tr>\n    <tr>\n      <th>b2288</th>\n      <td>b2288</td>\n      <td>target, gene</td>\n      <td>output</td>\n      <td>1.0</td>\n      <td>NaN</td>\n      <td>NaN</td>\n      <td>NaN</td>\n      <td>NaN</td>\n      <td>NaN</td>\n    </tr>\n    <tr>\n      <th>b2296</th>\n      <td>b2296</td>\n      <td>target, gene</td>\n      <td>output</td>\n      <td>1.0</td>\n      <td>NaN</td>\n      <td>NaN</td>\n      <td>NaN</td>\n      <td>NaN</td>\n      <td>NaN</td>\n    </tr>\n    <tr>\n      <th>b2297</th>\n      <td>b2297</td>\n      <td>target, gene</td>\n      <td>output</td>\n      <td>1.0</td>\n      <td>NaN</td>\n      <td>NaN</td>\n      <td>NaN</td>\n      <td>NaN</td>\n      <td>NaN</td>\n    </tr>\n    <tr>\n      <th>b2415</th>\n      <td>b2415</td>\n      <td>target, gene</td>\n      <td>output</td>\n      <td>1.0</td>\n      <td>NaN</td>\n      <td>NaN</td>\n      <td>NaN</td>\n      <td>NaN</td>\n      <td>NaN</td>\n    </tr>\n    <tr>\n      <th>b2416</th>\n      <td>b2416</td>\n      <td>target, gene</td>\n      <td>output</td>\n      <td>1.0</td>\n      <td>NaN</td>\n      <td>NaN</td>\n      <td>NaN</td>\n      <td>NaN</td>\n      <td>NaN</td>\n    </tr>\n    <tr>\n      <th>b2417</th>\n      <td>b2417</td>\n      <td>target, gene</td>\n      <td>output</td>\n      <td>1.0</td>\n      <td>NaN</td>\n      <td>NaN</td>\n      <td>NaN</td>\n      <td>NaN</td>\n      <td>NaN</td>\n    </tr>\n    <tr>\n      <th>b2458</th>\n      <td>b2458</td>\n      <td>target, gene</td>\n      <td>output</td>\n      <td>1.0</td>\n      <td>NaN</td>\n      <td>NaN</td>\n      <td>NaN</td>\n      <td>NaN</td>\n      <td>NaN</td>\n    </tr>\n    <tr>\n      <th>b2463</th>\n      <td>b2463</td>\n      <td>target, gene</td>\n      <td>output</td>\n      <td>1.0</td>\n      <td>NaN</td>\n      <td>NaN</td>\n      <td>NaN</td>\n      <td>NaN</td>\n      <td>NaN</td>\n    </tr>\n    <tr>\n      <th>b2464</th>\n      <td>b2464</td>\n      <td>target, gene</td>\n      <td>output</td>\n      <td>1.0</td>\n      <td>NaN</td>\n      <td>NaN</td>\n      <td>NaN</td>\n      <td>NaN</td>\n      <td>NaN</td>\n    </tr>\n    <tr>\n      <th>b2465</th>\n      <td>b2465</td>\n      <td>target, gene</td>\n      <td>output</td>\n      <td>1.0</td>\n      <td>NaN</td>\n      <td>NaN</td>\n      <td>NaN</td>\n      <td>NaN</td>\n      <td>NaN</td>\n    </tr>\n    <tr>\n      <th>b2492</th>\n      <td>b2492</td>\n      <td>target, gene</td>\n      <td>output</td>\n      <td>0.0</td>\n      <td>NaN</td>\n      <td>NaN</td>\n      <td>NaN</td>\n      <td>NaN</td>\n      <td>NaN</td>\n    </tr>\n    <tr>\n      <th>b2579</th>\n      <td>b2579</td>\n      <td>target, gene</td>\n      <td>output</td>\n      <td>1.0</td>\n      <td>NaN</td>\n      <td>NaN</td>\n      <td>NaN</td>\n      <td>NaN</td>\n      <td>NaN</td>\n    </tr>\n    <tr>\n      <th>b2587</th>\n      <td>b2587</td>\n      <td>target, gene</td>\n      <td>output</td>\n      <td>1.0</td>\n      <td>NaN</td>\n      <td>NaN</td>\n      <td>NaN</td>\n      <td>NaN</td>\n      <td>NaN</td>\n    </tr>\n    <tr>\n      <th>b2779</th>\n      <td>b2779</td>\n      <td>target, gene</td>\n      <td>output</td>\n      <td>1.0</td>\n      <td>NaN</td>\n      <td>NaN</td>\n      <td>NaN</td>\n      <td>NaN</td>\n      <td>NaN</td>\n    </tr>\n    <tr>\n      <th>b2914</th>\n      <td>b2914</td>\n      <td>target, gene</td>\n      <td>output</td>\n      <td>1.0</td>\n      <td>NaN</td>\n      <td>NaN</td>\n      <td>NaN</td>\n      <td>NaN</td>\n      <td>NaN</td>\n    </tr>\n    <tr>\n      <th>b2925</th>\n      <td>b2925</td>\n      <td>target, gene</td>\n      <td>output</td>\n      <td>1.0</td>\n      <td>NaN</td>\n      <td>NaN</td>\n      <td>NaN</td>\n      <td>NaN</td>\n      <td>NaN</td>\n    </tr>\n    <tr>\n      <th>b2926</th>\n      <td>b2926</td>\n      <td>target, gene</td>\n      <td>output</td>\n      <td>1.0</td>\n      <td>NaN</td>\n      <td>NaN</td>\n      <td>NaN</td>\n      <td>NaN</td>\n      <td>NaN</td>\n    </tr>\n    <tr>\n      <th>b2935</th>\n      <td>b2935</td>\n      <td>target, gene</td>\n      <td>output</td>\n      <td>1.0</td>\n      <td>NaN</td>\n      <td>NaN</td>\n      <td>NaN</td>\n      <td>NaN</td>\n      <td>NaN</td>\n    </tr>\n    <tr>\n      <th>b2975</th>\n      <td>b2975</td>\n      <td>target, gene</td>\n      <td>output</td>\n      <td>0.0</td>\n      <td>NaN</td>\n      <td>NaN</td>\n      <td>NaN</td>\n      <td>NaN</td>\n      <td>NaN</td>\n    </tr>\n    <tr>\n      <th>b2976</th>\n      <td>b2976</td>\n      <td>target, gene</td>\n      <td>output</td>\n      <td>0.0</td>\n      <td>NaN</td>\n      <td>NaN</td>\n      <td>NaN</td>\n      <td>NaN</td>\n      <td>NaN</td>\n    </tr>\n    <tr>\n      <th>b2980</th>\n      <td>b2980</td>\n      <td>regulator, target</td>\n      <td>output</td>\n      <td>0.0</td>\n      <td>NaN</td>\n      <td>NaN</td>\n      <td>NaN</td>\n      <td>NaN</td>\n      <td>NaN</td>\n    </tr>\n    <tr>\n      <th>b2987</th>\n      <td>b2987</td>\n      <td>target, gene</td>\n      <td>output</td>\n      <td>0.0</td>\n      <td>NaN</td>\n      <td>NaN</td>\n      <td>NaN</td>\n      <td>NaN</td>\n      <td>NaN</td>\n    </tr>\n    <tr>\n      <th>b3114</th>\n      <td>b3114</td>\n      <td>target, gene</td>\n      <td>output</td>\n      <td>1.0</td>\n      <td>NaN</td>\n      <td>NaN</td>\n      <td>NaN</td>\n      <td>NaN</td>\n      <td>NaN</td>\n    </tr>\n    <tr>\n      <th>b3115</th>\n      <td>b3115</td>\n      <td>target, gene</td>\n      <td>output</td>\n      <td>1.0</td>\n      <td>NaN</td>\n      <td>NaN</td>\n      <td>NaN</td>\n      <td>NaN</td>\n      <td>NaN</td>\n    </tr>\n    <tr>\n      <th>b3212</th>\n      <td>b3212</td>\n      <td>target, gene</td>\n      <td>output</td>\n      <td>1.0</td>\n      <td>NaN</td>\n      <td>NaN</td>\n      <td>NaN</td>\n      <td>NaN</td>\n      <td>NaN</td>\n    </tr>\n    <tr>\n      <th>b3213</th>\n      <td>b3213</td>\n      <td>target, gene</td>\n      <td>output</td>\n      <td>1.0</td>\n      <td>NaN</td>\n      <td>NaN</td>\n      <td>NaN</td>\n      <td>NaN</td>\n      <td>NaN</td>\n    </tr>\n    <tr>\n      <th>b3236</th>\n      <td>b3236</td>\n      <td>target, gene</td>\n      <td>output</td>\n      <td>1.0</td>\n      <td>NaN</td>\n      <td>NaN</td>\n      <td>NaN</td>\n      <td>NaN</td>\n      <td>NaN</td>\n    </tr>\n    <tr>\n      <th>b3261</th>\n      <td>b3261</td>\n      <td>regulator, target</td>\n      <td>output</td>\n      <td>1.0</td>\n      <td>NaN</td>\n      <td>NaN</td>\n      <td>NaN</td>\n      <td>NaN</td>\n      <td>NaN</td>\n    </tr>\n    <tr>\n      <th>b3357</th>\n      <td>b3357</td>\n      <td>regulator, target</td>\n      <td>output</td>\n      <td>1.0</td>\n      <td>NaN</td>\n      <td>NaN</td>\n      <td>NaN</td>\n      <td>NaN</td>\n      <td>NaN</td>\n    </tr>\n    <tr>\n      <th>b3386</th>\n      <td>b3386</td>\n      <td>target, gene</td>\n      <td>output</td>\n      <td>1.0</td>\n      <td>NaN</td>\n      <td>NaN</td>\n      <td>NaN</td>\n      <td>NaN</td>\n      <td>NaN</td>\n    </tr>\n    <tr>\n      <th>b3403</th>\n      <td>b3403</td>\n      <td>target, gene</td>\n      <td>output</td>\n      <td>1.0</td>\n      <td>NaN</td>\n      <td>NaN</td>\n      <td>NaN</td>\n      <td>NaN</td>\n      <td>NaN</td>\n    </tr>\n    <tr>\n      <th>b3493</th>\n      <td>b3493</td>\n      <td>target, gene</td>\n      <td>output</td>\n      <td>1.0</td>\n      <td>NaN</td>\n      <td>NaN</td>\n      <td>NaN</td>\n      <td>NaN</td>\n      <td>NaN</td>\n    </tr>\n    <tr>\n      <th>b3528</th>\n      <td>b3528</td>\n      <td>target, gene</td>\n      <td>output</td>\n      <td>1.0</td>\n      <td>NaN</td>\n      <td>NaN</td>\n      <td>NaN</td>\n      <td>NaN</td>\n      <td>NaN</td>\n    </tr>\n    <tr>\n      <th>b3603</th>\n      <td>b3603</td>\n      <td>target, gene</td>\n      <td>output</td>\n      <td>1.0</td>\n      <td>NaN</td>\n      <td>NaN</td>\n      <td>NaN</td>\n      <td>NaN</td>\n      <td>NaN</td>\n    </tr>\n    <tr>\n      <th>b3612</th>\n      <td>b3612</td>\n      <td>target, gene</td>\n      <td>output</td>\n      <td>1.0</td>\n      <td>NaN</td>\n      <td>NaN</td>\n      <td>NaN</td>\n      <td>NaN</td>\n      <td>NaN</td>\n    </tr>\n    <tr>\n      <th>b3731</th>\n      <td>b3731</td>\n      <td>target, gene</td>\n      <td>output</td>\n      <td>1.0</td>\n      <td>NaN</td>\n      <td>NaN</td>\n      <td>NaN</td>\n      <td>NaN</td>\n      <td>NaN</td>\n    </tr>\n    <tr>\n      <th>b3732</th>\n      <td>b3732</td>\n      <td>target, gene</td>\n      <td>output</td>\n      <td>1.0</td>\n      <td>NaN</td>\n      <td>NaN</td>\n      <td>NaN</td>\n      <td>NaN</td>\n      <td>NaN</td>\n    </tr>\n    <tr>\n      <th>b3733</th>\n      <td>b3733</td>\n      <td>target, gene</td>\n      <td>output</td>\n      <td>1.0</td>\n      <td>NaN</td>\n      <td>NaN</td>\n      <td>NaN</td>\n      <td>NaN</td>\n      <td>NaN</td>\n    </tr>\n    <tr>\n      <th>b3734</th>\n      <td>b3734</td>\n      <td>target, gene</td>\n      <td>output</td>\n      <td>1.0</td>\n      <td>NaN</td>\n      <td>NaN</td>\n      <td>NaN</td>\n      <td>NaN</td>\n      <td>NaN</td>\n    </tr>\n    <tr>\n      <th>b3735</th>\n      <td>b3735</td>\n      <td>target, gene</td>\n      <td>output</td>\n      <td>1.0</td>\n      <td>NaN</td>\n      <td>NaN</td>\n      <td>NaN</td>\n      <td>NaN</td>\n      <td>NaN</td>\n    </tr>\n    <tr>\n      <th>b3736</th>\n      <td>b3736</td>\n      <td>target, gene</td>\n      <td>output</td>\n      <td>1.0</td>\n      <td>NaN</td>\n      <td>NaN</td>\n      <td>NaN</td>\n      <td>NaN</td>\n      <td>NaN</td>\n    </tr>\n    <tr>\n      <th>b3737</th>\n      <td>b3737</td>\n      <td>target, gene</td>\n      <td>output</td>\n      <td>1.0</td>\n      <td>NaN</td>\n      <td>NaN</td>\n      <td>NaN</td>\n      <td>NaN</td>\n      <td>NaN</td>\n    </tr>\n    <tr>\n      <th>b3738</th>\n      <td>b3738</td>\n      <td>target, gene</td>\n      <td>output</td>\n      <td>1.0</td>\n      <td>NaN</td>\n      <td>NaN</td>\n      <td>NaN</td>\n      <td>NaN</td>\n      <td>NaN</td>\n    </tr>\n    <tr>\n      <th>b3739</th>\n      <td>b3739</td>\n      <td>target, gene</td>\n      <td>output</td>\n      <td>1.0</td>\n      <td>NaN</td>\n      <td>NaN</td>\n      <td>NaN</td>\n      <td>NaN</td>\n      <td>NaN</td>\n    </tr>\n    <tr>\n      <th>b3868</th>\n      <td>b3868</td>\n      <td>regulator, target</td>\n      <td>output</td>\n      <td>0.0</td>\n      <td>NaN</td>\n      <td>NaN</td>\n      <td>NaN</td>\n      <td>NaN</td>\n      <td>NaN</td>\n    </tr>\n    <tr>\n      <th>b3870</th>\n      <td>b3870</td>\n      <td>target, gene</td>\n      <td>output</td>\n      <td>1.0</td>\n      <td>NaN</td>\n      <td>NaN</td>\n      <td>NaN</td>\n      <td>NaN</td>\n      <td>NaN</td>\n    </tr>\n    <tr>\n      <th>b3916</th>\n      <td>b3916</td>\n      <td>target, gene</td>\n      <td>output</td>\n      <td>1.0</td>\n      <td>NaN</td>\n      <td>NaN</td>\n      <td>NaN</td>\n      <td>NaN</td>\n      <td>NaN</td>\n    </tr>\n    <tr>\n      <th>b3919</th>\n      <td>b3919</td>\n      <td>target, gene</td>\n      <td>output</td>\n      <td>1.0</td>\n      <td>NaN</td>\n      <td>NaN</td>\n      <td>NaN</td>\n      <td>NaN</td>\n      <td>NaN</td>\n    </tr>\n    <tr>\n      <th>b3925</th>\n      <td>b3925</td>\n      <td>target, gene</td>\n      <td>output</td>\n      <td>1.0</td>\n      <td>NaN</td>\n      <td>NaN</td>\n      <td>NaN</td>\n      <td>NaN</td>\n      <td>NaN</td>\n    </tr>\n    <tr>\n      <th>b3951</th>\n      <td>b3951</td>\n      <td>target, gene</td>\n      <td>output</td>\n      <td>0.0</td>\n      <td>NaN</td>\n      <td>NaN</td>\n      <td>NaN</td>\n      <td>NaN</td>\n      <td>NaN</td>\n    </tr>\n    <tr>\n      <th>b3952</th>\n      <td>b3952</td>\n      <td>target, gene</td>\n      <td>output</td>\n      <td>0.0</td>\n      <td>NaN</td>\n      <td>NaN</td>\n      <td>NaN</td>\n      <td>NaN</td>\n      <td>NaN</td>\n    </tr>\n    <tr>\n      <th>b3956</th>\n      <td>b3956</td>\n      <td>target, gene</td>\n      <td>output</td>\n      <td>1.0</td>\n      <td>NaN</td>\n      <td>NaN</td>\n      <td>NaN</td>\n      <td>NaN</td>\n      <td>NaN</td>\n    </tr>\n    <tr>\n      <th>b3962</th>\n      <td>b3962</td>\n      <td>target, gene</td>\n      <td>output</td>\n      <td>1.0</td>\n      <td>NaN</td>\n      <td>NaN</td>\n      <td>NaN</td>\n      <td>NaN</td>\n      <td>NaN</td>\n    </tr>\n    <tr>\n      <th>b4014</th>\n      <td>b4014</td>\n      <td>target, gene</td>\n      <td>output</td>\n      <td>0.0</td>\n      <td>NaN</td>\n      <td>NaN</td>\n      <td>NaN</td>\n      <td>NaN</td>\n      <td>NaN</td>\n    </tr>\n    <tr>\n      <th>b4015</th>\n      <td>b4015</td>\n      <td>target, gene</td>\n      <td>output</td>\n      <td>0.0</td>\n      <td>NaN</td>\n      <td>NaN</td>\n      <td>NaN</td>\n      <td>NaN</td>\n      <td>NaN</td>\n    </tr>\n    <tr>\n      <th>b4018</th>\n      <td>b4018</td>\n      <td>regulator, target</td>\n      <td>output</td>\n      <td>1.0</td>\n      <td>NaN</td>\n      <td>NaN</td>\n      <td>NaN</td>\n      <td>NaN</td>\n      <td>NaN</td>\n    </tr>\n    <tr>\n      <th>b4025</th>\n      <td>b4025</td>\n      <td>target, gene</td>\n      <td>output</td>\n      <td>1.0</td>\n      <td>NaN</td>\n      <td>NaN</td>\n      <td>NaN</td>\n      <td>NaN</td>\n      <td>NaN</td>\n    </tr>\n    <tr>\n      <th>b4077</th>\n      <td>b4077</td>\n      <td>target, gene</td>\n      <td>output</td>\n      <td>1.0</td>\n      <td>NaN</td>\n      <td>NaN</td>\n      <td>NaN</td>\n      <td>NaN</td>\n      <td>NaN</td>\n    </tr>\n    <tr>\n      <th>b4090</th>\n      <td>b4090</td>\n      <td>target, gene</td>\n      <td>output</td>\n      <td>1.0</td>\n      <td>NaN</td>\n      <td>NaN</td>\n      <td>NaN</td>\n      <td>NaN</td>\n      <td>NaN</td>\n    </tr>\n    <tr>\n      <th>b4122</th>\n      <td>b4122</td>\n      <td>target, gene</td>\n      <td>output</td>\n      <td>1.0</td>\n      <td>NaN</td>\n      <td>NaN</td>\n      <td>NaN</td>\n      <td>NaN</td>\n      <td>NaN</td>\n    </tr>\n    <tr>\n      <th>b4124</th>\n      <td>b4124</td>\n      <td>regulator, target</td>\n      <td>output</td>\n      <td>1.0</td>\n      <td>NaN</td>\n      <td>NaN</td>\n      <td>NaN</td>\n      <td>NaN</td>\n      <td>NaN</td>\n    </tr>\n    <tr>\n      <th>b4125</th>\n      <td>b4125</td>\n      <td>regulator, target</td>\n      <td>output</td>\n      <td>1.0</td>\n      <td>NaN</td>\n      <td>NaN</td>\n      <td>NaN</td>\n      <td>NaN</td>\n      <td>NaN</td>\n    </tr>\n    <tr>\n      <th>b4151</th>\n      <td>b4151</td>\n      <td>target, gene</td>\n      <td>output</td>\n      <td>1.0</td>\n      <td>NaN</td>\n      <td>NaN</td>\n      <td>NaN</td>\n      <td>NaN</td>\n      <td>NaN</td>\n    </tr>\n    <tr>\n      <th>b4152</th>\n      <td>b4152</td>\n      <td>target, gene</td>\n      <td>output</td>\n      <td>1.0</td>\n      <td>NaN</td>\n      <td>NaN</td>\n      <td>NaN</td>\n      <td>NaN</td>\n      <td>NaN</td>\n    </tr>\n    <tr>\n      <th>b4153</th>\n      <td>b4153</td>\n      <td>target, gene</td>\n      <td>output</td>\n      <td>1.0</td>\n      <td>NaN</td>\n      <td>NaN</td>\n      <td>NaN</td>\n      <td>NaN</td>\n      <td>NaN</td>\n    </tr>\n    <tr>\n      <th>b4154</th>\n      <td>b4154</td>\n      <td>target, gene</td>\n      <td>output</td>\n      <td>1.0</td>\n      <td>NaN</td>\n      <td>NaN</td>\n      <td>NaN</td>\n      <td>NaN</td>\n      <td>NaN</td>\n    </tr>\n    <tr>\n      <th>b4232</th>\n      <td>b4232</td>\n      <td>target, gene</td>\n      <td>output</td>\n      <td>1.0</td>\n      <td>NaN</td>\n      <td>NaN</td>\n      <td>NaN</td>\n      <td>NaN</td>\n      <td>NaN</td>\n    </tr>\n    <tr>\n      <th>b4301</th>\n      <td>b4301</td>\n      <td>target, gene</td>\n      <td>output</td>\n      <td>1.0</td>\n      <td>NaN</td>\n      <td>NaN</td>\n      <td>NaN</td>\n      <td>NaN</td>\n      <td>NaN</td>\n    </tr>\n    <tr>\n      <th>b4395</th>\n      <td>b4395</td>\n      <td>target, gene</td>\n      <td>output</td>\n      <td>1.0</td>\n      <td>NaN</td>\n      <td>NaN</td>\n      <td>NaN</td>\n      <td>NaN</td>\n      <td>NaN</td>\n    </tr>\n    <tr>\n      <th>b4401</th>\n      <td>b4401</td>\n      <td>regulator, target</td>\n      <td>output</td>\n      <td>0.0</td>\n      <td>NaN</td>\n      <td>NaN</td>\n      <td>NaN</td>\n      <td>NaN</td>\n      <td>NaN</td>\n    </tr>\n    <tr>\n      <th>s0001</th>\n      <td>s0001</td>\n      <td>target, gene</td>\n      <td>output</td>\n      <td>1.0</td>\n      <td>NaN</td>\n      <td>NaN</td>\n      <td>NaN</td>\n      <td>NaN</td>\n      <td>NaN</td>\n    </tr>\n    <tr>\n      <th>CRPnoGLC</th>\n      <td>CRPnoGLC</td>\n      <td>regulator, target</td>\n      <td>output</td>\n      <td>1.0</td>\n      <td>NaN</td>\n      <td>NaN</td>\n      <td>NaN</td>\n      <td>NaN</td>\n      <td>NaN</td>\n    </tr>\n    <tr>\n      <th>CRPnoGLM</th>\n      <td>CRPnoGLM</td>\n      <td>regulator, target</td>\n      <td>output</td>\n      <td>1.0</td>\n      <td>NaN</td>\n      <td>NaN</td>\n      <td>NaN</td>\n      <td>NaN</td>\n      <td>NaN</td>\n    </tr>\n    <tr>\n      <th>NRI_hi</th>\n      <td>NRI_hi</td>\n      <td>regulator, target</td>\n      <td>output</td>\n      <td>0.0</td>\n      <td>NaN</td>\n      <td>NaN</td>\n      <td>NaN</td>\n      <td>NaN</td>\n      <td>NaN</td>\n    </tr>\n    <tr>\n      <th>NRI_low</th>\n      <td>NRI_low</td>\n      <td>regulator, target</td>\n      <td>output</td>\n      <td>-0.0</td>\n      <td>NaN</td>\n      <td>NaN</td>\n      <td>NaN</td>\n      <td>NaN</td>\n      <td>NaN</td>\n    </tr>\n    <tr>\n      <th>surplusFDP</th>\n      <td>surplusFDP</td>\n      <td>regulator, target</td>\n      <td>output</td>\n      <td>0.0</td>\n      <td>NaN</td>\n      <td>NaN</td>\n      <td>NaN</td>\n      <td>NaN</td>\n      <td>NaN</td>\n    </tr>\n    <tr>\n      <th>surplusPYR</th>\n      <td>surplusPYR</td>\n      <td>regulator, target</td>\n      <td>output</td>\n      <td>0.0</td>\n      <td>NaN</td>\n      <td>NaN</td>\n      <td>NaN</td>\n      <td>NaN</td>\n      <td>NaN</td>\n    </tr>\n    <tr>\n      <th>EX_co2_e</th>\n      <td>NaN</td>\n      <td>NaN</td>\n      <td>NaN</td>\n      <td>NaN</td>\n      <td>EX_co2_e</td>\n      <td>reaction</td>\n      <td>co2_e</td>\n      <td>output</td>\n      <td>22.809833</td>\n    </tr>\n    <tr>\n      <th>EX_glc__D_e</th>\n      <td>NaN</td>\n      <td>NaN</td>\n      <td>NaN</td>\n      <td>NaN</td>\n      <td>EX_glc__D_e</td>\n      <td>reaction</td>\n      <td>glc__D_e</td>\n      <td>input</td>\n      <td>-10.000000</td>\n    </tr>\n    <tr>\n      <th>EX_h_e</th>\n      <td>NaN</td>\n      <td>NaN</td>\n      <td>NaN</td>\n      <td>NaN</td>\n      <td>EX_h_e</td>\n      <td>reaction</td>\n      <td>h_e</td>\n      <td>output</td>\n      <td>17.530865</td>\n    </tr>\n    <tr>\n      <th>EX_h2o_e</th>\n      <td>NaN</td>\n      <td>NaN</td>\n      <td>NaN</td>\n      <td>NaN</td>\n      <td>EX_h2o_e</td>\n      <td>reaction</td>\n      <td>h2o_e</td>\n      <td>output</td>\n      <td>29.175827</td>\n    </tr>\n    <tr>\n      <th>EX_nh4_e</th>\n      <td>NaN</td>\n      <td>NaN</td>\n      <td>NaN</td>\n      <td>NaN</td>\n      <td>EX_nh4_e</td>\n      <td>reaction</td>\n      <td>nh4_e</td>\n      <td>input</td>\n      <td>-4.765319</td>\n    </tr>\n    <tr>\n      <th>EX_o2_e</th>\n      <td>NaN</td>\n      <td>NaN</td>\n      <td>NaN</td>\n      <td>NaN</td>\n      <td>EX_o2_e</td>\n      <td>reaction</td>\n      <td>o2_e</td>\n      <td>input</td>\n      <td>-21.799493</td>\n    </tr>\n    <tr>\n      <th>EX_pi_e</th>\n      <td>NaN</td>\n      <td>NaN</td>\n      <td>NaN</td>\n      <td>NaN</td>\n      <td>EX_pi_e</td>\n      <td>reaction</td>\n      <td>pi_e</td>\n      <td>input</td>\n      <td>-3.214895</td>\n    </tr>\n  </tbody>\n</table>"
     },
     "execution_count": 6,
     "metadata": {},
     "output_type": "execute_result"
    }
   ],
   "source": [
    "# a solution can be converted into a summary solution\n",
    "summary = solution.to_summary()\n",
    "summary"
   ],
   "metadata": {
    "collapsed": false
   }
  },
  {
   "cell_type": "code",
   "execution_count": 7,
   "outputs": [
    {
     "data": {
      "text/plain": "                  regulatory                             \\\n         regulatory variable      variable type    role   \nb0008                  b0008       target, gene  output   \nb0080                  b0080  regulator, target  output   \nb0113                  b0113  regulator, target  output   \nb0114                  b0114       target, gene  output   \nb0115                  b0115       target, gene  output   \n...                      ...                ...     ...   \nEX_h_e                   NaN                NaN     NaN   \nEX_h2o_e                 NaN                NaN     NaN   \nEX_nh4_e                 NaN                NaN     NaN   \nEX_o2_e                  NaN                NaN     NaN   \nEX_pi_e                  NaN                NaN     NaN   \n\n                                metabolic                                   \\\n         expression coefficient  reaction variable type metabolite    role   \nb0008                       1.0       NaN           NaN        NaN     NaN   \nb0080                       1.0       NaN           NaN        NaN     NaN   \nb0113                       1.0       NaN           NaN        NaN     NaN   \nb0114                       1.0       NaN           NaN        NaN     NaN   \nb0115                       1.0       NaN           NaN        NaN     NaN   \n...                         ...       ...           ...        ...     ...   \nEX_h_e                      NaN    EX_h_e      reaction        h_e  output   \nEX_h2o_e                    NaN  EX_h2o_e      reaction      h2o_e  output   \nEX_nh4_e                    NaN  EX_nh4_e      reaction      nh4_e   input   \nEX_o2_e                     NaN   EX_o2_e      reaction       o2_e   input   \nEX_pi_e                     NaN   EX_pi_e      reaction       pi_e   input   \n\n                     \n               flux  \nb0008           NaN  \nb0080           NaN  \nb0113           NaN  \nb0114           NaN  \nb0115           NaN  \n...             ...  \nEX_h_e    17.530865  \nEX_h2o_e  29.175827  \nEX_nh4_e  -4.765319  \nEX_o2_e  -21.799493  \nEX_pi_e   -3.214895  \n\n[166 rows x 9 columns]",
      "text/html": "<div>\n<style scoped>\n    .dataframe tbody tr th:only-of-type {\n        vertical-align: middle;\n    }\n\n    .dataframe tbody tr th {\n        vertical-align: top;\n    }\n\n    .dataframe thead tr th {\n        text-align: left;\n    }\n</style>\n<table border=\"1\" class=\"dataframe\">\n  <thead>\n    <tr>\n      <th></th>\n      <th colspan=\"4\" halign=\"left\">regulatory</th>\n      <th colspan=\"5\" halign=\"left\">metabolic</th>\n    </tr>\n    <tr>\n      <th></th>\n      <th>regulatory variable</th>\n      <th>variable type</th>\n      <th>role</th>\n      <th>expression coefficient</th>\n      <th>reaction</th>\n      <th>variable type</th>\n      <th>metabolite</th>\n      <th>role</th>\n      <th>flux</th>\n    </tr>\n  </thead>\n  <tbody>\n    <tr>\n      <th>b0008</th>\n      <td>b0008</td>\n      <td>target, gene</td>\n      <td>output</td>\n      <td>1.0</td>\n      <td>NaN</td>\n      <td>NaN</td>\n      <td>NaN</td>\n      <td>NaN</td>\n      <td>NaN</td>\n    </tr>\n    <tr>\n      <th>b0080</th>\n      <td>b0080</td>\n      <td>regulator, target</td>\n      <td>output</td>\n      <td>1.0</td>\n      <td>NaN</td>\n      <td>NaN</td>\n      <td>NaN</td>\n      <td>NaN</td>\n      <td>NaN</td>\n    </tr>\n    <tr>\n      <th>b0113</th>\n      <td>b0113</td>\n      <td>regulator, target</td>\n      <td>output</td>\n      <td>1.0</td>\n      <td>NaN</td>\n      <td>NaN</td>\n      <td>NaN</td>\n      <td>NaN</td>\n      <td>NaN</td>\n    </tr>\n    <tr>\n      <th>b0114</th>\n      <td>b0114</td>\n      <td>target, gene</td>\n      <td>output</td>\n      <td>1.0</td>\n      <td>NaN</td>\n      <td>NaN</td>\n      <td>NaN</td>\n      <td>NaN</td>\n      <td>NaN</td>\n    </tr>\n    <tr>\n      <th>b0115</th>\n      <td>b0115</td>\n      <td>target, gene</td>\n      <td>output</td>\n      <td>1.0</td>\n      <td>NaN</td>\n      <td>NaN</td>\n      <td>NaN</td>\n      <td>NaN</td>\n      <td>NaN</td>\n    </tr>\n    <tr>\n      <th>...</th>\n      <td>...</td>\n      <td>...</td>\n      <td>...</td>\n      <td>...</td>\n      <td>...</td>\n      <td>...</td>\n      <td>...</td>\n      <td>...</td>\n      <td>...</td>\n    </tr>\n    <tr>\n      <th>EX_h_e</th>\n      <td>NaN</td>\n      <td>NaN</td>\n      <td>NaN</td>\n      <td>NaN</td>\n      <td>EX_h_e</td>\n      <td>reaction</td>\n      <td>h_e</td>\n      <td>output</td>\n      <td>17.530865</td>\n    </tr>\n    <tr>\n      <th>EX_h2o_e</th>\n      <td>NaN</td>\n      <td>NaN</td>\n      <td>NaN</td>\n      <td>NaN</td>\n      <td>EX_h2o_e</td>\n      <td>reaction</td>\n      <td>h2o_e</td>\n      <td>output</td>\n      <td>29.175827</td>\n    </tr>\n    <tr>\n      <th>EX_nh4_e</th>\n      <td>NaN</td>\n      <td>NaN</td>\n      <td>NaN</td>\n      <td>NaN</td>\n      <td>EX_nh4_e</td>\n      <td>reaction</td>\n      <td>nh4_e</td>\n      <td>input</td>\n      <td>-4.765319</td>\n    </tr>\n    <tr>\n      <th>EX_o2_e</th>\n      <td>NaN</td>\n      <td>NaN</td>\n      <td>NaN</td>\n      <td>NaN</td>\n      <td>EX_o2_e</td>\n      <td>reaction</td>\n      <td>o2_e</td>\n      <td>input</td>\n      <td>-21.799493</td>\n    </tr>\n    <tr>\n      <th>EX_pi_e</th>\n      <td>NaN</td>\n      <td>NaN</td>\n      <td>NaN</td>\n      <td>NaN</td>\n      <td>EX_pi_e</td>\n      <td>reaction</td>\n      <td>pi_e</td>\n      <td>input</td>\n      <td>-3.214895</td>\n    </tr>\n  </tbody>\n</table>\n<p>166 rows × 9 columns</p>\n</div>"
     },
     "execution_count": 7,
     "metadata": {},
     "output_type": "execute_result"
    }
   ],
   "source": [
    "# inputs + outputs of the metabolic-regulatory variables\n",
    "summary.df"
   ],
   "metadata": {
    "collapsed": false
   }
  },
  {
   "cell_type": "code",
   "execution_count": 8,
   "outputs": [
    {
     "data": {
      "text/plain": "                reaction variable type metabolite    role       flux\nEX_co2_e        EX_co2_e      reaction      co2_e  output  22.809833\nEX_glc__D_e  EX_glc__D_e      reaction   glc__D_e   input -10.000000\nEX_h_e            EX_h_e      reaction        h_e  output  17.530865\nEX_h2o_e        EX_h2o_e      reaction      h2o_e  output  29.175827\nEX_nh4_e        EX_nh4_e      reaction      nh4_e   input  -4.765319\nEX_o2_e          EX_o2_e      reaction       o2_e   input -21.799493\nEX_pi_e          EX_pi_e      reaction       pi_e   input  -3.214895",
      "text/html": "<div>\n<style scoped>\n    .dataframe tbody tr th:only-of-type {\n        vertical-align: middle;\n    }\n\n    .dataframe tbody tr th {\n        vertical-align: top;\n    }\n\n    .dataframe thead th {\n        text-align: right;\n    }\n</style>\n<table border=\"1\" class=\"dataframe\">\n  <thead>\n    <tr style=\"text-align: right;\">\n      <th></th>\n      <th>reaction</th>\n      <th>variable type</th>\n      <th>metabolite</th>\n      <th>role</th>\n      <th>flux</th>\n    </tr>\n  </thead>\n  <tbody>\n    <tr>\n      <th>EX_co2_e</th>\n      <td>EX_co2_e</td>\n      <td>reaction</td>\n      <td>co2_e</td>\n      <td>output</td>\n      <td>22.809833</td>\n    </tr>\n    <tr>\n      <th>EX_glc__D_e</th>\n      <td>EX_glc__D_e</td>\n      <td>reaction</td>\n      <td>glc__D_e</td>\n      <td>input</td>\n      <td>-10.000000</td>\n    </tr>\n    <tr>\n      <th>EX_h_e</th>\n      <td>EX_h_e</td>\n      <td>reaction</td>\n      <td>h_e</td>\n      <td>output</td>\n      <td>17.530865</td>\n    </tr>\n    <tr>\n      <th>EX_h2o_e</th>\n      <td>EX_h2o_e</td>\n      <td>reaction</td>\n      <td>h2o_e</td>\n      <td>output</td>\n      <td>29.175827</td>\n    </tr>\n    <tr>\n      <th>EX_nh4_e</th>\n      <td>EX_nh4_e</td>\n      <td>reaction</td>\n      <td>nh4_e</td>\n      <td>input</td>\n      <td>-4.765319</td>\n    </tr>\n    <tr>\n      <th>EX_o2_e</th>\n      <td>EX_o2_e</td>\n      <td>reaction</td>\n      <td>o2_e</td>\n      <td>input</td>\n      <td>-21.799493</td>\n    </tr>\n    <tr>\n      <th>EX_pi_e</th>\n      <td>EX_pi_e</td>\n      <td>reaction</td>\n      <td>pi_e</td>\n      <td>input</td>\n      <td>-3.214895</td>\n    </tr>\n  </tbody>\n</table>\n</div>"
     },
     "execution_count": 8,
     "metadata": {},
     "output_type": "execute_result"
    }
   ],
   "source": [
    "# values of the metabolic variables\n",
    "summary.metabolic"
   ],
   "metadata": {
    "collapsed": false
   }
  },
  {
   "cell_type": "code",
   "execution_count": 9,
   "outputs": [
    {
     "data": {
      "text/plain": "           regulatory variable      variable type    role  \\\nb0008                    b0008       target, gene  output   \nb0080                    b0080  regulator, target  output   \nb0113                    b0113  regulator, target  output   \nb0114                    b0114       target, gene  output   \nb0115                    b0115       target, gene  output   \n...                        ...                ...     ...   \nCRPnoGLM              CRPnoGLM  regulator, target  output   \nNRI_hi                  NRI_hi  regulator, target  output   \nNRI_low                NRI_low  regulator, target  output   \nsurplusFDP          surplusFDP  regulator, target  output   \nsurplusPYR          surplusPYR  regulator, target  output   \n\n            expression coefficient  \nb0008                          1.0  \nb0080                          1.0  \nb0113                          1.0  \nb0114                          1.0  \nb0115                          1.0  \n...                            ...  \nCRPnoGLM                       1.0  \nNRI_hi                         0.0  \nNRI_low                       -0.0  \nsurplusFDP                     0.0  \nsurplusPYR                     0.0  \n\n[159 rows x 4 columns]",
      "text/html": "<div>\n<style scoped>\n    .dataframe tbody tr th:only-of-type {\n        vertical-align: middle;\n    }\n\n    .dataframe tbody tr th {\n        vertical-align: top;\n    }\n\n    .dataframe thead th {\n        text-align: right;\n    }\n</style>\n<table border=\"1\" class=\"dataframe\">\n  <thead>\n    <tr style=\"text-align: right;\">\n      <th></th>\n      <th>regulatory variable</th>\n      <th>variable type</th>\n      <th>role</th>\n      <th>expression coefficient</th>\n    </tr>\n  </thead>\n  <tbody>\n    <tr>\n      <th>b0008</th>\n      <td>b0008</td>\n      <td>target, gene</td>\n      <td>output</td>\n      <td>1.0</td>\n    </tr>\n    <tr>\n      <th>b0080</th>\n      <td>b0080</td>\n      <td>regulator, target</td>\n      <td>output</td>\n      <td>1.0</td>\n    </tr>\n    <tr>\n      <th>b0113</th>\n      <td>b0113</td>\n      <td>regulator, target</td>\n      <td>output</td>\n      <td>1.0</td>\n    </tr>\n    <tr>\n      <th>b0114</th>\n      <td>b0114</td>\n      <td>target, gene</td>\n      <td>output</td>\n      <td>1.0</td>\n    </tr>\n    <tr>\n      <th>b0115</th>\n      <td>b0115</td>\n      <td>target, gene</td>\n      <td>output</td>\n      <td>1.0</td>\n    </tr>\n    <tr>\n      <th>...</th>\n      <td>...</td>\n      <td>...</td>\n      <td>...</td>\n      <td>...</td>\n    </tr>\n    <tr>\n      <th>CRPnoGLM</th>\n      <td>CRPnoGLM</td>\n      <td>regulator, target</td>\n      <td>output</td>\n      <td>1.0</td>\n    </tr>\n    <tr>\n      <th>NRI_hi</th>\n      <td>NRI_hi</td>\n      <td>regulator, target</td>\n      <td>output</td>\n      <td>0.0</td>\n    </tr>\n    <tr>\n      <th>NRI_low</th>\n      <td>NRI_low</td>\n      <td>regulator, target</td>\n      <td>output</td>\n      <td>-0.0</td>\n    </tr>\n    <tr>\n      <th>surplusFDP</th>\n      <td>surplusFDP</td>\n      <td>regulator, target</td>\n      <td>output</td>\n      <td>0.0</td>\n    </tr>\n    <tr>\n      <th>surplusPYR</th>\n      <td>surplusPYR</td>\n      <td>regulator, target</td>\n      <td>output</td>\n      <td>0.0</td>\n    </tr>\n  </tbody>\n</table>\n<p>159 rows × 4 columns</p>\n</div>"
     },
     "execution_count": 9,
     "metadata": {},
     "output_type": "execute_result"
    }
   ],
   "source": [
    "# values of the regulatory variables\n",
    "summary.regulatory"
   ],
   "metadata": {
    "collapsed": false
   }
  },
  {
   "cell_type": "code",
   "execution_count": 10,
   "outputs": [
    {
     "data": {
      "text/plain": "                       value direction\nBiomass_Ecoli_core  0.873922  maximize",
      "text/html": "<div>\n<style scoped>\n    .dataframe tbody tr th:only-of-type {\n        vertical-align: middle;\n    }\n\n    .dataframe tbody tr th {\n        vertical-align: top;\n    }\n\n    .dataframe thead th {\n        text-align: right;\n    }\n</style>\n<table border=\"1\" class=\"dataframe\">\n  <thead>\n    <tr style=\"text-align: right;\">\n      <th></th>\n      <th>value</th>\n      <th>direction</th>\n    </tr>\n  </thead>\n  <tbody>\n    <tr>\n      <th>Biomass_Ecoli_core</th>\n      <td>0.873922</td>\n      <td>maximize</td>\n    </tr>\n  </tbody>\n</table>\n</div>"
     },
     "execution_count": 10,
     "metadata": {},
     "output_type": "execute_result"
    }
   ],
   "source": [
    "# objective value\n",
    "summary.objective"
   ],
   "metadata": {
    "collapsed": false
   }
  },
  {
   "cell_type": "code",
   "execution_count": 11,
   "outputs": [
    {
     "data": {
      "text/plain": "            regulatory                                         metabolic  \\\n             regulator variable type expression coefficient     reaction   \nEX_glc__D_e        NaN           NaN                    NaN  EX_glc__D_e   \nEX_nh4_e           NaN           NaN                    NaN     EX_nh4_e   \nEX_o2_e            NaN           NaN                    NaN      EX_o2_e   \nEX_pi_e            NaN           NaN                    NaN      EX_pi_e   \n\n                                                 \n            variable type metabolite       flux  \nEX_glc__D_e      reaction   glc__D_e -10.000000  \nEX_nh4_e         reaction      nh4_e  -4.765319  \nEX_o2_e          reaction       o2_e -21.799493  \nEX_pi_e          reaction       pi_e  -3.214895  ",
      "text/html": "<div>\n<style scoped>\n    .dataframe tbody tr th:only-of-type {\n        vertical-align: middle;\n    }\n\n    .dataframe tbody tr th {\n        vertical-align: top;\n    }\n\n    .dataframe thead tr th {\n        text-align: left;\n    }\n</style>\n<table border=\"1\" class=\"dataframe\">\n  <thead>\n    <tr>\n      <th></th>\n      <th colspan=\"3\" halign=\"left\">regulatory</th>\n      <th colspan=\"4\" halign=\"left\">metabolic</th>\n    </tr>\n    <tr>\n      <th></th>\n      <th>regulator</th>\n      <th>variable type</th>\n      <th>expression coefficient</th>\n      <th>reaction</th>\n      <th>variable type</th>\n      <th>metabolite</th>\n      <th>flux</th>\n    </tr>\n  </thead>\n  <tbody>\n    <tr>\n      <th>EX_glc__D_e</th>\n      <td>NaN</td>\n      <td>NaN</td>\n      <td>NaN</td>\n      <td>EX_glc__D_e</td>\n      <td>reaction</td>\n      <td>glc__D_e</td>\n      <td>-10.000000</td>\n    </tr>\n    <tr>\n      <th>EX_nh4_e</th>\n      <td>NaN</td>\n      <td>NaN</td>\n      <td>NaN</td>\n      <td>EX_nh4_e</td>\n      <td>reaction</td>\n      <td>nh4_e</td>\n      <td>-4.765319</td>\n    </tr>\n    <tr>\n      <th>EX_o2_e</th>\n      <td>NaN</td>\n      <td>NaN</td>\n      <td>NaN</td>\n      <td>EX_o2_e</td>\n      <td>reaction</td>\n      <td>o2_e</td>\n      <td>-21.799493</td>\n    </tr>\n    <tr>\n      <th>EX_pi_e</th>\n      <td>NaN</td>\n      <td>NaN</td>\n      <td>NaN</td>\n      <td>EX_pi_e</td>\n      <td>reaction</td>\n      <td>pi_e</td>\n      <td>-3.214895</td>\n    </tr>\n  </tbody>\n</table>\n</div>"
     },
     "execution_count": 11,
     "metadata": {},
     "output_type": "execute_result"
    }
   ],
   "source": [
    "# values of the metabolic and regulatory inputs\n",
    "summary.inputs"
   ],
   "metadata": {
    "collapsed": false
   }
  },
  {
   "cell_type": "code",
   "execution_count": 12,
   "outputs": [
    {
     "data": {
      "text/plain": "            regulatory                                           metabolic  \\\n                target      variable type expression coefficient  reaction   \nb0008            b0008       target, gene                    1.0       NaN   \nb0080            b0080  regulator, target                    1.0       NaN   \nb0113            b0113  regulator, target                    1.0       NaN   \nb0114            b0114       target, gene                    1.0       NaN   \nb0115            b0115       target, gene                    1.0       NaN   \n...                ...                ...                    ...       ...   \nsurplusFDP  surplusFDP  regulator, target                    0.0       NaN   \nsurplusPYR  surplusPYR  regulator, target                    0.0       NaN   \nEX_co2_e           NaN                NaN                    NaN  EX_co2_e   \nEX_h_e             NaN                NaN                    NaN    EX_h_e   \nEX_h2o_e           NaN                NaN                    NaN  EX_h2o_e   \n\n                                                \n           variable type metabolite       flux  \nb0008                NaN        NaN        NaN  \nb0080                NaN        NaN        NaN  \nb0113                NaN        NaN        NaN  \nb0114                NaN        NaN        NaN  \nb0115                NaN        NaN        NaN  \n...                  ...        ...        ...  \nsurplusFDP           NaN        NaN        NaN  \nsurplusPYR           NaN        NaN        NaN  \nEX_co2_e        reaction      co2_e  22.809833  \nEX_h_e          reaction        h_e  17.530865  \nEX_h2o_e        reaction      h2o_e  29.175827  \n\n[162 rows x 7 columns]",
      "text/html": "<div>\n<style scoped>\n    .dataframe tbody tr th:only-of-type {\n        vertical-align: middle;\n    }\n\n    .dataframe tbody tr th {\n        vertical-align: top;\n    }\n\n    .dataframe thead tr th {\n        text-align: left;\n    }\n</style>\n<table border=\"1\" class=\"dataframe\">\n  <thead>\n    <tr>\n      <th></th>\n      <th colspan=\"3\" halign=\"left\">regulatory</th>\n      <th colspan=\"4\" halign=\"left\">metabolic</th>\n    </tr>\n    <tr>\n      <th></th>\n      <th>target</th>\n      <th>variable type</th>\n      <th>expression coefficient</th>\n      <th>reaction</th>\n      <th>variable type</th>\n      <th>metabolite</th>\n      <th>flux</th>\n    </tr>\n  </thead>\n  <tbody>\n    <tr>\n      <th>b0008</th>\n      <td>b0008</td>\n      <td>target, gene</td>\n      <td>1.0</td>\n      <td>NaN</td>\n      <td>NaN</td>\n      <td>NaN</td>\n      <td>NaN</td>\n    </tr>\n    <tr>\n      <th>b0080</th>\n      <td>b0080</td>\n      <td>regulator, target</td>\n      <td>1.0</td>\n      <td>NaN</td>\n      <td>NaN</td>\n      <td>NaN</td>\n      <td>NaN</td>\n    </tr>\n    <tr>\n      <th>b0113</th>\n      <td>b0113</td>\n      <td>regulator, target</td>\n      <td>1.0</td>\n      <td>NaN</td>\n      <td>NaN</td>\n      <td>NaN</td>\n      <td>NaN</td>\n    </tr>\n    <tr>\n      <th>b0114</th>\n      <td>b0114</td>\n      <td>target, gene</td>\n      <td>1.0</td>\n      <td>NaN</td>\n      <td>NaN</td>\n      <td>NaN</td>\n      <td>NaN</td>\n    </tr>\n    <tr>\n      <th>b0115</th>\n      <td>b0115</td>\n      <td>target, gene</td>\n      <td>1.0</td>\n      <td>NaN</td>\n      <td>NaN</td>\n      <td>NaN</td>\n      <td>NaN</td>\n    </tr>\n    <tr>\n      <th>...</th>\n      <td>...</td>\n      <td>...</td>\n      <td>...</td>\n      <td>...</td>\n      <td>...</td>\n      <td>...</td>\n      <td>...</td>\n    </tr>\n    <tr>\n      <th>surplusFDP</th>\n      <td>surplusFDP</td>\n      <td>regulator, target</td>\n      <td>0.0</td>\n      <td>NaN</td>\n      <td>NaN</td>\n      <td>NaN</td>\n      <td>NaN</td>\n    </tr>\n    <tr>\n      <th>surplusPYR</th>\n      <td>surplusPYR</td>\n      <td>regulator, target</td>\n      <td>0.0</td>\n      <td>NaN</td>\n      <td>NaN</td>\n      <td>NaN</td>\n      <td>NaN</td>\n    </tr>\n    <tr>\n      <th>EX_co2_e</th>\n      <td>NaN</td>\n      <td>NaN</td>\n      <td>NaN</td>\n      <td>EX_co2_e</td>\n      <td>reaction</td>\n      <td>co2_e</td>\n      <td>22.809833</td>\n    </tr>\n    <tr>\n      <th>EX_h_e</th>\n      <td>NaN</td>\n      <td>NaN</td>\n      <td>NaN</td>\n      <td>EX_h_e</td>\n      <td>reaction</td>\n      <td>h_e</td>\n      <td>17.530865</td>\n    </tr>\n    <tr>\n      <th>EX_h2o_e</th>\n      <td>NaN</td>\n      <td>NaN</td>\n      <td>NaN</td>\n      <td>EX_h2o_e</td>\n      <td>reaction</td>\n      <td>h2o_e</td>\n      <td>29.175827</td>\n    </tr>\n  </tbody>\n</table>\n<p>162 rows × 7 columns</p>\n</div>"
     },
     "execution_count": 12,
     "metadata": {},
     "output_type": "execute_result"
    }
   ],
   "source": [
    "# values of the metabolic and regulatory outputs\n",
    "summary.outputs"
   ],
   "metadata": {
    "collapsed": false
   }
  },
  {
   "cell_type": "markdown",
   "source": [
    "## GERM model and phenotype simulation workflow\n",
    "A phenotype simulation method must be initialized with a GERM model. A common workflow to work with GERM models and simulation methods is suggested as follows:\n",
    "1. `model = read_model(reader1, reader2)` - read the model\n",
    "2. `rfba = RFBA(model)` - initialize the simulation method\n",
    "3. `rfba.build()` - build the linear problem\n",
    "4. `solution = rfba.optimize()` - perform the optimization\n",
    "5. `model.reactions['MY_REACTION'].bounds = (0, 0)` - make changes to the model\n",
    "6. `solution = RFBA(model).build().optimize()` - initialize, build and optimize the simulation method\n",
    "\n",
    "In this workflow, _model_ and _rfba_ instances are not connected with each other. Future rfba's optimization will generate the same output even if we make changes to the model. That is, _model_ and _rfba_ are not synchronized and attached to each other.\n",
    "<br>\n",
    "\n",
    "Although building linear problems is considerably fast for most models, there is a second workflow to work with GERM models and simulation methods:\n",
    "1. `model = read_model(reader1, reader2)` - read the model\n",
    "2. `rfba = RFBA(model, attach=True)` - initialize the simulation method and attach it to the model\n",
    "3. `rfba.build()` - build the linear problem\n",
    "4. `solution = rfba.optimize()` - perform the optimization\n",
    "5. `model.reactions['MY_REACTION'].bounds = (0, 0)` - make changes to the model\n",
    "6. `rxn_ko_solution = rfba.optimize()` - perform the optimization again but this time with the reaction deletion"
   ],
   "metadata": {
    "collapsed": false
   }
  },
  {
   "cell_type": "code",
   "execution_count": 13,
   "outputs": [
    {
     "data": {
      "text/plain": "SRFBA Solution\n Objective value: 0.8739215069684829\n Status: optimal",
      "text/html": "\n        <table>\n            <tr>\n                <td>Method</td>\n                <td>SRFBA</td>\n            </tr>\n            <tr>\n                <td>Model</td>\n                <td>Model e_coli_core - E. coli core model - Orth et al 2010</td>\n            </tr>\n            <tr>\n                <th>Objective</th>\n                <td>Biomass_Ecoli_core</td>\n            </tr>\n            <tr>\n                <th>Objective value</th>\n                <td>0.8739215069684829</td>\n            </tr>\n            <tr>\n                <th>Status</th>\n                <td>optimal</td>\n            </tr>\n        </table>\n        "
     },
     "execution_count": 13,
     "metadata": {},
     "output_type": "execute_result"
    }
   ],
   "source": [
    "# read, build, optimize\n",
    "model = read_model(core_gem_reader, core_trn_reader)\n",
    "srfba = SRFBA(model).build()\n",
    "solution = srfba.optimize()\n",
    "solution"
   ],
   "metadata": {
    "collapsed": false
   }
  },
  {
   "cell_type": "code",
   "execution_count": 14,
   "outputs": [
    {
     "data": {
      "text/plain": "SRFBA Solution\n Objective value: 0.0\n Status: optimal",
      "text/html": "\n        <table>\n            <tr>\n                <td>Method</td>\n                <td>SRFBA</td>\n            </tr>\n            <tr>\n                <td>Model</td>\n                <td>Model e_coli_core - E. coli core model - Orth et al 2010</td>\n            </tr>\n            <tr>\n                <th>Objective</th>\n                <td>Biomass_Ecoli_core</td>\n            </tr>\n            <tr>\n                <th>Objective value</th>\n                <td>0.0</td>\n            </tr>\n            <tr>\n                <th>Status</th>\n                <td>optimal</td>\n            </tr>\n        </table>\n        "
     },
     "execution_count": 14,
     "metadata": {},
     "output_type": "execute_result"
    }
   ],
   "source": [
    "# make changes and then build, optimize\n",
    "model.regulators['b3261'].ko()\n",
    "srfba = SRFBA(model).build()\n",
    "solution = srfba.optimize()\n",
    "solution"
   ],
   "metadata": {
    "collapsed": false
   }
  },
  {
   "cell_type": "code",
   "execution_count": 15,
   "outputs": [
    {
     "name": "stdout",
     "output_type": "stream",
     "text": [
      "Wild-type growth rate 0.8739215069684829\n",
      "KO growth rate 0.0\n"
     ]
    }
   ],
   "source": [
    "# second workflow\n",
    "model = read_model(core_gem_reader, core_trn_reader)\n",
    "srfba = SRFBA(model, attach=True).build()\n",
    "solution = srfba.optimize()\n",
    "print('Wild-type growth rate', solution.objective_value)\n",
    "\n",
    "# applying the knockout\n",
    "model.regulators['b3261'].ko()\n",
    "solution = srfba.optimize()\n",
    "print('KO growth rate', solution.objective_value)"
   ],
   "metadata": {
    "collapsed": false
   }
  },
  {
   "cell_type": "markdown",
   "source": [
    "In addition, one can attach as many simulation methods as needed to a single model instance. This behavior eases the comparison between simulation methods"
   ],
   "metadata": {
    "collapsed": false
   }
  },
  {
   "cell_type": "code",
   "execution_count": 16,
   "outputs": [
    {
     "name": "stdout",
     "output_type": "stream",
     "text": [
      "FBA KO growth rate: 0.8739215069684303\n",
      "pFBA KO sum of fluxes: 93768.8478640836\n",
      "RFBA KO growth rate: 0.8513885233462081\n",
      "SRFBA KO growth rate: 0.0\n",
      "\n",
      "FBA WT growth rate: 0.8739215069684303\n",
      "pFBA WT sum of fluxes: 93768.8478640836\n",
      "RFBA WT growth rate: 0.8513885233462081\n",
      "SRFBA WT growth rate: 0.8739215069684829\n"
     ]
    }
   ],
   "source": [
    "# many simulation methods attached\n",
    "model = read_model(core_gem_reader, core_trn_reader)\n",
    "fba = FBA(model, attach=True).build()\n",
    "pfba = pFBA(model, attach=True).build()\n",
    "rfba = RFBA(model, attach=True).build()\n",
    "srfba = SRFBA(model, attach=True).build()\n",
    "\n",
    "# applying the knockout\n",
    "model.regulators['b3261'].ko()\n",
    "\n",
    "print('FBA KO growth rate:', fba.optimize().objective_value)\n",
    "print('pFBA KO sum of fluxes:', pfba.optimize().objective_value)\n",
    "print('RFBA KO growth rate:', rfba.optimize().objective_value)\n",
    "print('SRFBA KO growth rate:', srfba.optimize().objective_value)\n",
    "print()\n",
    "\n",
    "# restore the model\n",
    "model.undo()\n",
    "print('FBA WT growth rate:', fba.optimize().objective_value)\n",
    "print('pFBA WT sum of fluxes:', pfba.optimize().objective_value)\n",
    "print('RFBA WT growth rate:', rfba.optimize().objective_value)\n",
    "print('SRFBA WT growth rate:', srfba.optimize().objective_value)"
   ],
   "metadata": {
    "collapsed": false
   }
  },
  {
   "cell_type": "markdown",
   "source": [
    "## FBA and pFBA\n",
    "\n",
    "MEWpy supports **`FBA`** and **`pFBA`** simulation methods using GERM models.\n",
    "<br>\n",
    "**`FBA`** is a phenotype simulation method based on mass balance constraints retrieved from metabolites and reactions found in a GEM model. FBA is aimed at finding the maximum value for the objective function. As the biomass reaction is often used as objective function, FBA is often used to find the optimal growth rate of an organism. For more details consult: [https://doi.org/10.1038/nbt.1614](https://doi.org/10.1038/nbt.1614). In addition, **`mewpy.germ.analysis.FBA`** also takes into consideration the coefficients of metabolic genes, thus limiting reactions bounds to the corresponding gene states.\n",
    "<br>\n",
    "**`pFBA`** is a phenotype simulation method based on **`FBA`**, as this method also finds the optimal growth rate. However, the objective function of pFBA consists of minimizing the total sum of all fluxes, and thus finding the subset of genes and proteins that may contribute to the most efficient metabolic network topology [Lewis _et al_, 2010](https://doi.org/10.1038/msb.2010.47).\n",
    "<br>\n",
    "**`FBA`** and **`pFBA`** are both available in the **`mewpy.germ.analysis`** package. Alternatively, one can use the simple and optimized versions **`slim_fba`** and **`slim_pfba`**. Likewise, **`FBA`** and **`pFBA`** are available in MEWpy's **`Simulator`**, which is the common interface to perform simulations using GERM models, COBRApy models, and Reframed models."
   ],
   "metadata": {
    "collapsed": false
   }
  },
  {
   "cell_type": "code",
   "execution_count": 17,
   "outputs": [
    {
     "data": {
      "text/plain": "FBA Solution\n Objective value: 0.8739215069684303\n Status: optimal",
      "text/html": "\n        <table>\n            <tr>\n                <td>Method</td>\n                <td>FBA</td>\n            </tr>\n            <tr>\n                <td>Model</td>\n                <td>Model e_coli_core - E. coli core model - Orth et al 2010</td>\n            </tr>\n            <tr>\n                <th>Objective</th>\n                <td>Biomass_Ecoli_core</td>\n            </tr>\n            <tr>\n                <th>Objective value</th>\n                <td>0.8739215069684303</td>\n            </tr>\n            <tr>\n                <th>Status</th>\n                <td>optimal</td>\n            </tr>\n        </table>\n        "
     },
     "execution_count": 17,
     "metadata": {},
     "output_type": "execute_result"
    }
   ],
   "source": [
    "# using FBA analysis\n",
    "met_model = read_model(core_gem_reader)\n",
    "FBA(met_model).build().optimize()"
   ],
   "metadata": {
    "collapsed": false
   }
  },
  {
   "cell_type": "code",
   "execution_count": 18,
   "outputs": [
    {
     "data": {
      "text/plain": "0.8739215069684303"
     },
     "execution_count": 18,
     "metadata": {},
     "output_type": "execute_result"
    }
   ],
   "source": [
    "# using slim FBA analysis\n",
    "slim_fba(met_model)"
   ],
   "metadata": {
    "collapsed": false
   }
  },
  {
   "cell_type": "code",
   "execution_count": 19,
   "outputs": [
    {
     "data": {
      "text/plain": "objective: 0.8739215069684303\nStatus: OPTIMAL\nConstraints: OrderedDict()\nMethod:SimulationMethod.FBA"
     },
     "execution_count": 19,
     "metadata": {},
     "output_type": "execute_result"
    }
   ],
   "source": [
    "# using MEWpy simulator\n",
    "from mewpy.simulation import get_simulator\n",
    "simulator = get_simulator(met_model)\n",
    "simulator.simulate()"
   ],
   "metadata": {
    "collapsed": false
   }
  },
  {
   "cell_type": "code",
   "execution_count": 20,
   "outputs": [
    {
     "name": "stdout",
     "output_type": "stream",
     "text": [
      "93768.8478640836\n",
      "93768.8478640836\n",
      "objective: 0.8739215069684303\n",
      "Status: OPTIMAL\n",
      "Constraints: OrderedDict()\n",
      "Method:SimulationMethod.pFBA\n"
     ]
    }
   ],
   "source": [
    "from mewpy.simulation import SimulationMethod\n",
    "\n",
    "# pfba version\n",
    "print(pFBA(met_model).build().optimize().objective_value)\n",
    "print(slim_pfba(met_model))\n",
    "print(simulator.simulate(method=SimulationMethod.pFBA))"
   ],
   "metadata": {
    "collapsed": false
   }
  },
  {
   "cell_type": "markdown",
   "source": [
    "## FVA and Deletions\n",
    "The **`mewpy.germ.analysis`** package includes the **`FVA`** method to inspect the solution space of a GEM model.\n",
    "FVA computes the minimum and maximum possible fluxes of each reaction in a metabolic model. This method can be used to identify reactions limiting cellular growth. This method return a pandas `DataFrame` with the minium and maximum fluxes (columns) for each reaction (index).\n",
    "<br>\n",
    "The `mewpy.germ.analysis` package includes **`single_gene_deletion`** and **`single_reaction_deletion`** methods to inspect _in silico_ genetic strategies. These methods perform an FBA phenotype simulation of a single reaction deletion or gene knockout for all reactions and genes in the metabolic model. These methods are faster than iterating through the model reactions or genes using the `ko()` method."
   ],
   "metadata": {
    "collapsed": false
   }
  },
  {
   "cell_type": "code",
   "execution_count": 21,
   "outputs": [
    {
     "data": {
      "text/plain": "             minimum   maximum\nACALD  -7.105427e-15  0.000000\nACALDt  0.000000e+00  0.000000\nACKr    0.000000e+00  0.000000\nACONTa  6.007250e+00  6.007250\nACONTb  6.007250e+00  6.007250\n...              ...       ...\nTALA    1.496984e+00  1.496984\nTHD2    0.000000e+00  0.000000\nTKT1    1.496984e+00  1.496984\nTKT2    1.181498e+00  1.181498\nTPI     7.477382e+00  7.477382\n\n[95 rows x 2 columns]",
      "text/html": "<div>\n<style scoped>\n    .dataframe tbody tr th:only-of-type {\n        vertical-align: middle;\n    }\n\n    .dataframe tbody tr th {\n        vertical-align: top;\n    }\n\n    .dataframe thead th {\n        text-align: right;\n    }\n</style>\n<table border=\"1\" class=\"dataframe\">\n  <thead>\n    <tr style=\"text-align: right;\">\n      <th></th>\n      <th>minimum</th>\n      <th>maximum</th>\n    </tr>\n  </thead>\n  <tbody>\n    <tr>\n      <th>ACALD</th>\n      <td>-7.105427e-15</td>\n      <td>0.000000</td>\n    </tr>\n    <tr>\n      <th>ACALDt</th>\n      <td>0.000000e+00</td>\n      <td>0.000000</td>\n    </tr>\n    <tr>\n      <th>ACKr</th>\n      <td>0.000000e+00</td>\n      <td>0.000000</td>\n    </tr>\n    <tr>\n      <th>ACONTa</th>\n      <td>6.007250e+00</td>\n      <td>6.007250</td>\n    </tr>\n    <tr>\n      <th>ACONTb</th>\n      <td>6.007250e+00</td>\n      <td>6.007250</td>\n    </tr>\n    <tr>\n      <th>...</th>\n      <td>...</td>\n      <td>...</td>\n    </tr>\n    <tr>\n      <th>TALA</th>\n      <td>1.496984e+00</td>\n      <td>1.496984</td>\n    </tr>\n    <tr>\n      <th>THD2</th>\n      <td>0.000000e+00</td>\n      <td>0.000000</td>\n    </tr>\n    <tr>\n      <th>TKT1</th>\n      <td>1.496984e+00</td>\n      <td>1.496984</td>\n    </tr>\n    <tr>\n      <th>TKT2</th>\n      <td>1.181498e+00</td>\n      <td>1.181498</td>\n    </tr>\n    <tr>\n      <th>TPI</th>\n      <td>7.477382e+00</td>\n      <td>7.477382</td>\n    </tr>\n  </tbody>\n</table>\n<p>95 rows × 2 columns</p>\n</div>"
     },
     "execution_count": 21,
     "metadata": {},
     "output_type": "execute_result"
    }
   ],
   "source": [
    "# FVA returns the DataFrame with minium and maximum values of each reaction\n",
    "fva(met_model)"
   ],
   "metadata": {
    "collapsed": false
   }
  },
  {
   "cell_type": "code",
   "execution_count": 22,
   "outputs": [
    {
     "data": {
      "text/plain": "             minimum   maximum\nACALD  -7.105427e-15  0.000000\nACALDt  0.000000e+00  0.000000\nACKr    0.000000e+00  0.000000\nACONTa  6.007250e+00  6.007250\nACONTb  6.007250e+00  6.007250\n...              ...       ...\nTALA    1.496984e+00  1.496984\nTHD2    0.000000e+00  0.000000\nTKT1    1.496984e+00  1.496984\nTKT2    1.181498e+00  1.181498\nTPI     7.477382e+00  7.477382\n\n[95 rows x 2 columns]",
      "text/html": "<div>\n<style scoped>\n    .dataframe tbody tr th:only-of-type {\n        vertical-align: middle;\n    }\n\n    .dataframe tbody tr th {\n        vertical-align: top;\n    }\n\n    .dataframe thead th {\n        text-align: right;\n    }\n</style>\n<table border=\"1\" class=\"dataframe\">\n  <thead>\n    <tr style=\"text-align: right;\">\n      <th></th>\n      <th>minimum</th>\n      <th>maximum</th>\n    </tr>\n  </thead>\n  <tbody>\n    <tr>\n      <th>ACALD</th>\n      <td>-7.105427e-15</td>\n      <td>0.000000</td>\n    </tr>\n    <tr>\n      <th>ACALDt</th>\n      <td>0.000000e+00</td>\n      <td>0.000000</td>\n    </tr>\n    <tr>\n      <th>ACKr</th>\n      <td>0.000000e+00</td>\n      <td>0.000000</td>\n    </tr>\n    <tr>\n      <th>ACONTa</th>\n      <td>6.007250e+00</td>\n      <td>6.007250</td>\n    </tr>\n    <tr>\n      <th>ACONTb</th>\n      <td>6.007250e+00</td>\n      <td>6.007250</td>\n    </tr>\n    <tr>\n      <th>...</th>\n      <td>...</td>\n      <td>...</td>\n    </tr>\n    <tr>\n      <th>TALA</th>\n      <td>1.496984e+00</td>\n      <td>1.496984</td>\n    </tr>\n    <tr>\n      <th>THD2</th>\n      <td>0.000000e+00</td>\n      <td>0.000000</td>\n    </tr>\n    <tr>\n      <th>TKT1</th>\n      <td>1.496984e+00</td>\n      <td>1.496984</td>\n    </tr>\n    <tr>\n      <th>TKT2</th>\n      <td>1.181498e+00</td>\n      <td>1.181498</td>\n    </tr>\n    <tr>\n      <th>TPI</th>\n      <td>7.477382e+00</td>\n      <td>7.477382</td>\n    </tr>\n  </tbody>\n</table>\n<p>95 rows × 2 columns</p>\n</div>"
     },
     "execution_count": 22,
     "metadata": {},
     "output_type": "execute_result"
    }
   ],
   "source": [
    "# FVA returns the DataFrame with minium and maximum values of each reaction\n",
    "fva(met_model)"
   ],
   "metadata": {
    "collapsed": false
   }
  },
  {
   "cell_type": "code",
   "execution_count": 23,
   "outputs": [
    {
     "data": {
      "text/plain": "          growth   status\nACALD   0.873922  Optimal\nACALDt  0.873922  Optimal\nACKr    0.873922  Optimal\nACONTa  0.000000  Optimal\nACONTb  0.000000  Optimal\n...          ...      ...\nTALA    0.864759  Optimal\nTHD2    0.873922  Optimal\nTKT1    0.864759  Optimal\nTKT2    0.866674  Optimal\nTPI     0.704037  Optimal\n\n[95 rows x 2 columns]",
      "text/html": "<div>\n<style scoped>\n    .dataframe tbody tr th:only-of-type {\n        vertical-align: middle;\n    }\n\n    .dataframe tbody tr th {\n        vertical-align: top;\n    }\n\n    .dataframe thead th {\n        text-align: right;\n    }\n</style>\n<table border=\"1\" class=\"dataframe\">\n  <thead>\n    <tr style=\"text-align: right;\">\n      <th></th>\n      <th>growth</th>\n      <th>status</th>\n    </tr>\n  </thead>\n  <tbody>\n    <tr>\n      <th>ACALD</th>\n      <td>0.873922</td>\n      <td>Optimal</td>\n    </tr>\n    <tr>\n      <th>ACALDt</th>\n      <td>0.873922</td>\n      <td>Optimal</td>\n    </tr>\n    <tr>\n      <th>ACKr</th>\n      <td>0.873922</td>\n      <td>Optimal</td>\n    </tr>\n    <tr>\n      <th>ACONTa</th>\n      <td>0.000000</td>\n      <td>Optimal</td>\n    </tr>\n    <tr>\n      <th>ACONTb</th>\n      <td>0.000000</td>\n      <td>Optimal</td>\n    </tr>\n    <tr>\n      <th>...</th>\n      <td>...</td>\n      <td>...</td>\n    </tr>\n    <tr>\n      <th>TALA</th>\n      <td>0.864759</td>\n      <td>Optimal</td>\n    </tr>\n    <tr>\n      <th>THD2</th>\n      <td>0.873922</td>\n      <td>Optimal</td>\n    </tr>\n    <tr>\n      <th>TKT1</th>\n      <td>0.864759</td>\n      <td>Optimal</td>\n    </tr>\n    <tr>\n      <th>TKT2</th>\n      <td>0.866674</td>\n      <td>Optimal</td>\n    </tr>\n    <tr>\n      <th>TPI</th>\n      <td>0.704037</td>\n      <td>Optimal</td>\n    </tr>\n  </tbody>\n</table>\n<p>95 rows × 2 columns</p>\n</div>"
     },
     "execution_count": 23,
     "metadata": {},
     "output_type": "execute_result"
    }
   ],
   "source": [
    "# single reaction deletion\n",
    "single_reaction_deletion(met_model)"
   ],
   "metadata": {
    "collapsed": false
   }
  },
  {
   "cell_type": "code",
   "execution_count": 24,
   "outputs": [
    {
     "data": {
      "text/plain": "         growth   status\nb0351  0.873922  Optimal\nb1241  0.873922  Optimal\ns0001  0.211141  Optimal\nb2296  0.873922  Optimal\nb3115  0.873922  Optimal\n...         ...      ...\nb2464  0.873922  Optimal\nb0008  0.873922  Optimal\nb2935  0.873922  Optimal\nb2465  0.873922  Optimal\nb3919  0.704037  Optimal\n\n[137 rows x 2 columns]",
      "text/html": "<div>\n<style scoped>\n    .dataframe tbody tr th:only-of-type {\n        vertical-align: middle;\n    }\n\n    .dataframe tbody tr th {\n        vertical-align: top;\n    }\n\n    .dataframe thead th {\n        text-align: right;\n    }\n</style>\n<table border=\"1\" class=\"dataframe\">\n  <thead>\n    <tr style=\"text-align: right;\">\n      <th></th>\n      <th>growth</th>\n      <th>status</th>\n    </tr>\n  </thead>\n  <tbody>\n    <tr>\n      <th>b0351</th>\n      <td>0.873922</td>\n      <td>Optimal</td>\n    </tr>\n    <tr>\n      <th>b1241</th>\n      <td>0.873922</td>\n      <td>Optimal</td>\n    </tr>\n    <tr>\n      <th>s0001</th>\n      <td>0.211141</td>\n      <td>Optimal</td>\n    </tr>\n    <tr>\n      <th>b2296</th>\n      <td>0.873922</td>\n      <td>Optimal</td>\n    </tr>\n    <tr>\n      <th>b3115</th>\n      <td>0.873922</td>\n      <td>Optimal</td>\n    </tr>\n    <tr>\n      <th>...</th>\n      <td>...</td>\n      <td>...</td>\n    </tr>\n    <tr>\n      <th>b2464</th>\n      <td>0.873922</td>\n      <td>Optimal</td>\n    </tr>\n    <tr>\n      <th>b0008</th>\n      <td>0.873922</td>\n      <td>Optimal</td>\n    </tr>\n    <tr>\n      <th>b2935</th>\n      <td>0.873922</td>\n      <td>Optimal</td>\n    </tr>\n    <tr>\n      <th>b2465</th>\n      <td>0.873922</td>\n      <td>Optimal</td>\n    </tr>\n    <tr>\n      <th>b3919</th>\n      <td>0.704037</td>\n      <td>Optimal</td>\n    </tr>\n  </tbody>\n</table>\n<p>137 rows × 2 columns</p>\n</div>"
     },
     "execution_count": 24,
     "metadata": {},
     "output_type": "execute_result"
    }
   ],
   "source": [
    "# single gene deletion\n",
    "single_gene_deletion(met_model)"
   ],
   "metadata": {
    "collapsed": false
   }
  },
  {
   "cell_type": "code",
   "execution_count": 25,
   "outputs": [
    {
     "data": {
      "text/plain": "         growth   status\nb0118  0.873922  Optimal\nb1276  0.873922  Optimal",
      "text/html": "<div>\n<style scoped>\n    .dataframe tbody tr th:only-of-type {\n        vertical-align: middle;\n    }\n\n    .dataframe tbody tr th {\n        vertical-align: top;\n    }\n\n    .dataframe thead th {\n        text-align: right;\n    }\n</style>\n<table border=\"1\" class=\"dataframe\">\n  <thead>\n    <tr style=\"text-align: right;\">\n      <th></th>\n      <th>growth</th>\n      <th>status</th>\n    </tr>\n  </thead>\n  <tbody>\n    <tr>\n      <th>b0118</th>\n      <td>0.873922</td>\n      <td>Optimal</td>\n    </tr>\n    <tr>\n      <th>b1276</th>\n      <td>0.873922</td>\n      <td>Optimal</td>\n    </tr>\n  </tbody>\n</table>\n</div>"
     },
     "execution_count": 25,
     "metadata": {},
     "output_type": "execute_result"
    }
   ],
   "source": [
    "# single gene deletion for specific genes\n",
    "single_gene_deletion(met_model, genes=met_model.reactions['ACONTa'].genes)"
   ],
   "metadata": {
    "collapsed": false
   }
  },
  {
   "cell_type": "markdown",
   "source": [
    "## Regulatory Truth Table\n",
    "The regulatory truth table of a regulatory model contains the evaluation of all regulatory interactions.\n",
    "The **`mewpy.germ.analysis.regulatory_truth_table`** method creates the combination between the regulators and target genes given a regulatory model. This function returns a pandas `DataFrame` having the regulators' values in the columns and targets' outcome in the index."
   ],
   "metadata": {
    "collapsed": false
   }
  },
  {
   "cell_type": "code",
   "execution_count": 26,
   "outputs": [
    {
     "data": {
      "text/plain": "            result  surplusFDP  surplusPYR  b0113  b3261  b0400  pi_e  b4401  \\\nb0008            1         NaN         NaN    NaN    NaN    NaN   NaN    NaN   \nb0080            0         1.0         NaN    NaN    NaN    NaN   NaN    NaN   \nb0113            0         NaN         1.0    NaN    NaN    NaN   NaN    NaN   \nb0114            1         NaN         NaN    1.0    1.0    NaN   NaN    NaN   \nb0115            1         NaN         NaN    1.0    1.0    NaN   NaN    NaN   \n...            ...         ...         ...    ...    ...    ...   ...    ...   \nCRPnoGLM         0         NaN         NaN    NaN    NaN    NaN   NaN    NaN   \nNRI_hi           1         NaN         NaN    NaN    NaN    NaN   NaN    NaN   \nNRI_low          1         NaN         NaN    NaN    NaN    NaN   NaN    NaN   \nsurplusFDP       1         NaN         NaN    NaN    NaN    NaN   NaN    NaN   \nsurplusPYR       0         NaN         NaN    NaN    NaN    NaN   NaN    NaN   \n\n            b1334  b3357  ...  TALA  PGI  fru_e  ME2  ME1  GLCpts  PYK  PFK  \\\nb0008         NaN    NaN  ...   NaN  NaN    NaN  NaN  NaN     NaN  NaN  NaN   \nb0080         NaN    NaN  ...   NaN  NaN    NaN  NaN  NaN     NaN  NaN  NaN   \nb0113         NaN    NaN  ...   NaN  NaN    NaN  NaN  NaN     NaN  NaN  NaN   \nb0114         NaN    NaN  ...   NaN  NaN    NaN  NaN  NaN     NaN  NaN  NaN   \nb0115         NaN    NaN  ...   NaN  NaN    NaN  NaN  NaN     NaN  NaN  NaN   \n...           ...    ...  ...   ...  ...    ...  ...  ...     ...  ...  ...   \nCRPnoGLM      NaN    NaN  ...   NaN  NaN    NaN  NaN  NaN     NaN  NaN  NaN   \nNRI_hi        NaN    NaN  ...   NaN  NaN    NaN  NaN  NaN     NaN  NaN  NaN   \nNRI_low       NaN    NaN  ...   NaN  NaN    NaN  NaN  NaN     NaN  NaN  NaN   \nsurplusFDP    NaN    NaN  ...   1.0  1.0    1.0  NaN  NaN     NaN  NaN  NaN   \nsurplusPYR    NaN    NaN  ...   NaN  NaN    NaN  1.0  1.0     1.0  1.0  1.0   \n\n            LDH_D  SUCCt2_2  \nb0008         NaN       NaN  \nb0080         NaN       NaN  \nb0113         NaN       NaN  \nb0114         NaN       NaN  \nb0115         NaN       NaN  \n...           ...       ...  \nCRPnoGLM      NaN       NaN  \nNRI_hi        NaN       NaN  \nNRI_low       NaN       NaN  \nsurplusFDP    NaN       NaN  \nsurplusPYR    1.0       1.0  \n\n[159 rows x 46 columns]",
      "text/html": "<div>\n<style scoped>\n    .dataframe tbody tr th:only-of-type {\n        vertical-align: middle;\n    }\n\n    .dataframe tbody tr th {\n        vertical-align: top;\n    }\n\n    .dataframe thead th {\n        text-align: right;\n    }\n</style>\n<table border=\"1\" class=\"dataframe\">\n  <thead>\n    <tr style=\"text-align: right;\">\n      <th></th>\n      <th>result</th>\n      <th>surplusFDP</th>\n      <th>surplusPYR</th>\n      <th>b0113</th>\n      <th>b3261</th>\n      <th>b0400</th>\n      <th>pi_e</th>\n      <th>b4401</th>\n      <th>b1334</th>\n      <th>b3357</th>\n      <th>...</th>\n      <th>TALA</th>\n      <th>PGI</th>\n      <th>fru_e</th>\n      <th>ME2</th>\n      <th>ME1</th>\n      <th>GLCpts</th>\n      <th>PYK</th>\n      <th>PFK</th>\n      <th>LDH_D</th>\n      <th>SUCCt2_2</th>\n    </tr>\n  </thead>\n  <tbody>\n    <tr>\n      <th>b0008</th>\n      <td>1</td>\n      <td>NaN</td>\n      <td>NaN</td>\n      <td>NaN</td>\n      <td>NaN</td>\n      <td>NaN</td>\n      <td>NaN</td>\n      <td>NaN</td>\n      <td>NaN</td>\n      <td>NaN</td>\n      <td>...</td>\n      <td>NaN</td>\n      <td>NaN</td>\n      <td>NaN</td>\n      <td>NaN</td>\n      <td>NaN</td>\n      <td>NaN</td>\n      <td>NaN</td>\n      <td>NaN</td>\n      <td>NaN</td>\n      <td>NaN</td>\n    </tr>\n    <tr>\n      <th>b0080</th>\n      <td>0</td>\n      <td>1.0</td>\n      <td>NaN</td>\n      <td>NaN</td>\n      <td>NaN</td>\n      <td>NaN</td>\n      <td>NaN</td>\n      <td>NaN</td>\n      <td>NaN</td>\n      <td>NaN</td>\n      <td>...</td>\n      <td>NaN</td>\n      <td>NaN</td>\n      <td>NaN</td>\n      <td>NaN</td>\n      <td>NaN</td>\n      <td>NaN</td>\n      <td>NaN</td>\n      <td>NaN</td>\n      <td>NaN</td>\n      <td>NaN</td>\n    </tr>\n    <tr>\n      <th>b0113</th>\n      <td>0</td>\n      <td>NaN</td>\n      <td>1.0</td>\n      <td>NaN</td>\n      <td>NaN</td>\n      <td>NaN</td>\n      <td>NaN</td>\n      <td>NaN</td>\n      <td>NaN</td>\n      <td>NaN</td>\n      <td>...</td>\n      <td>NaN</td>\n      <td>NaN</td>\n      <td>NaN</td>\n      <td>NaN</td>\n      <td>NaN</td>\n      <td>NaN</td>\n      <td>NaN</td>\n      <td>NaN</td>\n      <td>NaN</td>\n      <td>NaN</td>\n    </tr>\n    <tr>\n      <th>b0114</th>\n      <td>1</td>\n      <td>NaN</td>\n      <td>NaN</td>\n      <td>1.0</td>\n      <td>1.0</td>\n      <td>NaN</td>\n      <td>NaN</td>\n      <td>NaN</td>\n      <td>NaN</td>\n      <td>NaN</td>\n      <td>...</td>\n      <td>NaN</td>\n      <td>NaN</td>\n      <td>NaN</td>\n      <td>NaN</td>\n      <td>NaN</td>\n      <td>NaN</td>\n      <td>NaN</td>\n      <td>NaN</td>\n      <td>NaN</td>\n      <td>NaN</td>\n    </tr>\n    <tr>\n      <th>b0115</th>\n      <td>1</td>\n      <td>NaN</td>\n      <td>NaN</td>\n      <td>1.0</td>\n      <td>1.0</td>\n      <td>NaN</td>\n      <td>NaN</td>\n      <td>NaN</td>\n      <td>NaN</td>\n      <td>NaN</td>\n      <td>...</td>\n      <td>NaN</td>\n      <td>NaN</td>\n      <td>NaN</td>\n      <td>NaN</td>\n      <td>NaN</td>\n      <td>NaN</td>\n      <td>NaN</td>\n      <td>NaN</td>\n      <td>NaN</td>\n      <td>NaN</td>\n    </tr>\n    <tr>\n      <th>...</th>\n      <td>...</td>\n      <td>...</td>\n      <td>...</td>\n      <td>...</td>\n      <td>...</td>\n      <td>...</td>\n      <td>...</td>\n      <td>...</td>\n      <td>...</td>\n      <td>...</td>\n      <td>...</td>\n      <td>...</td>\n      <td>...</td>\n      <td>...</td>\n      <td>...</td>\n      <td>...</td>\n      <td>...</td>\n      <td>...</td>\n      <td>...</td>\n      <td>...</td>\n      <td>...</td>\n    </tr>\n    <tr>\n      <th>CRPnoGLM</th>\n      <td>0</td>\n      <td>NaN</td>\n      <td>NaN</td>\n      <td>NaN</td>\n      <td>NaN</td>\n      <td>NaN</td>\n      <td>NaN</td>\n      <td>NaN</td>\n      <td>NaN</td>\n      <td>NaN</td>\n      <td>...</td>\n      <td>NaN</td>\n      <td>NaN</td>\n      <td>NaN</td>\n      <td>NaN</td>\n      <td>NaN</td>\n      <td>NaN</td>\n      <td>NaN</td>\n      <td>NaN</td>\n      <td>NaN</td>\n      <td>NaN</td>\n    </tr>\n    <tr>\n      <th>NRI_hi</th>\n      <td>1</td>\n      <td>NaN</td>\n      <td>NaN</td>\n      <td>NaN</td>\n      <td>NaN</td>\n      <td>NaN</td>\n      <td>NaN</td>\n      <td>NaN</td>\n      <td>NaN</td>\n      <td>NaN</td>\n      <td>...</td>\n      <td>NaN</td>\n      <td>NaN</td>\n      <td>NaN</td>\n      <td>NaN</td>\n      <td>NaN</td>\n      <td>NaN</td>\n      <td>NaN</td>\n      <td>NaN</td>\n      <td>NaN</td>\n      <td>NaN</td>\n    </tr>\n    <tr>\n      <th>NRI_low</th>\n      <td>1</td>\n      <td>NaN</td>\n      <td>NaN</td>\n      <td>NaN</td>\n      <td>NaN</td>\n      <td>NaN</td>\n      <td>NaN</td>\n      <td>NaN</td>\n      <td>NaN</td>\n      <td>NaN</td>\n      <td>...</td>\n      <td>NaN</td>\n      <td>NaN</td>\n      <td>NaN</td>\n      <td>NaN</td>\n      <td>NaN</td>\n      <td>NaN</td>\n      <td>NaN</td>\n      <td>NaN</td>\n      <td>NaN</td>\n      <td>NaN</td>\n    </tr>\n    <tr>\n      <th>surplusFDP</th>\n      <td>1</td>\n      <td>NaN</td>\n      <td>NaN</td>\n      <td>NaN</td>\n      <td>NaN</td>\n      <td>NaN</td>\n      <td>NaN</td>\n      <td>NaN</td>\n      <td>NaN</td>\n      <td>NaN</td>\n      <td>...</td>\n      <td>1.0</td>\n      <td>1.0</td>\n      <td>1.0</td>\n      <td>NaN</td>\n      <td>NaN</td>\n      <td>NaN</td>\n      <td>NaN</td>\n      <td>NaN</td>\n      <td>NaN</td>\n      <td>NaN</td>\n    </tr>\n    <tr>\n      <th>surplusPYR</th>\n      <td>0</td>\n      <td>NaN</td>\n      <td>NaN</td>\n      <td>NaN</td>\n      <td>NaN</td>\n      <td>NaN</td>\n      <td>NaN</td>\n      <td>NaN</td>\n      <td>NaN</td>\n      <td>NaN</td>\n      <td>...</td>\n      <td>NaN</td>\n      <td>NaN</td>\n      <td>NaN</td>\n      <td>1.0</td>\n      <td>1.0</td>\n      <td>1.0</td>\n      <td>1.0</td>\n      <td>1.0</td>\n      <td>1.0</td>\n      <td>1.0</td>\n    </tr>\n  </tbody>\n</table>\n<p>159 rows × 46 columns</p>\n</div>"
     },
     "execution_count": 26,
     "metadata": {},
     "output_type": "execute_result"
    }
   ],
   "source": [
    "# regulatory truth table for the regulatory model\n",
    "reg_model = read_model(core_trn_reader)\n",
    "regulatory_truth_table(reg_model)"
   ],
   "metadata": {
    "collapsed": false
   }
  },
  {
   "cell_type": "markdown",
   "source": [
    "## RFBA\n",
    "**`RFBA`** is a phenotype simulation method based on the integration of a GEM model with a TRN at the genome-scale. The TRN consists of a set of regulatory interactions formulated with boolean and propositional logic. The TRN contains a boolean algebra expression for each target gene. This boolean rule determines whether the target gene is active (1) or not (0) according to the state of the regulators (active or inactive). Then, the TRN is integrated with the GEM model using the reactions' GPR rules. It is also common to find metabolites and reactions as regulators/environmental stimuli in the TRN, completing the integration with the GEM model.\n",
    "\n",
    "In **`RFBA`**, a synchronous evaluation of all regulatory interactions in the regulatory model is performed first. This first simulation is used to retrieve the regulatory state (regulators' coefficients). Then, the regulatory state is translated into a metabolic state (metabolic genes' coefficients) by performing another synchronous evaluation of all regulatory interactions in the regulatory model. Finally, the resulting metabolic state is used to decode the constraints imposed by the regulatory model upon evaluation of the reactions' GPRs with the targets' state.\n",
    "\n",
    "**`RFBA`** supports steady-state or dynamic phenotype simulations. Dynamic **`RFBA`** simulation performs sequential optimizations while the regulatory state is updated each time using the reactions and metabolites coefficients of the previous optimization. Dynamic **`RFBA`** simulation stops when two identical solutions are found.\n",
    "\n",
    "**`RFBA`** is available in the **`mewpy.germ.analysis`** package. Alternatively, one can use the simple and optimized version **`slim_rfba`**.\n",
    "\n",
    "For more details consult: [https://doi.org/10.1038/nature02456](https://doi.org/10.1038/nature02456).\n",
    "\n",
    "For this example we will be using _E. coli_ iMC1010 model available at _models/regulation/iJR904_srfba.xml_ and _models/regulation/iMC1010.csv_"
   ],
   "metadata": {
    "collapsed": false
   }
  },
  {
   "cell_type": "code",
   "execution_count": 27,
   "outputs": [
    {
     "data": {
      "text/plain": "Model iJR904 - Reed2003 - Genome-scale metabolic network of Escherichia coli (iJR904)",
      "text/html": "\n            <table>\n                <tr>\n                    <th><b>Model</b></th>\n                    <td>iJR904</td>\n                </tr>\n                <tr>\n                    <th>Name</th>\n                    <td>Reed2003 - Genome-scale metabolic network of Escherichia coli (iJR904)</td>\n                </tr>\n                <tr>\n                    <th>Types</th>\n                    <td>regulatory, metabolic</td>\n                </tr>\n                <tr>\n                    <th>Compartments</th>\n                    <td>e, c</td>\n                </tr>\n                <tr>\n                    <th>Reactions</th>\n                    <td>1083</td>\n                </tr>\n                <tr>\n                    <th>Metabolites</th>\n                    <td>768</td>\n                </tr>\n                <tr>\n                    <th>Genes</th>\n                    <td>904</td>\n                </tr>\n                <tr>\n                    <th>Exchanges</th>\n                    <td>150</td>\n                </tr>\n                <tr>\n                    <th>Demands</th>\n                    <td>0</td>\n                </tr>\n                <tr>\n                    <th>Sinks</th>\n                    <td>0</td>\n                </tr>\n                <tr>\n                    <th>Objective</th>\n                    <td>BiomassEcoli</td>\n                </tr>\n                <tr>\n                    <th>Regulatory interactions</th>\n                    <td>1010</td>\n                </tr>\n                <tr>\n                    <th>Targets</th>\n                    <td>1010</td>\n                </tr>\n                <tr>\n                    <th>Regulators</th>\n                    <td>232</td>\n                </tr>\n                <tr>\n                    <th>Regulatory reactions</th>\n                    <td>22</td>\n                </tr>\n                <tr>\n                    <th>Regulatory metabolites</th>\n                    <td>96</td>\n                </tr>\n                <tr>\n                    <th>Environmental stimuli</th>\n                    <td>11</td>\n                </tr>\n            </table>\n            "
     },
     "execution_count": 27,
     "metadata": {},
     "output_type": "execute_result"
    }
   ],
   "source": [
    "# loading model\n",
    "model = read_model(imc1010_gem_reader, imc1010_trn_reader)\n",
    "\n",
    "# objective function\n",
    "BIOMASS_ID = 'BiomassEcoli'\n",
    "model.objective = {BIOMASS_ID: 1}\n",
    "model"
   ],
   "metadata": {
    "collapsed": false
   }
  },
  {
   "cell_type": "markdown",
   "source": [
    "**`RFBA`** can be simulated using an initial regulatory state. This initial state will be considered during the synchronous evaluation of all regulatory interactions in the regulatory model and determine the metabolic state. The set-up of the regulators' initial state in integrated models is a difficult task. Most of the time, the initial state is not known and hinders feasible solutions during simulation. If the initial state is not provided to RFBA, this method will consider that all regulators are active. However, this initial state is clearly not the best, as many essential reactions can be switched off.\n",
    "<br>\n",
    "To relax some constraints, the initial state of a regulatory metabolite is inferred from its exchange reaction, namely the absolute value of the lower bound. Likewise, the initial state of a regulatory reaction is inferred from its upper bound. Even so, this initial state is likely to yield infeasible solutions.\n",
    "<br>\n",
    "### Find conflicts\n",
    "To mitigate these conflicts between the regulatory and metabolic state, one can use the **`mewpy.germ.analysis.find_conflicts()`** method to ease the set-up of the initial state. This method can be used to find regulatory states that affect the growth of the cell. It tries to find the regulatory states that lead to knockouts of essential genes and deletion of essential reactions.\n",
    "Note that, **`find_conflicts()`** results should be carefully analyzed, as this method does not detect indirect conflicts. Please consult the method for more details and the example bellow."
   ],
   "metadata": {
    "collapsed": false
   }
  },
  {
   "cell_type": "code",
   "execution_count": 28,
   "outputs": [
    {
     "data": {
      "text/plain": "                       interaction  b0676  Stringent  b4390\nb3730           b3730 || 1 = b0676    0.0        NaN    NaN\nb1092  b1092 || 1 = ( ~ Stringent)    NaN        1.0    NaN\nb2574      b2574 || 1 = ( ~ b4390)    NaN        NaN    1.0",
      "text/html": "<div>\n<style scoped>\n    .dataframe tbody tr th:only-of-type {\n        vertical-align: middle;\n    }\n\n    .dataframe tbody tr th {\n        vertical-align: top;\n    }\n\n    .dataframe thead th {\n        text-align: right;\n    }\n</style>\n<table border=\"1\" class=\"dataframe\">\n  <thead>\n    <tr style=\"text-align: right;\">\n      <th></th>\n      <th>interaction</th>\n      <th>b0676</th>\n      <th>Stringent</th>\n      <th>b4390</th>\n    </tr>\n  </thead>\n  <tbody>\n    <tr>\n      <th>b3730</th>\n      <td>b3730 || 1 = b0676</td>\n      <td>0.0</td>\n      <td>NaN</td>\n      <td>NaN</td>\n    </tr>\n    <tr>\n      <th>b1092</th>\n      <td>b1092 || 1 = ( ~ Stringent)</td>\n      <td>NaN</td>\n      <td>1.0</td>\n      <td>NaN</td>\n    </tr>\n    <tr>\n      <th>b2574</th>\n      <td>b2574 || 1 = ( ~ b4390)</td>\n      <td>NaN</td>\n      <td>NaN</td>\n      <td>1.0</td>\n    </tr>\n  </tbody>\n</table>\n</div>"
     },
     "execution_count": 28,
     "metadata": {},
     "output_type": "execute_result"
    }
   ],
   "source": [
    "# we can see that 3 regulators are affecting the following essential genes: b2574; b1092; b3730\n",
    "repressed_genes, repressed_reactions = find_conflicts(model)\n",
    "repressed_genes"
   ],
   "metadata": {
    "collapsed": false
   }
  },
  {
   "cell_type": "markdown",
   "source": [
    "**`find_conflicts()`** suggests that three essential genes (_b2574_; _b1092_; _b3730_) are being affected by three regulators (_b4390_, _Stringent_, _b0676_). However, some regulators do not affect growth directly, as they are being regulated by other regulators, environmental stimuli, metabolites and reactions."
   ],
   "metadata": {
    "collapsed": false
   }
  },
  {
   "cell_type": "code",
   "execution_count": 29,
   "outputs": [
    {
     "data": {
      "text/plain": "b4390 || (0.0, 1.0)",
      "text/html": "\n            <table>\n                <tr><th>Identifier</th><td>b4390</td></tr><tr><th>Name</th><td>b4390</td></tr><tr><th>Aliases</th><td>NadR, nadr, nadR, b4390</td></tr><tr><th>Model</th><td>iJR904</td></tr><tr><th>Types</th><td>regulator, target</td></tr><tr><th>Coefficients</th><td>(0.0, 1.0)</td></tr><tr><th>Active</th><td>True</td></tr><tr><th>Interactions</th><td>b0931_interaction, b2574_interaction</td></tr><tr><th>Targets</th><td>b0931, b2574</td></tr><tr><th>Environmental stimulus</th><td>False</td></tr><tr><th>Interaction</th><td>b4390 || 1 = high-NAD</td></tr><tr><th>Regulators</th><td>high-NAD</td></tr>\n            </table>\n        "
     },
     "execution_count": 29,
     "metadata": {},
     "output_type": "execute_result"
    }
   ],
   "source": [
    "# regulator-target b4390 is active in high-NAD conditions (environmental stimuli)\n",
    "model.get('b4390')"
   ],
   "metadata": {
    "collapsed": false
   }
  },
  {
   "cell_type": "code",
   "execution_count": 30,
   "outputs": [
    {
     "data": {
      "text/plain": "b0676 || (0.0, 1.0)",
      "text/html": "\n            <table>\n                <tr><th>Identifier</th><td>b0676</td></tr><tr><th>Name</th><td>b0676</td></tr><tr><th>Aliases</th><td>nagC, nagc, NagC, b0676</td></tr><tr><th>Model</th><td>iJR904</td></tr><tr><th>Types</th><td>regulator, target</td></tr><tr><th>Coefficients</th><td>(0.0, 1.0)</td></tr><tr><th>Active</th><td>True</td></tr><tr><th>Interactions</th><td>b0677_interaction, b0678_interaction, b0679_interaction, b3730_interaction</td></tr><tr><th>Targets</th><td>b0677, b0678, b0679, b3730</td></tr><tr><th>Environmental stimulus</th><td>False</td></tr><tr><th>Interaction</th><td>b0676 || 1 = ( ~ ((acgam_e > 0) | (AGDC > 0)))</td></tr><tr><th>Regulators</th><td>acgam_e, AGDC</td></tr>\n            </table>\n        "
     },
     "execution_count": 30,
     "metadata": {},
     "output_type": "execute_result"
    }
   ],
   "source": [
    "# regulator-target b0676 is active if both acgam metabolite and AGDC reaction are inactive (cannot carry flux)\n",
    "model.get('b0676')"
   ],
   "metadata": {
    "collapsed": false
   }
  },
  {
   "cell_type": "code",
   "execution_count": 31,
   "outputs": [
    {
     "data": {
      "text/plain": "RFBA Solution\n Objective value: 0.8517832811766191\n Status: optimal",
      "text/html": "\n        <table>\n            <tr>\n                <td>Method</td>\n                <td>RFBA</td>\n            </tr>\n            <tr>\n                <td>Model</td>\n                <td>Model iJR904 - Reed2003 - Genome-scale metabolic network of Escherichia coli (iJR904)</td>\n            </tr>\n            <tr>\n                <th>Objective</th>\n                <td>BiomassEcoli</td>\n            </tr>\n            <tr>\n                <th>Objective value</th>\n                <td>0.8517832811766191</td>\n            </tr>\n            <tr>\n                <th>Status</th>\n                <td>optimal</td>\n            </tr>\n        </table>\n        "
     },
     "execution_count": 31,
     "metadata": {},
     "output_type": "execute_result"
    }
   ],
   "source": [
    "# initial state inferred from the find_conflicts method.\n",
    "initial_state = {\n",
    "    'Stringent': 0.0,\n",
    "    'high-NAD': 0.0,\n",
    "    'AGDC': 0.0,\n",
    "}\n",
    "\n",
    "# steady-state RFBA\n",
    "rfba = RFBA(model).build()\n",
    "solution = rfba.optimize(initial_state=initial_state)\n",
    "solution"
   ],
   "metadata": {
    "collapsed": false
   }
  },
  {
   "cell_type": "code",
   "execution_count": 32,
   "outputs": [
    {
     "data": {
      "text/plain": "0.8517832811766191"
     },
     "execution_count": 32,
     "metadata": {},
     "output_type": "execute_result"
    }
   ],
   "source": [
    "# using the slim version\n",
    "slim_rfba(model, initial_state=initial_state)"
   ],
   "metadata": {
    "collapsed": false
   }
  },
  {
   "cell_type": "code",
   "execution_count": 33,
   "outputs": [
    {
     "data": {
      "text/plain": "{'t_0': RFBA Solution\n  Objective value: 0.8517832812011552\n  Status: optimal,\n 't_1': RFBA Solution\n  Objective value: 0.5898746223794296\n  Status: optimal,\n 't_2': RFBA Solution\n  Objective value: 0.5476893156457431\n  Status: optimal,\n 't_3': RFBA Solution\n  Objective value: 0.5476893156724856\n  Status: optimal,\n 't_4': RFBA Solution\n  Objective value: 0.5476893156724856\n  Status: optimal}"
     },
     "execution_count": 33,
     "metadata": {},
     "output_type": "execute_result"
    }
   ],
   "source": [
    "# dynamic RFBA\n",
    "dynamic_solution = rfba.optimize(initial_state=initial_state, dynamic=True)\n",
    "dynamic_solution.solutions"
   ],
   "metadata": {
    "collapsed": false
   }
  },
  {
   "cell_type": "markdown",
   "source": [
    "## SRFBA\n",
    "**`SRFBA`** is a phenotype simulation method based on the integration of a GEM model with a TRN at the genome-scale. The TRN consists of a set of regulatory interactions formulated with boolean and propositional logic. The TRN contains a boolean algebra expression for each target gene. This boolean rule determines whether the target gene is active (1) or not (0) according to the state of the regulators (active or inactive). Then, the TRN is integrated with the GEM model using the reactions' GPR rules. It is also common to find metabolites and reactions as regulators/environmental stimuli in the TRN, completing the integration with the GEM model.\n",
    "\n",
    "**`SRFBA`** performs a single steady-state simulation using both metabolic and regulatory constraints found in the integrated model. This method uses Mixed-Integer Linear Programming to solve nested boolean algebra expressions formulated from the structure of the regulatory layer (regulatory interactions) and metabolic layer (GPR rules). Hence, this method adds auxiliary variables representing intermediate boolean variables and operators. Finally, the linear problem also includes a boolean variable and constraint for each reaction linking the outcome of the interactions and GPR constraints to the mass balance constraints.\n",
    "\n",
    "**`SRFBA`** only supports steady-state simulations.\n",
    "\n",
    "**`SRFBA`** is available in the **`mewpy.germ.analysis`** package. Alternatively, one can use the simple and optimized version **`slim_srfba`**.\n",
    "\n",
    "For more details consult: [https://doi.org/10.1038%2Fmsb4100141](https://doi.org/10.1038%2Fmsb4100141).\n",
    "\n",
    "For this example we will be using _E. coli_ iMC1010 model available at _models/regulation/iJR904_srfba.xml_ and _models/regulation/iMC1010.csv_"
   ],
   "metadata": {
    "collapsed": false
   }
  },
  {
   "cell_type": "code",
   "execution_count": 34,
   "outputs": [
    {
     "data": {
      "text/plain": "Model iJR904 - Reed2003 - Genome-scale metabolic network of Escherichia coli (iJR904)",
      "text/html": "\n            <table>\n                <tr>\n                    <th><b>Model</b></th>\n                    <td>iJR904</td>\n                </tr>\n                <tr>\n                    <th>Name</th>\n                    <td>Reed2003 - Genome-scale metabolic network of Escherichia coli (iJR904)</td>\n                </tr>\n                <tr>\n                    <th>Types</th>\n                    <td>regulatory, metabolic</td>\n                </tr>\n                <tr>\n                    <th>Compartments</th>\n                    <td>e, c</td>\n                </tr>\n                <tr>\n                    <th>Reactions</th>\n                    <td>1083</td>\n                </tr>\n                <tr>\n                    <th>Metabolites</th>\n                    <td>768</td>\n                </tr>\n                <tr>\n                    <th>Genes</th>\n                    <td>904</td>\n                </tr>\n                <tr>\n                    <th>Exchanges</th>\n                    <td>150</td>\n                </tr>\n                <tr>\n                    <th>Demands</th>\n                    <td>0</td>\n                </tr>\n                <tr>\n                    <th>Sinks</th>\n                    <td>0</td>\n                </tr>\n                <tr>\n                    <th>Objective</th>\n                    <td>BiomassEcoli</td>\n                </tr>\n                <tr>\n                    <th>Regulatory interactions</th>\n                    <td>1010</td>\n                </tr>\n                <tr>\n                    <th>Targets</th>\n                    <td>1010</td>\n                </tr>\n                <tr>\n                    <th>Regulators</th>\n                    <td>232</td>\n                </tr>\n                <tr>\n                    <th>Regulatory reactions</th>\n                    <td>22</td>\n                </tr>\n                <tr>\n                    <th>Regulatory metabolites</th>\n                    <td>96</td>\n                </tr>\n                <tr>\n                    <th>Environmental stimuli</th>\n                    <td>11</td>\n                </tr>\n            </table>\n            "
     },
     "execution_count": 34,
     "metadata": {},
     "output_type": "execute_result"
    }
   ],
   "source": [
    "# loading model\n",
    "model = read_model(imc1010_gem_reader, imc1010_trn_reader)\n",
    "\n",
    "# objective function\n",
    "BIOMASS_ID = 'BiomassEcoli'\n",
    "model.objective = {BIOMASS_ID: 1}\n",
    "model"
   ],
   "metadata": {
    "collapsed": false
   }
  },
  {
   "cell_type": "markdown",
   "source": [
    "**`SRFBA`** does not need an initial state in most cases, as this method performs a steady-state simulation using MILP. The solver tries to find the regulatory state favoring reactions that contribute to faster growth rates. Accordingly, regulatory variables can take values between zero and one."
   ],
   "metadata": {
    "collapsed": false
   }
  },
  {
   "cell_type": "code",
   "execution_count": 35,
   "outputs": [
    {
     "data": {
      "text/plain": "SRFBA Solution\n Objective value: 0.8218562181811009\n Status: optimal",
      "text/html": "\n        <table>\n            <tr>\n                <td>Method</td>\n                <td>SRFBA</td>\n            </tr>\n            <tr>\n                <td>Model</td>\n                <td>Model iJR904 - Reed2003 - Genome-scale metabolic network of Escherichia coli (iJR904)</td>\n            </tr>\n            <tr>\n                <th>Objective</th>\n                <td>BiomassEcoli</td>\n            </tr>\n            <tr>\n                <th>Objective value</th>\n                <td>0.8218562181811009</td>\n            </tr>\n            <tr>\n                <th>Status</th>\n                <td>optimal</td>\n            </tr>\n        </table>\n        "
     },
     "execution_count": 35,
     "metadata": {},
     "output_type": "execute_result"
    }
   ],
   "source": [
    "# steady-state SRFBA\n",
    "srfba = SRFBA(model).build()\n",
    "solution = srfba.optimize()\n",
    "solution"
   ],
   "metadata": {
    "collapsed": false
   }
  },
  {
   "cell_type": "code",
   "execution_count": 36,
   "outputs": [
    {
     "data": {
      "text/plain": "0.8218562181811009"
     },
     "execution_count": 36,
     "metadata": {},
     "output_type": "execute_result"
    }
   ],
   "source": [
    "# using the slim version\n",
    "slim_srfba(model)"
   ],
   "metadata": {
    "collapsed": false
   }
  },
  {
   "cell_type": "markdown",
   "source": [
    "## iFVA and iDeletions\n",
    "The `mewpy.germ.analysis` package includes an integrated version of the **`FVA`** method named **`iFVA`**. This method can be used to inspect the solution space of an integrated GERM model.\n",
    "**`iFVA`** computes the minimum and maximum possible fluxes of each reaction in a metabolic model using one of the integrated analysis mentioned above (**`RFBA`** or **`SRFBA`**). This method return a pandas `DataFrame` with the minium and maximum fluxes (columns) for each reaction (index).\n",
    "<br>\n",
    "The `mewpy.germ.analysis` package also includes **`isingle_gene_deletion`**, **`isingle_reaction_deletion`**, and **`isingle_regulator_deletion`** methods to inspect _in silico_ genetic strategies in integrated GERM models."
   ],
   "metadata": {
    "collapsed": false
   }
  },
  {
   "cell_type": "code",
   "execution_count": 37,
   "outputs": [
    {
     "data": {
      "text/plain": "Model iJR904 - Reed2003 - Genome-scale metabolic network of Escherichia coli (iJR904)",
      "text/html": "\n            <table>\n                <tr>\n                    <th><b>Model</b></th>\n                    <td>iJR904</td>\n                </tr>\n                <tr>\n                    <th>Name</th>\n                    <td>Reed2003 - Genome-scale metabolic network of Escherichia coli (iJR904)</td>\n                </tr>\n                <tr>\n                    <th>Types</th>\n                    <td>regulatory, metabolic</td>\n                </tr>\n                <tr>\n                    <th>Compartments</th>\n                    <td>e, c</td>\n                </tr>\n                <tr>\n                    <th>Reactions</th>\n                    <td>1083</td>\n                </tr>\n                <tr>\n                    <th>Metabolites</th>\n                    <td>768</td>\n                </tr>\n                <tr>\n                    <th>Genes</th>\n                    <td>904</td>\n                </tr>\n                <tr>\n                    <th>Exchanges</th>\n                    <td>150</td>\n                </tr>\n                <tr>\n                    <th>Demands</th>\n                    <td>0</td>\n                </tr>\n                <tr>\n                    <th>Sinks</th>\n                    <td>0</td>\n                </tr>\n                <tr>\n                    <th>Objective</th>\n                    <td>BiomassEcoli</td>\n                </tr>\n                <tr>\n                    <th>Regulatory interactions</th>\n                    <td>1010</td>\n                </tr>\n                <tr>\n                    <th>Targets</th>\n                    <td>1010</td>\n                </tr>\n                <tr>\n                    <th>Regulators</th>\n                    <td>232</td>\n                </tr>\n                <tr>\n                    <th>Regulatory reactions</th>\n                    <td>22</td>\n                </tr>\n                <tr>\n                    <th>Regulatory metabolites</th>\n                    <td>96</td>\n                </tr>\n                <tr>\n                    <th>Environmental stimuli</th>\n                    <td>11</td>\n                </tr>\n            </table>\n            "
     },
     "execution_count": 37,
     "metadata": {},
     "output_type": "execute_result"
    }
   ],
   "source": [
    "# loading model\n",
    "model = read_model(imc1010_gem_reader, imc1010_trn_reader)\n",
    "\n",
    "# objective function\n",
    "BIOMASS_ID = 'BiomassEcoli'\n",
    "model.objective = {BIOMASS_ID: 1}\n",
    "model"
   ],
   "metadata": {
    "collapsed": false
   }
  },
  {
   "cell_type": "code",
   "execution_count": 38,
   "outputs": [
    {
     "data": {
      "text/plain": "               minimum   maximum\n12PPDt   -2.328306e-10  0.000000\n2DGLCNRx  0.000000e+00  0.000000\n2DGLCNRy  0.000000e+00  0.000000\n2DGULRx   0.000000e+00  0.000000\n2DGULRy   0.000000e+00  0.000000\n3HCINNMH  0.000000e+00  0.000000\n3HPPPNH   0.000000e+00  0.000000\n4HTHRS    0.000000e+00  0.000000\n5DGLCNR  -1.344363e+00  0.000000\nA5PISO    3.106617e-02  0.034518\nAACPS1   -9.197611e-12  0.055426\nAACPS2   -2.299403e-11  0.138565\nAACPS3   -1.655570e-10  0.997670\nAACPS4   -3.219164e-11  0.193991\nAACPS5   -2.299403e-10  1.385652",
      "text/html": "<div>\n<style scoped>\n    .dataframe tbody tr th:only-of-type {\n        vertical-align: middle;\n    }\n\n    .dataframe tbody tr th {\n        vertical-align: top;\n    }\n\n    .dataframe thead th {\n        text-align: right;\n    }\n</style>\n<table border=\"1\" class=\"dataframe\">\n  <thead>\n    <tr style=\"text-align: right;\">\n      <th></th>\n      <th>minimum</th>\n      <th>maximum</th>\n    </tr>\n  </thead>\n  <tbody>\n    <tr>\n      <th>12PPDt</th>\n      <td>-2.328306e-10</td>\n      <td>0.000000</td>\n    </tr>\n    <tr>\n      <th>2DGLCNRx</th>\n      <td>0.000000e+00</td>\n      <td>0.000000</td>\n    </tr>\n    <tr>\n      <th>2DGLCNRy</th>\n      <td>0.000000e+00</td>\n      <td>0.000000</td>\n    </tr>\n    <tr>\n      <th>2DGULRx</th>\n      <td>0.000000e+00</td>\n      <td>0.000000</td>\n    </tr>\n    <tr>\n      <th>2DGULRy</th>\n      <td>0.000000e+00</td>\n      <td>0.000000</td>\n    </tr>\n    <tr>\n      <th>3HCINNMH</th>\n      <td>0.000000e+00</td>\n      <td>0.000000</td>\n    </tr>\n    <tr>\n      <th>3HPPPNH</th>\n      <td>0.000000e+00</td>\n      <td>0.000000</td>\n    </tr>\n    <tr>\n      <th>4HTHRS</th>\n      <td>0.000000e+00</td>\n      <td>0.000000</td>\n    </tr>\n    <tr>\n      <th>5DGLCNR</th>\n      <td>-1.344363e+00</td>\n      <td>0.000000</td>\n    </tr>\n    <tr>\n      <th>A5PISO</th>\n      <td>3.106617e-02</td>\n      <td>0.034518</td>\n    </tr>\n    <tr>\n      <th>AACPS1</th>\n      <td>-9.197611e-12</td>\n      <td>0.055426</td>\n    </tr>\n    <tr>\n      <th>AACPS2</th>\n      <td>-2.299403e-11</td>\n      <td>0.138565</td>\n    </tr>\n    <tr>\n      <th>AACPS3</th>\n      <td>-1.655570e-10</td>\n      <td>0.997670</td>\n    </tr>\n    <tr>\n      <th>AACPS4</th>\n      <td>-3.219164e-11</td>\n      <td>0.193991</td>\n    </tr>\n    <tr>\n      <th>AACPS5</th>\n      <td>-2.299403e-10</td>\n      <td>1.385652</td>\n    </tr>\n  </tbody>\n</table>\n</div>"
     },
     "execution_count": 38,
     "metadata": {},
     "output_type": "execute_result"
    }
   ],
   "source": [
    "# iFVA of the first fifteen reactions using srfba (the default method). Fraction inferior to 1 (default) to relax the constraints\n",
    "reactions_ids = list(model.reactions)[:15]\n",
    "ifva(model, fraction=0.9, reactions=reactions_ids, method='srfba')"
   ],
   "metadata": {
    "collapsed": false
   }
  },
  {
   "cell_type": "markdown",
   "source": [
    "## PROM\n",
    "**`PROM`** is a probabilistic-based phenotype simulation method for integrated models. This method circumvents discrete constraints created by **`RFBA`** and **`SRFBA`**. This method uses a continuous approach: reactions' constraints are proportional to the probabilities of related genes being active. The probability of an active metabolic gene is inferred from the TRN and gene expression dataset. In detail, gene probability is calculated according to the number of samples that the gene is active when its regulator is inactive.\n",
    "\n",
    "**`PROM`** performs a single steady-state simulation using the probabilistic-based constraints to limit flux through some reactions. This method cannot perform wild-type phenotype simulations though, as probabilities are calculated for single regulator deletion. Hence, this method is adequate to predict the effect of regulator perturbations.\n",
    "\n",
    "**`PROM`** can generate a **`KOSolution`** containing the solution of each regulator knock-out.\n",
    "\n",
    "**`PROM`** is available in the **`mewpy.germ.analysis`** package. Alternatively, one can use the simple and optimized version **`slim_prom`**.\n",
    "\n",
    "For more details consult: [https://doi.org/10.1073/pnas.1005139107](https://doi.org/10.1073/pnas.1005139107).\n",
    "\n",
    "For this example we will be using _M. tuberculosis_ iNJ661 model available at _models/regulation/iNJ661.xml_, _models/regulation/iNJ661_trn.csv_, and _iNJ661_gene_expression.csv_."
   ],
   "metadata": {
    "collapsed": false
   }
  },
  {
   "cell_type": "code",
   "execution_count": 39,
   "outputs": [
    {
     "data": {
      "text/plain": "Model iNJ661 - M. tuberculosis iNJ661 model - Jamshidi et al 2007",
      "text/html": "\n            <table>\n                <tr>\n                    <th><b>Model</b></th>\n                    <td>iNJ661</td>\n                </tr>\n                <tr>\n                    <th>Name</th>\n                    <td>M. tuberculosis iNJ661 model - Jamshidi et al 2007</td>\n                </tr>\n                <tr>\n                    <th>Types</th>\n                    <td>regulatory, metabolic</td>\n                </tr>\n                <tr>\n                    <th>Compartments</th>\n                    <td>c, e</td>\n                </tr>\n                <tr>\n                    <th>Reactions</th>\n                    <td>1028</td>\n                </tr>\n                <tr>\n                    <th>Metabolites</th>\n                    <td>828</td>\n                </tr>\n                <tr>\n                    <th>Genes</th>\n                    <td>661</td>\n                </tr>\n                <tr>\n                    <th>Exchanges</th>\n                    <td>88</td>\n                </tr>\n                <tr>\n                    <th>Demands</th>\n                    <td>0</td>\n                </tr>\n                <tr>\n                    <th>Sinks</th>\n                    <td>0</td>\n                </tr>\n                <tr>\n                    <th>Objective</th>\n                    <td>biomass_Mtb_9_60atp_test_NOF</td>\n                </tr>\n                <tr>\n                    <th>Regulatory interactions</th>\n                    <td>178</td>\n                </tr>\n                <tr>\n                    <th>Targets</th>\n                    <td>178</td>\n                </tr>\n                <tr>\n                    <th>Regulators</th>\n                    <td>30</td>\n                </tr>\n                <tr>\n                    <th>Regulatory reactions</th>\n                    <td>0</td>\n                </tr>\n                <tr>\n                    <th>Regulatory metabolites</th>\n                    <td>0</td>\n                </tr>\n                <tr>\n                    <th>Environmental stimuli</th>\n                    <td>29</td>\n                </tr>\n            </table>\n            "
     },
     "execution_count": 39,
     "metadata": {},
     "output_type": "execute_result"
    }
   ],
   "source": [
    "# loading model\n",
    "model = read_model(inj661_gem_reader, inj661_trn_reader)\n",
    "\n",
    "# objective function\n",
    "BIOMASS_ID = 'biomass_Mtb_9_60atp_test_NOF'\n",
    "model.objective = {BIOMASS_ID: 1}\n",
    "model"
   ],
   "metadata": {
    "collapsed": false
   }
  },
  {
   "cell_type": "markdown",
   "source": [
    "**`PROM`** phenotype simulation requires an initial state that must be inferred from the TRN and gene expression dataset.\n",
    "Besides, the format of the initial state is slightly different from **`RFBA`** and **`SRFBA`** initial states. **`PROM`**'s initial state must be a dictionary in the following format:\n",
    "- keys -> tuple of regulator and target gene identifiers\n",
    "- value -> probability of this regulatory interaction inferred from the gene expression dataset\n",
    "\n",
    "<br>\n",
    "\n",
    "**`mewpy.omics`** package contains the required methods to perform a quantile preprocessing of the gene expression dataset. Then, one can use the `mewpy.germ.analysis.prom.target_regulator_interaction_probability()` method to infer **`PROM`**'s initial state\n"
   ],
   "metadata": {
    "collapsed": false
   }
  },
  {
   "cell_type": "code",
   "execution_count": 40,
   "outputs": [
    {
     "data": {
      "text/plain": "{('Rv3396c', 'Rv0001'): 1,\n ('Rv3396c', 'Rv3575c'): 0.5075528700906344,\n ('Rv3396c', 'Rv3676'): 1,\n ('Rv3411c', 'Rv0001'): 0.5421686746987951,\n ('Rv3411c', 'Rv3575c'): 1,\n ('Rv3411c', 'Rv3676'): 0.6416666666666667,\n ('Rv1908c', 'Rv0117'): 1,\n ('Rv1908c', 'Rv1909c'): 0.029411764705882353,\n ('Rv3913', 'Rv0117'): 1,\n ('Rv3913', 'Rv3223c'): 1,\n ('Rv0573c', 'Rv0212c'): 1,\n ('Rv0573c', 'Rv3133c'): 1,\n ('Rv1594', 'Rv0212c'): 1,\n ('Rv1595', 'Rv0212c'): 1,\n ('Rv1596', 'Rv0212c'): 1,\n ('Rv0252', 'Rv0353'): 1,\n ('Rv0252', 'Rv1221'): 1,\n ('Rv0252', 'Rv1785c'): 1,\n ('Rv0252', 'Rv3223c'): 1,\n ('Rv1018c', 'Rv0485'): 1,\n ('Rv1692', 'Rv0485'): 1,\n ('Rv1692', 'Rv3676'): 1,\n ('Rv3332', 'Rv0485'): 1,\n ('Rv3332', 'Rv3676'): 1,\n ('Rv3436c', 'Rv0485'): 1,\n ('Rv0820', 'Rv0491'): 0.5304878048780488,\n ('Rv0936', 'Rv0491'): 1,\n ('Rv0859', 'Rv0586'): 1,\n ('Rv0860', 'Rv0586'): 1,\n ('Rv0524', 'Rv0844c'): 1,\n ('Rv0524', 'Rv2711'): 1,\n ('Rv1029', 'Rv1027c'): 0.5689655172413793,\n ('Rv1030', 'Rv1027c'): 0.9137931034482759,\n ('Rv1031', 'Rv1027c'): 1,\n ('Rv0467', 'Rv1221'): 1,\n ('Rv0467', 'Rv1785c'): 1,\n ('Rv0468', 'Rv1221'): 1,\n ('Rv0468', 'Rv1785c'): 1,\n ('Rv1127c', 'Rv1221'): 1,\n ('Rv1127c', 'Rv1785c'): 1,\n ('Rv1131', 'Rv1221'): 1,\n ('Rv2443', 'Rv1221'): 1,\n ('Rv2443', 'Rv3676'): 1,\n ('Rv3793', 'Rv1267c'): 1,\n ('Rv3794', 'Rv1267c'): 0.47474747474747475,\n ('Rv3795', 'Rv1267c'): 1,\n ('Rv1380', 'Rv1657'): 1,\n ('Rv1381', 'Rv1657'): 1,\n ('Rv1383', 'Rv1657'): 1,\n ('Rv1385', 'Rv1657'): 1,\n ('Rv1652', 'Rv1657'): 1,\n ('Rv1653', 'Rv1657'): 1,\n ('Rv1654', 'Rv1657'): 1,\n ('Rv1655', 'Rv1657'): 1,\n ('Rv1656', 'Rv1657'): 1,\n ('Rv1659', 'Rv1657'): 1,\n ('Rv0253', 'Rv1785c'): 1,\n ('Rv1436', 'Rv1785c'): 1,\n ('Rv1436', 'Rv3676'): 1,\n ('Rv1437', 'Rv1785c'): 1,\n ('Rv1437', 'Rv3676'): 0.35,\n ('Rv1438', 'Rv1785c'): 1,\n ('Rv1438', 'Rv3676'): 1,\n ('Rv1617', 'Rv1785c'): 1,\n ('Rv2847c', 'Rv1785c'): 1,\n ('Rv2995c', 'Rv1785c'): 1,\n ('Rv2995c', 'Rv3291c'): 1,\n ('Rv1098c', 'Rv1931c'): 0.6203208556149733,\n ('Rv1099c', 'Rv1931c'): 1,\n ('Rv1445c', 'Rv1931c'): 1,\n ('Rv1447c', 'Rv1931c'): 1,\n ('Rv3846', 'Rv1931c'): 0.48663101604278075,\n ('Rv3846', 'Rv2359'): 0.6142857142857143,\n ('Rv0642c', 'Rv2069'): 0.09947643979057591,\n ('Rv0644c', 'Rv2069'): 1,\n ('Rv0951', 'Rv2069'): 0.4607329842931937,\n ('Rv0951', 'Rv3676'): 1,\n ('Rv0952', 'Rv2069'): 0.4816753926701571,\n ('Rv0952', 'Rv3676'): 1,\n ('Rv1731', 'Rv2069'): 0.5497382198952879,\n ('Rv2029c', 'Rv2069'): 0.8534031413612565,\n ('Rv2029c', 'Rv3133c'): 1,\n ('Rv3068c', 'Rv2069'): 0.7643979057591623,\n ('Rv3314c', 'Rv2069'): 0.743455497382199,\n ('Rv3314c', 'Rv3676'): 1,\n ('Rv3455c', 'Rv2069'): 0.2670157068062827,\n ('Rv1872c', 'Rv2359'): 1,\n ('Rv1928c', 'Rv2359'): 1,\n ('Rv2384', 'Rv2359'): 1,\n ('Rv2384', 'Rv2711'): 1,\n ('Rv2793c', 'Rv2359'): 1,\n ('Rv3215', 'Rv2359'): 1,\n ('Rv3229c', 'Rv2359'): 1,\n ('Rv0112', 'Rv2711'): 1,\n ('Rv0482', 'Rv2711'): 0.8235294117647058,\n ('Rv1347c', 'Rv2711'): 1,\n ('Rv1348', 'Rv2711'): 1,\n ('Rv1349', 'Rv2711'): 0.8235294117647058,\n ('Rv1843c', 'Rv2711'): 1,\n ('Rv1844c', 'Rv2711'): 1,\n ('Rv2121c', 'Rv2711'): 1,\n ('Rv2122c', 'Rv2711'): 1,\n ('Rv2378c', 'Rv2711'): 1,\n ('Rv2379c', 'Rv2711'): 1,\n ('Rv2380c', 'Rv2711'): 1,\n ('Rv2381c', 'Rv2711'): 1,\n ('Rv2382c', 'Rv2711'): 1,\n ('Rv2383c', 'Rv2711'): 1,\n ('Rv2386c', 'Rv2711'): 1,\n ('Rv3490', 'Rv2711'): 1,\n ('Rv3838c', 'Rv2711'): 1,\n ('Rv1695', 'Rv2720'): 1,\n ('Rv2344c', 'Rv2720'): 1,\n ('Rv1236', 'Rv3080c'): 1,\n ('Rv1236', 'Rv3676'): 0.7333333333333333,\n ('Rv1237', 'Rv3080c'): 1,\n ('Rv1237', 'Rv3676'): 0.5,\n ('Rv1238', 'Rv3080c'): 1,\n ('Rv1238', 'Rv3676'): 0.55,\n ('Rv1328', 'Rv3080c'): 1,\n ('Rv0082', 'Rv3133c'): 1,\n ('Rv1737c', 'Rv3133c'): 1,\n ('Rv2006', 'Rv3133c'): 1,\n ('Rv1336', 'Rv3223c'): 1,\n ('Rv1338', 'Rv3223c'): 1,\n ('Rv2465c', 'Rv3223c'): 0.68,\n ('Rv2467', 'Rv3223c'): 1,\n ('Rv1568', 'Rv3279c'): 1,\n ('Rv1589', 'Rv3279c'): 1,\n ('Rv0432', 'Rv3286c'): 0.33088235294117646,\n ('Rv1092c', 'Rv3286c'): 0.8161764705882353,\n ('Rv1092c', 'Rv3676'): 1,\n ('Rv0032', 'Rv3291c'): 0.43125,\n ('Rv0069c', 'Rv3291c'): 1,\n ('Rv0069c', 'Rv3575c'): 1,\n ('Rv0070c', 'Rv3291c'): 0.54375,\n ('Rv0070c', 'Rv3575c'): 1,\n ('Rv0189c', 'Rv3291c'): 1,\n ('Rv0884c', 'Rv3291c'): 1,\n ('Rv0884c', 'Rv3676'): 1,\n ('Rv1559', 'Rv3291c'): 1,\n ('Rv1826', 'Rv3291c'): 1,\n ('Rv1826', 'Rv3575c'): 0.256797583081571,\n ('Rv1832', 'Rv3291c'): 1,\n ('Rv1832', 'Rv3575c'): 1,\n ('Rv2210c', 'Rv3291c'): 1,\n ('Rv2211c', 'Rv3291c'): 0.4125,\n ('Rv2211c', 'Rv3575c'): 0.46827794561933533,\n ('Rv2987c', 'Rv3291c'): 1,\n ('Rv2988c', 'Rv3291c'): 1,\n ('Rv2996c', 'Rv3291c'): 0.24375,\n ('Rv3001c', 'Rv3291c'): 1,\n ('Rv3002c', 'Rv3291c'): 1,\n ('Rv3003c', 'Rv3291c'): 0.50625,\n ('Rv3710', 'Rv3291c'): 1,\n ('Rv3858c', 'Rv3291c'): 1,\n ('Rv3859c', 'Rv3291c'): 1,\n ('Rv1885c', 'Rv3414c'): 0.6948051948051948,\n ('Rv3534c', 'Rv3574'): 1,\n ('Rv3535c', 'Rv3574'): 0.2602739726027397,\n ('Rv0772', 'Rv3575c'): 1,\n ('Rv0777', 'Rv3575c'): 1,\n ('Rv0780', 'Rv3575c'): 1,\n ('Rv0803', 'Rv3575c'): 1,\n ('Rv0808', 'Rv3575c'): 1,\n ('Rv0809', 'Rv3575c'): 1,\n ('Rv0956', 'Rv3575c'): 0.525679758308157,\n ('Rv0957', 'Rv3575c'): 0.2054380664652568,\n ('Rv1017c', 'Rv3575c'): 1,\n ('Rv2139', 'Rv3575c'): 1,\n ('Rv2920c', 'Rv3575c'): 1,\n ('Rv3275c', 'Rv3575c'): 1,\n ('Rv3275c', 'Rv3676'): 0.7416666666666667,\n ('Rv3276c', 'Rv3575c'): 0.5045317220543807,\n ('Rv3276c', 'Rv3676'): 1,\n ('Rv0408', 'Rv3676'): 0.55,\n ('Rv0409', 'Rv3676'): 1,\n ('Rv0462', 'Rv3676'): 1,\n ('Rv0478', 'Rv3676'): 1,\n ('Rv0618', 'Rv3676'): 1,\n ('Rv0619', 'Rv3676'): 1,\n ('Rv0620', 'Rv3676'): 1,\n ('Rv0727c', 'Rv3676'): 1,\n ('Rv0805', 'Rv3676'): 1,\n ('Rv0896', 'Rv3676'): 1,\n ('Rv1185c', 'Rv3676'): 0.4,\n ('Rv1200', 'Rv3676'): 1,\n ('Rv1213', 'Rv3676'): 1,\n ('Rv1240', 'Rv3676'): 1,\n ('Rv1248c', 'Rv3676'): 0.6416666666666667,\n ('Rv1406', 'Rv3676'): 1,\n ('Rv1475c', 'Rv3676'): 1,\n ('Rv1538c', 'Rv3676'): 1,\n ('Rv1552', 'Rv3676'): 1,\n ('Rv1553', 'Rv3676'): 1,\n ('Rv1554', 'Rv3676'): 1,\n ('Rv2124c', 'Rv3676'): 0.5916666666666667,\n ('Rv2215', 'Rv3676'): 1,\n ('Rv2220', 'Rv3676'): 1,\n ('Rv2436', 'Rv3676'): 1,\n ('Rv2454c', 'Rv3676'): 1,\n ('Rv2455c', 'Rv3676'): 1,\n ('Rv2858c', 'Rv3676'): 1,\n ('Rv2859c', 'Rv3676'): 1,\n ('Rv2860c', 'Rv3676'): 1,\n ('Rv3302c', 'Rv3676'): 1,\n ('Rv3316', 'Rv3676'): 0.6,\n ('Rv3318', 'Rv3676'): 0.325,\n ('Rv3319', 'Rv3676'): 1,\n ('Rv3634c', 'Rv3676'): 1,\n ('Rv3696c', 'Rv3676'): 1,\n ('Rv0470c', 'Rv1395'): 1,\n ('Rv1511', 'Rv1395'): 1,\n ('Rv2178c', 'Rv1395'): 1,\n ('Rv2320c', 'Rv1395'): 1,\n ('Rv2321c', 'Rv1395'): 1,\n ('Rv2322c', 'Rv1395'): 1}"
     },
     "execution_count": 40,
     "metadata": {},
     "output_type": "execute_result"
    }
   ],
   "source": [
    "# computing PROM target-regulator interaction probabilities using quantile preprocessing pipeline\n",
    "from mewpy.omics import ExpressionSet\n",
    "\n",
    "expression = ExpressionSet.from_csv(file_path=inj661_gene_expression_path, sep=';', index_col=0, header=None)\n",
    "quantile_expression, binary_expression = expression.quantile_pipeline()\n",
    "initial_state, _ = target_regulator_interaction_probability(model,\n",
    "                                                            expression=quantile_expression,\n",
    "                                                            binary_expression=binary_expression)\n",
    "initial_state"
   ],
   "metadata": {
    "collapsed": false
   }
  },
  {
   "cell_type": "code",
   "execution_count": 41,
   "outputs": [
    {
     "data": {
      "text/plain": "{'ko_Rv0001': PROM Solution\n  Objective value: 0.028300772436183185\n  Status: optimal,\n 'ko_Rv3575c': PROM Solution\n  Objective value: 0.05219920249341635\n  Status: optimal,\n 'ko_Rv3676': PROM Solution\n  Objective value: 0.031174348712161924\n  Status: optimal,\n 'ko_Rv0117': PROM Solution\n  Objective value: 0.052199202493360616\n  Status: optimal,\n 'ko_Rv1909c': PROM Solution\n  Objective value: 0.05219920249340569\n  Status: optimal,\n 'ko_Rv3223c': PROM Solution\n  Objective value: 0.05219920249340569\n  Status: optimal,\n 'ko_Rv0212c': PROM Solution\n  Objective value: 0.05219920249340569\n  Status: optimal,\n 'ko_Rv3133c': PROM Solution\n  Objective value: 0.05219920249340569\n  Status: optimal,\n 'ko_Rv0353': PROM Solution\n  Objective value: 0.05219920249340569\n  Status: optimal,\n 'ko_Rv1221': PROM Solution\n  Objective value: 0.05219920249340569\n  Status: optimal,\n 'ko_Rv1785c': PROM Solution\n  Objective value: 0.05219920249340569\n  Status: optimal,\n 'ko_Rv0485': PROM Solution\n  Objective value: 0.05219920249340569\n  Status: optimal,\n 'ko_Rv0491': PROM Solution\n  Objective value: 0.05219920249340569\n  Status: optimal,\n 'ko_Rv0586': PROM Solution\n  Objective value: 0.05219920249340569\n  Status: optimal,\n 'ko_Rv0844c': PROM Solution\n  Objective value: 0.05219920249340569\n  Status: optimal,\n 'ko_Rv2711': PROM Solution\n  Objective value: 0.04298757852398052\n  Status: optimal,\n 'ko_Rv1027c': PROM Solution\n  Objective value: 0.05219920249340261\n  Status: optimal,\n 'ko_Rv1267c': PROM Solution\n  Objective value: 0.024781439567576537\n  Status: optimal,\n 'ko_Rv1657': PROM Solution\n  Objective value: 0.052199202493413435\n  Status: optimal,\n 'ko_Rv3291c': PROM Solution\n  Objective value: 0.0521992024934025\n  Status: optimal,\n 'ko_Rv1931c': PROM Solution\n  Objective value: 0.0521992024934025\n  Status: optimal,\n 'ko_Rv2359': PROM Solution\n  Objective value: 0.0521992024934025\n  Status: optimal,\n 'ko_Rv2069': PROM Solution\n  Objective value: 0.0521992024935258\n  Status: optimal,\n 'ko_Rv2720': PROM Solution\n  Objective value: 0.052199202493413435\n  Status: optimal,\n 'ko_Rv3080c': PROM Solution\n  Objective value: 0.0521992024934025\n  Status: optimal,\n 'ko_Rv3279c': PROM Solution\n  Objective value: 0.0521992024934025\n  Status: optimal,\n 'ko_Rv3286c': PROM Solution\n  Objective value: 0.0521992024934025\n  Status: optimal,\n 'ko_Rv3414c': PROM Solution\n  Objective value: 0.0521992024934025\n  Status: optimal,\n 'ko_Rv3574': PROM Solution\n  Objective value: 0.0521992024934025\n  Status: optimal,\n 'ko_Rv1395': PROM Solution\n  Objective value: 0.0521992024934025\n  Status: optimal}"
     },
     "execution_count": 41,
     "metadata": {},
     "output_type": "execute_result"
    }
   ],
   "source": [
    "# using PROM\n",
    "prom = PROM(model).build()\n",
    "solution = prom.optimize(initial_state=initial_state)\n",
    "solution.solutions"
   ],
   "metadata": {
    "collapsed": false
   }
  },
  {
   "cell_type": "code",
   "execution_count": 42,
   "outputs": [
    {
     "data": {
      "text/plain": "0.028300772436183185"
     },
     "execution_count": 42,
     "metadata": {},
     "output_type": "execute_result"
    }
   ],
   "source": [
    "# using the slim version. PROM's slim version performs a single KO only. If regulator is None, the first regulator is used.\n",
    "slim_prom(model, initial_state=initial_state, regulator='Rv0001')"
   ],
   "metadata": {
    "collapsed": false
   }
  },
  {
   "cell_type": "markdown",
   "source": [
    "## CoRegFlux\n",
    "**`CoRegFlux`** is a linear regression-based phenotype simulation method for integrated models. This method circumvents discrete constraints created by **`RFBA`** and **`SRFBA`**. **`CoRegFlux`** uses a continuous approach: reactions' constraints are proportional (using soft plus activation function) to the predicted expression of related genes. This method uses a linear regression model to predict the expression of a target gene as function of the co-expression of its regulators (co-activators and co-repressors). To train a linear regression model, **`CoRegFlux`** uses the target gene expression and regulators' influence scores* from a training dataset. Then, this model is used to make predictions of the target gene expression in the experiment (test) dataset.\n",
    "\n",
    "*Influence score is a correlation-based score for the activation or repression of a regulator inferred with CoRegNet available at [https://doi.org/10.1093/bioinformatics/btv305](https://doi.org/10.1093/bioinformatics/btv305).\n",
    "\n",
    "**`CoRegFlux`** performs a single steady-state simulation using the linear regression model predictions to limit flux through some reactions. Hence, this method can predict the phenotypic behavior of an organism in all environmental conditions available in the gene expression dataset. However, this method must use a different training dataset to infer regulators' influence scores and train the linear regression models. **`CoRegFlux`** can also perform dynamic simulations for a series of time steps. At each time step, dynamic **`CoRegFlux`** updates metabolite concentrations and biomass yield using the euler function. These values are then translated into additional constraints to be added to the steady-state simulation.\n",
    "\n",
    "**`CoRegFlux`** can generate a **`ModelSolution`** containing the solution for a single environmental condition in the experiment dataset. In addition, **`CoRegFlux`** can generate a **`DynamicSolution`** containing time-step solutions for a single environmental condition in the experiment dataset.\n",
    "\n",
    "**`CoRegFlux`** is available in the **`mewpy.germ.analysis`** package. Alternatively, one can use the simple and optimized version **`slim_coregflux`**.\n",
    "\n",
    "For more details consult: [https://doi.org/10.1186/s12918-017-0507-0](https://doi.org/10.1186/s12918-017-0507-0).\n",
    "\n",
    "For this example we will be using the following models and data:\n",
    "- _S. cerevisae_ iMM904 model available at _models/regulation/iMM904.xml_,\n",
    "- _S. cerevisae_ TRN inferred with CoRegNet and available at _models/regulation/iMM904_trn.csv_,\n",
    "- _S. cerevisae_ training gene expression dataset available at _models/regulation/iMM904_gene_expression.csv_,\n",
    "- _S. cerevisae_ influence scores inferred with CoRegNet in the gene expression dataset available at _models/regulation/iMM904_influence.csv_,\n",
    "- _S. cerevisae_ experiments gene expression dataset available at _models/regulation/iMM904_experiments.csv_."
   ],
   "metadata": {
    "collapsed": false
   }
  },
  {
   "cell_type": "code",
   "execution_count": 43,
   "outputs": [
    {
     "data": {
      "text/plain": "Model iMM904 - S. cerevisae iMM904 model - Mo et al 2009",
      "text/html": "\n            <table>\n                <tr>\n                    <th><b>Model</b></th>\n                    <td>iMM904</td>\n                </tr>\n                <tr>\n                    <th>Name</th>\n                    <td>S. cerevisae iMM904 model - Mo et al 2009</td>\n                </tr>\n                <tr>\n                    <th>Types</th>\n                    <td>regulatory, metabolic</td>\n                </tr>\n                <tr>\n                    <th>Compartments</th>\n                    <td>c, e, m, x, r, v, g, n</td>\n                </tr>\n                <tr>\n                    <th>Reactions</th>\n                    <td>1577</td>\n                </tr>\n                <tr>\n                    <th>Metabolites</th>\n                    <td>1226</td>\n                </tr>\n                <tr>\n                    <th>Genes</th>\n                    <td>905</td>\n                </tr>\n                <tr>\n                    <th>Exchanges</th>\n                    <td>164</td>\n                </tr>\n                <tr>\n                    <th>Demands</th>\n                    <td>0</td>\n                </tr>\n                <tr>\n                    <th>Sinks</th>\n                    <td>0</td>\n                </tr>\n                <tr>\n                    <th>Objective</th>\n                    <td>BIOMASS_SC5_notrace</td>\n                </tr>\n                <tr>\n                    <th>Regulatory interactions</th>\n                    <td>3748</td>\n                </tr>\n                <tr>\n                    <th>Targets</th>\n                    <td>3748</td>\n                </tr>\n                <tr>\n                    <th>Regulators</th>\n                    <td>201</td>\n                </tr>\n                <tr>\n                    <th>Regulatory reactions</th>\n                    <td>0</td>\n                </tr>\n                <tr>\n                    <th>Regulatory metabolites</th>\n                    <td>0</td>\n                </tr>\n                <tr>\n                    <th>Environmental stimuli</th>\n                    <td>199</td>\n                </tr>\n            </table>\n            "
     },
     "execution_count": 43,
     "metadata": {},
     "output_type": "execute_result"
    }
   ],
   "source": [
    "# loading model\n",
    "model = read_model(imm904_gem_reader, imm904_trn_reader)\n",
    "\n",
    "# objective function\n",
    "BIOMASS_ID = 'BIOMASS_SC5_notrace'\n",
    "model.objective = {BIOMASS_ID: 1}\n",
    "model"
   ],
   "metadata": {
    "collapsed": false
   }
  },
  {
   "cell_type": "markdown",
   "source": [
    "**`CoRegFlux`** phenotype simulation requires an initial state that must be inferred from the TRN, gene expression dataset, influence score matrix and experiments gene expression dataset. This initial state contains the predicted gene expression of target metabolic genes available in the GEM model.\n",
    "<br>\n",
    "**`mewpy.germ.analysis.coregflux`** module includes the tools to infer **`CoRegFlux`**'s initial state. These methods create the linear regression models to predict targets' expression according to the experiments gene expression dataset. One just have to load expression, influence and experiments CSV files using `mewpy.omics.ExpressionSet`.\n",
    "\n",
    "HINT: the `predict_gene_expression` method might be time-consuming for some gene expression datasets. One can save the predictions into a CSV file and then load it afterwards using `mewpy.omics.ExpressionSet.from_csv()`."
   ],
   "metadata": {
    "collapsed": false
   }
  },
  {
   "cell_type": "code",
   "execution_count": 44,
   "outputs": [
    {
     "data": {
      "text/plain": "         yB8n055.03II01.batch.p1  yB8n056.03II01.batch.p2  \\\nYMR056C                10.310906                 9.374551   \nYBR085W                 7.999073                 7.978798   \nYJR155W                 8.719261                 8.845556   \nYDL243C                 6.413120                 6.802390   \nYHR047C                 8.230008                 8.768411   \n...                          ...                      ...   \nYML002W                 7.757591                 7.533461   \nYML030W                10.530161                10.486551   \nYML053C                10.243145                10.102137   \nYML087C                 6.589562                 6.591232   \nYML119W                 7.448632                 7.390922   \n\n         yB8n057.03II01.batch.p3  yB8n058.03II01.batch.p4  \\\nYMR056C                 9.738155                 9.738831   \nYBR085W                 7.926310                 7.744950   \nYJR155W                 8.779802                 8.848888   \nYDL243C                 6.658224                 6.574777   \nYHR047C                 8.551748                 8.697505   \n...                          ...                      ...   \nYML002W                 7.617832                 7.536168   \nYML030W                10.464589                10.667886   \nYML053C                10.054621                10.076379   \nYML087C                 6.598206                 6.712599   \nYML119W                 7.420313                 7.306506   \n\n         yB8n059.03II01.batch.p5  yB8n060.03II01.batch.p6  \\\nYMR056C                10.383624                 9.973555   \nYBR085W                 7.655623                 7.433795   \nYJR155W                 8.970303                 8.862843   \nYDL243C                 5.948326                 6.198785   \nYHR047C                 8.882710                 9.125730   \n...                          ...                      ...   \nYML002W                 7.296171                 6.948933   \nYML030W                10.675506                10.908625   \nYML053C                10.088078                10.059266   \nYML087C                 6.727422                 6.741082   \nYML119W                 7.210466                 7.181304   \n\n         yB8n061.03II01.batch.p7  yB8n062.03II01.batch.p8  \\\nYMR056C                 9.627858                11.579884   \nYBR085W                 7.883342                 6.681351   \nYJR155W                 8.714360                 9.761043   \nYDL243C                 6.742563                 6.209202   \nYHR047C                 8.896929                 8.868654   \n...                          ...                      ...   \nYML002W                 7.461951                 7.456734   \nYML030W                10.757949                11.978087   \nYML053C                10.338693                10.617780   \nYML087C                 6.576150                 7.834831   \nYML119W                 7.290338                 6.707411   \n\n         yB8n063.03II01.batch.p9  yB8n064.03II01.batch.p10  \\\nYMR056C                11.163626                 11.706841   \nYBR085W                 6.955076                  6.468447   \nYJR155W                 9.762521                  9.905502   \nYDL243C                 6.547471                  5.949884   \nYHR047C                 8.837522                  8.688578   \n...                          ...                       ...   \nYML002W                 7.535741                  7.428243   \nYML030W                11.939201                 11.908917   \nYML053C                10.593350                 10.525567   \nYML087C                 7.822760                  7.842013   \nYML119W                 6.871311                  6.858688   \n\n         yB8n065.03II01.batch.p11  yB8n066.03II01.batch.p12  \\\nYMR056C                 11.655439                  9.197184   \nYBR085W                  6.930435                  7.745075   \nYJR155W                  9.747369                  8.684471   \nYDL243C                  6.172434                  6.455557   \nYHR047C                  8.392062                  9.176441   \n...                           ...                       ...   \nYML002W                  7.784473                  7.058646   \nYML030W                 11.600359                 10.584607   \nYML053C                 10.571640                  9.983406   \nYML087C                  7.334910                  6.708636   \nYML119W                  6.949762                  7.298918   \n\n         yB8n044.Low.D.chemostat.vs..High.D.chemostat  \nYMR056C                                     10.402504  \nYBR085W                                      7.469748  \nYJR155W                                      9.510130  \nYDL243C                                      6.576763  \nYHR047C                                      8.538216  \n...                                               ...  \nYML002W                                      7.606172  \nYML030W                                     10.869762  \nYML053C                                     10.491541  \nYML087C                                      6.898609  \nYML119W                                      7.239067  \n\n[1455 rows x 13 columns]",
      "text/html": "<div>\n<style scoped>\n    .dataframe tbody tr th:only-of-type {\n        vertical-align: middle;\n    }\n\n    .dataframe tbody tr th {\n        vertical-align: top;\n    }\n\n    .dataframe thead th {\n        text-align: right;\n    }\n</style>\n<table border=\"1\" class=\"dataframe\">\n  <thead>\n    <tr style=\"text-align: right;\">\n      <th></th>\n      <th>yB8n055.03II01.batch.p1</th>\n      <th>yB8n056.03II01.batch.p2</th>\n      <th>yB8n057.03II01.batch.p3</th>\n      <th>yB8n058.03II01.batch.p4</th>\n      <th>yB8n059.03II01.batch.p5</th>\n      <th>yB8n060.03II01.batch.p6</th>\n      <th>yB8n061.03II01.batch.p7</th>\n      <th>yB8n062.03II01.batch.p8</th>\n      <th>yB8n063.03II01.batch.p9</th>\n      <th>yB8n064.03II01.batch.p10</th>\n      <th>yB8n065.03II01.batch.p11</th>\n      <th>yB8n066.03II01.batch.p12</th>\n      <th>yB8n044.Low.D.chemostat.vs..High.D.chemostat</th>\n    </tr>\n  </thead>\n  <tbody>\n    <tr>\n      <th>YMR056C</th>\n      <td>10.310906</td>\n      <td>9.374551</td>\n      <td>9.738155</td>\n      <td>9.738831</td>\n      <td>10.383624</td>\n      <td>9.973555</td>\n      <td>9.627858</td>\n      <td>11.579884</td>\n      <td>11.163626</td>\n      <td>11.706841</td>\n      <td>11.655439</td>\n      <td>9.197184</td>\n      <td>10.402504</td>\n    </tr>\n    <tr>\n      <th>YBR085W</th>\n      <td>7.999073</td>\n      <td>7.978798</td>\n      <td>7.926310</td>\n      <td>7.744950</td>\n      <td>7.655623</td>\n      <td>7.433795</td>\n      <td>7.883342</td>\n      <td>6.681351</td>\n      <td>6.955076</td>\n      <td>6.468447</td>\n      <td>6.930435</td>\n      <td>7.745075</td>\n      <td>7.469748</td>\n    </tr>\n    <tr>\n      <th>YJR155W</th>\n      <td>8.719261</td>\n      <td>8.845556</td>\n      <td>8.779802</td>\n      <td>8.848888</td>\n      <td>8.970303</td>\n      <td>8.862843</td>\n      <td>8.714360</td>\n      <td>9.761043</td>\n      <td>9.762521</td>\n      <td>9.905502</td>\n      <td>9.747369</td>\n      <td>8.684471</td>\n      <td>9.510130</td>\n    </tr>\n    <tr>\n      <th>YDL243C</th>\n      <td>6.413120</td>\n      <td>6.802390</td>\n      <td>6.658224</td>\n      <td>6.574777</td>\n      <td>5.948326</td>\n      <td>6.198785</td>\n      <td>6.742563</td>\n      <td>6.209202</td>\n      <td>6.547471</td>\n      <td>5.949884</td>\n      <td>6.172434</td>\n      <td>6.455557</td>\n      <td>6.576763</td>\n    </tr>\n    <tr>\n      <th>YHR047C</th>\n      <td>8.230008</td>\n      <td>8.768411</td>\n      <td>8.551748</td>\n      <td>8.697505</td>\n      <td>8.882710</td>\n      <td>9.125730</td>\n      <td>8.896929</td>\n      <td>8.868654</td>\n      <td>8.837522</td>\n      <td>8.688578</td>\n      <td>8.392062</td>\n      <td>9.176441</td>\n      <td>8.538216</td>\n    </tr>\n    <tr>\n      <th>...</th>\n      <td>...</td>\n      <td>...</td>\n      <td>...</td>\n      <td>...</td>\n      <td>...</td>\n      <td>...</td>\n      <td>...</td>\n      <td>...</td>\n      <td>...</td>\n      <td>...</td>\n      <td>...</td>\n      <td>...</td>\n      <td>...</td>\n    </tr>\n    <tr>\n      <th>YML002W</th>\n      <td>7.757591</td>\n      <td>7.533461</td>\n      <td>7.617832</td>\n      <td>7.536168</td>\n      <td>7.296171</td>\n      <td>6.948933</td>\n      <td>7.461951</td>\n      <td>7.456734</td>\n      <td>7.535741</td>\n      <td>7.428243</td>\n      <td>7.784473</td>\n      <td>7.058646</td>\n      <td>7.606172</td>\n    </tr>\n    <tr>\n      <th>YML030W</th>\n      <td>10.530161</td>\n      <td>10.486551</td>\n      <td>10.464589</td>\n      <td>10.667886</td>\n      <td>10.675506</td>\n      <td>10.908625</td>\n      <td>10.757949</td>\n      <td>11.978087</td>\n      <td>11.939201</td>\n      <td>11.908917</td>\n      <td>11.600359</td>\n      <td>10.584607</td>\n      <td>10.869762</td>\n    </tr>\n    <tr>\n      <th>YML053C</th>\n      <td>10.243145</td>\n      <td>10.102137</td>\n      <td>10.054621</td>\n      <td>10.076379</td>\n      <td>10.088078</td>\n      <td>10.059266</td>\n      <td>10.338693</td>\n      <td>10.617780</td>\n      <td>10.593350</td>\n      <td>10.525567</td>\n      <td>10.571640</td>\n      <td>9.983406</td>\n      <td>10.491541</td>\n    </tr>\n    <tr>\n      <th>YML087C</th>\n      <td>6.589562</td>\n      <td>6.591232</td>\n      <td>6.598206</td>\n      <td>6.712599</td>\n      <td>6.727422</td>\n      <td>6.741082</td>\n      <td>6.576150</td>\n      <td>7.834831</td>\n      <td>7.822760</td>\n      <td>7.842013</td>\n      <td>7.334910</td>\n      <td>6.708636</td>\n      <td>6.898609</td>\n    </tr>\n    <tr>\n      <th>YML119W</th>\n      <td>7.448632</td>\n      <td>7.390922</td>\n      <td>7.420313</td>\n      <td>7.306506</td>\n      <td>7.210466</td>\n      <td>7.181304</td>\n      <td>7.290338</td>\n      <td>6.707411</td>\n      <td>6.871311</td>\n      <td>6.858688</td>\n      <td>6.949762</td>\n      <td>7.298918</td>\n      <td>7.239067</td>\n    </tr>\n  </tbody>\n</table>\n<p>1455 rows × 13 columns</p>\n</div>"
     },
     "execution_count": 44,
     "metadata": {},
     "output_type": "execute_result"
    }
   ],
   "source": [
    "from mewpy.omics import ExpressionSet\n",
    "\n",
    "# HINT: you can uncomment the following line to load pre-computed gene expression predictions.\n",
    "# Do not forget to comment the remaining lines in this cell.\n",
    "# gene_expression_prediction = ExpressionSet.from_csv(path.joinpath('iMM904_gene_expression_prediction.csv'),\n",
    "#                                                           sep=',', index_col=0, header=0).dataframe\n",
    "\n",
    "expression = ExpressionSet.from_csv(path.joinpath('iMM904_gene_expression.csv'), sep=';', index_col=0, header=0).dataframe\n",
    "influence = ExpressionSet.from_csv(path.joinpath('iMM904_influence.csv'), sep=';', index_col=0, header=0).dataframe\n",
    "experiments = ExpressionSet.from_csv(path.joinpath('iMM904_experiments.csv'), sep=';', index_col=0, header=0).dataframe\n",
    "\n",
    "gene_expression_prediction = predict_gene_expression(model=model, influence=influence, expression=expression,\n",
    "                                                     experiments=experiments)\n",
    "gene_expression_prediction"
   ],
   "metadata": {
    "collapsed": false
   }
  },
  {
   "cell_type": "code",
   "execution_count": 45,
   "outputs": [
    {
     "data": {
      "text/plain": "CoRegFlux Solution\n Objective value: 0.2878657037040182\n Status: optimal",
      "text/html": "\n        <table>\n            <tr>\n                <td>Method</td>\n                <td>CoRegFlux</td>\n            </tr>\n            <tr>\n                <td>Model</td>\n                <td>Model iMM904 - S. cerevisae iMM904 model - Mo et al 2009</td>\n            </tr>\n            <tr>\n                <th>Objective</th>\n                <td>BIOMASS_SC5_notrace</td>\n            </tr>\n            <tr>\n                <th>Objective value</th>\n                <td>0.2878657037040182</td>\n            </tr>\n            <tr>\n                <th>Status</th>\n                <td>optimal</td>\n            </tr>\n        </table>\n        "
     },
     "execution_count": 45,
     "metadata": {},
     "output_type": "execute_result"
    }
   ],
   "source": [
    "# steady-state simulation only requires the initial state of a given experiment (the first experiment in this case)\n",
    "initial_state = list(gene_expression_prediction.to_dict().values())\n",
    "co_reg_flux = CoRegFlux(model).build()\n",
    "solution = co_reg_flux.optimize(initial_state=initial_state[0])\n",
    "solution"
   ],
   "metadata": {
    "collapsed": false
   }
  },
  {
   "cell_type": "code",
   "execution_count": 46,
   "outputs": [
    {
     "data": {
      "text/plain": "0.2878657037040182"
     },
     "execution_count": 46,
     "metadata": {},
     "output_type": "execute_result"
    }
   ],
   "source": [
    "# using the simple version of CoRegFlux\n",
    "slim_coregflux(model, initial_state=initial_state[0])"
   ],
   "metadata": {
    "collapsed": false
   }
  },
  {
   "cell_type": "code",
   "execution_count": 47,
   "outputs": [
    {
     "data": {
      "text/plain": "{'t_1': CoRegFlux Solution\n  Objective value: 0.28786570367625985\n  Status: optimal,\n 't_2': CoRegFlux Solution\n  Objective value: 0.287865703704015\n  Status: optimal,\n 't_3': CoRegFlux Solution\n  Objective value: 0.181837987723084\n  Status: optimal,\n 't_4': CoRegFlux Solution\n  Objective value: 0.02916276694278548\n  Status: optimal,\n 't_5': CoRegFlux Solution\n  Objective value: 0.029162766956663245\n  Status: optimal,\n 't_6': CoRegFlux Solution\n  Objective value: 0.029162766956663245\n  Status: optimal,\n 't_7': CoRegFlux Solution\n  Objective value: 0.029162766956663245\n  Status: optimal,\n 't_8': CoRegFlux Solution\n  Objective value: 0.029162766956663245\n  Status: optimal,\n 't_9': CoRegFlux Solution\n  Objective value: 0.029162766956663245\n  Status: optimal,\n 't_10': CoRegFlux Solution\n  Objective value: 0.029162766956663245\n  Status: optimal,\n 't_11': CoRegFlux Solution\n  Objective value: 0.029162766956663245\n  Status: optimal,\n 't_12': CoRegFlux Solution\n  Objective value: 0.029162766942785488\n  Status: optimal,\n 't_13': CoRegFlux Solution\n  Objective value: 0.0\n  Status: optimal}"
     },
     "execution_count": 47,
     "metadata": {},
     "output_type": "execute_result"
    }
   ],
   "source": [
    "# dynamic simulation requires metabolite concentrations, wt growth rate and initial state\n",
    "metabolites = {'glc__D_e': 16.6, 'etoh_e': 0}\n",
    "growth_rate = 0.45\n",
    "time_steps = list(range(1, 14))\n",
    "\n",
    "co_reg_flux = CoRegFlux(model).build()\n",
    "solution = co_reg_flux.optimize(initial_state=initial_state,\n",
    "                                metabolites=metabolites,\n",
    "                                growth_rate=growth_rate,\n",
    "                                time_steps=time_steps)\n",
    "solution.solutions"
   ],
   "metadata": {
    "collapsed": false
   }
  }
 ],
 "metadata": {
  "kernelspec": {
   "display_name": "Python 3",
   "language": "python",
   "name": "python3"
  },
  "language_info": {
   "codemirror_mode": {
    "name": "ipython",
    "version": 2
   },
   "file_extension": ".py",
   "mimetype": "text/x-python",
   "name": "python",
   "nbconvert_exporter": "python",
   "pygments_lexer": "ipython2",
   "version": "2.7.6"
  }
 },
 "nbformat": 4,
 "nbformat_minor": 0
}
