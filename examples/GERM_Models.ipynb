{
 "cells": [
  {
   "cell_type": "markdown",
   "metadata": {},
   "source": [
    "# GEnome-scale Regulatory and Metabolic (GERM) models\n",
    "\n",
    "MEWpy supports the integration of regulatory and metabolic models at the genome-scale.\n",
    "All tools required to build, simulate, and analyze GEnome-scale Regulatory and Metabolic (GERM) models\n",
    "are available in the `mewpy.germ` module.\n",
    "\n",
    "This example uses the integrated _E. coli_ core model published by [Orth _et al_, 2010](https://doi.org/10.1128/ecosalplus.10.2.1).\n",
    "This model includes a standard Genome-Scale Metabolic (GEM) model for the central carbon metabolism of E. coli. The GEM model includes several reactions (w/ GPRs), metabolites and genes associated with the central carbon metabolism in E. coli. It also includes exchange reactions defining the environmental conditions of the system.\n",
    "\n",
    "In addition, this example uses a Transcriptional Regulatory Network (TRN) for the central carbon metabolism of E. coli. The TRN includes several interactions (w/ boolean algebra expressions), target genes and regulators associated with the central carbon metabolism and linked to genes in the metabolic model. It also includes external stimuli (effectors) associated with metabolite concentration, reactions' rates or environmental conditions."
   ]
  },
  {
   "cell_type": "code",
   "execution_count": 1,
   "metadata": {
    "scrolled": true
   },
   "outputs": [],
   "source": [
    "# imports\n",
    "import os\n",
    "from pathlib import Path\n",
    "\n",
    "from mewpy.io import read_model, Engines, Reader"
   ]
  },
  {
   "cell_type": "markdown",
   "metadata": {},
   "source": [
    "## Reading GERM models\n",
    "\n",
    "_E. coli_ integrated model is available in two separate files:\n",
    "- metabolic model _models/regulation/e_coli_core.xml_\n",
    "- regulatory model _models/regulation/e_coli_core_trn.csv_\n",
    "\n",
    "To assemble a GERM model, we use `mewpy.io.read_model` function. This function accepts multiple readers having different engines.\n",
    "MEWpy contains the following engines that can be used in the `Reader` object:\n",
    "- `BooleanRegulatoryCSV`\n",
    "- `CoExpressionRegulatoryCSV`\n",
    "- `TargetRegulatorRegulatoryCSV`\n",
    "- `RegulatorySBML`\n",
    "- `MetabolicSBML`\n",
    "- `CobraModel`\n",
    "- `ReframedModel`\n",
    "- `JSON`\n",
    "\n",
    "In addition, the `Reader` accepts other arguments such as the _filename_, _sep_, among others.\n",
    "Although `mewpy.io.read_model` function is the preferred interface for reading models, MEWpy contains other read/write methods available at `mewpy.io`."
   ]
  },
  {
   "cell_type": "code",
   "execution_count": 2,
   "metadata": {
    "scrolled": true
   },
   "outputs": [
    {
     "data": {
      "text/plain": "Model e_coli_core - E. coli core model - Orth et al 2010",
      "text/html": "\n            <table>\n                <tr>\n                    <th><b>Model</b></th>\n                    <td>e_coli_core</td>\n                </tr>\n                <tr>\n                    <th>Name</th>\n                    <td>E. coli core model - Orth et al 2010</td>\n                </tr>\n                <tr>\n                    <th>Types</th>\n                    <td>metabolic, regulatory</td>\n                </tr>\n                <tr>\n                    <th>Compartments</th>\n                    <td>c, e</td>\n                </tr>\n                <tr>\n                    <th>Reactions</th>\n                    <td>95</td>\n                </tr>\n                <tr>\n                    <th>Metabolites</th>\n                    <td>72</td>\n                </tr>\n                <tr>\n                    <th>Genes</th>\n                    <td>137</td>\n                </tr>\n                <tr>\n                    <th>Exchanges</th>\n                    <td>20</td>\n                </tr>\n                <tr>\n                    <th>Demands</th>\n                    <td>0</td>\n                </tr>\n                <tr>\n                    <th>Sinks</th>\n                    <td>0</td>\n                </tr>\n                <tr>\n                    <th>Objective</th>\n                    <td>Biomass_Ecoli_core</td>\n                </tr>\n                <tr>\n                    <th>Regulatory interactions</th>\n                    <td>159</td>\n                </tr>\n                <tr>\n                    <th>Targets</th>\n                    <td>159</td>\n                </tr>\n                <tr>\n                    <th>Regulators</th>\n                    <td>45</td>\n                </tr>\n                <tr>\n                    <th>Regulatory reactions</th>\n                    <td>12</td>\n                </tr>\n                <tr>\n                    <th>Regulatory metabolites</th>\n                    <td>11</td>\n                </tr>\n                <tr>\n                    <th>Environmental stimuli</th>\n                    <td>0</td>\n                </tr>\n            </table>\n            "
     },
     "execution_count": 2,
     "metadata": {},
     "output_type": "execute_result"
    }
   ],
   "source": [
    "# current directory\n",
    "path = Path(os.getcwd())\n",
    "reg_path = path.joinpath('models', 'germ')\n",
    "\n",
    "# a reader for the E. coli core GEM model\n",
    "gem_model = reg_path.joinpath('e_coli_core.xml')\n",
    "gem_reader = Reader(Engines.MetabolicSBML, gem_model)\n",
    "\n",
    "# a reader for the E. coli core TRN model\n",
    "# (it accepts specific parameters for reading the TRN CSV file)\n",
    "trn_model = reg_path.joinpath('e_coli_core_trn.csv')\n",
    "trn_reader = Reader(Engines.BooleanRegulatoryCSV,\n",
    "                    trn_model,\n",
    "                    sep=',',\n",
    "                    id_col=0,\n",
    "                    rule_col=2,\n",
    "                    aliases_cols=[1],\n",
    "                    header=0)\n",
    "\n",
    "# reading the integrated regulatory-metabolic model\n",
    "model = read_model(gem_reader, trn_reader)\n",
    "model"
   ]
  },
  {
   "cell_type": "markdown",
   "metadata": {},
   "source": [
    "## Working with GERM models\n",
    "\n",
    "A GERM model contains relevant metabolic information:\n",
    "- `objective` - Attribute with the current objective function; a dictionary of type variable-coefficient\n",
    "- `reactions` - Attribute/container with the model reactions; a dictionary of type reaction identifier-reaction variable\n",
    "- `metabolites` - Attribute/container with the model metabolites; a dictionary of type metabolite identifier-metabolite variable\n",
    "- `genes` - Attribute/container with the model genes; a dictionary of type gene identifier-gene variable\n",
    "- `gprs` - Attribute/container with the model GPRs; a dictionary of type reaction identifier-GPR expression\n",
    "- `compartments` - Attribute/container with the model compartments; a dictionary of type compartment identifier-compartment name\n",
    "- `exchanges` - Attribute/container with the model exchanges; a dictionary of type reaction identifier-reaction variable\n",
    "- `demands` - Attribute/container with the model demands; a dictionary of type reaction identifier-reaction variable\n",
    "- `sinks` - Attribute/container with the model sinks; a dictionary of type reaction identifier-reaction variable\n",
    "- `external_compartment` - Attribute with the model external compartment - compartment having larger number of exchange reactions\n",
    "\n",
    "A GERM model contains relevant regulatory information:\n",
    "- `interactions` - Attribute/container with the model interactions; a dictionary of type interaction identifier-interaction variable\n",
    "- `targets` - Attribute/container with the model targets; a dictionary of type target identifier-target variable\n",
    "- `regulators` - Attribute/container with the model regulators; a dictionary of type regulator identifier-regulator variable\n",
    "- `regulatory_reactions` - Attribute/container with the model regulatory reactions; a dictionary of type reaction identifier-reaction variable\n",
    "- `regulatory_metabolites` - Attribute/container with the model regulatory metabolites; a dictionary of type metabolite identifier-metabolite variable\n",
    "- `environmental_stimuli` - Attribute/container with the model stimuli; a dictionary of type variable identifier-variable variable."
   ]
  },
  {
   "cell_type": "code",
   "execution_count": 3,
   "metadata": {
    "scrolled": true
   },
   "outputs": [
    {
     "data": {
      "text/plain": "{Biomass_Ecoli_core || 1.496 3pg_c + 3.7478 accoa_c + 59.81 atp_c + 0.361 e4p_c + 0.0709 f6p_c + 0.129 g3p_c + 0.205 g6p_c + 0.2557 gln__L_c + 4.9414 glu__L_c + 59.81 h2o_c + 3.547 nad_c + 13.0279 nadph_c + 1.7867 oaa_c + 0.5191 pep_c + 2.8328 pyr_c + 0.8977 r5p_c -> 59.81 adp_c + 4.1182 akg_c + 3.7478 coa_c + 59.81 h_c + 3.547 nadh_c + 13.0279 nadp_c + 59.81 pi_c: 1.0}"
     },
     "execution_count": 3,
     "metadata": {},
     "output_type": "execute_result"
    }
   ],
   "source": [
    "# the objective function\n",
    "model.objective"
   ]
  },
  {
   "cell_type": "code",
   "execution_count": 4,
   "metadata": {
    "scrolled": true
   },
   "outputs": [
    {
     "data": {
      "text/plain": "{'ACALD': ACALD || 1.0 acald_c + 1.0 coa_c + 1.0 nad_c <-> 1.0 accoa_c + 1.0 h_c + 1.0 nadh_c,\n 'ACALDt': ACALDt || 1.0 acald_e <-> 1.0 acald_c,\n 'ACKr': ACKr || 1.0 ac_c + 1.0 atp_c <-> 1.0 actp_c + 1.0 adp_c,\n 'ACONTa': ACONTa || 1.0 cit_c <-> 1.0 acon_C_c + 1.0 h2o_c,\n 'ACONTb': ACONTb || 1.0 acon_C_c + 1.0 h2o_c <-> 1.0 icit_c,\n 'ACt2r': ACt2r || 1.0 ac_e + 1.0 h_e <-> 1.0 ac_c + 1.0 h_c,\n 'ADK1': ADK1 || 1.0 amp_c + 1.0 atp_c <-> 2.0 adp_c,\n 'AKGDH': AKGDH || 1.0 akg_c + 1.0 coa_c + 1.0 nad_c -> 1.0 co2_c + 1.0 nadh_c + 1.0 succoa_c,\n 'AKGt2r': AKGt2r || 1.0 akg_e + 1.0 h_e <-> 1.0 akg_c + 1.0 h_c,\n 'ALCD2x': ALCD2x || 1.0 etoh_c + 1.0 nad_c <-> 1.0 acald_c + 1.0 h_c + 1.0 nadh_c,\n 'ATPM': ATPM || 1.0 atp_c + 1.0 h2o_c -> 1.0 adp_c + 1.0 h_c + 1.0 pi_c,\n 'ATPS4r': ATPS4r || 1.0 adp_c + 4.0 h_e + 1.0 pi_c <-> 1.0 atp_c + 1.0 h2o_c + 3.0 h_c,\n 'Biomass_Ecoli_core': Biomass_Ecoli_core || 1.496 3pg_c + 3.7478 accoa_c + 59.81 atp_c + 0.361 e4p_c + 0.0709 f6p_c + 0.129 g3p_c + 0.205 g6p_c + 0.2557 gln__L_c + 4.9414 glu__L_c + 59.81 h2o_c + 3.547 nad_c + 13.0279 nadph_c + 1.7867 oaa_c + 0.5191 pep_c + 2.8328 pyr_c + 0.8977 r5p_c -> 59.81 adp_c + 4.1182 akg_c + 3.7478 coa_c + 59.81 h_c + 3.547 nadh_c + 13.0279 nadp_c + 59.81 pi_c,\n 'CO2t': CO2t || 1.0 co2_e <-> 1.0 co2_c,\n 'CS': CS || 1.0 accoa_c + 1.0 h2o_c + 1.0 oaa_c -> 1.0 cit_c + 1.0 coa_c + 1.0 h_c,\n 'CYTBD': CYTBD || 2.0 h_c + 0.5 o2_c + 1.0 q8h2_c -> 1.0 h2o_c + 2.0 h_e + 1.0 q8_c,\n 'D_LACt2': D_LACt2 || 1.0 h_e + 1.0 lac__D_e <-> 1.0 h_c + 1.0 lac__D_c,\n 'ENO': ENO || 1.0 2pg_c <-> 1.0 h2o_c + 1.0 pep_c,\n 'ETOHt2r': ETOHt2r || 1.0 etoh_e + 1.0 h_e <-> 1.0 etoh_c + 1.0 h_c,\n 'EX_ac_e': EX_ac_e || 1.0 ac_e -> ,\n 'EX_acald_e': EX_acald_e || 1.0 acald_e -> ,\n 'EX_akg_e': EX_akg_e || 1.0 akg_e -> ,\n 'EX_co2_e': EX_co2_e || 1.0 co2_e <-> ,\n 'EX_etoh_e': EX_etoh_e || 1.0 etoh_e -> ,\n 'EX_for_e': EX_for_e || 1.0 for_e -> ,\n 'EX_fru_e': EX_fru_e || 1.0 fru_e -> ,\n 'EX_fum_e': EX_fum_e || 1.0 fum_e -> ,\n 'EX_glc__D_e': EX_glc__D_e || 1.0 glc__D_e <-> ,\n 'EX_gln__L_e': EX_gln__L_e || 1.0 gln__L_e -> ,\n 'EX_glu__L_e': EX_glu__L_e || 1.0 glu__L_e -> ,\n 'EX_h_e': EX_h_e || 1.0 h_e <-> ,\n 'EX_h2o_e': EX_h2o_e || 1.0 h2o_e <-> ,\n 'EX_lac__D_e': EX_lac__D_e || 1.0 lac__D_e -> ,\n 'EX_mal__L_e': EX_mal__L_e || 1.0 mal__L_e -> ,\n 'EX_nh4_e': EX_nh4_e || 1.0 nh4_e <-> ,\n 'EX_o2_e': EX_o2_e || 1.0 o2_e <-> ,\n 'EX_pi_e': EX_pi_e || 1.0 pi_e <-> ,\n 'EX_pyr_e': EX_pyr_e || 1.0 pyr_e -> ,\n 'EX_succ_e': EX_succ_e || 1.0 succ_e -> ,\n 'FBA': FBA || 1.0 fdp_c <-> 1.0 dhap_c + 1.0 g3p_c,\n 'FBP': FBP || 1.0 fdp_c + 1.0 h2o_c -> 1.0 f6p_c + 1.0 pi_c,\n 'FORt2': FORt2 || 1.0 for_e + 1.0 h_e -> 1.0 for_c + 1.0 h_c,\n 'FORti': FORti || 1.0 for_c -> 1.0 for_e,\n 'FRD7': FRD7 || 1.0 fum_c + 1.0 q8h2_c -> 1.0 q8_c + 1.0 succ_c,\n 'FRUpts2': FRUpts2 || 1.0 fru_e + 1.0 pep_c -> 1.0 f6p_c + 1.0 pyr_c,\n 'FUM': FUM || 1.0 fum_c + 1.0 h2o_c <-> 1.0 mal__L_c,\n 'FUMt2_2': FUMt2_2 || 1.0 fum_e + 2.0 h_e -> 1.0 fum_c + 2.0 h_c,\n 'G6PDH2r': G6PDH2r || 1.0 g6p_c + 1.0 nadp_c <-> 1.0 6pgl_c + 1.0 h_c + 1.0 nadph_c,\n 'GAPD': GAPD || 1.0 g3p_c + 1.0 nad_c + 1.0 pi_c <-> 1.0 13dpg_c + 1.0 h_c + 1.0 nadh_c,\n 'GLCpts': GLCpts || 1.0 glc__D_e + 1.0 pep_c -> 1.0 g6p_c + 1.0 pyr_c,\n 'GLNS': GLNS || 1.0 atp_c + 1.0 glu__L_c + 1.0 nh4_c -> 1.0 adp_c + 1.0 gln__L_c + 1.0 h_c + 1.0 pi_c,\n 'GLNabc': GLNabc || 1.0 atp_c + 1.0 gln__L_e + 1.0 h2o_c -> 1.0 adp_c + 1.0 gln__L_c + 1.0 h_c + 1.0 pi_c,\n 'GLUDy': GLUDy || 1.0 glu__L_c + 1.0 h2o_c + 1.0 nadp_c <-> 1.0 akg_c + 1.0 h_c + 1.0 nadph_c + 1.0 nh4_c,\n 'GLUN': GLUN || 1.0 gln__L_c + 1.0 h2o_c -> 1.0 glu__L_c + 1.0 nh4_c,\n 'GLUSy': GLUSy || 1.0 akg_c + 1.0 gln__L_c + 1.0 h_c + 1.0 nadph_c -> 2.0 glu__L_c + 1.0 nadp_c,\n 'GLUt2r': GLUt2r || 1.0 glu__L_e + 1.0 h_e <-> 1.0 glu__L_c + 1.0 h_c,\n 'GND': GND || 1.0 6pgc_c + 1.0 nadp_c -> 1.0 co2_c + 1.0 nadph_c + 1.0 ru5p__D_c,\n 'H2Ot': H2Ot || 1.0 h2o_e <-> 1.0 h2o_c,\n 'ICDHyr': ICDHyr || 1.0 icit_c + 1.0 nadp_c <-> 1.0 akg_c + 1.0 co2_c + 1.0 nadph_c,\n 'ICL': ICL || 1.0 icit_c -> 1.0 glx_c + 1.0 succ_c,\n 'LDH_D': LDH_D || 1.0 lac__D_c + 1.0 nad_c <-> 1.0 h_c + 1.0 nadh_c + 1.0 pyr_c,\n 'MALS': MALS || 1.0 accoa_c + 1.0 glx_c + 1.0 h2o_c -> 1.0 coa_c + 1.0 h_c + 1.0 mal__L_c,\n 'MALt2_2': MALt2_2 || 2.0 h_e + 1.0 mal__L_e -> 2.0 h_c + 1.0 mal__L_c,\n 'MDH': MDH || 1.0 mal__L_c + 1.0 nad_c <-> 1.0 h_c + 1.0 nadh_c + 1.0 oaa_c,\n 'ME1': ME1 || 1.0 mal__L_c + 1.0 nad_c -> 1.0 co2_c + 1.0 nadh_c + 1.0 pyr_c,\n 'ME2': ME2 || 1.0 mal__L_c + 1.0 nadp_c -> 1.0 co2_c + 1.0 nadph_c + 1.0 pyr_c,\n 'NADH16': NADH16 || 4.0 h_c + 1.0 nadh_c + 1.0 q8_c -> 3.0 h_e + 1.0 nad_c + 1.0 q8h2_c,\n 'NADTRHD': NADTRHD || 1.0 nad_c + 1.0 nadph_c -> 1.0 nadh_c + 1.0 nadp_c,\n 'NH4t': NH4t || 1.0 nh4_e <-> 1.0 nh4_c,\n 'O2t': O2t || 1.0 o2_e <-> 1.0 o2_c,\n 'PDH': PDH || 1.0 coa_c + 1.0 nad_c + 1.0 pyr_c -> 1.0 accoa_c + 1.0 co2_c + 1.0 nadh_c,\n 'PFK': PFK || 1.0 atp_c + 1.0 f6p_c -> 1.0 adp_c + 1.0 fdp_c + 1.0 h_c,\n 'PFL': PFL || 1.0 coa_c + 1.0 pyr_c -> 1.0 accoa_c + 1.0 for_c,\n 'PGI': PGI || 1.0 g6p_c <-> 1.0 f6p_c,\n 'PGK': PGK || 1.0 3pg_c + 1.0 atp_c <-> 1.0 13dpg_c + 1.0 adp_c,\n 'PGL': PGL || 1.0 6pgl_c + 1.0 h2o_c -> 1.0 6pgc_c + 1.0 h_c,\n 'PGM': PGM || 1.0 2pg_c <-> 1.0 3pg_c,\n 'PIt2r': PIt2r || 1.0 h_e + 1.0 pi_e <-> 1.0 h_c + 1.0 pi_c,\n 'PPC': PPC || 1.0 co2_c + 1.0 h2o_c + 1.0 pep_c -> 1.0 h_c + 1.0 oaa_c + 1.0 pi_c,\n 'PPCK': PPCK || 1.0 atp_c + 1.0 oaa_c -> 1.0 adp_c + 1.0 co2_c + 1.0 pep_c,\n 'PPS': PPS || 1.0 atp_c + 1.0 h2o_c + 1.0 pyr_c -> 1.0 amp_c + 2.0 h_c + 1.0 pep_c + 1.0 pi_c,\n 'PTAr': PTAr || 1.0 accoa_c + 1.0 pi_c <-> 1.0 actp_c + 1.0 coa_c,\n 'PYK': PYK || 1.0 adp_c + 1.0 h_c + 1.0 pep_c -> 1.0 atp_c + 1.0 pyr_c,\n 'PYRt2': PYRt2 || 1.0 h_e + 1.0 pyr_e <-> 1.0 h_c + 1.0 pyr_c,\n 'RPE': RPE || 1.0 ru5p__D_c <-> 1.0 xu5p__D_c,\n 'RPI': RPI || 1.0 r5p_c <-> 1.0 ru5p__D_c,\n 'SUCCt2_2': SUCCt2_2 || 2.0 h_e + 1.0 succ_e -> 2.0 h_c + 1.0 succ_c,\n 'SUCCt3': SUCCt3 || 1.0 h_e + 1.0 succ_c -> 1.0 h_c + 1.0 succ_e,\n 'SUCDi': SUCDi || 1.0 q8_c + 1.0 succ_c -> 1.0 fum_c + 1.0 q8h2_c,\n 'SUCOAS': SUCOAS || 1.0 atp_c + 1.0 coa_c + 1.0 succ_c <-> 1.0 adp_c + 1.0 pi_c + 1.0 succoa_c,\n 'TALA': TALA || 1.0 g3p_c + 1.0 s7p_c <-> 1.0 e4p_c + 1.0 f6p_c,\n 'THD2': THD2 || 2.0 h_e + 1.0 nadh_c + 1.0 nadp_c -> 2.0 h_c + 1.0 nad_c + 1.0 nadph_c,\n 'TKT1': TKT1 || 1.0 r5p_c + 1.0 xu5p__D_c <-> 1.0 g3p_c + 1.0 s7p_c,\n 'TKT2': TKT2 || 1.0 e4p_c + 1.0 xu5p__D_c <-> 1.0 f6p_c + 1.0 g3p_c,\n 'TPI': TPI || 1.0 dhap_c <-> 1.0 g3p_c}"
     },
     "execution_count": 4,
     "metadata": {},
     "output_type": "execute_result"
    }
   ],
   "source": [
    "# reactions\n",
    "model.reactions"
   ]
  },
  {
   "cell_type": "code",
   "execution_count": 5,
   "metadata": {
    "scrolled": true
   },
   "outputs": [
    {
     "data": {
      "text/plain": "{'b0008_interaction': b0008 || 1 = 1,\n 'b0080_interaction': b0080 || 1 = ( ~ surplusFDP),\n 'b0113_interaction': b0113 || 1 = ( ~ surplusPYR),\n 'b0114_interaction': b0114 || 1 = (( ~ b0113) | b3261),\n 'b0115_interaction': b0115 || 1 = (( ~ b0113) | b3261),\n 'b0116_interaction': b0116 || 1 = 1,\n 'b0118_interaction': b0118 || 1 = 1,\n 'b0351_interaction': b0351 || 1 = 1,\n 'b0356_interaction': b0356 || 1 = 1,\n 'b0399_interaction': b0399 || 1 = b0400,\n 'b0400_interaction': b0400 || 1 = ( ~ (pi_e > 0)),\n 'b0451_interaction': b0451 || 1 = 1,\n 'b0474_interaction': b0474 || 1 = 1,\n 'b0485_interaction': b0485 || 1 = 1,\n 'b0720_interaction': b0720 || 1 = 1,\n 'b0721_interaction': b0721 || 1 = (( ~ (b4401 | b1334)) | b3357 | b3261),\n 'b0722_interaction': b0722 || 1 = (( ~ (b4401 | b1334)) | b3357 | b3261),\n 'b0723_interaction': b0723 || 1 = (( ~ (b4401 | b1334)) | b3357 | b3261),\n 'b0724_interaction': b0724 || 1 = (( ~ (b4401 | b1334)) | b3357 | b3261),\n 'b0726_interaction': b0726 || 1 = 1,\n 'b0727_interaction': b0727 || 1 = 1,\n 'b0728_interaction': b0728 || 1 = 1,\n 'b0729_interaction': b0729 || 1 = 1,\n 'b0733_interaction': b0733 || 1 = (( ~ b1334) | b4401),\n 'b0734_interaction': b0734 || 1 = (( ~ b1334) | b4401),\n 'b0755_interaction': b0755 || 1 = 1,\n 'b0767_interaction': b0767 || 1 = 1,\n 'b0809_interaction': b0809 || 1 = 1,\n 'b0810_interaction': b0810 || 1 = 1,\n 'b0811_interaction': b0811 || 1 = 1,\n 'b0875_interaction': b0875 || 1 = 1,\n 'b0902_interaction': b0902 || 1 = (b4401 | (b1334 & b3357)),\n 'b0903_interaction': b0903 || 1 = (b4401 | (b1334 & b3357)),\n 'b0904_interaction': b0904 || 1 = (b4401 | (b1334 & b3357)),\n 'b0978_interaction': b0978 || 1 = 1,\n 'b0979_interaction': b0979 || 1 = 1,\n 'b1101_interaction': b1101 || 1 = (( ~ b1594) | ( ~ b0080)),\n 'b1136_interaction': b1136 || 1 = 1,\n 'b1187_interaction': b1187 || 1 = ((glc__D_e > 0) | ( ~ (ac_e > 0))),\n 'b1241_interaction': b1241 || 1 = (( ~ (o2_e > 0)) | ( ~ ((o2_e > 0) & b0080)) | b3261),\n 'b1276_interaction': b1276 || 1 = 1,\n 'b1297_interaction': b1297 || 1 = 1,\n 'b1334_interaction': b1334 || 1 = ( ~ (o2_e > 0)),\n 'b1380_interaction': b1380 || 1 = 1,\n 'b1478_interaction': b1478 || 1 = 1,\n 'b1479_interaction': b1479 || 1 = 1,\n 'b1524_interaction': b1524 || 1 = (( ~ (glc__D_e > 0)) | ((nh4_e > 0) & ( ~ b3357))),\n 'b1594_interaction': b1594 || 1 = ( ~ (glc__D_e > 0)),\n 'b1602_interaction': b1602 || 1 = 1,\n 'b1603_interaction': b1603 || 1 = 1,\n 'b1611_interaction': b1611 || 1 = ( ~ b4401),\n 'b1612_interaction': b1612 || 1 = ( ~ (b4401 | b1334)),\n 'b1621_interaction': b1621 || 1 = 1,\n 'b1676_interaction': b1676 || 1 = ( ~ b0080),\n 'b1702_interaction': b1702 || 1 = b0080,\n 'b1723_interaction': b1723 || 1 = 1,\n 'b1761_interaction': b1761 || 1 = ( ~ (b1988 | (glu__L_e > 0))),\n 'b1773_interaction': b1773 || 1 = 1,\n 'b1779_interaction': b1779 || 1 = 1,\n 'b1812_interaction': b1812 || 1 = 1,\n 'b1817_interaction': b1817 || 1 = (CRPnoGLM | ( ~ b1594)),\n 'b1818_interaction': b1818 || 1 = (CRPnoGLM | ( ~ b1594)),\n 'b1819_interaction': b1819 || 1 = (CRPnoGLM | ( ~ b1594)),\n 'b1849_interaction': b1849 || 1 = 1,\n 'b1852_interaction': b1852 || 1 = 1,\n 'b1854_interaction': b1854 || 1 = 1,\n 'b1988_interaction': b1988 || 1 = NRI_low,\n 'b2029_interaction': b2029 || 1 = 1,\n 'b2097_interaction': b2097 || 1 = 1,\n 'b2133_interaction': b2133 || 1 = 1,\n 'b2276_interaction': b2276 || 1 = ( ~ (b4401 | b1334)),\n 'b2277_interaction': b2277 || 1 = ( ~ (b4401 | b1334)),\n 'b2278_interaction': b2278 || 1 = ( ~ (b4401 | b1334)),\n 'b2279_interaction': b2279 || 1 = ( ~ (b4401 | b1334)),\n 'b2280_interaction': b2280 || 1 = ( ~ (b4401 | b1334)),\n 'b2281_interaction': b2281 || 1 = ( ~ (b4401 | b1334)),\n 'b2282_interaction': b2282 || 1 = ( ~ (b4401 | b1334)),\n 'b2283_interaction': b2283 || 1 = ( ~ (b4401 | b1334)),\n 'b2284_interaction': b2284 || 1 = ( ~ (b4401 | b1334)),\n 'b2285_interaction': b2285 || 1 = ( ~ (b4401 | b1334)),\n 'b2286_interaction': b2286 || 1 = ( ~ (b4401 | b1334)),\n 'b2287_interaction': b2287 || 1 = ( ~ (b4401 | b1334)),\n 'b2288_interaction': b2288 || 1 = ( ~ (b4401 | b1334)),\n 'b2296_interaction': b2296 || 1 = 1,\n 'b2297_interaction': b2297 || 1 = 1,\n 'b2415_interaction': b2415 || 1 = 1,\n 'b2416_interaction': b2416 || 1 = 1,\n 'b2417_interaction': b2417 || 1 = 1,\n 'b2458_interaction': b2458 || 1 = 1,\n 'b2463_interaction': b2463 || 1 = 1,\n 'b2464_interaction': b2464 || 1 = 1,\n 'b2465_interaction': b2465 || 1 = 1,\n 'b2492_interaction': b2492 || 1 = (b4401 | (b1334 & b3357)),\n 'b2579_interaction': b2579 || 1 = 1,\n 'b2587_interaction': b2587 || 1 = 1,\n 'b2779_interaction': b2779 || 1 = 1,\n 'b2914_interaction': b2914 || 1 = 1,\n 'b2925_interaction': b2925 || 1 = 1,\n 'b2926_interaction': b2926 || 1 = 1,\n 'b2935_interaction': b2935 || 1 = 1,\n 'b2975_interaction': b2975 || 1 = (( ~ b4401) & b2980),\n 'b2976_interaction': b2976 || 1 = (( ~ b4401) & b2980),\n 'b2980_interaction': b2980 || 1 = (ac_e > 0),\n 'b2987_interaction': b2987 || 1 = ( ~ b0399),\n 'b3114_interaction': b3114 || 1 = (b3357 | b1334),\n 'b3115_interaction': b3115 || 1 = (b3357 | b1334),\n 'b3212_interaction': b3212 || 1 = ( ~ (NRI_hi & (glu__L_e > 0))),\n 'b3213_interaction': b3213 || 1 = ( ~ (NRI_hi & (glu__L_e > 0))),\n 'b3236_interaction': b3236 || 1 = ( ~ b4401),\n 'b3261_interaction': b3261 || 1 = (Biomass_Ecoli_core > 0),\n 'b3357_interaction': b3357 || 1 = CRPnoGLC,\n 'b3386_interaction': b3386 || 1 = 1,\n 'b3403_interaction': b3403 || 1 = 1,\n 'b3493_interaction': b3493 || 1 = 1,\n 'b3528_interaction': b3528 || 1 = (CRPnoGLM & ( ~ b4401) & b4124),\n 'b3603_interaction': b3603 || 1 = ( ~ b4401),\n 'b3612_interaction': b3612 || 1 = 1,\n 'b3731_interaction': b3731 || 1 = 1,\n 'b3732_interaction': b3732 || 1 = 1,\n 'b3733_interaction': b3733 || 1 = 1,\n 'b3734_interaction': b3734 || 1 = 1,\n 'b3735_interaction': b3735 || 1 = 1,\n 'b3736_interaction': b3736 || 1 = 1,\n 'b3737_interaction': b3737 || 1 = 1,\n 'b3738_interaction': b3738 || 1 = 1,\n 'b3739_interaction': b3739 || 1 = 1,\n 'b3868_interaction': b3868 || 1 = ( ~ (nh4_e > 0)),\n 'b3870_interaction': b3870 || 1 = b3357,\n 'b3916_interaction': b3916 || 1 = 1,\n 'b3919_interaction': b3919 || 1 = 1,\n 'b3925_interaction': b3925 || 1 = 1,\n 'b3951_interaction': b3951 || 1 = (b4401 | b1334),\n 'b3952_interaction': b3952 || 1 = (b4401 | b1334),\n 'b3956_interaction': b3956 || 1 = 1,\n 'b3962_interaction': b3962 || 1 = 1,\n 'b4014_interaction': b4014 || 1 = (( ~ b4018) & (( ~ b4401) | b0080)),\n 'b4015_interaction': b4015 || 1 = (( ~ b4018) & (( ~ b4401) | b0080)),\n 'b4018_interaction': b4018 || 1 = b1187,\n 'b4025_interaction': b4025 || 1 = 1,\n 'b4077_interaction': b4077 || 1 = 1,\n 'b4090_interaction': b4090 || 1 = 1,\n 'b4122_interaction': b4122 || 1 = (b1334 | b3357 | b4124),\n 'b4124_interaction': b4124 || 1 = b4125,\n 'b4125_interaction': b4125 || 1 = ((succ_e > 0) | (fum_e > 0) | (mal__L_e > 0)),\n 'b4151_interaction': b4151 || 1 = (b1334 | b4124),\n 'b4152_interaction': b4152 || 1 = (b1334 | b4124),\n 'b4153_interaction': b4153 || 1 = (b1334 | b4124),\n 'b4154_interaction': b4154 || 1 = (b1334 | b4124),\n 'b4232_interaction': b4232 || 1 = 1,\n 'b4301_interaction': b4301 || 1 = 1,\n 'b4395_interaction': b4395 || 1 = 1,\n 'b4401_interaction': b4401 || 1 = ( ~ (o2_e > 0)),\n 's0001_interaction': s0001 || 1 = 1,\n 'CRPnoGLC_interaction': CRPnoGLC || 1 = ( ~ (glc__D_e > 0)),\n 'CRPnoGLM_interaction': CRPnoGLM || 1 = ( ~ ((glc__D_e > 0) | (mal__L_e > 0) | (lac__D_e > 0))),\n 'NRI_hi_interaction': NRI_hi || 1 = NRI_low,\n 'NRI_low_interaction': NRI_low || 1 = b3868,\n 'surplusFDP_interaction': surplusFDP || 1 = ((( ~ (FBP > 0)) & ( ~ ((TKT2 > 0) | (TALA > 0) | (PGI > 0)))) | (fru_e > 0)),\n 'surplusPYR_interaction': surplusPYR || 1 = (( ~ ((ME2 > 0) | (ME1 > 0))) & ( ~ ((GLCpts > 0) | (PYK > 0) | (PFK > 0) | (LDH_D > 0) | (SUCCt2_2 > 0))))}"
     },
     "execution_count": 5,
     "metadata": {},
     "output_type": "execute_result"
    }
   ],
   "source": [
    "# interactions\n",
    "model.interactions"
   ]
  },
  {
   "cell_type": "markdown",
   "metadata": {},
   "source": [
    "### Access variables in GERM models\n",
    "A GERM model includes several containers to store reactions, metabolites, genes, interactions, targets, and regulators.\n",
    "These containers are regular Python dictionaries, thus one can **access** (**and only access**) variables using their identifier or the dictionary interface.\n",
    "The common API: `model.reactions['REACTION_IDENTIFIER']`\n",
    "One can also yield variables from the model using the model `yield_...` methods, such as `model.yield_regulators()`\n",
    "\n",
    "**IMPORTANT NOTE**:\n",
    "Although one can add/remove variables to/from a model container using the dictionaries, these changes will not alter the model directly!!"
   ]
  },
  {
   "cell_type": "code",
   "execution_count": 6,
   "metadata": {
    "scrolled": true
   },
   "outputs": [
    {
     "data": {
      "text/plain": "PDH || 1.0 coa_c + 1.0 nad_c + 1.0 pyr_c -> 1.0 accoa_c + 1.0 co2_c + 1.0 nadh_c",
      "text/html": "\n            <table>\n                <tr><th>Identifier</th><td>PDH</td></tr><tr><th>Name</th><td></td></tr><tr><th>Aliases</th><td></td></tr><tr><th>Model</th><td>e_coli_core</td></tr><tr><th>Types</th><td>reaction</td></tr><tr><th>Equation</th><td>1.0 coa_c + 1.0 nad_c + 1.0 pyr_c -> 1.0 accoa_c + 1.0 co2_c + 1.0 nadh_c</td></tr><tr><th>Bounds</th><td>(0.0, 1000.0)</td></tr><tr><th>Reversibility</th><td>False</td></tr><tr><th>Metabolites</th><td>coa_c, nad_c, pyr_c, accoa_c, co2_c, nadh_c</td></tr><tr><th>Boundary</th><td>False</td></tr><tr><th>GPR</th><td>(b0115 & b0114 & b0116)</td></tr><tr><th>Genes</th><td>b0115, b0114, b0116</td></tr><tr><th>Compartments</th><td>c</td></tr><tr><th>Charge balance</th><td>{'reactants': 6.0, 'products': -6.0}</td></tr><tr><th>Mass balance</th><td>{'C': 0.0, 'H': 0.0, 'N': 0.0, 'O': 0.0, 'P': 0.0, 'S': 0.0}</td></tr>\n            </table>\n        "
     },
     "execution_count": 6,
     "metadata": {},
     "output_type": "execute_result"
    }
   ],
   "source": [
    "# get PDH reaction from the model\n",
    "pdh = model.reactions['PDH']\n",
    "pdh"
   ]
  },
  {
   "cell_type": "code",
   "execution_count": 7,
   "metadata": {
    "scrolled": true
   },
   "outputs": [
    {
     "data": {
      "text/plain": "b0113 || (0.0, 1.0)",
      "text/html": "\n            <table>\n                <tr><th>Identifier</th><td>b0113</td></tr><tr><th>Name</th><td>b0113</td></tr><tr><th>Aliases</th><td>PdhR, b0113</td></tr><tr><th>Model</th><td>e_coli_core</td></tr><tr><th>Types</th><td>regulator, target</td></tr><tr><th>Coefficients</th><td>(0.0, 1.0)</td></tr><tr><th>Active</th><td>True</td></tr><tr><th>Interactions</th><td>b0114_interaction, b0115_interaction</td></tr><tr><th>Targets</th><td>b0114, b0115</td></tr><tr><th>Environmental stimulus</th><td>False</td></tr><tr><th>Interaction</th><td>b0113 || 1 = ( ~ surplusPYR)</td></tr><tr><th>Regulators</th><td>surplusPYR</td></tr>\n            </table>\n        "
     },
     "execution_count": 7,
     "metadata": {},
     "output_type": "execute_result"
    }
   ],
   "source": [
    "# get the PdhR regulator\n",
    "pdh_r = model.regulators.get('b0113')\n",
    "pdh_r"
   ]
  },
  {
   "cell_type": "code",
   "execution_count": 8,
   "metadata": {
    "scrolled": false
   },
   "outputs": [
    {
     "name": "stdout",
     "output_type": "stream",
     "text": [
      "Biomass_Ecoli_core || 1.496 3pg_c + 3.7478 accoa_c + 59.81 atp_c + 0.361 e4p_c + 0.0709 f6p_c + 0.129 g3p_c + 0.205 g6p_c + 0.2557 gln__L_c + 4.9414 glu__L_c + 59.81 h2o_c + 3.547 nad_c + 13.0279 nadph_c + 1.7867 oaa_c + 0.5191 pep_c + 2.8328 pyr_c + 0.8977 r5p_c -> 59.81 adp_c + 4.1182 akg_c + 3.7478 coa_c + 59.81 h_c + 3.547 nadh_c + 13.0279 nadp_c + 59.81 pi_c\n",
      "FBP || 1.0 fdp_c + 1.0 h2o_c -> 1.0 f6p_c + 1.0 pi_c\n",
      "GLCpts || 1.0 glc__D_e + 1.0 pep_c -> 1.0 g6p_c + 1.0 pyr_c\n",
      "LDH_D || 1.0 lac__D_c + 1.0 nad_c <-> 1.0 h_c + 1.0 nadh_c + 1.0 pyr_c\n",
      "ME1 || 1.0 mal__L_c + 1.0 nad_c -> 1.0 co2_c + 1.0 nadh_c + 1.0 pyr_c\n",
      "ME2 || 1.0 mal__L_c + 1.0 nadp_c -> 1.0 co2_c + 1.0 nadph_c + 1.0 pyr_c\n",
      "PFK || 1.0 atp_c + 1.0 f6p_c -> 1.0 adp_c + 1.0 fdp_c + 1.0 h_c\n",
      "PGI || 1.0 g6p_c <-> 1.0 f6p_c\n",
      "PYK || 1.0 adp_c + 1.0 h_c + 1.0 pep_c -> 1.0 atp_c + 1.0 pyr_c\n",
      "SUCCt2_2 || 2.0 h_e + 1.0 succ_e -> 2.0 h_c + 1.0 succ_c\n",
      "TALA || 1.0 g3p_c + 1.0 s7p_c <-> 1.0 e4p_c + 1.0 f6p_c\n",
      "TKT2 || 1.0 e4p_c + 1.0 xu5p__D_c <-> 1.0 f6p_c + 1.0 g3p_c\n",
      "surplusFDP || (0.0, 1.0)\n",
      "surplusPYR || (0.0, 1.0)\n",
      "b0113 || (0.0, 1.0)\n",
      "b3261 || (0.0, 1.0)\n",
      "b0400 || (0.0, 1.0)\n",
      "pi_e || pi_e || HO4P\n",
      "b4401 || (0.0, 1.0)\n",
      "b1334 || (0.0, 1.0)\n",
      "b3357 || (0.0, 1.0)\n"
     ]
    }
   ],
   "source": [
    "# iterate over genes\n",
    "for i, regulator in enumerate(model.yield_regulators()):\n",
    "    print(regulator)\n",
    "    if i == 20:\n",
    "        break"
   ]
  },
  {
   "cell_type": "markdown",
   "metadata": {},
   "source": [
    "### Manipulate variables in GERM models\n",
    "A GERM model contains a simple interface to add/remove variables.\n",
    "A GERM model supports the following operations:\n",
    "- `get(identifier, default=None)` - It retrieves the variable by its identifier\n",
    "- `add(variables)` - It adds new variables to the model; variables are added to containers according to the variable types\n",
    "- `remove(variables)` - It removes variables from the model; variables are removed from containers according to the variable types\n",
    "- `update(variables, objective, ...)` - It updates variables, compartments, objective, etc, in the model\n",
    "- `copy()` - It makes a shallow copy of the model\n",
    "- `deepcopy()` - It makes a deep copy of the model\n",
    "- `to_dict()` - It exports the model to a dictionary"
   ]
  },
  {
   "cell_type": "code",
   "execution_count": 9,
   "metadata": {
    "scrolled": true
   },
   "outputs": [
    {
     "data": {
      "text/plain": "b3357 || (0.0, 1.0)",
      "text/html": "\n            <table>\n                <tr><th>Identifier</th><td>b3357</td></tr><tr><th>Name</th><td>b3357</td></tr><tr><th>Aliases</th><td>b3357, Crp</td></tr><tr><th>Model</th><td>e_coli_core</td></tr><tr><th>Types</th><td>regulator, target</td></tr><tr><th>Coefficients</th><td>(0.0, 1.0)</td></tr><tr><th>Active</th><td>True</td></tr><tr><th>Interactions</th><td>b0721_interaction, b0722_interaction, b0723_interaction, b0724_interaction, b0902_interaction, b0903_interaction, b0904_interaction, b1524_interaction, b2492_interaction, b3114_interaction, b3115_interaction, b3870_interaction, b4122_interaction</td></tr><tr><th>Targets</th><td>b0721, b0722, b0723, b0724, b0902, b0903, b0904, b1524, b2492, b3114, b3115, b3870, b4122</td></tr><tr><th>Environmental stimulus</th><td>False</td></tr><tr><th>Interaction</th><td>b3357 || 1 = CRPnoGLC</td></tr><tr><th>Regulators</th><td>CRPnoGLC</td></tr>\n            </table>\n        "
     },
     "execution_count": 9,
     "metadata": {},
     "output_type": "execute_result"
    }
   ],
   "source": [
    "# get the Crp regulator\n",
    "crp = model.get('b3357')\n",
    "crp"
   ]
  },
  {
   "cell_type": "code",
   "execution_count": 10,
   "metadata": {
    "scrolled": true
   },
   "outputs": [
    {
     "data": {
      "text/plain": "False"
     },
     "execution_count": 10,
     "metadata": {},
     "output_type": "execute_result"
    }
   ],
   "source": [
    "# remove the regulator from the model\n",
    "model.remove(crp)\n",
    "'b3357' in model.regulators"
   ]
  },
  {
   "cell_type": "code",
   "execution_count": 11,
   "metadata": {
    "scrolled": true
   },
   "outputs": [
    {
     "data": {
      "text/plain": "True"
     },
     "execution_count": 11,
     "metadata": {},
     "output_type": "execute_result"
    }
   ],
   "source": [
    "# add the regulatory back to the model\n",
    "model.add(crp)\n",
    "'b3357' in model.regulators"
   ]
  },
  {
   "cell_type": "code",
   "execution_count": 12,
   "metadata": {
    "scrolled": true
   },
   "outputs": [
    {
     "data": {
      "text/plain": "False"
     },
     "execution_count": 12,
     "metadata": {},
     "output_type": "execute_result"
    }
   ],
   "source": [
    "# shallow copy only performs a copy of the containers\n",
    "model_copy = model.copy()\n",
    "model is model_copy"
   ]
  },
  {
   "cell_type": "code",
   "execution_count": 13,
   "metadata": {},
   "outputs": [
    {
     "data": {
      "text/plain": "True"
     },
     "execution_count": 13,
     "metadata": {},
     "output_type": "execute_result"
    }
   ],
   "source": [
    "# variables are still the same\n",
    "crp is model_copy.regulators['b3357']"
   ]
  },
  {
   "cell_type": "code",
   "execution_count": 14,
   "metadata": {},
   "outputs": [
    {
     "data": {
      "text/plain": "False"
     },
     "execution_count": 14,
     "metadata": {},
     "output_type": "execute_result"
    }
   ],
   "source": [
    "# deep copy performs a copy of the containers and variables\n",
    "model_copy = model.deepcopy()\n",
    "crp is model_copy.regulators['b3357']"
   ]
  },
  {
   "cell_type": "code",
   "execution_count": 15,
   "metadata": {},
   "outputs": [
    {
     "data": {
      "text/plain": "{'types': ('metabolic', 'regulatory'),\n 'id': 'e_coli_core',\n 'name': 'E. coli core model - Orth et al 2010',\n 'genes': {'b0351': b0351 || 1 = 1,\n  'b1241': b1241 || 1 = (( ~ (o2_e > 0)) | ( ~ ((o2_e > 0) & b0080)) | b3261),\n  's0001': s0001 || 1 = 1,\n  'b2296': b2296 || 1 = 1,\n  'b3115': b3115 || 1 = (b3357 | b1334),\n  'b1849': b1849 || 1 = 1,\n  'b0118': b0118 || 1 = 1,\n  'b1276': b1276 || 1 = 1,\n  'b0474': b0474 || 1 = 1,\n  'b0726': b0726 || 1 = 1,\n  'b0116': b0116 || 1 = 1,\n  'b0727': b0727 || 1 = 1,\n  'b2587': b2587 || 1 = 1,\n  'b1478': b1478 || 1 = 1,\n  'b0356': b0356 || 1 = 1,\n  'b3738': b3738 || 1 = 1,\n  'b3736': b3736 || 1 = 1,\n  'b3737': b3737 || 1 = 1,\n  'b3735': b3735 || 1 = 1,\n  'b3733': b3733 || 1 = 1,\n  'b3731': b3731 || 1 = 1,\n  'b3732': b3732 || 1 = 1,\n  'b3734': b3734 || 1 = 1,\n  'b3739': b3739 || 1 = 1,\n  'b0720': b0720 || 1 = 1,\n  'b0978': b0978 || 1 = 1,\n  'b0979': b0979 || 1 = 1,\n  'b0733': b0733 || 1 = (( ~ b1334) | b4401),\n  'b0734': b0734 || 1 = (( ~ b1334) | b4401),\n  'b2975': b2975 || 1 = (( ~ b4401) & b2980),\n  'b3603': b3603 || 1 = ( ~ b4401),\n  'b2779': b2779 || 1 = 1,\n  'b1773': b1773 || 1 = 1,\n  'b2097': b2097 || 1 = 1,\n  'b2925': b2925 || 1 = 1,\n  'b3925': b3925 || 1 = 1,\n  'b4232': b4232 || 1 = 1,\n  'b0904': b0904 || 1 = (b4401 | (b1334 & b3357)),\n  'b2492': b2492 || 1 = (b4401 | (b1334 & b3357)),\n  'b4153': b4153 || 1 = (b1334 | b4124),\n  'b4151': b4151 || 1 = (b1334 | b4124),\n  'b4152': b4152 || 1 = (b1334 | b4124),\n  'b4154': b4154 || 1 = (b1334 | b4124),\n  'b2415': b2415 || 1 = 1,\n  'b1818': b1818 || 1 = (CRPnoGLM | ( ~ b1594)),\n  'b1817': b1817 || 1 = (CRPnoGLM | ( ~ b1594)),\n  'b1819': b1819 || 1 = (CRPnoGLM | ( ~ b1594)),\n  'b2416': b2416 || 1 = 1,\n  'b4122': b4122 || 1 = (b1334 | b3357 | b4124),\n  'b1612': b1612 || 1 = ( ~ (b4401 | b1334)),\n  'b1611': b1611 || 1 = ( ~ b4401),\n  'b3528': b3528 || 1 = (CRPnoGLM & ( ~ b4401) & b4124),\n  'b1852': b1852 || 1 = 1,\n  'b1779': b1779 || 1 = 1,\n  'b2417': b2417 || 1 = 1,\n  'b1101': b1101 || 1 = (( ~ b1594) | ( ~ b0080)),\n  'b1621': b1621 || 1 = 1,\n  'b3870': b3870 || 1 = b3357,\n  'b1297': b1297 || 1 = 1,\n  'b0810': b0810 || 1 = 1,\n  'b0811': b0811 || 1 = 1,\n  'b0809': b0809 || 1 = 1,\n  'b1761': b1761 || 1 = ( ~ (b1988 | (glu__L_e > 0))),\n  'b0485': b0485 || 1 = 1,\n  'b1812': b1812 || 1 = 1,\n  'b1524': b1524 || 1 = (( ~ (glc__D_e > 0)) | ((nh4_e > 0) & ( ~ b3357))),\n  'b3212': b3212 || 1 = ( ~ (NRI_hi & (glu__L_e > 0))),\n  'b3213': b3213 || 1 = ( ~ (NRI_hi & (glu__L_e > 0))),\n  'b4077': b4077 || 1 = 1,\n  'b2029': b2029 || 1 = 1,\n  'b0875': b0875 || 1 = 1,\n  'b1136': b1136 || 1 = 1,\n  'b4015': b4015 || 1 = (( ~ b4018) & (( ~ b4401) | b0080)),\n  'b2133': b2133 || 1 = 1,\n  'b1380': b1380 || 1 = 1,\n  'b4014': b4014 || 1 = (( ~ b4018) & (( ~ b4401) | b0080)),\n  'b2976': b2976 || 1 = (( ~ b4401) & b2980),\n  'b3236': b3236 || 1 = ( ~ b4401),\n  'b1479': b1479 || 1 = 1,\n  'b2463': b2463 || 1 = 1,\n  'b2287': b2287 || 1 = ( ~ (b4401 | b1334)),\n  'b2285': b2285 || 1 = ( ~ (b4401 | b1334)),\n  'b2283': b2283 || 1 = ( ~ (b4401 | b1334)),\n  'b2281': b2281 || 1 = ( ~ (b4401 | b1334)),\n  'b2279': b2279 || 1 = ( ~ (b4401 | b1334)),\n  'b2277': b2277 || 1 = ( ~ (b4401 | b1334)),\n  'b2276': b2276 || 1 = ( ~ (b4401 | b1334)),\n  'b2278': b2278 || 1 = ( ~ (b4401 | b1334)),\n  'b2280': b2280 || 1 = ( ~ (b4401 | b1334)),\n  'b2282': b2282 || 1 = ( ~ (b4401 | b1334)),\n  'b2284': b2284 || 1 = ( ~ (b4401 | b1334)),\n  'b2286': b2286 || 1 = ( ~ (b4401 | b1334)),\n  'b2288': b2288 || 1 = ( ~ (b4401 | b1334)),\n  'b3962': b3962 || 1 = 1,\n  'b1602': b1602 || 1 = 1,\n  'b1603': b1603 || 1 = 1,\n  'b0451': b0451 || 1 = 1,\n  'b0115': b0115 || 1 = (( ~ b0113) | b3261),\n  'b0114': b0114 || 1 = (( ~ b0113) | b3261),\n  'b3916': b3916 || 1 = 1,\n  'b1723': b1723 || 1 = 1,\n  'b0902': b0902 || 1 = (b4401 | (b1334 & b3357)),\n  'b3114': b3114 || 1 = (b3357 | b1334),\n  'b0903': b0903 || 1 = (b4401 | (b1334 & b3357)),\n  'b2579': b2579 || 1 = 1,\n  'b3951': b3951 || 1 = (b4401 | b1334),\n  'b3952': b3952 || 1 = (b4401 | b1334),\n  'b4025': b4025 || 1 = 1,\n  'b2926': b2926 || 1 = 1,\n  'b0767': b0767 || 1 = 1,\n  'b4395': b4395 || 1 = 1,\n  'b3612': b3612 || 1 = 1,\n  'b0755': b0755 || 1 = 1,\n  'b2987': b2987 || 1 = ( ~ b0399),\n  'b3493': b3493 || 1 = 1,\n  'b3956': b3956 || 1 = 1,\n  'b3403': b3403 || 1 = 1,\n  'b1702': b1702 || 1 = b0080,\n  'b2297': b2297 || 1 = 1,\n  'b2458': b2458 || 1 = 1,\n  'b1854': b1854 || 1 = 1,\n  'b1676': b1676 || 1 = ( ~ b0080),\n  'b3386': b3386 || 1 = 1,\n  'b4301': b4301 || 1 = 1,\n  'b2914': b2914 || 1 = 1,\n  'b4090': b4090 || 1 = 1,\n  'b0723': b0723 || 1 = (( ~ (b4401 | b1334)) | b3357 | b3261),\n  'b0721': b0721 || 1 = (( ~ (b4401 | b1334)) | b3357 | b3261),\n  'b0722': b0722 || 1 = (( ~ (b4401 | b1334)) | b3357 | b3261),\n  'b0724': b0724 || 1 = (( ~ (b4401 | b1334)) | b3357 | b3261),\n  'b0728': b0728 || 1 = 1,\n  'b0729': b0729 || 1 = 1,\n  'b2464': b2464 || 1 = 1,\n  'b0008': b0008 || 1 = 1,\n  'b2935': b2935 || 1 = 1,\n  'b2465': b2465 || 1 = 1,\n  'b3919': b3919 || 1 = 1},\n 'metabolites': {'acald_c': acald_c || Acetaldehyde || C2H4O,\n  'coa_c': coa_c || Coenzyme A || C21H32N7O16P3S,\n  'nad_c': nad_c || Nicotinamide adenine dinucleotide || C21H26N7O14P2,\n  'accoa_c': accoa_c || Acetyl-CoA || C23H34N7O17P3S,\n  'h_c': h_c || H+ || H,\n  'nadh_c': nadh_c || Nicotinamide adenine dinucleotide - reduced || C21H27N7O14P2,\n  'acald_e': acald_e || Acetaldehyde || C2H4O,\n  'ac_c': ac_c || Acetate || C2H3O2,\n  'atp_c': atp_c || ATP || C10H12N5O13P3,\n  'actp_c': actp_c || Acetyl phosphate || C2H3O5P,\n  'adp_c': adp_c || ADP || C10H12N5O10P2,\n  'cit_c': cit_c || Citrate || C6H5O7,\n  'acon_C_c': acon_C_c || cis-Aconitate || C6H3O6,\n  'h2o_c': h2o_c || H2O || H2O,\n  'icit_c': icit_c || Isocitrate || C6H5O7,\n  'ac_e': ac_e || ac_e || C2H3O2,\n  'h_e': h_e || H+ || H,\n  'amp_c': amp_c || AMP || C10H12N5O7P,\n  'akg_c': akg_c || 2-Oxoglutarate || C5H4O5,\n  'co2_c': co2_c || CO2 || CO2,\n  'succoa_c': succoa_c || Succinyl-CoA || C25H35N7O19P3S,\n  'akg_e': akg_e || 2-Oxoglutarate || C5H4O5,\n  'etoh_c': etoh_c || Ethanol || C2H6O,\n  'pi_c': pi_c || Phosphate || HO4P,\n  '3pg_c': 3pg_c || 3-Phospho-D-glycerate || C3H4O7P,\n  'e4p_c': e4p_c || D-Erythrose 4-phosphate || C4H7O7P,\n  'f6p_c': f6p_c || D-Fructose 6-phosphate || C6H11O9P,\n  'g3p_c': g3p_c || Glyceraldehyde 3-phosphate || C3H5O6P,\n  'g6p_c': g6p_c || D-Glucose 6-phosphate || C6H11O9P,\n  'gln__L_c': gln__L_c || L-Glutamine || C5H10N2O3,\n  'glu__L_c': glu__L_c || L-Glutamate || C5H8NO4,\n  'nadph_c': nadph_c || Nicotinamide adenine dinucleotide phosphate - reduced || C21H26N7O17P3,\n  'oaa_c': oaa_c || Oxaloacetate || C4H2O5,\n  'pep_c': pep_c || Phosphoenolpyruvate || C3H2O6P,\n  'pyr_c': pyr_c || Pyruvate || C3H3O3,\n  'r5p_c': r5p_c || alpha-D-Ribose 5-phosphate || C5H9O8P,\n  'nadp_c': nadp_c || Nicotinamide adenine dinucleotide phosphate || C21H25N7O17P3,\n  'co2_e': co2_e || CO2 || CO2,\n  'o2_c': o2_c || O2 || O2,\n  'q8h2_c': q8h2_c || Ubiquinol-8 || C49H76O4,\n  'q8_c': q8_c || Ubiquinone-8 || C49H74O4,\n  'lac__D_e': lac__D_e || lac__D_e || C3H5O3,\n  'lac__D_c': lac__D_c || D-Lactate || C3H5O3,\n  '2pg_c': 2pg_c || D-Glycerate 2-phosphate || C3H4O7P,\n  'etoh_e': etoh_e || Ethanol || C2H6O,\n  'for_e': for_e || Formate || CH1O2,\n  'fru_e': fru_e || fru_e || C6H12O6,\n  'fum_e': fum_e || fum_e || C4H2O4,\n  'glc__D_e': glc__D_e || glc__D_e || C6H12O6,\n  'gln__L_e': gln__L_e || L-Glutamine || C5H10N2O3,\n  'glu__L_e': glu__L_e || glu__L_e || C5H8NO4,\n  'h2o_e': h2o_e || H2O || H2O,\n  'mal__L_e': mal__L_e || mal__L_e || C4H4O5,\n  'nh4_e': nh4_e || nh4_e || H4N,\n  'o2_e': o2_e || o2_e || O2,\n  'pi_e': pi_e || pi_e || HO4P,\n  'pyr_e': pyr_e || Pyruvate || C3H3O3,\n  'succ_e': succ_e || succ_e || C4H4O4,\n  'fdp_c': fdp_c || D-Fructose 1,6-bisphosphate || C6H10O12P2,\n  'dhap_c': dhap_c || Dihydroxyacetone phosphate || C3H5O6P,\n  'for_c': for_c || Formate || CH1O2,\n  'fum_c': fum_c || Fumarate || C4H2O4,\n  'succ_c': succ_c || Succinate || C4H4O4,\n  'mal__L_c': mal__L_c || L-Malate || C4H4O5,\n  '6pgl_c': 6pgl_c || 6-phospho-D-glucono-1,5-lactone || C6H9O9P,\n  '13dpg_c': 13dpg_c || 3-Phospho-D-glyceroyl phosphate || C3H4O10P2,\n  'nh4_c': nh4_c || Ammonium || H4N,\n  '6pgc_c': 6pgc_c || 6-Phospho-D-gluconate || C6H10O10P,\n  'ru5p__D_c': ru5p__D_c || D-Ribulose 5-phosphate || C5H9O8P,\n  'glx_c': glx_c || Glyoxylate || C2H1O3,\n  'xu5p__D_c': xu5p__D_c || D-Xylulose 5-phosphate || C5H9O8P,\n  's7p_c': s7p_c || Sedoheptulose 7-phosphate || C7H13O10P},\n 'objective': {'Biomass_Ecoli_core': 1.0},\n 'reactions': {'ACALD': ACALD || 1.0 acald_c + 1.0 coa_c + 1.0 nad_c <-> 1.0 accoa_c + 1.0 h_c + 1.0 nadh_c,\n  'ACALDt': ACALDt || 1.0 acald_e <-> 1.0 acald_c,\n  'ACKr': ACKr || 1.0 ac_c + 1.0 atp_c <-> 1.0 actp_c + 1.0 adp_c,\n  'ACONTa': ACONTa || 1.0 cit_c <-> 1.0 acon_C_c + 1.0 h2o_c,\n  'ACONTb': ACONTb || 1.0 acon_C_c + 1.0 h2o_c <-> 1.0 icit_c,\n  'ACt2r': ACt2r || 1.0 ac_e + 1.0 h_e <-> 1.0 ac_c + 1.0 h_c,\n  'ADK1': ADK1 || 1.0 amp_c + 1.0 atp_c <-> 2.0 adp_c,\n  'AKGDH': AKGDH || 1.0 akg_c + 1.0 coa_c + 1.0 nad_c -> 1.0 co2_c + 1.0 nadh_c + 1.0 succoa_c,\n  'AKGt2r': AKGt2r || 1.0 akg_e + 1.0 h_e <-> 1.0 akg_c + 1.0 h_c,\n  'ALCD2x': ALCD2x || 1.0 etoh_c + 1.0 nad_c <-> 1.0 acald_c + 1.0 h_c + 1.0 nadh_c,\n  'ATPM': ATPM || 1.0 atp_c + 1.0 h2o_c -> 1.0 adp_c + 1.0 h_c + 1.0 pi_c,\n  'ATPS4r': ATPS4r || 1.0 adp_c + 4.0 h_e + 1.0 pi_c <-> 1.0 atp_c + 1.0 h2o_c + 3.0 h_c,\n  'Biomass_Ecoli_core': Biomass_Ecoli_core || 1.496 3pg_c + 3.7478 accoa_c + 59.81 atp_c + 0.361 e4p_c + 0.0709 f6p_c + 0.129 g3p_c + 0.205 g6p_c + 0.2557 gln__L_c + 4.9414 glu__L_c + 59.81 h2o_c + 3.547 nad_c + 13.0279 nadph_c + 1.7867 oaa_c + 0.5191 pep_c + 2.8328 pyr_c + 0.8977 r5p_c -> 59.81 adp_c + 4.1182 akg_c + 3.7478 coa_c + 59.81 h_c + 3.547 nadh_c + 13.0279 nadp_c + 59.81 pi_c,\n  'CO2t': CO2t || 1.0 co2_e <-> 1.0 co2_c,\n  'CS': CS || 1.0 accoa_c + 1.0 h2o_c + 1.0 oaa_c -> 1.0 cit_c + 1.0 coa_c + 1.0 h_c,\n  'CYTBD': CYTBD || 2.0 h_c + 0.5 o2_c + 1.0 q8h2_c -> 1.0 h2o_c + 2.0 h_e + 1.0 q8_c,\n  'D_LACt2': D_LACt2 || 1.0 h_e + 1.0 lac__D_e <-> 1.0 h_c + 1.0 lac__D_c,\n  'ENO': ENO || 1.0 2pg_c <-> 1.0 h2o_c + 1.0 pep_c,\n  'ETOHt2r': ETOHt2r || 1.0 etoh_e + 1.0 h_e <-> 1.0 etoh_c + 1.0 h_c,\n  'EX_ac_e': EX_ac_e || 1.0 ac_e -> ,\n  'EX_acald_e': EX_acald_e || 1.0 acald_e -> ,\n  'EX_akg_e': EX_akg_e || 1.0 akg_e -> ,\n  'EX_co2_e': EX_co2_e || 1.0 co2_e <-> ,\n  'EX_etoh_e': EX_etoh_e || 1.0 etoh_e -> ,\n  'EX_for_e': EX_for_e || 1.0 for_e -> ,\n  'EX_fru_e': EX_fru_e || 1.0 fru_e -> ,\n  'EX_fum_e': EX_fum_e || 1.0 fum_e -> ,\n  'EX_glc__D_e': EX_glc__D_e || 1.0 glc__D_e <-> ,\n  'EX_gln__L_e': EX_gln__L_e || 1.0 gln__L_e -> ,\n  'EX_glu__L_e': EX_glu__L_e || 1.0 glu__L_e -> ,\n  'EX_h_e': EX_h_e || 1.0 h_e <-> ,\n  'EX_h2o_e': EX_h2o_e || 1.0 h2o_e <-> ,\n  'EX_lac__D_e': EX_lac__D_e || 1.0 lac__D_e -> ,\n  'EX_mal__L_e': EX_mal__L_e || 1.0 mal__L_e -> ,\n  'EX_nh4_e': EX_nh4_e || 1.0 nh4_e <-> ,\n  'EX_o2_e': EX_o2_e || 1.0 o2_e <-> ,\n  'EX_pi_e': EX_pi_e || 1.0 pi_e <-> ,\n  'EX_pyr_e': EX_pyr_e || 1.0 pyr_e -> ,\n  'EX_succ_e': EX_succ_e || 1.0 succ_e -> ,\n  'FBA': FBA || 1.0 fdp_c <-> 1.0 dhap_c + 1.0 g3p_c,\n  'FBP': FBP || 1.0 fdp_c + 1.0 h2o_c -> 1.0 f6p_c + 1.0 pi_c,\n  'FORt2': FORt2 || 1.0 for_e + 1.0 h_e -> 1.0 for_c + 1.0 h_c,\n  'FORti': FORti || 1.0 for_c -> 1.0 for_e,\n  'FRD7': FRD7 || 1.0 fum_c + 1.0 q8h2_c -> 1.0 q8_c + 1.0 succ_c,\n  'FRUpts2': FRUpts2 || 1.0 fru_e + 1.0 pep_c -> 1.0 f6p_c + 1.0 pyr_c,\n  'FUM': FUM || 1.0 fum_c + 1.0 h2o_c <-> 1.0 mal__L_c,\n  'FUMt2_2': FUMt2_2 || 1.0 fum_e + 2.0 h_e -> 1.0 fum_c + 2.0 h_c,\n  'G6PDH2r': G6PDH2r || 1.0 g6p_c + 1.0 nadp_c <-> 1.0 6pgl_c + 1.0 h_c + 1.0 nadph_c,\n  'GAPD': GAPD || 1.0 g3p_c + 1.0 nad_c + 1.0 pi_c <-> 1.0 13dpg_c + 1.0 h_c + 1.0 nadh_c,\n  'GLCpts': GLCpts || 1.0 glc__D_e + 1.0 pep_c -> 1.0 g6p_c + 1.0 pyr_c,\n  'GLNS': GLNS || 1.0 atp_c + 1.0 glu__L_c + 1.0 nh4_c -> 1.0 adp_c + 1.0 gln__L_c + 1.0 h_c + 1.0 pi_c,\n  'GLNabc': GLNabc || 1.0 atp_c + 1.0 gln__L_e + 1.0 h2o_c -> 1.0 adp_c + 1.0 gln__L_c + 1.0 h_c + 1.0 pi_c,\n  'GLUDy': GLUDy || 1.0 glu__L_c + 1.0 h2o_c + 1.0 nadp_c <-> 1.0 akg_c + 1.0 h_c + 1.0 nadph_c + 1.0 nh4_c,\n  'GLUN': GLUN || 1.0 gln__L_c + 1.0 h2o_c -> 1.0 glu__L_c + 1.0 nh4_c,\n  'GLUSy': GLUSy || 1.0 akg_c + 1.0 gln__L_c + 1.0 h_c + 1.0 nadph_c -> 2.0 glu__L_c + 1.0 nadp_c,\n  'GLUt2r': GLUt2r || 1.0 glu__L_e + 1.0 h_e <-> 1.0 glu__L_c + 1.0 h_c,\n  'GND': GND || 1.0 6pgc_c + 1.0 nadp_c -> 1.0 co2_c + 1.0 nadph_c + 1.0 ru5p__D_c,\n  'H2Ot': H2Ot || 1.0 h2o_e <-> 1.0 h2o_c,\n  'ICDHyr': ICDHyr || 1.0 icit_c + 1.0 nadp_c <-> 1.0 akg_c + 1.0 co2_c + 1.0 nadph_c,\n  'ICL': ICL || 1.0 icit_c -> 1.0 glx_c + 1.0 succ_c,\n  'LDH_D': LDH_D || 1.0 lac__D_c + 1.0 nad_c <-> 1.0 h_c + 1.0 nadh_c + 1.0 pyr_c,\n  'MALS': MALS || 1.0 accoa_c + 1.0 glx_c + 1.0 h2o_c -> 1.0 coa_c + 1.0 h_c + 1.0 mal__L_c,\n  'MALt2_2': MALt2_2 || 2.0 h_e + 1.0 mal__L_e -> 2.0 h_c + 1.0 mal__L_c,\n  'MDH': MDH || 1.0 mal__L_c + 1.0 nad_c <-> 1.0 h_c + 1.0 nadh_c + 1.0 oaa_c,\n  'ME1': ME1 || 1.0 mal__L_c + 1.0 nad_c -> 1.0 co2_c + 1.0 nadh_c + 1.0 pyr_c,\n  'ME2': ME2 || 1.0 mal__L_c + 1.0 nadp_c -> 1.0 co2_c + 1.0 nadph_c + 1.0 pyr_c,\n  'NADH16': NADH16 || 4.0 h_c + 1.0 nadh_c + 1.0 q8_c -> 3.0 h_e + 1.0 nad_c + 1.0 q8h2_c,\n  'NADTRHD': NADTRHD || 1.0 nad_c + 1.0 nadph_c -> 1.0 nadh_c + 1.0 nadp_c,\n  'NH4t': NH4t || 1.0 nh4_e <-> 1.0 nh4_c,\n  'O2t': O2t || 1.0 o2_e <-> 1.0 o2_c,\n  'PDH': PDH || 1.0 coa_c + 1.0 nad_c + 1.0 pyr_c -> 1.0 accoa_c + 1.0 co2_c + 1.0 nadh_c,\n  'PFK': PFK || 1.0 atp_c + 1.0 f6p_c -> 1.0 adp_c + 1.0 fdp_c + 1.0 h_c,\n  'PFL': PFL || 1.0 coa_c + 1.0 pyr_c -> 1.0 accoa_c + 1.0 for_c,\n  'PGI': PGI || 1.0 g6p_c <-> 1.0 f6p_c,\n  'PGK': PGK || 1.0 3pg_c + 1.0 atp_c <-> 1.0 13dpg_c + 1.0 adp_c,\n  'PGL': PGL || 1.0 6pgl_c + 1.0 h2o_c -> 1.0 6pgc_c + 1.0 h_c,\n  'PGM': PGM || 1.0 2pg_c <-> 1.0 3pg_c,\n  'PIt2r': PIt2r || 1.0 h_e + 1.0 pi_e <-> 1.0 h_c + 1.0 pi_c,\n  'PPC': PPC || 1.0 co2_c + 1.0 h2o_c + 1.0 pep_c -> 1.0 h_c + 1.0 oaa_c + 1.0 pi_c,\n  'PPCK': PPCK || 1.0 atp_c + 1.0 oaa_c -> 1.0 adp_c + 1.0 co2_c + 1.0 pep_c,\n  'PPS': PPS || 1.0 atp_c + 1.0 h2o_c + 1.0 pyr_c -> 1.0 amp_c + 2.0 h_c + 1.0 pep_c + 1.0 pi_c,\n  'PTAr': PTAr || 1.0 accoa_c + 1.0 pi_c <-> 1.0 actp_c + 1.0 coa_c,\n  'PYK': PYK || 1.0 adp_c + 1.0 h_c + 1.0 pep_c -> 1.0 atp_c + 1.0 pyr_c,\n  'PYRt2': PYRt2 || 1.0 h_e + 1.0 pyr_e <-> 1.0 h_c + 1.0 pyr_c,\n  'RPE': RPE || 1.0 ru5p__D_c <-> 1.0 xu5p__D_c,\n  'RPI': RPI || 1.0 r5p_c <-> 1.0 ru5p__D_c,\n  'SUCCt2_2': SUCCt2_2 || 2.0 h_e + 1.0 succ_e -> 2.0 h_c + 1.0 succ_c,\n  'SUCCt3': SUCCt3 || 1.0 h_e + 1.0 succ_c -> 1.0 h_c + 1.0 succ_e,\n  'SUCDi': SUCDi || 1.0 q8_c + 1.0 succ_c -> 1.0 fum_c + 1.0 q8h2_c,\n  'SUCOAS': SUCOAS || 1.0 atp_c + 1.0 coa_c + 1.0 succ_c <-> 1.0 adp_c + 1.0 pi_c + 1.0 succoa_c,\n  'TALA': TALA || 1.0 g3p_c + 1.0 s7p_c <-> 1.0 e4p_c + 1.0 f6p_c,\n  'THD2': THD2 || 2.0 h_e + 1.0 nadh_c + 1.0 nadp_c -> 2.0 h_c + 1.0 nad_c + 1.0 nadph_c,\n  'TKT1': TKT1 || 1.0 r5p_c + 1.0 xu5p__D_c <-> 1.0 g3p_c + 1.0 s7p_c,\n  'TKT2': TKT2 || 1.0 e4p_c + 1.0 xu5p__D_c <-> 1.0 f6p_c + 1.0 g3p_c,\n  'TPI': TPI || 1.0 dhap_c <-> 1.0 g3p_c},\n 'interactions': {'b0008_interaction': b0008 || 1 = 1,\n  'b0080_interaction': b0080 || 1 = ( ~ surplusFDP),\n  'b0113_interaction': b0113 || 1 = ( ~ surplusPYR),\n  'b0114_interaction': b0114 || 1 = (( ~ b0113) | b3261),\n  'b0115_interaction': b0115 || 1 = (( ~ b0113) | b3261),\n  'b0116_interaction': b0116 || 1 = 1,\n  'b0118_interaction': b0118 || 1 = 1,\n  'b0351_interaction': b0351 || 1 = 1,\n  'b0356_interaction': b0356 || 1 = 1,\n  'b0399_interaction': b0399 || 1 = b0400,\n  'b0400_interaction': b0400 || 1 = ( ~ (pi_e > 0)),\n  'b0451_interaction': b0451 || 1 = 1,\n  'b0474_interaction': b0474 || 1 = 1,\n  'b0485_interaction': b0485 || 1 = 1,\n  'b0720_interaction': b0720 || 1 = 1,\n  'b0721_interaction': b0721 || 1 = (( ~ (b4401 | b1334)) | b3357 | b3261),\n  'b0722_interaction': b0722 || 1 = (( ~ (b4401 | b1334)) | b3357 | b3261),\n  'b0723_interaction': b0723 || 1 = (( ~ (b4401 | b1334)) | b3357 | b3261),\n  'b0724_interaction': b0724 || 1 = (( ~ (b4401 | b1334)) | b3357 | b3261),\n  'b0726_interaction': b0726 || 1 = 1,\n  'b0727_interaction': b0727 || 1 = 1,\n  'b0728_interaction': b0728 || 1 = 1,\n  'b0729_interaction': b0729 || 1 = 1,\n  'b0733_interaction': b0733 || 1 = (( ~ b1334) | b4401),\n  'b0734_interaction': b0734 || 1 = (( ~ b1334) | b4401),\n  'b0755_interaction': b0755 || 1 = 1,\n  'b0767_interaction': b0767 || 1 = 1,\n  'b0809_interaction': b0809 || 1 = 1,\n  'b0810_interaction': b0810 || 1 = 1,\n  'b0811_interaction': b0811 || 1 = 1,\n  'b0875_interaction': b0875 || 1 = 1,\n  'b0902_interaction': b0902 || 1 = (b4401 | (b1334 & b3357)),\n  'b0903_interaction': b0903 || 1 = (b4401 | (b1334 & b3357)),\n  'b0904_interaction': b0904 || 1 = (b4401 | (b1334 & b3357)),\n  'b0978_interaction': b0978 || 1 = 1,\n  'b0979_interaction': b0979 || 1 = 1,\n  'b1101_interaction': b1101 || 1 = (( ~ b1594) | ( ~ b0080)),\n  'b1136_interaction': b1136 || 1 = 1,\n  'b1187_interaction': b1187 || 1 = ((glc__D_e > 0) | ( ~ (ac_e > 0))),\n  'b1241_interaction': b1241 || 1 = (( ~ (o2_e > 0)) | ( ~ ((o2_e > 0) & b0080)) | b3261),\n  'b1276_interaction': b1276 || 1 = 1,\n  'b1297_interaction': b1297 || 1 = 1,\n  'b1334_interaction': b1334 || 1 = ( ~ (o2_e > 0)),\n  'b1380_interaction': b1380 || 1 = 1,\n  'b1478_interaction': b1478 || 1 = 1,\n  'b1479_interaction': b1479 || 1 = 1,\n  'b1524_interaction': b1524 || 1 = (( ~ (glc__D_e > 0)) | ((nh4_e > 0) & ( ~ b3357))),\n  'b1594_interaction': b1594 || 1 = ( ~ (glc__D_e > 0)),\n  'b1602_interaction': b1602 || 1 = 1,\n  'b1603_interaction': b1603 || 1 = 1,\n  'b1611_interaction': b1611 || 1 = ( ~ b4401),\n  'b1612_interaction': b1612 || 1 = ( ~ (b4401 | b1334)),\n  'b1621_interaction': b1621 || 1 = 1,\n  'b1676_interaction': b1676 || 1 = ( ~ b0080),\n  'b1702_interaction': b1702 || 1 = b0080,\n  'b1723_interaction': b1723 || 1 = 1,\n  'b1761_interaction': b1761 || 1 = ( ~ (b1988 | (glu__L_e > 0))),\n  'b1773_interaction': b1773 || 1 = 1,\n  'b1779_interaction': b1779 || 1 = 1,\n  'b1812_interaction': b1812 || 1 = 1,\n  'b1817_interaction': b1817 || 1 = (CRPnoGLM | ( ~ b1594)),\n  'b1818_interaction': b1818 || 1 = (CRPnoGLM | ( ~ b1594)),\n  'b1819_interaction': b1819 || 1 = (CRPnoGLM | ( ~ b1594)),\n  'b1849_interaction': b1849 || 1 = 1,\n  'b1852_interaction': b1852 || 1 = 1,\n  'b1854_interaction': b1854 || 1 = 1,\n  'b1988_interaction': b1988 || 1 = NRI_low,\n  'b2029_interaction': b2029 || 1 = 1,\n  'b2097_interaction': b2097 || 1 = 1,\n  'b2133_interaction': b2133 || 1 = 1,\n  'b2276_interaction': b2276 || 1 = ( ~ (b4401 | b1334)),\n  'b2277_interaction': b2277 || 1 = ( ~ (b4401 | b1334)),\n  'b2278_interaction': b2278 || 1 = ( ~ (b4401 | b1334)),\n  'b2279_interaction': b2279 || 1 = ( ~ (b4401 | b1334)),\n  'b2280_interaction': b2280 || 1 = ( ~ (b4401 | b1334)),\n  'b2281_interaction': b2281 || 1 = ( ~ (b4401 | b1334)),\n  'b2282_interaction': b2282 || 1 = ( ~ (b4401 | b1334)),\n  'b2283_interaction': b2283 || 1 = ( ~ (b4401 | b1334)),\n  'b2284_interaction': b2284 || 1 = ( ~ (b4401 | b1334)),\n  'b2285_interaction': b2285 || 1 = ( ~ (b4401 | b1334)),\n  'b2286_interaction': b2286 || 1 = ( ~ (b4401 | b1334)),\n  'b2287_interaction': b2287 || 1 = ( ~ (b4401 | b1334)),\n  'b2288_interaction': b2288 || 1 = ( ~ (b4401 | b1334)),\n  'b2296_interaction': b2296 || 1 = 1,\n  'b2297_interaction': b2297 || 1 = 1,\n  'b2415_interaction': b2415 || 1 = 1,\n  'b2416_interaction': b2416 || 1 = 1,\n  'b2417_interaction': b2417 || 1 = 1,\n  'b2458_interaction': b2458 || 1 = 1,\n  'b2463_interaction': b2463 || 1 = 1,\n  'b2464_interaction': b2464 || 1 = 1,\n  'b2465_interaction': b2465 || 1 = 1,\n  'b2492_interaction': b2492 || 1 = (b4401 | (b1334 & b3357)),\n  'b2579_interaction': b2579 || 1 = 1,\n  'b2587_interaction': b2587 || 1 = 1,\n  'b2779_interaction': b2779 || 1 = 1,\n  'b2914_interaction': b2914 || 1 = 1,\n  'b2925_interaction': b2925 || 1 = 1,\n  'b2926_interaction': b2926 || 1 = 1,\n  'b2935_interaction': b2935 || 1 = 1,\n  'b2975_interaction': b2975 || 1 = (( ~ b4401) & b2980),\n  'b2976_interaction': b2976 || 1 = (( ~ b4401) & b2980),\n  'b2980_interaction': b2980 || 1 = (ac_e > 0),\n  'b2987_interaction': b2987 || 1 = ( ~ b0399),\n  'b3114_interaction': b3114 || 1 = (b3357 | b1334),\n  'b3115_interaction': b3115 || 1 = (b3357 | b1334),\n  'b3212_interaction': b3212 || 1 = ( ~ (NRI_hi & (glu__L_e > 0))),\n  'b3213_interaction': b3213 || 1 = ( ~ (NRI_hi & (glu__L_e > 0))),\n  'b3236_interaction': b3236 || 1 = ( ~ b4401),\n  'b3261_interaction': b3261 || 1 = (Biomass_Ecoli_core > 0),\n  'b3357_interaction': b3357 || 1 = CRPnoGLC,\n  'b3386_interaction': b3386 || 1 = 1,\n  'b3403_interaction': b3403 || 1 = 1,\n  'b3493_interaction': b3493 || 1 = 1,\n  'b3528_interaction': b3528 || 1 = (CRPnoGLM & ( ~ b4401) & b4124),\n  'b3603_interaction': b3603 || 1 = ( ~ b4401),\n  'b3612_interaction': b3612 || 1 = 1,\n  'b3731_interaction': b3731 || 1 = 1,\n  'b3732_interaction': b3732 || 1 = 1,\n  'b3733_interaction': b3733 || 1 = 1,\n  'b3734_interaction': b3734 || 1 = 1,\n  'b3735_interaction': b3735 || 1 = 1,\n  'b3736_interaction': b3736 || 1 = 1,\n  'b3737_interaction': b3737 || 1 = 1,\n  'b3738_interaction': b3738 || 1 = 1,\n  'b3739_interaction': b3739 || 1 = 1,\n  'b3868_interaction': b3868 || 1 = ( ~ (nh4_e > 0)),\n  'b3870_interaction': b3870 || 1 = b3357,\n  'b3916_interaction': b3916 || 1 = 1,\n  'b3919_interaction': b3919 || 1 = 1,\n  'b3925_interaction': b3925 || 1 = 1,\n  'b3951_interaction': b3951 || 1 = (b4401 | b1334),\n  'b3952_interaction': b3952 || 1 = (b4401 | b1334),\n  'b3956_interaction': b3956 || 1 = 1,\n  'b3962_interaction': b3962 || 1 = 1,\n  'b4014_interaction': b4014 || 1 = (( ~ b4018) & (( ~ b4401) | b0080)),\n  'b4015_interaction': b4015 || 1 = (( ~ b4018) & (( ~ b4401) | b0080)),\n  'b4018_interaction': b4018 || 1 = b1187,\n  'b4025_interaction': b4025 || 1 = 1,\n  'b4077_interaction': b4077 || 1 = 1,\n  'b4090_interaction': b4090 || 1 = 1,\n  'b4122_interaction': b4122 || 1 = (b1334 | b3357 | b4124),\n  'b4124_interaction': b4124 || 1 = b4125,\n  'b4125_interaction': b4125 || 1 = ((succ_e > 0) | (fum_e > 0) | (mal__L_e > 0)),\n  'b4151_interaction': b4151 || 1 = (b1334 | b4124),\n  'b4152_interaction': b4152 || 1 = (b1334 | b4124),\n  'b4153_interaction': b4153 || 1 = (b1334 | b4124),\n  'b4154_interaction': b4154 || 1 = (b1334 | b4124),\n  'b4232_interaction': b4232 || 1 = 1,\n  'b4301_interaction': b4301 || 1 = 1,\n  'b4395_interaction': b4395 || 1 = 1,\n  'b4401_interaction': b4401 || 1 = ( ~ (o2_e > 0)),\n  's0001_interaction': s0001 || 1 = 1,\n  'CRPnoGLC_interaction': CRPnoGLC || 1 = ( ~ (glc__D_e > 0)),\n  'CRPnoGLM_interaction': CRPnoGLM || 1 = ( ~ ((glc__D_e > 0) | (mal__L_e > 0) | (lac__D_e > 0))),\n  'NRI_hi_interaction': NRI_hi || 1 = NRI_low,\n  'NRI_low_interaction': NRI_low || 1 = b3868,\n  'surplusFDP_interaction': surplusFDP || 1 = ((( ~ (FBP > 0)) & ( ~ ((TKT2 > 0) | (TALA > 0) | (PGI > 0)))) | (fru_e > 0)),\n  'surplusPYR_interaction': surplusPYR || 1 = (( ~ ((ME2 > 0) | (ME1 > 0))) & ( ~ ((GLCpts > 0) | (PYK > 0) | (PFK > 0) | (LDH_D > 0) | (SUCCt2_2 > 0))))},\n 'regulators': {'Biomass_Ecoli_core': Biomass_Ecoli_core || 1.496 3pg_c + 3.7478 accoa_c + 59.81 atp_c + 0.361 e4p_c + 0.0709 f6p_c + 0.129 g3p_c + 0.205 g6p_c + 0.2557 gln__L_c + 4.9414 glu__L_c + 59.81 h2o_c + 3.547 nad_c + 13.0279 nadph_c + 1.7867 oaa_c + 0.5191 pep_c + 2.8328 pyr_c + 0.8977 r5p_c -> 59.81 adp_c + 4.1182 akg_c + 3.7478 coa_c + 59.81 h_c + 3.547 nadh_c + 13.0279 nadp_c + 59.81 pi_c,\n  'FBP': FBP || 1.0 fdp_c + 1.0 h2o_c -> 1.0 f6p_c + 1.0 pi_c,\n  'GLCpts': GLCpts || 1.0 glc__D_e + 1.0 pep_c -> 1.0 g6p_c + 1.0 pyr_c,\n  'LDH_D': LDH_D || 1.0 lac__D_c + 1.0 nad_c <-> 1.0 h_c + 1.0 nadh_c + 1.0 pyr_c,\n  'ME1': ME1 || 1.0 mal__L_c + 1.0 nad_c -> 1.0 co2_c + 1.0 nadh_c + 1.0 pyr_c,\n  'ME2': ME2 || 1.0 mal__L_c + 1.0 nadp_c -> 1.0 co2_c + 1.0 nadph_c + 1.0 pyr_c,\n  'PFK': PFK || 1.0 atp_c + 1.0 f6p_c -> 1.0 adp_c + 1.0 fdp_c + 1.0 h_c,\n  'PGI': PGI || 1.0 g6p_c <-> 1.0 f6p_c,\n  'PYK': PYK || 1.0 adp_c + 1.0 h_c + 1.0 pep_c -> 1.0 atp_c + 1.0 pyr_c,\n  'SUCCt2_2': SUCCt2_2 || 2.0 h_e + 1.0 succ_e -> 2.0 h_c + 1.0 succ_c,\n  'TALA': TALA || 1.0 g3p_c + 1.0 s7p_c <-> 1.0 e4p_c + 1.0 f6p_c,\n  'TKT2': TKT2 || 1.0 e4p_c + 1.0 xu5p__D_c <-> 1.0 f6p_c + 1.0 g3p_c,\n  'surplusFDP': surplusFDP || (0.0, 1.0),\n  'surplusPYR': surplusPYR || (0.0, 1.0),\n  'b0113': b0113 || (0.0, 1.0),\n  'b3261': b3261 || (0.0, 1.0),\n  'b0400': b0400 || (0.0, 1.0),\n  'pi_e': pi_e || pi_e || HO4P,\n  'b4401': b4401 || (0.0, 1.0),\n  'b1334': b1334 || (0.0, 1.0),\n  'b1594': b1594 || (0.0, 1.0),\n  'b0080': b0080 || (0.0, 1.0),\n  'glc__D_e': glc__D_e || glc__D_e || C6H12O6,\n  'ac_e': ac_e || ac_e || C2H3O2,\n  'o2_e': o2_e || o2_e || O2,\n  'nh4_e': nh4_e || nh4_e || H4N,\n  'b1988': b1988 || (0.0, 1.0),\n  'glu__L_e': glu__L_e || glu__L_e || C5H8NO4,\n  'CRPnoGLM': CRPnoGLM || (0.0, 1.0),\n  'NRI_low': NRI_low || (0.0, 1.0),\n  'b2980': b2980 || (0.0, 1.0),\n  'b0399': b0399 || (0.0, 1.0),\n  'NRI_hi': NRI_hi || (0.0, 1.0),\n  'CRPnoGLC': CRPnoGLC || (0.0, 1.0),\n  'b4124': b4124 || (0.0, 1.0),\n  'b4018': b4018 || (0.0, 1.0),\n  'b1187': b1187 || (0.0, 1.0),\n  'b4125': b4125 || (0.0, 1.0),\n  'succ_e': succ_e || succ_e || C4H4O4,\n  'fum_e': fum_e || fum_e || C4H2O4,\n  'mal__L_e': mal__L_e || mal__L_e || C4H4O5,\n  'lac__D_e': lac__D_e || lac__D_e || C3H5O3,\n  'b3868': b3868 || (0.0, 1.0),\n  'fru_e': fru_e || fru_e || C6H12O6,\n  'b3357': b3357 || (0.0, 1.0)},\n 'targets': {'b0008': b0008 || 1 = 1,\n  'b0080': b0080 || (0.0, 1.0),\n  'b0113': b0113 || (0.0, 1.0),\n  'b0114': b0114 || 1 = (( ~ b0113) | b3261),\n  'b0115': b0115 || 1 = (( ~ b0113) | b3261),\n  'b0116': b0116 || 1 = 1,\n  'b0118': b0118 || 1 = 1,\n  'b0351': b0351 || 1 = 1,\n  'b0356': b0356 || 1 = 1,\n  'b0399': b0399 || (0.0, 1.0),\n  'b0400': b0400 || (0.0, 1.0),\n  'b0451': b0451 || 1 = 1,\n  'b0474': b0474 || 1 = 1,\n  'b0485': b0485 || 1 = 1,\n  'b0720': b0720 || 1 = 1,\n  'b0721': b0721 || 1 = (( ~ (b4401 | b1334)) | b3357 | b3261),\n  'b0722': b0722 || 1 = (( ~ (b4401 | b1334)) | b3357 | b3261),\n  'b0723': b0723 || 1 = (( ~ (b4401 | b1334)) | b3357 | b3261),\n  'b0724': b0724 || 1 = (( ~ (b4401 | b1334)) | b3357 | b3261),\n  'b0726': b0726 || 1 = 1,\n  'b0727': b0727 || 1 = 1,\n  'b0728': b0728 || 1 = 1,\n  'b0729': b0729 || 1 = 1,\n  'b0733': b0733 || 1 = (( ~ b1334) | b4401),\n  'b0734': b0734 || 1 = (( ~ b1334) | b4401),\n  'b0755': b0755 || 1 = 1,\n  'b0767': b0767 || 1 = 1,\n  'b0809': b0809 || 1 = 1,\n  'b0810': b0810 || 1 = 1,\n  'b0811': b0811 || 1 = 1,\n  'b0875': b0875 || 1 = 1,\n  'b0902': b0902 || 1 = (b4401 | (b1334 & b3357)),\n  'b0903': b0903 || 1 = (b4401 | (b1334 & b3357)),\n  'b0904': b0904 || 1 = (b4401 | (b1334 & b3357)),\n  'b0978': b0978 || 1 = 1,\n  'b0979': b0979 || 1 = 1,\n  'b1101': b1101 || 1 = (( ~ b1594) | ( ~ b0080)),\n  'b1136': b1136 || 1 = 1,\n  'b1187': b1187 || (0.0, 1.0),\n  'b1241': b1241 || 1 = (( ~ (o2_e > 0)) | ( ~ ((o2_e > 0) & b0080)) | b3261),\n  'b1276': b1276 || 1 = 1,\n  'b1297': b1297 || 1 = 1,\n  'b1334': b1334 || (0.0, 1.0),\n  'b1380': b1380 || 1 = 1,\n  'b1478': b1478 || 1 = 1,\n  'b1479': b1479 || 1 = 1,\n  'b1524': b1524 || 1 = (( ~ (glc__D_e > 0)) | ((nh4_e > 0) & ( ~ b3357))),\n  'b1594': b1594 || (0.0, 1.0),\n  'b1602': b1602 || 1 = 1,\n  'b1603': b1603 || 1 = 1,\n  'b1611': b1611 || 1 = ( ~ b4401),\n  'b1612': b1612 || 1 = ( ~ (b4401 | b1334)),\n  'b1621': b1621 || 1 = 1,\n  'b1676': b1676 || 1 = ( ~ b0080),\n  'b1702': b1702 || 1 = b0080,\n  'b1723': b1723 || 1 = 1,\n  'b1761': b1761 || 1 = ( ~ (b1988 | (glu__L_e > 0))),\n  'b1773': b1773 || 1 = 1,\n  'b1779': b1779 || 1 = 1,\n  'b1812': b1812 || 1 = 1,\n  'b1817': b1817 || 1 = (CRPnoGLM | ( ~ b1594)),\n  'b1818': b1818 || 1 = (CRPnoGLM | ( ~ b1594)),\n  'b1819': b1819 || 1 = (CRPnoGLM | ( ~ b1594)),\n  'b1849': b1849 || 1 = 1,\n  'b1852': b1852 || 1 = 1,\n  'b1854': b1854 || 1 = 1,\n  'b1988': b1988 || (0.0, 1.0),\n  'b2029': b2029 || 1 = 1,\n  'b2097': b2097 || 1 = 1,\n  'b2133': b2133 || 1 = 1,\n  'b2276': b2276 || 1 = ( ~ (b4401 | b1334)),\n  'b2277': b2277 || 1 = ( ~ (b4401 | b1334)),\n  'b2278': b2278 || 1 = ( ~ (b4401 | b1334)),\n  'b2279': b2279 || 1 = ( ~ (b4401 | b1334)),\n  'b2280': b2280 || 1 = ( ~ (b4401 | b1334)),\n  'b2281': b2281 || 1 = ( ~ (b4401 | b1334)),\n  'b2282': b2282 || 1 = ( ~ (b4401 | b1334)),\n  'b2283': b2283 || 1 = ( ~ (b4401 | b1334)),\n  'b2284': b2284 || 1 = ( ~ (b4401 | b1334)),\n  'b2285': b2285 || 1 = ( ~ (b4401 | b1334)),\n  'b2286': b2286 || 1 = ( ~ (b4401 | b1334)),\n  'b2287': b2287 || 1 = ( ~ (b4401 | b1334)),\n  'b2288': b2288 || 1 = ( ~ (b4401 | b1334)),\n  'b2296': b2296 || 1 = 1,\n  'b2297': b2297 || 1 = 1,\n  'b2415': b2415 || 1 = 1,\n  'b2416': b2416 || 1 = 1,\n  'b2417': b2417 || 1 = 1,\n  'b2458': b2458 || 1 = 1,\n  'b2463': b2463 || 1 = 1,\n  'b2464': b2464 || 1 = 1,\n  'b2465': b2465 || 1 = 1,\n  'b2492': b2492 || 1 = (b4401 | (b1334 & b3357)),\n  'b2579': b2579 || 1 = 1,\n  'b2587': b2587 || 1 = 1,\n  'b2779': b2779 || 1 = 1,\n  'b2914': b2914 || 1 = 1,\n  'b2925': b2925 || 1 = 1,\n  'b2926': b2926 || 1 = 1,\n  'b2935': b2935 || 1 = 1,\n  'b2975': b2975 || 1 = (( ~ b4401) & b2980),\n  'b2976': b2976 || 1 = (( ~ b4401) & b2980),\n  'b2980': b2980 || (0.0, 1.0),\n  'b2987': b2987 || 1 = ( ~ b0399),\n  'b3114': b3114 || 1 = (b3357 | b1334),\n  'b3115': b3115 || 1 = (b3357 | b1334),\n  'b3212': b3212 || 1 = ( ~ (NRI_hi & (glu__L_e > 0))),\n  'b3213': b3213 || 1 = ( ~ (NRI_hi & (glu__L_e > 0))),\n  'b3236': b3236 || 1 = ( ~ b4401),\n  'b3261': b3261 || (0.0, 1.0),\n  'b3386': b3386 || 1 = 1,\n  'b3403': b3403 || 1 = 1,\n  'b3493': b3493 || 1 = 1,\n  'b3528': b3528 || 1 = (CRPnoGLM & ( ~ b4401) & b4124),\n  'b3603': b3603 || 1 = ( ~ b4401),\n  'b3612': b3612 || 1 = 1,\n  'b3731': b3731 || 1 = 1,\n  'b3732': b3732 || 1 = 1,\n  'b3733': b3733 || 1 = 1,\n  'b3734': b3734 || 1 = 1,\n  'b3735': b3735 || 1 = 1,\n  'b3736': b3736 || 1 = 1,\n  'b3737': b3737 || 1 = 1,\n  'b3738': b3738 || 1 = 1,\n  'b3739': b3739 || 1 = 1,\n  'b3868': b3868 || (0.0, 1.0),\n  'b3870': b3870 || 1 = b3357,\n  'b3916': b3916 || 1 = 1,\n  'b3919': b3919 || 1 = 1,\n  'b3925': b3925 || 1 = 1,\n  'b3951': b3951 || 1 = (b4401 | b1334),\n  'b3952': b3952 || 1 = (b4401 | b1334),\n  'b3956': b3956 || 1 = 1,\n  'b3962': b3962 || 1 = 1,\n  'b4014': b4014 || 1 = (( ~ b4018) & (( ~ b4401) | b0080)),\n  'b4015': b4015 || 1 = (( ~ b4018) & (( ~ b4401) | b0080)),\n  'b4018': b4018 || (0.0, 1.0),\n  'b4025': b4025 || 1 = 1,\n  'b4077': b4077 || 1 = 1,\n  'b4090': b4090 || 1 = 1,\n  'b4122': b4122 || 1 = (b1334 | b3357 | b4124),\n  'b4124': b4124 || (0.0, 1.0),\n  'b4125': b4125 || (0.0, 1.0),\n  'b4151': b4151 || 1 = (b1334 | b4124),\n  'b4152': b4152 || 1 = (b1334 | b4124),\n  'b4153': b4153 || 1 = (b1334 | b4124),\n  'b4154': b4154 || 1 = (b1334 | b4124),\n  'b4232': b4232 || 1 = 1,\n  'b4301': b4301 || 1 = 1,\n  'b4395': b4395 || 1 = 1,\n  'b4401': b4401 || (0.0, 1.0),\n  's0001': s0001 || 1 = 1,\n  'CRPnoGLC': CRPnoGLC || (0.0, 1.0),\n  'CRPnoGLM': CRPnoGLM || (0.0, 1.0),\n  'NRI_hi': NRI_hi || (0.0, 1.0),\n  'NRI_low': NRI_low || (0.0, 1.0),\n  'surplusFDP': surplusFDP || (0.0, 1.0),\n  'surplusPYR': surplusPYR || (0.0, 1.0),\n  'b3357': b3357 || (0.0, 1.0)}}"
     },
     "execution_count": 15,
     "metadata": {},
     "output_type": "execute_result"
    }
   ],
   "source": [
    "# export the model to a dictionary\n",
    "model_dict = model.to_dict()\n",
    "model_dict"
   ]
  },
  {
   "cell_type": "markdown",
   "metadata": {},
   "source": [
    "### Temporary changes in a GERM model\n",
    "GERM models support temporary changes using the `with` context manager. In addition, one can manually `undo()`, `redo()`, `reset()` and `restore()` a GERM model."
   ]
  },
  {
   "cell_type": "code",
   "execution_count": 16,
   "metadata": {
    "scrolled": true
   },
   "outputs": [
    {
     "name": "stdout",
     "output_type": "stream",
     "text": [
      "Is PFK in the model? False\n",
      "Has PFK removal been reverted? True\n"
     ]
    }
   ],
   "source": [
    "pfk = model.get('PFK')\n",
    "\n",
    "with model:\n",
    "    model.remove(pfk)\n",
    "    print('Is PFK in the model?', 'PFK' in model.reactions)\n",
    "\n",
    "print('Has PFK removal been reverted?', 'PFK' in model.reactions)"
   ]
  },
  {
   "cell_type": "code",
   "execution_count": 17,
   "metadata": {
    "scrolled": true
   },
   "outputs": [
    {
     "name": "stdout",
     "output_type": "stream",
     "text": [
      "New objective function: {PFK || 1.0 atp_c + 1.0 f6p_c -> 1.0 adp_c + 1.0 fdp_c + 1.0 h_c: 1}\n",
      "\n",
      "Original objective function: {Biomass_Ecoli_core || 1.496 3pg_c + 3.7478 accoa_c + 59.81 atp_c + 0.361 e4p_c + 0.0709 f6p_c + 0.129 g3p_c + 0.205 g6p_c + 0.2557 gln__L_c + 4.9414 glu__L_c + 59.81 h2o_c + 3.547 nad_c + 13.0279 nadph_c + 1.7867 oaa_c + 0.5191 pep_c + 2.8328 pyr_c + 0.8977 r5p_c -> 59.81 adp_c + 4.1182 akg_c + 3.7478 coa_c + 59.81 h_c + 3.547 nadh_c + 13.0279 nadp_c + 59.81 pi_c: 1.0}\n"
     ]
    }
   ],
   "source": [
    "# let's reset the model to the initial state\n",
    "model.objective = {pfk: 1}\n",
    "print('New objective function:', model.objective)\n",
    "print()\n",
    "\n",
    "model.reset()\n",
    "print('Original objective function:', model.objective)"
   ]
  },
  {
   "cell_type": "markdown",
   "metadata": {},
   "source": [
    "### Working with multi-type GERM models\n",
    "\n",
    "A GERM model is by default a multi-type model supporting manipulation of both a **metabolic** and **regulatory** model at the same time.\n",
    "However, one can manipulate a **single** regulatory or metabolic model.\n",
    "\n",
    "MEWpy allows building single- or multi-type models easily. And, if you are confused about which model you are working with, you can always check the model types. For instance, one can check `model.types` or use a type checker `model.is_regulatory()`"
   ]
  },
  {
   "cell_type": "code",
   "execution_count": 18,
   "metadata": {
    "scrolled": true
   },
   "outputs": [
    {
     "data": {
      "text/plain": "Model my_regulatory_model - my_regulatory_model",
      "text/html": "\n            <table>\n                <tr>\n                    <th><b>Model</b></th>\n                    <td>my_regulatory_model</td>\n                </tr>\n                <tr>\n                    <th>Name</th>\n                    <td>my_regulatory_model</td>\n                </tr>\n                <tr>\n                    <th>Types</th>\n                    <td>regulatory</td>\n                </tr>\n                <tr>\n                    <th>Compartments</th>\n                    <td></td>\n                </tr>\n                <tr>\n                    <th>Regulatory interactions</th>\n                    <td>0</td>\n                </tr>\n                <tr>\n                    <th>Targets</th>\n                    <td>0</td>\n                </tr>\n                <tr>\n                    <th>Regulators</th>\n                    <td>0</td>\n                </tr>\n                <tr>\n                    <th>Regulatory reactions</th>\n                    <td>0</td>\n                </tr>\n                <tr>\n                    <th>Regulatory metabolites</th>\n                    <td>0</td>\n                </tr>\n                <tr>\n                    <th>Environmental stimuli</th>\n                    <td>0</td>\n                </tr>\n            </table>\n            "
     },
     "execution_count": 18,
     "metadata": {},
     "output_type": "execute_result"
    }
   ],
   "source": [
    "from mewpy.germ.models import RegulatoryModel\n",
    "\n",
    "# creating a new regulatory model\n",
    "reg_model = RegulatoryModel(identifier='my_regulatory_model')\n",
    "reg_model"
   ]
  },
  {
   "cell_type": "code",
   "execution_count": 19,
   "metadata": {
    "scrolled": true
   },
   "outputs": [
    {
     "data": {
      "text/plain": "False"
     },
     "execution_count": 19,
     "metadata": {},
     "output_type": "execute_result"
    }
   ],
   "source": [
    "# check if the model is metabolic\n",
    "reg_model.is_metabolic()"
   ]
  },
  {
   "cell_type": "code",
   "execution_count": 20,
   "metadata": {
    "scrolled": true
   },
   "outputs": [
    {
     "data": {
      "text/plain": "Model my_regulatory_model - my_regulatory_model",
      "text/html": "\n            <table>\n                <tr>\n                    <th><b>Model</b></th>\n                    <td>my_regulatory_model</td>\n                </tr>\n                <tr>\n                    <th>Name</th>\n                    <td>my_regulatory_model</td>\n                </tr>\n                <tr>\n                    <th>Types</th>\n                    <td>regulatory</td>\n                </tr>\n                <tr>\n                    <th>Compartments</th>\n                    <td></td>\n                </tr>\n                <tr>\n                    <th>Regulatory interactions</th>\n                    <td>1</td>\n                </tr>\n                <tr>\n                    <th>Targets</th>\n                    <td>1</td>\n                </tr>\n                <tr>\n                    <th>Regulators</th>\n                    <td>4</td>\n                </tr>\n                <tr>\n                    <th>Regulatory reactions</th>\n                    <td>0</td>\n                </tr>\n                <tr>\n                    <th>Regulatory metabolites</th>\n                    <td>0</td>\n                </tr>\n                <tr>\n                    <th>Environmental stimuli</th>\n                    <td>4</td>\n                </tr>\n            </table>\n            "
     },
     "execution_count": 20,
     "metadata": {},
     "output_type": "execute_result"
    }
   ],
   "source": [
    "# IMPORTANT: VARIABLES MUST BELONG TO A SINGLE MODEL. WE CAN MAKE A DEEPCOPY OF VARIABLES TOO\n",
    "interaction = model.get('b0721_interaction').deepcopy()\n",
    "\n",
    "# If you use the comprehensive option, interaction children will be added to the model too.\n",
    "reg_model.add(interaction, comprehensive=True)\n",
    "\n",
    "reg_model"
   ]
  },
  {
   "cell_type": "code",
   "execution_count": 21,
   "metadata": {
    "scrolled": true
   },
   "outputs": [
    {
     "data": {
      "text/plain": "Model my_metabolic_model - my_metabolic_model",
      "text/html": "\n            <table>\n                <tr>\n                    <th><b>Model</b></th>\n                    <td>my_metabolic_model</td>\n                </tr>\n                <tr>\n                    <th>Name</th>\n                    <td>my_metabolic_model</td>\n                </tr>\n                <tr>\n                    <th>Types</th>\n                    <td>metabolic</td>\n                </tr>\n                <tr>\n                    <th>Compartments</th>\n                    <td></td>\n                </tr>\n                <tr>\n                    <th>Reactions</th>\n                    <td>1</td>\n                </tr>\n                <tr>\n                    <th>Metabolites</th>\n                    <td>5</td>\n                </tr>\n                <tr>\n                    <th>Genes</th>\n                    <td>2</td>\n                </tr>\n                <tr>\n                    <th>Exchanges</th>\n                    <td>0</td>\n                </tr>\n                <tr>\n                    <th>Demands</th>\n                    <td>0</td>\n                </tr>\n                <tr>\n                    <th>Sinks</th>\n                    <td>0</td>\n                </tr>\n                <tr>\n                    <th>Objective</th>\n                    <td>None</td>\n                </tr>\n            </table>\n            "
     },
     "execution_count": 21,
     "metadata": {},
     "output_type": "execute_result"
    }
   ],
   "source": [
    "from mewpy.germ.models import Model\n",
    "\n",
    "pfk = model.get('PFK').deepcopy()\n",
    "\n",
    "# one can build GERM models in many ways\n",
    "met_model_1 = Model.from_types(('metabolic', ), \n",
    "                               identifier='my_metabolic_model', \n",
    "                               reactions={'pfk': pfk})\n",
    "met_model_1"
   ]
  },
  {
   "cell_type": "code",
   "execution_count": 22,
   "metadata": {
    "scrolled": true
   },
   "outputs": [
    {
     "data": {
      "text/plain": "Model my_metabolic_model - my_metabolic_model",
      "text/html": "\n            <table>\n                <tr>\n                    <th><b>Model</b></th>\n                    <td>my_metabolic_model</td>\n                </tr>\n                <tr>\n                    <th>Name</th>\n                    <td>my_metabolic_model</td>\n                </tr>\n                <tr>\n                    <th>Types</th>\n                    <td>metabolic</td>\n                </tr>\n                <tr>\n                    <th>Compartments</th>\n                    <td></td>\n                </tr>\n                <tr>\n                    <th>Reactions</th>\n                    <td>1</td>\n                </tr>\n                <tr>\n                    <th>Metabolites</th>\n                    <td>5</td>\n                </tr>\n                <tr>\n                    <th>Genes</th>\n                    <td>2</td>\n                </tr>\n                <tr>\n                    <th>Exchanges</th>\n                    <td>0</td>\n                </tr>\n                <tr>\n                    <th>Demands</th>\n                    <td>0</td>\n                </tr>\n                <tr>\n                    <th>Sinks</th>\n                    <td>0</td>\n                </tr>\n                <tr>\n                    <th>Objective</th>\n                    <td>None</td>\n                </tr>\n            </table>\n            "
     },
     "execution_count": 22,
     "metadata": {},
     "output_type": "execute_result"
    }
   ],
   "source": [
    "pfk = model.get('PFK').deepcopy()\n",
    "\n",
    "met_model_2 = Model.from_metabolic(identifier='my_metabolic_model', \n",
    "                                   reactions={'pfk': pfk})\n",
    "met_model_2"
   ]
  },
  {
   "cell_type": "code",
   "execution_count": 23,
   "metadata": {
    "scrolled": false
   },
   "outputs": [
    {
     "data": {
      "text/plain": "Model e_coli_core_trn - model",
      "text/html": "\n            <table>\n                <tr>\n                    <th><b>Model</b></th>\n                    <td>e_coli_core_trn</td>\n                </tr>\n                <tr>\n                    <th>Name</th>\n                    <td>model</td>\n                </tr>\n                <tr>\n                    <th>Types</th>\n                    <td>regulatory</td>\n                </tr>\n                <tr>\n                    <th>Compartments</th>\n                    <td></td>\n                </tr>\n                <tr>\n                    <th>Regulatory interactions</th>\n                    <td>159</td>\n                </tr>\n                <tr>\n                    <th>Targets</th>\n                    <td>159</td>\n                </tr>\n                <tr>\n                    <th>Regulators</th>\n                    <td>45</td>\n                </tr>\n                <tr>\n                    <th>Regulatory reactions</th>\n                    <td>0</td>\n                </tr>\n                <tr>\n                    <th>Regulatory metabolites</th>\n                    <td>0</td>\n                </tr>\n                <tr>\n                    <th>Environmental stimuli</th>\n                    <td>23</td>\n                </tr>\n            </table>\n            "
     },
     "execution_count": 23,
     "metadata": {},
     "output_type": "execute_result"
    }
   ],
   "source": [
    "# One can read a regulatory model only\n",
    "e_coli_trn = read_model(trn_reader)\n",
    "e_coli_trn"
   ]
  },
  {
   "cell_type": "code",
   "execution_count": 24,
   "metadata": {},
   "outputs": [
    {
     "data": {
      "text/plain": "Model e_coli_core - E. coli core model - Orth et al 2010",
      "text/html": "\n            <table>\n                <tr>\n                    <th><b>Model</b></th>\n                    <td>e_coli_core</td>\n                </tr>\n                <tr>\n                    <th>Name</th>\n                    <td>E. coli core model - Orth et al 2010</td>\n                </tr>\n                <tr>\n                    <th>Types</th>\n                    <td>metabolic</td>\n                </tr>\n                <tr>\n                    <th>Compartments</th>\n                    <td>c, e</td>\n                </tr>\n                <tr>\n                    <th>Reactions</th>\n                    <td>95</td>\n                </tr>\n                <tr>\n                    <th>Metabolites</th>\n                    <td>72</td>\n                </tr>\n                <tr>\n                    <th>Genes</th>\n                    <td>137</td>\n                </tr>\n                <tr>\n                    <th>Exchanges</th>\n                    <td>20</td>\n                </tr>\n                <tr>\n                    <th>Demands</th>\n                    <td>0</td>\n                </tr>\n                <tr>\n                    <th>Sinks</th>\n                    <td>0</td>\n                </tr>\n                <tr>\n                    <th>Objective</th>\n                    <td>Biomass_Ecoli_core</td>\n                </tr>\n            </table>\n            "
     },
     "execution_count": 24,
     "metadata": {},
     "output_type": "execute_result"
    }
   ],
   "source": [
    "# or the metabolic one\n",
    "e_coli_gem = read_model(gem_reader)\n",
    "e_coli_gem"
   ]
  },
  {
   "cell_type": "markdown",
   "metadata": {},
   "source": [
    "## Working with GERM model variables\n",
    "\n",
    "MEWpy contains several **metabolic** and **regulatory** variables having the following main attributes:\n",
    "- `Reaction` - Object to represent metabolic reactions having bounds, stoichiometry (metabolite/coefficient) and GPRs\n",
    "- `Metabolite` - Object to represent metabolic compounds having charge, compartment, formula and reactions\n",
    "- `Gene` - Object to represent metabolic genes having coefficients and reactions (found in GPR expressions)\n",
    "- `Interaction` - Object to represent regulatory interactions having a target and associated regulatory events (coefficient/boolean rule)\n",
    "- `Target` - Object to represent regulatory targets having coefficients and interaction\n",
    "- `Regulator` - Object to represent regulatory having coefficients and interactions\n",
    "\n",
    "As we can see, variables have different attributes that can be inspected and changed using several methods. Variables are often connected to other variables and have special attributes, such as boolean expressions, coefficients and dictionaries of metabolites (stoichiometry).\n",
    "\n",
    "Variables also have some interfaces of the GERM models. All GERM model variables support:\n",
    "- `copy()` - It makes a shallow copy of the model\n",
    "- `deepcopy()` - It makes a deep copy of the model\n",
    "- **Temporary changes** using `with`, `undo()`, `redo()`, `reset()`, `restore()`,\n",
    "- **yield linked variables**, such as `yield_metabolites()`"
   ]
  },
  {
   "cell_type": "markdown",
   "metadata": {},
   "source": [
    "### Reactions, Metabolites and Genes\n",
    "\n",
    "**Reactions** have the following **attributes**:\n",
    "- identifier - id of the variable\n",
    "- _**name**_ - name of the variable\n",
    "- _**aliases**_ - aliases of the variable\n",
    "- _**bounds**_ - reaction bounds; it must be a tuple with both values; (-1000, 1000) by default\n",
    "- _**lower_bound**_ - reaction lower bound\n",
    "- _**upper_bound**_ - reaction upper bound\n",
    "- reversibility - whether the reaction is reversible\n",
    "- _**stoichiometry**_ - reaction stoichiometry; a dictionary of metabolite variable-coefficient\n",
    "- _**gpr**_ - a symbolic expression containing the boolean logic of the gene variables; AND (symbolic &); OR (symbolic |)\n",
    "- gene_protein_reaction_rule - symbolic representation of the GPR expression\n",
    "- metabolites - reaction metabolites; a dictionary of metabolite identifier-metabolite variable\n",
    "- reactants - reaction reactants; a dictionary of metabolite identifier-metabolite variable\n",
    "- products - reaction products; a dictionary of metabolite identifier-metabolite variable\n",
    "- compartments - all compartments associated with the reaction metabolites\n",
    "- boundary - whether the reaction is exchange, demand or sink\n",
    "- equation - notation with reactants, products and reversibility\n",
    "- charge_balance - charge balance of the reaction\n",
    "- mass_balance - mass balance of the reaction\n",
    "\n",
    "and the following **methods**:\n",
    "- `ko()` - reaction deletion; it sets the bounds to zero\n",
    "- `add_metabolites(stoichiometry)` - add metabolites to the reaction\n",
    "- `remove_metabolites(metabolite)` - remove metabolites from the reaction\n",
    "- `add_gpr(gpr)` - add/replacing gpr to the reaction\n",
    "- `remove_gpr()` - remove gpr from the reaction\n",
    "\n",
    "**Metabolites** have the following **attributes**:\n",
    "- identifier - id of the variable\n",
    "- _**name**_ - name of the variable\n",
    "- _**aliases**_ - aliases of the variable\n",
    "- _**charge**_ - metabolite charge\n",
    "- _**compartment**_ - metabolite compartment\n",
    "- _**formula**_ - metabolite chemical formula\n",
    "- atoms - frequency of each atom in the chemical formula\n",
    "- molecular_weight - metabolite molecular weight\n",
    "- exchange_reaction - the first exchange reaction associated with the metabolite\n",
    "- exchange_reactions - the list of all exchange reactions associated with the metabolite\n",
    "- reactions - the reactions associated with this metabolite; a dictionary of reaction identifier-reaction variable\n",
    "\n",
    "**Genes** have the following **attributes**:\n",
    "- identifier - id of the variable\n",
    "- _**name**_ - name of the variable\n",
    "- _**aliases**_ - aliases of the variable\n",
    "- _**coefficients**_ - the gene coefficients; all possible values that a gene can take during GPR evaluation; (0, 1) by default\n",
    "- is_active - whether the maximum coefficient is bigger than zero\n",
    "- reactions - the reactions associated with this gene; a dictionary of reaction identifier-reaction variable\n",
    "\n",
    "and the following **methods**:\n",
    "- `ko()` - gene deletion; it sets the coefficients to zero\n",
    "\n",
    "Bold-italicized properties can be set with new values (e.g., `reaction.bounds = (0, 1000)`)."
   ]
  },
  {
   "cell_type": "code",
   "execution_count": 25,
   "outputs": [
    {
     "data": {
      "text/plain": "ACKr || 1.0 ac_c + 1.0 atp_c <-> 1.0 actp_c + 1.0 adp_c",
      "text/html": "\n            <table>\n                <tr><th>Identifier</th><td>ACKr</td></tr><tr><th>Name</th><td></td></tr><tr><th>Aliases</th><td></td></tr><tr><th>Model</th><td>e_coli_core</td></tr><tr><th>Types</th><td>reaction</td></tr><tr><th>Equation</th><td>1.0 ac_c + 1.0 atp_c <-> 1.0 actp_c + 1.0 adp_c</td></tr><tr><th>Bounds</th><td>(-1000.0, 1000.0)</td></tr><tr><th>Reversibility</th><td>True</td></tr><tr><th>Metabolites</th><td>ac_c, atp_c, actp_c, adp_c</td></tr><tr><th>Boundary</th><td>False</td></tr><tr><th>GPR</th><td>(b2296 | b3115 | b1849)</td></tr><tr><th>Genes</th><td>b2296, b3115, b1849</td></tr><tr><th>Compartments</th><td>c</td></tr><tr><th>Charge balance</th><td>{'reactants': 5.0, 'products': -5.0}</td></tr><tr><th>Mass balance</th><td>{'C': 0.0, 'H': 0.0, 'O': 0.0, 'N': 0.0, 'P': 0.0}</td></tr>\n            </table>\n        "
     },
     "execution_count": 25,
     "metadata": {},
     "output_type": "execute_result"
    }
   ],
   "source": [
    "# inspecting a reaction\n",
    "ack = model.get('ACKr')\n",
    "ack"
   ],
   "metadata": {
    "collapsed": false
   }
  },
  {
   "cell_type": "code",
   "execution_count": 26,
   "outputs": [
    {
     "data": {
      "text/plain": "ac_c || Acetate || C2H3O2",
      "text/html": "\n            <table>\n                <tr><th>Identifier</th><td>ac_c</td></tr><tr><th>Name</th><td>Acetate</td></tr><tr><th>Aliases</th><td>ac_c, Acetate</td></tr><tr><th>Model</th><td>e_coli_core</td></tr><tr><th>Types</th><td>metabolite</td></tr><tr><th>Compartment</th><td>c</td></tr><tr><th>Formula</th><td>C2H3O2</td></tr><tr><th>Molecular weight</th><td>59.04402</td></tr><tr><th>Charge</th><td>-1</td></tr><tr><th>Reactions</th><td>ACKr, ACt2r</td></tr>\n            </table>\n        "
     },
     "execution_count": 26,
     "metadata": {},
     "output_type": "execute_result"
    }
   ],
   "source": [
    "# inspecting a metabolite\n",
    "acetate = model.get('ac_c')\n",
    "acetate"
   ],
   "metadata": {
    "collapsed": false
   }
  },
  {
   "cell_type": "code",
   "execution_count": 27,
   "outputs": [
    {
     "data": {
      "text/plain": "b3115 || 1 = (b3357 | b1334)",
      "text/html": "\n            <table>\n                <tr><th>Identifier</th><td>b3115</td></tr><tr><th>Name</th><td>b3115</td></tr><tr><th>Aliases</th><td>tdcD, b3115</td></tr><tr><th>Model</th><td>e_coli_core</td></tr><tr><th>Types</th><td>target, gene</td></tr><tr><th>Coefficients</th><td>(0.0, 1.0)</td></tr><tr><th>Active</th><td>True</td></tr><tr><th>Interaction</th><td>b3115 || 1 = (b3357 | b1334)</td></tr><tr><th>Regulators</th><td>b3357, b1334</td></tr><tr><th>Reactions</th><td>ACKr</td></tr>\n            </table>\n        "
     },
     "execution_count": 27,
     "metadata": {},
     "output_type": "execute_result"
    }
   ],
   "source": [
    "# inspecting a gene\n",
    "b3115 = model.get('b3115')\n",
    "b3115"
   ],
   "metadata": {
    "collapsed": false
   }
  },
  {
   "cell_type": "markdown",
   "source": [
    "One can create Reactions, Metabolites and Genes using the objects mentioned above."
   ],
   "metadata": {
    "collapsed": false
   }
  },
  {
   "cell_type": "code",
   "execution_count": 28,
   "metadata": {},
   "outputs": [],
   "source": [
    "# imports\n",
    "from mewpy.germ.algebra import Expression, parse_expression\n",
    "from mewpy.germ.variables import Reaction, Metabolite, Gene"
   ]
  },
  {
   "cell_type": "code",
   "execution_count": 29,
   "metadata": {
    "scrolled": true
   },
   "outputs": [
    {
     "data": {
      "text/plain": "actP",
      "text/html": "\n            <table>\n                <tr><th>Identifier</th><td>b4067</td></tr><tr><th>Name</th><td>actP</td></tr><tr><th>Aliases</th><td></td></tr><tr><th>Model</th><td>None</td></tr><tr><th>Types</th><td>gene</td></tr><tr><th>Coefficients</th><td>(0, 1)</td></tr><tr><th>Active</th><td>True</td></tr><tr><th>Reactions</th><td></td></tr>\n            </table>\n        "
     },
     "execution_count": 29,
     "metadata": {},
     "output_type": "execute_result"
    }
   ],
   "source": [
    "# creating the Genes\n",
    "g1 = Gene(identifier='b4067', name='actP', coefficients=(0, 1))\n",
    "g2 = Gene(identifier='b0010', name='satP', coefficients=(0, 1))\n",
    "g1"
   ]
  },
  {
   "cell_type": "code",
   "execution_count": 30,
   "metadata": {
    "scrolled": true
   },
   "outputs": [
    {
     "data": {
      "text/plain": "And(variables=[Symbol(b4067), Symbol(b0010)])",
      "text/html": "(b4067 & b0010)"
     },
     "execution_count": 30,
     "metadata": {},
     "output_type": "execute_result"
    }
   ],
   "source": [
    "# Creating the GPR. A GPR is a boolean algebra expression\n",
    "boolean_rule = parse_expression('b4067 and b0010')\n",
    "genes = {'b4067': g1, 'b0010': g2}\n",
    "gpr = Expression(symbolic=boolean_rule, variables=genes)\n",
    "gpr"
   ]
  },
  {
   "cell_type": "code",
   "execution_count": 31,
   "metadata": {
    "scrolled": true
   },
   "outputs": [
    {
     "data": {
      "text/plain": "ac_c || acetate cytoplasm || C2H3O2",
      "text/html": "\n            <table>\n                <tr><th>Identifier</th><td>ac_c</td></tr><tr><th>Name</th><td>acetate cytoplasm</td></tr><tr><th>Aliases</th><td></td></tr><tr><th>Model</th><td>None</td></tr><tr><th>Types</th><td>metabolite</td></tr><tr><th>Compartment</th><td>c</td></tr><tr><th>Formula</th><td>C2H3O2</td></tr><tr><th>Molecular weight</th><td>59.04402</td></tr><tr><th>Charge</th><td>-1</td></tr><tr><th>Reactions</th><td></td></tr>\n            </table>\n        "
     },
     "execution_count": 31,
     "metadata": {},
     "output_type": "execute_result"
    }
   ],
   "source": [
    "# creating the metabolites\n",
    "m1 = Metabolite(identifier='ac_c', name='acetate cytoplasm', compartment='c', formula='C2H3O2', charge=-1)\n",
    "m2 = Metabolite(identifier='ac_e', name='acetate extracellular', compartment='e', formula='C2H3O2', charge=-1)\n",
    "m1"
   ]
  },
  {
   "cell_type": "code",
   "execution_count": 32,
   "metadata": {},
   "outputs": [
    {
     "data": {
      "text/plain": "ac_t || 1 ac_c -> 1 ac_e",
      "text/html": "\n            <table>\n                <tr><th>Identifier</th><td>ac_t</td></tr><tr><th>Name</th><td>acetate transport</td></tr><tr><th>Aliases</th><td></td></tr><tr><th>Model</th><td>None</td></tr><tr><th>Types</th><td>reaction</td></tr><tr><th>Equation</th><td>1 ac_c -> 1 ac_e</td></tr><tr><th>Bounds</th><td>(0, 1000)</td></tr><tr><th>Reversibility</th><td>False</td></tr><tr><th>Metabolites</th><td>ac_c, ac_e</td></tr><tr><th>Boundary</th><td>False</td></tr><tr><th>GPR</th><td>(b4067 & b0010)</td></tr><tr><th>Genes</th><td>b4067, b0010</td></tr><tr><th>Compartments</th><td>e, c</td></tr><tr><th>Charge balance</th><td>{'reactants': 1, 'products': -1}</td></tr><tr><th>Mass balance</th><td>{'C': 0, 'H': 0, 'O': 0}</td></tr>\n            </table>\n        "
     },
     "execution_count": 32,
     "metadata": {},
     "output_type": "execute_result"
    }
   ],
   "source": [
    "# creating the reaction\n",
    "stoichiometry = {m1: -1, m2: 1}\n",
    "rxn = Reaction(identifier='ac_t', \n",
    "               name='acetate transport',\n",
    "               bounds=(0, 1000),\n",
    "               stoichiometry=stoichiometry,\n",
    "               gpr=gpr)\n",
    "rxn"
   ]
  },
  {
   "cell_type": "code",
   "execution_count": 33,
   "metadata": {
    "scrolled": true
   },
   "outputs": [
    {
     "data": {
      "text/plain": "ac_t || 1 ac_e -> ",
      "text/html": "\n            <table>\n                <tr><th>Identifier</th><td>ac_t</td></tr><tr><th>Name</th><td>acetate exchange</td></tr><tr><th>Aliases</th><td></td></tr><tr><th>Model</th><td>None</td></tr><tr><th>Types</th><td>reaction</td></tr><tr><th>Equation</th><td>1 ac_e -> </td></tr><tr><th>Bounds</th><td>(0, 1000)</td></tr><tr><th>Reversibility</th><td>False</td></tr><tr><th>Metabolites</th><td>ac_e</td></tr><tr><th>Boundary</th><td>True</td></tr><tr><th>GPR</th><td></td></tr><tr><th>Genes</th><td></td></tr><tr><th>Compartments</th><td>e</td></tr><tr><th>Charge balance</th><td>{'reactants': 1, 'products': 0}</td></tr><tr><th>Mass balance</th><td>{'C': -2, 'H': -3, 'O': -2}</td></tr>\n            </table>\n        "
     },
     "execution_count": 33,
     "metadata": {},
     "output_type": "execute_result"
    }
   ],
   "source": [
    "# copying the acetate transport and creating the acetate exchange\n",
    "rxn2 = rxn.deepcopy()\n",
    "rxn2.name = 'acetate exchange'\n",
    "rxn2.stoichiometry = {m2: -1}\n",
    "rxn2.remove_gpr()\n",
    "rxn2"
   ]
  },
  {
   "cell_type": "markdown",
   "metadata": {},
   "source": [
    "Reactions can be created automatically from GPRs in a string format. This avoids creating GPR expressions manually using the boolean expression parser. Note that Genes are also created automatically using the identifiers in the string"
   ]
  },
  {
   "cell_type": "code",
   "execution_count": 34,
   "metadata": {
    "scrolled": true
   },
   "outputs": [
    {
     "data": {
      "text/plain": "ac_t2 || 1 ac_c -> 1 ac_e",
      "text/html": "\n            <table>\n                <tr><th>Identifier</th><td>ac_t2</td></tr><tr><th>Name</th><td>a second reaction for acetate transport having different genes</td></tr><tr><th>Aliases</th><td></td></tr><tr><th>Model</th><td>None</td></tr><tr><th>Types</th><td>reaction</td></tr><tr><th>Equation</th><td>1 ac_c -> 1 ac_e</td></tr><tr><th>Bounds</th><td>(0, 1000)</td></tr><tr><th>Reversibility</th><td>False</td></tr><tr><th>Metabolites</th><td>ac_c, ac_e</td></tr><tr><th>Boundary</th><td>False</td></tr><tr><th>GPR</th><td>(b0001 & b0002)</td></tr><tr><th>Genes</th><td>b0001, b0002</td></tr><tr><th>Compartments</th><td>e, c</td></tr><tr><th>Charge balance</th><td>{'reactants': 1, 'products': -1}</td></tr><tr><th>Mass balance</th><td>{'C': 0, 'H': 0, 'O': 0}</td></tr>\n            </table>\n        "
     },
     "execution_count": 34,
     "metadata": {},
     "output_type": "execute_result"
    }
   ],
   "source": [
    "# from a GPR string\n",
    "rxn3 = Reaction.from_gpr_string(identifier='ac_t2',\n",
    "                                name='a second reaction for acetate transport having different genes',\n",
    "                                rule='b0001 and b0002',\n",
    "                                bounds=(0, 1000),\n",
    "                                stoichiometry=stoichiometry)\n",
    "rxn3"
   ]
  },
  {
   "cell_type": "markdown",
   "metadata": {},
   "source": [
    "A Reaction's GPR is a boolean algebra expression that can be evaluated using regular boolean operators or custom operators (useful to evaluate gene expression data)."
   ]
  },
  {
   "cell_type": "code",
   "execution_count": 35,
   "metadata": {
    "scrolled": true
   },
   "outputs": [
    {
     "data": {
      "text/plain": "1"
     },
     "execution_count": 35,
     "metadata": {},
     "output_type": "execute_result"
    }
   ],
   "source": [
    "# gpr is a boolean algebra expression that can be evaluated\n",
    "rxn3.gpr.evaluate(values={'b0001': 1, 'b0002': 1})"
   ]
  },
  {
   "cell_type": "code",
   "execution_count": 36,
   "metadata": {
    "scrolled": true
   },
   "outputs": [
    {
     "data": {
      "text/plain": "0"
     },
     "execution_count": 36,
     "metadata": {},
     "output_type": "execute_result"
    }
   ],
   "source": [
    "rxn3.gpr.evaluate(values={'b0001': 1, 'b0002': 0})"
   ]
  },
  {
   "cell_type": "code",
   "execution_count": 37,
   "metadata": {
    "scrolled": true
   },
   "outputs": [
    {
     "data": {
      "text/plain": "1"
     },
     "execution_count": 37,
     "metadata": {},
     "output_type": "execute_result"
    }
   ],
   "source": [
    "rxn3.gpr.evaluate(values={'b0001': True, 'b0002': True})"
   ]
  },
  {
   "cell_type": "code",
   "execution_count": 38,
   "metadata": {
    "scrolled": true
   },
   "outputs": [
    {
     "data": {
      "text/plain": "50"
     },
     "execution_count": 38,
     "metadata": {},
     "output_type": "execute_result"
    }
   ],
   "source": [
    "from mewpy.germ.algebra import And\n",
    "\n",
    "# using a custom operator for AND\n",
    "rxn3.gpr.evaluate(values={'b0001': 100, 'b0002': 50}, operators={And: min})"
   ]
  },
  {
   "cell_type": "markdown",
   "source": [
    "### Interactions, Targets and Regulators\n",
    "\n",
    "**Interactions** have the following **attributes**:\n",
    "- identifier - id of the variable\n",
    "- _**name**_ - name of the variable\n",
    "- _**aliases**_ - aliases of the variable\n",
    "- _**target**_ - interaction target; Interactions can only have a single target gene!\n",
    "- _**regulatory_events**_ - a dictionary of coefficient-symbolic expressions. The symbolic expressions contain the boolean logic of regulators to activate or not the target gene; the key of a regulatory event is the expression coefficient that the target can take if the expression is evaluated to True.\n",
    "- regulators - interaction regulators; a dictionary of regulator identifier-regulator variable\n",
    "- regulatory_truth_table - a table with the possible coefficients of the target variable according to the regulatory events and regulators' coefficients\n",
    "\n",
    "\n",
    "and the following **methods**:\n",
    "- `add_target(target)` - add the target to the interaction. It removes the current target.\n",
    "- `remove_target(target)` - remove the target from the interaction.\n",
    "- `add_regulatory_event(coefficient, expression)` - add a new regulatory event for a target coefficient. It removes the current coefficient if available.\n",
    "- `remove_regulatory_event(coefficient)` - remove the regulatory event for the target coefficient.\n",
    "\n",
    "**Targets** have the following **attributes**:\n",
    "- identifier - id of the variable\n",
    "- _**name**_ - name of the variable\n",
    "- _**aliases**_ - aliases of the variable\n",
    "- _**coefficients**_ - the target coefficients; all possible values that a target can take during expression evaluation; (0, 1) by default\n",
    "- is_active - whether the maximum coefficient is bigger than zero\n",
    "- _**interaction**_ - the target interaction.\n",
    "- regulators - target regulators; a dictionary of regulator identifier-regulator variable\n",
    "\n",
    "and the following **methods**:\n",
    "- `ko()` - target deletion; it sets the coefficients to zero\n",
    "\n",
    "**Regulators** have the following **attributes**:\n",
    "- identifier - id of the variable\n",
    "- _**name**_ - name of the variable\n",
    "- _**aliases**_ - aliases of the variable\n",
    "- _**coefficients**_ - the regulator coefficients; all possible values that a regulator can take during expression evaluation; (0, 1) by default\n",
    "- is_active - whether the maximum coefficient is bigger than zero\n",
    "- interactions - regulator interactions; a dictionary of interaction identifier-interaction variable\n",
    "- targets - regulator targets; a dictionary of target identifier-target variable\n",
    "\n",
    "and the following **methods**:\n",
    "- `ko()` - regulator deletion; it sets the coefficients to zero\n",
    "\n",
    "Bold-italicized properties can be set with new values (e.g., `regulator.coefficients = (1,)`)."
   ],
   "metadata": {
    "collapsed": false
   }
  },
  {
   "cell_type": "code",
   "execution_count": 39,
   "outputs": [
    {
     "data": {
      "text/plain": "b0721 || 1 = (( ~ (b4401 | b1334)) | b3357 | b3261)",
      "text/html": "\n            <table>\n                <tr><th>Identifier</th><td>b0721_interaction</td></tr><tr><th>Name</th><td>b0721_interaction</td></tr><tr><th>Aliases</th><td>b0721</td></tr><tr><th>Model</th><td>e_coli_core</td></tr><tr><th>Types</th><td>interaction</td></tr><tr><th>Target</th><td>b0721 || 1 = (( ~ (b4401 | b1334)) | b3357 | b3261)</td></tr><tr><th>Regulators</th><td>b4401, b1334, b3357, b3261</td></tr><tr><th>Regulatory events</th><td>1 = (( ~ (b4401 | b1334)) | b3357 | b3261)</td></tr>\n            </table>\n        "
     },
     "execution_count": 39,
     "metadata": {},
     "output_type": "execute_result"
    }
   ],
   "source": [
    "# inspecting an interaction\n",
    "sdhc_interaction = model.get('b0721_interaction')\n",
    "sdhc_interaction"
   ],
   "metadata": {
    "collapsed": false
   }
  },
  {
   "cell_type": "code",
   "execution_count": 40,
   "outputs": [
    {
     "data": {
      "text/plain": "       result  b4401  b1334  b3357  b3261\nb0721       0    NaN    NaN    NaN    NaN\nb0721       1    1.0    1.0    1.0    1.0",
      "text/html": "<div>\n<style scoped>\n    .dataframe tbody tr th:only-of-type {\n        vertical-align: middle;\n    }\n\n    .dataframe tbody tr th {\n        vertical-align: top;\n    }\n\n    .dataframe thead th {\n        text-align: right;\n    }\n</style>\n<table border=\"1\" class=\"dataframe\">\n  <thead>\n    <tr style=\"text-align: right;\">\n      <th></th>\n      <th>result</th>\n      <th>b4401</th>\n      <th>b1334</th>\n      <th>b3357</th>\n      <th>b3261</th>\n    </tr>\n  </thead>\n  <tbody>\n    <tr>\n      <th>b0721</th>\n      <td>0</td>\n      <td>NaN</td>\n      <td>NaN</td>\n      <td>NaN</td>\n      <td>NaN</td>\n    </tr>\n    <tr>\n      <th>b0721</th>\n      <td>1</td>\n      <td>1.0</td>\n      <td>1.0</td>\n      <td>1.0</td>\n      <td>1.0</td>\n    </tr>\n  </tbody>\n</table>\n</div>"
     },
     "execution_count": 40,
     "metadata": {},
     "output_type": "execute_result"
    }
   ],
   "source": [
    "sdhc_interaction.regulatory_truth_table"
   ],
   "metadata": {
    "collapsed": false
   }
  },
  {
   "cell_type": "code",
   "execution_count": 41,
   "outputs": [
    {
     "data": {
      "text/plain": "b1334 || (0.0, 1.0)",
      "text/html": "\n            <table>\n                <tr><th>Identifier</th><td>b1334</td></tr><tr><th>Name</th><td>b1334</td></tr><tr><th>Aliases</th><td>b1334, Fnr</td></tr><tr><th>Model</th><td>e_coli_core</td></tr><tr><th>Types</th><td>regulator, target</td></tr><tr><th>Coefficients</th><td>(0.0, 1.0)</td></tr><tr><th>Active</th><td>True</td></tr><tr><th>Interactions</th><td>b0721_interaction, b0722_interaction, b0723_interaction, b0724_interaction, b0733_interaction, b0734_interaction, b0902_interaction, b0903_interaction, b0904_interaction, b1612_interaction, b2276_interaction, b2277_interaction, b2278_interaction, b2279_interaction, b2280_interaction, b2281_interaction, b2282_interaction, b2283_interaction, b2284_interaction, b2285_interaction, b2286_interaction, b2287_interaction, b2288_interaction, b2492_interaction, b3114_interaction, b3115_interaction, b3951_interaction, b3952_interaction, b4122_interaction, b4151_interaction, b4152_interaction, b4153_interaction, b4154_interaction</td></tr><tr><th>Targets</th><td>b0721, b0722, b0723, b0724, b0733, b0734, b0902, b0903, b0904, b1612, b2276, b2277, b2278, b2279, b2280, b2281, b2282, b2283, b2284, b2285, b2286, b2287, b2288, b2492, b3114, b3115, b3951, b3952, b4122, b4151, b4152, b4153, b4154</td></tr><tr><th>Environmental stimulus</th><td>False</td></tr><tr><th>Interaction</th><td>b1334 || 1 = ( ~ (o2_e > 0))</td></tr><tr><th>Regulators</th><td>o2_e</td></tr>\n            </table>\n        "
     },
     "execution_count": 41,
     "metadata": {},
     "output_type": "execute_result"
    }
   ],
   "source": [
    "# inspecting a regulator\n",
    "fnr = model.get('b1334')\n",
    "fnr"
   ],
   "metadata": {
    "collapsed": false
   }
  },
  {
   "cell_type": "code",
   "execution_count": 42,
   "outputs": [
    {
     "data": {
      "text/plain": "b0721 || 1 = (( ~ (b4401 | b1334)) | b3357 | b3261)",
      "text/html": "\n            <table>\n                <tr><th>Identifier</th><td>b0721</td></tr><tr><th>Name</th><td>b0721</td></tr><tr><th>Aliases</th><td>sdhC, b0721</td></tr><tr><th>Model</th><td>e_coli_core</td></tr><tr><th>Types</th><td>target, gene</td></tr><tr><th>Coefficients</th><td>(0.0, 1.0)</td></tr><tr><th>Active</th><td>True</td></tr><tr><th>Interaction</th><td>b0721 || 1 = (( ~ (b4401 | b1334)) | b3357 | b3261)</td></tr><tr><th>Regulators</th><td>b4401, b1334, b3357, b3261</td></tr><tr><th>Reactions</th><td>SUCDi</td></tr>\n            </table>\n        "
     },
     "execution_count": 42,
     "metadata": {},
     "output_type": "execute_result"
    }
   ],
   "source": [
    "# inspecting a target\n",
    "sdhc = model.get('b0721')\n",
    "sdhc"
   ],
   "metadata": {
    "collapsed": false
   }
  },
  {
   "cell_type": "markdown",
   "source": [
    "One can create Interactions, Targets and Regulators using the objects mentioned above."
   ],
   "metadata": {
    "collapsed": false
   }
  },
  {
   "cell_type": "code",
   "execution_count": 43,
   "outputs": [],
   "source": [
    "# imports\n",
    "from mewpy.germ.algebra import Expression, parse_expression\n",
    "from mewpy.germ.variables import Target, Interaction, Regulator"
   ],
   "metadata": {
    "collapsed": false
   }
  },
  {
   "cell_type": "code",
   "execution_count": 44,
   "outputs": [
    {
     "data": {
      "text/plain": "b0002 || (0, 1)",
      "text/html": "\n            <table>\n                <tr><th>Identifier</th><td>b0002</td></tr><tr><th>Name</th><td>thrA</td></tr><tr><th>Aliases</th><td></td></tr><tr><th>Model</th><td>None</td></tr><tr><th>Types</th><td>regulator</td></tr><tr><th>Coefficients</th><td>(0, 1)</td></tr><tr><th>Active</th><td>True</td></tr><tr><th>Interactions</th><td></td></tr><tr><th>Targets</th><td></td></tr><tr><th>Environmental stimulus</th><td>True</td></tr>\n            </table>\n        "
     },
     "execution_count": 44,
     "metadata": {},
     "output_type": "execute_result"
    }
   ],
   "source": [
    "# creating the regulators\n",
    "b0001 = Regulator(identifier='b0001', name='thrL', coefficients=(0, 1))\n",
    "b0002 = Regulator(identifier='b0002', name='thrA', coefficients=(0, 1))\n",
    "b0002"
   ],
   "metadata": {
    "collapsed": false
   }
  },
  {
   "cell_type": "code",
   "execution_count": 45,
   "outputs": [
    {
     "data": {
      "text/plain": "b0003 || (0, 1)",
      "text/html": "\n            <table>\n                <tr><th>Identifier</th><td>b0003</td></tr><tr><th>Name</th><td>thrB</td></tr><tr><th>Aliases</th><td></td></tr><tr><th>Model</th><td>None</td></tr><tr><th>Types</th><td>target</td></tr><tr><th>Coefficients</th><td>(0, 1)</td></tr><tr><th>Active</th><td>True</td></tr><tr><th>Interaction</th><td>None</td></tr><tr><th>Regulators</th><td></td></tr>\n            </table>\n        "
     },
     "execution_count": 45,
     "metadata": {},
     "output_type": "execute_result"
    }
   ],
   "source": [
    "# creating the target\n",
    "b0003 = Target(identifier='b0003', name='thrB', coefficients=(0, 1))\n",
    "b0003"
   ],
   "metadata": {
    "collapsed": false
   }
  },
  {
   "cell_type": "code",
   "execution_count": 46,
   "outputs": [
    {
     "data": {
      "text/plain": "And(variables=[Symbol(b0002), Not(variables=[Symbol(b0001)])])",
      "text/html": "(b0002 & ( ~ b0001))"
     },
     "execution_count": 46,
     "metadata": {},
     "output_type": "execute_result"
    }
   ],
   "source": [
    "# creating a regulatory event\n",
    "b0003_expression = Expression(symbolic=parse_expression('b0002 and not b0001'),\n",
    "                              variables={'b0001': b0001, 'b0002': b0002})\n",
    "b0003_expression"
   ],
   "metadata": {
    "collapsed": false
   }
  },
  {
   "cell_type": "code",
   "execution_count": 47,
   "outputs": [
    {
     "data": {
      "text/plain": "b0003 || 1.0 = (b0002 & ( ~ b0001))",
      "text/html": "\n            <table>\n                <tr><th>Identifier</th><td>interaction_b0003</td></tr><tr><th>Name</th><td></td></tr><tr><th>Aliases</th><td></td></tr><tr><th>Model</th><td>None</td></tr><tr><th>Types</th><td>interaction</td></tr><tr><th>Target</th><td>b0003 || 1.0 = (b0002 & ( ~ b0001))</td></tr><tr><th>Regulators</th><td>b0001, b0002</td></tr><tr><th>Regulatory events</th><td>1.0 = (b0002 & ( ~ b0001))</td></tr>\n            </table>\n        "
     },
     "execution_count": 47,
     "metadata": {},
     "output_type": "execute_result"
    }
   ],
   "source": [
    "# creating the interaction\n",
    "# it is always a good practice to build the expression of a given interaction first, and then use it in the\n",
    "# Interaction constructor. Otherwise, interaction has alternative constructors (from_expression or from_string)\n",
    "b0003_interaction = Interaction(identifier='interaction_b0003',\n",
    "                                regulatory_events={1.0: b0003_expression},\n",
    "                                target=b0003)\n",
    "b0003_interaction"
   ],
   "metadata": {
    "collapsed": false
   }
  },
  {
   "cell_type": "code",
   "execution_count": 48,
   "outputs": [
    {
     "data": {
      "text/plain": "       b0001  b0002  result\nb0003      1      1       0",
      "text/html": "<div>\n<style scoped>\n    .dataframe tbody tr th:only-of-type {\n        vertical-align: middle;\n    }\n\n    .dataframe tbody tr th {\n        vertical-align: top;\n    }\n\n    .dataframe thead th {\n        text-align: right;\n    }\n</style>\n<table border=\"1\" class=\"dataframe\">\n  <thead>\n    <tr style=\"text-align: right;\">\n      <th></th>\n      <th>b0001</th>\n      <th>b0002</th>\n      <th>result</th>\n    </tr>\n  </thead>\n  <tbody>\n    <tr>\n      <th>b0003</th>\n      <td>1</td>\n      <td>1</td>\n      <td>0</td>\n    </tr>\n  </tbody>\n</table>\n</div>"
     },
     "execution_count": 48,
     "metadata": {},
     "output_type": "execute_result"
    }
   ],
   "source": [
    "b0003_interaction.regulatory_truth_table"
   ],
   "metadata": {
    "collapsed": false
   }
  },
  {
   "cell_type": "markdown",
   "source": [
    "Interactions can be created automatically from a regulatory rule in a string format. This avoids creating regulatory expressions manually using the boolean expression parser. Note that Regulators are also created automatically using the identifiers in the string"
   ],
   "metadata": {
    "collapsed": false
   }
  },
  {
   "cell_type": "code",
   "execution_count": 49,
   "outputs": [
    {
     "data": {
      "text/plain": "b0004 || 1.0 = ((b0005 & b0006) | (b0007 > 0))",
      "text/html": "\n            <table>\n                <tr><th>Identifier</th><td>b0004_interaction</td></tr><tr><th>Name</th><td>interaction from string creates new genes</td></tr><tr><th>Aliases</th><td></td></tr><tr><th>Model</th><td>None</td></tr><tr><th>Types</th><td>interaction</td></tr><tr><th>Target</th><td>b0004 || 1.0 = ((b0005 & b0006) | (b0007 > 0))</td></tr><tr><th>Regulators</th><td>b0005, b0006, b0007</td></tr><tr><th>Regulatory events</th><td>1.0 = ((b0005 & b0006) | (b0007 > 0))</td></tr>\n            </table>\n        "
     },
     "execution_count": 49,
     "metadata": {},
     "output_type": "execute_result"
    }
   ],
   "source": [
    "b0004 = Target(identifier='b0004')\n",
    "# creating an interaction from string. Note that propositional logic is also accepted\n",
    "b0004_interaction = Interaction.from_string(identifier='b0004_interaction',\n",
    "                                            name='interaction from string creates new genes',\n",
    "                                            rule='(b0005 and b0006) or (b0007 > 0)',\n",
    "                                            target=b0004)\n",
    "b0004_interaction"
   ],
   "metadata": {
    "collapsed": false
   }
  },
  {
   "cell_type": "markdown",
   "source": [
    "One can change the outcome of a regulatory expression by changing the coefficients of the regulators."
   ],
   "metadata": {
    "collapsed": false
   }
  },
  {
   "cell_type": "code",
   "execution_count": 50,
   "outputs": [
    {
     "data": {
      "text/plain": "       b0005  b0006  b0007  result\nb0004      0    1.0      0       0",
      "text/html": "<div>\n<style scoped>\n    .dataframe tbody tr th:only-of-type {\n        vertical-align: middle;\n    }\n\n    .dataframe tbody tr th {\n        vertical-align: top;\n    }\n\n    .dataframe thead th {\n        text-align: right;\n    }\n</style>\n<table border=\"1\" class=\"dataframe\">\n  <thead>\n    <tr style=\"text-align: right;\">\n      <th></th>\n      <th>b0005</th>\n      <th>b0006</th>\n      <th>b0007</th>\n      <th>result</th>\n    </tr>\n  </thead>\n  <tbody>\n    <tr>\n      <th>b0004</th>\n      <td>0</td>\n      <td>1.0</td>\n      <td>0</td>\n      <td>0</td>\n    </tr>\n  </tbody>\n</table>\n</div>"
     },
     "execution_count": 50,
     "metadata": {},
     "output_type": "execute_result"
    }
   ],
   "source": [
    "# changing the regulatory expression by altering the regulators coefficients\n",
    "b0005 = b0004_interaction.regulators['b0005']\n",
    "b0005.coefficients = (0,)\n",
    "\n",
    "b0007 = b0004_interaction.regulators['b0007']\n",
    "b0007.coefficients = (0,)\n",
    "b0004_interaction.regulatory_truth_table"
   ],
   "metadata": {
    "collapsed": false
   }
  },
  {
   "cell_type": "code",
   "execution_count": 51,
   "outputs": [
    {
     "data": {
      "text/plain": "1"
     },
     "execution_count": 51,
     "metadata": {},
     "output_type": "execute_result"
    }
   ],
   "source": [
    "# evaluating the regulatory expression with different regulators coefficients (it does not change the regulators coefficients though)\n",
    "b0004_expression = b0004_interaction.regulatory_events.get(1)\n",
    "b0004_expression.evaluate(values={'b0005': 1})"
   ],
   "metadata": {
    "collapsed": false
   }
  },
  {
   "cell_type": "markdown",
   "metadata": {},
   "source": [
    "### Working with multi-type GERM model variables\n",
    "A GERM model variable is by default a multi-type variable. Integrated models often include multi-type variables representing simultaneously regulators and metabolites or targets and metabolic genes, among others. A single GERM model variable can store the information of a multi-type variable. For instance, a single variable object can share attributes and methods of a metabolite and regulator. More importantly, genes associated with reactions in a metabolic model often correspond to target genes having a regulatory interaction in the regulatory model.\n",
    "\n",
    "MEWpy builds multi-type variables when reading GERM models. One can check `variable.types` or use a type checker `variable.is_regulator()` to access a variable type."
   ]
  },
  {
   "cell_type": "code",
   "execution_count": 52,
   "outputs": [
    {
     "data": {
      "text/plain": "Model e_coli_core - E. coli core model - Orth et al 2010",
      "text/html": "\n            <table>\n                <tr>\n                    <th><b>Model</b></th>\n                    <td>e_coli_core</td>\n                </tr>\n                <tr>\n                    <th>Name</th>\n                    <td>E. coli core model - Orth et al 2010</td>\n                </tr>\n                <tr>\n                    <th>Types</th>\n                    <td>metabolic, regulatory</td>\n                </tr>\n                <tr>\n                    <th>Compartments</th>\n                    <td>c, e</td>\n                </tr>\n                <tr>\n                    <th>Reactions</th>\n                    <td>95</td>\n                </tr>\n                <tr>\n                    <th>Metabolites</th>\n                    <td>72</td>\n                </tr>\n                <tr>\n                    <th>Genes</th>\n                    <td>137</td>\n                </tr>\n                <tr>\n                    <th>Exchanges</th>\n                    <td>20</td>\n                </tr>\n                <tr>\n                    <th>Demands</th>\n                    <td>0</td>\n                </tr>\n                <tr>\n                    <th>Sinks</th>\n                    <td>0</td>\n                </tr>\n                <tr>\n                    <th>Objective</th>\n                    <td>Biomass_Ecoli_core</td>\n                </tr>\n                <tr>\n                    <th>Regulatory interactions</th>\n                    <td>159</td>\n                </tr>\n                <tr>\n                    <th>Targets</th>\n                    <td>159</td>\n                </tr>\n                <tr>\n                    <th>Regulators</th>\n                    <td>45</td>\n                </tr>\n                <tr>\n                    <th>Regulatory reactions</th>\n                    <td>12</td>\n                </tr>\n                <tr>\n                    <th>Regulatory metabolites</th>\n                    <td>11</td>\n                </tr>\n                <tr>\n                    <th>Environmental stimuli</th>\n                    <td>0</td>\n                </tr>\n            </table>\n            "
     },
     "execution_count": 52,
     "metadata": {},
     "output_type": "execute_result"
    }
   ],
   "source": [
    "# reading the integrated regulatory-metabolic model again\n",
    "model = read_model(gem_reader, trn_reader)\n",
    "model"
   ],
   "metadata": {
    "collapsed": false
   }
  },
  {
   "cell_type": "code",
   "execution_count": 53,
   "outputs": [
    {
     "name": "stdout",
     "output_type": "stream",
     "text": [
      "PDH regulators:  b0113, b3261, b0113, b3261\n"
     ]
    },
    {
     "data": {
      "text/plain": "b0113 || (0.0, 1.0)",
      "text/html": "\n            <table>\n                <tr><th>Identifier</th><td>b0113</td></tr><tr><th>Name</th><td>b0113</td></tr><tr><th>Aliases</th><td>PdhR, b0113</td></tr><tr><th>Model</th><td>e_coli_core</td></tr><tr><th>Types</th><td>regulator, target</td></tr><tr><th>Coefficients</th><td>(0.0, 1.0)</td></tr><tr><th>Active</th><td>True</td></tr><tr><th>Interactions</th><td>b0114_interaction, b0115_interaction</td></tr><tr><th>Targets</th><td>b0114, b0115</td></tr><tr><th>Environmental stimulus</th><td>False</td></tr><tr><th>Interaction</th><td>b0113 || 1 = ( ~ surplusPYR)</td></tr><tr><th>Regulators</th><td>surplusPYR</td></tr>\n            </table>\n        "
     },
     "execution_count": 53,
     "metadata": {},
     "output_type": "execute_result"
    }
   ],
   "source": [
    "# access to a reaction and find all regulators associated\n",
    "pdh = model.get('PDH')\n",
    "\n",
    "pdh_regulators = []\n",
    "for gene in pdh.yield_genes():\n",
    "    if gene.is_target():\n",
    "        pdh_regulators.extend(gene.yield_regulators())\n",
    "print('PDH regulators: ', ', '.join(reg.id for reg in pdh_regulators))\n",
    "pdh_regulators[0]"
   ],
   "metadata": {
    "collapsed": false
   }
  },
  {
   "cell_type": "code",
   "execution_count": 54,
   "outputs": [
    {
     "data": {
      "text/plain": "b0001 || (0.0, 1.0)",
      "text/html": "\n            <table>\n                <tr><th>Identifier</th><td>b0001</td></tr><tr><th>Name</th><td></td></tr><tr><th>Aliases</th><td></td></tr><tr><th>Model</th><td>None</td></tr><tr><th>Types</th><td>target, gene</td></tr><tr><th>Coefficients</th><td>(0.0, 1.0)</td></tr><tr><th>Active</th><td>True</td></tr><tr><th>Interaction</th><td>None</td></tr><tr><th>Regulators</th><td></td></tr><tr><th>Reactions</th><td></td></tr>\n            </table>\n        "
     },
     "execution_count": 54,
     "metadata": {},
     "output_type": "execute_result"
    }
   ],
   "source": [
    "from mewpy.germ.variables import Variable\n",
    "\n",
    "# one can create multi-type variables as follows\n",
    "Variable.from_types(types=('target', 'gene'), identifier='b0001')"
   ],
   "metadata": {
    "collapsed": false
   }
  }
 ],
 "metadata": {
  "kernelspec": {
   "display_name": "Python 3",
   "language": "python",
   "name": "python3"
  },
  "language_info": {
   "codemirror_mode": {
    "name": "ipython",
    "version": 3
   },
   "file_extension": ".py",
   "mimetype": "text/x-python",
   "name": "python",
   "nbconvert_exporter": "python",
   "pygments_lexer": "ipython3",
   "version": "3.7.7"
  }
 },
 "nbformat": 4,
 "nbformat_minor": 1
}
