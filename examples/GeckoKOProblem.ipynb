{
 "cells": [
  {
   "cell_type": "markdown",
   "metadata": {},
   "source": [
    "## MEWpy Example"
   ]
  },
  {
   "cell_type": "markdown",
   "metadata": {},
   "source": [
    "A GECKO model simulation and optimization example.\n",
    "\n",
    "We start by loading the GECKO model for yeast.\n",
    "The model may be loaded using the original implementation over COBRApy. "
   ]
  },
  {
   "cell_type": "code",
   "execution_count": 1,
   "metadata": {},
   "outputs": [],
   "source": [
    "# Using geckopy package.\n",
    "from geckopy.gecko import GeckoModel\n",
    "model = GeckoModel('single-pool')"
   ]
  },
  {
   "cell_type": "markdown",
   "metadata": {},
   "source": [
    " The model may also be loaded using the MEWpy implementation\n",
    " We strongly suggest using the MEWpy implementation, based on REFRAMED, as it is considerably faster."
   ]
  },
  {
   "cell_type": "code",
   "execution_count": 2,
   "metadata": {},
   "outputs": [],
   "source": [
    "from mewpy.model.gecko import GeckoModel\n",
    "model = GeckoModel('single-pool')"
   ]
  },
  {
   "cell_type": "markdown",
   "metadata": {},
   "source": [
    "The Simulation class enables to easily perform simulations considering specific environmental conditions as well as other constraint, such protein knockouts or over/under expression. \n",
    " "
   ]
  },
  {
   "cell_type": "code",
   "execution_count": 4,
   "metadata": {},
   "outputs": [],
   "source": [
    "# Define environmental conditions (limit glucose consumption) \n",
    "envcond = {'r_1714_REV':(-10,1000)}\n",
    "\n",
    "from mewpy.simulation import get_simulator\n",
    "simul = get_simulator(model,envcond= envcond)"
   ]
  },
  {
   "cell_type": "markdown",
   "metadata": {},
   "source": [
    "We start by running a Flux Balance Analysis phenotype prediction."
   ]
  },
  {
   "cell_type": "code",
   "execution_count": 5,
   "metadata": {},
   "outputs": [
    {
     "name": "stdout",
     "output_type": "stream",
     "text": [
      "objective: 0.3254252917567038\n",
      "Status: SStatus.OPTIMAL\n"
     ]
    }
   ],
   "source": [
    "# FBA\n",
    "result =simul.simulate()\n",
    "print(result)"
   ]
  },
  {
   "cell_type": "markdown",
   "metadata": {},
   "source": [
    "Other phenotype simulation methods can explicitly be defined, such as parsimonious FBA."
   ]
  },
  {
   "cell_type": "code",
   "execution_count": 6,
   "metadata": {},
   "outputs": [
    {
     "name": "stdout",
     "output_type": "stream",
     "text": [
      "objective: 625.2854174098451\n",
      "Status: SStatus.OPTIMAL\n"
     ]
    }
   ],
   "source": [
    "from mewpy.simulation import  SimulationMethod\n",
    "result= simul.simulate(method='pFBA')\n",
    "print(result)"
   ]
  },
  {
   "cell_type": "markdown",
   "metadata": {},
   "source": [
    "We aim to later optimize the production of L-tyrosine, whose exchange reaction has the 'r_1913' identifier.\n",
    "As such it is important to analyse the flux variability. By default, MEWpy considers a 90% fraction of the objective when running a FVA."
   ]
  },
  {
   "cell_type": "code",
   "execution_count": 8,
   "metadata": {},
   "outputs": [
    {
     "data": {
      "text/plain": [
       "{'r_1913': [0.0, 0.3297187936816093]}"
      ]
     },
     "execution_count": 8,
     "metadata": {},
     "output_type": "execute_result"
    }
   ],
   "source": [
    "# FVA of L-tyrosine\n",
    "simul.FVA(reactions=['r_1913'])"
   ]
  },
  {
   "cell_type": "markdown",
   "metadata": {},
   "source": [
    "We might also look at flux's values on the wild type, using the results from the previous pFBA. The biomass reaction has the identifier 'r_2111'."
   ]
  },
  {
   "cell_type": "code",
   "execution_count": 9,
   "metadata": {},
   "outputs": [
    {
     "name": "stdout",
     "output_type": "stream",
     "text": [
      "0.3250998017302527\n",
      "0.0\n"
     ]
    }
   ],
   "source": [
    "# Flux values can be retreived from the simulation results object\n",
    "reference = result.fluxes\n",
    "# Biomass\n",
    "print(reference['r_2111'])\n",
    "# L-tyrosine\n",
    "print(reference['r_1913'])"
   ]
  },
  {
   "cell_type": "markdown",
   "metadata": {},
   "source": [
    "In the wild type, and without adding any condition, the model does not produce L-tyronine.\n",
    "\n",
    "GECKO models integrate proteomics into GSMMs. As such we may be interested on identifying essential proteins."
   ]
  },
  {
   "cell_type": "code",
   "execution_count": 10,
   "metadata": {},
   "outputs": [
    {
     "data": {
      "text/plain": [
       "['draw_prot_Q12452',\n",
       " 'draw_prot_P05150',\n",
       " 'draw_prot_P80210',\n",
       " 'draw_prot_P15180',\n",
       " 'draw_prot_P32377',\n",
       " 'draw_prot_P04161',\n",
       " 'draw_prot_P39692',\n",
       " 'draw_prot_P31116',\n",
       " 'draw_prot_P40825',\n",
       " 'draw_prot_P03962']"
      ]
     },
     "execution_count": 10,
     "metadata": {},
     "output_type": "execute_result"
    }
   ],
   "source": [
    "# Essential proteins\n",
    "# Takes as argument the proteins prefix.\n",
    "essential = simul.essential_proteins('draw_prot_')\n",
    "essential[:10]"
   ]
  },
  {
   "cell_type": "markdown",
   "metadata": {},
   "source": [
    "MEWpy allows to easely add contraints to phenotype simulations.\n",
    "\n",
    "Let us consider a set of enzyme constraints obtained from a MEWpy optimization on the yeast GECKO model targeting the production of the same compound."
   ]
  },
  {
   "cell_type": "code",
   "execution_count": 18,
   "metadata": {},
   "outputs": [],
   "source": [
    "# Adding constraints to phenotype simulations\n",
    "constraints ={'draw_prot_P32452':(0.0,4e-09),\n",
    "              'draw_prot_P32178':(1.2e-06,10000),\n",
    "              'draw_prot_P38715':0.0,\n",
    "              'draw_prot_Q04430':0.0,\n",
    "              'draw_prot_P21595':0.0\n",
    "             }"
   ]
  },
  {
   "cell_type": "markdown",
   "metadata": {},
   "source": [
    "We may now add these new constraints to a pFBA prediction, and analyse the L-tyrosine production and biomass."
   ]
  },
  {
   "cell_type": "code",
   "execution_count": 19,
   "metadata": {},
   "outputs": [
    {
     "name": "stdout",
     "output_type": "stream",
     "text": [
      "0.16620098254926452\n",
      "1.5105325049459961\n"
     ]
    }
   ],
   "source": [
    "result = simul.simulate(constraints=constraints,method='pFBA')\n",
    "# Biomass\n",
    "print(result.fluxes['r_2111'])\n",
    "# L-tyrosine\n",
    "print(result.fluxes['r_1913'])"
   ]
  },
  {
   "cell_type": "markdown",
   "metadata": {},
   "source": [
    "We can observe that the simulation predicts that the introduce modifications will allow the organism to produce L-tyrosine.\n",
    "Let us now perfom a flux balance analysis accounting with the modifications as well as plot the production envelope."
   ]
  },
  {
   "cell_type": "code",
   "execution_count": 20,
   "metadata": {},
   "outputs": [
    {
     "data": {
      "text/plain": [
       "{'r_1913': [1.5105113215577008, 1.7601437642590547]}"
      ]
     },
     "execution_count": 20,
     "metadata": {},
     "output_type": "execute_result"
    }
   ],
   "source": [
    "simul.FVA(reactions=['r_1913'],constraints=constraints)"
   ]
  },
  {
   "cell_type": "code",
   "execution_count": 24,
   "metadata": {},
   "outputs": [
    {
     "data": {
      "text/plain": [
       "<matplotlib.axes._subplots.AxesSubplot at 0x7f2df04ae080>"
      ]
     },
     "execution_count": 24,
     "metadata": {},
     "output_type": "execute_result"
    },
    {
     "data": {
      "image/png": "[encoded data removed]",
      "text/plain": [
       "<Figure size 432x288 with 1 Axes>"
      ]
     },
     "metadata": {
      "needs_background": "light"
     },
     "output_type": "display_data"
    }
   ],
   "source": [
    "# Production envelope with constraints\n",
    "\n",
    "from mewpy.visualization.envelope import plot_flux_envelope\n",
    "plot_flux_envelope(simul,'r_2111','r_1913',constraints=constraints)"
   ]
  },
  {
   "cell_type": "markdown",
   "metadata": {},
   "source": [
    "## GECKO model Optimization\n",
    "\n",
    "We will now optimize the production of L-tyrosine by modifying the GECKO model enzymatic contraints, that is, by altering the availability of enzymes.\n",
    "\n",
    "The optimization is performed by defining an Evolutionary Algorithm Optimization Problem.\n",
    "To define a problem we start by identifiying the objective functions: biomass-product coupled yield and weighted yield."
   ]
  },
  {
   "cell_type": "code",
   "execution_count": 13,
   "metadata": {},
   "outputs": [],
   "source": [
    "from mewpy.optimization.evaluation import BPCY,WYIELD\n",
    "\n",
    "evaluator_1 = BPCY(\"r_2111\", \"r_1913\",method=SimulationMethod.lMOMA) \n",
    "evaluator_2 = WYIELD(\"r_2111\", \"r_1913\")\n"
   ]
  },
  {
   "cell_type": "markdown",
   "metadata": {},
   "source": [
    "We aim to find solutions that only include protein deletions or knock out, as such, we will instatiate a GeckoKOProblem, and consider a maximum of 6 deletions. "
   ]
  },
  {
   "cell_type": "code",
   "execution_count": 14,
   "metadata": {},
   "outputs": [],
   "source": [
    "# creates a new KO optimization problem\n",
    "from mewpy.problems import GeckoKOProblem\n",
    "\n",
    "# The problem takes as parameters the model, the objectives, optional environmental conditions,\n",
    "# and the maximum number of simultaneous KOs. Other parameters can be passed such as, for example, \n",
    "# target or, alternatively, non target proteins. If not provided, targets are all non essential proteins. \n",
    "\n",
    "problem = GeckoKOProblem(model, \n",
    "                          fevaluation=[evaluator_1,evaluator_2], \n",
    "                          envcond = envcond,\n",
    "                          candidate_max_size = 6)"
   ]
  },
  {
   "cell_type": "markdown",
   "metadata": {},
   "source": [
    "We may now start the optimization process by instantiating an EA for the problem and set the running preferences."
   ]
  },
  {
   "cell_type": "code",
   "execution_count": 15,
   "metadata": {},
   "outputs": [
    {
     "name": "stdout",
     "output_type": "stream",
     "text": [
      "Using 6 workers.\n",
      "Running NSGAII\n"
     ]
    },
    {
     "data": {
      "image/png": "[encoded data removed]",
      "text/plain": [
       "<Figure size 432x288 with 1 Axes>"
      ]
     },
     "metadata": {
      "needs_background": "light"
     },
     "output_type": "display_data"
    },
    {
     "name": "stdout",
     "output_type": "stream",
     "text": [
      "Gen    Eval|     Worst      Best    Median   Average   Std Dev|     Worst      Best    Median   Average   Std Dev|\n",
      "   0    100|  0.000000  0.002674  0.000000  0.000421  0.000860|  0.000000  0.001060  0.000990  0.000968  0.000140|\n",
      "   1    200|  0.000000  0.019408  0.000131  0.001083  0.002132|  0.000000  0.019653  0.000990  0.001171  0.001860|\n",
      "   2    300|  0.000000  0.023437  0.000844  0.001850  0.003508|  0.000988  0.019653  0.000993  0.001383  0.002610|\n",
      "   3    400|  0.000000  0.023437  0.000868  0.002607  0.004811|  0.000988  0.019653  0.001004  0.001956  0.004059|\n",
      "   4    500|  0.000000  0.050347  0.002648  0.004345  0.008525|  0.000988  0.028277  0.001060  0.003064  0.006197|\n",
      "   5    600|  0.000000  0.050347  0.002792  0.008856  0.012391|  0.000988  0.028277  0.001060  0.006377  0.008742|\n",
      "   6    700|  0.002707  0.050732  0.019292  0.018419  0.015233|  0.000988  0.028293  0.019599  0.014007  0.009583|\n",
      "   7    800|  0.002673  0.067185  0.021435  0.032275  0.015115|  0.000992  0.093984  0.019653  0.022698  0.009587|\n",
      "   8    900|  0.002673  0.067185  0.050092  0.045893  0.011099|  0.001021  0.093984  0.028266  0.027506  0.010933|\n",
      "   9   1000|  0.049193  0.081517  0.050385  0.051669  0.004167|  0.001021  0.114144  0.028286  0.032024  0.015703|\n",
      "  10   1100|  0.049193  0.081518  0.050732  0.053566  0.007614|  0.001021  0.114144  0.028292  0.038293  0.024756|\n"
     ]
    }
   ],
   "source": [
    "from mewpy.optimization import EA\n",
    "\n",
    "# A new instance of the EA optimizer for the problem with a stopping criteria of 10 iterations (1000 evaluations)\n",
    "# mp: use parallel processing (by default half of the available threads).\n",
    "# visualizer: display the pareto front of the evaluated population.\n",
    "\n",
    "ea = EA(problem, max_generations = 10, mp =True, visualizer = True)\n",
    "\n",
    "# runs the optimization\n",
    "final_pop = ea.run()\n"
   ]
  },
  {
   "cell_type": "markdown",
   "metadata": {},
   "source": [
    "The final population contains the best solutions found by the EA. We may choose to save the solutions, or run some analysis as previously seen."
   ]
  },
  {
   "cell_type": "code",
   "execution_count": 42,
   "metadata": {},
   "outputs": [
    {
     "data": {
      "text/plain": [
       "[0.08151745148749975, 0.1141441390863936];{'P46969', 'P36013', 'P41939', 'P40506', 'P17505'}"
      ]
     },
     "execution_count": 42,
     "metadata": {},
     "output_type": "execute_result"
    }
   ],
   "source": [
    "final_pop[0]"
   ]
  },
  {
   "cell_type": "code",
   "execution_count": 43,
   "metadata": {},
   "outputs": [
    {
     "data": {
      "text/plain": [
       "{'draw_prot_P46969': 0,\n",
       " 'draw_prot_P36013': 0,\n",
       " 'draw_prot_P41939': 0,\n",
       " 'draw_prot_P40506': 0,\n",
       " 'draw_prot_P17505': 0}"
      ]
     },
     "execution_count": 43,
     "metadata": {},
     "output_type": "execute_result"
    }
   ],
   "source": [
    "final_pop[0].constraints"
   ]
  },
  {
   "cell_type": "code",
   "execution_count": null,
   "metadata": {},
   "outputs": [],
   "source": []
  }
 ],
 "metadata": {
  "kernelspec": {
   "display_name": "Python 3 (ipykernel)",
   "language": "python",
   "name": "python3"
  },
  "language_info": {
   "codemirror_mode": {
    "name": "ipython",
    "version": 3
   },
   "file_extension": ".py",
   "mimetype": "text/x-python",
   "name": "python",
   "nbconvert_exporter": "python",
   "pygments_lexer": "ipython3",
   "version": "3.7.9"
  }
 },
 "nbformat": 4,
 "nbformat_minor": 2
}
