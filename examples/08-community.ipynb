{
 "cells": [
  {
   "cell_type": "markdown",
   "id": "4ef35842",
   "metadata": {},
   "source": [
    "# MEWpy Community Modeling\n",
    "\n",
    "Author: Vitor Pereira, inspired on the work by Daniel Machado. \n",
    "\n",
    "License: [CC BY-SA 4.0](http://creativecommons.org/licenses/by-sa/4.0/)\n",
    "\n",
    "-------\n",
    "\n",
    "In this tutorial:\n",
    "\n",
    "- You will learn how to perform flux balance analysis of microbial communities\n",
    "using a model of the [central carbon metabolism of *E. coli*](https://journals.asm.org/doi/10.1128/ecosalplus.10.2.1).\n"
   ]
  },
  {
   "cell_type": "markdown",
   "id": "19cdc16d",
   "metadata": {},
   "source": [
    "## Install requirements \n",
    "To run this notebook we firstly need to install the required packages"
   ]
  },
  {
   "cell_type": "code",
   "execution_count": 1,
   "id": "5af506f8",
   "metadata": {},
   "outputs": [
    {
     "name": "stdout",
     "output_type": "stream",
     "text": [
      "\u001b[31mERROR: Could not find a version that satisfies the requirement cplex (from versions: none)\u001b[0m\u001b[31m\r\n",
      "\u001b[0m\u001b[31mERROR: No matching distribution found for cplex\u001b[0m\u001b[31m\r\n",
      "\u001b[0m"
     ]
    }
   ],
   "source": [
    "! pip install -U -q mewpy cplex escher"
   ]
  },
  {
   "cell_type": "markdown",
   "id": "15b21699",
   "metadata": {},
   "source": [
    "Verify the instalation"
   ]
  },
  {
   "cell_type": "code",
   "execution_count": 2,
   "id": "b959d694",
   "metadata": {},
   "outputs": [
    {
     "name": "stdout",
     "output_type": "stream",
     "text": [
      "MEWpy version: 0.1.29\n",
      "Author: BiSBII CEB University of Minho\n",
      "Contact: vpereira@ceb.uminho.pt \n",
      "\n",
      "Available LP solvers: gurobi glpk\n",
      "Default LP solver: gurobi \n",
      "\n",
      "Available ODE solvers: scipy\n",
      "Default ODE solver: scipy \n",
      "\n",
      "Optimization Problems: AbstractKOProblem AbstractOUProblem CofactorSwapProblem CommunityKOProblem ETFLGKOProblem ETFLGOUProblem GKOProblem GOUProblem GeckoKOProblem GeckoOUProblem KcatOptProblem KineticKOProblem KineticOUProblem MediumProblem OptORFProblem OptRamProblem RKOProblem ROUProblem \n",
      "\n",
      "Available EA engines: inspyred jmetal\n",
      "Default EA engine: jmetal\n",
      "Available EAs: GA NSGAII NSGAIII SA SPEA2 \n",
      "\n"
     ]
    }
   ],
   "source": [
    "import mewpy\n",
    "mewpy.info()"
   ]
  },
  {
   "cell_type": "markdown",
   "id": "6f2de219",
   "metadata": {},
   "source": [
    "IMPORTANT: The notebooks require a MEWpy version >= 0.1.26"
   ]
  },
  {
   "cell_type": "markdown",
   "id": "315126b8",
   "metadata": {},
   "source": [
    "### Run in Google colab\n",
    "\n",
    "If you are running this notebook in Colab, you need to perform the following steps, otherwise skip."
   ]
  },
  {
   "cell_type": "code",
   "execution_count": 3,
   "id": "70b7be89",
   "metadata": {},
   "outputs": [],
   "source": [
    "%%bash\n",
    "[[ ! -e /colabtools ]] && exit\n",
    "! pip install -U -q PyDrive"
   ]
  },
  {
   "cell_type": "code",
   "execution_count": 4,
   "id": "938ae881",
   "metadata": {},
   "outputs": [],
   "source": [
    "if 'google.colab' in str(get_ipython()):\n",
    "    from pydrive.auth import GoogleAuth\n",
    "    from pydrive.drive import GoogleDrive\n",
    "    from google.colab import auth\n",
    "    from oauth2client.client import GoogleCredentials\n",
    "\n",
    "    auth.authenticate_user()\n",
    "    gauth = GoogleAuth()\n",
    "    gauth.credentials = GoogleCredentials.get_application_default()\n",
    "    drive = GoogleDrive(gauth)\n",
    "\n",
    "    model_file = drive.CreateFile({'id':'1o0XthuEOs28UJ4XTa9SfFSFofazV-2nN'})\n",
    "    model_file.GetContentFile('e_coli_core.xml.gz')"
   ]
  },
  {
   "cell_type": "markdown",
   "id": "b5e4fe7b",
   "metadata": {},
   "source": [
    "## Setting up a community\n",
    "\n",
    "We will create a synthetic microbial consortium with two *E. coli* mutants growing in minimal medium. In one of the mutants we will knockout the glucose transporter and in the other we will knockout the ammonium transporter."
   ]
  },
  {
   "cell_type": "code",
   "execution_count": 5,
   "id": "4fd366fe",
   "metadata": {},
   "outputs": [
    {
     "name": "stdout",
     "output_type": "stream",
     "text": [
      "Set parameter Username\n",
      "Academic license - for non-commercial use only - expires 2023-10-30\n",
      "objective: 0.8739215069684301\n",
      "Status: OPTIMAL\n",
      "Method:SimulationMethod.FBA\n"
     ]
    },
    {
     "data": {
      "text/html": [
       "<div>\n",
       "<style scoped>\n",
       "    .dataframe tbody tr th:only-of-type {\n",
       "        vertical-align: middle;\n",
       "    }\n",
       "\n",
       "    .dataframe tbody tr th {\n",
       "        vertical-align: top;\n",
       "    }\n",
       "\n",
       "    .dataframe thead th {\n",
       "        text-align: right;\n",
       "    }\n",
       "</style>\n",
       "<table border=\"1\" class=\"dataframe\">\n",
       "  <thead>\n",
       "    <tr style=\"text-align: right;\">\n",
       "      <th></th>\n",
       "      <th>Flux rate</th>\n",
       "    </tr>\n",
       "    <tr>\n",
       "      <th>Reaction ID</th>\n",
       "      <th></th>\n",
       "    </tr>\n",
       "  </thead>\n",
       "  <tbody>\n",
       "    <tr>\n",
       "      <th>EX_co2_e</th>\n",
       "      <td>22.809833</td>\n",
       "    </tr>\n",
       "    <tr>\n",
       "      <th>EX_glc__D_e</th>\n",
       "      <td>-10.000000</td>\n",
       "    </tr>\n",
       "    <tr>\n",
       "      <th>EX_h_e</th>\n",
       "      <td>17.530865</td>\n",
       "    </tr>\n",
       "    <tr>\n",
       "      <th>EX_h2o_e</th>\n",
       "      <td>29.175827</td>\n",
       "    </tr>\n",
       "    <tr>\n",
       "      <th>EX_nh4_e</th>\n",
       "      <td>-4.765319</td>\n",
       "    </tr>\n",
       "    <tr>\n",
       "      <th>EX_o2_e</th>\n",
       "      <td>-21.799493</td>\n",
       "    </tr>\n",
       "    <tr>\n",
       "      <th>EX_pi_e</th>\n",
       "      <td>-3.214895</td>\n",
       "    </tr>\n",
       "  </tbody>\n",
       "</table>\n",
       "</div>"
      ],
      "text/plain": [
       "             Flux rate\n",
       "Reaction ID           \n",
       "EX_co2_e     22.809833\n",
       "EX_glc__D_e -10.000000\n",
       "EX_h_e       17.530865\n",
       "EX_h2o_e     29.175827\n",
       "EX_nh4_e     -4.765319\n",
       "EX_o2_e     -21.799493\n",
       "EX_pi_e      -3.214895"
      ]
     },
     "execution_count": 5,
     "metadata": {},
     "output_type": "execute_result"
    }
   ],
   "source": [
    "from cobra.io import read_sbml_model\n",
    "from mewpy import get_simulator\n",
    "\n",
    "model = read_sbml_model('models/ec/e_coli_core.xml.gz')\n",
    "wildtype = get_simulator(model)\n",
    "solution = wildtype.simulate()\n",
    "print(solution)\n",
    "solution.find('EX')"
   ]
  },
  {
   "cell_type": "markdown",
   "id": "d4c64668",
   "metadata": {},
   "source": [
    "Now we create our two mutants (`glc_ko` and `nh4_ko`):"
   ]
  },
  {
   "cell_type": "code",
   "execution_count": 6,
   "id": "196680b4",
   "metadata": {},
   "outputs": [
    {
     "name": "stdout",
     "output_type": "stream",
     "text": [
      "Read LP format model from file /var/folders/fw/kbs61_l15j587pjbwf3_y8780000gn/T/tmpmtknqeks.lp\n",
      "Reading time = 0.00 seconds\n",
      ": 72 rows, 190 columns, 720 nonzeros\n"
     ]
    }
   ],
   "source": [
    "glc_ko = wildtype.copy()\n",
    "glc_ko.id = 'glc_ko'\n",
    "glc_ko.set_reaction_bounds('GLCpts', 0, 0)"
   ]
  },
  {
   "cell_type": "code",
   "execution_count": 7,
   "id": "baeb1a1d",
   "metadata": {},
   "outputs": [
    {
     "name": "stdout",
     "output_type": "stream",
     "text": [
      "Read LP format model from file /var/folders/fw/kbs61_l15j587pjbwf3_y8780000gn/T/tmppn2_q41w.lp\n",
      "Reading time = 0.00 seconds\n",
      ": 72 rows, 190 columns, 720 nonzeros\n"
     ]
    }
   ],
   "source": [
    "nh4_ko = wildtype.copy()\n",
    "nh4_ko.id = 'nh4_ko'\n",
    "nh4_ko.set_reaction_bounds('NH4t', 0, 0)"
   ]
  },
  {
   "cell_type": "markdown",
   "id": "e1f4b0c4",
   "metadata": {},
   "source": [
    "## Comparing models\n",
    "\n",
    "Community models require that metabolites have the same identifiers accros all models. MEWpy offers some functions tho that end, computing the metabolites, reactions and uptakes overlaps between a list models."
   ]
  },
  {
   "cell_type": "code",
   "execution_count": 8,
   "id": "b6e5ff2a",
   "metadata": {},
   "outputs": [],
   "source": [
    "from mewpy.cobra.com import *\n",
    "mets, rxns, over = jaccard_similarity_matrices([glc_ko, nh4_ko])"
   ]
  },
  {
   "cell_type": "code",
   "execution_count": 9,
   "id": "f766d344",
   "metadata": {},
   "outputs": [
    {
     "data": {
      "text/html": [
       "<div>\n",
       "<style scoped>\n",
       "    .dataframe tbody tr th:only-of-type {\n",
       "        vertical-align: middle;\n",
       "    }\n",
       "\n",
       "    .dataframe tbody tr th {\n",
       "        vertical-align: top;\n",
       "    }\n",
       "\n",
       "    .dataframe thead th {\n",
       "        text-align: right;\n",
       "    }\n",
       "</style>\n",
       "<table border=\"1\" class=\"dataframe\">\n",
       "  <thead>\n",
       "    <tr style=\"text-align: right;\">\n",
       "      <th></th>\n",
       "      <th>glc_ko</th>\n",
       "      <th>nh4_ko</th>\n",
       "    </tr>\n",
       "  </thead>\n",
       "  <tbody>\n",
       "    <tr>\n",
       "      <th>glc_ko</th>\n",
       "      <td>1.0</td>\n",
       "      <td>1.0</td>\n",
       "    </tr>\n",
       "    <tr>\n",
       "      <th>nh4_ko</th>\n",
       "      <td>1.0</td>\n",
       "      <td>1.0</td>\n",
       "    </tr>\n",
       "  </tbody>\n",
       "</table>\n",
       "</div>"
      ],
      "text/plain": [
       "        glc_ko  nh4_ko\n",
       "glc_ko     1.0     1.0\n",
       "nh4_ko     1.0     1.0"
      ]
     },
     "execution_count": 9,
     "metadata": {},
     "output_type": "execute_result"
    }
   ],
   "source": [
    "mets"
   ]
  },
  {
   "cell_type": "code",
   "execution_count": 10,
   "id": "aa208246",
   "metadata": {},
   "outputs": [
    {
     "data": {
      "text/html": [
       "<div>\n",
       "<style scoped>\n",
       "    .dataframe tbody tr th:only-of-type {\n",
       "        vertical-align: middle;\n",
       "    }\n",
       "\n",
       "    .dataframe tbody tr th {\n",
       "        vertical-align: top;\n",
       "    }\n",
       "\n",
       "    .dataframe thead th {\n",
       "        text-align: right;\n",
       "    }\n",
       "</style>\n",
       "<table border=\"1\" class=\"dataframe\">\n",
       "  <thead>\n",
       "    <tr style=\"text-align: right;\">\n",
       "      <th></th>\n",
       "      <th>glc_ko</th>\n",
       "      <th>nh4_ko</th>\n",
       "    </tr>\n",
       "  </thead>\n",
       "  <tbody>\n",
       "    <tr>\n",
       "      <th>glc_ko</th>\n",
       "      <td>1.000000</td>\n",
       "      <td>0.978947</td>\n",
       "    </tr>\n",
       "    <tr>\n",
       "      <th>nh4_ko</th>\n",
       "      <td>0.978947</td>\n",
       "      <td>1.000000</td>\n",
       "    </tr>\n",
       "  </tbody>\n",
       "</table>\n",
       "</div>"
      ],
      "text/plain": [
       "          glc_ko    nh4_ko\n",
       "glc_ko  1.000000  0.978947\n",
       "nh4_ko  0.978947  1.000000"
      ]
     },
     "execution_count": 10,
     "metadata": {},
     "output_type": "execute_result"
    }
   ],
   "source": [
    "rxns"
   ]
  },
  {
   "cell_type": "code",
   "execution_count": 11,
   "id": "2e6e97cb",
   "metadata": {},
   "outputs": [
    {
     "data": {
      "text/html": [
       "<div>\n",
       "<style scoped>\n",
       "    .dataframe tbody tr th:only-of-type {\n",
       "        vertical-align: middle;\n",
       "    }\n",
       "\n",
       "    .dataframe tbody tr th {\n",
       "        vertical-align: top;\n",
       "    }\n",
       "\n",
       "    .dataframe thead th {\n",
       "        text-align: right;\n",
       "    }\n",
       "</style>\n",
       "<table border=\"1\" class=\"dataframe\">\n",
       "  <thead>\n",
       "    <tr style=\"text-align: right;\">\n",
       "      <th></th>\n",
       "      <th>glc_ko</th>\n",
       "      <th>nh4_ko</th>\n",
       "    </tr>\n",
       "  </thead>\n",
       "  <tbody>\n",
       "    <tr>\n",
       "      <th>glc_ko</th>\n",
       "      <td>1.0</td>\n",
       "      <td>1.0</td>\n",
       "    </tr>\n",
       "    <tr>\n",
       "      <th>nh4_ko</th>\n",
       "      <td>1.0</td>\n",
       "      <td>1.0</td>\n",
       "    </tr>\n",
       "  </tbody>\n",
       "</table>\n",
       "</div>"
      ],
      "text/plain": [
       "        glc_ko  nh4_ko\n",
       "glc_ko     1.0     1.0\n",
       "nh4_ko     1.0     1.0"
      ]
     },
     "execution_count": 11,
     "metadata": {},
     "output_type": "execute_result"
    }
   ],
   "source": [
    "over"
   ]
  },
  {
   "cell_type": "markdown",
   "id": "949323a8",
   "metadata": {},
   "source": [
    "## Building communities\n",
    "\n",
    "**MEWpy** has some basic functionality for working with microbial communities, one is the `CommunityModel` class to create microbial communities from a list of models of individual species: "
   ]
  },
  {
   "cell_type": "code",
   "execution_count": 12,
   "id": "91e413e9",
   "metadata": {},
   "outputs": [],
   "source": [
    "from mewpy.model import CommunityModel\n",
    "community = CommunityModel([glc_ko, nh4_ko],flavor='cobra')"
   ]
  },
  {
   "cell_type": "code",
   "execution_count": 13,
   "id": "46ed57b9",
   "metadata": {},
   "outputs": [],
   "source": [
    "sim = community.get_community_model()"
   ]
  },
  {
   "cell_type": "markdown",
   "id": "a9cef7fa",
   "metadata": {},
   "source": [
    "This community model ignores the environmental conditions that were specified in the original models (since these could be very different). \n",
    "\n",
    "To make our life easier, we will extract the nutrient composition specified in the wild-type model to use later."
   ]
  },
  {
   "cell_type": "code",
   "execution_count": 14,
   "id": "6644486c",
   "metadata": {},
   "outputs": [
    {
     "data": {
      "text/plain": [
       "EX_ac_e\t0.0\t1000.0\n",
       "EX_acald_e\t0.0\t1000.0\n",
       "EX_akg_e\t0.0\t1000.0\n",
       "EX_co2_e\t-1000.0\t1000.0\n",
       "EX_etoh_e\t0.0\t1000.0\n",
       "EX_for_e\t0.0\t1000.0\n",
       "EX_fru_e\t0.0\t1000.0\n",
       "EX_fum_e\t0.0\t1000.0\n",
       "EX_glc__D_e\t-10.0\t1000.0\n",
       "EX_gln__L_e\t0.0\t1000.0\n",
       "EX_glu__L_e\t0.0\t1000.0\n",
       "EX_h_e\t-1000.0\t1000.0\n",
       "EX_h2o_e\t-1000.0\t1000.0\n",
       "EX_lac__D_e\t0.0\t1000.0\n",
       "EX_mal__L_e\t0.0\t1000.0\n",
       "EX_nh4_e\t-1000.0\t1000.0\n",
       "EX_o2_e\t-1000.0\t1000.0\n",
       "EX_pi_e\t-1000.0\t1000.0\n",
       "EX_pyr_e\t0.0\t1000.0\n",
       "EX_succ_e\t0.0\t1000.0"
      ]
     },
     "execution_count": 14,
     "metadata": {},
     "output_type": "execute_result"
    }
   ],
   "source": [
    "from mewpy.simulation import Environment\n",
    "M9 = Environment.from_model(wildtype)\n",
    "M9"
   ]
  },
  {
   "cell_type": "markdown",
   "id": "a4829b00",
   "metadata": {},
   "source": [
    "## Simulation using FBA\n",
    "\n",
    "A very simple way to simulate a microbial community is to merge the individual models into a single model that mimics a \"super organism\", where each microbe lives inside its own compartment, and run a (conventional) FBA simulation for this *super organism*."
   ]
  },
  {
   "cell_type": "code",
   "execution_count": 15,
   "id": "47cb7a4b",
   "metadata": {},
   "outputs": [
    {
     "name": "stdout",
     "output_type": "stream",
     "text": [
      "objective: 0.8311955501858121\n",
      "Status: OPTIMAL\n",
      "Method:SimulationMethod.FBA\n"
     ]
    },
    {
     "data": {
      "text/html": [
       "<div>\n",
       "<style scoped>\n",
       "    .dataframe tbody tr th:only-of-type {\n",
       "        vertical-align: middle;\n",
       "    }\n",
       "\n",
       "    .dataframe tbody tr th {\n",
       "        vertical-align: top;\n",
       "    }\n",
       "\n",
       "    .dataframe thead th {\n",
       "        text-align: right;\n",
       "    }\n",
       "</style>\n",
       "<table border=\"1\" class=\"dataframe\">\n",
       "  <thead>\n",
       "    <tr style=\"text-align: right;\">\n",
       "      <th></th>\n",
       "      <th>Flux rate</th>\n",
       "    </tr>\n",
       "    <tr>\n",
       "      <th>Reaction ID</th>\n",
       "      <th></th>\n",
       "    </tr>\n",
       "  </thead>\n",
       "  <tbody>\n",
       "    <tr>\n",
       "      <th>EX_glc__D_e</th>\n",
       "      <td>-10.000000</td>\n",
       "    </tr>\n",
       "    <tr>\n",
       "      <th>EX_h2o_e</th>\n",
       "      <td>30.682819</td>\n",
       "    </tr>\n",
       "    <tr>\n",
       "      <th>EX_h_e</th>\n",
       "      <td>16.673783</td>\n",
       "    </tr>\n",
       "    <tr>\n",
       "      <th>EX_nh4_e</th>\n",
       "      <td>-4.532343</td>\n",
       "    </tr>\n",
       "    <tr>\n",
       "      <th>EX_o2_e</th>\n",
       "      <td>-23.667113</td>\n",
       "    </tr>\n",
       "    <tr>\n",
       "      <th>EX_pi_e</th>\n",
       "      <td>-3.057719</td>\n",
       "    </tr>\n",
       "    <tr>\n",
       "      <th>EX_co2_e</th>\n",
       "      <td>24.628058</td>\n",
       "    </tr>\n",
       "  </tbody>\n",
       "</table>\n",
       "</div>"
      ],
      "text/plain": [
       "             Flux rate\n",
       "Reaction ID           \n",
       "EX_glc__D_e -10.000000\n",
       "EX_h2o_e     30.682819\n",
       "EX_h_e       16.673783\n",
       "EX_nh4_e     -4.532343\n",
       "EX_o2_e     -23.667113\n",
       "EX_pi_e      -3.057719\n",
       "EX_co2_e     24.628058"
      ]
     },
     "execution_count": 15,
     "metadata": {},
     "output_type": "execute_result"
    }
   ],
   "source": [
    "solution = sim.simulate(constraints=M9)\n",
    "\n",
    "print(solution)\n",
    "solution.find('EX')"
   ]
  },
  {
   "cell_type": "markdown",
   "id": "e57cd648",
   "metadata": {},
   "source": [
    "We can see that the model predicts a growth rate (total biomass per hour) similar to the wild-type, with an efficient consumption of glucose and ammonia that results in respiratory metabolism.\n",
    "\n",
    "But what is each organism doing, and are both organisms actually growing at the same rate?\n",
    "\n",
    "Let's print the biomass flux for each organism:"
   ]
  },
  {
   "cell_type": "code",
   "execution_count": 16,
   "id": "0b5d171f",
   "metadata": {},
   "outputs": [
    {
     "data": {
      "text/html": [
       "<div>\n",
       "<style scoped>\n",
       "    .dataframe tbody tr th:only-of-type {\n",
       "        vertical-align: middle;\n",
       "    }\n",
       "\n",
       "    .dataframe tbody tr th {\n",
       "        vertical-align: top;\n",
       "    }\n",
       "\n",
       "    .dataframe thead th {\n",
       "        text-align: right;\n",
       "    }\n",
       "</style>\n",
       "<table border=\"1\" class=\"dataframe\">\n",
       "  <thead>\n",
       "    <tr style=\"text-align: right;\">\n",
       "      <th></th>\n",
       "      <th>Flux rate</th>\n",
       "    </tr>\n",
       "    <tr>\n",
       "      <th>Reaction ID</th>\n",
       "      <th></th>\n",
       "    </tr>\n",
       "  </thead>\n",
       "  <tbody>\n",
       "    <tr>\n",
       "      <th>BIOMASS_Ecoli_core_w_GAM_glc_ko</th>\n",
       "      <td>0.000000</td>\n",
       "    </tr>\n",
       "    <tr>\n",
       "      <th>BIOMASS_Ecoli_core_w_GAM_nh4_ko</th>\n",
       "      <td>0.831196</td>\n",
       "    </tr>\n",
       "  </tbody>\n",
       "</table>\n",
       "</div>"
      ],
      "text/plain": [
       "                                 Flux rate\n",
       "Reaction ID                               \n",
       "BIOMASS_Ecoli_core_w_GAM_glc_ko   0.000000\n",
       "BIOMASS_Ecoli_core_w_GAM_nh4_ko   0.831196"
      ]
     },
     "execution_count": 16,
     "metadata": {},
     "output_type": "execute_result"
    }
   ],
   "source": [
    "solution.find('BIOMASS', sort=True,show_nulls=True)"
   ]
  },
  {
   "cell_type": "markdown",
   "id": "4414dd8b",
   "metadata": {},
   "source": [
    "and all non null fluxes by organism:"
   ]
  },
  {
   "cell_type": "code",
   "execution_count": 17,
   "id": "960e9b0b",
   "metadata": {},
   "outputs": [
    {
     "data": {
      "text/html": [
       "<div>\n",
       "<style scoped>\n",
       "    .dataframe tbody tr th:only-of-type {\n",
       "        vertical-align: middle;\n",
       "    }\n",
       "\n",
       "    .dataframe tbody tr th {\n",
       "        vertical-align: top;\n",
       "    }\n",
       "\n",
       "    .dataframe thead th {\n",
       "        text-align: right;\n",
       "    }\n",
       "</style>\n",
       "<table border=\"1\" class=\"dataframe\">\n",
       "  <thead>\n",
       "    <tr style=\"text-align: right;\">\n",
       "      <th></th>\n",
       "      <th>name</th>\n",
       "      <th>compartment</th>\n",
       "      <th>formula</th>\n",
       "    </tr>\n",
       "    <tr>\n",
       "      <th>id</th>\n",
       "      <th></th>\n",
       "      <th></th>\n",
       "      <th></th>\n",
       "    </tr>\n",
       "  </thead>\n",
       "  <tbody>\n",
       "    <tr>\n",
       "      <th>community_biomass</th>\n",
       "      <td>Total community biomass</td>\n",
       "      <td>e</td>\n",
       "      <td>None</td>\n",
       "    </tr>\n",
       "    <tr>\n",
       "      <th>glc__D_e</th>\n",
       "      <td>D-Glucose</td>\n",
       "      <td>e</td>\n",
       "      <td>C6H12O6</td>\n",
       "    </tr>\n",
       "    <tr>\n",
       "      <th>gln__L_c_glc_ko</th>\n",
       "      <td>L-Glutamine</td>\n",
       "      <td>c_glc_ko</td>\n",
       "      <td>C5H10N2O3</td>\n",
       "    </tr>\n",
       "    <tr>\n",
       "      <th>gln__L_e</th>\n",
       "      <td>L-Glutamine</td>\n",
       "      <td>e</td>\n",
       "      <td>C5H10N2O3</td>\n",
       "    </tr>\n",
       "    <tr>\n",
       "      <th>glu__L_c_glc_ko</th>\n",
       "      <td>L-Glutamate</td>\n",
       "      <td>c_glc_ko</td>\n",
       "      <td>C5H8NO4</td>\n",
       "    </tr>\n",
       "    <tr>\n",
       "      <th>...</th>\n",
       "      <td>...</td>\n",
       "      <td>...</td>\n",
       "      <td>...</td>\n",
       "    </tr>\n",
       "    <tr>\n",
       "      <th>fdp_c_nh4_ko</th>\n",
       "      <td>D-Fructose 1,6-bisphosphate</td>\n",
       "      <td>c_nh4_ko</td>\n",
       "      <td>C6H10O12P2</td>\n",
       "    </tr>\n",
       "    <tr>\n",
       "      <th>for_c_nh4_ko</th>\n",
       "      <td>Formate</td>\n",
       "      <td>c_nh4_ko</td>\n",
       "      <td>CH1O2</td>\n",
       "    </tr>\n",
       "    <tr>\n",
       "      <th>fum_c_nh4_ko</th>\n",
       "      <td>Fumarate</td>\n",
       "      <td>c_nh4_ko</td>\n",
       "      <td>C4H2O4</td>\n",
       "    </tr>\n",
       "    <tr>\n",
       "      <th>g3p_c_nh4_ko</th>\n",
       "      <td>Glyceraldehyde 3-phosphate</td>\n",
       "      <td>c_nh4_ko</td>\n",
       "      <td>C3H5O6P</td>\n",
       "    </tr>\n",
       "    <tr>\n",
       "      <th>g6p_c_nh4_ko</th>\n",
       "      <td>D-Glucose 6-phosphate</td>\n",
       "      <td>c_nh4_ko</td>\n",
       "      <td>C6H11O9P</td>\n",
       "    </tr>\n",
       "  </tbody>\n",
       "</table>\n",
       "<p>125 rows × 3 columns</p>\n",
       "</div>"
      ],
      "text/plain": [
       "                                          name compartment     formula\n",
       "id                                                                    \n",
       "community_biomass      Total community biomass           e        None\n",
       "glc__D_e                             D-Glucose           e     C6H12O6\n",
       "gln__L_c_glc_ko                    L-Glutamine    c_glc_ko   C5H10N2O3\n",
       "gln__L_e                           L-Glutamine           e   C5H10N2O3\n",
       "glu__L_c_glc_ko                    L-Glutamate    c_glc_ko     C5H8NO4\n",
       "...                                        ...         ...         ...\n",
       "fdp_c_nh4_ko       D-Fructose 1,6-bisphosphate    c_nh4_ko  C6H10O12P2\n",
       "for_c_nh4_ko                           Formate    c_nh4_ko       CH1O2\n",
       "fum_c_nh4_ko                          Fumarate    c_nh4_ko      C4H2O4\n",
       "g3p_c_nh4_ko        Glyceraldehyde 3-phosphate    c_nh4_ko     C3H5O6P\n",
       "g6p_c_nh4_ko             D-Glucose 6-phosphate    c_nh4_ko    C6H11O9P\n",
       "\n",
       "[125 rows x 3 columns]"
      ]
     },
     "execution_count": 17,
     "metadata": {},
     "output_type": "execute_result"
    }
   ],
   "source": [
    "sim.find_metabolites()"
   ]
  },
  {
   "cell_type": "code",
   "execution_count": 19,
   "id": "a69cf655",
   "metadata": {},
   "outputs": [
    {
     "data": {
      "text/html": [
       "<div>\n",
       "<style scoped>\n",
       "    .dataframe tbody tr th:only-of-type {\n",
       "        vertical-align: middle;\n",
       "    }\n",
       "\n",
       "    .dataframe tbody tr th {\n",
       "        vertical-align: top;\n",
       "    }\n",
       "\n",
       "    .dataframe thead th {\n",
       "        text-align: right;\n",
       "    }\n",
       "</style>\n",
       "<table border=\"1\" class=\"dataframe\">\n",
       "  <thead>\n",
       "    <tr style=\"text-align: right;\">\n",
       "      <th></th>\n",
       "      <th>Flux rate</th>\n",
       "    </tr>\n",
       "    <tr>\n",
       "      <th>Reaction ID</th>\n",
       "      <th></th>\n",
       "    </tr>\n",
       "  </thead>\n",
       "  <tbody>\n",
       "    <tr>\n",
       "      <th>ACKr_nh4_ko</th>\n",
       "      <td>-1.810642</td>\n",
       "    </tr>\n",
       "    <tr>\n",
       "      <th>ACONTa_nh4_ko</th>\n",
       "      <td>2.354571</td>\n",
       "    </tr>\n",
       "    <tr>\n",
       "      <th>ACONTb_nh4_ko</th>\n",
       "      <td>2.354571</td>\n",
       "    </tr>\n",
       "    <tr>\n",
       "      <th>ACt2r_nh4_ko</th>\n",
       "      <td>-1.810642</td>\n",
       "    </tr>\n",
       "    <tr>\n",
       "      <th>AKGDH_nh4_ko</th>\n",
       "      <td>1.457794</td>\n",
       "    </tr>\n",
       "    <tr>\n",
       "      <th>AKGt2r_nh4_ko</th>\n",
       "      <td>-4.532343</td>\n",
       "    </tr>\n",
       "    <tr>\n",
       "      <th>ATPM_nh4_ko</th>\n",
       "      <td>8.390000</td>\n",
       "    </tr>\n",
       "    <tr>\n",
       "      <th>ATPS4r_nh4_ko</th>\n",
       "      <td>44.074005</td>\n",
       "    </tr>\n",
       "    <tr>\n",
       "      <th>BIOMASS_Ecoli_core_w_GAM_nh4_ko</th>\n",
       "      <td>0.831196</td>\n",
       "    </tr>\n",
       "    <tr>\n",
       "      <th>CO2t_nh4_ko</th>\n",
       "      <td>-12.841670</td>\n",
       "    </tr>\n",
       "    <tr>\n",
       "      <th>CS_nh4_ko</th>\n",
       "      <td>2.354571</td>\n",
       "    </tr>\n",
       "    <tr>\n",
       "      <th>CYTBD_nh4_ko</th>\n",
       "      <td>40.080181</td>\n",
       "    </tr>\n",
       "    <tr>\n",
       "      <th>D_LACt2_nh4_ko</th>\n",
       "      <td>9.064686</td>\n",
       "    </tr>\n",
       "    <tr>\n",
       "      <th>ENO_nh4_ko</th>\n",
       "      <td>15.170027</td>\n",
       "    </tr>\n",
       "    <tr>\n",
       "      <th>FBA_nh4_ko</th>\n",
       "      <td>7.796272</td>\n",
       "    </tr>\n",
       "    <tr>\n",
       "      <th>FUM_nh4_ko</th>\n",
       "      <td>1.457794</td>\n",
       "    </tr>\n",
       "    <tr>\n",
       "      <th>G6PDH2r_nh4_ko</th>\n",
       "      <td>4.130813</td>\n",
       "    </tr>\n",
       "    <tr>\n",
       "      <th>GAPD_nh4_ko</th>\n",
       "      <td>16.413495</td>\n",
       "    </tr>\n",
       "    <tr>\n",
       "      <th>GLCpts_nh4_ko</th>\n",
       "      <td>10.000000</td>\n",
       "    </tr>\n",
       "    <tr>\n",
       "      <th>GLNS_nh4_ko</th>\n",
       "      <td>0.212537</td>\n",
       "    </tr>\n",
       "    <tr>\n",
       "      <th>GLUDy_nh4_ko</th>\n",
       "      <td>0.212537</td>\n",
       "    </tr>\n",
       "    <tr>\n",
       "      <th>GLUt2r_nh4_ko</th>\n",
       "      <td>4.532343</td>\n",
       "    </tr>\n",
       "    <tr>\n",
       "      <th>GND_nh4_ko</th>\n",
       "      <td>4.130813</td>\n",
       "    </tr>\n",
       "    <tr>\n",
       "      <th>H2Ot_nh4_ko</th>\n",
       "      <td>-30.682819</td>\n",
       "    </tr>\n",
       "    <tr>\n",
       "      <th>ICDHyr_nh4_ko</th>\n",
       "      <td>2.354571</td>\n",
       "    </tr>\n",
       "    <tr>\n",
       "      <th>LDH_D_nh4_ko</th>\n",
       "      <td>9.064686</td>\n",
       "    </tr>\n",
       "    <tr>\n",
       "      <th>MDH_nh4_ko</th>\n",
       "      <td>1.457794</td>\n",
       "    </tr>\n",
       "    <tr>\n",
       "      <th>NADH16_nh4_ko</th>\n",
       "      <td>38.622387</td>\n",
       "    </tr>\n",
       "    <tr>\n",
       "      <th>O2t_nh4_ko</th>\n",
       "      <td>20.040090</td>\n",
       "    </tr>\n",
       "    <tr>\n",
       "      <th>PDH_nh4_ko</th>\n",
       "      <td>7.280367</td>\n",
       "    </tr>\n",
       "    <tr>\n",
       "      <th>PFK_nh4_ko</th>\n",
       "      <td>7.796272</td>\n",
       "    </tr>\n",
       "    <tr>\n",
       "      <th>PGI_nh4_ko</th>\n",
       "      <td>5.698792</td>\n",
       "    </tr>\n",
       "    <tr>\n",
       "      <th>PGK_nh4_ko</th>\n",
       "      <td>-16.413495</td>\n",
       "    </tr>\n",
       "    <tr>\n",
       "      <th>PGL_nh4_ko</th>\n",
       "      <td>4.130813</td>\n",
       "    </tr>\n",
       "    <tr>\n",
       "      <th>PGM_nh4_ko</th>\n",
       "      <td>-15.170027</td>\n",
       "    </tr>\n",
       "    <tr>\n",
       "      <th>PIt2r_nh4_ko</th>\n",
       "      <td>3.057719</td>\n",
       "    </tr>\n",
       "    <tr>\n",
       "      <th>PPC_nh4_ko</th>\n",
       "      <td>2.381874</td>\n",
       "    </tr>\n",
       "    <tr>\n",
       "      <th>PTAr_nh4_ko</th>\n",
       "      <td>1.810642</td>\n",
       "    </tr>\n",
       "    <tr>\n",
       "      <th>PYK_nh4_ko</th>\n",
       "      <td>2.356679</td>\n",
       "    </tr>\n",
       "    <tr>\n",
       "      <th>PYRt2_nh4_ko</th>\n",
       "      <td>-11.786388</td>\n",
       "    </tr>\n",
       "    <tr>\n",
       "      <th>RPE_nh4_ko</th>\n",
       "      <td>2.156412</td>\n",
       "    </tr>\n",
       "    <tr>\n",
       "      <th>RPI_nh4_ko</th>\n",
       "      <td>-1.974401</td>\n",
       "    </tr>\n",
       "    <tr>\n",
       "      <th>SUCDi_nh4_ko</th>\n",
       "      <td>1.457794</td>\n",
       "    </tr>\n",
       "    <tr>\n",
       "      <th>SUCOAS_nh4_ko</th>\n",
       "      <td>-1.457794</td>\n",
       "    </tr>\n",
       "    <tr>\n",
       "      <th>TALA_nh4_ko</th>\n",
       "      <td>1.228237</td>\n",
       "    </tr>\n",
       "    <tr>\n",
       "      <th>TKT1_nh4_ko</th>\n",
       "      <td>1.228237</td>\n",
       "    </tr>\n",
       "    <tr>\n",
       "      <th>TKT2_nh4_ko</th>\n",
       "      <td>0.928175</td>\n",
       "    </tr>\n",
       "    <tr>\n",
       "      <th>TPI_nh4_ko</th>\n",
       "      <td>7.796272</td>\n",
       "    </tr>\n",
       "  </tbody>\n",
       "</table>\n",
       "</div>"
      ],
      "text/plain": [
       "                                 Flux rate\n",
       "Reaction ID                               \n",
       "ACKr_nh4_ko                      -1.810642\n",
       "ACONTa_nh4_ko                     2.354571\n",
       "ACONTb_nh4_ko                     2.354571\n",
       "ACt2r_nh4_ko                     -1.810642\n",
       "AKGDH_nh4_ko                      1.457794\n",
       "AKGt2r_nh4_ko                    -4.532343\n",
       "ATPM_nh4_ko                       8.390000\n",
       "ATPS4r_nh4_ko                    44.074005\n",
       "BIOMASS_Ecoli_core_w_GAM_nh4_ko   0.831196\n",
       "CO2t_nh4_ko                     -12.841670\n",
       "CS_nh4_ko                         2.354571\n",
       "CYTBD_nh4_ko                     40.080181\n",
       "D_LACt2_nh4_ko                    9.064686\n",
       "ENO_nh4_ko                       15.170027\n",
       "FBA_nh4_ko                        7.796272\n",
       "FUM_nh4_ko                        1.457794\n",
       "G6PDH2r_nh4_ko                    4.130813\n",
       "GAPD_nh4_ko                      16.413495\n",
       "GLCpts_nh4_ko                    10.000000\n",
       "GLNS_nh4_ko                       0.212537\n",
       "GLUDy_nh4_ko                      0.212537\n",
       "GLUt2r_nh4_ko                     4.532343\n",
       "GND_nh4_ko                        4.130813\n",
       "H2Ot_nh4_ko                     -30.682819\n",
       "ICDHyr_nh4_ko                     2.354571\n",
       "LDH_D_nh4_ko                      9.064686\n",
       "MDH_nh4_ko                        1.457794\n",
       "NADH16_nh4_ko                    38.622387\n",
       "O2t_nh4_ko                       20.040090\n",
       "PDH_nh4_ko                        7.280367\n",
       "PFK_nh4_ko                        7.796272\n",
       "PGI_nh4_ko                        5.698792\n",
       "PGK_nh4_ko                      -16.413495\n",
       "PGL_nh4_ko                        4.130813\n",
       "PGM_nh4_ko                      -15.170027\n",
       "PIt2r_nh4_ko                      3.057719\n",
       "PPC_nh4_ko                        2.381874\n",
       "PTAr_nh4_ko                       1.810642\n",
       "PYK_nh4_ko                        2.356679\n",
       "PYRt2_nh4_ko                    -11.786388\n",
       "RPE_nh4_ko                        2.156412\n",
       "RPI_nh4_ko                       -1.974401\n",
       "SUCDi_nh4_ko                      1.457794\n",
       "SUCOAS_nh4_ko                    -1.457794\n",
       "TALA_nh4_ko                       1.228237\n",
       "TKT1_nh4_ko                       1.228237\n",
       "TKT2_nh4_ko                       0.928175\n",
       "TPI_nh4_ko                        7.796272"
      ]
     },
     "execution_count": 19,
     "metadata": {},
     "output_type": "execute_result"
    }
   ],
   "source": [
    "solution.find('nh4_ko')"
   ]
  },
  {
   "cell_type": "markdown",
   "id": "3110d63f",
   "metadata": {},
   "source": [
    "Actually it seems that only one of the organisms is growing while the other has an active metabolism (it exchanges metabolites with the environment and with the other organism) performing the role of a bioconverter, but none of the flux is used for growth. \n",
    "\n",
    "> Do you think this would be a stable consortium ?"
   ]
  },
  {
   "cell_type": "markdown",
   "id": "f6aebbfb",
   "metadata": {},
   "source": [
    "## Community Simulation with SteadyCom"
   ]
  },
  {
   "cell_type": "markdown",
   "id": "7b47083e",
   "metadata": {},
   "source": [
    "**SteadyCom** by [Chan, et al (2017)](https://journals.plos.org/ploscompbiol/article?id=10.1371/journal.pcbi.1005539) is a recent community simulation method that takes into account the fact that to reach a stable composition the organisms need to grow at the same *specific growth rate* (1/h), which means that the *absolute growth rate* (gDW/h) of each organism is proportional to its *abundance* at steady-state (gDW).\n",
    "\n",
    "Let's simulate the same community using SteadyCom:"
   ]
  },
  {
   "cell_type": "code",
   "execution_count": 20,
   "id": "2214667c",
   "metadata": {},
   "outputs": [
    {
     "name": "stdout",
     "output_type": "stream",
     "text": [
      "Set parameter FeasibilityTol to value 1e-09\n",
      "Set parameter OptimalityTol to value 1e-09\n"
     ]
    }
   ],
   "source": [
    "solution = SteadyCom(community, constraints=M9)"
   ]
  },
  {
   "cell_type": "markdown",
   "id": "6e02ca07",
   "metadata": {},
   "source": [
    "In this case the solution object shows the overall community growth rate and the relative abundance of each species:"
   ]
  },
  {
   "cell_type": "code",
   "execution_count": 21,
   "id": "50794ba1",
   "metadata": {},
   "outputs": [
    {
     "data": {
      "text/plain": [
       "Community growth: 0.873046875\n",
       "glc_ko\t0.019267933674315795\n",
       "nh4_ko\t0.9807320663256842"
      ]
     },
     "execution_count": 21,
     "metadata": {},
     "output_type": "execute_result"
    }
   ],
   "source": [
    "solution"
   ]
  },
  {
   "cell_type": "markdown",
   "id": "86f91b4a",
   "metadata": {},
   "source": [
    "The `solution` object for community simulations implements a few additional features, such as enumerating all the cross-feeding interactions:"
   ]
  },
  {
   "cell_type": "code",
   "execution_count": 22,
   "id": "e5b8887e",
   "metadata": {},
   "outputs": [
    {
     "data": {
      "text/html": [
       "<div>\n",
       "<style scoped>\n",
       "    .dataframe tbody tr th:only-of-type {\n",
       "        vertical-align: middle;\n",
       "    }\n",
       "\n",
       "    .dataframe tbody tr th {\n",
       "        vertical-align: top;\n",
       "    }\n",
       "\n",
       "    .dataframe thead th {\n",
       "        text-align: right;\n",
       "    }\n",
       "</style>\n",
       "<table border=\"1\" class=\"dataframe\">\n",
       "  <thead>\n",
       "    <tr style=\"text-align: right;\">\n",
       "      <th></th>\n",
       "      <th>donor</th>\n",
       "      <th>receiver</th>\n",
       "      <th>compound</th>\n",
       "      <th>rate</th>\n",
       "    </tr>\n",
       "  </thead>\n",
       "  <tbody>\n",
       "    <tr>\n",
       "      <th>4</th>\n",
       "      <td>nh4_ko</td>\n",
       "      <td>glc_ko</td>\n",
       "      <td>h_e</td>\n",
       "      <td>24.191611</td>\n",
       "    </tr>\n",
       "    <tr>\n",
       "      <th>14</th>\n",
       "      <td>glc_ko</td>\n",
       "      <td>nh4_ko</td>\n",
       "      <td>acald_e</td>\n",
       "      <td>19.267934</td>\n",
       "    </tr>\n",
       "    <tr>\n",
       "      <th>13</th>\n",
       "      <td>nh4_ko</td>\n",
       "      <td>glc_ko</td>\n",
       "      <td>ac_e</td>\n",
       "      <td>15.019305</td>\n",
       "    </tr>\n",
       "    <tr>\n",
       "      <th>6</th>\n",
       "      <td>nh4_ko</td>\n",
       "      <td>glc_ko</td>\n",
       "      <td>lac__D_e</td>\n",
       "      <td>7.133330</td>\n",
       "    </tr>\n",
       "    <tr>\n",
       "      <th>15</th>\n",
       "      <td>nh4_ko</td>\n",
       "      <td>glc_ko</td>\n",
       "      <td>akg_e</td>\n",
       "      <td>4.717029</td>\n",
       "    </tr>\n",
       "    <tr>\n",
       "      <th>1</th>\n",
       "      <td>glc_ko</td>\n",
       "      <td>nh4_ko</td>\n",
       "      <td>glu__L_e</td>\n",
       "      <td>4.668824</td>\n",
       "    </tr>\n",
       "    <tr>\n",
       "      <th>12</th>\n",
       "      <td>nh4_ko</td>\n",
       "      <td>glc_ko</td>\n",
       "      <td>pyr_e</td>\n",
       "      <td>2.280013</td>\n",
       "    </tr>\n",
       "  </tbody>\n",
       "</table>\n",
       "</div>"
      ],
      "text/plain": [
       "     donor receiver  compound       rate\n",
       "4   nh4_ko   glc_ko       h_e  24.191611\n",
       "14  glc_ko   nh4_ko   acald_e  19.267934\n",
       "13  nh4_ko   glc_ko      ac_e  15.019305\n",
       "6   nh4_ko   glc_ko  lac__D_e   7.133330\n",
       "15  nh4_ko   glc_ko     akg_e   4.717029\n",
       "1   glc_ko   nh4_ko  glu__L_e   4.668824\n",
       "12  nh4_ko   glc_ko     pyr_e   2.280013"
      ]
     },
     "execution_count": 22,
     "metadata": {},
     "output_type": "execute_result"
    }
   ],
   "source": [
    "solution.cross_feeding(as_df=True).dropna().sort_values('rate', ascending=False)"
   ]
  },
  {
   "cell_type": "markdown",
   "id": "c61d9f30",
   "metadata": {},
   "source": [
    "We can plot the fluxes of each mutant in a map to help with interpretation of the results:"
   ]
  },
  {
   "cell_type": "code",
   "execution_count": 23,
   "id": "26e96715",
   "metadata": {
    "scrolled": true
   },
   "outputs": [
    {
     "name": "stdout",
     "output_type": "stream",
     "text": [
      "Downloading Map from https://escher.github.io/1-0-0/6/maps/Escherichia%20coli/e_coli_core.Core%20metabolism.json\n"
     ]
    },
    {
     "data": {
      "application/vnd.jupyter.widget-view+json": {
       "model_id": "8ec819c6052e4e6daeeb527c20c77a13",
       "version_major": 2,
       "version_minor": 0
      },
      "text/plain": [
       "Builder(reaction_data={'ACALD': -19.267933674315827, 'ACALDt': -19.267933674315827, 'ACKr': 15.019304841008928…"
      ]
     },
     "metadata": {},
     "output_type": "display_data"
    }
   ],
   "source": [
    "from mewpy.visualization.escher import build_escher\n",
    "if 'google.colab' in str(get_ipython()):\n",
    "    from google.colab import output\n",
    "    output.enable_custom_widget_manager()\n",
    "\n",
    "build_escher(fluxes=solution.internal['glc_ko'])"
   ]
  },
  {
   "cell_type": "code",
   "execution_count": 24,
   "id": "3fe40d10",
   "metadata": {},
   "outputs": [
    {
     "name": "stdout",
     "output_type": "stream",
     "text": [
      "Downloading Map from https://escher.github.io/1-0-0/6/maps/Escherichia%20coli/e_coli_core.Core%20metabolism.json\n"
     ]
    },
    {
     "data": {
      "application/vnd.jupyter.widget-view+json": {
       "model_id": "9fcdaa033aca4ef28ca13627fafddc93",
       "version_major": 2,
       "version_minor": 0
      },
      "text/plain": [
       "Builder(reaction_data={'ACALD': 19.267933674315827, 'ACALDt': 19.267933674315827, 'ACKr': -15.019304841008928,…"
      ]
     },
     "metadata": {},
     "output_type": "display_data"
    }
   ],
   "source": [
    "build_escher(fluxes=solution.internal['nh4_ko'])"
   ]
  },
  {
   "cell_type": "markdown",
   "id": "9de7dc40",
   "metadata": {},
   "source": [
    "## Explore alternative solutions\n",
    "\n",
    "Unfortunately, one limitation of **SteadyCom**, which is exemplified by [Chan, et al (2017)](https://journals.plos.org/ploscompbiol/article?id=10.1371/journal.pcbi.1005539) in Figure 3 (reproduced below), is the variability in the solution space when the community is not growing at the maximum (theoretical) growth rate.\n",
    "\n",
    "> Would you expect a synthetic community to grow at its maximum growth rate?\n",
    "\n",
    "**MEWpy** implements a variability analysis function for the SteadyCom solution space, let's see what happens if the community is growing at 90% of the theoretical maximum:"
   ]
  },
  {
   "cell_type": "code",
   "execution_count": 25,
   "id": "71695f63",
   "metadata": {},
   "outputs": [
    {
     "name": "stdout",
     "output_type": "stream",
     "text": [
      "Set parameter FeasibilityTol to value 1e-09\n",
      "Set parameter OptimalityTol to value 1e-09\n",
      "Strain\tMin\tMax\n",
      "glc_ko\t0.4%\t98.3%\n",
      "nh4_ko\t1.7%\t99.6%\n"
     ]
    }
   ],
   "source": [
    "from mewpy.cobra.com import SteadyComVA\n",
    "variability = SteadyComVA(community, obj_frac=0.9, constraints=M9)\n",
    "\n",
    "print('Strain\\tMin\\tMax')\n",
    "for strain, (lower, upper) in variability.items():\n",
    "    print(f'{strain}\\t{lower:.1%}\\t{upper:.1%}')"
   ]
  },
  {
   "cell_type": "markdown",
   "id": "e2c8b384",
   "metadata": {},
   "source": [
    "As you can see, there is a really large variability in this solution space. This means that we know in theory the two mutants **can** cooperate and survive in minimal media, but there is still a lot of uncertainty with regard to **how** they will achieve a stable consortium.\n",
    "\n",
    "> How do you think we can reduce this uncertainty?"
   ]
  },
  {
   "cell_type": "markdown",
   "id": "5497e337",
   "metadata": {},
   "source": [
    "Firstly, lets set the environment conditions:"
   ]
  },
  {
   "cell_type": "code",
   "execution_count": 26,
   "id": "34220805",
   "metadata": {},
   "outputs": [],
   "source": [
    "sim.set_environmental_conditions(M9)"
   ]
  },
  {
   "cell_type": "markdown",
   "id": "3639ffde",
   "metadata": {},
   "source": [
    "We may now impose constraints on each organism growth, such as stating that each organism need to grow at least 0.1/h"
   ]
  },
  {
   "cell_type": "code",
   "execution_count": 27,
   "id": "1c660055",
   "metadata": {},
   "outputs": [
    {
     "data": {
      "text/plain": [
       "objective: 0.828309078247319\n",
       "Status: OPTIMAL\n",
       "Method:SimulationMethod.FBA"
      ]
     },
     "execution_count": 27,
     "metadata": {},
     "output_type": "execute_result"
    }
   ],
   "source": [
    "constraints={community.organisms_biomass['nh4_ko']:(0.1,1000), \n",
    "             community.organisms_biomass['glc_ko']:(0.1,1000)}\n",
    "solution = sim.simulate(constraints=constraints)\n",
    "solution"
   ]
  },
  {
   "cell_type": "code",
   "execution_count": 28,
   "id": "ecb0bce0",
   "metadata": {},
   "outputs": [
    {
     "data": {
      "text/html": [
       "<div>\n",
       "<style scoped>\n",
       "    .dataframe tbody tr th:only-of-type {\n",
       "        vertical-align: middle;\n",
       "    }\n",
       "\n",
       "    .dataframe tbody tr th {\n",
       "        vertical-align: top;\n",
       "    }\n",
       "\n",
       "    .dataframe thead th {\n",
       "        text-align: right;\n",
       "    }\n",
       "</style>\n",
       "<table border=\"1\" class=\"dataframe\">\n",
       "  <thead>\n",
       "    <tr style=\"text-align: right;\">\n",
       "      <th></th>\n",
       "      <th>Flux rate</th>\n",
       "    </tr>\n",
       "    <tr>\n",
       "      <th>Reaction ID</th>\n",
       "      <th></th>\n",
       "    </tr>\n",
       "  </thead>\n",
       "  <tbody>\n",
       "    <tr>\n",
       "      <th>BIOMASS_Ecoli_core_w_GAM_glc_ko</th>\n",
       "      <td>0.100000</td>\n",
       "    </tr>\n",
       "    <tr>\n",
       "      <th>BIOMASS_Ecoli_core_w_GAM_nh4_ko</th>\n",
       "      <td>0.728309</td>\n",
       "    </tr>\n",
       "  </tbody>\n",
       "</table>\n",
       "</div>"
      ],
      "text/plain": [
       "                                 Flux rate\n",
       "Reaction ID                               \n",
       "BIOMASS_Ecoli_core_w_GAM_glc_ko   0.100000\n",
       "BIOMASS_Ecoli_core_w_GAM_nh4_ko   0.728309"
      ]
     },
     "execution_count": 28,
     "metadata": {},
     "output_type": "execute_result"
    }
   ],
   "source": [
    "solution.find('BIOMASS')"
   ]
  },
  {
   "cell_type": "markdown",
   "id": "5ad3197e",
   "metadata": {},
   "source": [
    "Alternatively, we might choose to impose relative growth rates for each of the organisms:"
   ]
  },
  {
   "cell_type": "code",
   "execution_count": 29,
   "id": "7ecc37ca",
   "metadata": {},
   "outputs": [],
   "source": [
    "community = CommunityModel([glc_ko, nh4_ko],\n",
    "                           add_compartments=True,\n",
    "                           merge_biomasses=True,\n",
    "                           flavor='cobra')"
   ]
  },
  {
   "cell_type": "code",
   "execution_count": 30,
   "id": "77f8eed9",
   "metadata": {},
   "outputs": [],
   "source": [
    "sim = community.get_community_model()\n",
    "sim.set_environmental_conditions(M9)"
   ]
  },
  {
   "cell_type": "code",
   "execution_count": 31,
   "id": "7d604601",
   "metadata": {},
   "outputs": [
    {
     "name": "stdout",
     "output_type": "stream",
     "text": [
      "objective: 0.40757209363986213\n",
      "Status: OPTIMAL\n",
      "Method:SimulationMethod.FBA\n"
     ]
    },
    {
     "data": {
      "text/html": [
       "<div>\n",
       "<style scoped>\n",
       "    .dataframe tbody tr th:only-of-type {\n",
       "        vertical-align: middle;\n",
       "    }\n",
       "\n",
       "    .dataframe tbody tr th {\n",
       "        vertical-align: top;\n",
       "    }\n",
       "\n",
       "    .dataframe thead th {\n",
       "        text-align: right;\n",
       "    }\n",
       "</style>\n",
       "<table border=\"1\" class=\"dataframe\">\n",
       "  <thead>\n",
       "    <tr style=\"text-align: right;\">\n",
       "      <th></th>\n",
       "      <th>Flux rate</th>\n",
       "    </tr>\n",
       "    <tr>\n",
       "      <th>Reaction ID</th>\n",
       "      <th></th>\n",
       "    </tr>\n",
       "  </thead>\n",
       "  <tbody>\n",
       "    <tr>\n",
       "      <th>BIOMASS_Ecoli_core_w_GAM_glc_ko</th>\n",
       "      <td>0.407572</td>\n",
       "    </tr>\n",
       "    <tr>\n",
       "      <th>BIOMASS_Ecoli_core_w_GAM_nh4_ko</th>\n",
       "      <td>0.407572</td>\n",
       "    </tr>\n",
       "  </tbody>\n",
       "</table>\n",
       "</div>"
      ],
      "text/plain": [
       "                                 Flux rate\n",
       "Reaction ID                               \n",
       "BIOMASS_Ecoli_core_w_GAM_glc_ko   0.407572\n",
       "BIOMASS_Ecoli_core_w_GAM_nh4_ko   0.407572"
      ]
     },
     "execution_count": 31,
     "metadata": {},
     "output_type": "execute_result"
    }
   ],
   "source": [
    "solution = sim.simulate()\n",
    "print(solution)\n",
    "solution.find('BIOMASS')"
   ]
  },
  {
   "cell_type": "code",
   "execution_count": 32,
   "id": "6402d86c",
   "metadata": {},
   "outputs": [
    {
     "data": {
      "text/html": [
       "<div>\n",
       "<style scoped>\n",
       "    .dataframe tbody tr th:only-of-type {\n",
       "        vertical-align: middle;\n",
       "    }\n",
       "\n",
       "    .dataframe tbody tr th {\n",
       "        vertical-align: top;\n",
       "    }\n",
       "\n",
       "    .dataframe thead th {\n",
       "        text-align: right;\n",
       "    }\n",
       "</style>\n",
       "<table border=\"1\" class=\"dataframe\">\n",
       "  <thead>\n",
       "    <tr style=\"text-align: right;\">\n",
       "      <th></th>\n",
       "      <th>name</th>\n",
       "      <th>lb</th>\n",
       "      <th>ub</th>\n",
       "      <th>stoichiometry</th>\n",
       "      <th>gpr</th>\n",
       "      <th>annotations</th>\n",
       "    </tr>\n",
       "    <tr>\n",
       "      <th>id</th>\n",
       "      <th></th>\n",
       "      <th></th>\n",
       "      <th></th>\n",
       "      <th></th>\n",
       "      <th></th>\n",
       "      <th></th>\n",
       "    </tr>\n",
       "  </thead>\n",
       "  <tbody>\n",
       "    <tr>\n",
       "      <th>community_growth</th>\n",
       "      <td>Community growth rate</td>\n",
       "      <td>0</td>\n",
       "      <td>inf</td>\n",
       "      <td>{'Biomass_glc_ko': -1, 'Biomass_nh4_ko': -1}</td>\n",
       "      <td></td>\n",
       "      <td>{}</td>\n",
       "    </tr>\n",
       "  </tbody>\n",
       "</table>\n",
       "</div>"
      ],
      "text/plain": [
       "                                   name  lb   ub  \\\n",
       "id                                                 \n",
       "community_growth  Community growth rate   0  inf   \n",
       "\n",
       "                                                 stoichiometry gpr annotations  \n",
       "id                                                                              \n",
       "community_growth  {'Biomass_glc_ko': -1, 'Biomass_nh4_ko': -1}              {}  "
      ]
     },
     "execution_count": 32,
     "metadata": {},
     "output_type": "execute_result"
    }
   ],
   "source": [
    "sim.find(community.biomass)"
   ]
  },
  {
   "cell_type": "markdown",
   "id": "d6dcc5da",
   "metadata": {},
   "source": [
    "The relative abundance (relative growth rates) are by default equal. We may though change these ratios:  "
   ]
  },
  {
   "cell_type": "code",
   "execution_count": 33,
   "id": "575721c6",
   "metadata": {},
   "outputs": [
    {
     "data": {
      "text/html": [
       "<div>\n",
       "<style scoped>\n",
       "    .dataframe tbody tr th:only-of-type {\n",
       "        vertical-align: middle;\n",
       "    }\n",
       "\n",
       "    .dataframe tbody tr th {\n",
       "        vertical-align: top;\n",
       "    }\n",
       "\n",
       "    .dataframe thead th {\n",
       "        text-align: right;\n",
       "    }\n",
       "</style>\n",
       "<table border=\"1\" class=\"dataframe\">\n",
       "  <thead>\n",
       "    <tr style=\"text-align: right;\">\n",
       "      <th></th>\n",
       "      <th>Flux rate</th>\n",
       "    </tr>\n",
       "    <tr>\n",
       "      <th>Reaction ID</th>\n",
       "      <th></th>\n",
       "    </tr>\n",
       "  </thead>\n",
       "  <tbody>\n",
       "    <tr>\n",
       "      <th>BIOMASS_Ecoli_core_w_GAM_glc_ko</th>\n",
       "      <td>0.235022</td>\n",
       "    </tr>\n",
       "    <tr>\n",
       "      <th>BIOMASS_Ecoli_core_w_GAM_nh4_ko</th>\n",
       "      <td>0.587554</td>\n",
       "    </tr>\n",
       "  </tbody>\n",
       "</table>\n",
       "</div>"
      ],
      "text/plain": [
       "                                 Flux rate\n",
       "Reaction ID                               \n",
       "BIOMASS_Ecoli_core_w_GAM_glc_ko   0.235022\n",
       "BIOMASS_Ecoli_core_w_GAM_nh4_ko   0.587554"
      ]
     },
     "execution_count": 33,
     "metadata": {},
     "output_type": "execute_result"
    }
   ],
   "source": [
    "community.set_abundance({'glc_ko':1,'nh4_ko':2.5})\n",
    "sim.simulate().find('BIOMASS')"
   ]
  },
  {
   "cell_type": "markdown",
   "id": "442759f3",
   "metadata": {},
   "source": [
    "## SMETANA\n",
    "\n",
    "**SMETANA** implements several algorithms to analyse cross-feeding interactions in microbial communities. These have been describe in [Zelezniak et al, PNAS (2015)](https://www.pnas.org/doi/abs/10.1073/pnas.1421834112). Please read the paper for a more detailed explanation."
   ]
  },
  {
   "cell_type": "markdown",
   "id": "3f23584e",
   "metadata": {},
   "source": [
    "SCS (species coupling score): measures the dependency of one species in the presence of the others to survive"
   ]
  },
  {
   "cell_type": "code",
   "execution_count": 34,
   "id": "45d28b6e",
   "metadata": {},
   "outputs": [
    {
     "name": "stdout",
     "output_type": "stream",
     "text": [
      "Set parameter FeasibilityTol to value 1e-09\n",
      "Set parameter OptimalityTol to value 1e-09\n"
     ]
    },
    {
     "data": {
      "text/plain": [
       "                     value\n",
       "attribute                 \n",
       "glc_ko     {'nh4_ko': 1.0}\n",
       "nh4_ko     {'glc_ko': 1.0}"
      ]
     },
     "execution_count": 34,
     "metadata": {},
     "output_type": "execute_result"
    }
   ],
   "source": [
    "sc_score(community)"
   ]
  },
  {
   "cell_type": "markdown",
   "id": "2a521e6e",
   "metadata": {},
   "source": [
    "MUS (metabolite uptake score): measures how frequently a species needs to uptake a metabolite to survive"
   ]
  },
  {
   "cell_type": "code",
   "execution_count": 35,
   "id": "f779b482",
   "metadata": {},
   "outputs": [
    {
     "name": "stdout",
     "output_type": "stream",
     "text": [
      "Set parameter FeasibilityTol to value 1e-09\n",
      "Set parameter OptimalityTol to value 1e-09\n"
     ]
    },
    {
     "data": {
      "text/plain": [
       "                                                       value\n",
       "attribute                                                   \n",
       "glc_ko     {'ac_e': 0.02, 'acald_e': 0.35, 'akg_e': 0.23,...\n",
       "nh4_ko     {'ac_e': 0.0, 'acald_e': 0.0, 'akg_e': 0.0, 'c..."
      ]
     },
     "execution_count": 35,
     "metadata": {},
     "output_type": "execute_result"
    }
   ],
   "source": [
    "MUS = mu_score(community)\n",
    "MUS"
   ]
  },
  {
   "cell_type": "code",
   "execution_count": 36,
   "id": "d6175f02",
   "metadata": {},
   "outputs": [
    {
     "data": {
      "text/plain": [
       "{'ac_e': 0.02,\n",
       " 'acald_e': 0.35,\n",
       " 'akg_e': 0.23,\n",
       " 'co2_e': 0.0,\n",
       " 'etoh_e': 0.17,\n",
       " 'for_e': 0.0,\n",
       " 'fru_e': 0.0,\n",
       " 'fum_e': 0.0,\n",
       " 'glc__D_e': 0.0,\n",
       " 'gln__L_e': 0.0,\n",
       " 'glu__L_e': 0.0,\n",
       " 'h_e': 0.05,\n",
       " 'h2o_e': 0.07,\n",
       " 'lac__D_e': 0.24,\n",
       " 'mal__L_e': 0.0,\n",
       " 'nh4_e': 1.0,\n",
       " 'o2_e': 0.93,\n",
       " 'pi_e': 1.0,\n",
       " 'pyr_e': 0.25,\n",
       " 'succ_e': 0.08}"
      ]
     },
     "execution_count": 36,
     "metadata": {},
     "output_type": "execute_result"
    }
   ],
   "source": [
    "MUS.glc_ko"
   ]
  },
  {
   "cell_type": "code",
   "execution_count": 37,
   "id": "9449a68c",
   "metadata": {},
   "outputs": [
    {
     "data": {
      "text/plain": [
       "{'ac_e': 0.0,\n",
       " 'acald_e': 0.0,\n",
       " 'akg_e': 0.0,\n",
       " 'co2_e': 0.0,\n",
       " 'etoh_e': 0.0,\n",
       " 'for_e': 0.0,\n",
       " 'fru_e': 0.0,\n",
       " 'fum_e': 0.0,\n",
       " 'glc__D_e': 1.0,\n",
       " 'gln__L_e': 0.0,\n",
       " 'glu__L_e': 1.0,\n",
       " 'h_e': 0.0,\n",
       " 'h2o_e': 0.0,\n",
       " 'lac__D_e': 0.0,\n",
       " 'mal__L_e': 0.0,\n",
       " 'nh4_e': 0.0,\n",
       " 'o2_e': 0.0,\n",
       " 'pi_e': 1.0,\n",
       " 'pyr_e': 0.0,\n",
       " 'succ_e': 0.0}"
      ]
     },
     "execution_count": 37,
     "metadata": {},
     "output_type": "execute_result"
    }
   ],
   "source": [
    "MUS.nh4_ko"
   ]
  },
  {
   "cell_type": "markdown",
   "id": "19703e1f",
   "metadata": {},
   "source": [
    "MPS (metabolite production score): measures the ability of a species to produce a metabolite"
   ]
  },
  {
   "cell_type": "code",
   "execution_count": 38,
   "id": "095e8c80",
   "metadata": {},
   "outputs": [
    {
     "name": "stdout",
     "output_type": "stream",
     "text": [
      "Set parameter FeasibilityTol to value 1e-09\n",
      "Set parameter OptimalityTol to value 1e-09\n"
     ]
    },
    {
     "data": {
      "text/plain": [
       "                                                       value\n",
       "attribute                                                   \n",
       "glc_ko     {'etoh_e': 1, 'for_e': 1, 'h2o_e': 1, 'pyr_e':...\n",
       "nh4_ko     {'etoh_e': 1, 'for_e': 1, 'h2o_e': 1, 'pyr_e':..."
      ]
     },
     "execution_count": 38,
     "metadata": {},
     "output_type": "execute_result"
    }
   ],
   "source": [
    "MPS = mp_score(community,environment=M9)\n",
    "MPS"
   ]
  },
  {
   "cell_type": "markdown",
   "id": "1fc8ec46",
   "metadata": {},
   "source": [
    "MRO (metabolic resource overlap): calculates how much the species compete for the same metabolites."
   ]
  },
  {
   "cell_type": "code",
   "execution_count": 39,
   "id": "761408d5",
   "metadata": {},
   "outputs": [
    {
     "name": "stdout",
     "output_type": "stream",
     "text": [
      "Set parameter FeasibilityTol to value 1e-09\n",
      "Set parameter OptimalityTol to value 1e-09\n",
      "Set parameter FeasibilityTol to value 1e-09\n",
      "Set parameter OptimalityTol to value 1e-09\n",
      "Set parameter FeasibilityTol to value 1e-09\n",
      "Set parameter OptimalityTol to value 1e-09\n",
      "1.0\n"
     ]
    },
    {
     "data": {
      "text/plain": [
       "                                                              value\n",
       "attribute                                                          \n",
       "community_medium                                     {pi, gln, fru}\n",
       "individual_media  {'glc_ko': {'pi', 'gln', 'fru'}, 'nh4_ko': {'p..."
      ]
     },
     "execution_count": 39,
     "metadata": {},
     "output_type": "execute_result"
    }
   ],
   "source": [
    "score, MRO = mro_score(community,environment=M9)\n",
    "print(score)\n",
    "MRO"
   ]
  },
  {
   "cell_type": "code",
   "execution_count": 40,
   "id": "2f72f3c5",
   "metadata": {},
   "outputs": [
    {
     "data": {
      "text/plain": [
       "{'fru', 'gln', 'pi'}"
      ]
     },
     "execution_count": 40,
     "metadata": {},
     "output_type": "execute_result"
    }
   ],
   "source": [
    "MRO.individual_media.glc_ko"
   ]
  },
  {
   "cell_type": "code",
   "execution_count": 41,
   "id": "d5461666",
   "metadata": {},
   "outputs": [
    {
     "data": {
      "text/plain": [
       "{'fru', 'gln', 'pi'}"
      ]
     },
     "execution_count": 41,
     "metadata": {},
     "output_type": "execute_result"
    }
   ],
   "source": [
    "MRO.individual_media.nh4_ko"
   ]
  },
  {
   "cell_type": "code",
   "execution_count": null,
   "id": "2eb4a9d2",
   "metadata": {},
   "outputs": [],
   "source": []
  },
  {
   "cell_type": "code",
   "execution_count": null,
   "id": "e1e85c3c",
   "metadata": {},
   "outputs": [],
   "source": []
  }
 ],
 "metadata": {
  "kernelspec": {
   "display_name": "Python 3 (ipykernel)",
   "language": "python",
   "name": "python3"
  },
  "language_info": {
   "codemirror_mode": {
    "name": "ipython",
    "version": 3
   },
   "file_extension": ".py",
   "mimetype": "text/x-python",
   "name": "python",
   "nbconvert_exporter": "python",
   "pygments_lexer": "ipython3",
   "version": "3.7.13"
  },
  "vscode": {
   "interpreter": {
    "hash": "53ddbca413d8c7d71c8bf00ad42e215a2a7a7728d07d0ca366dfc9251666779d"
   }
  }
 },
 "nbformat": 4,
 "nbformat_minor": 5
}
