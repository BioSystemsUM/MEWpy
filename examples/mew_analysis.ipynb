{
 "cells": [
  {
   "cell_type": "markdown",
   "source": [
    "# Analysis of integrated models in MEWpy\n",
    "\n",
    "MEWpy supports several methods to perform phenotype simulations using integrated MEW models.\n",
    "The following simulation methods are available in `mewpy.mew.analysis`:\n",
    "- `FBA` - requires a Metabolic model\n",
    "- `pFBA` - requires a Metabolic model\n",
    "- `RFBA` - requires a Regulatory-Metabolic model\n",
    "- `SRFBA` - requires a Regulatory-Metabolic model\n",
    "- `PROM` - requires a Regulatory-Metabolic model\n",
    "- `CoRegFlux` - requires a Regulatory-Metabolic model\n",
    "\n",
    "In addition, `FBA` and `pFBA` simulation methods are available in the MEWpy `Simulator` object.\n",
    "\n",
    "This example uses the integrated _E. coli_ core model published by [Orth _et al_, 2010](https://doi.org/10.1128/ecosalplus.10.2.1). More information regarding this model is available in `examples.mew_models.ipynb` notebook\n",
    "\n",
    "This example uses the integrated _E. coli_ iMC1010 model published by [Covert _et al_, 2004](https://doi.org/10.1038/nature02456). This model consists of the _E. coli_ iJR904 GEM model published by [Reed _et al_, 2003](https://doi.org/10.1186/gb-2003-4-9-r54) and _E. coli_ iMC1010 TRN published by [Covert _et al_, 2004](https://doi.org/10.1038/nature02456). This model includes 904 metabolic genes, 931 unique biochemical reactions, and a TRN having 1010 regulatory interactions (target-regulators using boolean logic).\n",
    "\n",
    "This example uses the integrated _M. tuberculosis_ iNJ661 model published by [Chandrasekaran _et al_, 2010](https://doi.org/10.1073/pnas.1005139107). This model consists of the _M. tuberculosis_ iNJ661 GEM model published by [Jamshidi _et al_, 2007](https://doi.org/10.1186/1752-0509-1-26), _M. tuberculosis_ TRN published by [Balazsi _et al_, 2008](https://doi.org/10.1038/msb.2008.63), and gene expression dataset published by [Chandrasekaran _et al_, 2010](https://doi.org/10.1073/pnas.1005139107). This model includes 691 metabolic genes, 1028 unique biochemical reactions, and a TRN having 2018 regulatory interactions (target-regulator).\n",
    "\n",
    "This example uses the integrated _S. cerevisae_ iMM904 model published by [Banos _et al_, 2017](https://doi.org/10.1186/s12918-017-0507-0). This model consists of the _S. cerevisae_ iMM904 GEM model published by [Mo _et al_, 2009](https://doi.org/10.1186/1752-0509-3-37), _S. cerevisae_ TRN inferred by CoRegNet published by [Nicolle _et al_, 2015](https://doi.org/10.1093/bioinformatics/btv305), and gene expression datasets published by [Brauer _et al_, 2005](https://doi.org/10.1091/mbc.e04-11-0968) and [DeRisi _et al_, 1997](https://doi.org/10.1126/science.278.5338.680). This model includes 904 metabolic genes, 1557 unique biochemcial reactions, and a TRN having 3748 regulatory interactions (target-regulators separated in co-activators and co-repressors)."
   ],
   "metadata": {
    "collapsed": false
   }
  },
  {
   "cell_type": "code",
   "execution_count": 1,
   "outputs": [],
   "source": [
    "# imports\n",
    "import os\n",
    "from pathlib import Path\n",
    "\n",
    "from mewpy.io import read_model, Engines, Reader, read_model"
   ],
   "metadata": {
    "collapsed": false
   }
  },
  {
   "cell_type": "code",
   "execution_count": 2,
   "outputs": [],
   "source": [
    "# readers\n",
    "path = Path(os.getcwd()).joinpath('models', 'regulation')\n",
    "\n",
    "# E. coli core\n",
    "core_gem_reader = Reader(Engines.MetabolicSBML, path.joinpath('e_coli_core.xml'))\n",
    "core_trn_reader = Reader(Engines.BooleanRegulatoryCSV,\n",
    "                         path.joinpath('e_coli_core_trn.csv'),\n",
    "                         sep=',',\n",
    "                         id_col=0,\n",
    "                         rule_col=2,\n",
    "                         aliases_cols=[1],\n",
    "                         header=0)\n",
    "\n",
    "# E. coli iMC1010\n",
    "imc1010_gem_reader = Reader(Engines.MetabolicSBML, path.joinpath('iJR904_srfba.xml'))\n",
    "imc1010_trn_reader = Reader(Engines.BooleanRegulatoryCSV,\n",
    "                            path.joinpath('iMC1010.csv'),\n",
    "                            sep=',',\n",
    "                            id_col=0,\n",
    "                            rule_col=4,\n",
    "                            aliases_cols=[1, 2, 3],\n",
    "                            header=0)\n",
    "\n",
    "# M. tuberculosis iNJ661\n",
    "inj661_gem_reader = Reader(Engines.MetabolicSBML, path.joinpath('iNJ661.xml'))\n",
    "inj661_trn_reader = Reader(Engines.CoExpressionRegulatoryCSV,\n",
    "                           path.joinpath('iNJ661_trn.csv'),\n",
    "                           sep=',',\n",
    "                           target_col=2,\n",
    "                           co_activating_col=3,\n",
    "                           co_repressing_col=4,\n",
    "                           header=0)\n",
    "\n",
    "# S. cerevisae iMM904\n",
    "imm904_gem_reader = Reader(Engines.MetabolicSBML, path.joinpath('iMM904.xml'))\n",
    "imm904_trn_reader = Reader(Engines.TargetRegulatorRegulatoryCSV,\n",
    "                           path.joinpath('iMM904_trn.csv'),\n",
    "                           sep=';',\n",
    "                           target_col=0,\n",
    "                           regulator_col=1,\n",
    "                           header=None)"
   ],
   "metadata": {
    "collapsed": false
   }
  },
  {
   "cell_type": "markdown",
   "source": [
    "## Working with phenotype simulation in MEWpy\n",
    "In the `mew.analysis` package, simulation methods are derived from a `LinearProblem` object having the following attributes and methods:\n",
    "- `method` - the name of the simulation method\n",
    "- `model` - the model used to build the linear problem\n",
    "- `solver` - a MEWpy solver instance having the linear programming implementation of variables and constraints in the selected solver. The following solvers are available: _CPLEX_; _GUROBI_; _OPTLANG_\n",
    "- `constraints` - The representation of ODE to be implemented in the solver instance using linear programming\n",
    "- `variables` - The representation of the system variables to be implemented in the solver instance using linear programming\n",
    "- `objective` - A linear representation of the objective function associated with the linear problem\n",
    "\n",
    "A simulation method includes two important methods:\n",
    "- `build` - the build method is responsible for retrieving variables and constraints from a MEW model according to the mathematical formulation of each simulation method\n",
    "- `optimize` - the optimize method is responsible for solving the linear problem using linear programming or mixed-integer linear programming. This method accepts method-specific arguments (initial state, dynamic, etc) and solver-specific arguments (linear, minimize, constraints, get_values, etc). These arguments can override temporarily some constraints or variables during the optimization."
   ],
   "metadata": {
    "collapsed": false
   }
  },
  {
   "cell_type": "code",
   "execution_count": 5,
   "outputs": [],
   "source": [
    "# imports\n",
    "from mewpy.mew.analysis import *"
   ],
   "metadata": {
    "collapsed": false
   }
  },
  {
   "cell_type": "code",
   "execution_count": 19,
   "outputs": [
    {
     "data": {
      "text/plain": "SRFBA for e_coli_core_trn",
      "text/html": "\n        <table>\n            <tr>\n                <td>Method</td>\n                <td>SRFBA</td>\n            </tr>\n            <tr>\n                <td>Model</td>\n                <td>Model e_coli_core_trn - model</td>\n            </tr>\n            <tr>\n                <th>Variables</th>\n                <td>486</td>\n            </tr>\n            <tr>\n                <th>Constraints</th>\n                <td>326</td>\n            </tr>\n            <tr>\n                <th>Objective</th>\n                <td>{'Biomass_Ecoli_core': 1.0}</td>\n            </tr>\n            <tr>\n                <th>Solver</th>\n                <td>CplexSolver</td>\n            </tr>\n            <tr>\n                <th>Synchronized</th>\n                <td>True</td>\n            </tr>\n        </table>\n        "
     },
     "execution_count": 19,
     "metadata": {},
     "output_type": "execute_result"
    }
   ],
   "source": [
    "# showcase of a simulation method\n",
    "\n",
    "# reading the E. coli core model\n",
    "model = read_model(core_gem_reader, core_trn_reader)\n",
    "\n",
    "# initialization does not build the model automatically\n",
    "srfba = SRFBA(model).build()\n",
    "srfba"
   ],
   "metadata": {
    "collapsed": false
   }
  },
  {
   "cell_type": "markdown",
   "source": [
    "The `optimize` interface creates a `ModelSolution` output by default containing the objective value, value of each variable in the solution, among others. Alternatively, `optimize` can create a simple solver `Solution` object."
   ],
   "metadata": {
    "collapsed": false
   }
  },
  {
   "cell_type": "code",
   "execution_count": 20,
   "outputs": [
    {
     "data": {
      "text/plain": "SRFBA Solution",
      "text/html": "\n        <table>\n            <tr>\n                <td>Method</td>\n                <td>SRFBA</td>\n            </tr>\n            <tr>\n                <td>Model</td>\n                <td>Model e_coli_core_trn - model</td>\n            </tr>\n            <tr>\n                <th>Objective</th>\n                <td>Biomass_Ecoli_core</td>\n            </tr>\n            <tr>\n                <th>Objective value</th>\n                <td>0.8739215069684829</td>\n            </tr>\n            <tr>\n                <th>Status</th>\n                <td>optimal</td>\n            </tr>\n        </table>\n        "
     },
     "execution_count": 20,
     "metadata": {},
     "output_type": "execute_result"
    }
   ],
   "source": [
    "# optimization creates a ModelSolution object by default\n",
    "solution = srfba.optimize()\n",
    "solution"
   ],
   "metadata": {
    "collapsed": false
   }
  },
  {
   "cell_type": "markdown",
   "source": [
    "One can generate a pandas `DataFrame` using the `to_frame()` method of the `ModelSolution` object.\n",
    "This data frame contains the obtained expression coefficients for the regulatory environmental stimuli linked to the metabolic model and exchange fluxes."
   ],
   "metadata": {
    "collapsed": false
   }
  },
  {
   "cell_type": "code",
   "execution_count": 21,
   "outputs": [
    {
     "data": {
      "text/plain": "                            regulatory                         \\\n                   regulatory variable          variable type   \nBiomass_Ecoli_core  Biomass_Ecoli_core    reaction, regulator   \nFBP                                FBP    reaction, regulator   \nGLCpts                          GLCpts    reaction, regulator   \nLDH_D                            LDH_D    reaction, regulator   \nME1                                ME1    reaction, regulator   \nME2                                ME2    reaction, regulator   \nPFK                                PFK    reaction, regulator   \nPGI                                PGI    reaction, regulator   \nPYK                                PYK    reaction, regulator   \nSUCCt2_2                      SUCCt2_2    reaction, regulator   \nTALA                              TALA    reaction, regulator   \nTKT2                              TKT2    reaction, regulator   \npi_e                              pi_e  metabolite, regulator   \nglc__D_e                      glc__D_e  metabolite, regulator   \nac_e                              ac_e  metabolite, regulator   \no2_e                              o2_e  metabolite, regulator   \nnh4_e                            nh4_e  metabolite, regulator   \nglu__L_e                      glu__L_e  metabolite, regulator   \nsucc_e                          succ_e  metabolite, regulator   \nfum_e                            fum_e  metabolite, regulator   \nmal__L_e                      mal__L_e  metabolite, regulator   \nlac__D_e                      lac__D_e  metabolite, regulator   \nfru_e                            fru_e  metabolite, regulator   \nEX_ac_e                            NaN                    NaN   \nEX_acald_e                         NaN                    NaN   \nEX_akg_e                           NaN                    NaN   \nEX_co2_e                           NaN                    NaN   \nEX_etoh_e                          NaN                    NaN   \nEX_for_e                           NaN                    NaN   \nEX_fru_e                           NaN                    NaN   \nEX_fum_e                           NaN                    NaN   \nEX_glc__D_e                        NaN                    NaN   \nEX_gln__L_e                        NaN                    NaN   \nEX_glu__L_e                        NaN                    NaN   \nEX_h_e                             NaN                    NaN   \nEX_h2o_e                           NaN                    NaN   \nEX_lac__D_e                        NaN                    NaN   \nEX_mal__L_e                        NaN                    NaN   \nEX_nh4_e                           NaN                    NaN   \nEX_o2_e                            NaN                    NaN   \nEX_pi_e                            NaN                    NaN   \nEX_pyr_e                           NaN                    NaN   \nEX_succ_e                          NaN                    NaN   \n\n                                                            \\\n                   minimum coefficient maximum coefficient   \nBiomass_Ecoli_core                 0.0              1000.0   \nFBP                                0.0              1000.0   \nGLCpts                             0.0              1000.0   \nLDH_D                          -1000.0              1000.0   \nME1                                0.0              1000.0   \nME2                                0.0              1000.0   \nPFK                                0.0              1000.0   \nPGI                            -1000.0              1000.0   \nPYK                                0.0              1000.0   \nSUCCt2_2                           0.0              1000.0   \nTALA                           -1000.0              1000.0   \nTKT2                           -1000.0              1000.0   \npi_e                           -1000.0              1000.0   \nglc__D_e                         -10.0              1000.0   \nac_e                               0.0              1000.0   \no2_e                           -1000.0              1000.0   \nnh4_e                          -1000.0              1000.0   \nglu__L_e                           0.0              1000.0   \nsucc_e                             0.0              1000.0   \nfum_e                              0.0              1000.0   \nmal__L_e                           0.0              1000.0   \nlac__D_e                           0.0              1000.0   \nfru_e                              0.0              1000.0   \nEX_ac_e                            NaN                 NaN   \nEX_acald_e                         NaN                 NaN   \nEX_akg_e                           NaN                 NaN   \nEX_co2_e                           NaN                 NaN   \nEX_etoh_e                          NaN                 NaN   \nEX_for_e                           NaN                 NaN   \nEX_fru_e                           NaN                 NaN   \nEX_fum_e                           NaN                 NaN   \nEX_glc__D_e                        NaN                 NaN   \nEX_gln__L_e                        NaN                 NaN   \nEX_glu__L_e                        NaN                 NaN   \nEX_h_e                             NaN                 NaN   \nEX_h2o_e                           NaN                 NaN   \nEX_lac__D_e                        NaN                 NaN   \nEX_mal__L_e                        NaN                 NaN   \nEX_nh4_e                           NaN                 NaN   \nEX_o2_e                            NaN                 NaN   \nEX_pi_e                            NaN                 NaN   \nEX_pyr_e                           NaN                 NaN   \nEX_succ_e                          NaN                 NaN   \n\n                                             metabolic                \\\n                   expression coefficient     exchange variable type   \nBiomass_Ecoli_core           8.739215e-01          NaN           NaN   \nFBP                          0.000000e+00          NaN           NaN   \nGLCpts                       1.000000e+01          NaN           NaN   \nLDH_D                        2.273737e-13          NaN           NaN   \nME1                          0.000000e+00          NaN           NaN   \nME2                          0.000000e+00          NaN           NaN   \nPFK                          7.477382e+00          NaN           NaN   \nPGI                          4.860861e+00          NaN           NaN   \nPYK                          1.758177e+00          NaN           NaN   \nSUCCt2_2                     0.000000e+00          NaN           NaN   \nTALA                         1.496984e+00          NaN           NaN   \nTKT2                         1.181498e+00          NaN           NaN   \npi_e                         1.000000e-10          NaN           NaN   \nglc__D_e                     1.000000e-10          NaN           NaN   \nac_e                         1.000000e-10          NaN           NaN   \no2_e                         1.000000e+00          NaN           NaN   \nnh4_e                        1.000000e+03          NaN           NaN   \nglu__L_e                     1.000000e-10          NaN           NaN   \nsucc_e                       1.000000e+03          NaN           NaN   \nfum_e                        1.000000e-10          NaN           NaN   \nmal__L_e                     1.000000e-10          NaN           NaN   \nlac__D_e                     1.000000e-10          NaN           NaN   \nfru_e                        1.000000e-10          NaN           NaN   \nEX_ac_e                               NaN      EX_ac_e      reaction   \nEX_acald_e                            NaN   EX_acald_e      reaction   \nEX_akg_e                              NaN     EX_akg_e      reaction   \nEX_co2_e                              NaN     EX_co2_e      reaction   \nEX_etoh_e                             NaN    EX_etoh_e      reaction   \nEX_for_e                              NaN     EX_for_e      reaction   \nEX_fru_e                              NaN     EX_fru_e      reaction   \nEX_fum_e                              NaN     EX_fum_e      reaction   \nEX_glc__D_e                           NaN  EX_glc__D_e      reaction   \nEX_gln__L_e                           NaN  EX_gln__L_e      reaction   \nEX_glu__L_e                           NaN  EX_glu__L_e      reaction   \nEX_h_e                                NaN       EX_h_e      reaction   \nEX_h2o_e                              NaN     EX_h2o_e      reaction   \nEX_lac__D_e                           NaN  EX_lac__D_e      reaction   \nEX_mal__L_e                           NaN  EX_mal__L_e      reaction   \nEX_nh4_e                              NaN     EX_nh4_e      reaction   \nEX_o2_e                               NaN      EX_o2_e      reaction   \nEX_pi_e                               NaN      EX_pi_e      reaction   \nEX_pyr_e                              NaN     EX_pyr_e      reaction   \nEX_succ_e                             NaN    EX_succ_e      reaction   \n\n                                                                     \n                   metabolite lower bound upper bound          flux  \nBiomass_Ecoli_core        NaN         NaN         NaN           NaN  \nFBP                       NaN         NaN         NaN           NaN  \nGLCpts                    NaN         NaN         NaN           NaN  \nLDH_D                     NaN         NaN         NaN           NaN  \nME1                       NaN         NaN         NaN           NaN  \nME2                       NaN         NaN         NaN           NaN  \nPFK                       NaN         NaN         NaN           NaN  \nPGI                       NaN         NaN         NaN           NaN  \nPYK                       NaN         NaN         NaN           NaN  \nSUCCt2_2                  NaN         NaN         NaN           NaN  \nTALA                      NaN         NaN         NaN           NaN  \nTKT2                      NaN         NaN         NaN           NaN  \npi_e                      NaN         NaN         NaN           NaN  \nglc__D_e                  NaN         NaN         NaN           NaN  \nac_e                      NaN         NaN         NaN           NaN  \no2_e                      NaN         NaN         NaN           NaN  \nnh4_e                     NaN         NaN         NaN           NaN  \nglu__L_e                  NaN         NaN         NaN           NaN  \nsucc_e                    NaN         NaN         NaN           NaN  \nfum_e                     NaN         NaN         NaN           NaN  \nmal__L_e                  NaN         NaN         NaN           NaN  \nlac__D_e                  NaN         NaN         NaN           NaN  \nfru_e                     NaN         NaN         NaN           NaN  \nEX_ac_e                  ac_e         0.0      1000.0 -2.273737e-13  \nEX_acald_e            acald_e         0.0      1000.0 -2.273737e-13  \nEX_akg_e                akg_e         0.0      1000.0 -2.273737e-13  \nEX_co2_e                co2_e     -1000.0      1000.0  2.280983e+01  \nEX_etoh_e              etoh_e         0.0      1000.0 -2.273737e-13  \nEX_for_e                for_e         0.0      1000.0  0.000000e+00  \nEX_fru_e                fru_e         0.0      1000.0  0.000000e+00  \nEX_fum_e                fum_e         0.0      1000.0  0.000000e+00  \nEX_glc__D_e          glc__D_e       -10.0      1000.0 -1.000000e+01  \nEX_gln__L_e          gln__L_e         0.0      1000.0  0.000000e+00  \nEX_glu__L_e          glu__L_e         0.0      1000.0 -2.273737e-13  \nEX_h_e                    h_e     -1000.0      1000.0  1.753087e+01  \nEX_h2o_e                h2o_e     -1000.0      1000.0  2.917583e+01  \nEX_lac__D_e          lac__D_e         0.0      1000.0 -2.273737e-13  \nEX_mal__L_e          mal__L_e         0.0      1000.0  0.000000e+00  \nEX_nh4_e                nh4_e     -1000.0      1000.0 -4.765319e+00  \nEX_o2_e                  o2_e     -1000.0      1000.0 -2.179949e+01  \nEX_pi_e                  pi_e     -1000.0      1000.0 -3.214895e+00  \nEX_pyr_e                pyr_e         0.0      1000.0 -2.273737e-13  \nEX_succ_e              succ_e         0.0      1000.0  0.000000e+00  ",
      "text/html": "<div>\n<style scoped>\n    .dataframe tbody tr th:only-of-type {\n        vertical-align: middle;\n    }\n\n    .dataframe tbody tr th {\n        vertical-align: top;\n    }\n\n    .dataframe thead tr th {\n        text-align: left;\n    }\n</style>\n<table border=\"1\" class=\"dataframe\">\n  <thead>\n    <tr>\n      <th></th>\n      <th colspan=\"5\" halign=\"left\">regulatory</th>\n      <th colspan=\"6\" halign=\"left\">metabolic</th>\n    </tr>\n    <tr>\n      <th></th>\n      <th>regulatory variable</th>\n      <th>variable type</th>\n      <th>minimum coefficient</th>\n      <th>maximum coefficient</th>\n      <th>expression coefficient</th>\n      <th>exchange</th>\n      <th>variable type</th>\n      <th>metabolite</th>\n      <th>lower bound</th>\n      <th>upper bound</th>\n      <th>flux</th>\n    </tr>\n  </thead>\n  <tbody>\n    <tr>\n      <th>Biomass_Ecoli_core</th>\n      <td>Biomass_Ecoli_core</td>\n      <td>reaction, regulator</td>\n      <td>0.0</td>\n      <td>1000.0</td>\n      <td>8.739215e-01</td>\n      <td>NaN</td>\n      <td>NaN</td>\n      <td>NaN</td>\n      <td>NaN</td>\n      <td>NaN</td>\n      <td>NaN</td>\n    </tr>\n    <tr>\n      <th>FBP</th>\n      <td>FBP</td>\n      <td>reaction, regulator</td>\n      <td>0.0</td>\n      <td>1000.0</td>\n      <td>0.000000e+00</td>\n      <td>NaN</td>\n      <td>NaN</td>\n      <td>NaN</td>\n      <td>NaN</td>\n      <td>NaN</td>\n      <td>NaN</td>\n    </tr>\n    <tr>\n      <th>GLCpts</th>\n      <td>GLCpts</td>\n      <td>reaction, regulator</td>\n      <td>0.0</td>\n      <td>1000.0</td>\n      <td>1.000000e+01</td>\n      <td>NaN</td>\n      <td>NaN</td>\n      <td>NaN</td>\n      <td>NaN</td>\n      <td>NaN</td>\n      <td>NaN</td>\n    </tr>\n    <tr>\n      <th>LDH_D</th>\n      <td>LDH_D</td>\n      <td>reaction, regulator</td>\n      <td>-1000.0</td>\n      <td>1000.0</td>\n      <td>2.273737e-13</td>\n      <td>NaN</td>\n      <td>NaN</td>\n      <td>NaN</td>\n      <td>NaN</td>\n      <td>NaN</td>\n      <td>NaN</td>\n    </tr>\n    <tr>\n      <th>ME1</th>\n      <td>ME1</td>\n      <td>reaction, regulator</td>\n      <td>0.0</td>\n      <td>1000.0</td>\n      <td>0.000000e+00</td>\n      <td>NaN</td>\n      <td>NaN</td>\n      <td>NaN</td>\n      <td>NaN</td>\n      <td>NaN</td>\n      <td>NaN</td>\n    </tr>\n    <tr>\n      <th>ME2</th>\n      <td>ME2</td>\n      <td>reaction, regulator</td>\n      <td>0.0</td>\n      <td>1000.0</td>\n      <td>0.000000e+00</td>\n      <td>NaN</td>\n      <td>NaN</td>\n      <td>NaN</td>\n      <td>NaN</td>\n      <td>NaN</td>\n      <td>NaN</td>\n    </tr>\n    <tr>\n      <th>PFK</th>\n      <td>PFK</td>\n      <td>reaction, regulator</td>\n      <td>0.0</td>\n      <td>1000.0</td>\n      <td>7.477382e+00</td>\n      <td>NaN</td>\n      <td>NaN</td>\n      <td>NaN</td>\n      <td>NaN</td>\n      <td>NaN</td>\n      <td>NaN</td>\n    </tr>\n    <tr>\n      <th>PGI</th>\n      <td>PGI</td>\n      <td>reaction, regulator</td>\n      <td>-1000.0</td>\n      <td>1000.0</td>\n      <td>4.860861e+00</td>\n      <td>NaN</td>\n      <td>NaN</td>\n      <td>NaN</td>\n      <td>NaN</td>\n      <td>NaN</td>\n      <td>NaN</td>\n    </tr>\n    <tr>\n      <th>PYK</th>\n      <td>PYK</td>\n      <td>reaction, regulator</td>\n      <td>0.0</td>\n      <td>1000.0</td>\n      <td>1.758177e+00</td>\n      <td>NaN</td>\n      <td>NaN</td>\n      <td>NaN</td>\n      <td>NaN</td>\n      <td>NaN</td>\n      <td>NaN</td>\n    </tr>\n    <tr>\n      <th>SUCCt2_2</th>\n      <td>SUCCt2_2</td>\n      <td>reaction, regulator</td>\n      <td>0.0</td>\n      <td>1000.0</td>\n      <td>0.000000e+00</td>\n      <td>NaN</td>\n      <td>NaN</td>\n      <td>NaN</td>\n      <td>NaN</td>\n      <td>NaN</td>\n      <td>NaN</td>\n    </tr>\n    <tr>\n      <th>TALA</th>\n      <td>TALA</td>\n      <td>reaction, regulator</td>\n      <td>-1000.0</td>\n      <td>1000.0</td>\n      <td>1.496984e+00</td>\n      <td>NaN</td>\n      <td>NaN</td>\n      <td>NaN</td>\n      <td>NaN</td>\n      <td>NaN</td>\n      <td>NaN</td>\n    </tr>\n    <tr>\n      <th>TKT2</th>\n      <td>TKT2</td>\n      <td>reaction, regulator</td>\n      <td>-1000.0</td>\n      <td>1000.0</td>\n      <td>1.181498e+00</td>\n      <td>NaN</td>\n      <td>NaN</td>\n      <td>NaN</td>\n      <td>NaN</td>\n      <td>NaN</td>\n      <td>NaN</td>\n    </tr>\n    <tr>\n      <th>pi_e</th>\n      <td>pi_e</td>\n      <td>metabolite, regulator</td>\n      <td>-1000.0</td>\n      <td>1000.0</td>\n      <td>1.000000e-10</td>\n      <td>NaN</td>\n      <td>NaN</td>\n      <td>NaN</td>\n      <td>NaN</td>\n      <td>NaN</td>\n      <td>NaN</td>\n    </tr>\n    <tr>\n      <th>glc__D_e</th>\n      <td>glc__D_e</td>\n      <td>metabolite, regulator</td>\n      <td>-10.0</td>\n      <td>1000.0</td>\n      <td>1.000000e-10</td>\n      <td>NaN</td>\n      <td>NaN</td>\n      <td>NaN</td>\n      <td>NaN</td>\n      <td>NaN</td>\n      <td>NaN</td>\n    </tr>\n    <tr>\n      <th>ac_e</th>\n      <td>ac_e</td>\n      <td>metabolite, regulator</td>\n      <td>0.0</td>\n      <td>1000.0</td>\n      <td>1.000000e-10</td>\n      <td>NaN</td>\n      <td>NaN</td>\n      <td>NaN</td>\n      <td>NaN</td>\n      <td>NaN</td>\n      <td>NaN</td>\n    </tr>\n    <tr>\n      <th>o2_e</th>\n      <td>o2_e</td>\n      <td>metabolite, regulator</td>\n      <td>-1000.0</td>\n      <td>1000.0</td>\n      <td>1.000000e+00</td>\n      <td>NaN</td>\n      <td>NaN</td>\n      <td>NaN</td>\n      <td>NaN</td>\n      <td>NaN</td>\n      <td>NaN</td>\n    </tr>\n    <tr>\n      <th>nh4_e</th>\n      <td>nh4_e</td>\n      <td>metabolite, regulator</td>\n      <td>-1000.0</td>\n      <td>1000.0</td>\n      <td>1.000000e+03</td>\n      <td>NaN</td>\n      <td>NaN</td>\n      <td>NaN</td>\n      <td>NaN</td>\n      <td>NaN</td>\n      <td>NaN</td>\n    </tr>\n    <tr>\n      <th>glu__L_e</th>\n      <td>glu__L_e</td>\n      <td>metabolite, regulator</td>\n      <td>0.0</td>\n      <td>1000.0</td>\n      <td>1.000000e-10</td>\n      <td>NaN</td>\n      <td>NaN</td>\n      <td>NaN</td>\n      <td>NaN</td>\n      <td>NaN</td>\n      <td>NaN</td>\n    </tr>\n    <tr>\n      <th>succ_e</th>\n      <td>succ_e</td>\n      <td>metabolite, regulator</td>\n      <td>0.0</td>\n      <td>1000.0</td>\n      <td>1.000000e+03</td>\n      <td>NaN</td>\n      <td>NaN</td>\n      <td>NaN</td>\n      <td>NaN</td>\n      <td>NaN</td>\n      <td>NaN</td>\n    </tr>\n    <tr>\n      <th>fum_e</th>\n      <td>fum_e</td>\n      <td>metabolite, regulator</td>\n      <td>0.0</td>\n      <td>1000.0</td>\n      <td>1.000000e-10</td>\n      <td>NaN</td>\n      <td>NaN</td>\n      <td>NaN</td>\n      <td>NaN</td>\n      <td>NaN</td>\n      <td>NaN</td>\n    </tr>\n    <tr>\n      <th>mal__L_e</th>\n      <td>mal__L_e</td>\n      <td>metabolite, regulator</td>\n      <td>0.0</td>\n      <td>1000.0</td>\n      <td>1.000000e-10</td>\n      <td>NaN</td>\n      <td>NaN</td>\n      <td>NaN</td>\n      <td>NaN</td>\n      <td>NaN</td>\n      <td>NaN</td>\n    </tr>\n    <tr>\n      <th>lac__D_e</th>\n      <td>lac__D_e</td>\n      <td>metabolite, regulator</td>\n      <td>0.0</td>\n      <td>1000.0</td>\n      <td>1.000000e-10</td>\n      <td>NaN</td>\n      <td>NaN</td>\n      <td>NaN</td>\n      <td>NaN</td>\n      <td>NaN</td>\n      <td>NaN</td>\n    </tr>\n    <tr>\n      <th>fru_e</th>\n      <td>fru_e</td>\n      <td>metabolite, regulator</td>\n      <td>0.0</td>\n      <td>1000.0</td>\n      <td>1.000000e-10</td>\n      <td>NaN</td>\n      <td>NaN</td>\n      <td>NaN</td>\n      <td>NaN</td>\n      <td>NaN</td>\n      <td>NaN</td>\n    </tr>\n    <tr>\n      <th>EX_ac_e</th>\n      <td>NaN</td>\n      <td>NaN</td>\n      <td>NaN</td>\n      <td>NaN</td>\n      <td>NaN</td>\n      <td>EX_ac_e</td>\n      <td>reaction</td>\n      <td>ac_e</td>\n      <td>0.0</td>\n      <td>1000.0</td>\n      <td>-2.273737e-13</td>\n    </tr>\n    <tr>\n      <th>EX_acald_e</th>\n      <td>NaN</td>\n      <td>NaN</td>\n      <td>NaN</td>\n      <td>NaN</td>\n      <td>NaN</td>\n      <td>EX_acald_e</td>\n      <td>reaction</td>\n      <td>acald_e</td>\n      <td>0.0</td>\n      <td>1000.0</td>\n      <td>-2.273737e-13</td>\n    </tr>\n    <tr>\n      <th>EX_akg_e</th>\n      <td>NaN</td>\n      <td>NaN</td>\n      <td>NaN</td>\n      <td>NaN</td>\n      <td>NaN</td>\n      <td>EX_akg_e</td>\n      <td>reaction</td>\n      <td>akg_e</td>\n      <td>0.0</td>\n      <td>1000.0</td>\n      <td>-2.273737e-13</td>\n    </tr>\n    <tr>\n      <th>EX_co2_e</th>\n      <td>NaN</td>\n      <td>NaN</td>\n      <td>NaN</td>\n      <td>NaN</td>\n      <td>NaN</td>\n      <td>EX_co2_e</td>\n      <td>reaction</td>\n      <td>co2_e</td>\n      <td>-1000.0</td>\n      <td>1000.0</td>\n      <td>2.280983e+01</td>\n    </tr>\n    <tr>\n      <th>EX_etoh_e</th>\n      <td>NaN</td>\n      <td>NaN</td>\n      <td>NaN</td>\n      <td>NaN</td>\n      <td>NaN</td>\n      <td>EX_etoh_e</td>\n      <td>reaction</td>\n      <td>etoh_e</td>\n      <td>0.0</td>\n      <td>1000.0</td>\n      <td>-2.273737e-13</td>\n    </tr>\n    <tr>\n      <th>EX_for_e</th>\n      <td>NaN</td>\n      <td>NaN</td>\n      <td>NaN</td>\n      <td>NaN</td>\n      <td>NaN</td>\n      <td>EX_for_e</td>\n      <td>reaction</td>\n      <td>for_e</td>\n      <td>0.0</td>\n      <td>1000.0</td>\n      <td>0.000000e+00</td>\n    </tr>\n    <tr>\n      <th>EX_fru_e</th>\n      <td>NaN</td>\n      <td>NaN</td>\n      <td>NaN</td>\n      <td>NaN</td>\n      <td>NaN</td>\n      <td>EX_fru_e</td>\n      <td>reaction</td>\n      <td>fru_e</td>\n      <td>0.0</td>\n      <td>1000.0</td>\n      <td>0.000000e+00</td>\n    </tr>\n    <tr>\n      <th>EX_fum_e</th>\n      <td>NaN</td>\n      <td>NaN</td>\n      <td>NaN</td>\n      <td>NaN</td>\n      <td>NaN</td>\n      <td>EX_fum_e</td>\n      <td>reaction</td>\n      <td>fum_e</td>\n      <td>0.0</td>\n      <td>1000.0</td>\n      <td>0.000000e+00</td>\n    </tr>\n    <tr>\n      <th>EX_glc__D_e</th>\n      <td>NaN</td>\n      <td>NaN</td>\n      <td>NaN</td>\n      <td>NaN</td>\n      <td>NaN</td>\n      <td>EX_glc__D_e</td>\n      <td>reaction</td>\n      <td>glc__D_e</td>\n      <td>-10.0</td>\n      <td>1000.0</td>\n      <td>-1.000000e+01</td>\n    </tr>\n    <tr>\n      <th>EX_gln__L_e</th>\n      <td>NaN</td>\n      <td>NaN</td>\n      <td>NaN</td>\n      <td>NaN</td>\n      <td>NaN</td>\n      <td>EX_gln__L_e</td>\n      <td>reaction</td>\n      <td>gln__L_e</td>\n      <td>0.0</td>\n      <td>1000.0</td>\n      <td>0.000000e+00</td>\n    </tr>\n    <tr>\n      <th>EX_glu__L_e</th>\n      <td>NaN</td>\n      <td>NaN</td>\n      <td>NaN</td>\n      <td>NaN</td>\n      <td>NaN</td>\n      <td>EX_glu__L_e</td>\n      <td>reaction</td>\n      <td>glu__L_e</td>\n      <td>0.0</td>\n      <td>1000.0</td>\n      <td>-2.273737e-13</td>\n    </tr>\n    <tr>\n      <th>EX_h_e</th>\n      <td>NaN</td>\n      <td>NaN</td>\n      <td>NaN</td>\n      <td>NaN</td>\n      <td>NaN</td>\n      <td>EX_h_e</td>\n      <td>reaction</td>\n      <td>h_e</td>\n      <td>-1000.0</td>\n      <td>1000.0</td>\n      <td>1.753087e+01</td>\n    </tr>\n    <tr>\n      <th>EX_h2o_e</th>\n      <td>NaN</td>\n      <td>NaN</td>\n      <td>NaN</td>\n      <td>NaN</td>\n      <td>NaN</td>\n      <td>EX_h2o_e</td>\n      <td>reaction</td>\n      <td>h2o_e</td>\n      <td>-1000.0</td>\n      <td>1000.0</td>\n      <td>2.917583e+01</td>\n    </tr>\n    <tr>\n      <th>EX_lac__D_e</th>\n      <td>NaN</td>\n      <td>NaN</td>\n      <td>NaN</td>\n      <td>NaN</td>\n      <td>NaN</td>\n      <td>EX_lac__D_e</td>\n      <td>reaction</td>\n      <td>lac__D_e</td>\n      <td>0.0</td>\n      <td>1000.0</td>\n      <td>-2.273737e-13</td>\n    </tr>\n    <tr>\n      <th>EX_mal__L_e</th>\n      <td>NaN</td>\n      <td>NaN</td>\n      <td>NaN</td>\n      <td>NaN</td>\n      <td>NaN</td>\n      <td>EX_mal__L_e</td>\n      <td>reaction</td>\n      <td>mal__L_e</td>\n      <td>0.0</td>\n      <td>1000.0</td>\n      <td>0.000000e+00</td>\n    </tr>\n    <tr>\n      <th>EX_nh4_e</th>\n      <td>NaN</td>\n      <td>NaN</td>\n      <td>NaN</td>\n      <td>NaN</td>\n      <td>NaN</td>\n      <td>EX_nh4_e</td>\n      <td>reaction</td>\n      <td>nh4_e</td>\n      <td>-1000.0</td>\n      <td>1000.0</td>\n      <td>-4.765319e+00</td>\n    </tr>\n    <tr>\n      <th>EX_o2_e</th>\n      <td>NaN</td>\n      <td>NaN</td>\n      <td>NaN</td>\n      <td>NaN</td>\n      <td>NaN</td>\n      <td>EX_o2_e</td>\n      <td>reaction</td>\n      <td>o2_e</td>\n      <td>-1000.0</td>\n      <td>1000.0</td>\n      <td>-2.179949e+01</td>\n    </tr>\n    <tr>\n      <th>EX_pi_e</th>\n      <td>NaN</td>\n      <td>NaN</td>\n      <td>NaN</td>\n      <td>NaN</td>\n      <td>NaN</td>\n      <td>EX_pi_e</td>\n      <td>reaction</td>\n      <td>pi_e</td>\n      <td>-1000.0</td>\n      <td>1000.0</td>\n      <td>-3.214895e+00</td>\n    </tr>\n    <tr>\n      <th>EX_pyr_e</th>\n      <td>NaN</td>\n      <td>NaN</td>\n      <td>NaN</td>\n      <td>NaN</td>\n      <td>NaN</td>\n      <td>EX_pyr_e</td>\n      <td>reaction</td>\n      <td>pyr_e</td>\n      <td>0.0</td>\n      <td>1000.0</td>\n      <td>-2.273737e-13</td>\n    </tr>\n    <tr>\n      <th>EX_succ_e</th>\n      <td>NaN</td>\n      <td>NaN</td>\n      <td>NaN</td>\n      <td>NaN</td>\n      <td>NaN</td>\n      <td>EX_succ_e</td>\n      <td>reaction</td>\n      <td>succ_e</td>\n      <td>0.0</td>\n      <td>1000.0</td>\n      <td>0.000000e+00</td>\n    </tr>\n  </tbody>\n</table>\n</div>"
     },
     "execution_count": 21,
     "metadata": {},
     "output_type": "execute_result"
    }
   ],
   "source": [
    "# a solution can be converted into a df\n",
    "solution.to_frame()"
   ],
   "metadata": {
    "collapsed": false
   }
  },
  {
   "cell_type": "markdown",
   "source": [
    "One can generate a `Summary` object using the `to_summary()` method of the `ModelSolution` object.\n",
    "This summary contains the following data:\n",
    "- inputs - regulatory and metabolic inputs for the simulation method\n",
    "- outputs - regulatory and metabolic inputs for the simulation method\n",
    "- metabolic - values of the metabolic variables\n",
    "- regulatory - values of the regulatory variables\n",
    "- objective - the objective value\n",
    "- df - the summary of inputs and outputs in the regulatory and metabolic layers"
   ],
   "metadata": {
    "collapsed": false
   }
  },
  {
   "cell_type": "code",
   "execution_count": 22,
   "outputs": [
    {
     "data": {
      "text/plain": "<mewpy.mew.solution.summary.Summary at 0x14b357b8e08>",
      "text/html": "<table border=\"1\" class=\"dataframe\">\n  <thead>\n    <tr>\n      <th></th>\n      <th colspan=\"4\" halign=\"left\">regulatory</th>\n      <th colspan=\"5\" halign=\"left\">metabolic</th>\n    </tr>\n    <tr>\n      <th></th>\n      <th>regulatory variable</th>\n      <th>variable type</th>\n      <th>role</th>\n      <th>expression coefficient</th>\n      <th>reaction</th>\n      <th>variable type</th>\n      <th>metabolite</th>\n      <th>role</th>\n      <th>flux</th>\n    </tr>\n  </thead>\n  <tbody>\n    <tr>\n      <th>Biomass_Ecoli_core</th>\n      <td>Biomass_Ecoli_core</td>\n      <td>reaction, regulator</td>\n      <td>input</td>\n      <td>8.739215e-01</td>\n      <td>NaN</td>\n      <td>NaN</td>\n      <td>NaN</td>\n      <td>NaN</td>\n      <td>NaN</td>\n    </tr>\n    <tr>\n      <th>FBP</th>\n      <td>FBP</td>\n      <td>reaction, regulator</td>\n      <td>input</td>\n      <td>0.000000e+00</td>\n      <td>NaN</td>\n      <td>NaN</td>\n      <td>NaN</td>\n      <td>NaN</td>\n      <td>NaN</td>\n    </tr>\n    <tr>\n      <th>GLCpts</th>\n      <td>GLCpts</td>\n      <td>reaction, regulator</td>\n      <td>input</td>\n      <td>1.000000e+01</td>\n      <td>NaN</td>\n      <td>NaN</td>\n      <td>NaN</td>\n      <td>NaN</td>\n      <td>NaN</td>\n    </tr>\n    <tr>\n      <th>LDH_D</th>\n      <td>LDH_D</td>\n      <td>reaction, regulator</td>\n      <td>input</td>\n      <td>2.273737e-13</td>\n      <td>NaN</td>\n      <td>NaN</td>\n      <td>NaN</td>\n      <td>NaN</td>\n      <td>NaN</td>\n    </tr>\n    <tr>\n      <th>ME1</th>\n      <td>ME1</td>\n      <td>reaction, regulator</td>\n      <td>input</td>\n      <td>0.000000e+00</td>\n      <td>NaN</td>\n      <td>NaN</td>\n      <td>NaN</td>\n      <td>NaN</td>\n      <td>NaN</td>\n    </tr>\n    <tr>\n      <th>ME2</th>\n      <td>ME2</td>\n      <td>reaction, regulator</td>\n      <td>input</td>\n      <td>0.000000e+00</td>\n      <td>NaN</td>\n      <td>NaN</td>\n      <td>NaN</td>\n      <td>NaN</td>\n      <td>NaN</td>\n    </tr>\n    <tr>\n      <th>PFK</th>\n      <td>PFK</td>\n      <td>reaction, regulator</td>\n      <td>input</td>\n      <td>7.477382e+00</td>\n      <td>NaN</td>\n      <td>NaN</td>\n      <td>NaN</td>\n      <td>NaN</td>\n      <td>NaN</td>\n    </tr>\n    <tr>\n      <th>PGI</th>\n      <td>PGI</td>\n      <td>reaction, regulator</td>\n      <td>input</td>\n      <td>4.860861e+00</td>\n      <td>NaN</td>\n      <td>NaN</td>\n      <td>NaN</td>\n      <td>NaN</td>\n      <td>NaN</td>\n    </tr>\n    <tr>\n      <th>PYK</th>\n      <td>PYK</td>\n      <td>reaction, regulator</td>\n      <td>input</td>\n      <td>1.758177e+00</td>\n      <td>NaN</td>\n      <td>NaN</td>\n      <td>NaN</td>\n      <td>NaN</td>\n      <td>NaN</td>\n    </tr>\n    <tr>\n      <th>SUCCt2_2</th>\n      <td>SUCCt2_2</td>\n      <td>reaction, regulator</td>\n      <td>input</td>\n      <td>0.000000e+00</td>\n      <td>NaN</td>\n      <td>NaN</td>\n      <td>NaN</td>\n      <td>NaN</td>\n      <td>NaN</td>\n    </tr>\n    <tr>\n      <th>TALA</th>\n      <td>TALA</td>\n      <td>reaction, regulator</td>\n      <td>input</td>\n      <td>1.496984e+00</td>\n      <td>NaN</td>\n      <td>NaN</td>\n      <td>NaN</td>\n      <td>NaN</td>\n      <td>NaN</td>\n    </tr>\n    <tr>\n      <th>TKT2</th>\n      <td>TKT2</td>\n      <td>reaction, regulator</td>\n      <td>input</td>\n      <td>1.181498e+00</td>\n      <td>NaN</td>\n      <td>NaN</td>\n      <td>NaN</td>\n      <td>NaN</td>\n      <td>NaN</td>\n    </tr>\n    <tr>\n      <th>pi_e</th>\n      <td>pi_e</td>\n      <td>metabolite, regulator</td>\n      <td>input</td>\n      <td>1.000000e-10</td>\n      <td>NaN</td>\n      <td>NaN</td>\n      <td>NaN</td>\n      <td>NaN</td>\n      <td>NaN</td>\n    </tr>\n    <tr>\n      <th>glc__D_e</th>\n      <td>glc__D_e</td>\n      <td>metabolite, regulator</td>\n      <td>input</td>\n      <td>1.000000e-10</td>\n      <td>NaN</td>\n      <td>NaN</td>\n      <td>NaN</td>\n      <td>NaN</td>\n      <td>NaN</td>\n    </tr>\n    <tr>\n      <th>ac_e</th>\n      <td>ac_e</td>\n      <td>metabolite, regulator</td>\n      <td>input</td>\n      <td>1.000000e-10</td>\n      <td>NaN</td>\n      <td>NaN</td>\n      <td>NaN</td>\n      <td>NaN</td>\n      <td>NaN</td>\n    </tr>\n    <tr>\n      <th>o2_e</th>\n      <td>o2_e</td>\n      <td>metabolite, regulator</td>\n      <td>input</td>\n      <td>1.000000e+00</td>\n      <td>NaN</td>\n      <td>NaN</td>\n      <td>NaN</td>\n      <td>NaN</td>\n      <td>NaN</td>\n    </tr>\n    <tr>\n      <th>nh4_e</th>\n      <td>nh4_e</td>\n      <td>metabolite, regulator</td>\n      <td>input</td>\n      <td>1.000000e+03</td>\n      <td>NaN</td>\n      <td>NaN</td>\n      <td>NaN</td>\n      <td>NaN</td>\n      <td>NaN</td>\n    </tr>\n    <tr>\n      <th>glu__L_e</th>\n      <td>glu__L_e</td>\n      <td>metabolite, regulator</td>\n      <td>input</td>\n      <td>1.000000e-10</td>\n      <td>NaN</td>\n      <td>NaN</td>\n      <td>NaN</td>\n      <td>NaN</td>\n      <td>NaN</td>\n    </tr>\n    <tr>\n      <th>succ_e</th>\n      <td>succ_e</td>\n      <td>metabolite, regulator</td>\n      <td>input</td>\n      <td>1.000000e+03</td>\n      <td>NaN</td>\n      <td>NaN</td>\n      <td>NaN</td>\n      <td>NaN</td>\n      <td>NaN</td>\n    </tr>\n    <tr>\n      <th>fum_e</th>\n      <td>fum_e</td>\n      <td>metabolite, regulator</td>\n      <td>input</td>\n      <td>1.000000e-10</td>\n      <td>NaN</td>\n      <td>NaN</td>\n      <td>NaN</td>\n      <td>NaN</td>\n      <td>NaN</td>\n    </tr>\n    <tr>\n      <th>mal__L_e</th>\n      <td>mal__L_e</td>\n      <td>metabolite, regulator</td>\n      <td>input</td>\n      <td>1.000000e-10</td>\n      <td>NaN</td>\n      <td>NaN</td>\n      <td>NaN</td>\n      <td>NaN</td>\n      <td>NaN</td>\n    </tr>\n    <tr>\n      <th>lac__D_e</th>\n      <td>lac__D_e</td>\n      <td>metabolite, regulator</td>\n      <td>input</td>\n      <td>1.000000e-10</td>\n      <td>NaN</td>\n      <td>NaN</td>\n      <td>NaN</td>\n      <td>NaN</td>\n      <td>NaN</td>\n    </tr>\n    <tr>\n      <th>fru_e</th>\n      <td>fru_e</td>\n      <td>metabolite, regulator</td>\n      <td>input</td>\n      <td>1.000000e-10</td>\n      <td>NaN</td>\n      <td>NaN</td>\n      <td>NaN</td>\n      <td>NaN</td>\n      <td>NaN</td>\n    </tr>\n    <tr>\n      <th>b0008</th>\n      <td>b0008</td>\n      <td>target, gene</td>\n      <td>output</td>\n      <td>1.000000e+00</td>\n      <td>NaN</td>\n      <td>NaN</td>\n      <td>NaN</td>\n      <td>NaN</td>\n      <td>NaN</td>\n    </tr>\n    <tr>\n      <th>b0080</th>\n      <td>b0080</td>\n      <td>target, regulator</td>\n      <td>output</td>\n      <td>1.000000e+00</td>\n      <td>NaN</td>\n      <td>NaN</td>\n      <td>NaN</td>\n      <td>NaN</td>\n      <td>NaN</td>\n    </tr>\n    <tr>\n      <th>b0113</th>\n      <td>b0113</td>\n      <td>target, regulator</td>\n      <td>output</td>\n      <td>1.000000e+00</td>\n      <td>NaN</td>\n      <td>NaN</td>\n      <td>NaN</td>\n      <td>NaN</td>\n      <td>NaN</td>\n    </tr>\n    <tr>\n      <th>b0114</th>\n      <td>b0114</td>\n      <td>target, gene</td>\n      <td>output</td>\n      <td>1.000000e+00</td>\n      <td>NaN</td>\n      <td>NaN</td>\n      <td>NaN</td>\n      <td>NaN</td>\n      <td>NaN</td>\n    </tr>\n    <tr>\n      <th>b0115</th>\n      <td>b0115</td>\n      <td>target, gene</td>\n      <td>output</td>\n      <td>1.000000e+00</td>\n      <td>NaN</td>\n      <td>NaN</td>\n      <td>NaN</td>\n      <td>NaN</td>\n      <td>NaN</td>\n    </tr>\n    <tr>\n      <th>b0116</th>\n      <td>b0116</td>\n      <td>target, gene</td>\n      <td>output</td>\n      <td>1.000000e+00</td>\n      <td>NaN</td>\n      <td>NaN</td>\n      <td>NaN</td>\n      <td>NaN</td>\n      <td>NaN</td>\n    </tr>\n    <tr>\n      <th>b0118</th>\n      <td>b0118</td>\n      <td>target, gene</td>\n      <td>output</td>\n      <td>1.000000e+00</td>\n      <td>NaN</td>\n      <td>NaN</td>\n      <td>NaN</td>\n      <td>NaN</td>\n      <td>NaN</td>\n    </tr>\n    <tr>\n      <th>b0351</th>\n      <td>b0351</td>\n      <td>target, gene</td>\n      <td>output</td>\n      <td>1.000000e+00</td>\n      <td>NaN</td>\n      <td>NaN</td>\n      <td>NaN</td>\n      <td>NaN</td>\n      <td>NaN</td>\n    </tr>\n    <tr>\n      <th>b0356</th>\n      <td>b0356</td>\n      <td>target, gene</td>\n      <td>output</td>\n      <td>1.000000e+00</td>\n      <td>NaN</td>\n      <td>NaN</td>\n      <td>NaN</td>\n      <td>NaN</td>\n      <td>NaN</td>\n    </tr>\n    <tr>\n      <th>b0399</th>\n      <td>b0399</td>\n      <td>target, regulator</td>\n      <td>output</td>\n      <td>1.000000e+00</td>\n      <td>NaN</td>\n      <td>NaN</td>\n      <td>NaN</td>\n      <td>NaN</td>\n      <td>NaN</td>\n    </tr>\n    <tr>\n      <th>b0400</th>\n      <td>b0400</td>\n      <td>target, regulator</td>\n      <td>output</td>\n      <td>1.000000e+00</td>\n      <td>NaN</td>\n      <td>NaN</td>\n      <td>NaN</td>\n      <td>NaN</td>\n      <td>NaN</td>\n    </tr>\n    <tr>\n      <th>b0451</th>\n      <td>b0451</td>\n      <td>target, gene</td>\n      <td>output</td>\n      <td>1.000000e+00</td>\n      <td>NaN</td>\n      <td>NaN</td>\n      <td>NaN</td>\n      <td>NaN</td>\n      <td>NaN</td>\n    </tr>\n    <tr>\n      <th>b0474</th>\n      <td>b0474</td>\n      <td>target, gene</td>\n      <td>output</td>\n      <td>1.000000e+00</td>\n      <td>NaN</td>\n      <td>NaN</td>\n      <td>NaN</td>\n      <td>NaN</td>\n      <td>NaN</td>\n    </tr>\n    <tr>\n      <th>b0485</th>\n      <td>b0485</td>\n      <td>target, gene</td>\n      <td>output</td>\n      <td>1.000000e+00</td>\n      <td>NaN</td>\n      <td>NaN</td>\n      <td>NaN</td>\n      <td>NaN</td>\n      <td>NaN</td>\n    </tr>\n    <tr>\n      <th>b0720</th>\n      <td>b0720</td>\n      <td>target, gene</td>\n      <td>output</td>\n      <td>1.000000e+00</td>\n      <td>NaN</td>\n      <td>NaN</td>\n      <td>NaN</td>\n      <td>NaN</td>\n      <td>NaN</td>\n    </tr>\n    <tr>\n      <th>b0721</th>\n      <td>b0721</td>\n      <td>target, gene</td>\n      <td>output</td>\n      <td>1.000000e+00</td>\n      <td>NaN</td>\n      <td>NaN</td>\n      <td>NaN</td>\n      <td>NaN</td>\n      <td>NaN</td>\n    </tr>\n    <tr>\n      <th>b0722</th>\n      <td>b0722</td>\n      <td>target, gene</td>\n      <td>output</td>\n      <td>1.000000e+00</td>\n      <td>NaN</td>\n      <td>NaN</td>\n      <td>NaN</td>\n      <td>NaN</td>\n      <td>NaN</td>\n    </tr>\n    <tr>\n      <th>b0723</th>\n      <td>b0723</td>\n      <td>target, gene</td>\n      <td>output</td>\n      <td>1.000000e+00</td>\n      <td>NaN</td>\n      <td>NaN</td>\n      <td>NaN</td>\n      <td>NaN</td>\n      <td>NaN</td>\n    </tr>\n    <tr>\n      <th>b0724</th>\n      <td>b0724</td>\n      <td>target, gene</td>\n      <td>output</td>\n      <td>1.000000e+00</td>\n      <td>NaN</td>\n      <td>NaN</td>\n      <td>NaN</td>\n      <td>NaN</td>\n      <td>NaN</td>\n    </tr>\n    <tr>\n      <th>b0726</th>\n      <td>b0726</td>\n      <td>target, gene</td>\n      <td>output</td>\n      <td>1.000000e+00</td>\n      <td>NaN</td>\n      <td>NaN</td>\n      <td>NaN</td>\n      <td>NaN</td>\n      <td>NaN</td>\n    </tr>\n    <tr>\n      <th>b0727</th>\n      <td>b0727</td>\n      <td>target, gene</td>\n      <td>output</td>\n      <td>1.000000e+00</td>\n      <td>NaN</td>\n      <td>NaN</td>\n      <td>NaN</td>\n      <td>NaN</td>\n      <td>NaN</td>\n    </tr>\n    <tr>\n      <th>b0728</th>\n      <td>b0728</td>\n      <td>target, gene</td>\n      <td>output</td>\n      <td>1.000000e+00</td>\n      <td>NaN</td>\n      <td>NaN</td>\n      <td>NaN</td>\n      <td>NaN</td>\n      <td>NaN</td>\n    </tr>\n    <tr>\n      <th>b0729</th>\n      <td>b0729</td>\n      <td>target, gene</td>\n      <td>output</td>\n      <td>1.000000e+00</td>\n      <td>NaN</td>\n      <td>NaN</td>\n      <td>NaN</td>\n      <td>NaN</td>\n      <td>NaN</td>\n    </tr>\n    <tr>\n      <th>b0733</th>\n      <td>b0733</td>\n      <td>target, gene</td>\n      <td>output</td>\n      <td>1.000000e+00</td>\n      <td>NaN</td>\n      <td>NaN</td>\n      <td>NaN</td>\n      <td>NaN</td>\n      <td>NaN</td>\n    </tr>\n    <tr>\n      <th>b0734</th>\n      <td>b0734</td>\n      <td>target, gene</td>\n      <td>output</td>\n      <td>1.000000e+00</td>\n      <td>NaN</td>\n      <td>NaN</td>\n      <td>NaN</td>\n      <td>NaN</td>\n      <td>NaN</td>\n    </tr>\n    <tr>\n      <th>b0755</th>\n      <td>b0755</td>\n      <td>target, gene</td>\n      <td>output</td>\n      <td>1.000000e+00</td>\n      <td>NaN</td>\n      <td>NaN</td>\n      <td>NaN</td>\n      <td>NaN</td>\n      <td>NaN</td>\n    </tr>\n    <tr>\n      <th>b0767</th>\n      <td>b0767</td>\n      <td>target, gene</td>\n      <td>output</td>\n      <td>1.000000e+00</td>\n      <td>NaN</td>\n      <td>NaN</td>\n      <td>NaN</td>\n      <td>NaN</td>\n      <td>NaN</td>\n    </tr>\n    <tr>\n      <th>b0809</th>\n      <td>b0809</td>\n      <td>target, gene</td>\n      <td>output</td>\n      <td>1.000000e+00</td>\n      <td>NaN</td>\n      <td>NaN</td>\n      <td>NaN</td>\n      <td>NaN</td>\n      <td>NaN</td>\n    </tr>\n    <tr>\n      <th>b0810</th>\n      <td>b0810</td>\n      <td>target, gene</td>\n      <td>output</td>\n      <td>1.000000e+00</td>\n      <td>NaN</td>\n      <td>NaN</td>\n      <td>NaN</td>\n      <td>NaN</td>\n      <td>NaN</td>\n    </tr>\n    <tr>\n      <th>b0811</th>\n      <td>b0811</td>\n      <td>target, gene</td>\n      <td>output</td>\n      <td>1.000000e+00</td>\n      <td>NaN</td>\n      <td>NaN</td>\n      <td>NaN</td>\n      <td>NaN</td>\n      <td>NaN</td>\n    </tr>\n    <tr>\n      <th>b0875</th>\n      <td>b0875</td>\n      <td>target, gene</td>\n      <td>output</td>\n      <td>1.000000e+00</td>\n      <td>NaN</td>\n      <td>NaN</td>\n      <td>NaN</td>\n      <td>NaN</td>\n      <td>NaN</td>\n    </tr>\n    <tr>\n      <th>b0902</th>\n      <td>b0902</td>\n      <td>target, gene</td>\n      <td>output</td>\n      <td>0.000000e+00</td>\n      <td>NaN</td>\n      <td>NaN</td>\n      <td>NaN</td>\n      <td>NaN</td>\n      <td>NaN</td>\n    </tr>\n    <tr>\n      <th>b0903</th>\n      <td>b0903</td>\n      <td>target, gene</td>\n      <td>output</td>\n      <td>0.000000e+00</td>\n      <td>NaN</td>\n      <td>NaN</td>\n      <td>NaN</td>\n      <td>NaN</td>\n      <td>NaN</td>\n    </tr>\n    <tr>\n      <th>b0904</th>\n      <td>b0904</td>\n      <td>target, gene</td>\n      <td>output</td>\n      <td>0.000000e+00</td>\n      <td>NaN</td>\n      <td>NaN</td>\n      <td>NaN</td>\n      <td>NaN</td>\n      <td>NaN</td>\n    </tr>\n    <tr>\n      <th>b0978</th>\n      <td>b0978</td>\n      <td>target, gene</td>\n      <td>output</td>\n      <td>1.000000e+00</td>\n      <td>NaN</td>\n      <td>NaN</td>\n      <td>NaN</td>\n      <td>NaN</td>\n      <td>NaN</td>\n    </tr>\n    <tr>\n      <th>b0979</th>\n      <td>b0979</td>\n      <td>target, gene</td>\n      <td>output</td>\n      <td>1.000000e+00</td>\n      <td>NaN</td>\n      <td>NaN</td>\n      <td>NaN</td>\n      <td>NaN</td>\n      <td>NaN</td>\n    </tr>\n    <tr>\n      <th>b1101</th>\n      <td>b1101</td>\n      <td>target, gene</td>\n      <td>output</td>\n      <td>0.000000e+00</td>\n      <td>NaN</td>\n      <td>NaN</td>\n      <td>NaN</td>\n      <td>NaN</td>\n      <td>NaN</td>\n    </tr>\n    <tr>\n      <th>b1136</th>\n      <td>b1136</td>\n      <td>target, gene</td>\n      <td>output</td>\n      <td>1.000000e+00</td>\n      <td>NaN</td>\n      <td>NaN</td>\n      <td>NaN</td>\n      <td>NaN</td>\n      <td>NaN</td>\n    </tr>\n    <tr>\n      <th>b1187</th>\n      <td>b1187</td>\n      <td>target, regulator</td>\n      <td>output</td>\n      <td>1.000000e+00</td>\n      <td>NaN</td>\n      <td>NaN</td>\n      <td>NaN</td>\n      <td>NaN</td>\n      <td>NaN</td>\n    </tr>\n    <tr>\n      <th>b1241</th>\n      <td>b1241</td>\n      <td>target, gene</td>\n      <td>output</td>\n      <td>1.000000e+00</td>\n      <td>NaN</td>\n      <td>NaN</td>\n      <td>NaN</td>\n      <td>NaN</td>\n      <td>NaN</td>\n    </tr>\n    <tr>\n      <th>b1276</th>\n      <td>b1276</td>\n      <td>target, gene</td>\n      <td>output</td>\n      <td>1.000000e+00</td>\n      <td>NaN</td>\n      <td>NaN</td>\n      <td>NaN</td>\n      <td>NaN</td>\n      <td>NaN</td>\n    </tr>\n    <tr>\n      <th>b1297</th>\n      <td>b1297</td>\n      <td>target, gene</td>\n      <td>output</td>\n      <td>1.000000e+00</td>\n      <td>NaN</td>\n      <td>NaN</td>\n      <td>NaN</td>\n      <td>NaN</td>\n      <td>NaN</td>\n    </tr>\n    <tr>\n      <th>b1334</th>\n      <td>b1334</td>\n      <td>target, regulator</td>\n      <td>output</td>\n      <td>0.000000e+00</td>\n      <td>NaN</td>\n      <td>NaN</td>\n      <td>NaN</td>\n      <td>NaN</td>\n      <td>NaN</td>\n    </tr>\n    <tr>\n      <th>b1380</th>\n      <td>b1380</td>\n      <td>target, gene</td>\n      <td>output</td>\n      <td>1.000000e+00</td>\n      <td>NaN</td>\n      <td>NaN</td>\n      <td>NaN</td>\n      <td>NaN</td>\n      <td>NaN</td>\n    </tr>\n    <tr>\n      <th>b1478</th>\n      <td>b1478</td>\n      <td>target, gene</td>\n      <td>output</td>\n      <td>1.000000e+00</td>\n      <td>NaN</td>\n      <td>NaN</td>\n      <td>NaN</td>\n      <td>NaN</td>\n      <td>NaN</td>\n    </tr>\n    <tr>\n      <th>b1479</th>\n      <td>b1479</td>\n      <td>target, gene</td>\n      <td>output</td>\n      <td>1.000000e+00</td>\n      <td>NaN</td>\n      <td>NaN</td>\n      <td>NaN</td>\n      <td>NaN</td>\n      <td>NaN</td>\n    </tr>\n    <tr>\n      <th>b1524</th>\n      <td>b1524</td>\n      <td>target, gene</td>\n      <td>output</td>\n      <td>1.000000e+00</td>\n      <td>NaN</td>\n      <td>NaN</td>\n      <td>NaN</td>\n      <td>NaN</td>\n      <td>NaN</td>\n    </tr>\n    <tr>\n      <th>b1594</th>\n      <td>b1594</td>\n      <td>target, regulator</td>\n      <td>output</td>\n      <td>1.000000e+00</td>\n      <td>NaN</td>\n      <td>NaN</td>\n      <td>NaN</td>\n      <td>NaN</td>\n      <td>NaN</td>\n    </tr>\n    <tr>\n      <th>b1602</th>\n      <td>b1602</td>\n      <td>target, gene</td>\n      <td>output</td>\n      <td>1.000000e+00</td>\n      <td>NaN</td>\n      <td>NaN</td>\n      <td>NaN</td>\n      <td>NaN</td>\n      <td>NaN</td>\n    </tr>\n    <tr>\n      <th>b1603</th>\n      <td>b1603</td>\n      <td>target, gene</td>\n      <td>output</td>\n      <td>1.000000e+00</td>\n      <td>NaN</td>\n      <td>NaN</td>\n      <td>NaN</td>\n      <td>NaN</td>\n      <td>NaN</td>\n    </tr>\n    <tr>\n      <th>b1611</th>\n      <td>b1611</td>\n      <td>target, gene</td>\n      <td>output</td>\n      <td>1.000000e+00</td>\n      <td>NaN</td>\n      <td>NaN</td>\n      <td>NaN</td>\n      <td>NaN</td>\n      <td>NaN</td>\n    </tr>\n    <tr>\n      <th>b1612</th>\n      <td>b1612</td>\n      <td>target, gene</td>\n      <td>output</td>\n      <td>1.000000e+00</td>\n      <td>NaN</td>\n      <td>NaN</td>\n      <td>NaN</td>\n      <td>NaN</td>\n      <td>NaN</td>\n    </tr>\n    <tr>\n      <th>b1621</th>\n      <td>b1621</td>\n      <td>target, gene</td>\n      <td>output</td>\n      <td>1.000000e+00</td>\n      <td>NaN</td>\n      <td>NaN</td>\n      <td>NaN</td>\n      <td>NaN</td>\n      <td>NaN</td>\n    </tr>\n    <tr>\n      <th>b1676</th>\n      <td>b1676</td>\n      <td>target, gene</td>\n      <td>output</td>\n      <td>0.000000e+00</td>\n      <td>NaN</td>\n      <td>NaN</td>\n      <td>NaN</td>\n      <td>NaN</td>\n      <td>NaN</td>\n    </tr>\n    <tr>\n      <th>b1702</th>\n      <td>b1702</td>\n      <td>target, gene</td>\n      <td>output</td>\n      <td>1.000000e+00</td>\n      <td>NaN</td>\n      <td>NaN</td>\n      <td>NaN</td>\n      <td>NaN</td>\n      <td>NaN</td>\n    </tr>\n    <tr>\n      <th>b1723</th>\n      <td>b1723</td>\n      <td>target, gene</td>\n      <td>output</td>\n      <td>1.000000e+00</td>\n      <td>NaN</td>\n      <td>NaN</td>\n      <td>NaN</td>\n      <td>NaN</td>\n      <td>NaN</td>\n    </tr>\n    <tr>\n      <th>b1761</th>\n      <td>b1761</td>\n      <td>target, gene</td>\n      <td>output</td>\n      <td>1.000000e+00</td>\n      <td>NaN</td>\n      <td>NaN</td>\n      <td>NaN</td>\n      <td>NaN</td>\n      <td>NaN</td>\n    </tr>\n    <tr>\n      <th>b1773</th>\n      <td>b1773</td>\n      <td>target, gene</td>\n      <td>output</td>\n      <td>1.000000e+00</td>\n      <td>NaN</td>\n      <td>NaN</td>\n      <td>NaN</td>\n      <td>NaN</td>\n      <td>NaN</td>\n    </tr>\n    <tr>\n      <th>b1779</th>\n      <td>b1779</td>\n      <td>target, gene</td>\n      <td>output</td>\n      <td>1.000000e+00</td>\n      <td>NaN</td>\n      <td>NaN</td>\n      <td>NaN</td>\n      <td>NaN</td>\n      <td>NaN</td>\n    </tr>\n    <tr>\n      <th>b1812</th>\n      <td>b1812</td>\n      <td>target, gene</td>\n      <td>output</td>\n      <td>1.000000e+00</td>\n      <td>NaN</td>\n      <td>NaN</td>\n      <td>NaN</td>\n      <td>NaN</td>\n      <td>NaN</td>\n    </tr>\n    <tr>\n      <th>b1817</th>\n      <td>b1817</td>\n      <td>target, gene</td>\n      <td>output</td>\n      <td>1.000000e+00</td>\n      <td>NaN</td>\n      <td>NaN</td>\n      <td>NaN</td>\n      <td>NaN</td>\n      <td>NaN</td>\n    </tr>\n    <tr>\n      <th>b1818</th>\n      <td>b1818</td>\n      <td>target, gene</td>\n      <td>output</td>\n      <td>1.000000e+00</td>\n      <td>NaN</td>\n      <td>NaN</td>\n      <td>NaN</td>\n      <td>NaN</td>\n      <td>NaN</td>\n    </tr>\n    <tr>\n      <th>b1819</th>\n      <td>b1819</td>\n      <td>target, gene</td>\n      <td>output</td>\n      <td>1.000000e+00</td>\n      <td>NaN</td>\n      <td>NaN</td>\n      <td>NaN</td>\n      <td>NaN</td>\n      <td>NaN</td>\n    </tr>\n    <tr>\n      <th>b1849</th>\n      <td>b1849</td>\n      <td>target, gene</td>\n      <td>output</td>\n      <td>1.000000e+00</td>\n      <td>NaN</td>\n      <td>NaN</td>\n      <td>NaN</td>\n      <td>NaN</td>\n      <td>NaN</td>\n    </tr>\n    <tr>\n      <th>b1852</th>\n      <td>b1852</td>\n      <td>target, gene</td>\n      <td>output</td>\n      <td>1.000000e+00</td>\n      <td>NaN</td>\n      <td>NaN</td>\n      <td>NaN</td>\n      <td>NaN</td>\n      <td>NaN</td>\n    </tr>\n    <tr>\n      <th>b1854</th>\n      <td>b1854</td>\n      <td>target, gene</td>\n      <td>output</td>\n      <td>1.000000e+00</td>\n      <td>NaN</td>\n      <td>NaN</td>\n      <td>NaN</td>\n      <td>NaN</td>\n      <td>NaN</td>\n    </tr>\n    <tr>\n      <th>b1988</th>\n      <td>b1988</td>\n      <td>target, regulator</td>\n      <td>output</td>\n      <td>0.000000e+00</td>\n      <td>NaN</td>\n      <td>NaN</td>\n      <td>NaN</td>\n      <td>NaN</td>\n      <td>NaN</td>\n    </tr>\n    <tr>\n      <th>b2029</th>\n      <td>b2029</td>\n      <td>target, gene</td>\n      <td>output</td>\n      <td>1.000000e+00</td>\n      <td>NaN</td>\n      <td>NaN</td>\n      <td>NaN</td>\n      <td>NaN</td>\n      <td>NaN</td>\n    </tr>\n    <tr>\n      <th>b2097</th>\n      <td>b2097</td>\n      <td>target, gene</td>\n      <td>output</td>\n      <td>1.000000e+00</td>\n      <td>NaN</td>\n      <td>NaN</td>\n      <td>NaN</td>\n      <td>NaN</td>\n      <td>NaN</td>\n    </tr>\n    <tr>\n      <th>b2133</th>\n      <td>b2133</td>\n      <td>target, gene</td>\n      <td>output</td>\n      <td>1.000000e+00</td>\n      <td>NaN</td>\n      <td>NaN</td>\n      <td>NaN</td>\n      <td>NaN</td>\n      <td>NaN</td>\n    </tr>\n    <tr>\n      <th>b2276</th>\n      <td>b2276</td>\n      <td>target, gene</td>\n      <td>output</td>\n      <td>1.000000e+00</td>\n      <td>NaN</td>\n      <td>NaN</td>\n      <td>NaN</td>\n      <td>NaN</td>\n      <td>NaN</td>\n    </tr>\n    <tr>\n      <th>b2277</th>\n      <td>b2277</td>\n      <td>target, gene</td>\n      <td>output</td>\n      <td>1.000000e+00</td>\n      <td>NaN</td>\n      <td>NaN</td>\n      <td>NaN</td>\n      <td>NaN</td>\n      <td>NaN</td>\n    </tr>\n    <tr>\n      <th>b2278</th>\n      <td>b2278</td>\n      <td>target, gene</td>\n      <td>output</td>\n      <td>1.000000e+00</td>\n      <td>NaN</td>\n      <td>NaN</td>\n      <td>NaN</td>\n      <td>NaN</td>\n      <td>NaN</td>\n    </tr>\n    <tr>\n      <th>b2279</th>\n      <td>b2279</td>\n      <td>target, gene</td>\n      <td>output</td>\n      <td>1.000000e+00</td>\n      <td>NaN</td>\n      <td>NaN</td>\n      <td>NaN</td>\n      <td>NaN</td>\n      <td>NaN</td>\n    </tr>\n    <tr>\n      <th>b2280</th>\n      <td>b2280</td>\n      <td>target, gene</td>\n      <td>output</td>\n      <td>1.000000e+00</td>\n      <td>NaN</td>\n      <td>NaN</td>\n      <td>NaN</td>\n      <td>NaN</td>\n      <td>NaN</td>\n    </tr>\n    <tr>\n      <th>b2281</th>\n      <td>b2281</td>\n      <td>target, gene</td>\n      <td>output</td>\n      <td>1.000000e+00</td>\n      <td>NaN</td>\n      <td>NaN</td>\n      <td>NaN</td>\n      <td>NaN</td>\n      <td>NaN</td>\n    </tr>\n    <tr>\n      <th>b2282</th>\n      <td>b2282</td>\n      <td>target, gene</td>\n      <td>output</td>\n      <td>1.000000e+00</td>\n      <td>NaN</td>\n      <td>NaN</td>\n      <td>NaN</td>\n      <td>NaN</td>\n      <td>NaN</td>\n    </tr>\n    <tr>\n      <th>b2283</th>\n      <td>b2283</td>\n      <td>target, gene</td>\n      <td>output</td>\n      <td>1.000000e+00</td>\n      <td>NaN</td>\n      <td>NaN</td>\n      <td>NaN</td>\n      <td>NaN</td>\n      <td>NaN</td>\n    </tr>\n    <tr>\n      <th>b2284</th>\n      <td>b2284</td>\n      <td>target, gene</td>\n      <td>output</td>\n      <td>1.000000e+00</td>\n      <td>NaN</td>\n      <td>NaN</td>\n      <td>NaN</td>\n      <td>NaN</td>\n      <td>NaN</td>\n    </tr>\n    <tr>\n      <th>b2285</th>\n      <td>b2285</td>\n      <td>target, gene</td>\n      <td>output</td>\n      <td>1.000000e+00</td>\n      <td>NaN</td>\n      <td>NaN</td>\n      <td>NaN</td>\n      <td>NaN</td>\n      <td>NaN</td>\n    </tr>\n    <tr>\n      <th>b2286</th>\n      <td>b2286</td>\n      <td>target, gene</td>\n      <td>output</td>\n      <td>1.000000e+00</td>\n      <td>NaN</td>\n      <td>NaN</td>\n      <td>NaN</td>\n      <td>NaN</td>\n      <td>NaN</td>\n    </tr>\n    <tr>\n      <th>b2287</th>\n      <td>b2287</td>\n      <td>target, gene</td>\n      <td>output</td>\n      <td>1.000000e+00</td>\n      <td>NaN</td>\n      <td>NaN</td>\n      <td>NaN</td>\n      <td>NaN</td>\n      <td>NaN</td>\n    </tr>\n    <tr>\n      <th>b2288</th>\n      <td>b2288</td>\n      <td>target, gene</td>\n      <td>output</td>\n      <td>1.000000e+00</td>\n      <td>NaN</td>\n      <td>NaN</td>\n      <td>NaN</td>\n      <td>NaN</td>\n      <td>NaN</td>\n    </tr>\n    <tr>\n      <th>b2296</th>\n      <td>b2296</td>\n      <td>target, gene</td>\n      <td>output</td>\n      <td>1.000000e+00</td>\n      <td>NaN</td>\n      <td>NaN</td>\n      <td>NaN</td>\n      <td>NaN</td>\n      <td>NaN</td>\n    </tr>\n    <tr>\n      <th>b2297</th>\n      <td>b2297</td>\n      <td>target, gene</td>\n      <td>output</td>\n      <td>1.000000e+00</td>\n      <td>NaN</td>\n      <td>NaN</td>\n      <td>NaN</td>\n      <td>NaN</td>\n      <td>NaN</td>\n    </tr>\n    <tr>\n      <th>b2415</th>\n      <td>b2415</td>\n      <td>target, gene</td>\n      <td>output</td>\n      <td>1.000000e+00</td>\n      <td>NaN</td>\n      <td>NaN</td>\n      <td>NaN</td>\n      <td>NaN</td>\n      <td>NaN</td>\n    </tr>\n    <tr>\n      <th>b2416</th>\n      <td>b2416</td>\n      <td>target, gene</td>\n      <td>output</td>\n      <td>1.000000e+00</td>\n      <td>NaN</td>\n      <td>NaN</td>\n      <td>NaN</td>\n      <td>NaN</td>\n      <td>NaN</td>\n    </tr>\n    <tr>\n      <th>b2417</th>\n      <td>b2417</td>\n      <td>target, gene</td>\n      <td>output</td>\n      <td>1.000000e+00</td>\n      <td>NaN</td>\n      <td>NaN</td>\n      <td>NaN</td>\n      <td>NaN</td>\n      <td>NaN</td>\n    </tr>\n    <tr>\n      <th>b2458</th>\n      <td>b2458</td>\n      <td>target, gene</td>\n      <td>output</td>\n      <td>1.000000e+00</td>\n      <td>NaN</td>\n      <td>NaN</td>\n      <td>NaN</td>\n      <td>NaN</td>\n      <td>NaN</td>\n    </tr>\n    <tr>\n      <th>b2463</th>\n      <td>b2463</td>\n      <td>target, gene</td>\n      <td>output</td>\n      <td>1.000000e+00</td>\n      <td>NaN</td>\n      <td>NaN</td>\n      <td>NaN</td>\n      <td>NaN</td>\n      <td>NaN</td>\n    </tr>\n    <tr>\n      <th>b2464</th>\n      <td>b2464</td>\n      <td>target, gene</td>\n      <td>output</td>\n      <td>1.000000e+00</td>\n      <td>NaN</td>\n      <td>NaN</td>\n      <td>NaN</td>\n      <td>NaN</td>\n      <td>NaN</td>\n    </tr>\n    <tr>\n      <th>b2465</th>\n      <td>b2465</td>\n      <td>target, gene</td>\n      <td>output</td>\n      <td>1.000000e+00</td>\n      <td>NaN</td>\n      <td>NaN</td>\n      <td>NaN</td>\n      <td>NaN</td>\n      <td>NaN</td>\n    </tr>\n    <tr>\n      <th>b2492</th>\n      <td>b2492</td>\n      <td>target, gene</td>\n      <td>output</td>\n      <td>0.000000e+00</td>\n      <td>NaN</td>\n      <td>NaN</td>\n      <td>NaN</td>\n      <td>NaN</td>\n      <td>NaN</td>\n    </tr>\n    <tr>\n      <th>b2579</th>\n      <td>b2579</td>\n      <td>target, gene</td>\n      <td>output</td>\n      <td>1.000000e+00</td>\n      <td>NaN</td>\n      <td>NaN</td>\n      <td>NaN</td>\n      <td>NaN</td>\n      <td>NaN</td>\n    </tr>\n    <tr>\n      <th>b2587</th>\n      <td>b2587</td>\n      <td>target, gene</td>\n      <td>output</td>\n      <td>1.000000e+00</td>\n      <td>NaN</td>\n      <td>NaN</td>\n      <td>NaN</td>\n      <td>NaN</td>\n      <td>NaN</td>\n    </tr>\n    <tr>\n      <th>b2779</th>\n      <td>b2779</td>\n      <td>target, gene</td>\n      <td>output</td>\n      <td>1.000000e+00</td>\n      <td>NaN</td>\n      <td>NaN</td>\n      <td>NaN</td>\n      <td>NaN</td>\n      <td>NaN</td>\n    </tr>\n    <tr>\n      <th>b2914</th>\n      <td>b2914</td>\n      <td>target, gene</td>\n      <td>output</td>\n      <td>1.000000e+00</td>\n      <td>NaN</td>\n      <td>NaN</td>\n      <td>NaN</td>\n      <td>NaN</td>\n      <td>NaN</td>\n    </tr>\n    <tr>\n      <th>b2925</th>\n      <td>b2925</td>\n      <td>target, gene</td>\n      <td>output</td>\n      <td>1.000000e+00</td>\n      <td>NaN</td>\n      <td>NaN</td>\n      <td>NaN</td>\n      <td>NaN</td>\n      <td>NaN</td>\n    </tr>\n    <tr>\n      <th>b2926</th>\n      <td>b2926</td>\n      <td>target, gene</td>\n      <td>output</td>\n      <td>1.000000e+00</td>\n      <td>NaN</td>\n      <td>NaN</td>\n      <td>NaN</td>\n      <td>NaN</td>\n      <td>NaN</td>\n    </tr>\n    <tr>\n      <th>b2935</th>\n      <td>b2935</td>\n      <td>target, gene</td>\n      <td>output</td>\n      <td>1.000000e+00</td>\n      <td>NaN</td>\n      <td>NaN</td>\n      <td>NaN</td>\n      <td>NaN</td>\n      <td>NaN</td>\n    </tr>\n    <tr>\n      <th>b2975</th>\n      <td>b2975</td>\n      <td>target, gene</td>\n      <td>output</td>\n      <td>0.000000e+00</td>\n      <td>NaN</td>\n      <td>NaN</td>\n      <td>NaN</td>\n      <td>NaN</td>\n      <td>NaN</td>\n    </tr>\n    <tr>\n      <th>b2976</th>\n      <td>b2976</td>\n      <td>target, gene</td>\n      <td>output</td>\n      <td>0.000000e+00</td>\n      <td>NaN</td>\n      <td>NaN</td>\n      <td>NaN</td>\n      <td>NaN</td>\n      <td>NaN</td>\n    </tr>\n    <tr>\n      <th>b2980</th>\n      <td>b2980</td>\n      <td>target, regulator</td>\n      <td>output</td>\n      <td>0.000000e+00</td>\n      <td>NaN</td>\n      <td>NaN</td>\n      <td>NaN</td>\n      <td>NaN</td>\n      <td>NaN</td>\n    </tr>\n    <tr>\n      <th>b2987</th>\n      <td>b2987</td>\n      <td>target, gene</td>\n      <td>output</td>\n      <td>0.000000e+00</td>\n      <td>NaN</td>\n      <td>NaN</td>\n      <td>NaN</td>\n      <td>NaN</td>\n      <td>NaN</td>\n    </tr>\n    <tr>\n      <th>b3114</th>\n      <td>b3114</td>\n      <td>target, gene</td>\n      <td>output</td>\n      <td>1.000000e+00</td>\n      <td>NaN</td>\n      <td>NaN</td>\n      <td>NaN</td>\n      <td>NaN</td>\n      <td>NaN</td>\n    </tr>\n    <tr>\n      <th>b3115</th>\n      <td>b3115</td>\n      <td>target, gene</td>\n      <td>output</td>\n      <td>1.000000e+00</td>\n      <td>NaN</td>\n      <td>NaN</td>\n      <td>NaN</td>\n      <td>NaN</td>\n      <td>NaN</td>\n    </tr>\n    <tr>\n      <th>b3212</th>\n      <td>b3212</td>\n      <td>target, gene</td>\n      <td>output</td>\n      <td>1.000000e+00</td>\n      <td>NaN</td>\n      <td>NaN</td>\n      <td>NaN</td>\n      <td>NaN</td>\n      <td>NaN</td>\n    </tr>\n    <tr>\n      <th>b3213</th>\n      <td>b3213</td>\n      <td>target, gene</td>\n      <td>output</td>\n      <td>1.000000e+00</td>\n      <td>NaN</td>\n      <td>NaN</td>\n      <td>NaN</td>\n      <td>NaN</td>\n      <td>NaN</td>\n    </tr>\n    <tr>\n      <th>b3236</th>\n      <td>b3236</td>\n      <td>target, gene</td>\n      <td>output</td>\n      <td>1.000000e+00</td>\n      <td>NaN</td>\n      <td>NaN</td>\n      <td>NaN</td>\n      <td>NaN</td>\n      <td>NaN</td>\n    </tr>\n    <tr>\n      <th>b3261</th>\n      <td>b3261</td>\n      <td>target, regulator</td>\n      <td>output</td>\n      <td>1.000000e+00</td>\n      <td>NaN</td>\n      <td>NaN</td>\n      <td>NaN</td>\n      <td>NaN</td>\n      <td>NaN</td>\n    </tr>\n    <tr>\n      <th>b3357</th>\n      <td>b3357</td>\n      <td>target, regulator</td>\n      <td>output</td>\n      <td>1.000000e+00</td>\n      <td>NaN</td>\n      <td>NaN</td>\n      <td>NaN</td>\n      <td>NaN</td>\n      <td>NaN</td>\n    </tr>\n    <tr>\n      <th>b3386</th>\n      <td>b3386</td>\n      <td>target, gene</td>\n      <td>output</td>\n      <td>1.000000e+00</td>\n      <td>NaN</td>\n      <td>NaN</td>\n      <td>NaN</td>\n      <td>NaN</td>\n      <td>NaN</td>\n    </tr>\n    <tr>\n      <th>b3403</th>\n      <td>b3403</td>\n      <td>target, gene</td>\n      <td>output</td>\n      <td>1.000000e+00</td>\n      <td>NaN</td>\n      <td>NaN</td>\n      <td>NaN</td>\n      <td>NaN</td>\n      <td>NaN</td>\n    </tr>\n    <tr>\n      <th>b3493</th>\n      <td>b3493</td>\n      <td>target, gene</td>\n      <td>output</td>\n      <td>1.000000e+00</td>\n      <td>NaN</td>\n      <td>NaN</td>\n      <td>NaN</td>\n      <td>NaN</td>\n      <td>NaN</td>\n    </tr>\n    <tr>\n      <th>b3528</th>\n      <td>b3528</td>\n      <td>target, gene</td>\n      <td>output</td>\n      <td>1.000000e+00</td>\n      <td>NaN</td>\n      <td>NaN</td>\n      <td>NaN</td>\n      <td>NaN</td>\n      <td>NaN</td>\n    </tr>\n    <tr>\n      <th>b3603</th>\n      <td>b3603</td>\n      <td>target, gene</td>\n      <td>output</td>\n      <td>1.000000e+00</td>\n      <td>NaN</td>\n      <td>NaN</td>\n      <td>NaN</td>\n      <td>NaN</td>\n      <td>NaN</td>\n    </tr>\n    <tr>\n      <th>b3612</th>\n      <td>b3612</td>\n      <td>target, gene</td>\n      <td>output</td>\n      <td>1.000000e+00</td>\n      <td>NaN</td>\n      <td>NaN</td>\n      <td>NaN</td>\n      <td>NaN</td>\n      <td>NaN</td>\n    </tr>\n    <tr>\n      <th>b3731</th>\n      <td>b3731</td>\n      <td>target, gene</td>\n      <td>output</td>\n      <td>1.000000e+00</td>\n      <td>NaN</td>\n      <td>NaN</td>\n      <td>NaN</td>\n      <td>NaN</td>\n      <td>NaN</td>\n    </tr>\n    <tr>\n      <th>b3732</th>\n      <td>b3732</td>\n      <td>target, gene</td>\n      <td>output</td>\n      <td>1.000000e+00</td>\n      <td>NaN</td>\n      <td>NaN</td>\n      <td>NaN</td>\n      <td>NaN</td>\n      <td>NaN</td>\n    </tr>\n    <tr>\n      <th>b3733</th>\n      <td>b3733</td>\n      <td>target, gene</td>\n      <td>output</td>\n      <td>1.000000e+00</td>\n      <td>NaN</td>\n      <td>NaN</td>\n      <td>NaN</td>\n      <td>NaN</td>\n      <td>NaN</td>\n    </tr>\n    <tr>\n      <th>b3734</th>\n      <td>b3734</td>\n      <td>target, gene</td>\n      <td>output</td>\n      <td>1.000000e+00</td>\n      <td>NaN</td>\n      <td>NaN</td>\n      <td>NaN</td>\n      <td>NaN</td>\n      <td>NaN</td>\n    </tr>\n    <tr>\n      <th>b3735</th>\n      <td>b3735</td>\n      <td>target, gene</td>\n      <td>output</td>\n      <td>1.000000e+00</td>\n      <td>NaN</td>\n      <td>NaN</td>\n      <td>NaN</td>\n      <td>NaN</td>\n      <td>NaN</td>\n    </tr>\n    <tr>\n      <th>b3736</th>\n      <td>b3736</td>\n      <td>target, gene</td>\n      <td>output</td>\n      <td>1.000000e+00</td>\n      <td>NaN</td>\n      <td>NaN</td>\n      <td>NaN</td>\n      <td>NaN</td>\n      <td>NaN</td>\n    </tr>\n    <tr>\n      <th>b3737</th>\n      <td>b3737</td>\n      <td>target, gene</td>\n      <td>output</td>\n      <td>1.000000e+00</td>\n      <td>NaN</td>\n      <td>NaN</td>\n      <td>NaN</td>\n      <td>NaN</td>\n      <td>NaN</td>\n    </tr>\n    <tr>\n      <th>b3738</th>\n      <td>b3738</td>\n      <td>target, gene</td>\n      <td>output</td>\n      <td>1.000000e+00</td>\n      <td>NaN</td>\n      <td>NaN</td>\n      <td>NaN</td>\n      <td>NaN</td>\n      <td>NaN</td>\n    </tr>\n    <tr>\n      <th>b3739</th>\n      <td>b3739</td>\n      <td>target, gene</td>\n      <td>output</td>\n      <td>1.000000e+00</td>\n      <td>NaN</td>\n      <td>NaN</td>\n      <td>NaN</td>\n      <td>NaN</td>\n      <td>NaN</td>\n    </tr>\n    <tr>\n      <th>b3868</th>\n      <td>b3868</td>\n      <td>target, regulator</td>\n      <td>output</td>\n      <td>0.000000e+00</td>\n      <td>NaN</td>\n      <td>NaN</td>\n      <td>NaN</td>\n      <td>NaN</td>\n      <td>NaN</td>\n    </tr>\n    <tr>\n      <th>b3870</th>\n      <td>b3870</td>\n      <td>target, gene</td>\n      <td>output</td>\n      <td>1.000000e+00</td>\n      <td>NaN</td>\n      <td>NaN</td>\n      <td>NaN</td>\n      <td>NaN</td>\n      <td>NaN</td>\n    </tr>\n    <tr>\n      <th>b3916</th>\n      <td>b3916</td>\n      <td>target, gene</td>\n      <td>output</td>\n      <td>1.000000e+00</td>\n      <td>NaN</td>\n      <td>NaN</td>\n      <td>NaN</td>\n      <td>NaN</td>\n      <td>NaN</td>\n    </tr>\n    <tr>\n      <th>b3919</th>\n      <td>b3919</td>\n      <td>target, gene</td>\n      <td>output</td>\n      <td>1.000000e+00</td>\n      <td>NaN</td>\n      <td>NaN</td>\n      <td>NaN</td>\n      <td>NaN</td>\n      <td>NaN</td>\n    </tr>\n    <tr>\n      <th>b3925</th>\n      <td>b3925</td>\n      <td>target, gene</td>\n      <td>output</td>\n      <td>1.000000e+00</td>\n      <td>NaN</td>\n      <td>NaN</td>\n      <td>NaN</td>\n      <td>NaN</td>\n      <td>NaN</td>\n    </tr>\n    <tr>\n      <th>b3951</th>\n      <td>b3951</td>\n      <td>target, gene</td>\n      <td>output</td>\n      <td>0.000000e+00</td>\n      <td>NaN</td>\n      <td>NaN</td>\n      <td>NaN</td>\n      <td>NaN</td>\n      <td>NaN</td>\n    </tr>\n    <tr>\n      <th>b3952</th>\n      <td>b3952</td>\n      <td>target, gene</td>\n      <td>output</td>\n      <td>0.000000e+00</td>\n      <td>NaN</td>\n      <td>NaN</td>\n      <td>NaN</td>\n      <td>NaN</td>\n      <td>NaN</td>\n    </tr>\n    <tr>\n      <th>b3956</th>\n      <td>b3956</td>\n      <td>target, gene</td>\n      <td>output</td>\n      <td>1.000000e+00</td>\n      <td>NaN</td>\n      <td>NaN</td>\n      <td>NaN</td>\n      <td>NaN</td>\n      <td>NaN</td>\n    </tr>\n    <tr>\n      <th>b3962</th>\n      <td>b3962</td>\n      <td>target, gene</td>\n      <td>output</td>\n      <td>1.000000e+00</td>\n      <td>NaN</td>\n      <td>NaN</td>\n      <td>NaN</td>\n      <td>NaN</td>\n      <td>NaN</td>\n    </tr>\n    <tr>\n      <th>b4014</th>\n      <td>b4014</td>\n      <td>target, gene</td>\n      <td>output</td>\n      <td>0.000000e+00</td>\n      <td>NaN</td>\n      <td>NaN</td>\n      <td>NaN</td>\n      <td>NaN</td>\n      <td>NaN</td>\n    </tr>\n    <tr>\n      <th>b4015</th>\n      <td>b4015</td>\n      <td>target, gene</td>\n      <td>output</td>\n      <td>0.000000e+00</td>\n      <td>NaN</td>\n      <td>NaN</td>\n      <td>NaN</td>\n      <td>NaN</td>\n      <td>NaN</td>\n    </tr>\n    <tr>\n      <th>b4018</th>\n      <td>b4018</td>\n      <td>target, regulator</td>\n      <td>output</td>\n      <td>1.000000e+00</td>\n      <td>NaN</td>\n      <td>NaN</td>\n      <td>NaN</td>\n      <td>NaN</td>\n      <td>NaN</td>\n    </tr>\n    <tr>\n      <th>b4025</th>\n      <td>b4025</td>\n      <td>target, gene</td>\n      <td>output</td>\n      <td>1.000000e+00</td>\n      <td>NaN</td>\n      <td>NaN</td>\n      <td>NaN</td>\n      <td>NaN</td>\n      <td>NaN</td>\n    </tr>\n    <tr>\n      <th>b4077</th>\n      <td>b4077</td>\n      <td>target, gene</td>\n      <td>output</td>\n      <td>1.000000e+00</td>\n      <td>NaN</td>\n      <td>NaN</td>\n      <td>NaN</td>\n      <td>NaN</td>\n      <td>NaN</td>\n    </tr>\n    <tr>\n      <th>b4090</th>\n      <td>b4090</td>\n      <td>target, gene</td>\n      <td>output</td>\n      <td>1.000000e+00</td>\n      <td>NaN</td>\n      <td>NaN</td>\n      <td>NaN</td>\n      <td>NaN</td>\n      <td>NaN</td>\n    </tr>\n    <tr>\n      <th>b4122</th>\n      <td>b4122</td>\n      <td>target, gene</td>\n      <td>output</td>\n      <td>1.000000e+00</td>\n      <td>NaN</td>\n      <td>NaN</td>\n      <td>NaN</td>\n      <td>NaN</td>\n      <td>NaN</td>\n    </tr>\n    <tr>\n      <th>b4124</th>\n      <td>b4124</td>\n      <td>target, regulator</td>\n      <td>output</td>\n      <td>1.000000e+00</td>\n      <td>NaN</td>\n      <td>NaN</td>\n      <td>NaN</td>\n      <td>NaN</td>\n      <td>NaN</td>\n    </tr>\n    <tr>\n      <th>b4125</th>\n      <td>b4125</td>\n      <td>target, regulator</td>\n      <td>output</td>\n      <td>1.000000e+00</td>\n      <td>NaN</td>\n      <td>NaN</td>\n      <td>NaN</td>\n      <td>NaN</td>\n      <td>NaN</td>\n    </tr>\n    <tr>\n      <th>b4151</th>\n      <td>b4151</td>\n      <td>target, gene</td>\n      <td>output</td>\n      <td>1.000000e+00</td>\n      <td>NaN</td>\n      <td>NaN</td>\n      <td>NaN</td>\n      <td>NaN</td>\n      <td>NaN</td>\n    </tr>\n    <tr>\n      <th>b4152</th>\n      <td>b4152</td>\n      <td>target, gene</td>\n      <td>output</td>\n      <td>1.000000e+00</td>\n      <td>NaN</td>\n      <td>NaN</td>\n      <td>NaN</td>\n      <td>NaN</td>\n      <td>NaN</td>\n    </tr>\n    <tr>\n      <th>b4153</th>\n      <td>b4153</td>\n      <td>target, gene</td>\n      <td>output</td>\n      <td>1.000000e+00</td>\n      <td>NaN</td>\n      <td>NaN</td>\n      <td>NaN</td>\n      <td>NaN</td>\n      <td>NaN</td>\n    </tr>\n    <tr>\n      <th>b4154</th>\n      <td>b4154</td>\n      <td>target, gene</td>\n      <td>output</td>\n      <td>1.000000e+00</td>\n      <td>NaN</td>\n      <td>NaN</td>\n      <td>NaN</td>\n      <td>NaN</td>\n      <td>NaN</td>\n    </tr>\n    <tr>\n      <th>b4232</th>\n      <td>b4232</td>\n      <td>target, gene</td>\n      <td>output</td>\n      <td>1.000000e+00</td>\n      <td>NaN</td>\n      <td>NaN</td>\n      <td>NaN</td>\n      <td>NaN</td>\n      <td>NaN</td>\n    </tr>\n    <tr>\n      <th>b4301</th>\n      <td>b4301</td>\n      <td>target, gene</td>\n      <td>output</td>\n      <td>1.000000e+00</td>\n      <td>NaN</td>\n      <td>NaN</td>\n      <td>NaN</td>\n      <td>NaN</td>\n      <td>NaN</td>\n    </tr>\n    <tr>\n      <th>b4395</th>\n      <td>b4395</td>\n      <td>target, gene</td>\n      <td>output</td>\n      <td>1.000000e+00</td>\n      <td>NaN</td>\n      <td>NaN</td>\n      <td>NaN</td>\n      <td>NaN</td>\n      <td>NaN</td>\n    </tr>\n    <tr>\n      <th>b4401</th>\n      <td>b4401</td>\n      <td>target, regulator</td>\n      <td>output</td>\n      <td>0.000000e+00</td>\n      <td>NaN</td>\n      <td>NaN</td>\n      <td>NaN</td>\n      <td>NaN</td>\n      <td>NaN</td>\n    </tr>\n    <tr>\n      <th>s0001</th>\n      <td>s0001</td>\n      <td>target, gene</td>\n      <td>output</td>\n      <td>1.000000e+00</td>\n      <td>NaN</td>\n      <td>NaN</td>\n      <td>NaN</td>\n      <td>NaN</td>\n      <td>NaN</td>\n    </tr>\n    <tr>\n      <th>CRPnoGLC</th>\n      <td>CRPnoGLC</td>\n      <td>target, regulator</td>\n      <td>output</td>\n      <td>1.000000e+00</td>\n      <td>NaN</td>\n      <td>NaN</td>\n      <td>NaN</td>\n      <td>NaN</td>\n      <td>NaN</td>\n    </tr>\n    <tr>\n      <th>CRPnoGLM</th>\n      <td>CRPnoGLM</td>\n      <td>target, regulator</td>\n      <td>output</td>\n      <td>1.000000e+00</td>\n      <td>NaN</td>\n      <td>NaN</td>\n      <td>NaN</td>\n      <td>NaN</td>\n      <td>NaN</td>\n    </tr>\n    <tr>\n      <th>NRI_hi</th>\n      <td>NRI_hi</td>\n      <td>target, regulator</td>\n      <td>output</td>\n      <td>0.000000e+00</td>\n      <td>NaN</td>\n      <td>NaN</td>\n      <td>NaN</td>\n      <td>NaN</td>\n      <td>NaN</td>\n    </tr>\n    <tr>\n      <th>NRI_low</th>\n      <td>NRI_low</td>\n      <td>target, regulator</td>\n      <td>output</td>\n      <td>-0.000000e+00</td>\n      <td>NaN</td>\n      <td>NaN</td>\n      <td>NaN</td>\n      <td>NaN</td>\n      <td>NaN</td>\n    </tr>\n    <tr>\n      <th>surplusFDP</th>\n      <td>surplusFDP</td>\n      <td>target, regulator</td>\n      <td>output</td>\n      <td>0.000000e+00</td>\n      <td>NaN</td>\n      <td>NaN</td>\n      <td>NaN</td>\n      <td>NaN</td>\n      <td>NaN</td>\n    </tr>\n    <tr>\n      <th>surplusPYR</th>\n      <td>surplusPYR</td>\n      <td>target, regulator</td>\n      <td>output</td>\n      <td>0.000000e+00</td>\n      <td>NaN</td>\n      <td>NaN</td>\n      <td>NaN</td>\n      <td>NaN</td>\n      <td>NaN</td>\n    </tr>\n    <tr>\n      <th>EX_co2_e</th>\n      <td>NaN</td>\n      <td>NaN</td>\n      <td>NaN</td>\n      <td>NaN</td>\n      <td>EX_co2_e</td>\n      <td>reaction</td>\n      <td>co2_e</td>\n      <td>output</td>\n      <td>22.809833</td>\n    </tr>\n    <tr>\n      <th>EX_glc__D_e</th>\n      <td>NaN</td>\n      <td>NaN</td>\n      <td>NaN</td>\n      <td>NaN</td>\n      <td>EX_glc__D_e</td>\n      <td>reaction</td>\n      <td>glc__D_e</td>\n      <td>input</td>\n      <td>-10.000000</td>\n    </tr>\n    <tr>\n      <th>EX_h_e</th>\n      <td>NaN</td>\n      <td>NaN</td>\n      <td>NaN</td>\n      <td>NaN</td>\n      <td>EX_h_e</td>\n      <td>reaction</td>\n      <td>h_e</td>\n      <td>output</td>\n      <td>17.530865</td>\n    </tr>\n    <tr>\n      <th>EX_h2o_e</th>\n      <td>NaN</td>\n      <td>NaN</td>\n      <td>NaN</td>\n      <td>NaN</td>\n      <td>EX_h2o_e</td>\n      <td>reaction</td>\n      <td>h2o_e</td>\n      <td>output</td>\n      <td>29.175827</td>\n    </tr>\n    <tr>\n      <th>EX_nh4_e</th>\n      <td>NaN</td>\n      <td>NaN</td>\n      <td>NaN</td>\n      <td>NaN</td>\n      <td>EX_nh4_e</td>\n      <td>reaction</td>\n      <td>nh4_e</td>\n      <td>input</td>\n      <td>-4.765319</td>\n    </tr>\n    <tr>\n      <th>EX_o2_e</th>\n      <td>NaN</td>\n      <td>NaN</td>\n      <td>NaN</td>\n      <td>NaN</td>\n      <td>EX_o2_e</td>\n      <td>reaction</td>\n      <td>o2_e</td>\n      <td>input</td>\n      <td>-21.799493</td>\n    </tr>\n    <tr>\n      <th>EX_pi_e</th>\n      <td>NaN</td>\n      <td>NaN</td>\n      <td>NaN</td>\n      <td>NaN</td>\n      <td>EX_pi_e</td>\n      <td>reaction</td>\n      <td>pi_e</td>\n      <td>input</td>\n      <td>-3.214895</td>\n    </tr>\n  </tbody>\n</table>"
     },
     "execution_count": 22,
     "metadata": {},
     "output_type": "execute_result"
    }
   ],
   "source": [
    "# a solution can be converted into a summary solution\n",
    "summary = solution.to_summary()\n",
    "summary"
   ],
   "metadata": {
    "collapsed": false
   }
  },
  {
   "cell_type": "code",
   "execution_count": 28,
   "outputs": [
    {
     "data": {
      "text/plain": "                            regulatory                              \\\n                   regulatory variable        variable type   role   \nBiomass_Ecoli_core  Biomass_Ecoli_core  reaction, regulator  input   \nFBP                                FBP  reaction, regulator  input   \nGLCpts                          GLCpts  reaction, regulator  input   \nLDH_D                            LDH_D  reaction, regulator  input   \nME1                                ME1  reaction, regulator  input   \n...                                ...                  ...    ...   \nEX_h_e                             NaN                  NaN    NaN   \nEX_h2o_e                           NaN                  NaN    NaN   \nEX_nh4_e                           NaN                  NaN    NaN   \nEX_o2_e                            NaN                  NaN    NaN   \nEX_pi_e                            NaN                  NaN    NaN   \n\n                                          metabolic                           \\\n                   expression coefficient  reaction variable type metabolite   \nBiomass_Ecoli_core           8.739215e-01       NaN           NaN        NaN   \nFBP                          0.000000e+00       NaN           NaN        NaN   \nGLCpts                       1.000000e+01       NaN           NaN        NaN   \nLDH_D                        2.273737e-13       NaN           NaN        NaN   \nME1                          0.000000e+00       NaN           NaN        NaN   \n...                                   ...       ...           ...        ...   \nEX_h_e                                NaN    EX_h_e      reaction        h_e   \nEX_h2o_e                              NaN  EX_h2o_e      reaction      h2o_e   \nEX_nh4_e                              NaN  EX_nh4_e      reaction      nh4_e   \nEX_o2_e                               NaN   EX_o2_e      reaction       o2_e   \nEX_pi_e                               NaN   EX_pi_e      reaction       pi_e   \n\n                                       \n                      role       flux  \nBiomass_Ecoli_core     NaN        NaN  \nFBP                    NaN        NaN  \nGLCpts                 NaN        NaN  \nLDH_D                  NaN        NaN  \nME1                    NaN        NaN  \n...                    ...        ...  \nEX_h_e              output  17.530865  \nEX_h2o_e            output  29.175827  \nEX_nh4_e             input  -4.765319  \nEX_o2_e              input -21.799493  \nEX_pi_e              input  -3.214895  \n\n[189 rows x 9 columns]",
      "text/html": "<div>\n<style scoped>\n    .dataframe tbody tr th:only-of-type {\n        vertical-align: middle;\n    }\n\n    .dataframe tbody tr th {\n        vertical-align: top;\n    }\n\n    .dataframe thead tr th {\n        text-align: left;\n    }\n</style>\n<table border=\"1\" class=\"dataframe\">\n  <thead>\n    <tr>\n      <th></th>\n      <th colspan=\"4\" halign=\"left\">regulatory</th>\n      <th colspan=\"5\" halign=\"left\">metabolic</th>\n    </tr>\n    <tr>\n      <th></th>\n      <th>regulatory variable</th>\n      <th>variable type</th>\n      <th>role</th>\n      <th>expression coefficient</th>\n      <th>reaction</th>\n      <th>variable type</th>\n      <th>metabolite</th>\n      <th>role</th>\n      <th>flux</th>\n    </tr>\n  </thead>\n  <tbody>\n    <tr>\n      <th>Biomass_Ecoli_core</th>\n      <td>Biomass_Ecoli_core</td>\n      <td>reaction, regulator</td>\n      <td>input</td>\n      <td>8.739215e-01</td>\n      <td>NaN</td>\n      <td>NaN</td>\n      <td>NaN</td>\n      <td>NaN</td>\n      <td>NaN</td>\n    </tr>\n    <tr>\n      <th>FBP</th>\n      <td>FBP</td>\n      <td>reaction, regulator</td>\n      <td>input</td>\n      <td>0.000000e+00</td>\n      <td>NaN</td>\n      <td>NaN</td>\n      <td>NaN</td>\n      <td>NaN</td>\n      <td>NaN</td>\n    </tr>\n    <tr>\n      <th>GLCpts</th>\n      <td>GLCpts</td>\n      <td>reaction, regulator</td>\n      <td>input</td>\n      <td>1.000000e+01</td>\n      <td>NaN</td>\n      <td>NaN</td>\n      <td>NaN</td>\n      <td>NaN</td>\n      <td>NaN</td>\n    </tr>\n    <tr>\n      <th>LDH_D</th>\n      <td>LDH_D</td>\n      <td>reaction, regulator</td>\n      <td>input</td>\n      <td>2.273737e-13</td>\n      <td>NaN</td>\n      <td>NaN</td>\n      <td>NaN</td>\n      <td>NaN</td>\n      <td>NaN</td>\n    </tr>\n    <tr>\n      <th>ME1</th>\n      <td>ME1</td>\n      <td>reaction, regulator</td>\n      <td>input</td>\n      <td>0.000000e+00</td>\n      <td>NaN</td>\n      <td>NaN</td>\n      <td>NaN</td>\n      <td>NaN</td>\n      <td>NaN</td>\n    </tr>\n    <tr>\n      <th>...</th>\n      <td>...</td>\n      <td>...</td>\n      <td>...</td>\n      <td>...</td>\n      <td>...</td>\n      <td>...</td>\n      <td>...</td>\n      <td>...</td>\n      <td>...</td>\n    </tr>\n    <tr>\n      <th>EX_h_e</th>\n      <td>NaN</td>\n      <td>NaN</td>\n      <td>NaN</td>\n      <td>NaN</td>\n      <td>EX_h_e</td>\n      <td>reaction</td>\n      <td>h_e</td>\n      <td>output</td>\n      <td>17.530865</td>\n    </tr>\n    <tr>\n      <th>EX_h2o_e</th>\n      <td>NaN</td>\n      <td>NaN</td>\n      <td>NaN</td>\n      <td>NaN</td>\n      <td>EX_h2o_e</td>\n      <td>reaction</td>\n      <td>h2o_e</td>\n      <td>output</td>\n      <td>29.175827</td>\n    </tr>\n    <tr>\n      <th>EX_nh4_e</th>\n      <td>NaN</td>\n      <td>NaN</td>\n      <td>NaN</td>\n      <td>NaN</td>\n      <td>EX_nh4_e</td>\n      <td>reaction</td>\n      <td>nh4_e</td>\n      <td>input</td>\n      <td>-4.765319</td>\n    </tr>\n    <tr>\n      <th>EX_o2_e</th>\n      <td>NaN</td>\n      <td>NaN</td>\n      <td>NaN</td>\n      <td>NaN</td>\n      <td>EX_o2_e</td>\n      <td>reaction</td>\n      <td>o2_e</td>\n      <td>input</td>\n      <td>-21.799493</td>\n    </tr>\n    <tr>\n      <th>EX_pi_e</th>\n      <td>NaN</td>\n      <td>NaN</td>\n      <td>NaN</td>\n      <td>NaN</td>\n      <td>EX_pi_e</td>\n      <td>reaction</td>\n      <td>pi_e</td>\n      <td>input</td>\n      <td>-3.214895</td>\n    </tr>\n  </tbody>\n</table>\n<p>189 rows × 9 columns</p>\n</div>"
     },
     "execution_count": 28,
     "metadata": {},
     "output_type": "execute_result"
    }
   ],
   "source": [
    "# inputs + outputs of the metabolic-regulatory variables\n",
    "summary.df"
   ],
   "metadata": {
    "collapsed": false
   }
  },
  {
   "cell_type": "code",
   "execution_count": 23,
   "outputs": [
    {
     "data": {
      "text/plain": "                reaction variable type metabolite    role       flux\nEX_co2_e        EX_co2_e      reaction      co2_e  output  22.809833\nEX_glc__D_e  EX_glc__D_e      reaction   glc__D_e   input -10.000000\nEX_h_e            EX_h_e      reaction        h_e  output  17.530865\nEX_h2o_e        EX_h2o_e      reaction      h2o_e  output  29.175827\nEX_nh4_e        EX_nh4_e      reaction      nh4_e   input  -4.765319\nEX_o2_e          EX_o2_e      reaction       o2_e   input -21.799493\nEX_pi_e          EX_pi_e      reaction       pi_e   input  -3.214895",
      "text/html": "<div>\n<style scoped>\n    .dataframe tbody tr th:only-of-type {\n        vertical-align: middle;\n    }\n\n    .dataframe tbody tr th {\n        vertical-align: top;\n    }\n\n    .dataframe thead th {\n        text-align: right;\n    }\n</style>\n<table border=\"1\" class=\"dataframe\">\n  <thead>\n    <tr style=\"text-align: right;\">\n      <th></th>\n      <th>reaction</th>\n      <th>variable type</th>\n      <th>metabolite</th>\n      <th>role</th>\n      <th>flux</th>\n    </tr>\n  </thead>\n  <tbody>\n    <tr>\n      <th>EX_co2_e</th>\n      <td>EX_co2_e</td>\n      <td>reaction</td>\n      <td>co2_e</td>\n      <td>output</td>\n      <td>22.809833</td>\n    </tr>\n    <tr>\n      <th>EX_glc__D_e</th>\n      <td>EX_glc__D_e</td>\n      <td>reaction</td>\n      <td>glc__D_e</td>\n      <td>input</td>\n      <td>-10.000000</td>\n    </tr>\n    <tr>\n      <th>EX_h_e</th>\n      <td>EX_h_e</td>\n      <td>reaction</td>\n      <td>h_e</td>\n      <td>output</td>\n      <td>17.530865</td>\n    </tr>\n    <tr>\n      <th>EX_h2o_e</th>\n      <td>EX_h2o_e</td>\n      <td>reaction</td>\n      <td>h2o_e</td>\n      <td>output</td>\n      <td>29.175827</td>\n    </tr>\n    <tr>\n      <th>EX_nh4_e</th>\n      <td>EX_nh4_e</td>\n      <td>reaction</td>\n      <td>nh4_e</td>\n      <td>input</td>\n      <td>-4.765319</td>\n    </tr>\n    <tr>\n      <th>EX_o2_e</th>\n      <td>EX_o2_e</td>\n      <td>reaction</td>\n      <td>o2_e</td>\n      <td>input</td>\n      <td>-21.799493</td>\n    </tr>\n    <tr>\n      <th>EX_pi_e</th>\n      <td>EX_pi_e</td>\n      <td>reaction</td>\n      <td>pi_e</td>\n      <td>input</td>\n      <td>-3.214895</td>\n    </tr>\n  </tbody>\n</table>\n</div>"
     },
     "execution_count": 23,
     "metadata": {},
     "output_type": "execute_result"
    }
   ],
   "source": [
    "# values of the metabolic variables\n",
    "summary.metabolic"
   ],
   "metadata": {
    "collapsed": false
   }
  },
  {
   "cell_type": "code",
   "execution_count": 24,
   "outputs": [
    {
     "data": {
      "text/plain": "                   regulatory variable        variable type    role  \\\nBiomass_Ecoli_core  Biomass_Ecoli_core  reaction, regulator   input   \nFBP                                FBP  reaction, regulator   input   \nGLCpts                          GLCpts  reaction, regulator   input   \nLDH_D                            LDH_D  reaction, regulator   input   \nME1                                ME1  reaction, regulator   input   \n...                                ...                  ...     ...   \nCRPnoGLM                      CRPnoGLM    target, regulator  output   \nNRI_hi                          NRI_hi    target, regulator  output   \nNRI_low                        NRI_low    target, regulator  output   \nsurplusFDP                  surplusFDP    target, regulator  output   \nsurplusPYR                  surplusPYR    target, regulator  output   \n\n                    expression coefficient  \nBiomass_Ecoli_core            8.739215e-01  \nFBP                           0.000000e+00  \nGLCpts                        1.000000e+01  \nLDH_D                         2.273737e-13  \nME1                           0.000000e+00  \n...                                    ...  \nCRPnoGLM                      1.000000e+00  \nNRI_hi                        0.000000e+00  \nNRI_low                      -0.000000e+00  \nsurplusFDP                    0.000000e+00  \nsurplusPYR                    0.000000e+00  \n\n[182 rows x 4 columns]",
      "text/html": "<div>\n<style scoped>\n    .dataframe tbody tr th:only-of-type {\n        vertical-align: middle;\n    }\n\n    .dataframe tbody tr th {\n        vertical-align: top;\n    }\n\n    .dataframe thead th {\n        text-align: right;\n    }\n</style>\n<table border=\"1\" class=\"dataframe\">\n  <thead>\n    <tr style=\"text-align: right;\">\n      <th></th>\n      <th>regulatory variable</th>\n      <th>variable type</th>\n      <th>role</th>\n      <th>expression coefficient</th>\n    </tr>\n  </thead>\n  <tbody>\n    <tr>\n      <th>Biomass_Ecoli_core</th>\n      <td>Biomass_Ecoli_core</td>\n      <td>reaction, regulator</td>\n      <td>input</td>\n      <td>8.739215e-01</td>\n    </tr>\n    <tr>\n      <th>FBP</th>\n      <td>FBP</td>\n      <td>reaction, regulator</td>\n      <td>input</td>\n      <td>0.000000e+00</td>\n    </tr>\n    <tr>\n      <th>GLCpts</th>\n      <td>GLCpts</td>\n      <td>reaction, regulator</td>\n      <td>input</td>\n      <td>1.000000e+01</td>\n    </tr>\n    <tr>\n      <th>LDH_D</th>\n      <td>LDH_D</td>\n      <td>reaction, regulator</td>\n      <td>input</td>\n      <td>2.273737e-13</td>\n    </tr>\n    <tr>\n      <th>ME1</th>\n      <td>ME1</td>\n      <td>reaction, regulator</td>\n      <td>input</td>\n      <td>0.000000e+00</td>\n    </tr>\n    <tr>\n      <th>...</th>\n      <td>...</td>\n      <td>...</td>\n      <td>...</td>\n      <td>...</td>\n    </tr>\n    <tr>\n      <th>CRPnoGLM</th>\n      <td>CRPnoGLM</td>\n      <td>target, regulator</td>\n      <td>output</td>\n      <td>1.000000e+00</td>\n    </tr>\n    <tr>\n      <th>NRI_hi</th>\n      <td>NRI_hi</td>\n      <td>target, regulator</td>\n      <td>output</td>\n      <td>0.000000e+00</td>\n    </tr>\n    <tr>\n      <th>NRI_low</th>\n      <td>NRI_low</td>\n      <td>target, regulator</td>\n      <td>output</td>\n      <td>-0.000000e+00</td>\n    </tr>\n    <tr>\n      <th>surplusFDP</th>\n      <td>surplusFDP</td>\n      <td>target, regulator</td>\n      <td>output</td>\n      <td>0.000000e+00</td>\n    </tr>\n    <tr>\n      <th>surplusPYR</th>\n      <td>surplusPYR</td>\n      <td>target, regulator</td>\n      <td>output</td>\n      <td>0.000000e+00</td>\n    </tr>\n  </tbody>\n</table>\n<p>182 rows × 4 columns</p>\n</div>"
     },
     "execution_count": 24,
     "metadata": {},
     "output_type": "execute_result"
    }
   ],
   "source": [
    "# values of the regulatory variables\n",
    "summary.regulatory"
   ],
   "metadata": {
    "collapsed": false
   }
  },
  {
   "cell_type": "code",
   "execution_count": 25,
   "outputs": [
    {
     "data": {
      "text/plain": "                       value direction\nBiomass_Ecoli_core  0.873922  maximize",
      "text/html": "<div>\n<style scoped>\n    .dataframe tbody tr th:only-of-type {\n        vertical-align: middle;\n    }\n\n    .dataframe tbody tr th {\n        vertical-align: top;\n    }\n\n    .dataframe thead th {\n        text-align: right;\n    }\n</style>\n<table border=\"1\" class=\"dataframe\">\n  <thead>\n    <tr style=\"text-align: right;\">\n      <th></th>\n      <th>value</th>\n      <th>direction</th>\n    </tr>\n  </thead>\n  <tbody>\n    <tr>\n      <th>Biomass_Ecoli_core</th>\n      <td>0.873922</td>\n      <td>maximize</td>\n    </tr>\n  </tbody>\n</table>\n</div>"
     },
     "execution_count": 25,
     "metadata": {},
     "output_type": "execute_result"
    }
   ],
   "source": [
    "# objective value\n",
    "summary.objective"
   ],
   "metadata": {
    "collapsed": false
   }
  },
  {
   "cell_type": "code",
   "execution_count": 26,
   "outputs": [
    {
     "data": {
      "text/plain": "                            regulatory                         \\\n                             regulator          variable type   \nBiomass_Ecoli_core  Biomass_Ecoli_core    reaction, regulator   \nFBP                                FBP    reaction, regulator   \nGLCpts                          GLCpts    reaction, regulator   \nLDH_D                            LDH_D    reaction, regulator   \nME1                                ME1    reaction, regulator   \nME2                                ME2    reaction, regulator   \nPFK                                PFK    reaction, regulator   \nPGI                                PGI    reaction, regulator   \nPYK                                PYK    reaction, regulator   \nSUCCt2_2                      SUCCt2_2    reaction, regulator   \nTALA                              TALA    reaction, regulator   \nTKT2                              TKT2    reaction, regulator   \npi_e                              pi_e  metabolite, regulator   \nglc__D_e                      glc__D_e  metabolite, regulator   \nac_e                              ac_e  metabolite, regulator   \no2_e                              o2_e  metabolite, regulator   \nnh4_e                            nh4_e  metabolite, regulator   \nglu__L_e                      glu__L_e  metabolite, regulator   \nsucc_e                          succ_e  metabolite, regulator   \nfum_e                            fum_e  metabolite, regulator   \nmal__L_e                      mal__L_e  metabolite, regulator   \nlac__D_e                      lac__D_e  metabolite, regulator   \nfru_e                            fru_e  metabolite, regulator   \nEX_glc__D_e                        NaN                    NaN   \nEX_nh4_e                           NaN                    NaN   \nEX_o2_e                            NaN                    NaN   \nEX_pi_e                            NaN                    NaN   \n\n                                             metabolic                \\\n                   expression coefficient     reaction variable type   \nBiomass_Ecoli_core           8.739215e-01          NaN           NaN   \nFBP                          0.000000e+00          NaN           NaN   \nGLCpts                       1.000000e+01          NaN           NaN   \nLDH_D                        2.273737e-13          NaN           NaN   \nME1                          0.000000e+00          NaN           NaN   \nME2                          0.000000e+00          NaN           NaN   \nPFK                          7.477382e+00          NaN           NaN   \nPGI                          4.860861e+00          NaN           NaN   \nPYK                          1.758177e+00          NaN           NaN   \nSUCCt2_2                     0.000000e+00          NaN           NaN   \nTALA                         1.496984e+00          NaN           NaN   \nTKT2                         1.181498e+00          NaN           NaN   \npi_e                         1.000000e-10          NaN           NaN   \nglc__D_e                     1.000000e-10          NaN           NaN   \nac_e                         1.000000e-10          NaN           NaN   \no2_e                         1.000000e+00          NaN           NaN   \nnh4_e                        1.000000e+03          NaN           NaN   \nglu__L_e                     1.000000e-10          NaN           NaN   \nsucc_e                       1.000000e+03          NaN           NaN   \nfum_e                        1.000000e-10          NaN           NaN   \nmal__L_e                     1.000000e-10          NaN           NaN   \nlac__D_e                     1.000000e-10          NaN           NaN   \nfru_e                        1.000000e-10          NaN           NaN   \nEX_glc__D_e                           NaN  EX_glc__D_e      reaction   \nEX_nh4_e                              NaN     EX_nh4_e      reaction   \nEX_o2_e                               NaN      EX_o2_e      reaction   \nEX_pi_e                               NaN      EX_pi_e      reaction   \n\n                                          \n                   metabolite       flux  \nBiomass_Ecoli_core        NaN        NaN  \nFBP                       NaN        NaN  \nGLCpts                    NaN        NaN  \nLDH_D                     NaN        NaN  \nME1                       NaN        NaN  \nME2                       NaN        NaN  \nPFK                       NaN        NaN  \nPGI                       NaN        NaN  \nPYK                       NaN        NaN  \nSUCCt2_2                  NaN        NaN  \nTALA                      NaN        NaN  \nTKT2                      NaN        NaN  \npi_e                      NaN        NaN  \nglc__D_e                  NaN        NaN  \nac_e                      NaN        NaN  \no2_e                      NaN        NaN  \nnh4_e                     NaN        NaN  \nglu__L_e                  NaN        NaN  \nsucc_e                    NaN        NaN  \nfum_e                     NaN        NaN  \nmal__L_e                  NaN        NaN  \nlac__D_e                  NaN        NaN  \nfru_e                     NaN        NaN  \nEX_glc__D_e          glc__D_e -10.000000  \nEX_nh4_e                nh4_e  -4.765319  \nEX_o2_e                  o2_e -21.799493  \nEX_pi_e                  pi_e  -3.214895  ",
      "text/html": "<div>\n<style scoped>\n    .dataframe tbody tr th:only-of-type {\n        vertical-align: middle;\n    }\n\n    .dataframe tbody tr th {\n        vertical-align: top;\n    }\n\n    .dataframe thead tr th {\n        text-align: left;\n    }\n</style>\n<table border=\"1\" class=\"dataframe\">\n  <thead>\n    <tr>\n      <th></th>\n      <th colspan=\"3\" halign=\"left\">regulatory</th>\n      <th colspan=\"4\" halign=\"left\">metabolic</th>\n    </tr>\n    <tr>\n      <th></th>\n      <th>regulator</th>\n      <th>variable type</th>\n      <th>expression coefficient</th>\n      <th>reaction</th>\n      <th>variable type</th>\n      <th>metabolite</th>\n      <th>flux</th>\n    </tr>\n  </thead>\n  <tbody>\n    <tr>\n      <th>Biomass_Ecoli_core</th>\n      <td>Biomass_Ecoli_core</td>\n      <td>reaction, regulator</td>\n      <td>8.739215e-01</td>\n      <td>NaN</td>\n      <td>NaN</td>\n      <td>NaN</td>\n      <td>NaN</td>\n    </tr>\n    <tr>\n      <th>FBP</th>\n      <td>FBP</td>\n      <td>reaction, regulator</td>\n      <td>0.000000e+00</td>\n      <td>NaN</td>\n      <td>NaN</td>\n      <td>NaN</td>\n      <td>NaN</td>\n    </tr>\n    <tr>\n      <th>GLCpts</th>\n      <td>GLCpts</td>\n      <td>reaction, regulator</td>\n      <td>1.000000e+01</td>\n      <td>NaN</td>\n      <td>NaN</td>\n      <td>NaN</td>\n      <td>NaN</td>\n    </tr>\n    <tr>\n      <th>LDH_D</th>\n      <td>LDH_D</td>\n      <td>reaction, regulator</td>\n      <td>2.273737e-13</td>\n      <td>NaN</td>\n      <td>NaN</td>\n      <td>NaN</td>\n      <td>NaN</td>\n    </tr>\n    <tr>\n      <th>ME1</th>\n      <td>ME1</td>\n      <td>reaction, regulator</td>\n      <td>0.000000e+00</td>\n      <td>NaN</td>\n      <td>NaN</td>\n      <td>NaN</td>\n      <td>NaN</td>\n    </tr>\n    <tr>\n      <th>ME2</th>\n      <td>ME2</td>\n      <td>reaction, regulator</td>\n      <td>0.000000e+00</td>\n      <td>NaN</td>\n      <td>NaN</td>\n      <td>NaN</td>\n      <td>NaN</td>\n    </tr>\n    <tr>\n      <th>PFK</th>\n      <td>PFK</td>\n      <td>reaction, regulator</td>\n      <td>7.477382e+00</td>\n      <td>NaN</td>\n      <td>NaN</td>\n      <td>NaN</td>\n      <td>NaN</td>\n    </tr>\n    <tr>\n      <th>PGI</th>\n      <td>PGI</td>\n      <td>reaction, regulator</td>\n      <td>4.860861e+00</td>\n      <td>NaN</td>\n      <td>NaN</td>\n      <td>NaN</td>\n      <td>NaN</td>\n    </tr>\n    <tr>\n      <th>PYK</th>\n      <td>PYK</td>\n      <td>reaction, regulator</td>\n      <td>1.758177e+00</td>\n      <td>NaN</td>\n      <td>NaN</td>\n      <td>NaN</td>\n      <td>NaN</td>\n    </tr>\n    <tr>\n      <th>SUCCt2_2</th>\n      <td>SUCCt2_2</td>\n      <td>reaction, regulator</td>\n      <td>0.000000e+00</td>\n      <td>NaN</td>\n      <td>NaN</td>\n      <td>NaN</td>\n      <td>NaN</td>\n    </tr>\n    <tr>\n      <th>TALA</th>\n      <td>TALA</td>\n      <td>reaction, regulator</td>\n      <td>1.496984e+00</td>\n      <td>NaN</td>\n      <td>NaN</td>\n      <td>NaN</td>\n      <td>NaN</td>\n    </tr>\n    <tr>\n      <th>TKT2</th>\n      <td>TKT2</td>\n      <td>reaction, regulator</td>\n      <td>1.181498e+00</td>\n      <td>NaN</td>\n      <td>NaN</td>\n      <td>NaN</td>\n      <td>NaN</td>\n    </tr>\n    <tr>\n      <th>pi_e</th>\n      <td>pi_e</td>\n      <td>metabolite, regulator</td>\n      <td>1.000000e-10</td>\n      <td>NaN</td>\n      <td>NaN</td>\n      <td>NaN</td>\n      <td>NaN</td>\n    </tr>\n    <tr>\n      <th>glc__D_e</th>\n      <td>glc__D_e</td>\n      <td>metabolite, regulator</td>\n      <td>1.000000e-10</td>\n      <td>NaN</td>\n      <td>NaN</td>\n      <td>NaN</td>\n      <td>NaN</td>\n    </tr>\n    <tr>\n      <th>ac_e</th>\n      <td>ac_e</td>\n      <td>metabolite, regulator</td>\n      <td>1.000000e-10</td>\n      <td>NaN</td>\n      <td>NaN</td>\n      <td>NaN</td>\n      <td>NaN</td>\n    </tr>\n    <tr>\n      <th>o2_e</th>\n      <td>o2_e</td>\n      <td>metabolite, regulator</td>\n      <td>1.000000e+00</td>\n      <td>NaN</td>\n      <td>NaN</td>\n      <td>NaN</td>\n      <td>NaN</td>\n    </tr>\n    <tr>\n      <th>nh4_e</th>\n      <td>nh4_e</td>\n      <td>metabolite, regulator</td>\n      <td>1.000000e+03</td>\n      <td>NaN</td>\n      <td>NaN</td>\n      <td>NaN</td>\n      <td>NaN</td>\n    </tr>\n    <tr>\n      <th>glu__L_e</th>\n      <td>glu__L_e</td>\n      <td>metabolite, regulator</td>\n      <td>1.000000e-10</td>\n      <td>NaN</td>\n      <td>NaN</td>\n      <td>NaN</td>\n      <td>NaN</td>\n    </tr>\n    <tr>\n      <th>succ_e</th>\n      <td>succ_e</td>\n      <td>metabolite, regulator</td>\n      <td>1.000000e+03</td>\n      <td>NaN</td>\n      <td>NaN</td>\n      <td>NaN</td>\n      <td>NaN</td>\n    </tr>\n    <tr>\n      <th>fum_e</th>\n      <td>fum_e</td>\n      <td>metabolite, regulator</td>\n      <td>1.000000e-10</td>\n      <td>NaN</td>\n      <td>NaN</td>\n      <td>NaN</td>\n      <td>NaN</td>\n    </tr>\n    <tr>\n      <th>mal__L_e</th>\n      <td>mal__L_e</td>\n      <td>metabolite, regulator</td>\n      <td>1.000000e-10</td>\n      <td>NaN</td>\n      <td>NaN</td>\n      <td>NaN</td>\n      <td>NaN</td>\n    </tr>\n    <tr>\n      <th>lac__D_e</th>\n      <td>lac__D_e</td>\n      <td>metabolite, regulator</td>\n      <td>1.000000e-10</td>\n      <td>NaN</td>\n      <td>NaN</td>\n      <td>NaN</td>\n      <td>NaN</td>\n    </tr>\n    <tr>\n      <th>fru_e</th>\n      <td>fru_e</td>\n      <td>metabolite, regulator</td>\n      <td>1.000000e-10</td>\n      <td>NaN</td>\n      <td>NaN</td>\n      <td>NaN</td>\n      <td>NaN</td>\n    </tr>\n    <tr>\n      <th>EX_glc__D_e</th>\n      <td>NaN</td>\n      <td>NaN</td>\n      <td>NaN</td>\n      <td>EX_glc__D_e</td>\n      <td>reaction</td>\n      <td>glc__D_e</td>\n      <td>-10.000000</td>\n    </tr>\n    <tr>\n      <th>EX_nh4_e</th>\n      <td>NaN</td>\n      <td>NaN</td>\n      <td>NaN</td>\n      <td>EX_nh4_e</td>\n      <td>reaction</td>\n      <td>nh4_e</td>\n      <td>-4.765319</td>\n    </tr>\n    <tr>\n      <th>EX_o2_e</th>\n      <td>NaN</td>\n      <td>NaN</td>\n      <td>NaN</td>\n      <td>EX_o2_e</td>\n      <td>reaction</td>\n      <td>o2_e</td>\n      <td>-21.799493</td>\n    </tr>\n    <tr>\n      <th>EX_pi_e</th>\n      <td>NaN</td>\n      <td>NaN</td>\n      <td>NaN</td>\n      <td>EX_pi_e</td>\n      <td>reaction</td>\n      <td>pi_e</td>\n      <td>-3.214895</td>\n    </tr>\n  </tbody>\n</table>\n</div>"
     },
     "execution_count": 26,
     "metadata": {},
     "output_type": "execute_result"
    }
   ],
   "source": [
    "# values of the metabolic and regulatory inputs\n",
    "summary.inputs"
   ],
   "metadata": {
    "collapsed": false
   }
  },
  {
   "cell_type": "code",
   "execution_count": 27,
   "outputs": [
    {
     "data": {
      "text/plain": "            regulatory                                           metabolic  \\\n                target      variable type expression coefficient  reaction   \nb0008            b0008       target, gene                    1.0       NaN   \nb0080            b0080  target, regulator                    1.0       NaN   \nb0113            b0113  target, regulator                    1.0       NaN   \nb0114            b0114       target, gene                    1.0       NaN   \nb0115            b0115       target, gene                    1.0       NaN   \n...                ...                ...                    ...       ...   \nsurplusFDP  surplusFDP  target, regulator                    0.0       NaN   \nsurplusPYR  surplusPYR  target, regulator                    0.0       NaN   \nEX_co2_e           NaN                NaN                    NaN  EX_co2_e   \nEX_h_e             NaN                NaN                    NaN    EX_h_e   \nEX_h2o_e           NaN                NaN                    NaN  EX_h2o_e   \n\n                                                \n           variable type metabolite       flux  \nb0008                NaN        NaN        NaN  \nb0080                NaN        NaN        NaN  \nb0113                NaN        NaN        NaN  \nb0114                NaN        NaN        NaN  \nb0115                NaN        NaN        NaN  \n...                  ...        ...        ...  \nsurplusFDP           NaN        NaN        NaN  \nsurplusPYR           NaN        NaN        NaN  \nEX_co2_e        reaction      co2_e  22.809833  \nEX_h_e          reaction        h_e  17.530865  \nEX_h2o_e        reaction      h2o_e  29.175827  \n\n[162 rows x 7 columns]",
      "text/html": "<div>\n<style scoped>\n    .dataframe tbody tr th:only-of-type {\n        vertical-align: middle;\n    }\n\n    .dataframe tbody tr th {\n        vertical-align: top;\n    }\n\n    .dataframe thead tr th {\n        text-align: left;\n    }\n</style>\n<table border=\"1\" class=\"dataframe\">\n  <thead>\n    <tr>\n      <th></th>\n      <th colspan=\"3\" halign=\"left\">regulatory</th>\n      <th colspan=\"4\" halign=\"left\">metabolic</th>\n    </tr>\n    <tr>\n      <th></th>\n      <th>target</th>\n      <th>variable type</th>\n      <th>expression coefficient</th>\n      <th>reaction</th>\n      <th>variable type</th>\n      <th>metabolite</th>\n      <th>flux</th>\n    </tr>\n  </thead>\n  <tbody>\n    <tr>\n      <th>b0008</th>\n      <td>b0008</td>\n      <td>target, gene</td>\n      <td>1.0</td>\n      <td>NaN</td>\n      <td>NaN</td>\n      <td>NaN</td>\n      <td>NaN</td>\n    </tr>\n    <tr>\n      <th>b0080</th>\n      <td>b0080</td>\n      <td>target, regulator</td>\n      <td>1.0</td>\n      <td>NaN</td>\n      <td>NaN</td>\n      <td>NaN</td>\n      <td>NaN</td>\n    </tr>\n    <tr>\n      <th>b0113</th>\n      <td>b0113</td>\n      <td>target, regulator</td>\n      <td>1.0</td>\n      <td>NaN</td>\n      <td>NaN</td>\n      <td>NaN</td>\n      <td>NaN</td>\n    </tr>\n    <tr>\n      <th>b0114</th>\n      <td>b0114</td>\n      <td>target, gene</td>\n      <td>1.0</td>\n      <td>NaN</td>\n      <td>NaN</td>\n      <td>NaN</td>\n      <td>NaN</td>\n    </tr>\n    <tr>\n      <th>b0115</th>\n      <td>b0115</td>\n      <td>target, gene</td>\n      <td>1.0</td>\n      <td>NaN</td>\n      <td>NaN</td>\n      <td>NaN</td>\n      <td>NaN</td>\n    </tr>\n    <tr>\n      <th>...</th>\n      <td>...</td>\n      <td>...</td>\n      <td>...</td>\n      <td>...</td>\n      <td>...</td>\n      <td>...</td>\n      <td>...</td>\n    </tr>\n    <tr>\n      <th>surplusFDP</th>\n      <td>surplusFDP</td>\n      <td>target, regulator</td>\n      <td>0.0</td>\n      <td>NaN</td>\n      <td>NaN</td>\n      <td>NaN</td>\n      <td>NaN</td>\n    </tr>\n    <tr>\n      <th>surplusPYR</th>\n      <td>surplusPYR</td>\n      <td>target, regulator</td>\n      <td>0.0</td>\n      <td>NaN</td>\n      <td>NaN</td>\n      <td>NaN</td>\n      <td>NaN</td>\n    </tr>\n    <tr>\n      <th>EX_co2_e</th>\n      <td>NaN</td>\n      <td>NaN</td>\n      <td>NaN</td>\n      <td>EX_co2_e</td>\n      <td>reaction</td>\n      <td>co2_e</td>\n      <td>22.809833</td>\n    </tr>\n    <tr>\n      <th>EX_h_e</th>\n      <td>NaN</td>\n      <td>NaN</td>\n      <td>NaN</td>\n      <td>EX_h_e</td>\n      <td>reaction</td>\n      <td>h_e</td>\n      <td>17.530865</td>\n    </tr>\n    <tr>\n      <th>EX_h2o_e</th>\n      <td>NaN</td>\n      <td>NaN</td>\n      <td>NaN</td>\n      <td>EX_h2o_e</td>\n      <td>reaction</td>\n      <td>h2o_e</td>\n      <td>29.175827</td>\n    </tr>\n  </tbody>\n</table>\n<p>162 rows × 7 columns</p>\n</div>"
     },
     "execution_count": 27,
     "metadata": {},
     "output_type": "execute_result"
    }
   ],
   "source": [
    "# values of the metabolic and regulatory outputs\n",
    "summary.outputs"
   ],
   "metadata": {
    "collapsed": false
   }
  },
  {
   "cell_type": "markdown",
   "source": [
    "## Working with MEW model and phenotype simulation in MEWpy\n",
    "A phenotype simulation method must be initialized with a MEW model. A common workflow to work with MEW models and simulation methods is suggested as follows:\n",
    "1. `model = read_model(reader1, reader2)` - read the model\n",
    "2. `rfba = RFBA(model)` - initialize the simulation method\n",
    "3. `rfba.build()` - build the linear problem\n",
    "4. `solution = rfba.optimize()` - perform the optimization\n",
    "5. `model.reactions['MY_REACTION'].bounds = (0, 0)` - make changes to the model\n",
    "6. `solution = RFBA(model).build().optimize()` - initialize, build and optimize the simulation method\n",
    "\n",
    "In this workflow, _model_ and _rfba_ instances are not connected with each other. Future rfba's optimization will generate the same output even if we make changes to the model. That is, _model_ and _rfba_ are not synchronized and attached to each other.\n",
    "<br>\n",
    "\n",
    "Although building linear problems is considerably fast for most models, there is a second workflow to work with MEW models and simulation methods:\n",
    "1. `model = read_model(reader1, reader2)` - read the model\n",
    "2. `rfba = RFBA(model, attach=True)` - initialize the simulation method and attach it to the model\n",
    "3. `rfba.build()` - build the linear problem\n",
    "4. `solution = rfba.optimize()` - perform the optimization\n",
    "5. `model.reactions['MY_REACTION'].bounds = (0, 0)` - make changes to the model\n",
    "6. `rxn_ko_solution = rfba.optimize()` - perform the optimization again but this time with the reaction deletion"
   ],
   "metadata": {
    "collapsed": false
   }
  },
  {
   "cell_type": "code",
   "execution_count": 30,
   "outputs": [
    {
     "data": {
      "text/plain": "SRFBA Solution",
      "text/html": "\n        <table>\n            <tr>\n                <td>Method</td>\n                <td>SRFBA</td>\n            </tr>\n            <tr>\n                <td>Model</td>\n                <td>Model e_coli_core_trn - model</td>\n            </tr>\n            <tr>\n                <th>Objective</th>\n                <td>Biomass_Ecoli_core</td>\n            </tr>\n            <tr>\n                <th>Objective value</th>\n                <td>0.8739215069684829</td>\n            </tr>\n            <tr>\n                <th>Status</th>\n                <td>optimal</td>\n            </tr>\n        </table>\n        "
     },
     "execution_count": 30,
     "metadata": {},
     "output_type": "execute_result"
    }
   ],
   "source": [
    "# read, build, optimize\n",
    "model = read_model(core_gem_reader, core_trn_reader)\n",
    "srfba = SRFBA(model).build()\n",
    "solution = srfba.optimize()\n",
    "solution"
   ],
   "metadata": {
    "collapsed": false
   }
  },
  {
   "cell_type": "code",
   "execution_count": 38,
   "outputs": [
    {
     "data": {
      "text/plain": "SRFBA Solution",
      "text/html": "\n        <table>\n            <tr>\n                <td>Method</td>\n                <td>SRFBA</td>\n            </tr>\n            <tr>\n                <td>Model</td>\n                <td>Model e_coli_core_trn - model</td>\n            </tr>\n            <tr>\n                <th>Objective</th>\n                <td>Biomass_Ecoli_core</td>\n            </tr>\n            <tr>\n                <th>Objective value</th>\n                <td>0.0</td>\n            </tr>\n            <tr>\n                <th>Status</th>\n                <td>optimal</td>\n            </tr>\n        </table>\n        "
     },
     "execution_count": 38,
     "metadata": {},
     "output_type": "execute_result"
    }
   ],
   "source": [
    "# make changes and then build, optimize\n",
    "model.regulators['b3261'].ko()\n",
    "srfba = SRFBA(model).build()\n",
    "solution = srfba.optimize()\n",
    "solution"
   ],
   "metadata": {
    "collapsed": false
   }
  },
  {
   "cell_type": "code",
   "execution_count": 40,
   "outputs": [
    {
     "name": "stdout",
     "output_type": "stream",
     "text": [
      "Wild-type growth rate 0.8739215069684829\n",
      "KO growth rate 0.0\n"
     ]
    }
   ],
   "source": [
    "# second workflow\n",
    "model = read_model(core_gem_reader, core_trn_reader)\n",
    "srfba = SRFBA(model, attach=True).build()\n",
    "solution = srfba.optimize()\n",
    "print('Wild-type growth rate', solution.objective_value)\n",
    "\n",
    "# applying the knockout\n",
    "model.regulators['b3261'].ko()\n",
    "solution = srfba.optimize()\n",
    "print('KO growth rate', solution.objective_value)"
   ],
   "metadata": {
    "collapsed": false
   }
  },
  {
   "cell_type": "markdown",
   "source": [
    "In addition, one can attach as many simulation methods as needed to a single model instance. This behavior eases the comparison between simulation methods"
   ],
   "metadata": {
    "collapsed": false
   }
  },
  {
   "cell_type": "code",
   "execution_count": 44,
   "outputs": [
    {
     "name": "stdout",
     "output_type": "stream",
     "text": [
      "FBA KO growth rate: 0.8739215069684303\n",
      "pFBA KO sum of fluxes: 93768.8478640836\n",
      "RFBA KO growth rate: 0.0\n",
      "SRFBA KO growth rate: 0.0\n",
      "\n",
      "FBA WT growth rate: 0.8739215069684303\n",
      "pFBA WT sum of fluxes: 93768.8478640836\n",
      "RFBA WT growth rate: 0.0\n",
      "SRFBA WT growth rate: 0.8739215069684829\n"
     ]
    }
   ],
   "source": [
    "# many simulation methods attached\n",
    "model = read_model(core_gem_reader, core_trn_reader)\n",
    "fba = FBA(model, attach=True).build()\n",
    "pfba = pFBA(model, attach=True).build()\n",
    "rfba = RFBA(model, attach=True).build()\n",
    "srfba = SRFBA(model, attach=True).build()\n",
    "\n",
    "# applying the knockout\n",
    "model.regulators['b3261'].ko()\n",
    "\n",
    "print('FBA KO growth rate:', fba.optimize().objective_value)\n",
    "print('pFBA KO sum of fluxes:', pfba.optimize().objective_value)\n",
    "print('RFBA KO growth rate:', rfba.optimize().objective_value)\n",
    "print('SRFBA KO growth rate:', srfba.optimize().objective_value)\n",
    "print()\n",
    "\n",
    "# restore the model\n",
    "model.undo()\n",
    "print('FBA WT growth rate:', fba.optimize().objective_value)\n",
    "print('pFBA WT sum of fluxes:', pfba.optimize().objective_value)\n",
    "print('RFBA WT growth rate:', rfba.optimize().objective_value)\n",
    "print('SRFBA WT growth rate:', srfba.optimize().objective_value)"
   ],
   "metadata": {
    "collapsed": false
   }
  },
  {
   "cell_type": "markdown",
   "source": [
    "## FBA and pFBA\n",
    "\n",
    "MEWpy supports FBA and pFBA simulation methods using MEW models.\n",
    "<br>\n",
    "FBA is a phenotype simulation method based on mass balance constraints retrieved from metabolites and reactions found in a GEM model. FBA is aimed at finding the maximum value for the objective function. As the biomass reaction is often used as objective function, FBA is often used to find the optimal growth rate of an organism. For more details consult: [https://doi.org/10.1038/nbt.1614](https://doi.org/10.1038/nbt.1614). In addition, `mewpy.mew.analysis.FBA` also takes into consideration the coefficients of metabolic genes, thus limiting reactions bounds to the corresponding gene states.\n",
    "<br>\n",
    "pFBA is a phenotype simulation method based on FBA, as this method also finds the optimal growth rate. However, the objective function of pFBA consists of minimizing the total sum of all fluxes, and thus finding the subset of genes and proteins that may contribute to the most efficient metabolic network topology [Lewis _et al_, 2010](https://doi.org/10.1038/msb.2010.47).\n",
    "<br>\n",
    "`FBA` and `pFBA` are both available in the `mewpy.mew.analysis` package. Alternatively, one can use the simple and optimized versions `slim_fba` and `slim_pfba`. Likewise, `FBA` and `pFBA` are available in MEWpy's `Simulator`, which is the common interface to perform simulations using MEW models, COBRApy models, and Reframed models."
   ],
   "metadata": {
    "collapsed": false
   }
  },
  {
   "cell_type": "code",
   "execution_count": 45,
   "outputs": [
    {
     "data": {
      "text/plain": "FBA Solution",
      "text/html": "\n        <table>\n            <tr>\n                <td>Method</td>\n                <td>FBA</td>\n            </tr>\n            <tr>\n                <td>Model</td>\n                <td>Model e_coli_core - model</td>\n            </tr>\n            <tr>\n                <th>Objective</th>\n                <td>Biomass_Ecoli_core</td>\n            </tr>\n            <tr>\n                <th>Objective value</th>\n                <td>0.8739215069684303</td>\n            </tr>\n            <tr>\n                <th>Status</th>\n                <td>optimal</td>\n            </tr>\n        </table>\n        "
     },
     "execution_count": 45,
     "metadata": {},
     "output_type": "execute_result"
    }
   ],
   "source": [
    "# using FBA analysis\n",
    "met_model = read_model(core_gem_reader)\n",
    "FBA(met_model).build().optimize()"
   ],
   "metadata": {
    "collapsed": false
   }
  },
  {
   "cell_type": "code",
   "execution_count": 48,
   "outputs": [
    {
     "data": {
      "text/plain": "0.8739215069684303"
     },
     "execution_count": 48,
     "metadata": {},
     "output_type": "execute_result"
    }
   ],
   "source": [
    "# using slim FBA analysis\n",
    "slim_fba(met_model)"
   ],
   "metadata": {
    "collapsed": false
   }
  },
  {
   "cell_type": "code",
   "execution_count": 51,
   "outputs": [
    {
     "data": {
      "text/plain": "objective: 0.8739215069684303\nStatus: OPTIMAL\nConstraints: OrderedDict()\nMethod:SimulationMethod.FBA"
     },
     "execution_count": 51,
     "metadata": {},
     "output_type": "execute_result"
    }
   ],
   "source": [
    "# using MEWpy simulator\n",
    "from mewpy.simulation import get_simulator\n",
    "simulator = get_simulator(met_model)\n",
    "simulator.simulate()"
   ],
   "metadata": {
    "collapsed": false
   }
  },
  {
   "cell_type": "code",
   "execution_count": 53,
   "outputs": [
    {
     "name": "stdout",
     "output_type": "stream",
     "text": [
      "93768.8478640836\n",
      "93768.8478640836\n",
      "objective: 0.8739215069684303\n",
      "Status: OPTIMAL\n",
      "Constraints: OrderedDict()\n",
      "Method:SimulationMethod.pFBA\n"
     ]
    }
   ],
   "source": [
    "from mewpy.simulation import SimulationMethod\n",
    "\n",
    "# pfba version\n",
    "print(pFBA(met_model).build().optimize().objective_value)\n",
    "print(slim_pfba(met_model))\n",
    "print(simulator.simulate(method=SimulationMethod.pFBA))"
   ],
   "metadata": {
    "collapsed": false
   }
  },
  {
   "cell_type": "markdown",
   "source": [
    "## FVA and Deletions\n",
    "The `mewpy.mew.analysis` package includes the FVA method to inspect the solution space of a GEM model.\n",
    "FVA computes the minimum and maximum possible fluxes of each reaction in a metabolic model. This method can be used to identify reactions limiting cellular growth. This method return a pandas `DataFrame` with the minium and maximum fluxes (columns) for each reaction (index).\n",
    "<br>\n",
    "The `mewpy.mew.analysis` package includes `single_gene_deletion` and `single_reaction_deletion` methods to inspect _in silico_ genetic strategies. These methods perform an FBA phenotype simulation of a single reaction deletion or gene knockout for all reactions and genes in the metabolic model. These methods are faster than iterating through the model reactions or genes using the `ko()` method."
   ],
   "metadata": {
    "collapsed": false
   }
  },
  {
   "cell_type": "code",
   "execution_count": 55,
   "outputs": [
    {
     "data": {
      "text/plain": "             minimum   maximum\nACALD  -7.105427e-15  0.000000\nACALDt  0.000000e+00  0.000000\nACKr    0.000000e+00  0.000000\nACONTa  6.007250e+00  6.007250\nACONTb  6.007250e+00  6.007250\n...              ...       ...\nTALA    1.496984e+00  1.496984\nTHD2    0.000000e+00  0.000000\nTKT1    1.496984e+00  1.496984\nTKT2    1.181498e+00  1.181498\nTPI     7.477382e+00  7.477382\n\n[95 rows x 2 columns]",
      "text/html": "<div>\n<style scoped>\n    .dataframe tbody tr th:only-of-type {\n        vertical-align: middle;\n    }\n\n    .dataframe tbody tr th {\n        vertical-align: top;\n    }\n\n    .dataframe thead th {\n        text-align: right;\n    }\n</style>\n<table border=\"1\" class=\"dataframe\">\n  <thead>\n    <tr style=\"text-align: right;\">\n      <th></th>\n      <th>minimum</th>\n      <th>maximum</th>\n    </tr>\n  </thead>\n  <tbody>\n    <tr>\n      <th>ACALD</th>\n      <td>-7.105427e-15</td>\n      <td>0.000000</td>\n    </tr>\n    <tr>\n      <th>ACALDt</th>\n      <td>0.000000e+00</td>\n      <td>0.000000</td>\n    </tr>\n    <tr>\n      <th>ACKr</th>\n      <td>0.000000e+00</td>\n      <td>0.000000</td>\n    </tr>\n    <tr>\n      <th>ACONTa</th>\n      <td>6.007250e+00</td>\n      <td>6.007250</td>\n    </tr>\n    <tr>\n      <th>ACONTb</th>\n      <td>6.007250e+00</td>\n      <td>6.007250</td>\n    </tr>\n    <tr>\n      <th>...</th>\n      <td>...</td>\n      <td>...</td>\n    </tr>\n    <tr>\n      <th>TALA</th>\n      <td>1.496984e+00</td>\n      <td>1.496984</td>\n    </tr>\n    <tr>\n      <th>THD2</th>\n      <td>0.000000e+00</td>\n      <td>0.000000</td>\n    </tr>\n    <tr>\n      <th>TKT1</th>\n      <td>1.496984e+00</td>\n      <td>1.496984</td>\n    </tr>\n    <tr>\n      <th>TKT2</th>\n      <td>1.181498e+00</td>\n      <td>1.181498</td>\n    </tr>\n    <tr>\n      <th>TPI</th>\n      <td>7.477382e+00</td>\n      <td>7.477382</td>\n    </tr>\n  </tbody>\n</table>\n<p>95 rows × 2 columns</p>\n</div>"
     },
     "execution_count": 55,
     "metadata": {},
     "output_type": "execute_result"
    }
   ],
   "source": [
    "# FVA returns the DataFrame with minium and maximum values of each reaction\n",
    "fva(met_model)"
   ],
   "metadata": {
    "collapsed": false
   }
  },
  {
   "cell_type": "code",
   "execution_count": 57,
   "outputs": [
    {
     "data": {
      "text/plain": "             minimum  maximum\nACALD  -7.105427e-15  0.00000\nACALDt  0.000000e+00  0.00000\nACKr    0.000000e+00  0.00000\nACONTa  6.007250e+00  6.00725\nACONTb  6.007250e+00  6.00725",
      "text/html": "<div>\n<style scoped>\n    .dataframe tbody tr th:only-of-type {\n        vertical-align: middle;\n    }\n\n    .dataframe tbody tr th {\n        vertical-align: top;\n    }\n\n    .dataframe thead th {\n        text-align: right;\n    }\n</style>\n<table border=\"1\" class=\"dataframe\">\n  <thead>\n    <tr style=\"text-align: right;\">\n      <th></th>\n      <th>minimum</th>\n      <th>maximum</th>\n    </tr>\n  </thead>\n  <tbody>\n    <tr>\n      <th>ACALD</th>\n      <td>-7.105427e-15</td>\n      <td>0.00000</td>\n    </tr>\n    <tr>\n      <th>ACALDt</th>\n      <td>0.000000e+00</td>\n      <td>0.00000</td>\n    </tr>\n    <tr>\n      <th>ACKr</th>\n      <td>0.000000e+00</td>\n      <td>0.00000</td>\n    </tr>\n    <tr>\n      <th>ACONTa</th>\n      <td>6.007250e+00</td>\n      <td>6.00725</td>\n    </tr>\n    <tr>\n      <th>ACONTb</th>\n      <td>6.007250e+00</td>\n      <td>6.00725</td>\n    </tr>\n  </tbody>\n</table>\n</div>"
     },
     "execution_count": 57,
     "metadata": {},
     "output_type": "execute_result"
    }
   ],
   "source": [
    "# FVA with the first five reactions only\n",
    "reactions_ids = list(met_model.reactions)[:5]\n",
    "fva(met_model, reactions=reactions_ids)"
   ],
   "metadata": {
    "collapsed": false
   }
  },
  {
   "cell_type": "code",
   "execution_count": 59,
   "outputs": [
    {
     "data": {
      "text/plain": "          growth   status\nACALD   0.873922  Optimal\nACALDt  0.873922  Optimal\nACKr    0.873922  Optimal\nACONTa  0.000000  Optimal\nACONTb  0.000000  Optimal\n...          ...      ...\nTALA    0.864759  Optimal\nTHD2    0.873922  Optimal\nTKT1    0.864759  Optimal\nTKT2    0.866674  Optimal\nTPI     0.704037  Optimal\n\n[95 rows x 2 columns]",
      "text/html": "<div>\n<style scoped>\n    .dataframe tbody tr th:only-of-type {\n        vertical-align: middle;\n    }\n\n    .dataframe tbody tr th {\n        vertical-align: top;\n    }\n\n    .dataframe thead th {\n        text-align: right;\n    }\n</style>\n<table border=\"1\" class=\"dataframe\">\n  <thead>\n    <tr style=\"text-align: right;\">\n      <th></th>\n      <th>growth</th>\n      <th>status</th>\n    </tr>\n  </thead>\n  <tbody>\n    <tr>\n      <th>ACALD</th>\n      <td>0.873922</td>\n      <td>Optimal</td>\n    </tr>\n    <tr>\n      <th>ACALDt</th>\n      <td>0.873922</td>\n      <td>Optimal</td>\n    </tr>\n    <tr>\n      <th>ACKr</th>\n      <td>0.873922</td>\n      <td>Optimal</td>\n    </tr>\n    <tr>\n      <th>ACONTa</th>\n      <td>0.000000</td>\n      <td>Optimal</td>\n    </tr>\n    <tr>\n      <th>ACONTb</th>\n      <td>0.000000</td>\n      <td>Optimal</td>\n    </tr>\n    <tr>\n      <th>...</th>\n      <td>...</td>\n      <td>...</td>\n    </tr>\n    <tr>\n      <th>TALA</th>\n      <td>0.864759</td>\n      <td>Optimal</td>\n    </tr>\n    <tr>\n      <th>THD2</th>\n      <td>0.873922</td>\n      <td>Optimal</td>\n    </tr>\n    <tr>\n      <th>TKT1</th>\n      <td>0.864759</td>\n      <td>Optimal</td>\n    </tr>\n    <tr>\n      <th>TKT2</th>\n      <td>0.866674</td>\n      <td>Optimal</td>\n    </tr>\n    <tr>\n      <th>TPI</th>\n      <td>0.704037</td>\n      <td>Optimal</td>\n    </tr>\n  </tbody>\n</table>\n<p>95 rows × 2 columns</p>\n</div>"
     },
     "execution_count": 59,
     "metadata": {},
     "output_type": "execute_result"
    }
   ],
   "source": [
    "# single reaction deletion\n",
    "single_reaction_deletion(met_model)"
   ],
   "metadata": {
    "collapsed": false
   }
  },
  {
   "cell_type": "code",
   "execution_count": 60,
   "outputs": [
    {
     "data": {
      "text/plain": "         growth   status\nb0351  0.873922  Optimal\nb1241  0.873922  Optimal\ns0001  0.211141  Optimal\nb2296  0.873922  Optimal\nb3115  0.873922  Optimal\n...         ...      ...\nb2464  0.873922  Optimal\nb0008  0.873922  Optimal\nb2935  0.873922  Optimal\nb2465  0.873922  Optimal\nb3919  0.704037  Optimal\n\n[137 rows x 2 columns]",
      "text/html": "<div>\n<style scoped>\n    .dataframe tbody tr th:only-of-type {\n        vertical-align: middle;\n    }\n\n    .dataframe tbody tr th {\n        vertical-align: top;\n    }\n\n    .dataframe thead th {\n        text-align: right;\n    }\n</style>\n<table border=\"1\" class=\"dataframe\">\n  <thead>\n    <tr style=\"text-align: right;\">\n      <th></th>\n      <th>growth</th>\n      <th>status</th>\n    </tr>\n  </thead>\n  <tbody>\n    <tr>\n      <th>b0351</th>\n      <td>0.873922</td>\n      <td>Optimal</td>\n    </tr>\n    <tr>\n      <th>b1241</th>\n      <td>0.873922</td>\n      <td>Optimal</td>\n    </tr>\n    <tr>\n      <th>s0001</th>\n      <td>0.211141</td>\n      <td>Optimal</td>\n    </tr>\n    <tr>\n      <th>b2296</th>\n      <td>0.873922</td>\n      <td>Optimal</td>\n    </tr>\n    <tr>\n      <th>b3115</th>\n      <td>0.873922</td>\n      <td>Optimal</td>\n    </tr>\n    <tr>\n      <th>...</th>\n      <td>...</td>\n      <td>...</td>\n    </tr>\n    <tr>\n      <th>b2464</th>\n      <td>0.873922</td>\n      <td>Optimal</td>\n    </tr>\n    <tr>\n      <th>b0008</th>\n      <td>0.873922</td>\n      <td>Optimal</td>\n    </tr>\n    <tr>\n      <th>b2935</th>\n      <td>0.873922</td>\n      <td>Optimal</td>\n    </tr>\n    <tr>\n      <th>b2465</th>\n      <td>0.873922</td>\n      <td>Optimal</td>\n    </tr>\n    <tr>\n      <th>b3919</th>\n      <td>0.704037</td>\n      <td>Optimal</td>\n    </tr>\n  </tbody>\n</table>\n<p>137 rows × 2 columns</p>\n</div>"
     },
     "execution_count": 60,
     "metadata": {},
     "output_type": "execute_result"
    }
   ],
   "source": [
    "# single gene deletion\n",
    "single_gene_deletion(met_model)"
   ],
   "metadata": {
    "collapsed": false
   }
  },
  {
   "cell_type": "code",
   "execution_count": 63,
   "outputs": [
    {
     "data": {
      "text/plain": "         growth   status\nb0118  0.873922  Optimal\nb1276  0.873922  Optimal",
      "text/html": "<div>\n<style scoped>\n    .dataframe tbody tr th:only-of-type {\n        vertical-align: middle;\n    }\n\n    .dataframe tbody tr th {\n        vertical-align: top;\n    }\n\n    .dataframe thead th {\n        text-align: right;\n    }\n</style>\n<table border=\"1\" class=\"dataframe\">\n  <thead>\n    <tr style=\"text-align: right;\">\n      <th></th>\n      <th>growth</th>\n      <th>status</th>\n    </tr>\n  </thead>\n  <tbody>\n    <tr>\n      <th>b0118</th>\n      <td>0.873922</td>\n      <td>Optimal</td>\n    </tr>\n    <tr>\n      <th>b1276</th>\n      <td>0.873922</td>\n      <td>Optimal</td>\n    </tr>\n  </tbody>\n</table>\n</div>"
     },
     "execution_count": 63,
     "metadata": {},
     "output_type": "execute_result"
    }
   ],
   "source": [
    "# single gene deletion for specific genes\n",
    "single_gene_deletion(met_model, genes=met_model.reactions['ACONTa'].genes)"
   ],
   "metadata": {
    "collapsed": false
   }
  },
  {
   "cell_type": "markdown",
   "source": [
    "## Regulatory Truth Table\n",
    "The regulatory truth table of a regulatory model contains the evaluation of all regulatory interactions.\n",
    "The `mewpy.mew.analysis.regulatory_truth_table` method creates the combination between the regulators and target genes given a regulatory model. This function returns a pandas `DataFrame` having the regulators' values in the columns and targets' outcome in the index."
   ],
   "metadata": {
    "collapsed": false
   }
  },
  {
   "cell_type": "code",
   "execution_count": 5,
   "outputs": [
    {
     "data": {
      "text/plain": "            result  surplusFDP  surplusPYR  b0113  b3261  b0400  pi_e  b4401  \\\nb0008            1         NaN         NaN    NaN    NaN    NaN   NaN    NaN   \nb0080            0         1.0         NaN    NaN    NaN    NaN   NaN    NaN   \nb0113            0         NaN         1.0    NaN    NaN    NaN   NaN    NaN   \nb0114            1         NaN         NaN    1.0    1.0    NaN   NaN    NaN   \nb0115            1         NaN         NaN    1.0    1.0    NaN   NaN    NaN   \n...            ...         ...         ...    ...    ...    ...   ...    ...   \nCRPnoGLM         0         NaN         NaN    NaN    NaN    NaN   NaN    NaN   \nNRI_hi           1         NaN         NaN    NaN    NaN    NaN   NaN    NaN   \nNRI_low          1         NaN         NaN    NaN    NaN    NaN   NaN    NaN   \nsurplusFDP       1         NaN         NaN    NaN    NaN    NaN   NaN    NaN   \nsurplusPYR       0         NaN         NaN    NaN    NaN    NaN   NaN    NaN   \n\n            b1334  b3357  ...  TALA  PGI  fru_e  ME2  ME1  GLCpts  PYK  PFK  \\\nb0008         NaN    NaN  ...   NaN  NaN    NaN  NaN  NaN     NaN  NaN  NaN   \nb0080         NaN    NaN  ...   NaN  NaN    NaN  NaN  NaN     NaN  NaN  NaN   \nb0113         NaN    NaN  ...   NaN  NaN    NaN  NaN  NaN     NaN  NaN  NaN   \nb0114         NaN    NaN  ...   NaN  NaN    NaN  NaN  NaN     NaN  NaN  NaN   \nb0115         NaN    NaN  ...   NaN  NaN    NaN  NaN  NaN     NaN  NaN  NaN   \n...           ...    ...  ...   ...  ...    ...  ...  ...     ...  ...  ...   \nCRPnoGLM      NaN    NaN  ...   NaN  NaN    NaN  NaN  NaN     NaN  NaN  NaN   \nNRI_hi        NaN    NaN  ...   NaN  NaN    NaN  NaN  NaN     NaN  NaN  NaN   \nNRI_low       NaN    NaN  ...   NaN  NaN    NaN  NaN  NaN     NaN  NaN  NaN   \nsurplusFDP    NaN    NaN  ...   1.0  1.0    1.0  NaN  NaN     NaN  NaN  NaN   \nsurplusPYR    NaN    NaN  ...   NaN  NaN    NaN  1.0  1.0     1.0  1.0  1.0   \n\n            LDH_D  SUCCt2_2  \nb0008         NaN       NaN  \nb0080         NaN       NaN  \nb0113         NaN       NaN  \nb0114         NaN       NaN  \nb0115         NaN       NaN  \n...           ...       ...  \nCRPnoGLM      NaN       NaN  \nNRI_hi        NaN       NaN  \nNRI_low       NaN       NaN  \nsurplusFDP    NaN       NaN  \nsurplusPYR    1.0       1.0  \n\n[159 rows x 46 columns]",
      "text/html": "<div>\n<style scoped>\n    .dataframe tbody tr th:only-of-type {\n        vertical-align: middle;\n    }\n\n    .dataframe tbody tr th {\n        vertical-align: top;\n    }\n\n    .dataframe thead th {\n        text-align: right;\n    }\n</style>\n<table border=\"1\" class=\"dataframe\">\n  <thead>\n    <tr style=\"text-align: right;\">\n      <th></th>\n      <th>result</th>\n      <th>surplusFDP</th>\n      <th>surplusPYR</th>\n      <th>b0113</th>\n      <th>b3261</th>\n      <th>b0400</th>\n      <th>pi_e</th>\n      <th>b4401</th>\n      <th>b1334</th>\n      <th>b3357</th>\n      <th>...</th>\n      <th>TALA</th>\n      <th>PGI</th>\n      <th>fru_e</th>\n      <th>ME2</th>\n      <th>ME1</th>\n      <th>GLCpts</th>\n      <th>PYK</th>\n      <th>PFK</th>\n      <th>LDH_D</th>\n      <th>SUCCt2_2</th>\n    </tr>\n  </thead>\n  <tbody>\n    <tr>\n      <th>b0008</th>\n      <td>1</td>\n      <td>NaN</td>\n      <td>NaN</td>\n      <td>NaN</td>\n      <td>NaN</td>\n      <td>NaN</td>\n      <td>NaN</td>\n      <td>NaN</td>\n      <td>NaN</td>\n      <td>NaN</td>\n      <td>...</td>\n      <td>NaN</td>\n      <td>NaN</td>\n      <td>NaN</td>\n      <td>NaN</td>\n      <td>NaN</td>\n      <td>NaN</td>\n      <td>NaN</td>\n      <td>NaN</td>\n      <td>NaN</td>\n      <td>NaN</td>\n    </tr>\n    <tr>\n      <th>b0080</th>\n      <td>0</td>\n      <td>1.0</td>\n      <td>NaN</td>\n      <td>NaN</td>\n      <td>NaN</td>\n      <td>NaN</td>\n      <td>NaN</td>\n      <td>NaN</td>\n      <td>NaN</td>\n      <td>NaN</td>\n      <td>...</td>\n      <td>NaN</td>\n      <td>NaN</td>\n      <td>NaN</td>\n      <td>NaN</td>\n      <td>NaN</td>\n      <td>NaN</td>\n      <td>NaN</td>\n      <td>NaN</td>\n      <td>NaN</td>\n      <td>NaN</td>\n    </tr>\n    <tr>\n      <th>b0113</th>\n      <td>0</td>\n      <td>NaN</td>\n      <td>1.0</td>\n      <td>NaN</td>\n      <td>NaN</td>\n      <td>NaN</td>\n      <td>NaN</td>\n      <td>NaN</td>\n      <td>NaN</td>\n      <td>NaN</td>\n      <td>...</td>\n      <td>NaN</td>\n      <td>NaN</td>\n      <td>NaN</td>\n      <td>NaN</td>\n      <td>NaN</td>\n      <td>NaN</td>\n      <td>NaN</td>\n      <td>NaN</td>\n      <td>NaN</td>\n      <td>NaN</td>\n    </tr>\n    <tr>\n      <th>b0114</th>\n      <td>1</td>\n      <td>NaN</td>\n      <td>NaN</td>\n      <td>1.0</td>\n      <td>1.0</td>\n      <td>NaN</td>\n      <td>NaN</td>\n      <td>NaN</td>\n      <td>NaN</td>\n      <td>NaN</td>\n      <td>...</td>\n      <td>NaN</td>\n      <td>NaN</td>\n      <td>NaN</td>\n      <td>NaN</td>\n      <td>NaN</td>\n      <td>NaN</td>\n      <td>NaN</td>\n      <td>NaN</td>\n      <td>NaN</td>\n      <td>NaN</td>\n    </tr>\n    <tr>\n      <th>b0115</th>\n      <td>1</td>\n      <td>NaN</td>\n      <td>NaN</td>\n      <td>1.0</td>\n      <td>1.0</td>\n      <td>NaN</td>\n      <td>NaN</td>\n      <td>NaN</td>\n      <td>NaN</td>\n      <td>NaN</td>\n      <td>...</td>\n      <td>NaN</td>\n      <td>NaN</td>\n      <td>NaN</td>\n      <td>NaN</td>\n      <td>NaN</td>\n      <td>NaN</td>\n      <td>NaN</td>\n      <td>NaN</td>\n      <td>NaN</td>\n      <td>NaN</td>\n    </tr>\n    <tr>\n      <th>...</th>\n      <td>...</td>\n      <td>...</td>\n      <td>...</td>\n      <td>...</td>\n      <td>...</td>\n      <td>...</td>\n      <td>...</td>\n      <td>...</td>\n      <td>...</td>\n      <td>...</td>\n      <td>...</td>\n      <td>...</td>\n      <td>...</td>\n      <td>...</td>\n      <td>...</td>\n      <td>...</td>\n      <td>...</td>\n      <td>...</td>\n      <td>...</td>\n      <td>...</td>\n      <td>...</td>\n    </tr>\n    <tr>\n      <th>CRPnoGLM</th>\n      <td>0</td>\n      <td>NaN</td>\n      <td>NaN</td>\n      <td>NaN</td>\n      <td>NaN</td>\n      <td>NaN</td>\n      <td>NaN</td>\n      <td>NaN</td>\n      <td>NaN</td>\n      <td>NaN</td>\n      <td>...</td>\n      <td>NaN</td>\n      <td>NaN</td>\n      <td>NaN</td>\n      <td>NaN</td>\n      <td>NaN</td>\n      <td>NaN</td>\n      <td>NaN</td>\n      <td>NaN</td>\n      <td>NaN</td>\n      <td>NaN</td>\n    </tr>\n    <tr>\n      <th>NRI_hi</th>\n      <td>1</td>\n      <td>NaN</td>\n      <td>NaN</td>\n      <td>NaN</td>\n      <td>NaN</td>\n      <td>NaN</td>\n      <td>NaN</td>\n      <td>NaN</td>\n      <td>NaN</td>\n      <td>NaN</td>\n      <td>...</td>\n      <td>NaN</td>\n      <td>NaN</td>\n      <td>NaN</td>\n      <td>NaN</td>\n      <td>NaN</td>\n      <td>NaN</td>\n      <td>NaN</td>\n      <td>NaN</td>\n      <td>NaN</td>\n      <td>NaN</td>\n    </tr>\n    <tr>\n      <th>NRI_low</th>\n      <td>1</td>\n      <td>NaN</td>\n      <td>NaN</td>\n      <td>NaN</td>\n      <td>NaN</td>\n      <td>NaN</td>\n      <td>NaN</td>\n      <td>NaN</td>\n      <td>NaN</td>\n      <td>NaN</td>\n      <td>...</td>\n      <td>NaN</td>\n      <td>NaN</td>\n      <td>NaN</td>\n      <td>NaN</td>\n      <td>NaN</td>\n      <td>NaN</td>\n      <td>NaN</td>\n      <td>NaN</td>\n      <td>NaN</td>\n      <td>NaN</td>\n    </tr>\n    <tr>\n      <th>surplusFDP</th>\n      <td>1</td>\n      <td>NaN</td>\n      <td>NaN</td>\n      <td>NaN</td>\n      <td>NaN</td>\n      <td>NaN</td>\n      <td>NaN</td>\n      <td>NaN</td>\n      <td>NaN</td>\n      <td>NaN</td>\n      <td>...</td>\n      <td>1.0</td>\n      <td>1.0</td>\n      <td>1.0</td>\n      <td>NaN</td>\n      <td>NaN</td>\n      <td>NaN</td>\n      <td>NaN</td>\n      <td>NaN</td>\n      <td>NaN</td>\n      <td>NaN</td>\n    </tr>\n    <tr>\n      <th>surplusPYR</th>\n      <td>0</td>\n      <td>NaN</td>\n      <td>NaN</td>\n      <td>NaN</td>\n      <td>NaN</td>\n      <td>NaN</td>\n      <td>NaN</td>\n      <td>NaN</td>\n      <td>NaN</td>\n      <td>NaN</td>\n      <td>...</td>\n      <td>NaN</td>\n      <td>NaN</td>\n      <td>NaN</td>\n      <td>1.0</td>\n      <td>1.0</td>\n      <td>1.0</td>\n      <td>1.0</td>\n      <td>1.0</td>\n      <td>1.0</td>\n      <td>1.0</td>\n    </tr>\n  </tbody>\n</table>\n<p>159 rows × 46 columns</p>\n</div>"
     },
     "execution_count": 5,
     "metadata": {},
     "output_type": "execute_result"
    }
   ],
   "source": [
    "# regulatory truth table for the regulatory model\n",
    "reg_model = read_model(core_trn_reader)\n",
    "regulatory_truth_table(reg_model)"
   ],
   "metadata": {
    "collapsed": false
   }
  },
  {
   "cell_type": "markdown",
   "source": [
    "## RFBA\n",
    "RFBA is a phenotype simulation method based on the integration of a GEM model with a TRN at the genome-scale. The TRN consists of a set of regulatory interactions formulated with boolean and propositional logic. The TRN contains a boolean algebra expression for each target gene. This boolean rule determines whether the target gene is active (1) or not (0) according to the state of the regulators (active or inactive). Then, the TRN is integrated with the GEM model using the reactions' GPR rules. It is also common to find metabolites and reactions as regulators/environmental stimuli in the TRN, completing the integration with the GEM model.\n",
    "\n",
    "In RFBA, a synchronous evaluation of all regulatory interactions in the regulatory model is performed first. This first simulation is used to retrieve the regulatory state (regulators' coefficients). Then, the regulatory state is translated into a metabolic state (metabolic genes' coefficients) by performing another synchronous evaluation of all regulatory interactions in the regulatory model. Finally, the resulting metabolic state is used to decode the constraints imposed by the regulatory model upon evaluation of the reactions' GPRs with the targets' state.\n",
    "\n",
    "RFBA supports steady-state or dynamic phenotype simulations. Dynamic RFBA simulation performs several sequential optimizations that update both the regulatory and metabolic constraints. This simulation stops when two identical solutions are found.\n",
    "\n",
    "For more details consult: [https://doi.org/10.1038/nature02456](https://doi.org/10.1038/nature02456).\n",
    "\n",
    "For this example we will be using iMC1010 model available at _models/regulation/iJR904_srfba.xml_ and _models/regulation/iMC1010.csv_"
   ],
   "metadata": {
    "collapsed": false
   }
  },
  {
   "cell_type": "code",
   "execution_count": 7,
   "outputs": [],
   "source": [
    "# loading model\n",
    "model = read_model(imc1010_gem_reader, imc1010_trn_reader)\n",
    "\n",
    "# objective function\n",
    "BIOMASS_ID = 'BiomassEcoli'\n",
    "model.objective = {BIOMASS_ID: 1}\n",
    "\n",
    "# initial state inferred from the find_conflicts method\n",
    "initial_state = {\n",
    "    'Stringent': 0.0,\n",
    "    'high-NAD': 0.0,\n",
    "    'lys_DASH_L_e': 0.0,\n",
    "    'phe_DASH_L_e': 0.0,\n",
    "    'tyr_DASH_L_e': 0.0,\n",
    "    'trp_DASH_L_e': 0.0,\n",
    "    'leu_DASH_L_e': 0.0,\n",
    "    'asn_DASH_L_e': 0.0,\n",
    "    'glu_DASH_L_e': 0.0,\n",
    "    'glcn_e': 0.0,\n",
    "    'glc_DASH_D_e': 0.0,\n",
    "    'arab_DASH_L_e': 0.0,\n",
    "    'xyl_DASH_D_e': 0.0,\n",
    "    'rib_DASH_D_e': 0.0,\n",
    "    'mal_DASH_L_e': 0.0,\n",
    "    'glyc_e': 0.0,\n",
    "    'sbt_DASH_D_e': 0.0,\n",
    "    'lac_DASH_D_e': 0.0,\n",
    "    'hxan_e': 0.0,\n",
    "    'gua_e': 0.0,\n",
    "    'ura_e': 0.0,\n",
    "    'csn_e': 0.0,\n",
    "    'arg_DASH_L_e': 0.0,\n",
    "    'met_DASH_L_e': 0.0,\n",
    "    'cys_DASH_L_e': 0.0,\n",
    "    'val_DASH_L_e': 0.0,\n",
    "    'acgam_e': 0.0,\n",
    "    'AGDC': 0.0,\n",
    "}"
   ],
   "metadata": {
    "collapsed": false
   }
  },
  {
   "cell_type": "markdown",
   "source": [
    "RFBA can be simulated using an initial regulatory state. This initial state will be considered during the synchronous evaluation of all regulatory interactions in the regulatory model and determine the metabolic state. The set-up of the regulators' initial state in integrated models is a difficult task. Most of the time, the initial state is not known and hinders feasible solutions during simulation. Besides, if the initial state is not provided to RFBA, this method will consider that all regulators are active (inclusive metabolites and reactions). For large models, this clearly not the best initial state.\n",
    "<br>\n",
    "Hence, one should use the `mewpy.mew.analysis.find_conflicts()` method to ease the set-up of the initial state. This method can be used to find regulatory states that affect the growth of the cell. It tries to find the regulatory states that lead to knockouts of essential genes and deletion of essential reactions.\n",
    "Note that, `find_conflicts()` results should be carefully analyzed, as this method does not detect indirect conflicts. Please consult the method for more details."
   ],
   "metadata": {
    "collapsed": false
   }
  },
  {
   "cell_type": "code",
   "execution_count": 11,
   "outputs": [
    {
     "data": {
      "text/plain": "                                             interaction  b1658  b4393  b1275  \\\nb2557                            b2557 || 1 = ( ~ b1658)    1.0    NaN    NaN   \nb1262                            b1262 || 1 = ( ~ b4393)    NaN    1.0    NaN   \nb2752                                 b2752 || 1 = b1275    NaN    NaN    0.0   \nb1263                            b1263 || 1 = ( ~ b4393)    NaN    1.0    NaN   \nb2764                                 b2764 || 1 = b1275    NaN    NaN    0.0   \nb2476                            b2476 || 1 = ( ~ b1658)    1.0    NaN    NaN   \nb3642      b3642 || 1 = ( ~ ((ura_e > 0) | (gua_e > 0)))    NaN    NaN    NaN   \nb2424                                 b2424 || 1 = b1275    NaN    NaN    0.0   \nb4013                  b4013 || 1 = (( ~ b3938) | b3828)    NaN    NaN    NaN   \nb1207                            b1207 || 1 = ( ~ b1658)    1.0    NaN    NaN   \nb3607                                 b3607 || 1 = b1275    NaN    NaN    0.0   \nb3939                            b3939 || 1 = ( ~ b3938)    NaN    NaN    NaN   \nb2499                            b2499 || 1 = ( ~ b1658)    1.0    NaN    NaN   \nb1260                            b1260 || 1 = ( ~ b4393)    NaN    1.0    NaN   \nb1131                            b1131 || 1 = ( ~ b1658)    1.0    NaN    NaN   \nb2599               b2599 || 1 = ( ~ (phe_DASH_L_e > 0))    NaN    NaN    NaN   \nb1261                            b1261 || 1 = ( ~ b4393)    NaN    1.0    NaN   \nb2574                            b2574 || 1 = ( ~ b4390)    NaN    NaN    NaN   \nb2312                            b2312 || 1 = ( ~ b1658)    1.0    NaN    NaN   \nb2838     b2838 || 1 = (b2839 & ( ~ (lys_DASH_L_e > 0)))    NaN    NaN    NaN   \nb2423                                 b2423 || 1 = b1275    NaN    NaN    0.0   \nb2763                                 b2763 || 1 = b1275    NaN    NaN    0.0   \nb0072     b0072 || 1 = (( ~ (leu_DASH_L_e > 0)) | b0889)    NaN    NaN    NaN   \nb3958                            b3958 || 1 = ( ~ b3237)    NaN    NaN    NaN   \nb4245      b4245 || 1 = ( ~ ((ura_e > 0) | (gua_e > 0)))    NaN    NaN    NaN   \nb2818                            b2818 || 1 = ( ~ b3237)    NaN    NaN    NaN   \nb3960                            b3960 || 1 = ( ~ b3237)    NaN    NaN    NaN   \nb3774                                 b3774 || 1 = b3773    NaN    NaN    NaN   \nb2762                                 b2762 || 1 = b1275    NaN    NaN    0.0   \nb3359                            b3359 || 1 = ( ~ b3237)    NaN    NaN    NaN   \nb1264                            b1264 || 1 = ( ~ b4393)    NaN    1.0    NaN   \nb2750                                 b2750 || 1 = b1275    NaN    NaN    0.0   \nb4005                            b4005 || 1 = ( ~ b1658)    1.0    NaN    NaN   \nb4244      b4244 || 1 = ( ~ ((ura_e > 0) | (gua_e > 0)))    NaN    NaN    NaN   \nb1092                        b1092 || 1 = ( ~ Stringent)    NaN    NaN    NaN   \nb3959                            b3959 || 1 = ( ~ b3237)    NaN    NaN    NaN   \nb0073     b0073 || 1 = (( ~ (leu_DASH_L_e > 0)) | b0889)    NaN    NaN    NaN   \nb2422                                 b2422 || 1 = b1275    NaN    NaN    0.0   \nb3730                                 b3730 || 1 = b0676    NaN    NaN    NaN   \nb2600  b2600 || 1 = ( ~ (((phe_DASH_L_e > 10) | (tyr_...    NaN    NaN    NaN   \nb0071     b0071 || 1 = (( ~ (leu_DASH_L_e > 0)) | b0889)    NaN    NaN    NaN   \nb0074     b0074 || 1 = (( ~ (leu_DASH_L_e > 0)) | b0889)    NaN    NaN    NaN   \nb2751                                 b2751 || 1 = b1275    NaN    NaN    0.0   \nb0031               b0031 || 1 = ( ~ (lys_DASH_L_e > 0))    NaN    NaN    NaN   \nb3957                            b3957 || 1 = ( ~ b3237)    NaN    NaN    NaN   \n\n          ura_e     gua_e  b3938  b3828  phe_DASH_L_e  b4390  b2839  \\\nb2557       NaN       NaN    NaN    NaN           NaN    NaN    NaN   \nb1262       NaN       NaN    NaN    NaN           NaN    NaN    NaN   \nb2752       NaN       NaN    NaN    NaN           NaN    NaN    NaN   \nb1263       NaN       NaN    NaN    NaN           NaN    NaN    NaN   \nb2764       NaN       NaN    NaN    NaN           NaN    NaN    NaN   \nb2476       NaN       NaN    NaN    NaN           NaN    NaN    NaN   \nb3642  999999.0  999999.0    NaN    NaN           NaN    NaN    NaN   \nb2424       NaN       NaN    NaN    NaN           NaN    NaN    NaN   \nb4013       NaN       NaN    1.0    0.0           NaN    NaN    NaN   \nb1207       NaN       NaN    NaN    NaN           NaN    NaN    NaN   \nb3607       NaN       NaN    NaN    NaN           NaN    NaN    NaN   \nb3939       NaN       NaN    1.0    NaN           NaN    NaN    NaN   \nb2499       NaN       NaN    NaN    NaN           NaN    NaN    NaN   \nb1260       NaN       NaN    NaN    NaN           NaN    NaN    NaN   \nb1131       NaN       NaN    NaN    NaN           NaN    NaN    NaN   \nb2599       NaN       NaN    NaN    NaN      999999.0    NaN    NaN   \nb1261       NaN       NaN    NaN    NaN           NaN    NaN    NaN   \nb2574       NaN       NaN    NaN    NaN           NaN    1.0    NaN   \nb2312       NaN       NaN    NaN    NaN           NaN    NaN    NaN   \nb2838       NaN       NaN    NaN    NaN           NaN    NaN    0.0   \nb2423       NaN       NaN    NaN    NaN           NaN    NaN    NaN   \nb2763       NaN       NaN    NaN    NaN           NaN    NaN    NaN   \nb0072       NaN       NaN    NaN    NaN           NaN    NaN    NaN   \nb3958       NaN       NaN    NaN    NaN           NaN    NaN    NaN   \nb4245  999999.0  999999.0    NaN    NaN           NaN    NaN    NaN   \nb2818       NaN       NaN    NaN    NaN           NaN    NaN    NaN   \nb3960       NaN       NaN    NaN    NaN           NaN    NaN    NaN   \nb3774       NaN       NaN    NaN    NaN           NaN    NaN    NaN   \nb2762       NaN       NaN    NaN    NaN           NaN    NaN    NaN   \nb3359       NaN       NaN    NaN    NaN           NaN    NaN    NaN   \nb1264       NaN       NaN    NaN    NaN           NaN    NaN    NaN   \nb2750       NaN       NaN    NaN    NaN           NaN    NaN    NaN   \nb4005       NaN       NaN    NaN    NaN           NaN    NaN    NaN   \nb4244  999999.0  999999.0    NaN    NaN           NaN    NaN    NaN   \nb1092       NaN       NaN    NaN    NaN           NaN    NaN    NaN   \nb3959       NaN       NaN    NaN    NaN           NaN    NaN    NaN   \nb0073       NaN       NaN    NaN    NaN           NaN    NaN    NaN   \nb2422       NaN       NaN    NaN    NaN           NaN    NaN    NaN   \nb3730       NaN       NaN    NaN    NaN           NaN    NaN    NaN   \nb2600       NaN       NaN    NaN    NaN      999999.0    NaN    NaN   \nb0071       NaN       NaN    NaN    NaN           NaN    NaN    NaN   \nb0074       NaN       NaN    NaN    NaN           NaN    NaN    NaN   \nb2751       NaN       NaN    NaN    NaN           NaN    NaN    NaN   \nb0031       NaN       NaN    NaN    NaN           NaN    NaN    NaN   \nb3957       NaN       NaN    NaN    NaN           NaN    NaN    NaN   \n\n       lys_DASH_L_e  leu_DASH_L_e  b0889  b3237  b3773  Stringent  b0676  \\\nb2557           NaN           NaN    NaN    NaN    NaN        NaN    NaN   \nb1262           NaN           NaN    NaN    NaN    NaN        NaN    NaN   \nb2752           NaN           NaN    NaN    NaN    NaN        NaN    NaN   \nb1263           NaN           NaN    NaN    NaN    NaN        NaN    NaN   \nb2764           NaN           NaN    NaN    NaN    NaN        NaN    NaN   \nb2476           NaN           NaN    NaN    NaN    NaN        NaN    NaN   \nb3642           NaN           NaN    NaN    NaN    NaN        NaN    NaN   \nb2424           NaN           NaN    NaN    NaN    NaN        NaN    NaN   \nb4013           NaN           NaN    NaN    NaN    NaN        NaN    NaN   \nb1207           NaN           NaN    NaN    NaN    NaN        NaN    NaN   \nb3607           NaN           NaN    NaN    NaN    NaN        NaN    NaN   \nb3939           NaN           NaN    NaN    NaN    NaN        NaN    NaN   \nb2499           NaN           NaN    NaN    NaN    NaN        NaN    NaN   \nb1260           NaN           NaN    NaN    NaN    NaN        NaN    NaN   \nb1131           NaN           NaN    NaN    NaN    NaN        NaN    NaN   \nb2599           NaN           NaN    NaN    NaN    NaN        NaN    NaN   \nb1261           NaN           NaN    NaN    NaN    NaN        NaN    NaN   \nb2574           NaN           NaN    NaN    NaN    NaN        NaN    NaN   \nb2312           NaN           NaN    NaN    NaN    NaN        NaN    NaN   \nb2838      999999.0           NaN    NaN    NaN    NaN        NaN    NaN   \nb2423           NaN           NaN    NaN    NaN    NaN        NaN    NaN   \nb2763           NaN           NaN    NaN    NaN    NaN        NaN    NaN   \nb0072           NaN      999999.0    0.0    NaN    NaN        NaN    NaN   \nb3958           NaN           NaN    NaN    1.0    NaN        NaN    NaN   \nb4245           NaN           NaN    NaN    NaN    NaN        NaN    NaN   \nb2818           NaN           NaN    NaN    1.0    NaN        NaN    NaN   \nb3960           NaN           NaN    NaN    1.0    NaN        NaN    NaN   \nb3774           NaN           NaN    NaN    NaN    0.0        NaN    NaN   \nb2762           NaN           NaN    NaN    NaN    NaN        NaN    NaN   \nb3359           NaN           NaN    NaN    1.0    NaN        NaN    NaN   \nb1264           NaN           NaN    NaN    NaN    NaN        NaN    NaN   \nb2750           NaN           NaN    NaN    NaN    NaN        NaN    NaN   \nb4005           NaN           NaN    NaN    NaN    NaN        NaN    NaN   \nb4244           NaN           NaN    NaN    NaN    NaN        NaN    NaN   \nb1092           NaN           NaN    NaN    NaN    NaN        1.0    NaN   \nb3959           NaN           NaN    NaN    1.0    NaN        NaN    NaN   \nb0073           NaN      999999.0    0.0    NaN    NaN        NaN    NaN   \nb2422           NaN           NaN    NaN    NaN    NaN        NaN    NaN   \nb3730           NaN           NaN    NaN    NaN    NaN        NaN    0.0   \nb2600           NaN           NaN    NaN    NaN    NaN        NaN    NaN   \nb0071           NaN      999999.0    0.0    NaN    NaN        NaN    NaN   \nb0074           NaN      999999.0    0.0    NaN    NaN        NaN    NaN   \nb2751           NaN           NaN    NaN    NaN    NaN        NaN    NaN   \nb0031      999999.0           NaN    NaN    NaN    NaN        NaN    NaN   \nb3957           NaN           NaN    NaN    1.0    NaN        NaN    NaN   \n\n       tyr_DASH_L_e  b1323  \nb2557           NaN    NaN  \nb1262           NaN    NaN  \nb2752           NaN    NaN  \nb1263           NaN    NaN  \nb2764           NaN    NaN  \nb2476           NaN    NaN  \nb3642           NaN    NaN  \nb2424           NaN    NaN  \nb4013           NaN    NaN  \nb1207           NaN    NaN  \nb3607           NaN    NaN  \nb3939           NaN    NaN  \nb2499           NaN    NaN  \nb1260           NaN    NaN  \nb1131           NaN    NaN  \nb2599           NaN    NaN  \nb1261           NaN    NaN  \nb2574           NaN    NaN  \nb2312           NaN    NaN  \nb2838           NaN    NaN  \nb2423           NaN    NaN  \nb2763           NaN    NaN  \nb0072           NaN    NaN  \nb3958           NaN    NaN  \nb4245           NaN    NaN  \nb2818           NaN    NaN  \nb3960           NaN    NaN  \nb3774           NaN    NaN  \nb2762           NaN    NaN  \nb3359           NaN    NaN  \nb1264           NaN    NaN  \nb2750           NaN    NaN  \nb4005           NaN    NaN  \nb4244           NaN    NaN  \nb1092           NaN    NaN  \nb3959           NaN    NaN  \nb0073           NaN    NaN  \nb2422           NaN    NaN  \nb3730           NaN    NaN  \nb2600      999999.0    1.0  \nb0071           NaN    NaN  \nb0074           NaN    NaN  \nb2751           NaN    NaN  \nb0031           NaN    NaN  \nb3957           NaN    NaN  ",
      "text/html": "<div>\n<style scoped>\n    .dataframe tbody tr th:only-of-type {\n        vertical-align: middle;\n    }\n\n    .dataframe tbody tr th {\n        vertical-align: top;\n    }\n\n    .dataframe thead th {\n        text-align: right;\n    }\n</style>\n<table border=\"1\" class=\"dataframe\">\n  <thead>\n    <tr style=\"text-align: right;\">\n      <th></th>\n      <th>interaction</th>\n      <th>b1658</th>\n      <th>b4393</th>\n      <th>b1275</th>\n      <th>ura_e</th>\n      <th>gua_e</th>\n      <th>b3938</th>\n      <th>b3828</th>\n      <th>phe_DASH_L_e</th>\n      <th>b4390</th>\n      <th>b2839</th>\n      <th>lys_DASH_L_e</th>\n      <th>leu_DASH_L_e</th>\n      <th>b0889</th>\n      <th>b3237</th>\n      <th>b3773</th>\n      <th>Stringent</th>\n      <th>b0676</th>\n      <th>tyr_DASH_L_e</th>\n      <th>b1323</th>\n    </tr>\n  </thead>\n  <tbody>\n    <tr>\n      <th>b2557</th>\n      <td>b2557 || 1 = ( ~ b1658)</td>\n      <td>1.0</td>\n      <td>NaN</td>\n      <td>NaN</td>\n      <td>NaN</td>\n      <td>NaN</td>\n      <td>NaN</td>\n      <td>NaN</td>\n      <td>NaN</td>\n      <td>NaN</td>\n      <td>NaN</td>\n      <td>NaN</td>\n      <td>NaN</td>\n      <td>NaN</td>\n      <td>NaN</td>\n      <td>NaN</td>\n      <td>NaN</td>\n      <td>NaN</td>\n      <td>NaN</td>\n      <td>NaN</td>\n    </tr>\n    <tr>\n      <th>b1262</th>\n      <td>b1262 || 1 = ( ~ b4393)</td>\n      <td>NaN</td>\n      <td>1.0</td>\n      <td>NaN</td>\n      <td>NaN</td>\n      <td>NaN</td>\n      <td>NaN</td>\n      <td>NaN</td>\n      <td>NaN</td>\n      <td>NaN</td>\n      <td>NaN</td>\n      <td>NaN</td>\n      <td>NaN</td>\n      <td>NaN</td>\n      <td>NaN</td>\n      <td>NaN</td>\n      <td>NaN</td>\n      <td>NaN</td>\n      <td>NaN</td>\n      <td>NaN</td>\n    </tr>\n    <tr>\n      <th>b2752</th>\n      <td>b2752 || 1 = b1275</td>\n      <td>NaN</td>\n      <td>NaN</td>\n      <td>0.0</td>\n      <td>NaN</td>\n      <td>NaN</td>\n      <td>NaN</td>\n      <td>NaN</td>\n      <td>NaN</td>\n      <td>NaN</td>\n      <td>NaN</td>\n      <td>NaN</td>\n      <td>NaN</td>\n      <td>NaN</td>\n      <td>NaN</td>\n      <td>NaN</td>\n      <td>NaN</td>\n      <td>NaN</td>\n      <td>NaN</td>\n      <td>NaN</td>\n    </tr>\n    <tr>\n      <th>b1263</th>\n      <td>b1263 || 1 = ( ~ b4393)</td>\n      <td>NaN</td>\n      <td>1.0</td>\n      <td>NaN</td>\n      <td>NaN</td>\n      <td>NaN</td>\n      <td>NaN</td>\n      <td>NaN</td>\n      <td>NaN</td>\n      <td>NaN</td>\n      <td>NaN</td>\n      <td>NaN</td>\n      <td>NaN</td>\n      <td>NaN</td>\n      <td>NaN</td>\n      <td>NaN</td>\n      <td>NaN</td>\n      <td>NaN</td>\n      <td>NaN</td>\n      <td>NaN</td>\n    </tr>\n    <tr>\n      <th>b2764</th>\n      <td>b2764 || 1 = b1275</td>\n      <td>NaN</td>\n      <td>NaN</td>\n      <td>0.0</td>\n      <td>NaN</td>\n      <td>NaN</td>\n      <td>NaN</td>\n      <td>NaN</td>\n      <td>NaN</td>\n      <td>NaN</td>\n      <td>NaN</td>\n      <td>NaN</td>\n      <td>NaN</td>\n      <td>NaN</td>\n      <td>NaN</td>\n      <td>NaN</td>\n      <td>NaN</td>\n      <td>NaN</td>\n      <td>NaN</td>\n      <td>NaN</td>\n    </tr>\n    <tr>\n      <th>b2476</th>\n      <td>b2476 || 1 = ( ~ b1658)</td>\n      <td>1.0</td>\n      <td>NaN</td>\n      <td>NaN</td>\n      <td>NaN</td>\n      <td>NaN</td>\n      <td>NaN</td>\n      <td>NaN</td>\n      <td>NaN</td>\n      <td>NaN</td>\n      <td>NaN</td>\n      <td>NaN</td>\n      <td>NaN</td>\n      <td>NaN</td>\n      <td>NaN</td>\n      <td>NaN</td>\n      <td>NaN</td>\n      <td>NaN</td>\n      <td>NaN</td>\n      <td>NaN</td>\n    </tr>\n    <tr>\n      <th>b3642</th>\n      <td>b3642 || 1 = ( ~ ((ura_e &gt; 0) | (gua_e &gt; 0)))</td>\n      <td>NaN</td>\n      <td>NaN</td>\n      <td>NaN</td>\n      <td>999999.0</td>\n      <td>999999.0</td>\n      <td>NaN</td>\n      <td>NaN</td>\n      <td>NaN</td>\n      <td>NaN</td>\n      <td>NaN</td>\n      <td>NaN</td>\n      <td>NaN</td>\n      <td>NaN</td>\n      <td>NaN</td>\n      <td>NaN</td>\n      <td>NaN</td>\n      <td>NaN</td>\n      <td>NaN</td>\n      <td>NaN</td>\n    </tr>\n    <tr>\n      <th>b2424</th>\n      <td>b2424 || 1 = b1275</td>\n      <td>NaN</td>\n      <td>NaN</td>\n      <td>0.0</td>\n      <td>NaN</td>\n      <td>NaN</td>\n      <td>NaN</td>\n      <td>NaN</td>\n      <td>NaN</td>\n      <td>NaN</td>\n      <td>NaN</td>\n      <td>NaN</td>\n      <td>NaN</td>\n      <td>NaN</td>\n      <td>NaN</td>\n      <td>NaN</td>\n      <td>NaN</td>\n      <td>NaN</td>\n      <td>NaN</td>\n      <td>NaN</td>\n    </tr>\n    <tr>\n      <th>b4013</th>\n      <td>b4013 || 1 = (( ~ b3938) | b3828)</td>\n      <td>NaN</td>\n      <td>NaN</td>\n      <td>NaN</td>\n      <td>NaN</td>\n      <td>NaN</td>\n      <td>1.0</td>\n      <td>0.0</td>\n      <td>NaN</td>\n      <td>NaN</td>\n      <td>NaN</td>\n      <td>NaN</td>\n      <td>NaN</td>\n      <td>NaN</td>\n      <td>NaN</td>\n      <td>NaN</td>\n      <td>NaN</td>\n      <td>NaN</td>\n      <td>NaN</td>\n      <td>NaN</td>\n    </tr>\n    <tr>\n      <th>b1207</th>\n      <td>b1207 || 1 = ( ~ b1658)</td>\n      <td>1.0</td>\n      <td>NaN</td>\n      <td>NaN</td>\n      <td>NaN</td>\n      <td>NaN</td>\n      <td>NaN</td>\n      <td>NaN</td>\n      <td>NaN</td>\n      <td>NaN</td>\n      <td>NaN</td>\n      <td>NaN</td>\n      <td>NaN</td>\n      <td>NaN</td>\n      <td>NaN</td>\n      <td>NaN</td>\n      <td>NaN</td>\n      <td>NaN</td>\n      <td>NaN</td>\n      <td>NaN</td>\n    </tr>\n    <tr>\n      <th>b3607</th>\n      <td>b3607 || 1 = b1275</td>\n      <td>NaN</td>\n      <td>NaN</td>\n      <td>0.0</td>\n      <td>NaN</td>\n      <td>NaN</td>\n      <td>NaN</td>\n      <td>NaN</td>\n      <td>NaN</td>\n      <td>NaN</td>\n      <td>NaN</td>\n      <td>NaN</td>\n      <td>NaN</td>\n      <td>NaN</td>\n      <td>NaN</td>\n      <td>NaN</td>\n      <td>NaN</td>\n      <td>NaN</td>\n      <td>NaN</td>\n      <td>NaN</td>\n    </tr>\n    <tr>\n      <th>b3939</th>\n      <td>b3939 || 1 = ( ~ b3938)</td>\n      <td>NaN</td>\n      <td>NaN</td>\n      <td>NaN</td>\n      <td>NaN</td>\n      <td>NaN</td>\n      <td>1.0</td>\n      <td>NaN</td>\n      <td>NaN</td>\n      <td>NaN</td>\n      <td>NaN</td>\n      <td>NaN</td>\n      <td>NaN</td>\n      <td>NaN</td>\n      <td>NaN</td>\n      <td>NaN</td>\n      <td>NaN</td>\n      <td>NaN</td>\n      <td>NaN</td>\n      <td>NaN</td>\n    </tr>\n    <tr>\n      <th>b2499</th>\n      <td>b2499 || 1 = ( ~ b1658)</td>\n      <td>1.0</td>\n      <td>NaN</td>\n      <td>NaN</td>\n      <td>NaN</td>\n      <td>NaN</td>\n      <td>NaN</td>\n      <td>NaN</td>\n      <td>NaN</td>\n      <td>NaN</td>\n      <td>NaN</td>\n      <td>NaN</td>\n      <td>NaN</td>\n      <td>NaN</td>\n      <td>NaN</td>\n      <td>NaN</td>\n      <td>NaN</td>\n      <td>NaN</td>\n      <td>NaN</td>\n      <td>NaN</td>\n    </tr>\n    <tr>\n      <th>b1260</th>\n      <td>b1260 || 1 = ( ~ b4393)</td>\n      <td>NaN</td>\n      <td>1.0</td>\n      <td>NaN</td>\n      <td>NaN</td>\n      <td>NaN</td>\n      <td>NaN</td>\n      <td>NaN</td>\n      <td>NaN</td>\n      <td>NaN</td>\n      <td>NaN</td>\n      <td>NaN</td>\n      <td>NaN</td>\n      <td>NaN</td>\n      <td>NaN</td>\n      <td>NaN</td>\n      <td>NaN</td>\n      <td>NaN</td>\n      <td>NaN</td>\n      <td>NaN</td>\n    </tr>\n    <tr>\n      <th>b1131</th>\n      <td>b1131 || 1 = ( ~ b1658)</td>\n      <td>1.0</td>\n      <td>NaN</td>\n      <td>NaN</td>\n      <td>NaN</td>\n      <td>NaN</td>\n      <td>NaN</td>\n      <td>NaN</td>\n      <td>NaN</td>\n      <td>NaN</td>\n      <td>NaN</td>\n      <td>NaN</td>\n      <td>NaN</td>\n      <td>NaN</td>\n      <td>NaN</td>\n      <td>NaN</td>\n      <td>NaN</td>\n      <td>NaN</td>\n      <td>NaN</td>\n      <td>NaN</td>\n    </tr>\n    <tr>\n      <th>b2599</th>\n      <td>b2599 || 1 = ( ~ (phe_DASH_L_e &gt; 0))</td>\n      <td>NaN</td>\n      <td>NaN</td>\n      <td>NaN</td>\n      <td>NaN</td>\n      <td>NaN</td>\n      <td>NaN</td>\n      <td>NaN</td>\n      <td>999999.0</td>\n      <td>NaN</td>\n      <td>NaN</td>\n      <td>NaN</td>\n      <td>NaN</td>\n      <td>NaN</td>\n      <td>NaN</td>\n      <td>NaN</td>\n      <td>NaN</td>\n      <td>NaN</td>\n      <td>NaN</td>\n      <td>NaN</td>\n    </tr>\n    <tr>\n      <th>b1261</th>\n      <td>b1261 || 1 = ( ~ b4393)</td>\n      <td>NaN</td>\n      <td>1.0</td>\n      <td>NaN</td>\n      <td>NaN</td>\n      <td>NaN</td>\n      <td>NaN</td>\n      <td>NaN</td>\n      <td>NaN</td>\n      <td>NaN</td>\n      <td>NaN</td>\n      <td>NaN</td>\n      <td>NaN</td>\n      <td>NaN</td>\n      <td>NaN</td>\n      <td>NaN</td>\n      <td>NaN</td>\n      <td>NaN</td>\n      <td>NaN</td>\n      <td>NaN</td>\n    </tr>\n    <tr>\n      <th>b2574</th>\n      <td>b2574 || 1 = ( ~ b4390)</td>\n      <td>NaN</td>\n      <td>NaN</td>\n      <td>NaN</td>\n      <td>NaN</td>\n      <td>NaN</td>\n      <td>NaN</td>\n      <td>NaN</td>\n      <td>NaN</td>\n      <td>1.0</td>\n      <td>NaN</td>\n      <td>NaN</td>\n      <td>NaN</td>\n      <td>NaN</td>\n      <td>NaN</td>\n      <td>NaN</td>\n      <td>NaN</td>\n      <td>NaN</td>\n      <td>NaN</td>\n      <td>NaN</td>\n    </tr>\n    <tr>\n      <th>b2312</th>\n      <td>b2312 || 1 = ( ~ b1658)</td>\n      <td>1.0</td>\n      <td>NaN</td>\n      <td>NaN</td>\n      <td>NaN</td>\n      <td>NaN</td>\n      <td>NaN</td>\n      <td>NaN</td>\n      <td>NaN</td>\n      <td>NaN</td>\n      <td>NaN</td>\n      <td>NaN</td>\n      <td>NaN</td>\n      <td>NaN</td>\n      <td>NaN</td>\n      <td>NaN</td>\n      <td>NaN</td>\n      <td>NaN</td>\n      <td>NaN</td>\n      <td>NaN</td>\n    </tr>\n    <tr>\n      <th>b2838</th>\n      <td>b2838 || 1 = (b2839 &amp; ( ~ (lys_DASH_L_e &gt; 0)))</td>\n      <td>NaN</td>\n      <td>NaN</td>\n      <td>NaN</td>\n      <td>NaN</td>\n      <td>NaN</td>\n      <td>NaN</td>\n      <td>NaN</td>\n      <td>NaN</td>\n      <td>NaN</td>\n      <td>0.0</td>\n      <td>999999.0</td>\n      <td>NaN</td>\n      <td>NaN</td>\n      <td>NaN</td>\n      <td>NaN</td>\n      <td>NaN</td>\n      <td>NaN</td>\n      <td>NaN</td>\n      <td>NaN</td>\n    </tr>\n    <tr>\n      <th>b2423</th>\n      <td>b2423 || 1 = b1275</td>\n      <td>NaN</td>\n      <td>NaN</td>\n      <td>0.0</td>\n      <td>NaN</td>\n      <td>NaN</td>\n      <td>NaN</td>\n      <td>NaN</td>\n      <td>NaN</td>\n      <td>NaN</td>\n      <td>NaN</td>\n      <td>NaN</td>\n      <td>NaN</td>\n      <td>NaN</td>\n      <td>NaN</td>\n      <td>NaN</td>\n      <td>NaN</td>\n      <td>NaN</td>\n      <td>NaN</td>\n      <td>NaN</td>\n    </tr>\n    <tr>\n      <th>b2763</th>\n      <td>b2763 || 1 = b1275</td>\n      <td>NaN</td>\n      <td>NaN</td>\n      <td>0.0</td>\n      <td>NaN</td>\n      <td>NaN</td>\n      <td>NaN</td>\n      <td>NaN</td>\n      <td>NaN</td>\n      <td>NaN</td>\n      <td>NaN</td>\n      <td>NaN</td>\n      <td>NaN</td>\n      <td>NaN</td>\n      <td>NaN</td>\n      <td>NaN</td>\n      <td>NaN</td>\n      <td>NaN</td>\n      <td>NaN</td>\n      <td>NaN</td>\n    </tr>\n    <tr>\n      <th>b0072</th>\n      <td>b0072 || 1 = (( ~ (leu_DASH_L_e &gt; 0)) | b0889)</td>\n      <td>NaN</td>\n      <td>NaN</td>\n      <td>NaN</td>\n      <td>NaN</td>\n      <td>NaN</td>\n      <td>NaN</td>\n      <td>NaN</td>\n      <td>NaN</td>\n      <td>NaN</td>\n      <td>NaN</td>\n      <td>NaN</td>\n      <td>999999.0</td>\n      <td>0.0</td>\n      <td>NaN</td>\n      <td>NaN</td>\n      <td>NaN</td>\n      <td>NaN</td>\n      <td>NaN</td>\n      <td>NaN</td>\n    </tr>\n    <tr>\n      <th>b3958</th>\n      <td>b3958 || 1 = ( ~ b3237)</td>\n      <td>NaN</td>\n      <td>NaN</td>\n      <td>NaN</td>\n      <td>NaN</td>\n      <td>NaN</td>\n      <td>NaN</td>\n      <td>NaN</td>\n      <td>NaN</td>\n      <td>NaN</td>\n      <td>NaN</td>\n      <td>NaN</td>\n      <td>NaN</td>\n      <td>NaN</td>\n      <td>1.0</td>\n      <td>NaN</td>\n      <td>NaN</td>\n      <td>NaN</td>\n      <td>NaN</td>\n      <td>NaN</td>\n    </tr>\n    <tr>\n      <th>b4245</th>\n      <td>b4245 || 1 = ( ~ ((ura_e &gt; 0) | (gua_e &gt; 0)))</td>\n      <td>NaN</td>\n      <td>NaN</td>\n      <td>NaN</td>\n      <td>999999.0</td>\n      <td>999999.0</td>\n      <td>NaN</td>\n      <td>NaN</td>\n      <td>NaN</td>\n      <td>NaN</td>\n      <td>NaN</td>\n      <td>NaN</td>\n      <td>NaN</td>\n      <td>NaN</td>\n      <td>NaN</td>\n      <td>NaN</td>\n      <td>NaN</td>\n      <td>NaN</td>\n      <td>NaN</td>\n      <td>NaN</td>\n    </tr>\n    <tr>\n      <th>b2818</th>\n      <td>b2818 || 1 = ( ~ b3237)</td>\n      <td>NaN</td>\n      <td>NaN</td>\n      <td>NaN</td>\n      <td>NaN</td>\n      <td>NaN</td>\n      <td>NaN</td>\n      <td>NaN</td>\n      <td>NaN</td>\n      <td>NaN</td>\n      <td>NaN</td>\n      <td>NaN</td>\n      <td>NaN</td>\n      <td>NaN</td>\n      <td>1.0</td>\n      <td>NaN</td>\n      <td>NaN</td>\n      <td>NaN</td>\n      <td>NaN</td>\n      <td>NaN</td>\n    </tr>\n    <tr>\n      <th>b3960</th>\n      <td>b3960 || 1 = ( ~ b3237)</td>\n      <td>NaN</td>\n      <td>NaN</td>\n      <td>NaN</td>\n      <td>NaN</td>\n      <td>NaN</td>\n      <td>NaN</td>\n      <td>NaN</td>\n      <td>NaN</td>\n      <td>NaN</td>\n      <td>NaN</td>\n      <td>NaN</td>\n      <td>NaN</td>\n      <td>NaN</td>\n      <td>1.0</td>\n      <td>NaN</td>\n      <td>NaN</td>\n      <td>NaN</td>\n      <td>NaN</td>\n      <td>NaN</td>\n    </tr>\n    <tr>\n      <th>b3774</th>\n      <td>b3774 || 1 = b3773</td>\n      <td>NaN</td>\n      <td>NaN</td>\n      <td>NaN</td>\n      <td>NaN</td>\n      <td>NaN</td>\n      <td>NaN</td>\n      <td>NaN</td>\n      <td>NaN</td>\n      <td>NaN</td>\n      <td>NaN</td>\n      <td>NaN</td>\n      <td>NaN</td>\n      <td>NaN</td>\n      <td>NaN</td>\n      <td>0.0</td>\n      <td>NaN</td>\n      <td>NaN</td>\n      <td>NaN</td>\n      <td>NaN</td>\n    </tr>\n    <tr>\n      <th>b2762</th>\n      <td>b2762 || 1 = b1275</td>\n      <td>NaN</td>\n      <td>NaN</td>\n      <td>0.0</td>\n      <td>NaN</td>\n      <td>NaN</td>\n      <td>NaN</td>\n      <td>NaN</td>\n      <td>NaN</td>\n      <td>NaN</td>\n      <td>NaN</td>\n      <td>NaN</td>\n      <td>NaN</td>\n      <td>NaN</td>\n      <td>NaN</td>\n      <td>NaN</td>\n      <td>NaN</td>\n      <td>NaN</td>\n      <td>NaN</td>\n      <td>NaN</td>\n    </tr>\n    <tr>\n      <th>b3359</th>\n      <td>b3359 || 1 = ( ~ b3237)</td>\n      <td>NaN</td>\n      <td>NaN</td>\n      <td>NaN</td>\n      <td>NaN</td>\n      <td>NaN</td>\n      <td>NaN</td>\n      <td>NaN</td>\n      <td>NaN</td>\n      <td>NaN</td>\n      <td>NaN</td>\n      <td>NaN</td>\n      <td>NaN</td>\n      <td>NaN</td>\n      <td>1.0</td>\n      <td>NaN</td>\n      <td>NaN</td>\n      <td>NaN</td>\n      <td>NaN</td>\n      <td>NaN</td>\n    </tr>\n    <tr>\n      <th>b1264</th>\n      <td>b1264 || 1 = ( ~ b4393)</td>\n      <td>NaN</td>\n      <td>1.0</td>\n      <td>NaN</td>\n      <td>NaN</td>\n      <td>NaN</td>\n      <td>NaN</td>\n      <td>NaN</td>\n      <td>NaN</td>\n      <td>NaN</td>\n      <td>NaN</td>\n      <td>NaN</td>\n      <td>NaN</td>\n      <td>NaN</td>\n      <td>NaN</td>\n      <td>NaN</td>\n      <td>NaN</td>\n      <td>NaN</td>\n      <td>NaN</td>\n      <td>NaN</td>\n    </tr>\n    <tr>\n      <th>b2750</th>\n      <td>b2750 || 1 = b1275</td>\n      <td>NaN</td>\n      <td>NaN</td>\n      <td>0.0</td>\n      <td>NaN</td>\n      <td>NaN</td>\n      <td>NaN</td>\n      <td>NaN</td>\n      <td>NaN</td>\n      <td>NaN</td>\n      <td>NaN</td>\n      <td>NaN</td>\n      <td>NaN</td>\n      <td>NaN</td>\n      <td>NaN</td>\n      <td>NaN</td>\n      <td>NaN</td>\n      <td>NaN</td>\n      <td>NaN</td>\n      <td>NaN</td>\n    </tr>\n    <tr>\n      <th>b4005</th>\n      <td>b4005 || 1 = ( ~ b1658)</td>\n      <td>1.0</td>\n      <td>NaN</td>\n      <td>NaN</td>\n      <td>NaN</td>\n      <td>NaN</td>\n      <td>NaN</td>\n      <td>NaN</td>\n      <td>NaN</td>\n      <td>NaN</td>\n      <td>NaN</td>\n      <td>NaN</td>\n      <td>NaN</td>\n      <td>NaN</td>\n      <td>NaN</td>\n      <td>NaN</td>\n      <td>NaN</td>\n      <td>NaN</td>\n      <td>NaN</td>\n      <td>NaN</td>\n    </tr>\n    <tr>\n      <th>b4244</th>\n      <td>b4244 || 1 = ( ~ ((ura_e &gt; 0) | (gua_e &gt; 0)))</td>\n      <td>NaN</td>\n      <td>NaN</td>\n      <td>NaN</td>\n      <td>999999.0</td>\n      <td>999999.0</td>\n      <td>NaN</td>\n      <td>NaN</td>\n      <td>NaN</td>\n      <td>NaN</td>\n      <td>NaN</td>\n      <td>NaN</td>\n      <td>NaN</td>\n      <td>NaN</td>\n      <td>NaN</td>\n      <td>NaN</td>\n      <td>NaN</td>\n      <td>NaN</td>\n      <td>NaN</td>\n      <td>NaN</td>\n    </tr>\n    <tr>\n      <th>b1092</th>\n      <td>b1092 || 1 = ( ~ Stringent)</td>\n      <td>NaN</td>\n      <td>NaN</td>\n      <td>NaN</td>\n      <td>NaN</td>\n      <td>NaN</td>\n      <td>NaN</td>\n      <td>NaN</td>\n      <td>NaN</td>\n      <td>NaN</td>\n      <td>NaN</td>\n      <td>NaN</td>\n      <td>NaN</td>\n      <td>NaN</td>\n      <td>NaN</td>\n      <td>NaN</td>\n      <td>1.0</td>\n      <td>NaN</td>\n      <td>NaN</td>\n      <td>NaN</td>\n    </tr>\n    <tr>\n      <th>b3959</th>\n      <td>b3959 || 1 = ( ~ b3237)</td>\n      <td>NaN</td>\n      <td>NaN</td>\n      <td>NaN</td>\n      <td>NaN</td>\n      <td>NaN</td>\n      <td>NaN</td>\n      <td>NaN</td>\n      <td>NaN</td>\n      <td>NaN</td>\n      <td>NaN</td>\n      <td>NaN</td>\n      <td>NaN</td>\n      <td>NaN</td>\n      <td>1.0</td>\n      <td>NaN</td>\n      <td>NaN</td>\n      <td>NaN</td>\n      <td>NaN</td>\n      <td>NaN</td>\n    </tr>\n    <tr>\n      <th>b0073</th>\n      <td>b0073 || 1 = (( ~ (leu_DASH_L_e &gt; 0)) | b0889)</td>\n      <td>NaN</td>\n      <td>NaN</td>\n      <td>NaN</td>\n      <td>NaN</td>\n      <td>NaN</td>\n      <td>NaN</td>\n      <td>NaN</td>\n      <td>NaN</td>\n      <td>NaN</td>\n      <td>NaN</td>\n      <td>NaN</td>\n      <td>999999.0</td>\n      <td>0.0</td>\n      <td>NaN</td>\n      <td>NaN</td>\n      <td>NaN</td>\n      <td>NaN</td>\n      <td>NaN</td>\n      <td>NaN</td>\n    </tr>\n    <tr>\n      <th>b2422</th>\n      <td>b2422 || 1 = b1275</td>\n      <td>NaN</td>\n      <td>NaN</td>\n      <td>0.0</td>\n      <td>NaN</td>\n      <td>NaN</td>\n      <td>NaN</td>\n      <td>NaN</td>\n      <td>NaN</td>\n      <td>NaN</td>\n      <td>NaN</td>\n      <td>NaN</td>\n      <td>NaN</td>\n      <td>NaN</td>\n      <td>NaN</td>\n      <td>NaN</td>\n      <td>NaN</td>\n      <td>NaN</td>\n      <td>NaN</td>\n      <td>NaN</td>\n    </tr>\n    <tr>\n      <th>b3730</th>\n      <td>b3730 || 1 = b0676</td>\n      <td>NaN</td>\n      <td>NaN</td>\n      <td>NaN</td>\n      <td>NaN</td>\n      <td>NaN</td>\n      <td>NaN</td>\n      <td>NaN</td>\n      <td>NaN</td>\n      <td>NaN</td>\n      <td>NaN</td>\n      <td>NaN</td>\n      <td>NaN</td>\n      <td>NaN</td>\n      <td>NaN</td>\n      <td>NaN</td>\n      <td>NaN</td>\n      <td>0.0</td>\n      <td>NaN</td>\n      <td>NaN</td>\n    </tr>\n    <tr>\n      <th>b2600</th>\n      <td>b2600 || 1 = ( ~ (((phe_DASH_L_e &gt; 10) | (tyr_...</td>\n      <td>NaN</td>\n      <td>NaN</td>\n      <td>NaN</td>\n      <td>NaN</td>\n      <td>NaN</td>\n      <td>NaN</td>\n      <td>NaN</td>\n      <td>999999.0</td>\n      <td>NaN</td>\n      <td>NaN</td>\n      <td>NaN</td>\n      <td>NaN</td>\n      <td>NaN</td>\n      <td>NaN</td>\n      <td>NaN</td>\n      <td>NaN</td>\n      <td>NaN</td>\n      <td>999999.0</td>\n      <td>1.0</td>\n    </tr>\n    <tr>\n      <th>b0071</th>\n      <td>b0071 || 1 = (( ~ (leu_DASH_L_e &gt; 0)) | b0889)</td>\n      <td>NaN</td>\n      <td>NaN</td>\n      <td>NaN</td>\n      <td>NaN</td>\n      <td>NaN</td>\n      <td>NaN</td>\n      <td>NaN</td>\n      <td>NaN</td>\n      <td>NaN</td>\n      <td>NaN</td>\n      <td>NaN</td>\n      <td>999999.0</td>\n      <td>0.0</td>\n      <td>NaN</td>\n      <td>NaN</td>\n      <td>NaN</td>\n      <td>NaN</td>\n      <td>NaN</td>\n      <td>NaN</td>\n    </tr>\n    <tr>\n      <th>b0074</th>\n      <td>b0074 || 1 = (( ~ (leu_DASH_L_e &gt; 0)) | b0889)</td>\n      <td>NaN</td>\n      <td>NaN</td>\n      <td>NaN</td>\n      <td>NaN</td>\n      <td>NaN</td>\n      <td>NaN</td>\n      <td>NaN</td>\n      <td>NaN</td>\n      <td>NaN</td>\n      <td>NaN</td>\n      <td>NaN</td>\n      <td>999999.0</td>\n      <td>0.0</td>\n      <td>NaN</td>\n      <td>NaN</td>\n      <td>NaN</td>\n      <td>NaN</td>\n      <td>NaN</td>\n      <td>NaN</td>\n    </tr>\n    <tr>\n      <th>b2751</th>\n      <td>b2751 || 1 = b1275</td>\n      <td>NaN</td>\n      <td>NaN</td>\n      <td>0.0</td>\n      <td>NaN</td>\n      <td>NaN</td>\n      <td>NaN</td>\n      <td>NaN</td>\n      <td>NaN</td>\n      <td>NaN</td>\n      <td>NaN</td>\n      <td>NaN</td>\n      <td>NaN</td>\n      <td>NaN</td>\n      <td>NaN</td>\n      <td>NaN</td>\n      <td>NaN</td>\n      <td>NaN</td>\n      <td>NaN</td>\n      <td>NaN</td>\n    </tr>\n    <tr>\n      <th>b0031</th>\n      <td>b0031 || 1 = ( ~ (lys_DASH_L_e &gt; 0))</td>\n      <td>NaN</td>\n      <td>NaN</td>\n      <td>NaN</td>\n      <td>NaN</td>\n      <td>NaN</td>\n      <td>NaN</td>\n      <td>NaN</td>\n      <td>NaN</td>\n      <td>NaN</td>\n      <td>NaN</td>\n      <td>999999.0</td>\n      <td>NaN</td>\n      <td>NaN</td>\n      <td>NaN</td>\n      <td>NaN</td>\n      <td>NaN</td>\n      <td>NaN</td>\n      <td>NaN</td>\n      <td>NaN</td>\n    </tr>\n    <tr>\n      <th>b3957</th>\n      <td>b3957 || 1 = ( ~ b3237)</td>\n      <td>NaN</td>\n      <td>NaN</td>\n      <td>NaN</td>\n      <td>NaN</td>\n      <td>NaN</td>\n      <td>NaN</td>\n      <td>NaN</td>\n      <td>NaN</td>\n      <td>NaN</td>\n      <td>NaN</td>\n      <td>NaN</td>\n      <td>NaN</td>\n      <td>NaN</td>\n      <td>1.0</td>\n      <td>NaN</td>\n      <td>NaN</td>\n      <td>NaN</td>\n      <td>NaN</td>\n      <td>NaN</td>\n    </tr>\n  </tbody>\n</table>\n</div>"
     },
     "execution_count": 11,
     "metadata": {},
     "output_type": "execute_result"
    }
   ],
   "source": [
    "repressed_genes, repressed_reactions = find_conflicts(model)\n",
    "repressed_genes"
   ],
   "metadata": {
    "collapsed": false
   }
  },
  {
   "cell_type": "code",
   "execution_count": 9,
   "outputs": [
    {
     "data": {
      "text/plain": "RFBA Solution\n Objective value: 0.7632523603559114\n Status: optimal",
      "text/html": "\n        <table>\n            <tr>\n                <td>Method</td>\n                <td>RFBA</td>\n            </tr>\n            <tr>\n                <td>Model</td>\n                <td>Model iMC1010 - Reed2003 - Genome-scale metabolic network of Escherichia coli (iJR904)</td>\n            </tr>\n            <tr>\n                <th>Objective</th>\n                <td>BiomassEcoli</td>\n            </tr>\n            <tr>\n                <th>Objective value</th>\n                <td>0.7632523603559114</td>\n            </tr>\n            <tr>\n                <th>Status</th>\n                <td>optimal</td>\n            </tr>\n        </table>\n        "
     },
     "execution_count": 9,
     "metadata": {},
     "output_type": "execute_result"
    }
   ],
   "source": [
    "# steady-state RFBA. The initial state is passed in the optimize method\n",
    "rfba = RFBA(model).build()\n",
    "solution = rfba.optimize(initial_state=initial_state)\n",
    "solution"
   ],
   "metadata": {
    "collapsed": false
   }
  },
  {
   "cell_type": "code",
   "execution_count": 10,
   "outputs": [
    {
     "data": {
      "text/plain": "{'t_0': RFBA Solution\n  Objective value: 0.5476893156724354\n  Status: optimal,\n 't_1': RFBA Solution\n  Objective value: 0.5476893156724354\n  Status: optimal}"
     },
     "execution_count": 10,
     "metadata": {},
     "output_type": "execute_result"
    }
   ],
   "source": [
    "# dynamic RFBA\n",
    "dynamic_solution = rfba.optimize(initial_state=initial_state, dynamic=True)\n",
    "dynamic_solution.solutions"
   ],
   "metadata": {
    "collapsed": false
   }
  },
  {
   "cell_type": "markdown",
   "source": [
    "## SRFBA"
   ],
   "metadata": {
    "collapsed": false
   }
  },
  {
   "cell_type": "code",
   "execution_count": 3,
   "outputs": [],
   "source": [
    "# loading model\n",
    "model = read_model(imc1010_gem_reader, imc1010_trn_reader)\n",
    "\n",
    "# objective function\n",
    "BIOMASS_ID = 'BiomassEcoli'\n",
    "model.objective = {BIOMASS_ID: 1}"
   ],
   "metadata": {
    "collapsed": false
   }
  },
  {
   "cell_type": "markdown",
   "source": [
    "SRFBA does not need an initial state in most cases. As this method performs a steady-state simulation using MILP, the solver tries to find the regulatory state favoring reactions that contribute to faster growth rates. Regulatory variables can take values between zero and one, as they are not set initially."
   ],
   "metadata": {
    "collapsed": false
   }
  },
  {
   "cell_type": "code",
   "execution_count": 6,
   "outputs": [
    {
     "data": {
      "text/plain": "SRFBA Solution\n Objective value: 0.8218562181811009\n Status: optimal",
      "text/html": "\n        <table>\n            <tr>\n                <td>Method</td>\n                <td>SRFBA</td>\n            </tr>\n            <tr>\n                <td>Model</td>\n                <td>Model iMC1010 - Reed2003 - Genome-scale metabolic network of Escherichia coli (iJR904)</td>\n            </tr>\n            <tr>\n                <th>Objective</th>\n                <td>BiomassEcoli</td>\n            </tr>\n            <tr>\n                <th>Objective value</th>\n                <td>0.8218562181811009</td>\n            </tr>\n            <tr>\n                <th>Status</th>\n                <td>optimal</td>\n            </tr>\n        </table>\n        "
     },
     "execution_count": 6,
     "metadata": {},
     "output_type": "execute_result"
    }
   ],
   "source": [
    "# steady-state SRFBA\n",
    "srfba = SRFBA(model).build()\n",
    "solution = srfba.optimize()\n",
    "solution"
   ],
   "metadata": {
    "collapsed": false
   }
  },
  {
   "cell_type": "markdown",
   "source": [
    "## iFVA, iDeletions"
   ],
   "metadata": {
    "collapsed": false
   }
  },
  {
   "cell_type": "code",
   "execution_count": null,
   "outputs": [],
   "source": [],
   "metadata": {
    "collapsed": false
   }
  },
  {
   "cell_type": "markdown",
   "source": [
    "## PROM"
   ],
   "metadata": {
    "collapsed": false
   }
  },
  {
   "cell_type": "code",
   "execution_count": null,
   "outputs": [],
   "source": [],
   "metadata": {
    "collapsed": false
   }
  },
  {
   "cell_type": "markdown",
   "source": [
    "## CoRegFlux"
   ],
   "metadata": {
    "collapsed": false
   }
  },
  {
   "cell_type": "code",
   "execution_count": null,
   "outputs": [],
   "source": [],
   "metadata": {
    "collapsed": false
   }
  }
 ],
 "metadata": {
  "kernelspec": {
   "display_name": "Python 3",
   "language": "python",
   "name": "python3"
  },
  "language_info": {
   "codemirror_mode": {
    "name": "ipython",
    "version": 2
   },
   "file_extension": ".py",
   "mimetype": "text/x-python",
   "name": "python",
   "nbconvert_exporter": "python",
   "pygments_lexer": "ipython2",
   "version": "2.7.6"
  }
 },
 "nbformat": 4,
 "nbformat_minor": 0
}
