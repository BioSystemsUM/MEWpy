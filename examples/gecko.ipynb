{
 "cells": [
  {
   "cell_type": "markdown",
   "metadata": {},
   "source": [
    "## MEWpy\n",
    "Metabolic Engineering Workbench"
   ]
  },
  {
   "cell_type": "markdown",
   "metadata": {},
   "source": [
    "Gecko model simulation example"
   ]
  },
  {
   "cell_type": "code",
   "execution_count": 1,
   "metadata": {},
   "outputs": [],
   "source": [
    "from mewpy.model.gecko import GeckoModel\n",
    "model = GeckoModel('single-pool')"
   ]
  },
  {
   "cell_type": "markdown",
   "metadata": {},
   "source": [
    "The Simulation class enables to easily perform simulations considering specific environmental conditions as well as other constraint, such protein knockouts or over/under expression. \n",
    " "
   ]
  },
  {
   "cell_type": "code",
   "execution_count": 2,
   "metadata": {},
   "outputs": [],
   "source": [
    "from mewpy.simulation import get_simulator\n",
    "envcond = {'r_1714_REV':(0,1000)}\n",
    "simul = get_simulator(model,envcond= envcond)"
   ]
  },
  {
   "cell_type": "code",
   "execution_count": 3,
   "metadata": {},
   "outputs": [
    {
     "name": "stdout",
     "output_type": "stream",
     "text": [
      "objective: 0.3254251070535827\n",
      "Status: SStatus.OPTIMAL\n"
     ]
    }
   ],
   "source": [
    "# FBA\n",
    "result =simul.simulate()\n",
    "print(result)\n",
    "\n",
    "# Other methods can explicitly be defined\n",
    "from mewpy.simulation import  SimulationMethod\n",
    "result= simul.simulate(method= SimulationMethod.pFBA)\n",
    "reference = result.fluxes\n"
   ]
  },
  {
   "cell_type": "code",
   "execution_count": 4,
   "metadata": {},
   "outputs": [
    {
     "data": {
      "text/plain": [
       "['draw_prot_P49367',\n",
       " 'draw_prot_P17423',\n",
       " 'draw_prot_Q12189',\n",
       " 'draw_prot_P15625',\n",
       " 'draw_prot_P07277',\n",
       " 'draw_prot_P00958',\n",
       " 'draw_prot_P07172',\n",
       " 'draw_prot_P09950',\n",
       " 'draw_prot_P04802',\n",
       " 'draw_prot_P53852']"
      ]
     },
     "execution_count": 4,
     "metadata": {},
     "output_type": "execute_result"
    }
   ],
   "source": [
    "# Essential proteins\n",
    "simul.essential_proteins[:10]"
   ]
  },
  {
   "cell_type": "code",
   "execution_count": 21,
   "metadata": {},
   "outputs": [],
   "source": [
    "constraints ={'draw_prot_Q04396': (2.3029771980628338e-07,1000),'draw_prot_P27515':(0,0.0),'draw_prot_P53687':(0.0,1000),'draw_prot_P81450': 0,\n",
    "              'draw_prot_P41939': (3.944331158229099e-06,1000),'r_0659_REVNo1':0,'draw_prot_P19657':0,'draw_prot_P37254':(0.0,1000),\n",
    "              'draw_prot_P33317': 0,'draw_prot_P54114':(0,0.0),'draw_prot_P25373':(0.0,1000),'draw_prot_P08067':(0,2.1621430284827036e-06),\n",
    "              'draw_prot_P39002': (0.0,1000),'draw_prot_Q04792':(0.0,1000),'draw_prot_Q12320':(0.0,1000),'draw_prot_P07347':(0.0,1000),\n",
    "              'draw_prot_P00958':(0,3.4862363761891556e-06),'draw_prot_P15179': 0, 'draw_prot_P53332':(0.0,1000),'draw_prot_P23202':(0.0,1000),\n",
    "              'draw_prot_P21672':0,'draw_prot_P32191':0,'draw_prot_P38071': 0,'draw_prot_P06169':(0.00019588347980199452,1000),'draw_prot_P22803':0,\n",
    "              'draw_prot_P38986':(0.0,1000),'draw_prot_P32621': (0.0,1000),'draw_prot_P27472':(1.7311263946838522e-07,1000),\n",
    "              'draw_prot_P00549': (0,1.624598159388334e-05),'draw_prot_P32796':0}"
   ]
  },
  {
   "cell_type": "code",
   "execution_count": 24,
   "metadata": {},
   "outputs": [
    {
     "data": {
      "text/plain": [
       "4.651395466320041"
      ]
     },
     "execution_count": 24,
     "metadata": {},
     "output_type": "execute_result"
    }
   ],
   "source": [
    "result = simul.simulate(constraints=constraints)\n",
    "result.fluxes['r_2111']\n",
    "result.fluxes['r_2056']"
   ]
  },
  {
   "cell_type": "markdown",
   "metadata": {},
   "source": [
    "## GECKO model Optimization\n",
    "\n",
    "The optimization is performed by defining an Evolutionary Algorithm Optimization Problem.\n",
    "MEWpy can resort to inspyred as well as to jmetalpy packages to drive the optimization process.\n",
    "\n",
    "To define a problem we start by identifiying the objective functions:"
   ]
  },
  {
   "cell_type": "code",
   "execution_count": 28,
   "metadata": {},
   "outputs": [],
   "source": [
    "from mewpy.optimization.evaluation import BPCY,WYIELD\n",
    "\n",
    "evaluator_1 = WYIELD(\"r_2111\", \"r_1913\")\n",
    "evaluator_2 = BPCY(\"r_2111\", \"r_1913\", uptake = \"r_1714_REV\", method=SimulationMethod.lMOMA ,reference=reference) "
   ]
  },
  {
   "cell_type": "code",
   "execution_count": 31,
   "metadata": {},
   "outputs": [],
   "source": [
    "# creates a new KO optimization problem\n",
    "from mewpy.problems import GeckoKOProblem\n",
    "\n",
    "# The problem takes as parameters the model, the objectives, optional environmental conditions,\n",
    "# and the maximum number of simultaneous KOs. Other parameters can be passed such as, for example, \n",
    "# target or, alternatively, non target proteins. If not provided, targets are all non essential proteins. \n",
    "\n",
    "problem = GeckoKOProblem(model, \n",
    "                          fevaluation=[evaluator_1,evaluator_2], \n",
    "                          envcond = envcond,\n",
    "                          candidate_max_size = 30)"
   ]
  },
  {
   "cell_type": "code",
   "execution_count": 34,
   "metadata": {},
   "outputs": [
    {
     "name": "stdout",
     "output_type": "stream",
     "text": [
      "Generation Evaluation|      Worst       Best     Median    Average    Std Dev|      Worst       Best     Median    Average    Std Dev|\n",
      "         0        100|   0.000000   0.000017   0.000000   0.000001   0.000005|   0.000000   0.000000   0.000000   0.000000   0.000000|\n",
      "         1        200|   0.000000   0.000017   0.000000   0.000002   0.000006|   0.000000   0.000000   0.000000   0.000000   0.000000|\n",
      "         2        300|   0.000000   0.000017   0.000000   0.000004   0.000007|   0.000000   0.000000   0.000000   0.000000   0.000000|\n",
      "         3        400|   0.000000   0.000017   0.000000   0.000008   0.000008|   0.000000   0.000000   0.000000   0.000000   0.000000|\n",
      "         4        500|   0.000000   0.000017   0.000016   0.000013   0.000006|   0.000000   0.000000   0.000000   0.000000   0.000000|\n",
      "         5        600|   0.000016   0.000017   0.000017   0.000017   0.000000|   0.000000   0.000000   0.000000   0.000000   0.000000|\n",
      "         6        700|   0.000016   0.000017   0.000017   0.000017   0.000000|   0.000000   0.000000   0.000000   0.000000   0.000000|\n",
      "         7        800|   0.000016   0.000017   0.000017   0.000017   0.000000|   0.000000   0.000000   0.000000   0.000000   0.000000|\n",
      "         8        900|   0.000017   0.000017   0.000017   0.000017   0.000000|   0.000000   0.000000   0.000000   0.000000   0.000000|\n",
      "         9       1000|   0.000017   0.000017   0.000017   0.000017   0.000000|   0.000000   0.000000   0.000000   0.000000   0.000000|\n",
      "        10       1100|   0.000017   0.000017   0.000017   0.000017   0.000000|   0.000000   0.000000   0.000000   0.000000   0.000000|\n"
     ]
    }
   ],
   "source": [
    "from mewpy.optimization import EA\n",
    "\n",
    "# A new instance of the EA optimizer for the problem with a stopping criteria of 10 iterations (1000 evaluations)\n",
    "ea = EA(problem, max_generations = 10, mp =True, visualizer = True)\n",
    "\n",
    "# runs the optimization\n",
    "final_pop = ea.run()\n"
   ]
  },
  {
   "cell_type": "code",
   "execution_count": null,
   "metadata": {},
   "outputs": [],
   "source": [
    "# Save the solutions to a csv file\n",
    "import mewpy.utils.utilities as util\n",
    "util.population_to_csv(problem,final_pop,'results.csv')"
   ]
  }
 ],
 "metadata": {
  "kernelspec": {
   "display_name": "Python 3",
   "language": "python",
   "name": "python3"
  },
  "language_info": {
   "codemirror_mode": {
    "name": "ipython",
    "version": 3
   },
   "file_extension": ".py",
   "mimetype": "text/x-python",
   "name": "python",
   "nbconvert_exporter": "python",
   "pygments_lexer": "ipython3",
   "version": "3.7.6"
  }
 },
 "nbformat": 4,
 "nbformat_minor": 2
}