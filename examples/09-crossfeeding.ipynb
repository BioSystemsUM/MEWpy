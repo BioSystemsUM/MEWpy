{
 "cells": [
  {
   "cell_type": "markdown",
   "id": "e5773faf",
   "metadata": {},
   "source": [
    "# MEWpy Optimization\n",
    "\n",
    "\n",
    "Author: Vitor Pereira\n",
    "\n",
    "License: [CC BY-SA 4.0](http://creativecommons.org/licenses/by-sa/4.0/)\n",
    "\n",
    "-------\n",
    "\n",
    "In this tutorial:\n",
    "\n",
    "- You will learn how to run combinatorial optimization on microbial communities using MEWpy"
   ]
  },
  {
   "cell_type": "markdown",
   "id": "72031191",
   "metadata": {},
   "source": [
    "## Bacterial cross-feeding via extensive gene loss\n",
    "\n",
    "Metabolic dependencies between microbial species have a significant impact on the\n",
    "assembly and activity of microbial communities. However, the evolutionary origins of\n",
    "such dependencies and the impact of metabolic and genomic architecture on their\n",
    "emergence are not clear.\n",
    "\n",
    "Recently, [McNally et al.](https://doi.org/10.1186/s12918-018-0588-4) proposed a method to evolve\n",
    "cooperative interactions among microbial species by fostering cross-feeding of a\n",
    "diverse set of metabolites. This was achieved by incrementaly deleting genes on\n",
    "initially two identical bacterias (E. coli) and increasingly imposing constraints on the\n",
    "community metabolic network such that two new strains evolve and start to diverge\n",
    "while maximizing the differences on their genotypes.\n",
    "\n",
    "The aim is to replicate the experiments using\n",
    "MEWpy to maximize the number of deleted genes on the two strains\n",
    "while inducing cross-feeding. "
   ]
  },
  {
   "cell_type": "markdown",
   "id": "e3fe3979",
   "metadata": {},
   "source": [
    "### Run in Google colab\n",
    "\n",
    "If you are running this notebook in Colab, you need to perform the following steps, otherwise skip."
   ]
  },
  {
   "cell_type": "code",
   "execution_count": 1,
   "id": "6d67604e",
   "metadata": {},
   "outputs": [],
   "source": [
    "%%bash\n",
    "[[ ! -e /colabtools ]] && exit\n",
    "! pip install -U -q PyDrive"
   ]
  },
  {
   "cell_type": "code",
   "execution_count": 2,
   "id": "bfa8ecf8",
   "metadata": {},
   "outputs": [],
   "source": [
    "if 'google.colab' in str(get_ipython()):\n",
    "    from pydrive.auth import GoogleAuth\n",
    "    from pydrive.drive import GoogleDrive\n",
    "    from google.colab import auth\n",
    "    from oauth2client.client import GoogleCredentials\n",
    "\n",
    "    auth.authenticate_user()\n",
    "    gauth = GoogleAuth()\n",
    "    gauth.credentials = GoogleCredentials.get_application_default()\n",
    "    drive = GoogleDrive(gauth)\n",
    "\n",
    "    model_file = drive.CreateFile({'id':'1o0XthuEOs28UJ4XTa9SfFSFofazV-2nN'})\n",
    "    model_file.GetContentFile('e_coli_core.xml.gz')"
   ]
  },
  {
   "cell_type": "markdown",
   "id": "e78b9aa7",
   "metadata": {},
   "source": [
    "## Step 1 - Load the model"
   ]
  },
  {
   "cell_type": "code",
   "execution_count": 3,
   "id": "91b9045c",
   "metadata": {},
   "outputs": [
    {
     "name": "stdout",
     "output_type": "stream",
     "text": [
      "Scaling...\n",
      " A: min|aij| =  1.000e+00  max|aij| =  1.000e+00  ratio =  1.000e+00\n",
      "Problem data seem to be well scaled\n"
     ]
    }
   ],
   "source": [
    "from cobra.io import read_sbml_model\n",
    "import warnings\n",
    "warnings.filterwarnings('ignore')\n",
    "\n",
    "model = read_sbml_model('models/ec/e_coli_core.xml.gz')"
   ]
  },
  {
   "cell_type": "markdown",
   "id": "a2b4fc59",
   "metadata": {},
   "source": [
    "We will make two copies of the model and rename the two strains"
   ]
  },
  {
   "cell_type": "code",
   "execution_count": 4,
   "id": "8dc4a04c",
   "metadata": {},
   "outputs": [],
   "source": [
    "from mewpy import get_simulator\n",
    "wildtype = get_simulator(model)"
   ]
  },
  {
   "cell_type": "code",
   "execution_count": 5,
   "id": "726079e0",
   "metadata": {},
   "outputs": [],
   "source": [
    "ec1 = wildtype.copy()\n",
    "ec1.id = 'ec1'\n",
    "ec2 =wildtype.copy()\n",
    "ec2.id = 'ec2'"
   ]
  },
  {
   "cell_type": "markdown",
   "id": "dc4947e9",
   "metadata": {},
   "source": [
    "In the experiment, we will use the medium defined in the model"
   ]
  },
  {
   "cell_type": "code",
   "execution_count": 6,
   "id": "67413af6",
   "metadata": {
    "scrolled": true
   },
   "outputs": [
    {
     "data": {
      "text/plain": [
       "EX_ac_e\t0.0\t1000.0\n",
       "EX_acald_e\t0.0\t1000.0\n",
       "EX_akg_e\t0.0\t1000.0\n",
       "EX_co2_e\t-1000.0\t1000.0\n",
       "EX_etoh_e\t0.0\t1000.0\n",
       "EX_for_e\t0.0\t1000.0\n",
       "EX_fru_e\t0.0\t1000.0\n",
       "EX_fum_e\t0.0\t1000.0\n",
       "EX_glc__D_e\t-10.0\t1000.0\n",
       "EX_gln__L_e\t0.0\t1000.0\n",
       "EX_glu__L_e\t0.0\t1000.0\n",
       "EX_h_e\t-1000.0\t1000.0\n",
       "EX_h2o_e\t-1000.0\t1000.0\n",
       "EX_lac__D_e\t0.0\t1000.0\n",
       "EX_mal__L_e\t0.0\t1000.0\n",
       "EX_nh4_e\t-1000.0\t1000.0\n",
       "EX_o2_e\t-1000.0\t1000.0\n",
       "EX_pi_e\t-1000.0\t1000.0\n",
       "EX_pyr_e\t0.0\t1000.0\n",
       "EX_succ_e\t0.0\t1000.0"
      ]
     },
     "execution_count": 6,
     "metadata": {},
     "output_type": "execute_result"
    }
   ],
   "source": [
    "from mewpy.simulation import Environment\n",
    "medium = Environment.from_model(wildtype)\n",
    "medium"
   ]
  },
  {
   "cell_type": "markdown",
   "id": "ab9eb23a",
   "metadata": {},
   "source": [
    "## Step 2 - Find single strain gene KOs"
   ]
  },
  {
   "cell_type": "markdown",
   "id": "08e4afb9",
   "metadata": {},
   "source": [
    "Two make the search for combinatorial gene deletion on the community model, we will first idenfify combinatorial gene delerions in one strain, and use these results to seed the community gene deletions.\n",
    "\n",
    "We start by defining a gene deletion optimization problem (`GKOProblem`) defining as objective the maximization of biomass production (f1) and the maximization of the number of deletions."
   ]
  },
  {
   "cell_type": "code",
   "execution_count": 7,
   "id": "b9e85e16",
   "metadata": {},
   "outputs": [],
   "source": [
    "from mewpy.problems import GKOProblem\n",
    "from mewpy.optimization.evaluation import TargetFlux, CandidateSize"
   ]
  },
  {
   "cell_type": "code",
   "execution_count": 8,
   "id": "3a1b7690",
   "metadata": {},
   "outputs": [],
   "source": [
    "f1 = TargetFlux(wildtype.biomass_reaction,method='FBA')\n",
    "f2 = CandidateSize(maximize=True)"
   ]
  },
  {
   "cell_type": "markdown",
   "id": "3752311b",
   "metadata": {},
   "source": [
    "To simpilfy the problem, we will define a maximum of 30 gene deletion and run 10 optimization iterations."
   ]
  },
  {
   "cell_type": "code",
   "execution_count": 9,
   "id": "cc1828d2",
   "metadata": {},
   "outputs": [],
   "source": [
    "problem = GKOProblem(wildtype,\n",
    "                     [f1,f2],\n",
    "                     candidate_max_size = 30)\n"
   ]
  },
  {
   "cell_type": "code",
   "execution_count": 10,
   "id": "d838bef7",
   "metadata": {},
   "outputs": [
    {
     "name": "stdout",
     "output_type": "stream",
     "text": [
      "Building modification target list.\n"
     ]
    },
    {
     "name": "stderr",
     "output_type": "stream",
     "text": [
      "100%|████████████████████████████████████████| 137/137 [00:00<00:00, 946.58it/s]"
     ]
    },
    {
     "name": "stdout",
     "output_type": "stream",
     "text": [
      "Running NSGAII\n"
     ]
    },
    {
     "name": "stderr",
     "output_type": "stream",
     "text": [
      "\n"
     ]
    },
    {
     "name": "stdout",
     "output_type": "stream",
     "text": [
      "Eval(s)|     Worst      Best    Median   Average   Std Dev|     Worst      Best    Median   Average   Std Dev|\n",
      "    100|  -0.000000  0.873922  0.200142  0.276513  0.324813|  1.000000  30.000000  11.500000  13.320000  9.491976|\n",
      "    200|  -0.000000  0.873922  0.211663  0.335655  0.334148|  1.000000  30.000000  15.500000  16.010000  9.770870|\n",
      "    300|  -0.000000  0.873922  0.374230  0.422478  0.347667|  1.000000  30.000000  16.500000  16.000000  9.145491|\n",
      "    400|  0.000000  0.873922  0.374230  0.515418  0.307693|  1.000000  30.000000  15.000000  14.880000  7.948937|\n",
      "    500|  0.000000  0.873922  0.668379  0.560012  0.302890|  1.000000  30.000000  15.000000  15.120000  7.942644|\n",
      "    600|  0.136911  0.873922  0.812833  0.616584  0.286887|  1.000000  30.000000  15.000000  15.330000  7.932282|\n",
      "    700|  0.167177  0.873922  0.861060  0.677499  0.275862|  1.000000  30.000000  13.000000  14.500000  7.985612|\n",
      "    800|  0.000000  0.873922  0.857710  0.670464  0.276669|  1.000000  30.000000  14.500000  16.140000  7.560450|\n",
      "    900|  0.167609  0.873922  0.857710  0.676144  0.269205|  1.000000  30.000000  16.000000  16.830000  7.396019|\n",
      "   1000|  0.167609  0.873922  0.857710  0.671626  0.275382|  1.000000  30.000000  17.500000  17.810000  7.752026|\n"
     ]
    }
   ],
   "source": [
    "from mewpy.optimization import EA\n",
    "ea = EA(problem, max_generations=10)\n",
    "gkos = ea.run(simplify=False)"
   ]
  },
  {
   "cell_type": "markdown",
   "id": "49b54036",
   "metadata": {},
   "source": [
    "We can have a look to the solution found by the evolutionary algoritm (EA)"
   ]
  },
  {
   "cell_type": "code",
   "execution_count": 11,
   "id": "22b63cf1",
   "metadata": {},
   "outputs": [
    {
     "data": {
      "text/html": [
       "<div>\n",
       "<style scoped>\n",
       "    .dataframe tbody tr th:only-of-type {\n",
       "        vertical-align: middle;\n",
       "    }\n",
       "\n",
       "    .dataframe tbody tr th {\n",
       "        vertical-align: top;\n",
       "    }\n",
       "\n",
       "    .dataframe thead th {\n",
       "        text-align: right;\n",
       "    }\n",
       "</style>\n",
       "<table border=\"1\" class=\"dataframe\">\n",
       "  <thead>\n",
       "    <tr style=\"text-align: right;\">\n",
       "      <th></th>\n",
       "      <th>Modification</th>\n",
       "      <th>Size</th>\n",
       "      <th>TargetFlux</th>\n",
       "      <th>Size</th>\n",
       "    </tr>\n",
       "  </thead>\n",
       "  <tbody>\n",
       "    <tr>\n",
       "      <th>0</th>\n",
       "      <td>{'b1380': 0, 'b3115': 0, 'b1602': 0, 'b2097': ...</td>\n",
       "      <td>5</td>\n",
       "      <td>0.873922</td>\n",
       "      <td>5.0</td>\n",
       "    </tr>\n",
       "    <tr>\n",
       "      <th>1</th>\n",
       "      <td>{'b4395': 0, 'b3115': 0, 'b4154': 0, 'b2133': ...</td>\n",
       "      <td>20</td>\n",
       "      <td>0.873922</td>\n",
       "      <td>20.0</td>\n",
       "    </tr>\n",
       "    <tr>\n",
       "      <th>2</th>\n",
       "      <td>{'b4152': 0, 'b1101': 0, 'b4395': 0, 'b3114': ...</td>\n",
       "      <td>14</td>\n",
       "      <td>0.873922</td>\n",
       "      <td>14.0</td>\n",
       "    </tr>\n",
       "    <tr>\n",
       "      <th>3</th>\n",
       "      <td>{'b4090': 0, 'b1276': 0, 'b3403': 0, 'b1602': ...</td>\n",
       "      <td>11</td>\n",
       "      <td>0.873922</td>\n",
       "      <td>11.0</td>\n",
       "    </tr>\n",
       "    <tr>\n",
       "      <th>4</th>\n",
       "      <td>{'b3115': 0, 'b3403': 0, 'b1761': 0, 'b2465': ...</td>\n",
       "      <td>21</td>\n",
       "      <td>0.851389</td>\n",
       "      <td>21.0</td>\n",
       "    </tr>\n",
       "    <tr>\n",
       "      <th>...</th>\n",
       "      <td>...</td>\n",
       "      <td>...</td>\n",
       "      <td>...</td>\n",
       "      <td>...</td>\n",
       "    </tr>\n",
       "    <tr>\n",
       "      <th>78</th>\n",
       "      <td>{'b0724': 0, 'b0722': 0, 'b4395': 0, 'b3737': ...</td>\n",
       "      <td>21</td>\n",
       "      <td>0.374230</td>\n",
       "      <td>21.0</td>\n",
       "    </tr>\n",
       "    <tr>\n",
       "      <th>79</th>\n",
       "      <td>{'b0902': 0, 'b3115': 0, 'b3403': 0, 'b1478': ...</td>\n",
       "      <td>23</td>\n",
       "      <td>0.374230</td>\n",
       "      <td>23.0</td>\n",
       "    </tr>\n",
       "    <tr>\n",
       "      <th>80</th>\n",
       "      <td>{'b1849': 0, 'b3115': 0, 'b1819': 0, 'b1723': ...</td>\n",
       "      <td>8</td>\n",
       "      <td>0.873922</td>\n",
       "      <td>8.0</td>\n",
       "    </tr>\n",
       "    <tr>\n",
       "      <th>81</th>\n",
       "      <td>{'b4395': 0, 'b3115': 0, 'b0118': 0, 'b3213': ...</td>\n",
       "      <td>24</td>\n",
       "      <td>0.211663</td>\n",
       "      <td>24.0</td>\n",
       "    </tr>\n",
       "    <tr>\n",
       "      <th>82</th>\n",
       "      <td>{'b4395': 0, 'b3115': 0, 'b1602': 0, 'b0118': ...</td>\n",
       "      <td>29</td>\n",
       "      <td>0.207557</td>\n",
       "      <td>29.0</td>\n",
       "    </tr>\n",
       "  </tbody>\n",
       "</table>\n",
       "<p>83 rows × 4 columns</p>\n",
       "</div>"
      ],
      "text/plain": [
       "                                         Modification  Size  TargetFlux  Size\n",
       "0   {'b1380': 0, 'b3115': 0, 'b1602': 0, 'b2097': ...     5    0.873922   5.0\n",
       "1   {'b4395': 0, 'b3115': 0, 'b4154': 0, 'b2133': ...    20    0.873922  20.0\n",
       "2   {'b4152': 0, 'b1101': 0, 'b4395': 0, 'b3114': ...    14    0.873922  14.0\n",
       "3   {'b4090': 0, 'b1276': 0, 'b3403': 0, 'b1602': ...    11    0.873922  11.0\n",
       "4   {'b3115': 0, 'b3403': 0, 'b1761': 0, 'b2465': ...    21    0.851389  21.0\n",
       "..                                                ...   ...         ...   ...\n",
       "78  {'b0724': 0, 'b0722': 0, 'b4395': 0, 'b3737': ...    21    0.374230  21.0\n",
       "79  {'b0902': 0, 'b3115': 0, 'b3403': 0, 'b1478': ...    23    0.374230  23.0\n",
       "80  {'b1849': 0, 'b3115': 0, 'b1819': 0, 'b1723': ...     8    0.873922   8.0\n",
       "81  {'b4395': 0, 'b3115': 0, 'b0118': 0, 'b3213': ...    24    0.211663  24.0\n",
       "82  {'b4395': 0, 'b3115': 0, 'b1602': 0, 'b0118': ...    29    0.207557  29.0\n",
       "\n",
       "[83 rows x 4 columns]"
      ]
     },
     "execution_count": 11,
     "metadata": {},
     "output_type": "execute_result"
    }
   ],
   "source": [
    "ea.dataframe()"
   ]
  },
  {
   "cell_type": "markdown",
   "id": "8dc329e4",
   "metadata": {},
   "source": [
    "and run an FBA on the first solution (the biomass is set by default as objective)"
   ]
  },
  {
   "cell_type": "code",
   "execution_count": 12,
   "id": "abe720b5",
   "metadata": {},
   "outputs": [
    {
     "data": {
      "text/plain": [
       "objective: 0.8739215069684315\n",
       "Status: OPTIMAL\n",
       "Method:SimulationMethod.FBA"
      ]
     },
     "execution_count": 12,
     "metadata": {},
     "output_type": "execute_result"
    }
   ],
   "source": [
    "problem.simulate(solution=gkos[0].values)"
   ]
  },
  {
   "cell_type": "markdown",
   "id": "6295108a",
   "metadata": {},
   "source": [
    "We may now generate solutions that will seed the EA to be used later in the community gene deletions."
   ]
  },
  {
   "cell_type": "code",
   "execution_count": 13,
   "id": "fa265f62",
   "metadata": {},
   "outputs": [],
   "source": [
    "import random\n",
    "\n",
    "init_pop = []\n",
    "for s in gkos:\n",
    "    x=s.values\n",
    "    init_pop.append([k+'_ec1' for k in x.keys()])\n",
    "    init_pop.append([k+'_ec2' for k in x.keys()])\n",
    "\n",
    "random.shuffle(init_pop)\n"
   ]
  },
  {
   "cell_type": "markdown",
   "id": "4eacf5b3",
   "metadata": {},
   "source": [
    "## Community mutants \n",
    "\n",
    "We can now address our main goal, starting by defining a community model:"
   ]
  },
  {
   "cell_type": "code",
   "execution_count": 14,
   "id": "a5ead7e5",
   "metadata": {},
   "outputs": [],
   "source": [
    "from mewpy.model import CommunityModel\n",
    "\n",
    "community= CommunityModel([ec1,ec2],flavor='cobra')\n",
    "sim = community.get_community_model()\n",
    "sim.set_environmental_conditions(medium)"
   ]
  },
  {
   "cell_type": "markdown",
   "id": "0fd206f6",
   "metadata": {},
   "source": [
    "We will consider 3 optimization objectives:\n",
    "\n",
    "- Maximize `ec1` growth while ensuring that `ec2` growth is above 0.1/h;\n",
    "- Maximize `ec2` growth while ensuring that `ec1` growth is above 0.1/h;\n",
    "- Maximize the total number of gene deletions.\n",
    "\n",
    "Although we will be using pFBA to select a specific solution, it is not actually a pFBA."
   ]
  },
  {
   "cell_type": "code",
   "execution_count": 15,
   "id": "4f1a046b",
   "metadata": {},
   "outputs": [],
   "source": [
    "f1 = TargetFlux(community.organisms_biomass['ec1'],\n",
    "                community.organisms_biomass['ec2'],\n",
    "                min_biomass_value=0.1,method='pFBA')\n",
    "\n",
    "f2 = TargetFlux(community.organisms_biomass['ec2'],\n",
    "                community.organisms_biomass['ec1'],\n",
    "                min_biomass_value=0.1,method='pFBA')\n",
    "\n",
    "f3 = CandidateSize(maximize=True)"
   ]
  },
  {
   "cell_type": "code",
   "execution_count": 16,
   "id": "bf6d8ef2",
   "metadata": {},
   "outputs": [],
   "source": [
    "problem = GKOProblem(sim,\n",
    "                     [f1,f2,f3],\n",
    "                     candidate_max_size = 60)"
   ]
  },
  {
   "cell_type": "markdown",
   "id": "e2d20b58",
   "metadata": {},
   "source": [
    "Now that we have defined the optimization problem, we may run it (for 10 iterations, and considering a maximum of 60 gene deletions in total)"
   ]
  },
  {
   "cell_type": "code",
   "execution_count": 17,
   "id": "d0febc71",
   "metadata": {},
   "outputs": [
    {
     "name": "stdout",
     "output_type": "stream",
     "text": [
      "Building modification target list.\n"
     ]
    },
    {
     "name": "stderr",
     "output_type": "stream",
     "text": [
      "100%|███████████████████████████████████████| 274/274 [00:00<00:00, 2085.73it/s]"
     ]
    },
    {
     "name": "stdout",
     "output_type": "stream",
     "text": [
      "Running NSGAII\n"
     ]
    },
    {
     "name": "stderr",
     "output_type": "stream",
     "text": [
      "\n"
     ]
    },
    {
     "name": "stdout",
     "output_type": "stream",
     "text": [
      "Eval(s)|     Worst      Best    Median   Average   Std Dev|     Worst      Best    Median   Average   Std Dev|     Worst      Best    Median   Average   Std Dev|\n",
      "    100|  -0.000000  0.712084  0.088564  0.178843  0.271528|  -0.000000  0.712084  0.088564  0.231985  0.309946|  2.000000  30.000000  19.000000  17.800000  7.858753|\n",
      "    200|  0.000000  0.712084  0.119112  0.250077  0.299433|  0.000000  0.712084  0.119112  0.286097  0.315875|  4.000000  30.000000  16.000000  17.870000  7.462781|\n",
      "    300|  -0.000000  0.712084  0.119112  0.237206  0.293237|  0.000000  0.712084  0.119112  0.296932  0.321054|  4.000000  39.000000  19.000000  19.590000  7.605386|\n",
      "    400|  0.000000  0.712084  0.119112  0.325086  0.307658|  0.000000  0.712084  0.119112  0.343307  0.310879|  4.000000  39.000000  18.000000  18.420000  6.788490|\n",
      "    500|  0.000000  0.712084  0.130376  0.362045  0.299116|  0.000000  0.712084  0.165292  0.397760  0.302068|  6.000000  40.000000  19.000000  18.910000  5.746468|\n",
      "    600|  0.000000  0.712084  0.130376  0.344424  0.287989|  0.000000  0.712084  0.700819  0.455462  0.292858|  7.000000  40.000000  19.000000  18.740000  5.243320|\n",
      "    700|  0.117414  0.712084  0.130376  0.348802  0.277033|  0.119112  0.712084  0.700819  0.481778  0.277487|  9.000000  40.000000  20.000000  19.260000  4.215732|\n",
      "    800|  0.117414  0.712084  0.130376  0.346201  0.269555|  0.119112  0.712084  0.700819  0.484202  0.270208|  10.000000  40.000000  20.000000  20.190000  4.156188|\n",
      "    900|  0.117414  0.712084  0.130376  0.325940  0.258188|  0.119112  0.712084  0.700819  0.504071  0.259433|  10.000000  40.000000  21.000000  20.520000  4.097511|\n",
      "   1000|  0.117414  0.712084  0.130376  0.318247  0.248982|  0.119112  0.712084  0.700819  0.512249  0.249496|  9.000000  40.000000  21.000000  21.160000  5.070937|\n"
     ]
    }
   ],
   "source": [
    "ea = EA(problem,\n",
    "        max_generations=10,\n",
    "        initial_population=init_pop[:100])\n",
    "\n",
    "solutions = ea.run(simplify=False)"
   ]
  },
  {
   "cell_type": "markdown",
   "id": "aa16fe03",
   "metadata": {},
   "source": [
    "We may now have a look at the solutions as a dataframe or as a plot"
   ]
  },
  {
   "cell_type": "code",
   "execution_count": 18,
   "id": "cf72f00d",
   "metadata": {},
   "outputs": [
    {
     "data": {
      "text/html": [
       "<div>\n",
       "<style scoped>\n",
       "    .dataframe tbody tr th:only-of-type {\n",
       "        vertical-align: middle;\n",
       "    }\n",
       "\n",
       "    .dataframe tbody tr th {\n",
       "        vertical-align: top;\n",
       "    }\n",
       "\n",
       "    .dataframe thead th {\n",
       "        text-align: right;\n",
       "    }\n",
       "</style>\n",
       "<table border=\"1\" class=\"dataframe\">\n",
       "  <thead>\n",
       "    <tr style=\"text-align: right;\">\n",
       "      <th></th>\n",
       "      <th>Modification</th>\n",
       "      <th>Size</th>\n",
       "      <th>TargetFlux</th>\n",
       "      <th>TargetFlux</th>\n",
       "      <th>Size</th>\n",
       "    </tr>\n",
       "  </thead>\n",
       "  <tbody>\n",
       "    <tr>\n",
       "      <th>0</th>\n",
       "      <td>{'b1101_ec1': 0, 'b2458_ec2': 0, 'b1773_ec2': ...</td>\n",
       "      <td>40</td>\n",
       "      <td>0.117414</td>\n",
       "      <td>0.705363</td>\n",
       "      <td>40.0</td>\n",
       "    </tr>\n",
       "    <tr>\n",
       "      <th>1</th>\n",
       "      <td>{'b1819_ec1': 0, 'b3114_ec1': 0, 'b2463_ec1': ...</td>\n",
       "      <td>26</td>\n",
       "      <td>0.712084</td>\n",
       "      <td>0.119112</td>\n",
       "      <td>26.0</td>\n",
       "    </tr>\n",
       "    <tr>\n",
       "      <th>2</th>\n",
       "      <td>{'b1621_ec1': 0, 'b1101_ec2': 0, 'b4154_ec1': ...</td>\n",
       "      <td>17</td>\n",
       "      <td>0.119112</td>\n",
       "      <td>0.712084</td>\n",
       "      <td>17.0</td>\n",
       "    </tr>\n",
       "    <tr>\n",
       "      <th>3</th>\n",
       "      <td>{'b0356_ec2': 0, 'b1101_ec2': 0, 'b1621_ec1': ...</td>\n",
       "      <td>9</td>\n",
       "      <td>0.119112</td>\n",
       "      <td>0.712084</td>\n",
       "      <td>9.0</td>\n",
       "    </tr>\n",
       "    <tr>\n",
       "      <th>4</th>\n",
       "      <td>{'b2458_ec2': 0, 'b1773_ec2': 0, 'b3114_ec1': ...</td>\n",
       "      <td>35</td>\n",
       "      <td>0.117414</td>\n",
       "      <td>0.705363</td>\n",
       "      <td>35.0</td>\n",
       "    </tr>\n",
       "    <tr>\n",
       "      <th>...</th>\n",
       "      <td>...</td>\n",
       "      <td>...</td>\n",
       "      <td>...</td>\n",
       "      <td>...</td>\n",
       "      <td>...</td>\n",
       "    </tr>\n",
       "    <tr>\n",
       "      <th>87</th>\n",
       "      <td>{'b1101_ec1': 0, 'b2925_ec1': 0, 'b2133_ec1': ...</td>\n",
       "      <td>22</td>\n",
       "      <td>0.130376</td>\n",
       "      <td>0.700819</td>\n",
       "      <td>22.0</td>\n",
       "    </tr>\n",
       "    <tr>\n",
       "      <th>88</th>\n",
       "      <td>{'b2463_ec1': 0, 'b1702_ec2': 0, 'b2925_ec2': ...</td>\n",
       "      <td>19</td>\n",
       "      <td>0.130376</td>\n",
       "      <td>0.700819</td>\n",
       "      <td>19.0</td>\n",
       "    </tr>\n",
       "    <tr>\n",
       "      <th>89</th>\n",
       "      <td>{'b2925_ec1': 0, 'b2463_ec1': 0, 'b4395_ec2': ...</td>\n",
       "      <td>19</td>\n",
       "      <td>0.130376</td>\n",
       "      <td>0.700819</td>\n",
       "      <td>19.0</td>\n",
       "    </tr>\n",
       "    <tr>\n",
       "      <th>90</th>\n",
       "      <td>{'b0978_ec2': 0, 'b2925_ec1': 0, 'b2133_ec1': ...</td>\n",
       "      <td>19</td>\n",
       "      <td>0.130376</td>\n",
       "      <td>0.700819</td>\n",
       "      <td>19.0</td>\n",
       "    </tr>\n",
       "    <tr>\n",
       "      <th>91</th>\n",
       "      <td>{'b4154_ec2': 0, 'b2458_ec2': 0, 'b2925_ec1': ...</td>\n",
       "      <td>23</td>\n",
       "      <td>0.130376</td>\n",
       "      <td>0.700819</td>\n",
       "      <td>23.0</td>\n",
       "    </tr>\n",
       "  </tbody>\n",
       "</table>\n",
       "<p>92 rows × 5 columns</p>\n",
       "</div>"
      ],
      "text/plain": [
       "                                         Modification  Size  TargetFlux  \\\n",
       "0   {'b1101_ec1': 0, 'b2458_ec2': 0, 'b1773_ec2': ...    40    0.117414   \n",
       "1   {'b1819_ec1': 0, 'b3114_ec1': 0, 'b2463_ec1': ...    26    0.712084   \n",
       "2   {'b1621_ec1': 0, 'b1101_ec2': 0, 'b4154_ec1': ...    17    0.119112   \n",
       "3   {'b0356_ec2': 0, 'b1101_ec2': 0, 'b1621_ec1': ...     9    0.119112   \n",
       "4   {'b2458_ec2': 0, 'b1773_ec2': 0, 'b3114_ec1': ...    35    0.117414   \n",
       "..                                                ...   ...         ...   \n",
       "87  {'b1101_ec1': 0, 'b2925_ec1': 0, 'b2133_ec1': ...    22    0.130376   \n",
       "88  {'b2463_ec1': 0, 'b1702_ec2': 0, 'b2925_ec2': ...    19    0.130376   \n",
       "89  {'b2925_ec1': 0, 'b2463_ec1': 0, 'b4395_ec2': ...    19    0.130376   \n",
       "90  {'b0978_ec2': 0, 'b2925_ec1': 0, 'b2133_ec1': ...    19    0.130376   \n",
       "91  {'b4154_ec2': 0, 'b2458_ec2': 0, 'b2925_ec1': ...    23    0.130376   \n",
       "\n",
       "    TargetFlux  Size  \n",
       "0     0.705363  40.0  \n",
       "1     0.119112  26.0  \n",
       "2     0.712084  17.0  \n",
       "3     0.712084   9.0  \n",
       "4     0.705363  35.0  \n",
       "..         ...   ...  \n",
       "87    0.700819  22.0  \n",
       "88    0.700819  19.0  \n",
       "89    0.700819  19.0  \n",
       "90    0.700819  19.0  \n",
       "91    0.700819  23.0  \n",
       "\n",
       "[92 rows x 5 columns]"
      ]
     },
     "execution_count": 18,
     "metadata": {},
     "output_type": "execute_result"
    }
   ],
   "source": [
    "df = ea.dataframe()\n",
    "df"
   ]
  },
  {
   "cell_type": "code",
   "execution_count": 19,
   "id": "144cc4ef",
   "metadata": {},
   "outputs": [
    {
     "data": {
      "image/png": "[encoded data removed]",
      "text/plain": [
       "<Figure size 432x288 with 2 Axes>"
      ]
     },
     "metadata": {
      "needs_background": "light"
     },
     "output_type": "display_data"
    }
   ],
   "source": [
    "ea.plot()"
   ]
  },
  {
   "cell_type": "markdown",
   "id": "a084f809",
   "metadata": {},
   "source": [
    "We may even simulate one of the solution"
   ]
  },
  {
   "cell_type": "code",
   "execution_count": 20,
   "id": "6a0f2afe",
   "metadata": {},
   "outputs": [],
   "source": [
    "solution = solutions[8]"
   ]
  },
  {
   "cell_type": "code",
   "execution_count": 21,
   "id": "d0efbd3c",
   "metadata": {},
   "outputs": [
    {
     "data": {
      "text/html": [
       "<div>\n",
       "<style scoped>\n",
       "    .dataframe tbody tr th:only-of-type {\n",
       "        vertical-align: middle;\n",
       "    }\n",
       "\n",
       "    .dataframe tbody tr th {\n",
       "        vertical-align: top;\n",
       "    }\n",
       "\n",
       "    .dataframe thead th {\n",
       "        text-align: right;\n",
       "    }\n",
       "</style>\n",
       "<table border=\"1\" class=\"dataframe\">\n",
       "  <thead>\n",
       "    <tr style=\"text-align: right;\">\n",
       "      <th></th>\n",
       "      <th>Flux rate</th>\n",
       "    </tr>\n",
       "    <tr>\n",
       "      <th>Reaction ID</th>\n",
       "      <th></th>\n",
       "    </tr>\n",
       "  </thead>\n",
       "  <tbody>\n",
       "    <tr>\n",
       "      <th>BIOMASS_Ecoli_core_w_GAM_ec1</th>\n",
       "      <td>0.613285</td>\n",
       "    </tr>\n",
       "    <tr>\n",
       "      <th>BIOMASS_Ecoli_core_w_GAM_ec2</th>\n",
       "      <td>0.200208</td>\n",
       "    </tr>\n",
       "  </tbody>\n",
       "</table>\n",
       "</div>"
      ],
      "text/plain": [
       "                              Flux rate\n",
       "Reaction ID                            \n",
       "BIOMASS_Ecoli_core_w_GAM_ec1   0.613285\n",
       "BIOMASS_Ecoli_core_w_GAM_ec2   0.200208"
      ]
     },
     "execution_count": 21,
     "metadata": {},
     "output_type": "execute_result"
    }
   ],
   "source": [
    "problem.simulate(solution=solution.values,method='pFBA').find('BIOMASS',show_nulls=True)"
   ]
  },
  {
   "cell_type": "markdown",
   "id": "2787a893",
   "metadata": {},
   "source": [
    "or have a look to the reactions that were 'deleted'"
   ]
  },
  {
   "cell_type": "code",
   "execution_count": 22,
   "id": "c92e07da",
   "metadata": {},
   "outputs": [
    {
     "data": {
      "text/plain": [
       "{'FRD7_ec1': 0,\n",
       " 'FRUpts2_ec1': 0,\n",
       " 'GLCpts_ec1': 0,\n",
       " 'PPCK_ec1': 0,\n",
       " 'ATPS4r_ec2': 0,\n",
       " 'PTAr_ec1': 0,\n",
       " 'GLNabc_ec2': 0,\n",
       " 'FRD7_ec2': 0}"
      ]
     },
     "execution_count": 22,
     "metadata": {},
     "output_type": "execute_result"
    }
   ],
   "source": [
    "problem.solution_to_constraints(solution.values)"
   ]
  }
 ],
 "metadata": {
  "kernelspec": {
   "display_name": "'Python Interactive'",
   "language": "python",
   "name": "290eda42-6644-4090-8ab8-54482205eb0a"
  },
  "language_info": {
   "codemirror_mode": {
    "name": "ipython",
    "version": 3
   },
   "file_extension": ".py",
   "mimetype": "text/x-python",
   "name": "python",
   "nbconvert_exporter": "python",
   "pygments_lexer": "ipython3",
   "version": "3.9.12"
  }
 },
 "nbformat": 4,
 "nbformat_minor": 5
}
