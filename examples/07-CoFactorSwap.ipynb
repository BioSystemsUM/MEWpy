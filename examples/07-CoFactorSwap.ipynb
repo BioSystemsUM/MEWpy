{
 "cells": [
  {
   "cell_type": "markdown",
   "id": "f0482733",
   "metadata": {},
   "source": [
    "# Co-Factor Swap\n",
    "\n",
    "Uses co-factor swaps to optimize production of a target metabolite.\n",
    "\n",
    "Reference reading \n",
    "[https://doi.org/10.1016/j.ymben.2014.05.009](https://doi.org/10.1016/j.ymben.2014.05.009).\n"
   ]
  },
  {
   "cell_type": "code",
   "execution_count": 1,
   "id": "eb49ab51",
   "metadata": {},
   "outputs": [],
   "source": [
    "from cobra.io import read_sbml_model\n",
    "from reframed.io.sbml import load_cbmodel\n",
    "from mewpy.problems import CofactorSwapProblem\n",
    "from mewpy.optimization.evaluation import TargetFlux, BPCY\n",
    "from mewpy.optimization import EA\n",
    "from mewpy import get_simulator"
   ]
  },
  {
   "cell_type": "code",
   "execution_count": 2,
   "id": "d1400807",
   "metadata": {},
   "outputs": [
    {
     "name": "stdout",
     "output_type": "stream",
     "text": [
      "Set parameter Username\n",
      "Academic license - for non-commercial use only - expires 2023-10-30\n"
     ]
    }
   ],
   "source": [
    "model = read_sbml_model('../models/ec/iJO1366.xml')"
   ]
  },
  {
   "cell_type": "code",
   "execution_count": 3,
   "id": "9f62ac44",
   "metadata": {},
   "outputs": [],
   "source": [
    "for rid in ['FHL', 'CAT', 'SPODM', 'SPODMpp']:\n",
    "    model.reactions.get_by_id(rid).knock_out()\n",
    "model.reactions.POR5.lower_bound = 0\n",
    "model.reactions.EX_glc__D_e.lower_bound = -10\n",
    "model.reactions.EX_o2_e.lower_bound = -10"
   ]
  },
  {
   "cell_type": "code",
   "execution_count": 4,
   "id": "fff90a16",
   "metadata": {},
   "outputs": [],
   "source": [
    "BIOMASS = 'BIOMASS_Ec_iJO1366_core_53p95M'\n",
    "PRODUCT = 'EX_thr__L_e'"
   ]
  },
  {
   "cell_type": "code",
   "execution_count": 5,
   "id": "50a53653",
   "metadata": {},
   "outputs": [
    {
     "name": "stdout",
     "output_type": "stream",
     "text": [
      "Read LP format model from file /var/folders/fw/kbs61_l15j587pjbwf3_y8780000gn/T/tmpml814svu.lp\n",
      "Reading time = 0.01 seconds\n",
      ": 1805 rows, 5166 columns, 20366 nonzeros\n"
     ]
    }
   ],
   "source": [
    "objectives = [TargetFlux(PRODUCT)]\n",
    "\n",
    "problem = CofactorSwapProblem(model,objectives)\n",
    "\n",
    "problem.simulator.set_reaction_bounds(BIOMASS,0.1,1000)\n",
    "problem.simulator.objective=PRODUCT\n"
   ]
  },
  {
   "cell_type": "code",
   "execution_count": 6,
   "id": "94804bed",
   "metadata": {},
   "outputs": [
    {
     "name": "stdout",
     "output_type": "stream",
     "text": [
      "Running GA\n",
      "Evaluations: 100\tFitness: 11.545761829545475\n",
      "Evaluations: 200\tFitness: 12.082439942995249\n",
      "Evaluations: 300\tFitness: 12.082439942995249\n",
      "Evaluations: 400\tFitness: 12.08243994299525\n",
      "Evaluations: 500\tFitness: 12.08243994299525\n",
      "Evaluations: 600\tFitness: 12.082439942995268\n",
      "Evaluations: 700\tFitness: 12.082439942995272\n",
      "Evaluations: 800\tFitness: 12.082439942995272\n",
      "Evaluations: 900\tFitness: 12.082439942995272\n",
      "Evaluations: 1000\tFitness: 12.082439942995272\n"
     ]
    }
   ],
   "source": [
    "ea = EA(problem,max_generations=10)\n",
    "final_population = ea.run()"
   ]
  },
  {
   "cell_type": "code",
   "execution_count": 7,
   "id": "bbd862a9",
   "metadata": {},
   "outputs": [
    {
     "data": {
      "text/html": [
       "<div>\n",
       "<style scoped>\n",
       "    .dataframe tbody tr th:only-of-type {\n",
       "        vertical-align: middle;\n",
       "    }\n",
       "\n",
       "    .dataframe tbody tr th {\n",
       "        vertical-align: top;\n",
       "    }\n",
       "\n",
       "    .dataframe thead th {\n",
       "        text-align: right;\n",
       "    }\n",
       "</style>\n",
       "<table border=\"1\" class=\"dataframe\">\n",
       "  <thead>\n",
       "    <tr style=\"text-align: right;\">\n",
       "      <th></th>\n",
       "      <th>Modification</th>\n",
       "      <th>Size</th>\n",
       "      <th>TargetFlux</th>\n",
       "    </tr>\n",
       "  </thead>\n",
       "  <tbody>\n",
       "    <tr>\n",
       "      <th>0</th>\n",
       "      <td>{'TRSARr': 0}</td>\n",
       "      <td>1</td>\n",
       "      <td>12.08244</td>\n",
       "    </tr>\n",
       "  </tbody>\n",
       "</table>\n",
       "</div>"
      ],
      "text/plain": [
       "    Modification  Size  TargetFlux\n",
       "0  {'TRSARr': 0}     1    12.08244"
      ]
     },
     "execution_count": 7,
     "metadata": {},
     "output_type": "execute_result"
    }
   ],
   "source": [
    "ea.dataframe()"
   ]
  },
  {
   "cell_type": "code",
   "execution_count": 8,
   "id": "f82c9aa0",
   "metadata": {},
   "outputs": [],
   "source": [
    "constraints = final_population[0].constraints\n",
    "res = problem.simulate(constraints=constraints)"
   ]
  },
  {
   "cell_type": "code",
   "execution_count": 9,
   "id": "6fe94376",
   "metadata": {},
   "outputs": [
    {
     "data": {
      "text/html": [
       "<div>\n",
       "<style scoped>\n",
       "    .dataframe tbody tr th:only-of-type {\n",
       "        vertical-align: middle;\n",
       "    }\n",
       "\n",
       "    .dataframe tbody tr th {\n",
       "        vertical-align: top;\n",
       "    }\n",
       "\n",
       "    .dataframe thead th {\n",
       "        text-align: right;\n",
       "    }\n",
       "</style>\n",
       "<table border=\"1\" class=\"dataframe\">\n",
       "  <thead>\n",
       "    <tr style=\"text-align: right;\">\n",
       "      <th></th>\n",
       "      <th>Flux rate</th>\n",
       "    </tr>\n",
       "    <tr>\n",
       "      <th>Reaction ID</th>\n",
       "      <th></th>\n",
       "    </tr>\n",
       "  </thead>\n",
       "  <tbody>\n",
       "    <tr>\n",
       "      <th>EX_glc__D_e</th>\n",
       "      <td>-10.00000</td>\n",
       "    </tr>\n",
       "    <tr>\n",
       "      <th>BIOMASS_Ec_iJO1366_core_53p95M</th>\n",
       "      <td>0.10000</td>\n",
       "    </tr>\n",
       "    <tr>\n",
       "      <th>EX_thr__L_e</th>\n",
       "      <td>12.08244</td>\n",
       "    </tr>\n",
       "  </tbody>\n",
       "</table>\n",
       "</div>"
      ],
      "text/plain": [
       "                                Flux rate\n",
       "Reaction ID                              \n",
       "EX_glc__D_e                     -10.00000\n",
       "BIOMASS_Ec_iJO1366_core_53p95M    0.10000\n",
       "EX_thr__L_e                      12.08244"
      ]
     },
     "execution_count": 9,
     "metadata": {},
     "output_type": "execute_result"
    }
   ],
   "source": [
    "res.find([BIOMASS,PRODUCT,'glc'])"
   ]
  }
 ],
 "metadata": {
  "kernelspec": {
   "display_name": "cobra",
   "language": "python",
   "name": "cobra"
  },
  "language_info": {
   "codemirror_mode": {
    "name": "ipython",
    "version": 3
   },
   "file_extension": ".py",
   "mimetype": "text/x-python",
   "name": "python",
   "nbconvert_exporter": "python",
   "pygments_lexer": "ipython3",
   "version": "3.9.15"
  }
 },
 "nbformat": 4,
 "nbformat_minor": 5
}
