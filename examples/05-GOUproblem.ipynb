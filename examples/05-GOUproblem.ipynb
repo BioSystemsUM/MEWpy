{
 "cells": [
  {
   "cell_type": "markdown",
   "metadata": {},
   "source": [
    "# MEWpy example\n",
    "\n",
    "Increasing the production of succinate in E.coli by modifying genes expression."
   ]
  },
  {
   "cell_type": "markdown",
   "metadata": {},
   "source": [
    "We start by loading the Genome-scale Metabolic Model using REFRAMED or COBRApy."
   ]
  },
  {
   "cell_type": "code",
   "execution_count": 1,
   "metadata": {},
   "outputs": [],
   "source": [
    "from cobra.io.sbml import read_sbml_model\n",
    "\n",
    "model = read_sbml_model('models/ec/e_coli_core.xml.gz')"
   ]
  },
  {
   "cell_type": "markdown",
   "metadata": {},
   "source": [
    "and import the required modules."
   ]
  },
  {
   "cell_type": "code",
   "execution_count": 2,
   "metadata": {},
   "outputs": [],
   "source": [
    "from mewpy.optimization.evaluation import BPCY,WYIELD\n",
    "from mewpy.problems import GOUProblem\n",
    "from mewpy.simulation import get_simulator"
   ]
  },
  {
   "cell_type": "markdown",
   "metadata": {},
   "source": [
    "We may have a quick look into the reactions included in the model"
   ]
  },
  {
   "cell_type": "code",
   "execution_count": 3,
   "metadata": {},
   "outputs": [
    {
     "data": {
      "text/html": [
       "<div>\n",
       "<style scoped>\n",
       "    .dataframe tbody tr th:only-of-type {\n",
       "        vertical-align: middle;\n",
       "    }\n",
       "\n",
       "    .dataframe tbody tr th {\n",
       "        vertical-align: top;\n",
       "    }\n",
       "\n",
       "    .dataframe thead th {\n",
       "        text-align: right;\n",
       "    }\n",
       "</style>\n",
       "<table border=\"1\" class=\"dataframe\">\n",
       "  <thead>\n",
       "    <tr style=\"text-align: right;\">\n",
       "      <th></th>\n",
       "      <th>name</th>\n",
       "      <th>lb</th>\n",
       "      <th>ub</th>\n",
       "    </tr>\n",
       "    <tr>\n",
       "      <th>id</th>\n",
       "      <th></th>\n",
       "      <th></th>\n",
       "      <th></th>\n",
       "    </tr>\n",
       "  </thead>\n",
       "  <tbody>\n",
       "    <tr>\n",
       "      <th>BIOMASS_Ecoli_core_w_GAM</th>\n",
       "      <td>Biomass Objective Function with GAM</td>\n",
       "      <td>0.0</td>\n",
       "      <td>1000.0</td>\n",
       "    </tr>\n",
       "    <tr>\n",
       "      <th>EX_glc__D_e</th>\n",
       "      <td>D-Glucose exchange</td>\n",
       "      <td>-10.0</td>\n",
       "      <td>1000.0</td>\n",
       "    </tr>\n",
       "    <tr>\n",
       "      <th>EX_o2_e</th>\n",
       "      <td>O2 exchange</td>\n",
       "      <td>-1000.0</td>\n",
       "      <td>1000.0</td>\n",
       "    </tr>\n",
       "    <tr>\n",
       "      <th>EX_succ_e</th>\n",
       "      <td>Succinate exchange</td>\n",
       "      <td>0.0</td>\n",
       "      <td>1000.0</td>\n",
       "    </tr>\n",
       "  </tbody>\n",
       "</table>\n",
       "</div>"
      ],
      "text/plain": [
       "                                                         name      lb      ub\n",
       "id                                                                           \n",
       "BIOMASS_Ecoli_core_w_GAM  Biomass Objective Function with GAM     0.0  1000.0\n",
       "EX_glc__D_e                                D-Glucose exchange   -10.0  1000.0\n",
       "EX_o2_e                                           O2 exchange -1000.0  1000.0\n",
       "EX_succ_e                                  Succinate exchange     0.0  1000.0"
      ]
     },
     "execution_count": 3,
     "metadata": {},
     "output_type": "execute_result"
    }
   ],
   "source": [
    "sim = get_simulator(model)\n",
    "sim.find(['BIOMASS','EX_o2_','EX_glc_','EX_succ_']).drop(columns=['stoichiometry','gpr','annotations'])"
   ]
  },
  {
   "cell_type": "markdown",
   "metadata": {},
   "source": [
    "We can now define the optimization problem by defining the medium and objective functions, BPCY and WYIELD."
   ]
  },
  {
   "cell_type": "code",
   "execution_count": 4,
   "metadata": {},
   "outputs": [],
   "source": [
    "BIOMASS_ID = 'BIOMASS_Ecoli_core_w_GAM'\n",
    "O2 = 'EX_o2_e'\n",
    "GLC = 'EX_glc__D_e'\n",
    "PRODUCT_ID = 'EX_succ_e'\n",
    "sim.objective = BIOMASS_ID\n",
    "\n",
    "evaluator_1 = BPCY(BIOMASS_ID, PRODUCT_ID, method = 'lMOMA')\n",
    "evaluator_2 = WYIELD(BIOMASS_ID,PRODUCT_ID)\n",
    "\n",
    "medium = {GLC:(-10,1000),O2:(-20,1000)}"
   ]
  },
  {
   "cell_type": "markdown",
   "metadata": {},
   "source": [
    "We instantiate the problem, a gene over/under expression problem."
   ]
  },
  {
   "cell_type": "code",
   "execution_count": 5,
   "metadata": {},
   "outputs": [],
   "source": [
    "problem = GOUProblem(model,\n",
    "                     [evaluator_1,evaluator_2],\n",
    "                     envcond=medium,\n",
    "                     candidate_min_size=2,\n",
    "                     candidate_max_size=6\n",
    "                     )"
   ]
  },
  {
   "cell_type": "markdown",
   "metadata": {},
   "source": [
    "An EA optimizer is instantiated for the defined optimization problem and ran. The `max_generations` value depends on the difficulty and size of the solution space. For illustrative purposes, we only will consider 10 iterations."
   ]
  },
  {
   "cell_type": "code",
   "execution_count": 6,
   "metadata": {},
   "outputs": [
    {
     "name": "stdout",
     "output_type": "stream",
     "text": [
      "Running NSGAII\n",
      "Eval(s)|     Worst      Best    Median   Average   Std Dev|     Worst      Best    Median   Average   Std Dev|\n",
      "    100|  0.000000  0.000000  0.000000  0.000000  0.000000|  0.000000  4.176218  0.027958  0.085566  0.413395|\n",
      "    200|  0.000000  0.000000  0.000000  0.000000  0.000000|  0.023941  4.176218  0.091307  0.167364  0.575745|\n",
      "    300|  0.000000  0.000000  0.000000  0.000000  0.000000|  0.103086  4.361139  0.103086  0.325617  0.896205|\n",
      "    400|  0.000000  0.000000  0.000000  0.000000  0.000000|  0.103086  4.361139  0.105533  0.737138  1.439676|\n",
      "    500|  0.000000  0.000000  0.000000  0.000000  0.000000|  0.112671  4.361139  0.137993  1.769197  1.956861|\n",
      "    600|  0.000000  2.502324  0.000000  0.025023  0.248978|  2.660304  7.365741  4.176218  4.198621  0.427755|\n",
      "    700|  0.000000  2.502324  0.000000  0.100093  0.490353|  4.176218  7.365741  4.361139  4.409516  0.609786|\n",
      "    800|  0.000000  2.502324  0.000000  0.250232  0.750697|  4.361139  7.365741  4.361139  4.661599  0.901380|\n",
      "    900|  0.000000  2.502324  0.000000  0.625581  1.083538|  4.361139  7.365741  4.361139  5.112290  1.301031|\n",
      "   1000|  0.000000  2.502324  2.502324  1.644012  1.175972|  4.361139  8.082702  7.365741  6.387538  1.425185|\n",
      "   1100|  0.749913  2.502324  2.502324  2.451284  0.285434|  7.365741  8.082702  7.365741  7.388591  0.118723|\n",
      "   1200|  0.749913  2.502324  2.502324  2.361722  0.466952|  7.365741  8.082702  7.365741  7.429170  0.193429|\n",
      "   1300|  0.749913  2.502324  2.502324  2.146169  0.687087|  7.365741  8.082702  7.365741  7.533107  0.279686|\n",
      "   1400|  0.749913  2.502324  2.405245  1.832316  0.815924|  7.365741  8.082702  7.602300  7.698912  0.303129|\n",
      "   1500|  0.749913  2.502324  2.405245  1.606812  0.824024|  7.365741  8.082702  7.602300  7.824922  0.249036|\n",
      "   1600|  0.749913  2.502324  2.405245  2.059409  0.670002|  7.365741  8.248792  7.602300  7.688754  0.210866|\n",
      "   1700|  0.774104  2.502324  2.405245  2.353489  0.279972|  7.365741  8.248792  7.602300  7.611358  0.116095|\n",
      "   1800|  0.774104  2.502324  2.405245  2.321599  0.347644|  7.365741  8.248792  7.602300  7.610562  0.149040|\n",
      "   1900|  0.774104  2.502324  2.405245  2.247317  0.473248|  7.365741  8.248792  7.602300  7.609213  0.216220|\n",
      "   2000|  0.774104  2.870729  2.405245  2.090115  0.605827|  5.709827  8.248792  7.602300  7.600257  0.350192|\n"
     ]
    }
   ],
   "source": [
    "from mewpy.optimization import EA\n",
    "import warnings\n",
    "warnings.filterwarnings(\"ignore\")\n",
    "ea = EA(problem, max_generations= 20)\n",
    "final_pop = ea.run()"
   ]
  },
  {
   "cell_type": "code",
   "execution_count": 7,
   "metadata": {},
   "outputs": [
    {
     "data": {
      "text/html": [
       "<div>\n",
       "<style scoped>\n",
       "    .dataframe tbody tr th:only-of-type {\n",
       "        vertical-align: middle;\n",
       "    }\n",
       "\n",
       "    .dataframe tbody tr th {\n",
       "        vertical-align: top;\n",
       "    }\n",
       "\n",
       "    .dataframe thead th {\n",
       "        text-align: right;\n",
       "    }\n",
       "</style>\n",
       "<table border=\"1\" class=\"dataframe\">\n",
       "  <thead>\n",
       "    <tr style=\"text-align: right;\">\n",
       "      <th></th>\n",
       "      <th>Modification</th>\n",
       "      <th>Size</th>\n",
       "      <th>BPCY</th>\n",
       "      <th>WYIELD</th>\n",
       "    </tr>\n",
       "  </thead>\n",
       "  <tbody>\n",
       "    <tr>\n",
       "      <th>0</th>\n",
       "      <td>{'b4090': 0.03125, 'b3236': 2, 'b2914': 0, 'b0...</td>\n",
       "      <td>4</td>\n",
       "      <td>0.774104</td>\n",
       "      <td>8.248792</td>\n",
       "    </tr>\n",
       "    <tr>\n",
       "      <th>1</th>\n",
       "      <td>{'b3236': 2, 'b0721': 0.03125}</td>\n",
       "      <td>2</td>\n",
       "      <td>2.502324</td>\n",
       "      <td>7.365741</td>\n",
       "    </tr>\n",
       "    <tr>\n",
       "      <th>2</th>\n",
       "      <td>{'b3236': 2, 'b3732': 0, 'b0721': 0}</td>\n",
       "      <td>3</td>\n",
       "      <td>1.476403</td>\n",
       "      <td>7.617307</td>\n",
       "    </tr>\n",
       "    <tr>\n",
       "      <th>3</th>\n",
       "      <td>{'b1136': 0.03125, 'b3236': 2, 'b0721': 0}</td>\n",
       "      <td>3</td>\n",
       "      <td>1.032442</td>\n",
       "      <td>8.146401</td>\n",
       "    </tr>\n",
       "    <tr>\n",
       "      <th>4</th>\n",
       "      <td>{'b3236': 2, 'b0721': 0}</td>\n",
       "      <td>2</td>\n",
       "      <td>2.405245</td>\n",
       "      <td>7.602300</td>\n",
       "    </tr>\n",
       "    <tr>\n",
       "      <th>5</th>\n",
       "      <td>{'b1136': 0.03125, 'b3236': 2, 'b0721': 0}</td>\n",
       "      <td>3</td>\n",
       "      <td>1.032442</td>\n",
       "      <td>8.146401</td>\n",
       "    </tr>\n",
       "    <tr>\n",
       "      <th>6</th>\n",
       "      <td>{'b3236': 2, 'b1603': 0, 'b0721': 0}</td>\n",
       "      <td>3</td>\n",
       "      <td>2.024576</td>\n",
       "      <td>7.602300</td>\n",
       "    </tr>\n",
       "    <tr>\n",
       "      <th>7</th>\n",
       "      <td>{'b3236': 2, 'b0721': 0.25}</td>\n",
       "      <td>2</td>\n",
       "      <td>2.870729</td>\n",
       "      <td>5.709827</td>\n",
       "    </tr>\n",
       "    <tr>\n",
       "      <th>8</th>\n",
       "      <td>{'b3236': 2, 'b0721': 0}</td>\n",
       "      <td>2</td>\n",
       "      <td>2.405245</td>\n",
       "      <td>7.602300</td>\n",
       "    </tr>\n",
       "    <tr>\n",
       "      <th>9</th>\n",
       "      <td>{'b3236': 2, 'b0721': 0.125}</td>\n",
       "      <td>2</td>\n",
       "      <td>2.726887</td>\n",
       "      <td>6.656063</td>\n",
       "    </tr>\n",
       "    <tr>\n",
       "      <th>10</th>\n",
       "      <td>{'b1136': 0.03125, 'b3236': 2, 'b0721': 0}</td>\n",
       "      <td>3</td>\n",
       "      <td>1.032442</td>\n",
       "      <td>8.146401</td>\n",
       "    </tr>\n",
       "    <tr>\n",
       "      <th>11</th>\n",
       "      <td>{'b3236': 2, 'b3732': 0, 'b0721': 0}</td>\n",
       "      <td>3</td>\n",
       "      <td>1.476403</td>\n",
       "      <td>7.617307</td>\n",
       "    </tr>\n",
       "    <tr>\n",
       "      <th>12</th>\n",
       "      <td>{'b3236': 2, 'b0721': 0}</td>\n",
       "      <td>2</td>\n",
       "      <td>2.405245</td>\n",
       "      <td>7.602300</td>\n",
       "    </tr>\n",
       "    <tr>\n",
       "      <th>13</th>\n",
       "      <td>{'b3236': 2, 'b1603': 0, 'b0721': 0}</td>\n",
       "      <td>3</td>\n",
       "      <td>2.024576</td>\n",
       "      <td>7.602300</td>\n",
       "    </tr>\n",
       "    <tr>\n",
       "      <th>14</th>\n",
       "      <td>{'b3236': 2, 'b0721': 0}</td>\n",
       "      <td>2</td>\n",
       "      <td>2.405245</td>\n",
       "      <td>7.602300</td>\n",
       "    </tr>\n",
       "    <tr>\n",
       "      <th>15</th>\n",
       "      <td>{'b3236': 2, 'b0721': 0}</td>\n",
       "      <td>2</td>\n",
       "      <td>2.405245</td>\n",
       "      <td>7.602300</td>\n",
       "    </tr>\n",
       "  </tbody>\n",
       "</table>\n",
       "</div>"
      ],
      "text/plain": [
       "                                         Modification  Size      BPCY  \\\n",
       "0   {'b4090': 0.03125, 'b3236': 2, 'b2914': 0, 'b0...     4  0.774104   \n",
       "1                      {'b3236': 2, 'b0721': 0.03125}     2  2.502324   \n",
       "2                {'b3236': 2, 'b3732': 0, 'b0721': 0}     3  1.476403   \n",
       "3          {'b1136': 0.03125, 'b3236': 2, 'b0721': 0}     3  1.032442   \n",
       "4                            {'b3236': 2, 'b0721': 0}     2  2.405245   \n",
       "5          {'b1136': 0.03125, 'b3236': 2, 'b0721': 0}     3  1.032442   \n",
       "6                {'b3236': 2, 'b1603': 0, 'b0721': 0}     3  2.024576   \n",
       "7                         {'b3236': 2, 'b0721': 0.25}     2  2.870729   \n",
       "8                            {'b3236': 2, 'b0721': 0}     2  2.405245   \n",
       "9                        {'b3236': 2, 'b0721': 0.125}     2  2.726887   \n",
       "10         {'b1136': 0.03125, 'b3236': 2, 'b0721': 0}     3  1.032442   \n",
       "11               {'b3236': 2, 'b3732': 0, 'b0721': 0}     3  1.476403   \n",
       "12                           {'b3236': 2, 'b0721': 0}     2  2.405245   \n",
       "13               {'b3236': 2, 'b1603': 0, 'b0721': 0}     3  2.024576   \n",
       "14                           {'b3236': 2, 'b0721': 0}     2  2.405245   \n",
       "15                           {'b3236': 2, 'b0721': 0}     2  2.405245   \n",
       "\n",
       "      WYIELD  \n",
       "0   8.248792  \n",
       "1   7.365741  \n",
       "2   7.617307  \n",
       "3   8.146401  \n",
       "4   7.602300  \n",
       "5   8.146401  \n",
       "6   7.602300  \n",
       "7   5.709827  \n",
       "8   7.602300  \n",
       "9   6.656063  \n",
       "10  8.146401  \n",
       "11  7.617307  \n",
       "12  7.602300  \n",
       "13  7.602300  \n",
       "14  7.602300  \n",
       "15  7.602300  "
      ]
     },
     "execution_count": 7,
     "metadata": {},
     "output_type": "execute_result"
    }
   ],
   "source": [
    "ea.dataframe()"
   ]
  },
  {
   "cell_type": "code",
   "execution_count": 10,
   "metadata": {},
   "outputs": [
    {
     "data": {
      "image/png": "[encoded data removed]",
      "text/plain": [
       "<Figure size 432x288 with 1 Axes>"
      ]
     },
     "metadata": {
      "needs_background": "light"
     },
     "output_type": "display_data"
    }
   ],
   "source": [
    "ea.plot()"
   ]
  },
  {
   "cell_type": "code",
   "execution_count": 8,
   "metadata": {},
   "outputs": [
    {
     "data": {
      "text/plain": [
       "{'b4090': 0.03125, 'b3236': 2, 'b2914': 0, 'b0721': 0}"
      ]
     },
     "execution_count": 8,
     "metadata": {},
     "output_type": "execute_result"
    }
   ],
   "source": [
    "final_pop[0].values"
   ]
  },
  {
   "cell_type": "code",
   "execution_count": 9,
   "metadata": {},
   "outputs": [
    {
     "data": {
      "text/html": [
       "<div>\n",
       "<style scoped>\n",
       "    .dataframe tbody tr th:only-of-type {\n",
       "        vertical-align: middle;\n",
       "    }\n",
       "\n",
       "    .dataframe tbody tr th {\n",
       "        vertical-align: top;\n",
       "    }\n",
       "\n",
       "    .dataframe thead th {\n",
       "        text-align: right;\n",
       "    }\n",
       "</style>\n",
       "<table border=\"1\" class=\"dataframe\">\n",
       "  <thead>\n",
       "    <tr style=\"text-align: right;\">\n",
       "      <th></th>\n",
       "      <th>Flux rate</th>\n",
       "    </tr>\n",
       "    <tr>\n",
       "      <th>Reaction ID</th>\n",
       "      <th></th>\n",
       "    </tr>\n",
       "  </thead>\n",
       "  <tbody>\n",
       "    <tr>\n",
       "      <th>BIOMASS_Ecoli_core_w_GAM</th>\n",
       "      <td>0.101954</td>\n",
       "    </tr>\n",
       "    <tr>\n",
       "      <th>EX_succ_e</th>\n",
       "      <td>7.592670</td>\n",
       "    </tr>\n",
       "  </tbody>\n",
       "</table>\n",
       "</div>"
      ],
      "text/plain": [
       "                          Flux rate\n",
       "Reaction ID                        \n",
       "BIOMASS_Ecoli_core_w_GAM   0.101954\n",
       "EX_succ_e                  7.592670"
      ]
     },
     "execution_count": 9,
     "metadata": {},
     "output_type": "execute_result"
    }
   ],
   "source": [
    "res = problem.simulate(solution=final_pop[0].values,method='pFBA')\n",
    "res.find([PRODUCT_ID,BIOMASS_ID])"
   ]
  },
  {
   "cell_type": "code",
   "execution_count": null,
   "metadata": {},
   "outputs": [],
   "source": []
  }
 ],
 "metadata": {
  "kernelspec": {
   "display_name": "Python 3 (ipykernel)",
   "language": "python",
   "name": "python3"
  },
  "language_info": {
   "codemirror_mode": {
    "name": "ipython",
    "version": 3
   },
   "file_extension": ".py",
   "mimetype": "text/x-python",
   "name": "python",
   "nbconvert_exporter": "python",
   "pygments_lexer": "ipython3",
   "version": "3.7.13"
  },
  "vscode": {
   "interpreter": {
    "hash": "4d63cecbd4ee7a4964b1e14fac35e632f419fb342d4e4353e8cedd6749d678e0"
   }
  }
 },
 "nbformat": 4,
 "nbformat_minor": 2
}
